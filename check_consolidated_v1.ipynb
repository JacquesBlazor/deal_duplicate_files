{
 "cells": [
  {
   "cell_type": "code",
   "execution_count": 1,
   "metadata": {
    "collapsed": true
   },
   "outputs": [],
   "source": [
    "import os\n",
    "import json\n",
    "import pickle\n",
    "import pandas as pd"
   ]
  },
  {
   "cell_type": "code",
   "execution_count": 2,
   "outputs": [
    {
     "data": {
      "text/plain": "          索引                           檔案資料夾                     檔案名稱  \\\n0          0                     .Thumbnails            Anthurium.jpg   \n1          0                     .Thumbnails     Bird Of Paradise.jpg   \n2          0                     .Thumbnails             Daffodil.jpg   \n3          0                     .Thumbnails        Gloriosa Lily.jpg   \n4          0                     .Thumbnails  Phalaenopsis Orchid.jpg   \n...      ...                             ...                      ...   \n114659  7633  達人必學 Python 3.x 程式設計-最新版_書摘要掃描             usb-0065.jpg   \n114660  7633  達人必學 Python 3.x 程式設計-最新版_書摘要掃描             usb-0066.jpg   \n114661  7633  達人必學 Python 3.x 程式設計-最新版_書摘要掃描             usb-0067.jpg   \n114662  7633  達人必學 Python 3.x 程式設計-最新版_書摘要掃描             usb-0068.jpg   \n114663  7633  達人必學 Python 3.x 程式設計-最新版_書摘要掃描             usb-0069.jpg   \n\n                                                     完整路徑  檔案類型  \\\n0       D:\\_eBooks 電子書 Excel + VBA\\Excel VBA 工作效率UP！Ex...  .jpg   \n1       D:\\_eBooks 電子書 Excel + VBA\\Excel VBA 工作效率UP！Ex...  .jpg   \n2       D:\\_eBooks 電子書 Excel + VBA\\Excel VBA 工作效率UP！Ex...  .jpg   \n3       D:\\_eBooks 電子書 Excel + VBA\\Excel VBA 工作效率UP！Ex...  .jpg   \n4       D:\\_eBooks 電子書 Excel + VBA\\Excel VBA 工作效率UP！Ex...  .jpg   \n...                                                   ...   ...   \n114659  Z:\\資訊書籍文件\\Python 達人必學 Python 3.x 程式設計\\達人必學 Pyt...  .jpg   \n114660  Z:\\資訊書籍文件\\Python 達人必學 Python 3.x 程式設計\\達人必學 Pyt...  .jpg   \n114661  Z:\\資訊書籍文件\\Python 達人必學 Python 3.x 程式設計\\達人必學 Pyt...  .jpg   \n114662  Z:\\資訊書籍文件\\Python 達人必學 Python 3.x 程式設計\\達人必學 Pyt...  .jpg   \n114663  Z:\\資訊書籍文件\\Python 達人必學 Python 3.x 程式設計\\達人必學 Pyt...  .jpg   \n\n                                                       路徑 差異磁碟機  \n0       D:\\_eBooks 電子書 Excel + VBA\\Excel VBA 工作效率UP！Ex...    D:  \n1       D:\\_eBooks 電子書 Excel + VBA\\Excel VBA 工作效率UP！Ex...    D:  \n2       D:\\_eBooks 電子書 Excel + VBA\\Excel VBA 工作效率UP！Ex...    D:  \n3       D:\\_eBooks 電子書 Excel + VBA\\Excel VBA 工作效率UP！Ex...    D:  \n4       D:\\_eBooks 電子書 Excel + VBA\\Excel VBA 工作效率UP！Ex...    D:  \n...                                                   ...   ...  \n114659  Z:\\資訊書籍文件\\Python 達人必學 Python 3.x 程式設計\\達人必學 Pyt...    Z:  \n114660  Z:\\資訊書籍文件\\Python 達人必學 Python 3.x 程式設計\\達人必學 Pyt...    Z:  \n114661  Z:\\資訊書籍文件\\Python 達人必學 Python 3.x 程式設計\\達人必學 Pyt...    Z:  \n114662  Z:\\資訊書籍文件\\Python 達人必學 Python 3.x 程式設計\\達人必學 Pyt...    Z:  \n114663  Z:\\資訊書籍文件\\Python 達人必學 Python 3.x 程式設計\\達人必學 Pyt...    Z:  \n\n[114664 rows x 7 columns]",
      "text/html": "<div>\n<style scoped>\n    .dataframe tbody tr th:only-of-type {\n        vertical-align: middle;\n    }\n\n    .dataframe tbody tr th {\n        vertical-align: top;\n    }\n\n    .dataframe thead th {\n        text-align: right;\n    }\n</style>\n<table border=\"1\" class=\"dataframe\">\n  <thead>\n    <tr style=\"text-align: right;\">\n      <th></th>\n      <th>索引</th>\n      <th>檔案資料夾</th>\n      <th>檔案名稱</th>\n      <th>完整路徑</th>\n      <th>檔案類型</th>\n      <th>路徑</th>\n      <th>差異磁碟機</th>\n    </tr>\n  </thead>\n  <tbody>\n    <tr>\n      <th>0</th>\n      <td>0</td>\n      <td>.Thumbnails</td>\n      <td>Anthurium.jpg</td>\n      <td>D:\\_eBooks 電子書 Excel + VBA\\Excel VBA 工作效率UP！Ex...</td>\n      <td>.jpg</td>\n      <td>D:\\_eBooks 電子書 Excel + VBA\\Excel VBA 工作效率UP！Ex...</td>\n      <td>D:</td>\n    </tr>\n    <tr>\n      <th>1</th>\n      <td>0</td>\n      <td>.Thumbnails</td>\n      <td>Bird Of Paradise.jpg</td>\n      <td>D:\\_eBooks 電子書 Excel + VBA\\Excel VBA 工作效率UP！Ex...</td>\n      <td>.jpg</td>\n      <td>D:\\_eBooks 電子書 Excel + VBA\\Excel VBA 工作效率UP！Ex...</td>\n      <td>D:</td>\n    </tr>\n    <tr>\n      <th>2</th>\n      <td>0</td>\n      <td>.Thumbnails</td>\n      <td>Daffodil.jpg</td>\n      <td>D:\\_eBooks 電子書 Excel + VBA\\Excel VBA 工作效率UP！Ex...</td>\n      <td>.jpg</td>\n      <td>D:\\_eBooks 電子書 Excel + VBA\\Excel VBA 工作效率UP！Ex...</td>\n      <td>D:</td>\n    </tr>\n    <tr>\n      <th>3</th>\n      <td>0</td>\n      <td>.Thumbnails</td>\n      <td>Gloriosa Lily.jpg</td>\n      <td>D:\\_eBooks 電子書 Excel + VBA\\Excel VBA 工作效率UP！Ex...</td>\n      <td>.jpg</td>\n      <td>D:\\_eBooks 電子書 Excel + VBA\\Excel VBA 工作效率UP！Ex...</td>\n      <td>D:</td>\n    </tr>\n    <tr>\n      <th>4</th>\n      <td>0</td>\n      <td>.Thumbnails</td>\n      <td>Phalaenopsis Orchid.jpg</td>\n      <td>D:\\_eBooks 電子書 Excel + VBA\\Excel VBA 工作效率UP！Ex...</td>\n      <td>.jpg</td>\n      <td>D:\\_eBooks 電子書 Excel + VBA\\Excel VBA 工作效率UP！Ex...</td>\n      <td>D:</td>\n    </tr>\n    <tr>\n      <th>...</th>\n      <td>...</td>\n      <td>...</td>\n      <td>...</td>\n      <td>...</td>\n      <td>...</td>\n      <td>...</td>\n      <td>...</td>\n    </tr>\n    <tr>\n      <th>114659</th>\n      <td>7633</td>\n      <td>達人必學 Python 3.x 程式設計-最新版_書摘要掃描</td>\n      <td>usb-0065.jpg</td>\n      <td>Z:\\資訊書籍文件\\Python 達人必學 Python 3.x 程式設計\\達人必學 Pyt...</td>\n      <td>.jpg</td>\n      <td>Z:\\資訊書籍文件\\Python 達人必學 Python 3.x 程式設計\\達人必學 Pyt...</td>\n      <td>Z:</td>\n    </tr>\n    <tr>\n      <th>114660</th>\n      <td>7633</td>\n      <td>達人必學 Python 3.x 程式設計-最新版_書摘要掃描</td>\n      <td>usb-0066.jpg</td>\n      <td>Z:\\資訊書籍文件\\Python 達人必學 Python 3.x 程式設計\\達人必學 Pyt...</td>\n      <td>.jpg</td>\n      <td>Z:\\資訊書籍文件\\Python 達人必學 Python 3.x 程式設計\\達人必學 Pyt...</td>\n      <td>Z:</td>\n    </tr>\n    <tr>\n      <th>114661</th>\n      <td>7633</td>\n      <td>達人必學 Python 3.x 程式設計-最新版_書摘要掃描</td>\n      <td>usb-0067.jpg</td>\n      <td>Z:\\資訊書籍文件\\Python 達人必學 Python 3.x 程式設計\\達人必學 Pyt...</td>\n      <td>.jpg</td>\n      <td>Z:\\資訊書籍文件\\Python 達人必學 Python 3.x 程式設計\\達人必學 Pyt...</td>\n      <td>Z:</td>\n    </tr>\n    <tr>\n      <th>114662</th>\n      <td>7633</td>\n      <td>達人必學 Python 3.x 程式設計-最新版_書摘要掃描</td>\n      <td>usb-0068.jpg</td>\n      <td>Z:\\資訊書籍文件\\Python 達人必學 Python 3.x 程式設計\\達人必學 Pyt...</td>\n      <td>.jpg</td>\n      <td>Z:\\資訊書籍文件\\Python 達人必學 Python 3.x 程式設計\\達人必學 Pyt...</td>\n      <td>Z:</td>\n    </tr>\n    <tr>\n      <th>114663</th>\n      <td>7633</td>\n      <td>達人必學 Python 3.x 程式設計-最新版_書摘要掃描</td>\n      <td>usb-0069.jpg</td>\n      <td>Z:\\資訊書籍文件\\Python 達人必學 Python 3.x 程式設計\\達人必學 Pyt...</td>\n      <td>.jpg</td>\n      <td>Z:\\資訊書籍文件\\Python 達人必學 Python 3.x 程式設計\\達人必學 Pyt...</td>\n      <td>Z:</td>\n    </tr>\n  </tbody>\n</table>\n<p>114664 rows × 7 columns</p>\n</div>"
     },
     "execution_count": 2,
     "metadata": {},
     "output_type": "execute_result"
    }
   ],
   "source": [
    "consolidated_dz = pd.read_csv('consolidated_dz.csv', encoding='utf-8-sig')\n",
    "consolidated_dz"
   ],
   "metadata": {
    "collapsed": false,
    "pycharm": {
     "name": "#%%\n"
    }
   }
  },
  {
   "cell_type": "code",
   "execution_count": 3,
   "outputs": [
    {
     "data": {
      "text/plain": "          索引                           檔案資料夾                     檔案名稱  \\\n0          0                     .Thumbnails            Anthurium.jpg   \n1          0                     .Thumbnails     Bird Of Paradise.jpg   \n2          0                     .Thumbnails             Daffodil.jpg   \n3          0                     .Thumbnails        Gloriosa Lily.jpg   \n4          0                     .Thumbnails  Phalaenopsis Orchid.jpg   \n...      ...                             ...                      ...   \n114659  7633  達人必學 Python 3.x 程式設計-最新版_書摘要掃描             usb-0065.jpg   \n114660  7633  達人必學 Python 3.x 程式設計-最新版_書摘要掃描             usb-0066.jpg   \n114661  7633  達人必學 Python 3.x 程式設計-最新版_書摘要掃描             usb-0067.jpg   \n114662  7633  達人必學 Python 3.x 程式設計-最新版_書摘要掃描             usb-0068.jpg   \n114663  7633  達人必學 Python 3.x 程式設計-最新版_書摘要掃描             usb-0069.jpg   \n\n                                                     完整路徑  檔案類型  \\\n0       D:\\_eBooks 電子書 Excel + VBA\\Excel VBA 工作效率UP！Ex...  .jpg   \n1       D:\\_eBooks 電子書 Excel + VBA\\Excel VBA 工作效率UP！Ex...  .jpg   \n2       D:\\_eBooks 電子書 Excel + VBA\\Excel VBA 工作效率UP！Ex...  .jpg   \n3       D:\\_eBooks 電子書 Excel + VBA\\Excel VBA 工作效率UP！Ex...  .jpg   \n4       D:\\_eBooks 電子書 Excel + VBA\\Excel VBA 工作效率UP！Ex...  .jpg   \n...                                                   ...   ...   \n114659  Z:\\資訊書籍文件\\Python 達人必學 Python 3.x 程式設計\\達人必學 Pyt...  .jpg   \n114660  Z:\\資訊書籍文件\\Python 達人必學 Python 3.x 程式設計\\達人必學 Pyt...  .jpg   \n114661  Z:\\資訊書籍文件\\Python 達人必學 Python 3.x 程式設計\\達人必學 Pyt...  .jpg   \n114662  Z:\\資訊書籍文件\\Python 達人必學 Python 3.x 程式設計\\達人必學 Pyt...  .jpg   \n114663  Z:\\資訊書籍文件\\Python 達人必學 Python 3.x 程式設計\\達人必學 Pyt...  .jpg   \n\n                                                       路徑 差異磁碟機  \\\n0       D:\\_eBooks 電子書 Excel + VBA\\Excel VBA 工作效率UP！Ex...    D:   \n1       D:\\_eBooks 電子書 Excel + VBA\\Excel VBA 工作效率UP！Ex...    D:   \n2       D:\\_eBooks 電子書 Excel + VBA\\Excel VBA 工作效率UP！Ex...    D:   \n3       D:\\_eBooks 電子書 Excel + VBA\\Excel VBA 工作效率UP！Ex...    D:   \n4       D:\\_eBooks 電子書 Excel + VBA\\Excel VBA 工作效率UP！Ex...    D:   \n...                                                   ...   ...   \n114659  Z:\\資訊書籍文件\\Python 達人必學 Python 3.x 程式設計\\達人必學 Pyt...    Z:   \n114660  Z:\\資訊書籍文件\\Python 達人必學 Python 3.x 程式設計\\達人必學 Pyt...    Z:   \n114661  Z:\\資訊書籍文件\\Python 達人必學 Python 3.x 程式設計\\達人必學 Pyt...    Z:   \n114662  Z:\\資訊書籍文件\\Python 達人必學 Python 3.x 程式設計\\達人必學 Pyt...    Z:   \n114663  Z:\\資訊書籍文件\\Python 達人必學 Python 3.x 程式設計\\達人必學 Pyt...    Z:   \n\n                            根目錄  \n0       _eBooks 電子書 Excel + VBA  \n1       _eBooks 電子書 Excel + VBA  \n2       _eBooks 電子書 Excel + VBA  \n3       _eBooks 電子書 Excel + VBA  \n4       _eBooks 電子書 Excel + VBA  \n...                         ...  \n114659                   資訊書籍文件  \n114660                   資訊書籍文件  \n114661                   資訊書籍文件  \n114662                   資訊書籍文件  \n114663                   資訊書籍文件  \n\n[114664 rows x 8 columns]",
      "text/html": "<div>\n<style scoped>\n    .dataframe tbody tr th:only-of-type {\n        vertical-align: middle;\n    }\n\n    .dataframe tbody tr th {\n        vertical-align: top;\n    }\n\n    .dataframe thead th {\n        text-align: right;\n    }\n</style>\n<table border=\"1\" class=\"dataframe\">\n  <thead>\n    <tr style=\"text-align: right;\">\n      <th></th>\n      <th>索引</th>\n      <th>檔案資料夾</th>\n      <th>檔案名稱</th>\n      <th>完整路徑</th>\n      <th>檔案類型</th>\n      <th>路徑</th>\n      <th>差異磁碟機</th>\n      <th>根目錄</th>\n    </tr>\n  </thead>\n  <tbody>\n    <tr>\n      <th>0</th>\n      <td>0</td>\n      <td>.Thumbnails</td>\n      <td>Anthurium.jpg</td>\n      <td>D:\\_eBooks 電子書 Excel + VBA\\Excel VBA 工作效率UP！Ex...</td>\n      <td>.jpg</td>\n      <td>D:\\_eBooks 電子書 Excel + VBA\\Excel VBA 工作效率UP！Ex...</td>\n      <td>D:</td>\n      <td>_eBooks 電子書 Excel + VBA</td>\n    </tr>\n    <tr>\n      <th>1</th>\n      <td>0</td>\n      <td>.Thumbnails</td>\n      <td>Bird Of Paradise.jpg</td>\n      <td>D:\\_eBooks 電子書 Excel + VBA\\Excel VBA 工作效率UP！Ex...</td>\n      <td>.jpg</td>\n      <td>D:\\_eBooks 電子書 Excel + VBA\\Excel VBA 工作效率UP！Ex...</td>\n      <td>D:</td>\n      <td>_eBooks 電子書 Excel + VBA</td>\n    </tr>\n    <tr>\n      <th>2</th>\n      <td>0</td>\n      <td>.Thumbnails</td>\n      <td>Daffodil.jpg</td>\n      <td>D:\\_eBooks 電子書 Excel + VBA\\Excel VBA 工作效率UP！Ex...</td>\n      <td>.jpg</td>\n      <td>D:\\_eBooks 電子書 Excel + VBA\\Excel VBA 工作效率UP！Ex...</td>\n      <td>D:</td>\n      <td>_eBooks 電子書 Excel + VBA</td>\n    </tr>\n    <tr>\n      <th>3</th>\n      <td>0</td>\n      <td>.Thumbnails</td>\n      <td>Gloriosa Lily.jpg</td>\n      <td>D:\\_eBooks 電子書 Excel + VBA\\Excel VBA 工作效率UP！Ex...</td>\n      <td>.jpg</td>\n      <td>D:\\_eBooks 電子書 Excel + VBA\\Excel VBA 工作效率UP！Ex...</td>\n      <td>D:</td>\n      <td>_eBooks 電子書 Excel + VBA</td>\n    </tr>\n    <tr>\n      <th>4</th>\n      <td>0</td>\n      <td>.Thumbnails</td>\n      <td>Phalaenopsis Orchid.jpg</td>\n      <td>D:\\_eBooks 電子書 Excel + VBA\\Excel VBA 工作效率UP！Ex...</td>\n      <td>.jpg</td>\n      <td>D:\\_eBooks 電子書 Excel + VBA\\Excel VBA 工作效率UP！Ex...</td>\n      <td>D:</td>\n      <td>_eBooks 電子書 Excel + VBA</td>\n    </tr>\n    <tr>\n      <th>...</th>\n      <td>...</td>\n      <td>...</td>\n      <td>...</td>\n      <td>...</td>\n      <td>...</td>\n      <td>...</td>\n      <td>...</td>\n      <td>...</td>\n    </tr>\n    <tr>\n      <th>114659</th>\n      <td>7633</td>\n      <td>達人必學 Python 3.x 程式設計-最新版_書摘要掃描</td>\n      <td>usb-0065.jpg</td>\n      <td>Z:\\資訊書籍文件\\Python 達人必學 Python 3.x 程式設計\\達人必學 Pyt...</td>\n      <td>.jpg</td>\n      <td>Z:\\資訊書籍文件\\Python 達人必學 Python 3.x 程式設計\\達人必學 Pyt...</td>\n      <td>Z:</td>\n      <td>資訊書籍文件</td>\n    </tr>\n    <tr>\n      <th>114660</th>\n      <td>7633</td>\n      <td>達人必學 Python 3.x 程式設計-最新版_書摘要掃描</td>\n      <td>usb-0066.jpg</td>\n      <td>Z:\\資訊書籍文件\\Python 達人必學 Python 3.x 程式設計\\達人必學 Pyt...</td>\n      <td>.jpg</td>\n      <td>Z:\\資訊書籍文件\\Python 達人必學 Python 3.x 程式設計\\達人必學 Pyt...</td>\n      <td>Z:</td>\n      <td>資訊書籍文件</td>\n    </tr>\n    <tr>\n      <th>114661</th>\n      <td>7633</td>\n      <td>達人必學 Python 3.x 程式設計-最新版_書摘要掃描</td>\n      <td>usb-0067.jpg</td>\n      <td>Z:\\資訊書籍文件\\Python 達人必學 Python 3.x 程式設計\\達人必學 Pyt...</td>\n      <td>.jpg</td>\n      <td>Z:\\資訊書籍文件\\Python 達人必學 Python 3.x 程式設計\\達人必學 Pyt...</td>\n      <td>Z:</td>\n      <td>資訊書籍文件</td>\n    </tr>\n    <tr>\n      <th>114662</th>\n      <td>7633</td>\n      <td>達人必學 Python 3.x 程式設計-最新版_書摘要掃描</td>\n      <td>usb-0068.jpg</td>\n      <td>Z:\\資訊書籍文件\\Python 達人必學 Python 3.x 程式設計\\達人必學 Pyt...</td>\n      <td>.jpg</td>\n      <td>Z:\\資訊書籍文件\\Python 達人必學 Python 3.x 程式設計\\達人必學 Pyt...</td>\n      <td>Z:</td>\n      <td>資訊書籍文件</td>\n    </tr>\n    <tr>\n      <th>114663</th>\n      <td>7633</td>\n      <td>達人必學 Python 3.x 程式設計-最新版_書摘要掃描</td>\n      <td>usb-0069.jpg</td>\n      <td>Z:\\資訊書籍文件\\Python 達人必學 Python 3.x 程式設計\\達人必學 Pyt...</td>\n      <td>.jpg</td>\n      <td>Z:\\資訊書籍文件\\Python 達人必學 Python 3.x 程式設計\\達人必學 Pyt...</td>\n      <td>Z:</td>\n      <td>資訊書籍文件</td>\n    </tr>\n  </tbody>\n</table>\n<p>114664 rows × 8 columns</p>\n</div>"
     },
     "execution_count": 3,
     "metadata": {},
     "output_type": "execute_result"
    }
   ],
   "source": [
    "consolidated_dz['根目錄'] = consolidated_dz['路徑'].apply(lambda path: path.split('\\\\')[1])\n",
    "consolidated_dz"
   ],
   "metadata": {
    "collapsed": false,
    "pycharm": {
     "name": "#%%\n"
    }
   }
  },
  {
   "cell_type": "code",
   "execution_count": 4,
   "outputs": [
    {
     "data": {
      "text/plain": "          索引                            檔案資料夾  \\\n10593   2528                               D:   \n105922  7371                               Z:   \n105923  7371                               Z:   \n105924  7371                               Z:   \n105925  7371                               Z:   \n...      ...                              ...   \n98935   7040  課程_109-1_金融大數據_OpenEdu 中華開放教育平臺   \n98936   7040  課程_109-1_金融大數據_OpenEdu 中華開放教育平臺   \n98957   7044                            金融大數據   \n98958   7044                            金融大數據   \n98959   7044                            金融大數據   \n\n                                                     檔案名稱  \\\n10593                                         dirlist.txt   \n105922                                    .DS_Store.empty   \n105923                                        8分鐘整理的程式.py   \n105924                                       8分鐘整理的程式.rar   \n105925                     資策會 - Crawler 2 - 20190729.rar   \n...                                                   ...   \n98935                        WEEK2 WEKA安裝-SroP4Gi_Oog.mkv   \n98936                       金融大數據 軟體介紹與安裝-DB4GZ5qgpZo.mkv   \n98957                課程_109-1】金融大數據_OpenEdu 中華開放教育平臺.html   \n98958   How to Build a Stocks Price Web App in Python ...   \n98959                              Miranda_Rapidminer.pdf   \n\n                                                     完整路徑    檔案類型  \\\n10593                                      D:\\dirlist.txt    .txt   \n105922                                       Z:\\.DS_Store  .empty   \n105923                                     Z:\\8分鐘整理的程式.py     .py   \n105924                                    Z:\\8分鐘整理的程式.rar    .rar   \n105925                  Z:\\資策會 - Crawler 2 - 20190729.rar    .rar   \n...                                                   ...     ...   \n98935   D:\\金融大數據\\課程_109-1_金融大數據_OpenEdu 中華開放教育平臺\\WEEK2...    .mkv   \n98936   D:\\金融大數據\\課程_109-1_金融大數據_OpenEdu 中華開放教育平臺\\金融大數據...    .mkv   \n98957       D:\\金融大數據\\課程_109-1】金融大數據_OpenEdu 中華開放教育平臺.html   .html   \n98958   D:\\金融大數據\\How to Build a Stocks Price Web App i...    .mp4   \n98959                     D:\\金融大數據\\Miranda_Rapidminer.pdf    .pdf   \n\n                                               路徑 差異磁碟機    根目錄  \n10593                                         D:\\    D:         \n105922                                        Z:\\    Z:         \n105923                                        Z:\\    Z:         \n105924                                        Z:\\    Z:         \n105925                                        Z:\\    Z:         \n...                                           ...   ...    ...  \n98935   D:\\金融大數據\\課程_109-1_金融大數據_OpenEdu 中華開放教育平臺\\    D:  金融大數據  \n98936   D:\\金融大數據\\課程_109-1_金融大數據_OpenEdu 中華開放教育平臺\\    D:  金融大數據  \n98957                                   D:\\金融大數據\\    D:  金融大數據  \n98958                                   D:\\金融大數據\\    D:  金融大數據  \n98959                                   D:\\金融大數據\\    D:  金融大數據  \n\n[114664 rows x 8 columns]",
      "text/html": "<div>\n<style scoped>\n    .dataframe tbody tr th:only-of-type {\n        vertical-align: middle;\n    }\n\n    .dataframe tbody tr th {\n        vertical-align: top;\n    }\n\n    .dataframe thead th {\n        text-align: right;\n    }\n</style>\n<table border=\"1\" class=\"dataframe\">\n  <thead>\n    <tr style=\"text-align: right;\">\n      <th></th>\n      <th>索引</th>\n      <th>檔案資料夾</th>\n      <th>檔案名稱</th>\n      <th>完整路徑</th>\n      <th>檔案類型</th>\n      <th>路徑</th>\n      <th>差異磁碟機</th>\n      <th>根目錄</th>\n    </tr>\n  </thead>\n  <tbody>\n    <tr>\n      <th>10593</th>\n      <td>2528</td>\n      <td>D:</td>\n      <td>dirlist.txt</td>\n      <td>D:\\dirlist.txt</td>\n      <td>.txt</td>\n      <td>D:\\</td>\n      <td>D:</td>\n      <td></td>\n    </tr>\n    <tr>\n      <th>105922</th>\n      <td>7371</td>\n      <td>Z:</td>\n      <td>.DS_Store.empty</td>\n      <td>Z:\\.DS_Store</td>\n      <td>.empty</td>\n      <td>Z:\\</td>\n      <td>Z:</td>\n      <td></td>\n    </tr>\n    <tr>\n      <th>105923</th>\n      <td>7371</td>\n      <td>Z:</td>\n      <td>8分鐘整理的程式.py</td>\n      <td>Z:\\8分鐘整理的程式.py</td>\n      <td>.py</td>\n      <td>Z:\\</td>\n      <td>Z:</td>\n      <td></td>\n    </tr>\n    <tr>\n      <th>105924</th>\n      <td>7371</td>\n      <td>Z:</td>\n      <td>8分鐘整理的程式.rar</td>\n      <td>Z:\\8分鐘整理的程式.rar</td>\n      <td>.rar</td>\n      <td>Z:\\</td>\n      <td>Z:</td>\n      <td></td>\n    </tr>\n    <tr>\n      <th>105925</th>\n      <td>7371</td>\n      <td>Z:</td>\n      <td>資策會 - Crawler 2 - 20190729.rar</td>\n      <td>Z:\\資策會 - Crawler 2 - 20190729.rar</td>\n      <td>.rar</td>\n      <td>Z:\\</td>\n      <td>Z:</td>\n      <td></td>\n    </tr>\n    <tr>\n      <th>...</th>\n      <td>...</td>\n      <td>...</td>\n      <td>...</td>\n      <td>...</td>\n      <td>...</td>\n      <td>...</td>\n      <td>...</td>\n      <td>...</td>\n    </tr>\n    <tr>\n      <th>98935</th>\n      <td>7040</td>\n      <td>課程_109-1_金融大數據_OpenEdu 中華開放教育平臺</td>\n      <td>WEEK2 WEKA安裝-SroP4Gi_Oog.mkv</td>\n      <td>D:\\金融大數據\\課程_109-1_金融大數據_OpenEdu 中華開放教育平臺\\WEEK2...</td>\n      <td>.mkv</td>\n      <td>D:\\金融大數據\\課程_109-1_金融大數據_OpenEdu 中華開放教育平臺\\</td>\n      <td>D:</td>\n      <td>金融大數據</td>\n    </tr>\n    <tr>\n      <th>98936</th>\n      <td>7040</td>\n      <td>課程_109-1_金融大數據_OpenEdu 中華開放教育平臺</td>\n      <td>金融大數據 軟體介紹與安裝-DB4GZ5qgpZo.mkv</td>\n      <td>D:\\金融大數據\\課程_109-1_金融大數據_OpenEdu 中華開放教育平臺\\金融大數據...</td>\n      <td>.mkv</td>\n      <td>D:\\金融大數據\\課程_109-1_金融大數據_OpenEdu 中華開放教育平臺\\</td>\n      <td>D:</td>\n      <td>金融大數據</td>\n    </tr>\n    <tr>\n      <th>98957</th>\n      <td>7044</td>\n      <td>金融大數據</td>\n      <td>課程_109-1】金融大數據_OpenEdu 中華開放教育平臺.html</td>\n      <td>D:\\金融大數據\\課程_109-1】金融大數據_OpenEdu 中華開放教育平臺.html</td>\n      <td>.html</td>\n      <td>D:\\金融大數據\\</td>\n      <td>D:</td>\n      <td>金融大數據</td>\n    </tr>\n    <tr>\n      <th>98958</th>\n      <td>7044</td>\n      <td>金融大數據</td>\n      <td>How to Build a Stocks Price Web App in Python ...</td>\n      <td>D:\\金融大數據\\How to Build a Stocks Price Web App i...</td>\n      <td>.mp4</td>\n      <td>D:\\金融大數據\\</td>\n      <td>D:</td>\n      <td>金融大數據</td>\n    </tr>\n    <tr>\n      <th>98959</th>\n      <td>7044</td>\n      <td>金融大數據</td>\n      <td>Miranda_Rapidminer.pdf</td>\n      <td>D:\\金融大數據\\Miranda_Rapidminer.pdf</td>\n      <td>.pdf</td>\n      <td>D:\\金融大數據\\</td>\n      <td>D:</td>\n      <td>金融大數據</td>\n    </tr>\n  </tbody>\n</table>\n<p>114664 rows × 8 columns</p>\n</div>"
     },
     "execution_count": 4,
     "metadata": {},
     "output_type": "execute_result"
    }
   ],
   "source": [
    "consolidated_dz.sort_values(['根目錄', '索引'], inplace=True)\n",
    "consolidated_dz"
   ],
   "metadata": {
    "collapsed": false,
    "pycharm": {
     "name": "#%%\n"
    }
   }
  },
  {
   "cell_type": "code",
   "execution_count": 5,
   "outputs": [
    {
     "data": {
      "text/plain": "         索引                            檔案資料夾  \\\n根目錄                                            \n       2528                               D:   \n       7371                               Z:   \n       7371                               Z:   \n       7371                               Z:   \n       7371                               Z:   \n...     ...                              ...   \n金融大數據  7040  課程_109-1_金融大數據_OpenEdu 中華開放教育平臺   \n金融大數據  7040  課程_109-1_金融大數據_OpenEdu 中華開放教育平臺   \n金融大數據  7044                            金融大數據   \n金融大數據  7044                            金融大數據   \n金融大數據  7044                            金融大數據   \n\n                                                    檔案名稱  \\\n根目錄                                                        \n                                             dirlist.txt   \n                                         .DS_Store.empty   \n                                             8分鐘整理的程式.py   \n                                            8分鐘整理的程式.rar   \n                          資策會 - Crawler 2 - 20190729.rar   \n...                                                  ...   \n金融大數據                       WEEK2 WEKA安裝-SroP4Gi_Oog.mkv   \n金融大數據                      金融大數據 軟體介紹與安裝-DB4GZ5qgpZo.mkv   \n金融大數據               課程_109-1】金融大數據_OpenEdu 中華開放教育平臺.html   \n金融大數據  How to Build a Stocks Price Web App in Python ...   \n金融大數據                             Miranda_Rapidminer.pdf   \n\n                                                    完整路徑    檔案類型  \\\n根目錄                                                                \n                                          D:\\dirlist.txt    .txt   \n                                            Z:\\.DS_Store  .empty   \n                                          Z:\\8分鐘整理的程式.py     .py   \n                                         Z:\\8分鐘整理的程式.rar    .rar   \n                       Z:\\資策會 - Crawler 2 - 20190729.rar    .rar   \n...                                                  ...     ...   \n金融大數據  D:\\金融大數據\\課程_109-1_金融大數據_OpenEdu 中華開放教育平臺\\WEEK2...    .mkv   \n金融大數據  D:\\金融大數據\\課程_109-1_金融大數據_OpenEdu 中華開放教育平臺\\金融大數據...    .mkv   \n金融大數據      D:\\金融大數據\\課程_109-1】金融大數據_OpenEdu 中華開放教育平臺.html   .html   \n金融大數據  D:\\金融大數據\\How to Build a Stocks Price Web App i...    .mp4   \n金融大數據                    D:\\金融大數據\\Miranda_Rapidminer.pdf    .pdf   \n\n                                              路徑 差異磁碟機  \n根目錄                                                     \n                                             D:\\    D:  \n                                             Z:\\    Z:  \n                                             Z:\\    Z:  \n                                             Z:\\    Z:  \n                                             Z:\\    Z:  \n...                                          ...   ...  \n金融大數據  D:\\金融大數據\\課程_109-1_金融大數據_OpenEdu 中華開放教育平臺\\    D:  \n金融大數據  D:\\金融大數據\\課程_109-1_金融大數據_OpenEdu 中華開放教育平臺\\    D:  \n金融大數據                                  D:\\金融大數據\\    D:  \n金融大數據                                  D:\\金融大數據\\    D:  \n金融大數據                                  D:\\金融大數據\\    D:  \n\n[114664 rows x 7 columns]",
      "text/html": "<div>\n<style scoped>\n    .dataframe tbody tr th:only-of-type {\n        vertical-align: middle;\n    }\n\n    .dataframe tbody tr th {\n        vertical-align: top;\n    }\n\n    .dataframe thead th {\n        text-align: right;\n    }\n</style>\n<table border=\"1\" class=\"dataframe\">\n  <thead>\n    <tr style=\"text-align: right;\">\n      <th></th>\n      <th>索引</th>\n      <th>檔案資料夾</th>\n      <th>檔案名稱</th>\n      <th>完整路徑</th>\n      <th>檔案類型</th>\n      <th>路徑</th>\n      <th>差異磁碟機</th>\n    </tr>\n    <tr>\n      <th>根目錄</th>\n      <th></th>\n      <th></th>\n      <th></th>\n      <th></th>\n      <th></th>\n      <th></th>\n      <th></th>\n    </tr>\n  </thead>\n  <tbody>\n    <tr>\n      <th></th>\n      <td>2528</td>\n      <td>D:</td>\n      <td>dirlist.txt</td>\n      <td>D:\\dirlist.txt</td>\n      <td>.txt</td>\n      <td>D:\\</td>\n      <td>D:</td>\n    </tr>\n    <tr>\n      <th></th>\n      <td>7371</td>\n      <td>Z:</td>\n      <td>.DS_Store.empty</td>\n      <td>Z:\\.DS_Store</td>\n      <td>.empty</td>\n      <td>Z:\\</td>\n      <td>Z:</td>\n    </tr>\n    <tr>\n      <th></th>\n      <td>7371</td>\n      <td>Z:</td>\n      <td>8分鐘整理的程式.py</td>\n      <td>Z:\\8分鐘整理的程式.py</td>\n      <td>.py</td>\n      <td>Z:\\</td>\n      <td>Z:</td>\n    </tr>\n    <tr>\n      <th></th>\n      <td>7371</td>\n      <td>Z:</td>\n      <td>8分鐘整理的程式.rar</td>\n      <td>Z:\\8分鐘整理的程式.rar</td>\n      <td>.rar</td>\n      <td>Z:\\</td>\n      <td>Z:</td>\n    </tr>\n    <tr>\n      <th></th>\n      <td>7371</td>\n      <td>Z:</td>\n      <td>資策會 - Crawler 2 - 20190729.rar</td>\n      <td>Z:\\資策會 - Crawler 2 - 20190729.rar</td>\n      <td>.rar</td>\n      <td>Z:\\</td>\n      <td>Z:</td>\n    </tr>\n    <tr>\n      <th>...</th>\n      <td>...</td>\n      <td>...</td>\n      <td>...</td>\n      <td>...</td>\n      <td>...</td>\n      <td>...</td>\n      <td>...</td>\n    </tr>\n    <tr>\n      <th>金融大數據</th>\n      <td>7040</td>\n      <td>課程_109-1_金融大數據_OpenEdu 中華開放教育平臺</td>\n      <td>WEEK2 WEKA安裝-SroP4Gi_Oog.mkv</td>\n      <td>D:\\金融大數據\\課程_109-1_金融大數據_OpenEdu 中華開放教育平臺\\WEEK2...</td>\n      <td>.mkv</td>\n      <td>D:\\金融大數據\\課程_109-1_金融大數據_OpenEdu 中華開放教育平臺\\</td>\n      <td>D:</td>\n    </tr>\n    <tr>\n      <th>金融大數據</th>\n      <td>7040</td>\n      <td>課程_109-1_金融大數據_OpenEdu 中華開放教育平臺</td>\n      <td>金融大數據 軟體介紹與安裝-DB4GZ5qgpZo.mkv</td>\n      <td>D:\\金融大數據\\課程_109-1_金融大數據_OpenEdu 中華開放教育平臺\\金融大數據...</td>\n      <td>.mkv</td>\n      <td>D:\\金融大數據\\課程_109-1_金融大數據_OpenEdu 中華開放教育平臺\\</td>\n      <td>D:</td>\n    </tr>\n    <tr>\n      <th>金融大數據</th>\n      <td>7044</td>\n      <td>金融大數據</td>\n      <td>課程_109-1】金融大數據_OpenEdu 中華開放教育平臺.html</td>\n      <td>D:\\金融大數據\\課程_109-1】金融大數據_OpenEdu 中華開放教育平臺.html</td>\n      <td>.html</td>\n      <td>D:\\金融大數據\\</td>\n      <td>D:</td>\n    </tr>\n    <tr>\n      <th>金融大數據</th>\n      <td>7044</td>\n      <td>金融大數據</td>\n      <td>How to Build a Stocks Price Web App in Python ...</td>\n      <td>D:\\金融大數據\\How to Build a Stocks Price Web App i...</td>\n      <td>.mp4</td>\n      <td>D:\\金融大數據\\</td>\n      <td>D:</td>\n    </tr>\n    <tr>\n      <th>金融大數據</th>\n      <td>7044</td>\n      <td>金融大數據</td>\n      <td>Miranda_Rapidminer.pdf</td>\n      <td>D:\\金融大數據\\Miranda_Rapidminer.pdf</td>\n      <td>.pdf</td>\n      <td>D:\\金融大數據\\</td>\n      <td>D:</td>\n    </tr>\n  </tbody>\n</table>\n<p>114664 rows × 7 columns</p>\n</div>"
     },
     "execution_count": 5,
     "metadata": {},
     "output_type": "execute_result"
    }
   ],
   "source": [
    "consolidated_dz.set_index('根目錄', drop=True, inplace=True)\n",
    "consolidated_dz"
   ],
   "metadata": {
    "collapsed": false,
    "pycharm": {
     "name": "#%%\n"
    }
   }
  },
  {
   "cell_type": "code",
   "execution_count": 6,
   "outputs": [
    {
     "data": {
      "text/plain": "         索引 差異磁碟機                                         路徑    檔案類型  \\\n根目錄                                                                    \n       2528    D:                                        D:\\    .txt   \n       7371    Z:                                        Z:\\  .empty   \n       7371    Z:                                        Z:\\     .py   \n       7371    Z:                                        Z:\\    .rar   \n       7371    Z:                                        Z:\\    .rar   \n...     ...   ...                                        ...     ...   \n金融大數據  7040    D:  D:\\金融大數據\\課程_109-1_金融大數據_OpenEdu 中華開放教育平臺\\    .mkv   \n金融大數據  7040    D:  D:\\金融大數據\\課程_109-1_金融大數據_OpenEdu 中華開放教育平臺\\    .mkv   \n金融大數據  7044    D:                                  D:\\金融大數據\\   .html   \n金融大數據  7044    D:                                  D:\\金融大數據\\    .mp4   \n金融大數據  7044    D:                                  D:\\金融大數據\\    .pdf   \n\n                                 檔案資料夾  \\\n根目錄                                      \n                                    D:   \n                                    Z:   \n                                    Z:   \n                                    Z:   \n                                    Z:   \n...                                ...   \n金融大數據  課程_109-1_金融大數據_OpenEdu 中華開放教育平臺   \n金融大數據  課程_109-1_金融大數據_OpenEdu 中華開放教育平臺   \n金融大數據                            金融大數據   \n金融大數據                            金融大數據   \n金融大數據                            金融大數據   \n\n                                                    檔案名稱  \\\n根目錄                                                        \n                                             dirlist.txt   \n                                         .DS_Store.empty   \n                                             8分鐘整理的程式.py   \n                                            8分鐘整理的程式.rar   \n                          資策會 - Crawler 2 - 20190729.rar   \n...                                                  ...   \n金融大數據                       WEEK2 WEKA安裝-SroP4Gi_Oog.mkv   \n金融大數據                      金融大數據 軟體介紹與安裝-DB4GZ5qgpZo.mkv   \n金融大數據               課程_109-1】金融大數據_OpenEdu 中華開放教育平臺.html   \n金融大數據  How to Build a Stocks Price Web App in Python ...   \n金融大數據                             Miranda_Rapidminer.pdf   \n\n                                                    完整路徑  \n根目錄                                                       \n                                          D:\\dirlist.txt  \n                                            Z:\\.DS_Store  \n                                          Z:\\8分鐘整理的程式.py  \n                                         Z:\\8分鐘整理的程式.rar  \n                       Z:\\資策會 - Crawler 2 - 20190729.rar  \n...                                                  ...  \n金融大數據  D:\\金融大數據\\課程_109-1_金融大數據_OpenEdu 中華開放教育平臺\\WEEK2...  \n金融大數據  D:\\金融大數據\\課程_109-1_金融大數據_OpenEdu 中華開放教育平臺\\金融大數據...  \n金融大數據      D:\\金融大數據\\課程_109-1】金融大數據_OpenEdu 中華開放教育平臺.html  \n金融大數據  D:\\金融大數據\\How to Build a Stocks Price Web App i...  \n金融大數據                    D:\\金融大數據\\Miranda_Rapidminer.pdf  \n\n[114664 rows x 7 columns]",
      "text/html": "<div>\n<style scoped>\n    .dataframe tbody tr th:only-of-type {\n        vertical-align: middle;\n    }\n\n    .dataframe tbody tr th {\n        vertical-align: top;\n    }\n\n    .dataframe thead th {\n        text-align: right;\n    }\n</style>\n<table border=\"1\" class=\"dataframe\">\n  <thead>\n    <tr style=\"text-align: right;\">\n      <th></th>\n      <th>索引</th>\n      <th>差異磁碟機</th>\n      <th>路徑</th>\n      <th>檔案類型</th>\n      <th>檔案資料夾</th>\n      <th>檔案名稱</th>\n      <th>完整路徑</th>\n    </tr>\n    <tr>\n      <th>根目錄</th>\n      <th></th>\n      <th></th>\n      <th></th>\n      <th></th>\n      <th></th>\n      <th></th>\n      <th></th>\n    </tr>\n  </thead>\n  <tbody>\n    <tr>\n      <th></th>\n      <td>2528</td>\n      <td>D:</td>\n      <td>D:\\</td>\n      <td>.txt</td>\n      <td>D:</td>\n      <td>dirlist.txt</td>\n      <td>D:\\dirlist.txt</td>\n    </tr>\n    <tr>\n      <th></th>\n      <td>7371</td>\n      <td>Z:</td>\n      <td>Z:\\</td>\n      <td>.empty</td>\n      <td>Z:</td>\n      <td>.DS_Store.empty</td>\n      <td>Z:\\.DS_Store</td>\n    </tr>\n    <tr>\n      <th></th>\n      <td>7371</td>\n      <td>Z:</td>\n      <td>Z:\\</td>\n      <td>.py</td>\n      <td>Z:</td>\n      <td>8分鐘整理的程式.py</td>\n      <td>Z:\\8分鐘整理的程式.py</td>\n    </tr>\n    <tr>\n      <th></th>\n      <td>7371</td>\n      <td>Z:</td>\n      <td>Z:\\</td>\n      <td>.rar</td>\n      <td>Z:</td>\n      <td>8分鐘整理的程式.rar</td>\n      <td>Z:\\8分鐘整理的程式.rar</td>\n    </tr>\n    <tr>\n      <th></th>\n      <td>7371</td>\n      <td>Z:</td>\n      <td>Z:\\</td>\n      <td>.rar</td>\n      <td>Z:</td>\n      <td>資策會 - Crawler 2 - 20190729.rar</td>\n      <td>Z:\\資策會 - Crawler 2 - 20190729.rar</td>\n    </tr>\n    <tr>\n      <th>...</th>\n      <td>...</td>\n      <td>...</td>\n      <td>...</td>\n      <td>...</td>\n      <td>...</td>\n      <td>...</td>\n      <td>...</td>\n    </tr>\n    <tr>\n      <th>金融大數據</th>\n      <td>7040</td>\n      <td>D:</td>\n      <td>D:\\金融大數據\\課程_109-1_金融大數據_OpenEdu 中華開放教育平臺\\</td>\n      <td>.mkv</td>\n      <td>課程_109-1_金融大數據_OpenEdu 中華開放教育平臺</td>\n      <td>WEEK2 WEKA安裝-SroP4Gi_Oog.mkv</td>\n      <td>D:\\金融大數據\\課程_109-1_金融大數據_OpenEdu 中華開放教育平臺\\WEEK2...</td>\n    </tr>\n    <tr>\n      <th>金融大數據</th>\n      <td>7040</td>\n      <td>D:</td>\n      <td>D:\\金融大數據\\課程_109-1_金融大數據_OpenEdu 中華開放教育平臺\\</td>\n      <td>.mkv</td>\n      <td>課程_109-1_金融大數據_OpenEdu 中華開放教育平臺</td>\n      <td>金融大數據 軟體介紹與安裝-DB4GZ5qgpZo.mkv</td>\n      <td>D:\\金融大數據\\課程_109-1_金融大數據_OpenEdu 中華開放教育平臺\\金融大數據...</td>\n    </tr>\n    <tr>\n      <th>金融大數據</th>\n      <td>7044</td>\n      <td>D:</td>\n      <td>D:\\金融大數據\\</td>\n      <td>.html</td>\n      <td>金融大數據</td>\n      <td>課程_109-1】金融大數據_OpenEdu 中華開放教育平臺.html</td>\n      <td>D:\\金融大數據\\課程_109-1】金融大數據_OpenEdu 中華開放教育平臺.html</td>\n    </tr>\n    <tr>\n      <th>金融大數據</th>\n      <td>7044</td>\n      <td>D:</td>\n      <td>D:\\金融大數據\\</td>\n      <td>.mp4</td>\n      <td>金融大數據</td>\n      <td>How to Build a Stocks Price Web App in Python ...</td>\n      <td>D:\\金融大數據\\How to Build a Stocks Price Web App i...</td>\n    </tr>\n    <tr>\n      <th>金融大數據</th>\n      <td>7044</td>\n      <td>D:</td>\n      <td>D:\\金融大數據\\</td>\n      <td>.pdf</td>\n      <td>金融大數據</td>\n      <td>Miranda_Rapidminer.pdf</td>\n      <td>D:\\金融大數據\\Miranda_Rapidminer.pdf</td>\n    </tr>\n  </tbody>\n</table>\n<p>114664 rows × 7 columns</p>\n</div>"
     },
     "execution_count": 6,
     "metadata": {},
     "output_type": "execute_result"
    }
   ],
   "source": [
    "consolidated_dz = consolidated_dz[['索引', '差異磁碟機', '路徑', '檔案類型', '檔案資料夾', '檔案名稱', '完整路徑']]\n",
    "consolidated_dz"
   ],
   "metadata": {
    "collapsed": false,
    "pycharm": {
     "name": "#%%\n"
    }
   }
  },
  {
   "cell_type": "code",
   "execution_count": 7,
   "outputs": [],
   "source": [
    "consolidated_dz.to_csv('consolidated_dz_sort.csv', encoding='utf-8-sig')"
   ],
   "metadata": {
    "collapsed": false,
    "pycharm": {
     "name": "#%%\n"
    }
   }
  },
  {
   "cell_type": "code",
   "execution_count": null,
   "outputs": [],
   "source": [],
   "metadata": {
    "collapsed": false,
    "pycharm": {
     "name": "#%%\n"
    }
   }
  }
 ],
 "metadata": {
  "kernelspec": {
   "display_name": "Python 3",
   "language": "python",
   "name": "python3"
  },
  "language_info": {
   "codemirror_mode": {
    "name": "ipython",
    "version": 2
   },
   "file_extension": ".py",
   "mimetype": "text/x-python",
   "name": "python",
   "nbconvert_exporter": "python",
   "pygments_lexer": "ipython2",
   "version": "2.7.6"
  }
 },
 "nbformat": 4,
 "nbformat_minor": 0
}