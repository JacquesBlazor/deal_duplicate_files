{
 "cells": [
  {
   "cell_type": "code",
   "execution_count": 1,
   "metadata": {
    "collapsed": true
   },
   "outputs": [],
   "source": [
    "import pandas as pd\n",
    "import numpy as np\n",
    "import os"
   ]
  },
  {
   "cell_type": "code",
   "execution_count": 2,
   "outputs": [],
   "source": [
    "df = pd.read_csv('consolidated_df.csv', encoding='utf-8-sig')"
   ],
   "metadata": {
    "collapsed": false,
    "pycharm": {
     "name": "#%%\n"
    }
   }
  },
  {
   "cell_type": "code",
   "execution_count": 3,
   "outputs": [],
   "source": [
    "df.drop(columns=['Unnamed: 0'], axis=1, inplace=True)"
   ],
   "metadata": {
    "collapsed": false,
    "pycharm": {
     "name": "#%%\n"
    }
   }
  },
  {
   "cell_type": "code",
   "execution_count": 4,
   "outputs": [],
   "source": [
    "dfe = df[((df['來源路徑'].str.contains('D:')) & (df['比較路徑'].str.contains('E:'))) | ((df['來源路徑'].str.contains('Z:')) & (df['比較路徑'].str.contains('E:'))) | ((df['來源路徑'].str.contains('E:')) & (df['比較路徑'].str.contains('d:'))) | ((df['來源路徑'].str.contains('E:')) & (df['比較路徑'].str.contains('Z:')))]"
   ],
   "metadata": {
    "collapsed": false,
    "pycharm": {
     "name": "#%%\n"
    }
   }
  },
  {
   "cell_type": "code",
   "execution_count": 5,
   "outputs": [
    {
     "data": {
      "text/plain": "               檔案資料夾                                               來源路徑  \\\n437             docs  D:\\Python-GUI-Programming-A-Complete-Reference...   \n438             docs  D:\\Python-GUI-Programming-A-Complete-Reference...   \n439             docs  D:\\Python-GUI-Programming-A-Complete-Reference...   \n440             docs  D:\\Python-GUI-Programming-A-Complete-Reference...   \n441             docs  D:\\Python-GUI-Programming-A-Complete-Reference...   \n...              ...                                                ...   \n229367  toidentifier  D:\\_eBooks 電子書 Java+JS+HTML+CSS+RWD+Node\\JavaS...   \n229369       type-is  D:\\_eBooks 電子書 Java+JS+HTML+CSS+RWD+Node\\JavaS...   \n229385        unpipe  D:\\_eBooks 電子書 Java+JS+HTML+CSS+RWD+Node\\JavaS...   \n229390   utils-merge  D:\\_eBooks 電子書 Java+JS+HTML+CSS+RWD+Node\\JavaS...   \n229392          vary  D:\\_eBooks 電子書 Java+JS+HTML+CSS+RWD+Node\\JavaS...   \n\n                                                     比較路徑  次數  來源長度  比較長度  \\\n437     E:\\.ongoing_projects\\flask_stock\\financial_rep...   8     3     1   \n438     E:\\.ongoing_projects\\flask_stock\\financial_rep...   8     3     1   \n439     E:\\.ongoing_projects\\flask_stock\\financial_rep...   8     3     1   \n440     E:\\.ongoing_projects\\flask_stock\\financial_rep...   8     3     1   \n441     E:\\.ongoing_projects\\flask_stock\\financial_rep...   9     3     1   \n...                                                   ...  ..   ...   ...   \n229367  E:\\FBoriginal-coast-clothing\\node_modules\\toid...  13     3     2   \n229369  E:\\FBoriginal-coast-clothing\\node_modules\\type...  13     4     3   \n229385  E:\\FBoriginal-coast-clothing\\node_modules\\unpipe\\  14     4     3   \n229390  E:\\FBoriginal-coast-clothing\\node_modules\\util...  14     4     3   \n229392    E:\\FBoriginal-coast-clothing\\node_modules\\vary\\  13     4     3   \n\n                           檔案名稱     組別   檔案類型     大小                   修改日期  \\\n437     abq_data_entry_spec.rst   3713   .rst   4961  2019/6/18 上午 09:33:46   \n438      Application_layout.png   3731   .png   9117  2019/6/18 上午 09:33:46   \n439     lab-tech-paper-form.png   3732   .png  22018  2019/6/18 上午 09:33:46   \n440                 __init__.py   5088    .py      0   2021/7/4 上午 12:11:09   \n441     abq_data_entry_spec.rst   3713   .rst   4961  2019/6/18 上午 09:33:46   \n...                         ...    ...    ...    ...                    ...   \n229367             package.json  98555  .json   2168  2019/8/12 下午 05:41:24   \n229369             package.json  98559  .json   2219  2019/8/12 下午 05:41:24   \n229385             package.json  98563  .json   1730  2019/8/12 下午 05:41:24   \n229390             package.json  98567  .json   1654  2019/8/12 下午 05:41:24   \n229392             package.json  98571  .json   2121  2019/8/12 下午 05:41:24   \n\n        差異路徑  \n437     來源路徑  \n438     來源路徑  \n439     來源路徑  \n440     比較路徑  \n441     來源路徑  \n...      ...  \n229367  來源路徑  \n229369  來源路徑  \n229385  來源路徑  \n229390  來源路徑  \n229392  來源路徑  \n\n[30539 rows x 12 columns]",
      "text/html": "<div>\n<style scoped>\n    .dataframe tbody tr th:only-of-type {\n        vertical-align: middle;\n    }\n\n    .dataframe tbody tr th {\n        vertical-align: top;\n    }\n\n    .dataframe thead th {\n        text-align: right;\n    }\n</style>\n<table border=\"1\" class=\"dataframe\">\n  <thead>\n    <tr style=\"text-align: right;\">\n      <th></th>\n      <th>檔案資料夾</th>\n      <th>來源路徑</th>\n      <th>比較路徑</th>\n      <th>次數</th>\n      <th>來源長度</th>\n      <th>比較長度</th>\n      <th>檔案名稱</th>\n      <th>組別</th>\n      <th>檔案類型</th>\n      <th>大小</th>\n      <th>修改日期</th>\n      <th>差異路徑</th>\n    </tr>\n  </thead>\n  <tbody>\n    <tr>\n      <th>437</th>\n      <td>docs</td>\n      <td>D:\\Python-GUI-Programming-A-Complete-Reference...</td>\n      <td>E:\\.ongoing_projects\\flask_stock\\financial_rep...</td>\n      <td>8</td>\n      <td>3</td>\n      <td>1</td>\n      <td>abq_data_entry_spec.rst</td>\n      <td>3713</td>\n      <td>.rst</td>\n      <td>4961</td>\n      <td>2019/6/18 上午 09:33:46</td>\n      <td>來源路徑</td>\n    </tr>\n    <tr>\n      <th>438</th>\n      <td>docs</td>\n      <td>D:\\Python-GUI-Programming-A-Complete-Reference...</td>\n      <td>E:\\.ongoing_projects\\flask_stock\\financial_rep...</td>\n      <td>8</td>\n      <td>3</td>\n      <td>1</td>\n      <td>Application_layout.png</td>\n      <td>3731</td>\n      <td>.png</td>\n      <td>9117</td>\n      <td>2019/6/18 上午 09:33:46</td>\n      <td>來源路徑</td>\n    </tr>\n    <tr>\n      <th>439</th>\n      <td>docs</td>\n      <td>D:\\Python-GUI-Programming-A-Complete-Reference...</td>\n      <td>E:\\.ongoing_projects\\flask_stock\\financial_rep...</td>\n      <td>8</td>\n      <td>3</td>\n      <td>1</td>\n      <td>lab-tech-paper-form.png</td>\n      <td>3732</td>\n      <td>.png</td>\n      <td>22018</td>\n      <td>2019/6/18 上午 09:33:46</td>\n      <td>來源路徑</td>\n    </tr>\n    <tr>\n      <th>440</th>\n      <td>docs</td>\n      <td>D:\\Python-GUI-Programming-A-Complete-Reference...</td>\n      <td>E:\\.ongoing_projects\\flask_stock\\financial_rep...</td>\n      <td>8</td>\n      <td>3</td>\n      <td>1</td>\n      <td>__init__.py</td>\n      <td>5088</td>\n      <td>.py</td>\n      <td>0</td>\n      <td>2021/7/4 上午 12:11:09</td>\n      <td>比較路徑</td>\n    </tr>\n    <tr>\n      <th>441</th>\n      <td>docs</td>\n      <td>D:\\Python-GUI-Programming-A-Complete-Reference...</td>\n      <td>E:\\.ongoing_projects\\flask_stock\\financial_rep...</td>\n      <td>9</td>\n      <td>3</td>\n      <td>1</td>\n      <td>abq_data_entry_spec.rst</td>\n      <td>3713</td>\n      <td>.rst</td>\n      <td>4961</td>\n      <td>2019/6/18 上午 09:33:46</td>\n      <td>來源路徑</td>\n    </tr>\n    <tr>\n      <th>...</th>\n      <td>...</td>\n      <td>...</td>\n      <td>...</td>\n      <td>...</td>\n      <td>...</td>\n      <td>...</td>\n      <td>...</td>\n      <td>...</td>\n      <td>...</td>\n      <td>...</td>\n      <td>...</td>\n      <td>...</td>\n    </tr>\n    <tr>\n      <th>229367</th>\n      <td>toidentifier</td>\n      <td>D:\\_eBooks 電子書 Java+JS+HTML+CSS+RWD+Node\\JavaS...</td>\n      <td>E:\\FBoriginal-coast-clothing\\node_modules\\toid...</td>\n      <td>13</td>\n      <td>3</td>\n      <td>2</td>\n      <td>package.json</td>\n      <td>98555</td>\n      <td>.json</td>\n      <td>2168</td>\n      <td>2019/8/12 下午 05:41:24</td>\n      <td>來源路徑</td>\n    </tr>\n    <tr>\n      <th>229369</th>\n      <td>type-is</td>\n      <td>D:\\_eBooks 電子書 Java+JS+HTML+CSS+RWD+Node\\JavaS...</td>\n      <td>E:\\FBoriginal-coast-clothing\\node_modules\\type...</td>\n      <td>13</td>\n      <td>4</td>\n      <td>3</td>\n      <td>package.json</td>\n      <td>98559</td>\n      <td>.json</td>\n      <td>2219</td>\n      <td>2019/8/12 下午 05:41:24</td>\n      <td>來源路徑</td>\n    </tr>\n    <tr>\n      <th>229385</th>\n      <td>unpipe</td>\n      <td>D:\\_eBooks 電子書 Java+JS+HTML+CSS+RWD+Node\\JavaS...</td>\n      <td>E:\\FBoriginal-coast-clothing\\node_modules\\unpipe\\</td>\n      <td>14</td>\n      <td>4</td>\n      <td>3</td>\n      <td>package.json</td>\n      <td>98563</td>\n      <td>.json</td>\n      <td>1730</td>\n      <td>2019/8/12 下午 05:41:24</td>\n      <td>來源路徑</td>\n    </tr>\n    <tr>\n      <th>229390</th>\n      <td>utils-merge</td>\n      <td>D:\\_eBooks 電子書 Java+JS+HTML+CSS+RWD+Node\\JavaS...</td>\n      <td>E:\\FBoriginal-coast-clothing\\node_modules\\util...</td>\n      <td>14</td>\n      <td>4</td>\n      <td>3</td>\n      <td>package.json</td>\n      <td>98567</td>\n      <td>.json</td>\n      <td>1654</td>\n      <td>2019/8/12 下午 05:41:24</td>\n      <td>來源路徑</td>\n    </tr>\n    <tr>\n      <th>229392</th>\n      <td>vary</td>\n      <td>D:\\_eBooks 電子書 Java+JS+HTML+CSS+RWD+Node\\JavaS...</td>\n      <td>E:\\FBoriginal-coast-clothing\\node_modules\\vary\\</td>\n      <td>13</td>\n      <td>4</td>\n      <td>3</td>\n      <td>package.json</td>\n      <td>98571</td>\n      <td>.json</td>\n      <td>2121</td>\n      <td>2019/8/12 下午 05:41:24</td>\n      <td>來源路徑</td>\n    </tr>\n  </tbody>\n</table>\n<p>30539 rows × 12 columns</p>\n</div>"
     },
     "execution_count": 5,
     "metadata": {},
     "output_type": "execute_result"
    }
   ],
   "source": [
    "dfe"
   ],
   "metadata": {
    "collapsed": false,
    "pycharm": {
     "name": "#%%\n"
    }
   }
  },
  {
   "cell_type": "code",
   "execution_count": 4,
   "outputs": [],
   "source": [
    "dfe = df[((df['來源路徑'].str.contains('E:')) & (df['比較路徑'].str.contains('E:'))) | ((df['來源路徑'].str.contains('D:')) & (df['比較路徑'].str.contains('E:'))) | ((df['來源路徑'].str.contains('Z:')) & (df['比較路徑'].str.contains('E:'))) | ((df['來源路徑'].str.contains('E:')) & (df['比較路徑'].str.contains('d:'))) | ((df['來源路徑'].str.contains('E:')) & (df['比較路徑'].str.contains('Z:')))]"
   ],
   "metadata": {
    "collapsed": false,
    "pycharm": {
     "name": "#%%\n"
    }
   }
  },
  {
   "cell_type": "code",
   "execution_count": 26,
   "outputs": [],
   "source": [
    "left = dfe['比較路徑'][dfe['比較路徑'].str.contains('E:')]"
   ],
   "metadata": {
    "collapsed": false,
    "pycharm": {
     "name": "#%%\n"
    }
   }
  },
  {
   "cell_type": "code",
   "execution_count": 27,
   "outputs": [],
   "source": [
    "right = dfe['來源路徑'][dfe['來源路徑'].str.contains('E:')]"
   ],
   "metadata": {
    "collapsed": false,
    "pycharm": {
     "name": "#%%\n"
    }
   }
  },
  {
   "cell_type": "code",
   "execution_count": 30,
   "outputs": [],
   "source": [
    "right.name = '路徑'"
   ],
   "metadata": {
    "collapsed": false,
    "pycharm": {
     "name": "#%%\n"
    }
   }
  },
  {
   "cell_type": "code",
   "execution_count": 31,
   "outputs": [
    {
     "data": {
      "text/plain": "437       E:\\.ongoing_projects\\flask_stock\\financial_rep...\n438       E:\\.ongoing_projects\\flask_stock\\financial_rep...\n439       E:\\.ongoing_projects\\flask_stock\\financial_rep...\n440       E:\\.ongoing_projects\\flask_stock\\financial_rep...\n441       E:\\.ongoing_projects\\flask_stock\\financial_rep...\n                                ...                        \n229367    E:\\FBoriginal-coast-clothing\\node_modules\\toid...\n229369    E:\\FBoriginal-coast-clothing\\node_modules\\type...\n229385    E:\\FBoriginal-coast-clothing\\node_modules\\unpipe\\\n229390    E:\\FBoriginal-coast-clothing\\node_modules\\util...\n229392      E:\\FBoriginal-coast-clothing\\node_modules\\vary\\\nName: 路徑, Length: 47241, dtype: object"
     },
     "execution_count": 31,
     "metadata": {},
     "output_type": "execute_result"
    }
   ],
   "source": [
    "left"
   ],
   "metadata": {
    "collapsed": false,
    "pycharm": {
     "name": "#%%\n"
    }
   }
  },
  {
   "cell_type": "code",
   "execution_count": 32,
   "outputs": [
    {
     "data": {
      "text/plain": "526       E:\\.ongoing_projects\\apache_modwsgi_flask_line...\n527       E:\\.ongoing_projects\\apache_modwsgi_flask_line...\n528       E:\\.ongoing_projects\\apache_modwsgi_flask_line...\n529       E:\\.ongoing_projects\\apache_modwsgi_flask_line...\n4021      E:\\LineBot_typlawsLambda_additional\\images\\ill...\n                                ...                        \n150437    E:\\下載\\Tkinter-GUI-Application-Development-Blue...\n150438    E:\\下載\\Tkinter-GUI-Application-Development-Blue...\n150439    E:\\下載\\Tkinter-GUI-Application-Development-Blue...\n150440    E:\\下載\\Tkinter-GUI-Application-Development-Blue...\n150441    E:\\下載\\bokeh-2.2.3\\bokeh-2.2.3\\examples\\custom\\...\nName: 路徑, Length: 18198, dtype: object"
     },
     "execution_count": 32,
     "metadata": {},
     "output_type": "execute_result"
    }
   ],
   "source": [
    "right"
   ],
   "metadata": {
    "collapsed": false,
    "pycharm": {
     "name": "#%%\n"
    }
   }
  },
  {
   "cell_type": "code",
   "execution_count": 36,
   "outputs": [
    {
     "data": {
      "text/plain": "pandas.core.frame.DataFrame"
     },
     "execution_count": 36,
     "metadata": {},
     "output_type": "execute_result"
    }
   ],
   "source": [
    "type(left.to_frame())"
   ],
   "metadata": {
    "collapsed": false,
    "pycharm": {
     "name": "#%%\n"
    }
   }
  },
  {
   "cell_type": "code",
   "execution_count": 43,
   "outputs": [],
   "source": [
    "x = pd.concat([left, right])"
   ],
   "metadata": {
    "collapsed": false,
    "pycharm": {
     "name": "#%%\n"
    }
   }
  },
  {
   "cell_type": "code",
   "execution_count": 44,
   "outputs": [
    {
     "data": {
      "text/plain": "437       E:\\.ongoing_projects\\flask_stock\\financial_rep...\n438       E:\\.ongoing_projects\\flask_stock\\financial_rep...\n439       E:\\.ongoing_projects\\flask_stock\\financial_rep...\n440       E:\\.ongoing_projects\\flask_stock\\financial_rep...\n441       E:\\.ongoing_projects\\flask_stock\\financial_rep...\n                                ...                        \n150437    E:\\下載\\Tkinter-GUI-Application-Development-Blue...\n150438    E:\\下載\\Tkinter-GUI-Application-Development-Blue...\n150439    E:\\下載\\Tkinter-GUI-Application-Development-Blue...\n150440    E:\\下載\\Tkinter-GUI-Application-Development-Blue...\n150441    E:\\下載\\bokeh-2.2.3\\bokeh-2.2.3\\examples\\custom\\...\nName: 路徑, Length: 65439, dtype: object"
     },
     "execution_count": 44,
     "metadata": {},
     "output_type": "execute_result"
    }
   ],
   "source": [
    "x"
   ],
   "metadata": {
    "collapsed": false,
    "pycharm": {
     "name": "#%%\n"
    }
   }
  },
  {
   "cell_type": "code",
   "execution_count": 45,
   "outputs": [],
   "source": [
    "y = x.index.to_list()"
   ],
   "metadata": {
    "collapsed": false,
    "pycharm": {
     "name": "#%%\n"
    }
   }
  },
  {
   "cell_type": "code",
   "execution_count": 47,
   "outputs": [
    {
     "data": {
      "text/plain": "65439"
     },
     "execution_count": 47,
     "metadata": {},
     "output_type": "execute_result"
    }
   ],
   "source": [
    "len(y)"
   ],
   "metadata": {
    "collapsed": false,
    "pycharm": {
     "name": "#%%\n"
    }
   }
  },
  {
   "cell_type": "code",
   "execution_count": 48,
   "outputs": [
    {
     "data": {
      "text/plain": "47989"
     },
     "execution_count": 48,
     "metadata": {},
     "output_type": "execute_result"
    }
   ],
   "source": [
    "len(set(y))"
   ],
   "metadata": {
    "collapsed": false,
    "pycharm": {
     "name": "#%%\n"
    }
   }
  },
  {
   "cell_type": "code",
   "execution_count": 51,
   "outputs": [
    {
     "data": {
      "text/plain": "4621"
     },
     "execution_count": 51,
     "metadata": {},
     "output_type": "execute_result"
    }
   ],
   "source": [
    "x.nunique()"
   ],
   "metadata": {
    "collapsed": false,
    "pycharm": {
     "name": "#%%\n"
    }
   }
  },
  {
   "cell_type": "code",
   "execution_count": 52,
   "outputs": [],
   "source": [
    "x = x.reset_index()"
   ],
   "metadata": {
    "collapsed": false,
    "pycharm": {
     "name": "#%%\n"
    }
   }
  },
  {
   "cell_type": "code",
   "execution_count": 53,
   "outputs": [
    {
     "data": {
      "text/plain": "        index                                                 路徑\n0         437  E:\\.ongoing_projects\\flask_stock\\financial_rep...\n1         438  E:\\.ongoing_projects\\flask_stock\\financial_rep...\n2         439  E:\\.ongoing_projects\\flask_stock\\financial_rep...\n3         440  E:\\.ongoing_projects\\flask_stock\\financial_rep...\n4         441  E:\\.ongoing_projects\\flask_stock\\financial_rep...\n...       ...                                                ...\n65434  150437  E:\\下載\\Tkinter-GUI-Application-Development-Blue...\n65435  150438  E:\\下載\\Tkinter-GUI-Application-Development-Blue...\n65436  150439  E:\\下載\\Tkinter-GUI-Application-Development-Blue...\n65437  150440  E:\\下載\\Tkinter-GUI-Application-Development-Blue...\n65438  150441  E:\\下載\\bokeh-2.2.3\\bokeh-2.2.3\\examples\\custom\\...\n\n[65439 rows x 2 columns]",
      "text/html": "<div>\n<style scoped>\n    .dataframe tbody tr th:only-of-type {\n        vertical-align: middle;\n    }\n\n    .dataframe tbody tr th {\n        vertical-align: top;\n    }\n\n    .dataframe thead th {\n        text-align: right;\n    }\n</style>\n<table border=\"1\" class=\"dataframe\">\n  <thead>\n    <tr style=\"text-align: right;\">\n      <th></th>\n      <th>index</th>\n      <th>路徑</th>\n    </tr>\n  </thead>\n  <tbody>\n    <tr>\n      <th>0</th>\n      <td>437</td>\n      <td>E:\\.ongoing_projects\\flask_stock\\financial_rep...</td>\n    </tr>\n    <tr>\n      <th>1</th>\n      <td>438</td>\n      <td>E:\\.ongoing_projects\\flask_stock\\financial_rep...</td>\n    </tr>\n    <tr>\n      <th>2</th>\n      <td>439</td>\n      <td>E:\\.ongoing_projects\\flask_stock\\financial_rep...</td>\n    </tr>\n    <tr>\n      <th>3</th>\n      <td>440</td>\n      <td>E:\\.ongoing_projects\\flask_stock\\financial_rep...</td>\n    </tr>\n    <tr>\n      <th>4</th>\n      <td>441</td>\n      <td>E:\\.ongoing_projects\\flask_stock\\financial_rep...</td>\n    </tr>\n    <tr>\n      <th>...</th>\n      <td>...</td>\n      <td>...</td>\n    </tr>\n    <tr>\n      <th>65434</th>\n      <td>150437</td>\n      <td>E:\\下載\\Tkinter-GUI-Application-Development-Blue...</td>\n    </tr>\n    <tr>\n      <th>65435</th>\n      <td>150438</td>\n      <td>E:\\下載\\Tkinter-GUI-Application-Development-Blue...</td>\n    </tr>\n    <tr>\n      <th>65436</th>\n      <td>150439</td>\n      <td>E:\\下載\\Tkinter-GUI-Application-Development-Blue...</td>\n    </tr>\n    <tr>\n      <th>65437</th>\n      <td>150440</td>\n      <td>E:\\下載\\Tkinter-GUI-Application-Development-Blue...</td>\n    </tr>\n    <tr>\n      <th>65438</th>\n      <td>150441</td>\n      <td>E:\\下載\\bokeh-2.2.3\\bokeh-2.2.3\\examples\\custom\\...</td>\n    </tr>\n  </tbody>\n</table>\n<p>65439 rows × 2 columns</p>\n</div>"
     },
     "execution_count": 53,
     "metadata": {},
     "output_type": "execute_result"
    }
   ],
   "source": [
    "x"
   ],
   "metadata": {
    "collapsed": false,
    "pycharm": {
     "name": "#%%\n"
    }
   }
  },
  {
   "cell_type": "code",
   "execution_count": 55,
   "outputs": [
    {
     "data": {
      "text/plain": "Empty DataFrame\nColumns: [index, 路徑]\nIndex: []",
      "text/html": "<div>\n<style scoped>\n    .dataframe tbody tr th:only-of-type {\n        vertical-align: middle;\n    }\n\n    .dataframe tbody tr th {\n        vertical-align: top;\n    }\n\n    .dataframe thead th {\n        text-align: right;\n    }\n</style>\n<table border=\"1\" class=\"dataframe\">\n  <thead>\n    <tr style=\"text-align: right;\">\n      <th></th>\n      <th>index</th>\n      <th>路徑</th>\n    </tr>\n  </thead>\n  <tbody>\n  </tbody>\n</table>\n</div>"
     },
     "execution_count": 55,
     "metadata": {},
     "output_type": "execute_result"
    }
   ],
   "source": [
    "x.duplicated()"
   ],
   "metadata": {
    "collapsed": false,
    "pycharm": {
     "name": "#%%\n"
    }
   }
  },
  {
   "cell_type": "code",
   "execution_count": 6,
   "outputs": [],
   "source": [
    "dfi = pd.read_csv('df_index.csv', encoding='utf-8-sig')"
   ],
   "metadata": {
    "collapsed": false,
    "pycharm": {
     "name": "#%%\n"
    }
   }
  },
  {
   "cell_type": "code",
   "execution_count": 7,
   "outputs": [
    {
     "data": {
      "text/plain": "                                  磁碟機根目錄      組別      檔案類型 磁碟機  \\\n0       Z:\\8分鐘搞懂理財知識_新手教室 Youtube 投資影片教學       1      .mp4  Z:   \n1                     Z:\\8分鐘搞懂理財知識_重新整理過       1      .mp4  Z:   \n2                      Z:\\Youtube 投資影片教學       1      .mp4  Z:   \n3                           D:\\8分鐘搞懂理財知識       1      .mp4  D:   \n4                           D:\\8分鐘搞懂理財知識       1      .mp4  D:   \n...                                  ...     ...       ...  ..   \n468164                         Z:\\資訊書籍文件  167210    .props  Z:   \n468165                         Z:\\資訊書籍文件  167210    .props  Z:   \n468166                         Z:\\資訊書籍文件  167210    .props  Z:   \n468167                         Z:\\資訊書籍文件  167211  .strings  Z:   \n468168                         Z:\\資訊書籍文件  167211  .strings  Z:   \n\n                                  根目錄  \\\n0       8分鐘搞懂理財知識_新手教室 Youtube 投資影片教學   \n1                     8分鐘搞懂理財知識_重新整理過   \n2                      Youtube 投資影片教學   \n3                           8分鐘搞懂理財知識   \n4                           8分鐘搞懂理財知識   \n...                               ...   \n468164                         資訊書籍文件   \n468165                         資訊書籍文件   \n468166                         資訊書籍文件   \n468167                         資訊書籍文件   \n468168                         資訊書籍文件   \n\n                                                      子目錄  \\\n0                                                     NaN   \n1                                                     NaN   \n2                                                     NaN   \n3                     _8分鐘搞懂理財知識_原來的 新手教室 Youtube 投資影片教學\\   \n4                              _8分鐘搞懂理財知識_整理的 Youtube 影片\\   \n...                                                   ...   \n468164  Visual C# 一次就懂 ASP.NET MVC5.X 網站開發 Web 應用的經典實務...   \n468165  Visual C# 一次就懂 ASP.NET MVC5.X 網站開發 Web 應用的經典實務...   \n468166  Visual C# 一次就懂 ASP.NET MVC5.X 網站開發 Web 應用的經典實務...   \n468167  iOS 13 程式設計實戰 Swift 5.1SwiftUI 框架 快速上手的開發技巧 20...   \n468168  iOS 13 程式設計實戰 Swift 5.1SwiftUI 框架 快速上手的開發技巧 20...   \n\n                                     檔案資料夾  \\\n0            8分鐘搞懂理財知識_新手教室 Youtube 投資影片教學   \n1                          8分鐘搞懂理財知識_重新整理過   \n2                           Youtube 投資影片教學   \n3       _8分鐘搞懂理財知識_原來的 新手教室 Youtube 投資影片教學   \n4                _8分鐘搞懂理財知識_整理的 Youtube 影片   \n...                                    ...   \n468164                               net46   \n468165                               net45   \n468166                               net46   \n468167                       zh-Hant.lproj   \n468168                       zh-Hant.lproj   \n\n                                                     檔案名稱  \\\n0                      8分鐘搞懂技術分析：RSI的重要價值-WUwaMVSCDYY.mp4   \n1                  2015-08-25_2152_技術分析教學_快速搞懂RSI技術指標.mp4   \n2                      8分鐘搞懂技術分析：RSI的重要價值-WUwaMVSCDYY.mp4   \n3                      8分鐘搞懂技術分析：RSI的重要價值-WUwaMVSCDYY.mp4   \n4                  2015-08-25_2152_技術分析教學_快速搞懂RSI技術指標.mp4   \n...                                                   ...   \n468164  Microsoft.CodeDom.Providers.DotNetCompilerPlat...   \n468165  Microsoft.CodeDom.Providers.DotNetCompilerPlat...   \n468166  Microsoft.CodeDom.Providers.DotNetCompilerPlat...   \n468167                               LaunchScreen.strings   \n468168                               LaunchScreen.strings   \n\n                                                       路徑        大小  \\\n0                       Z:\\8分鐘搞懂理財知識_新手教室 Youtube 投資影片教學\\  25612876   \n1                                     Z:\\8分鐘搞懂理財知識_重新整理過\\  25612876   \n2                                      Z:\\Youtube 投資影片教學\\  25612876   \n3        D:\\8分鐘搞懂理財知識\\_8分鐘搞懂理財知識_原來的 新手教室 Youtube 投資影片教學\\  25612876   \n4                 D:\\8分鐘搞懂理財知識\\_8分鐘搞懂理財知識_整理的 Youtube 影片\\  25612876   \n...                                                   ...       ...   \n468164  Z:\\資訊書籍文件\\Visual C# 一次就懂 ASP.NET MVC5.X 網站開發 W...      5530   \n468165  Z:\\資訊書籍文件\\Visual C# 一次就懂 ASP.NET MVC5.X 網站開發 W...      5530   \n468166  Z:\\資訊書籍文件\\Visual C# 一次就懂 ASP.NET MVC5.X 網站開發 W...      5530   \n468167  Z:\\資訊書籍文件\\iOS 13 程式設計實戰 Swift 5.1SwiftUI 框架 快速...         1   \n468168  Z:\\資訊書籍文件\\iOS 13 程式設計實戰 Swift 5.1SwiftUI 框架 快速...         1   \n\n                         新增日期                    修改日期  \n0       2021/5/10 下午 05:08:28  2018/11/14 下午 02:12:09  \n1       2021/5/11 上午 03:06:53   2021/5/11 上午 02:58:44  \n2       2021/5/10 下午 04:04:52  2018/11/14 下午 02:12:09  \n3       2021/8/18 上午 02:37:16  2018/11/14 下午 02:12:09  \n4       2021/8/18 上午 02:38:06   2021/5/11 上午 02:58:44  \n...                       ...                     ...  \n468164   2020/3/7 下午 08:06:24   2018/5/24 上午 05:38:22  \n468165   2020/3/7 下午 08:09:52   2018/5/24 上午 05:38:22  \n468166   2020/3/7 下午 08:09:53   2018/5/24 上午 05:38:22  \n468167  2020/2/10 上午 07:58:08   2019/7/31 上午 07:20:26  \n468168  2020/2/10 上午 07:58:08   2019/7/31 上午 07:20:24  \n\n[468169 rows x 12 columns]",
      "text/html": "<div>\n<style scoped>\n    .dataframe tbody tr th:only-of-type {\n        vertical-align: middle;\n    }\n\n    .dataframe tbody tr th {\n        vertical-align: top;\n    }\n\n    .dataframe thead th {\n        text-align: right;\n    }\n</style>\n<table border=\"1\" class=\"dataframe\">\n  <thead>\n    <tr style=\"text-align: right;\">\n      <th></th>\n      <th>磁碟機根目錄</th>\n      <th>組別</th>\n      <th>檔案類型</th>\n      <th>磁碟機</th>\n      <th>根目錄</th>\n      <th>子目錄</th>\n      <th>檔案資料夾</th>\n      <th>檔案名稱</th>\n      <th>路徑</th>\n      <th>大小</th>\n      <th>新增日期</th>\n      <th>修改日期</th>\n    </tr>\n  </thead>\n  <tbody>\n    <tr>\n      <th>0</th>\n      <td>Z:\\8分鐘搞懂理財知識_新手教室 Youtube 投資影片教學</td>\n      <td>1</td>\n      <td>.mp4</td>\n      <td>Z:</td>\n      <td>8分鐘搞懂理財知識_新手教室 Youtube 投資影片教學</td>\n      <td>NaN</td>\n      <td>8分鐘搞懂理財知識_新手教室 Youtube 投資影片教學</td>\n      <td>8分鐘搞懂技術分析：RSI的重要價值-WUwaMVSCDYY.mp4</td>\n      <td>Z:\\8分鐘搞懂理財知識_新手教室 Youtube 投資影片教學\\</td>\n      <td>25612876</td>\n      <td>2021/5/10 下午 05:08:28</td>\n      <td>2018/11/14 下午 02:12:09</td>\n    </tr>\n    <tr>\n      <th>1</th>\n      <td>Z:\\8分鐘搞懂理財知識_重新整理過</td>\n      <td>1</td>\n      <td>.mp4</td>\n      <td>Z:</td>\n      <td>8分鐘搞懂理財知識_重新整理過</td>\n      <td>NaN</td>\n      <td>8分鐘搞懂理財知識_重新整理過</td>\n      <td>2015-08-25_2152_技術分析教學_快速搞懂RSI技術指標.mp4</td>\n      <td>Z:\\8分鐘搞懂理財知識_重新整理過\\</td>\n      <td>25612876</td>\n      <td>2021/5/11 上午 03:06:53</td>\n      <td>2021/5/11 上午 02:58:44</td>\n    </tr>\n    <tr>\n      <th>2</th>\n      <td>Z:\\Youtube 投資影片教學</td>\n      <td>1</td>\n      <td>.mp4</td>\n      <td>Z:</td>\n      <td>Youtube 投資影片教學</td>\n      <td>NaN</td>\n      <td>Youtube 投資影片教學</td>\n      <td>8分鐘搞懂技術分析：RSI的重要價值-WUwaMVSCDYY.mp4</td>\n      <td>Z:\\Youtube 投資影片教學\\</td>\n      <td>25612876</td>\n      <td>2021/5/10 下午 04:04:52</td>\n      <td>2018/11/14 下午 02:12:09</td>\n    </tr>\n    <tr>\n      <th>3</th>\n      <td>D:\\8分鐘搞懂理財知識</td>\n      <td>1</td>\n      <td>.mp4</td>\n      <td>D:</td>\n      <td>8分鐘搞懂理財知識</td>\n      <td>_8分鐘搞懂理財知識_原來的 新手教室 Youtube 投資影片教學\\</td>\n      <td>_8分鐘搞懂理財知識_原來的 新手教室 Youtube 投資影片教學</td>\n      <td>8分鐘搞懂技術分析：RSI的重要價值-WUwaMVSCDYY.mp4</td>\n      <td>D:\\8分鐘搞懂理財知識\\_8分鐘搞懂理財知識_原來的 新手教室 Youtube 投資影片教學\\</td>\n      <td>25612876</td>\n      <td>2021/8/18 上午 02:37:16</td>\n      <td>2018/11/14 下午 02:12:09</td>\n    </tr>\n    <tr>\n      <th>4</th>\n      <td>D:\\8分鐘搞懂理財知識</td>\n      <td>1</td>\n      <td>.mp4</td>\n      <td>D:</td>\n      <td>8分鐘搞懂理財知識</td>\n      <td>_8分鐘搞懂理財知識_整理的 Youtube 影片\\</td>\n      <td>_8分鐘搞懂理財知識_整理的 Youtube 影片</td>\n      <td>2015-08-25_2152_技術分析教學_快速搞懂RSI技術指標.mp4</td>\n      <td>D:\\8分鐘搞懂理財知識\\_8分鐘搞懂理財知識_整理的 Youtube 影片\\</td>\n      <td>25612876</td>\n      <td>2021/8/18 上午 02:38:06</td>\n      <td>2021/5/11 上午 02:58:44</td>\n    </tr>\n    <tr>\n      <th>...</th>\n      <td>...</td>\n      <td>...</td>\n      <td>...</td>\n      <td>...</td>\n      <td>...</td>\n      <td>...</td>\n      <td>...</td>\n      <td>...</td>\n      <td>...</td>\n      <td>...</td>\n      <td>...</td>\n      <td>...</td>\n    </tr>\n    <tr>\n      <th>468164</th>\n      <td>Z:\\資訊書籍文件</td>\n      <td>167210</td>\n      <td>.props</td>\n      <td>Z:</td>\n      <td>資訊書籍文件</td>\n      <td>Visual C# 一次就懂 ASP.NET MVC5.X 網站開發 Web 應用的經典實務...</td>\n      <td>net46</td>\n      <td>Microsoft.CodeDom.Providers.DotNetCompilerPlat...</td>\n      <td>Z:\\資訊書籍文件\\Visual C# 一次就懂 ASP.NET MVC5.X 網站開發 W...</td>\n      <td>5530</td>\n      <td>2020/3/7 下午 08:06:24</td>\n      <td>2018/5/24 上午 05:38:22</td>\n    </tr>\n    <tr>\n      <th>468165</th>\n      <td>Z:\\資訊書籍文件</td>\n      <td>167210</td>\n      <td>.props</td>\n      <td>Z:</td>\n      <td>資訊書籍文件</td>\n      <td>Visual C# 一次就懂 ASP.NET MVC5.X 網站開發 Web 應用的經典實務...</td>\n      <td>net45</td>\n      <td>Microsoft.CodeDom.Providers.DotNetCompilerPlat...</td>\n      <td>Z:\\資訊書籍文件\\Visual C# 一次就懂 ASP.NET MVC5.X 網站開發 W...</td>\n      <td>5530</td>\n      <td>2020/3/7 下午 08:09:52</td>\n      <td>2018/5/24 上午 05:38:22</td>\n    </tr>\n    <tr>\n      <th>468166</th>\n      <td>Z:\\資訊書籍文件</td>\n      <td>167210</td>\n      <td>.props</td>\n      <td>Z:</td>\n      <td>資訊書籍文件</td>\n      <td>Visual C# 一次就懂 ASP.NET MVC5.X 網站開發 Web 應用的經典實務...</td>\n      <td>net46</td>\n      <td>Microsoft.CodeDom.Providers.DotNetCompilerPlat...</td>\n      <td>Z:\\資訊書籍文件\\Visual C# 一次就懂 ASP.NET MVC5.X 網站開發 W...</td>\n      <td>5530</td>\n      <td>2020/3/7 下午 08:09:53</td>\n      <td>2018/5/24 上午 05:38:22</td>\n    </tr>\n    <tr>\n      <th>468167</th>\n      <td>Z:\\資訊書籍文件</td>\n      <td>167211</td>\n      <td>.strings</td>\n      <td>Z:</td>\n      <td>資訊書籍文件</td>\n      <td>iOS 13 程式設計實戰 Swift 5.1SwiftUI 框架 快速上手的開發技巧 20...</td>\n      <td>zh-Hant.lproj</td>\n      <td>LaunchScreen.strings</td>\n      <td>Z:\\資訊書籍文件\\iOS 13 程式設計實戰 Swift 5.1SwiftUI 框架 快速...</td>\n      <td>1</td>\n      <td>2020/2/10 上午 07:58:08</td>\n      <td>2019/7/31 上午 07:20:26</td>\n    </tr>\n    <tr>\n      <th>468168</th>\n      <td>Z:\\資訊書籍文件</td>\n      <td>167211</td>\n      <td>.strings</td>\n      <td>Z:</td>\n      <td>資訊書籍文件</td>\n      <td>iOS 13 程式設計實戰 Swift 5.1SwiftUI 框架 快速上手的開發技巧 20...</td>\n      <td>zh-Hant.lproj</td>\n      <td>LaunchScreen.strings</td>\n      <td>Z:\\資訊書籍文件\\iOS 13 程式設計實戰 Swift 5.1SwiftUI 框架 快速...</td>\n      <td>1</td>\n      <td>2020/2/10 上午 07:58:08</td>\n      <td>2019/7/31 上午 07:20:24</td>\n    </tr>\n  </tbody>\n</table>\n<p>468169 rows × 12 columns</p>\n</div>"
     },
     "execution_count": 7,
     "metadata": {},
     "output_type": "execute_result"
    }
   ],
   "source": [
    "dfi"
   ],
   "metadata": {
    "collapsed": false,
    "pycharm": {
     "name": "#%%\n"
    }
   }
  },
  {
   "cell_type": "code",
   "execution_count": null,
   "outputs": [],
   "source": [],
   "metadata": {
    "collapsed": false,
    "pycharm": {
     "name": "#%%\n"
    }
   }
  }
 ],
 "metadata": {
  "kernelspec": {
   "display_name": "Python 3",
   "language": "python",
   "name": "python3"
  },
  "language_info": {
   "codemirror_mode": {
    "name": "ipython",
    "version": 2
   },
   "file_extension": ".py",
   "mimetype": "text/x-python",
   "name": "python",
   "nbconvert_exporter": "python",
   "pygments_lexer": "ipython2",
   "version": "2.7.6"
  }
 },
 "nbformat": 4,
 "nbformat_minor": 0
}