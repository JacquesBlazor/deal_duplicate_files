{
 "cells": [
  {
   "cell_type": "code",
   "execution_count": 1,
   "metadata": {
    "collapsed": true
   },
   "outputs": [],
   "source": [
    "import pandas as pd\n",
    "import re"
   ]
  },
  {
   "cell_type": "code",
   "execution_count": 2,
   "outputs": [],
   "source": [
    "df = pd.read_csv('df_index.csv', encoding='utf-8-sig')"
   ],
   "metadata": {
    "collapsed": false,
    "pycharm": {
     "name": "#%%\n"
    }
   }
  },
  {
   "cell_type": "code",
   "execution_count": 3,
   "outputs": [
    {
     "data": {
      "text/plain": "                                  磁碟機根目錄      組別      檔案類型 磁碟機  \\\n0       Z:\\8分鐘搞懂理財知識_新手教室 Youtube 投資影片教學       1      .mp4  Z:   \n1                     Z:\\8分鐘搞懂理財知識_重新整理過       1      .mp4  Z:   \n2                      Z:\\Youtube 投資影片教學       1      .mp4  Z:   \n3                           D:\\8分鐘搞懂理財知識       1      .mp4  D:   \n4                           D:\\8分鐘搞懂理財知識       1      .mp4  D:   \n...                                  ...     ...       ...  ..   \n468164                         Z:\\資訊書籍文件  167210    .props  Z:   \n468165                         Z:\\資訊書籍文件  167210    .props  Z:   \n468166                         Z:\\資訊書籍文件  167210    .props  Z:   \n468167                         Z:\\資訊書籍文件  167211  .strings  Z:   \n468168                         Z:\\資訊書籍文件  167211  .strings  Z:   \n\n                                  根目錄  \\\n0       8分鐘搞懂理財知識_新手教室 Youtube 投資影片教學   \n1                     8分鐘搞懂理財知識_重新整理過   \n2                      Youtube 投資影片教學   \n3                           8分鐘搞懂理財知識   \n4                           8分鐘搞懂理財知識   \n...                               ...   \n468164                         資訊書籍文件   \n468165                         資訊書籍文件   \n468166                         資訊書籍文件   \n468167                         資訊書籍文件   \n468168                         資訊書籍文件   \n\n                                                      子目錄  \\\n0                                                     NaN   \n1                                                     NaN   \n2                                                     NaN   \n3                     _8分鐘搞懂理財知識_原來的 新手教室 Youtube 投資影片教學\\   \n4                              _8分鐘搞懂理財知識_整理的 Youtube 影片\\   \n...                                                   ...   \n468164  Visual C# 一次就懂 ASP.NET MVC5.X 網站開發 Web 應用的經典實務...   \n468165  Visual C# 一次就懂 ASP.NET MVC5.X 網站開發 Web 應用的經典實務...   \n468166  Visual C# 一次就懂 ASP.NET MVC5.X 網站開發 Web 應用的經典實務...   \n468167  iOS 13 程式設計實戰 Swift 5.1SwiftUI 框架 快速上手的開發技巧 20...   \n468168  iOS 13 程式設計實戰 Swift 5.1SwiftUI 框架 快速上手的開發技巧 20...   \n\n                                     檔案資料夾  \\\n0            8分鐘搞懂理財知識_新手教室 Youtube 投資影片教學   \n1                          8分鐘搞懂理財知識_重新整理過   \n2                           Youtube 投資影片教學   \n3       _8分鐘搞懂理財知識_原來的 新手教室 Youtube 投資影片教學   \n4                _8分鐘搞懂理財知識_整理的 Youtube 影片   \n...                                    ...   \n468164                               net46   \n468165                               net45   \n468166                               net46   \n468167                       zh-Hant.lproj   \n468168                       zh-Hant.lproj   \n\n                                                     檔案名稱  \\\n0                      8分鐘搞懂技術分析：RSI的重要價值-WUwaMVSCDYY.mp4   \n1                  2015-08-25_2152_技術分析教學_快速搞懂RSI技術指標.mp4   \n2                      8分鐘搞懂技術分析：RSI的重要價值-WUwaMVSCDYY.mp4   \n3                      8分鐘搞懂技術分析：RSI的重要價值-WUwaMVSCDYY.mp4   \n4                  2015-08-25_2152_技術分析教學_快速搞懂RSI技術指標.mp4   \n...                                                   ...   \n468164  Microsoft.CodeDom.Providers.DotNetCompilerPlat...   \n468165  Microsoft.CodeDom.Providers.DotNetCompilerPlat...   \n468166  Microsoft.CodeDom.Providers.DotNetCompilerPlat...   \n468167                               LaunchScreen.strings   \n468168                               LaunchScreen.strings   \n\n                                                       路徑        大小  \\\n0                       Z:\\8分鐘搞懂理財知識_新手教室 Youtube 投資影片教學\\  25612876   \n1                                     Z:\\8分鐘搞懂理財知識_重新整理過\\  25612876   \n2                                      Z:\\Youtube 投資影片教學\\  25612876   \n3        D:\\8分鐘搞懂理財知識\\_8分鐘搞懂理財知識_原來的 新手教室 Youtube 投資影片教學\\  25612876   \n4                 D:\\8分鐘搞懂理財知識\\_8分鐘搞懂理財知識_整理的 Youtube 影片\\  25612876   \n...                                                   ...       ...   \n468164  Z:\\資訊書籍文件\\Visual C# 一次就懂 ASP.NET MVC5.X 網站開發 W...      5530   \n468165  Z:\\資訊書籍文件\\Visual C# 一次就懂 ASP.NET MVC5.X 網站開發 W...      5530   \n468166  Z:\\資訊書籍文件\\Visual C# 一次就懂 ASP.NET MVC5.X 網站開發 W...      5530   \n468167  Z:\\資訊書籍文件\\iOS 13 程式設計實戰 Swift 5.1SwiftUI 框架 快速...         1   \n468168  Z:\\資訊書籍文件\\iOS 13 程式設計實戰 Swift 5.1SwiftUI 框架 快速...         1   \n\n                         新增日期                    修改日期  \n0       2021/5/10 下午 05:08:28  2018/11/14 下午 02:12:09  \n1       2021/5/11 上午 03:06:53   2021/5/11 上午 02:58:44  \n2       2021/5/10 下午 04:04:52  2018/11/14 下午 02:12:09  \n3       2021/8/18 上午 02:37:16  2018/11/14 下午 02:12:09  \n4       2021/8/18 上午 02:38:06   2021/5/11 上午 02:58:44  \n...                       ...                     ...  \n468164   2020/3/7 下午 08:06:24   2018/5/24 上午 05:38:22  \n468165   2020/3/7 下午 08:09:52   2018/5/24 上午 05:38:22  \n468166   2020/3/7 下午 08:09:53   2018/5/24 上午 05:38:22  \n468167  2020/2/10 上午 07:58:08   2019/7/31 上午 07:20:26  \n468168  2020/2/10 上午 07:58:08   2019/7/31 上午 07:20:24  \n\n[468169 rows x 12 columns]",
      "text/html": "<div>\n<style scoped>\n    .dataframe tbody tr th:only-of-type {\n        vertical-align: middle;\n    }\n\n    .dataframe tbody tr th {\n        vertical-align: top;\n    }\n\n    .dataframe thead th {\n        text-align: right;\n    }\n</style>\n<table border=\"1\" class=\"dataframe\">\n  <thead>\n    <tr style=\"text-align: right;\">\n      <th></th>\n      <th>磁碟機根目錄</th>\n      <th>組別</th>\n      <th>檔案類型</th>\n      <th>磁碟機</th>\n      <th>根目錄</th>\n      <th>子目錄</th>\n      <th>檔案資料夾</th>\n      <th>檔案名稱</th>\n      <th>路徑</th>\n      <th>大小</th>\n      <th>新增日期</th>\n      <th>修改日期</th>\n    </tr>\n  </thead>\n  <tbody>\n    <tr>\n      <th>0</th>\n      <td>Z:\\8分鐘搞懂理財知識_新手教室 Youtube 投資影片教學</td>\n      <td>1</td>\n      <td>.mp4</td>\n      <td>Z:</td>\n      <td>8分鐘搞懂理財知識_新手教室 Youtube 投資影片教學</td>\n      <td>NaN</td>\n      <td>8分鐘搞懂理財知識_新手教室 Youtube 投資影片教學</td>\n      <td>8分鐘搞懂技術分析：RSI的重要價值-WUwaMVSCDYY.mp4</td>\n      <td>Z:\\8分鐘搞懂理財知識_新手教室 Youtube 投資影片教學\\</td>\n      <td>25612876</td>\n      <td>2021/5/10 下午 05:08:28</td>\n      <td>2018/11/14 下午 02:12:09</td>\n    </tr>\n    <tr>\n      <th>1</th>\n      <td>Z:\\8分鐘搞懂理財知識_重新整理過</td>\n      <td>1</td>\n      <td>.mp4</td>\n      <td>Z:</td>\n      <td>8分鐘搞懂理財知識_重新整理過</td>\n      <td>NaN</td>\n      <td>8分鐘搞懂理財知識_重新整理過</td>\n      <td>2015-08-25_2152_技術分析教學_快速搞懂RSI技術指標.mp4</td>\n      <td>Z:\\8分鐘搞懂理財知識_重新整理過\\</td>\n      <td>25612876</td>\n      <td>2021/5/11 上午 03:06:53</td>\n      <td>2021/5/11 上午 02:58:44</td>\n    </tr>\n    <tr>\n      <th>2</th>\n      <td>Z:\\Youtube 投資影片教學</td>\n      <td>1</td>\n      <td>.mp4</td>\n      <td>Z:</td>\n      <td>Youtube 投資影片教學</td>\n      <td>NaN</td>\n      <td>Youtube 投資影片教學</td>\n      <td>8分鐘搞懂技術分析：RSI的重要價值-WUwaMVSCDYY.mp4</td>\n      <td>Z:\\Youtube 投資影片教學\\</td>\n      <td>25612876</td>\n      <td>2021/5/10 下午 04:04:52</td>\n      <td>2018/11/14 下午 02:12:09</td>\n    </tr>\n    <tr>\n      <th>3</th>\n      <td>D:\\8分鐘搞懂理財知識</td>\n      <td>1</td>\n      <td>.mp4</td>\n      <td>D:</td>\n      <td>8分鐘搞懂理財知識</td>\n      <td>_8分鐘搞懂理財知識_原來的 新手教室 Youtube 投資影片教學\\</td>\n      <td>_8分鐘搞懂理財知識_原來的 新手教室 Youtube 投資影片教學</td>\n      <td>8分鐘搞懂技術分析：RSI的重要價值-WUwaMVSCDYY.mp4</td>\n      <td>D:\\8分鐘搞懂理財知識\\_8分鐘搞懂理財知識_原來的 新手教室 Youtube 投資影片教學\\</td>\n      <td>25612876</td>\n      <td>2021/8/18 上午 02:37:16</td>\n      <td>2018/11/14 下午 02:12:09</td>\n    </tr>\n    <tr>\n      <th>4</th>\n      <td>D:\\8分鐘搞懂理財知識</td>\n      <td>1</td>\n      <td>.mp4</td>\n      <td>D:</td>\n      <td>8分鐘搞懂理財知識</td>\n      <td>_8分鐘搞懂理財知識_整理的 Youtube 影片\\</td>\n      <td>_8分鐘搞懂理財知識_整理的 Youtube 影片</td>\n      <td>2015-08-25_2152_技術分析教學_快速搞懂RSI技術指標.mp4</td>\n      <td>D:\\8分鐘搞懂理財知識\\_8分鐘搞懂理財知識_整理的 Youtube 影片\\</td>\n      <td>25612876</td>\n      <td>2021/8/18 上午 02:38:06</td>\n      <td>2021/5/11 上午 02:58:44</td>\n    </tr>\n    <tr>\n      <th>...</th>\n      <td>...</td>\n      <td>...</td>\n      <td>...</td>\n      <td>...</td>\n      <td>...</td>\n      <td>...</td>\n      <td>...</td>\n      <td>...</td>\n      <td>...</td>\n      <td>...</td>\n      <td>...</td>\n      <td>...</td>\n    </tr>\n    <tr>\n      <th>468164</th>\n      <td>Z:\\資訊書籍文件</td>\n      <td>167210</td>\n      <td>.props</td>\n      <td>Z:</td>\n      <td>資訊書籍文件</td>\n      <td>Visual C# 一次就懂 ASP.NET MVC5.X 網站開發 Web 應用的經典實務...</td>\n      <td>net46</td>\n      <td>Microsoft.CodeDom.Providers.DotNetCompilerPlat...</td>\n      <td>Z:\\資訊書籍文件\\Visual C# 一次就懂 ASP.NET MVC5.X 網站開發 W...</td>\n      <td>5530</td>\n      <td>2020/3/7 下午 08:06:24</td>\n      <td>2018/5/24 上午 05:38:22</td>\n    </tr>\n    <tr>\n      <th>468165</th>\n      <td>Z:\\資訊書籍文件</td>\n      <td>167210</td>\n      <td>.props</td>\n      <td>Z:</td>\n      <td>資訊書籍文件</td>\n      <td>Visual C# 一次就懂 ASP.NET MVC5.X 網站開發 Web 應用的經典實務...</td>\n      <td>net45</td>\n      <td>Microsoft.CodeDom.Providers.DotNetCompilerPlat...</td>\n      <td>Z:\\資訊書籍文件\\Visual C# 一次就懂 ASP.NET MVC5.X 網站開發 W...</td>\n      <td>5530</td>\n      <td>2020/3/7 下午 08:09:52</td>\n      <td>2018/5/24 上午 05:38:22</td>\n    </tr>\n    <tr>\n      <th>468166</th>\n      <td>Z:\\資訊書籍文件</td>\n      <td>167210</td>\n      <td>.props</td>\n      <td>Z:</td>\n      <td>資訊書籍文件</td>\n      <td>Visual C# 一次就懂 ASP.NET MVC5.X 網站開發 Web 應用的經典實務...</td>\n      <td>net46</td>\n      <td>Microsoft.CodeDom.Providers.DotNetCompilerPlat...</td>\n      <td>Z:\\資訊書籍文件\\Visual C# 一次就懂 ASP.NET MVC5.X 網站開發 W...</td>\n      <td>5530</td>\n      <td>2020/3/7 下午 08:09:53</td>\n      <td>2018/5/24 上午 05:38:22</td>\n    </tr>\n    <tr>\n      <th>468167</th>\n      <td>Z:\\資訊書籍文件</td>\n      <td>167211</td>\n      <td>.strings</td>\n      <td>Z:</td>\n      <td>資訊書籍文件</td>\n      <td>iOS 13 程式設計實戰 Swift 5.1SwiftUI 框架 快速上手的開發技巧 20...</td>\n      <td>zh-Hant.lproj</td>\n      <td>LaunchScreen.strings</td>\n      <td>Z:\\資訊書籍文件\\iOS 13 程式設計實戰 Swift 5.1SwiftUI 框架 快速...</td>\n      <td>1</td>\n      <td>2020/2/10 上午 07:58:08</td>\n      <td>2019/7/31 上午 07:20:26</td>\n    </tr>\n    <tr>\n      <th>468168</th>\n      <td>Z:\\資訊書籍文件</td>\n      <td>167211</td>\n      <td>.strings</td>\n      <td>Z:</td>\n      <td>資訊書籍文件</td>\n      <td>iOS 13 程式設計實戰 Swift 5.1SwiftUI 框架 快速上手的開發技巧 20...</td>\n      <td>zh-Hant.lproj</td>\n      <td>LaunchScreen.strings</td>\n      <td>Z:\\資訊書籍文件\\iOS 13 程式設計實戰 Swift 5.1SwiftUI 框架 快速...</td>\n      <td>1</td>\n      <td>2020/2/10 上午 07:58:08</td>\n      <td>2019/7/31 上午 07:20:24</td>\n    </tr>\n  </tbody>\n</table>\n<p>468169 rows × 12 columns</p>\n</div>"
     },
     "execution_count": 3,
     "metadata": {},
     "output_type": "execute_result"
    }
   ],
   "source": [
    "df"
   ],
   "metadata": {
    "collapsed": false,
    "pycharm": {
     "name": "#%%\n"
    }
   }
  },
  {
   "cell_type": "code",
   "execution_count": 4,
   "outputs": [],
   "source": [
    "construct_frame = pd.DataFrame()\n",
    "numbers_list = []"
   ],
   "metadata": {
    "collapsed": false,
    "pycharm": {
     "name": "#%%\n"
    }
   }
  },
  {
   "cell_type": "code",
   "execution_count": 5,
   "outputs": [
    {
     "data": {
      "text/plain": "1"
     },
     "execution_count": 5,
     "metadata": {},
     "output_type": "execute_result"
    }
   ],
   "source": [
    "eval_group_id = df['組別'].iloc[0]\n",
    "eval_group_id"
   ],
   "metadata": {
    "collapsed": false,
    "pycharm": {
     "name": "#%%\n"
    }
   }
  },
  {
   "cell_type": "code",
   "execution_count": 6,
   "outputs": [
    {
     "data": {
      "text/plain": "['Z:\\\\8分鐘搞懂理財知識_新手教室 Youtube 投資影片教學',\n 'Z:\\\\8分鐘搞懂理財知識_重新整理過',\n 'Z:\\\\Youtube 投資影片教學',\n 'D:\\\\8分鐘搞懂理財知識']"
     },
     "execution_count": 6,
     "metadata": {},
     "output_type": "execute_result"
    }
   ],
   "source": [
    "# Loop Start\n",
    "root_folder_list = list(df[df['組別'] == eval_group_id]['磁碟機根目錄'].unique())\n",
    "root_folder_list"
   ],
   "metadata": {
    "collapsed": false,
    "pycharm": {
     "name": "#%%\n"
    }
   }
  },
  {
   "cell_type": "code",
   "execution_count": 7,
   "outputs": [
    {
     "data": {
      "text/plain": "array(['Z:\\\\8分鐘搞懂理財知識_新手教室 Youtube 投資影片教學\\\\', 'Z:\\\\8分鐘搞懂理財知識_重新整理過\\\\',\n       'Z:\\\\Youtube 投資影片教學\\\\',\n       'D:\\\\8分鐘搞懂理財知識\\\\_8分鐘搞懂理財知識_原來的 新手教室 Youtube 投資影片教學\\\\',\n       'D:\\\\8分鐘搞懂理財知識\\\\_8分鐘搞懂理財知識_整理的 Youtube 影片\\\\',\n       'D:\\\\8分鐘搞懂理財知識\\\\_8分鐘搞懂理財知識_整理的影片by資料夾\\\\2015-08-25_2152_技術分析教學_快速搞懂RSI技術指標\\\\'],\n      dtype=object)"
     },
     "execution_count": 7,
     "metadata": {},
     "output_type": "execute_result"
    }
   ],
   "source": [
    "path_list = df[df['組別'] == eval_group_id]['路徑'].unique()\n",
    "path_list"
   ],
   "metadata": {
    "collapsed": false,
    "pycharm": {
     "name": "#%%\n"
    }
   }
  },
  {
   "cell_type": "code",
   "execution_count": 8,
   "outputs": [
    {
     "data": {
      "text/plain": "dict_keys(['D:\\\\8分鐘搞懂理財知識\\\\_8分鐘搞懂理財知識_原來的 新手教室 Youtube 投資影片教學\\\\', 'D:\\\\8分鐘搞懂理財知識\\\\_8分鐘搞懂理財知識_整理的 Youtube 影片\\\\', 'D:\\\\8分鐘搞懂理財知識\\\\_8分鐘搞懂理財知識_整理的影片by資料夾\\\\2015-08-25_2152_技術分析教學_快速搞懂RSI技術指標\\\\', 'Z:\\\\8分鐘搞懂理財知識_新手教室 Youtube 投資影片教學\\\\', 'Z:\\\\8分鐘搞懂理財知識_重新整理過\\\\', 'Z:\\\\Youtube 投資影片教學\\\\'])"
     },
     "execution_count": 8,
     "metadata": {},
     "output_type": "execute_result"
    }
   ],
   "source": [
    "path_groups = df[df['路徑'].isin(path_list) == True].groupby('路徑')\n",
    "path_groups.groups.keys()"
   ],
   "metadata": {
    "collapsed": false,
    "pycharm": {
     "name": "#%%\n"
    }
   }
  },
  {
   "cell_type": "code",
   "execution_count": 9,
   "outputs": [],
   "source": [
    "reshape_frame = pd.DataFrame()\n",
    "file_name = None"
   ],
   "metadata": {
    "collapsed": false,
    "pycharm": {
     "name": "#%%\n"
    }
   }
  },
  {
   "cell_type": "code",
   "execution_count": 10,
   "outputs": [
    {
     "data": {
      "text/plain": "                磁碟機根目錄   組別  檔案類型 磁碟機             根目錄  \\\n3         D:\\8分鐘搞懂理財知識    1  .mp4  D:       8分鐘搞懂理財知識   \n9         D:\\8分鐘搞懂理財知識    2  .mp4  D:       8分鐘搞懂理財知識   \n15        D:\\8分鐘搞懂理財知識    3  .mp4  D:       8分鐘搞懂理財知識   \n21        D:\\8分鐘搞懂理財知識    4  .mp4  D:       8分鐘搞懂理財知識   \n27        D:\\8分鐘搞懂理財知識    5  .mp4  D:       8分鐘搞懂理財知識   \n..                 ...  ...   ...  ..             ...   \n659  Z:\\Youtube 投資影片教學  149  .mp4  Z:  Youtube 投資影片教學   \n662  Z:\\Youtube 投資影片教學  150  .mp4  Z:  Youtube 投資影片教學   \n665  Z:\\Youtube 投資影片教學  151  .mp4  Z:  Youtube 投資影片教學   \n668  Z:\\Youtube 投資影片教學  152  .mp4  Z:  Youtube 投資影片教學   \n671  Z:\\Youtube 投資影片教學  153  .mp4  Z:  Youtube 投資影片教學   \n\n                                     子目錄                               檔案資料夾  \\\n3    _8分鐘搞懂理財知識_原來的 新手教室 Youtube 投資影片教學\\  _8分鐘搞懂理財知識_原來的 新手教室 Youtube 投資影片教學   \n9    _8分鐘搞懂理財知識_原來的 新手教室 Youtube 投資影片教學\\  _8分鐘搞懂理財知識_原來的 新手教室 Youtube 投資影片教學   \n15   _8分鐘搞懂理財知識_原來的 新手教室 Youtube 投資影片教學\\  _8分鐘搞懂理財知識_原來的 新手教室 Youtube 投資影片教學   \n21   _8分鐘搞懂理財知識_原來的 新手教室 Youtube 投資影片教學\\  _8分鐘搞懂理財知識_原來的 新手教室 Youtube 投資影片教學   \n27   _8分鐘搞懂理財知識_原來的 新手教室 Youtube 投資影片教學\\  _8分鐘搞懂理財知識_原來的 新手教室 Youtube 投資影片教學   \n..                                   ...                                 ...   \n659                                  NaN                      Youtube 投資影片教學   \n662                                  NaN                      Youtube 投資影片教學   \n665                                  NaN                      Youtube 投資影片教學   \n668                                  NaN                      Youtube 投資影片教學   \n671                                  NaN                      Youtube 投資影片教學   \n\n                                                 檔案名稱  \\\n3                  8分鐘搞懂技術分析：RSI的重要價值-WUwaMVSCDYY.mp4   \n9                 8分鐘搞懂理財知識：期貨新手教室（下）-K7ETmfHiw3M.mp4   \n15                     8分鐘搞懂技術分析：均線扣抵-2VKhGSE3gRM.mp4   \n21   8分鐘搞懂技術分析：什麼是「缺口」，教你抓出K線變化所傳遞的訊號-HTSbeSb-gRM.mp4   \n27             8分鐘搞懂理財觀念：正確的殖息(殖利)率概念-W7Y2rXu4EeQ.mp4   \n..                                                ...   \n659           認識葛蘭碧八大法則︱《3分鐘投資技巧》甘木小編-jBYAuvV9qRs.mp4   \n662        進階ETF— 陸股ETF︱《3分鐘投資技巧》甘木小編--Z08nUunG6A.mp4   \n665  關於零股交易新制，你不可不知的6件事︱《3分鐘投資技巧》甘木小編-3MShipOPZnU.mp4   \n668            除權息的基本概念︱《3分鐘投資技巧》甘木小編-JseLyFRYGL0.mp4   \n671            除權息的應用概念︱《3分鐘投資技巧》甘木小編-E0yml_or9hM.mp4   \n\n                                                   路徑        大小  \\\n3    D:\\8分鐘搞懂理財知識\\_8分鐘搞懂理財知識_原來的 新手教室 Youtube 投資影片教學\\  25612876   \n9    D:\\8分鐘搞懂理財知識\\_8分鐘搞懂理財知識_原來的 新手教室 Youtube 投資影片教學\\  30304434   \n15   D:\\8分鐘搞懂理財知識\\_8分鐘搞懂理財知識_原來的 新手教室 Youtube 投資影片教學\\  22989551   \n21   D:\\8分鐘搞懂理財知識\\_8分鐘搞懂理財知識_原來的 新手教室 Youtube 投資影片教學\\  24669692   \n27   D:\\8分鐘搞懂理財知識\\_8分鐘搞懂理財知識_原來的 新手教室 Youtube 投資影片教學\\  17973136   \n..                                                ...       ...   \n659                                Z:\\Youtube 投資影片教學\\  22879809   \n662                                Z:\\Youtube 投資影片教學\\  18111045   \n665                                Z:\\Youtube 投資影片教學\\  22960232   \n668                                Z:\\Youtube 投資影片教學\\  33604243   \n671                                Z:\\Youtube 投資影片教學\\  24997907   \n\n                      新增日期                    修改日期  \n3    2021/8/18 上午 02:37:16  2018/11/14 下午 02:12:09  \n9    2021/8/18 上午 02:37:25    2015/9/9 下午 12:31:30  \n15   2021/8/18 上午 02:37:17   2018/11/1 上午 12:32:34  \n21   2021/8/18 上午 02:37:17  2015/10/22 下午 05:48:04  \n27   2021/8/18 上午 02:37:30   2015/11/9 下午 03:51:44  \n..                     ...                     ...  \n659  2021/5/10 下午 04:12:42  2020/12/11 上午 03:00:38  \n662  2021/5/10 下午 04:12:51  2018/11/26 下午 05:25:41  \n665  2021/5/10 下午 04:12:54  2020/12/29 下午 03:40:09  \n668  2021/5/10 下午 04:12:59   2020/11/5 下午 06:28:58  \n671  2021/5/10 下午 04:13:02  2020/12/14 下午 05:36:55  \n\n[740 rows x 12 columns]",
      "text/html": "<div>\n<style scoped>\n    .dataframe tbody tr th:only-of-type {\n        vertical-align: middle;\n    }\n\n    .dataframe tbody tr th {\n        vertical-align: top;\n    }\n\n    .dataframe thead th {\n        text-align: right;\n    }\n</style>\n<table border=\"1\" class=\"dataframe\">\n  <thead>\n    <tr style=\"text-align: right;\">\n      <th></th>\n      <th>磁碟機根目錄</th>\n      <th>組別</th>\n      <th>檔案類型</th>\n      <th>磁碟機</th>\n      <th>根目錄</th>\n      <th>子目錄</th>\n      <th>檔案資料夾</th>\n      <th>檔案名稱</th>\n      <th>路徑</th>\n      <th>大小</th>\n      <th>新增日期</th>\n      <th>修改日期</th>\n    </tr>\n  </thead>\n  <tbody>\n    <tr>\n      <th>3</th>\n      <td>D:\\8分鐘搞懂理財知識</td>\n      <td>1</td>\n      <td>.mp4</td>\n      <td>D:</td>\n      <td>8分鐘搞懂理財知識</td>\n      <td>_8分鐘搞懂理財知識_原來的 新手教室 Youtube 投資影片教學\\</td>\n      <td>_8分鐘搞懂理財知識_原來的 新手教室 Youtube 投資影片教學</td>\n      <td>8分鐘搞懂技術分析：RSI的重要價值-WUwaMVSCDYY.mp4</td>\n      <td>D:\\8分鐘搞懂理財知識\\_8分鐘搞懂理財知識_原來的 新手教室 Youtube 投資影片教學\\</td>\n      <td>25612876</td>\n      <td>2021/8/18 上午 02:37:16</td>\n      <td>2018/11/14 下午 02:12:09</td>\n    </tr>\n    <tr>\n      <th>9</th>\n      <td>D:\\8分鐘搞懂理財知識</td>\n      <td>2</td>\n      <td>.mp4</td>\n      <td>D:</td>\n      <td>8分鐘搞懂理財知識</td>\n      <td>_8分鐘搞懂理財知識_原來的 新手教室 Youtube 投資影片教學\\</td>\n      <td>_8分鐘搞懂理財知識_原來的 新手教室 Youtube 投資影片教學</td>\n      <td>8分鐘搞懂理財知識：期貨新手教室（下）-K7ETmfHiw3M.mp4</td>\n      <td>D:\\8分鐘搞懂理財知識\\_8分鐘搞懂理財知識_原來的 新手教室 Youtube 投資影片教學\\</td>\n      <td>30304434</td>\n      <td>2021/8/18 上午 02:37:25</td>\n      <td>2015/9/9 下午 12:31:30</td>\n    </tr>\n    <tr>\n      <th>15</th>\n      <td>D:\\8分鐘搞懂理財知識</td>\n      <td>3</td>\n      <td>.mp4</td>\n      <td>D:</td>\n      <td>8分鐘搞懂理財知識</td>\n      <td>_8分鐘搞懂理財知識_原來的 新手教室 Youtube 投資影片教學\\</td>\n      <td>_8分鐘搞懂理財知識_原來的 新手教室 Youtube 投資影片教學</td>\n      <td>8分鐘搞懂技術分析：均線扣抵-2VKhGSE3gRM.mp4</td>\n      <td>D:\\8分鐘搞懂理財知識\\_8分鐘搞懂理財知識_原來的 新手教室 Youtube 投資影片教學\\</td>\n      <td>22989551</td>\n      <td>2021/8/18 上午 02:37:17</td>\n      <td>2018/11/1 上午 12:32:34</td>\n    </tr>\n    <tr>\n      <th>21</th>\n      <td>D:\\8分鐘搞懂理財知識</td>\n      <td>4</td>\n      <td>.mp4</td>\n      <td>D:</td>\n      <td>8分鐘搞懂理財知識</td>\n      <td>_8分鐘搞懂理財知識_原來的 新手教室 Youtube 投資影片教學\\</td>\n      <td>_8分鐘搞懂理財知識_原來的 新手教室 Youtube 投資影片教學</td>\n      <td>8分鐘搞懂技術分析：什麼是「缺口」，教你抓出K線變化所傳遞的訊號-HTSbeSb-gRM.mp4</td>\n      <td>D:\\8分鐘搞懂理財知識\\_8分鐘搞懂理財知識_原來的 新手教室 Youtube 投資影片教學\\</td>\n      <td>24669692</td>\n      <td>2021/8/18 上午 02:37:17</td>\n      <td>2015/10/22 下午 05:48:04</td>\n    </tr>\n    <tr>\n      <th>27</th>\n      <td>D:\\8分鐘搞懂理財知識</td>\n      <td>5</td>\n      <td>.mp4</td>\n      <td>D:</td>\n      <td>8分鐘搞懂理財知識</td>\n      <td>_8分鐘搞懂理財知識_原來的 新手教室 Youtube 投資影片教學\\</td>\n      <td>_8分鐘搞懂理財知識_原來的 新手教室 Youtube 投資影片教學</td>\n      <td>8分鐘搞懂理財觀念：正確的殖息(殖利)率概念-W7Y2rXu4EeQ.mp4</td>\n      <td>D:\\8分鐘搞懂理財知識\\_8分鐘搞懂理財知識_原來的 新手教室 Youtube 投資影片教學\\</td>\n      <td>17973136</td>\n      <td>2021/8/18 上午 02:37:30</td>\n      <td>2015/11/9 下午 03:51:44</td>\n    </tr>\n    <tr>\n      <th>...</th>\n      <td>...</td>\n      <td>...</td>\n      <td>...</td>\n      <td>...</td>\n      <td>...</td>\n      <td>...</td>\n      <td>...</td>\n      <td>...</td>\n      <td>...</td>\n      <td>...</td>\n      <td>...</td>\n      <td>...</td>\n    </tr>\n    <tr>\n      <th>659</th>\n      <td>Z:\\Youtube 投資影片教學</td>\n      <td>149</td>\n      <td>.mp4</td>\n      <td>Z:</td>\n      <td>Youtube 投資影片教學</td>\n      <td>NaN</td>\n      <td>Youtube 投資影片教學</td>\n      <td>認識葛蘭碧八大法則︱《3分鐘投資技巧》甘木小編-jBYAuvV9qRs.mp4</td>\n      <td>Z:\\Youtube 投資影片教學\\</td>\n      <td>22879809</td>\n      <td>2021/5/10 下午 04:12:42</td>\n      <td>2020/12/11 上午 03:00:38</td>\n    </tr>\n    <tr>\n      <th>662</th>\n      <td>Z:\\Youtube 投資影片教學</td>\n      <td>150</td>\n      <td>.mp4</td>\n      <td>Z:</td>\n      <td>Youtube 投資影片教學</td>\n      <td>NaN</td>\n      <td>Youtube 投資影片教學</td>\n      <td>進階ETF— 陸股ETF︱《3分鐘投資技巧》甘木小編--Z08nUunG6A.mp4</td>\n      <td>Z:\\Youtube 投資影片教學\\</td>\n      <td>18111045</td>\n      <td>2021/5/10 下午 04:12:51</td>\n      <td>2018/11/26 下午 05:25:41</td>\n    </tr>\n    <tr>\n      <th>665</th>\n      <td>Z:\\Youtube 投資影片教學</td>\n      <td>151</td>\n      <td>.mp4</td>\n      <td>Z:</td>\n      <td>Youtube 投資影片教學</td>\n      <td>NaN</td>\n      <td>Youtube 投資影片教學</td>\n      <td>關於零股交易新制，你不可不知的6件事︱《3分鐘投資技巧》甘木小編-3MShipOPZnU.mp4</td>\n      <td>Z:\\Youtube 投資影片教學\\</td>\n      <td>22960232</td>\n      <td>2021/5/10 下午 04:12:54</td>\n      <td>2020/12/29 下午 03:40:09</td>\n    </tr>\n    <tr>\n      <th>668</th>\n      <td>Z:\\Youtube 投資影片教學</td>\n      <td>152</td>\n      <td>.mp4</td>\n      <td>Z:</td>\n      <td>Youtube 投資影片教學</td>\n      <td>NaN</td>\n      <td>Youtube 投資影片教學</td>\n      <td>除權息的基本概念︱《3分鐘投資技巧》甘木小編-JseLyFRYGL0.mp4</td>\n      <td>Z:\\Youtube 投資影片教學\\</td>\n      <td>33604243</td>\n      <td>2021/5/10 下午 04:12:59</td>\n      <td>2020/11/5 下午 06:28:58</td>\n    </tr>\n    <tr>\n      <th>671</th>\n      <td>Z:\\Youtube 投資影片教學</td>\n      <td>153</td>\n      <td>.mp4</td>\n      <td>Z:</td>\n      <td>Youtube 投資影片教學</td>\n      <td>NaN</td>\n      <td>Youtube 投資影片教學</td>\n      <td>除權息的應用概念︱《3分鐘投資技巧》甘木小編-E0yml_or9hM.mp4</td>\n      <td>Z:\\Youtube 投資影片教學\\</td>\n      <td>24997907</td>\n      <td>2021/5/10 下午 04:13:02</td>\n      <td>2020/12/14 下午 05:36:55</td>\n    </tr>\n  </tbody>\n</table>\n<p>740 rows × 12 columns</p>\n</div>"
     },
     "execution_count": 10,
     "metadata": {},
     "output_type": "execute_result"
    }
   ],
   "source": [
    "for path_name, path_frame in path_groups:\n",
    "    if not file_name:\n",
    "        file_name = ''.join(re.findall('[\\u4e00-\\u9fff]+|\\w+|^[<>:/\\|?*\"]+', path_name))\n",
    "    reshape_frame = pd.concat([reshape_frame, path_frame])\n",
    "reshape_frame"
   ],
   "metadata": {
    "collapsed": false,
    "pycharm": {
     "name": "#%%\n"
    }
   }
  },
  {
   "cell_type": "code",
   "execution_count": 11,
   "outputs": [
    {
     "data": {
      "text/plain": "array([  1,   2,   3,   4,   5,   6,   7,   8,   9,  10,  11,  12,  13,\n        14,  15,  16,  17,  18,  19,  20,  21,  22,  23,  24,  25,  26,\n        27,  28,  29,  30,  31,  32,  33,  34,  35,  36,  37,  38,  39,\n        40,  41,  42,  43,  44,  45,  46,  47,  48,  49,  50,  51,  52,\n        53,  54,  55,  56,  57,  58,  59,  60,  61,  62,  63,  64,  65,\n        66,  67,  68,  69,  70,  71,  72,  73,  74,  75,  76,  77,  78,\n        79,  80,  81,  82,  83,  84,  85,  86,  87,  88,  89,  90,  91,\n        92,  93,  94,  95,  96,  97,  98,  99, 100, 101, 102, 103, 104,\n       105, 106, 107, 108, 109, 110, 111, 112, 113, 114, 115, 116, 117,\n       118, 119, 120, 121, 122, 123, 124, 125, 126, 127, 128, 129, 130,\n       131, 132, 133, 134, 135, 136, 137, 138, 139, 140, 141, 142, 143,\n       144, 145, 146, 147, 148, 149, 150, 151, 152, 153, 154, 155, 156,\n       157, 158, 159, 160, 161, 162, 163, 164, 165, 166, 167, 168, 169,\n       170, 171, 172, 173, 174, 175, 176, 177, 178, 179, 180, 181, 182,\n       183, 184, 185, 186, 187, 188, 189, 190, 191, 192, 193, 194, 195,\n       196, 197, 198, 199, 200, 201, 202, 203, 204, 205, 206, 207, 208,\n       209, 210, 211, 212, 213, 214, 215, 216, 217, 218, 219, 220, 221,\n       222, 223], dtype=int64)"
     },
     "execution_count": 11,
     "metadata": {},
     "output_type": "execute_result"
    }
   ],
   "source": [
    "group_numbers = reshape_frame['組別'].unique()\n",
    "group_numbers"
   ],
   "metadata": {
    "collapsed": false,
    "pycharm": {
     "name": "#%%\n"
    }
   }
  },
  {
   "cell_type": "code",
   "execution_count": 12,
   "outputs": [
    {
     "data": {
      "text/plain": "                磁碟機根目錄   組別  檔案類型 磁碟機             根目錄  \\\n3         D:\\8分鐘搞懂理財知識    1  .mp4  D:       8分鐘搞懂理財知識   \n9         D:\\8分鐘搞懂理財知識    2  .mp4  D:       8分鐘搞懂理財知識   \n15        D:\\8分鐘搞懂理財知識    3  .mp4  D:       8分鐘搞懂理財知識   \n21        D:\\8分鐘搞懂理財知識    4  .mp4  D:       8分鐘搞懂理財知識   \n27        D:\\8分鐘搞懂理財知識    5  .mp4  D:       8分鐘搞懂理財知識   \n..                 ...  ...   ...  ..             ...   \n659  Z:\\Youtube 投資影片教學  149  .mp4  Z:  Youtube 投資影片教學   \n662  Z:\\Youtube 投資影片教學  150  .mp4  Z:  Youtube 投資影片教學   \n665  Z:\\Youtube 投資影片教學  151  .mp4  Z:  Youtube 投資影片教學   \n668  Z:\\Youtube 投資影片教學  152  .mp4  Z:  Youtube 投資影片教學   \n671  Z:\\Youtube 投資影片教學  153  .mp4  Z:  Youtube 投資影片教學   \n\n                                     子目錄                               檔案資料夾  \\\n3    _8分鐘搞懂理財知識_原來的 新手教室 Youtube 投資影片教學\\  _8分鐘搞懂理財知識_原來的 新手教室 Youtube 投資影片教學   \n9    _8分鐘搞懂理財知識_原來的 新手教室 Youtube 投資影片教學\\  _8分鐘搞懂理財知識_原來的 新手教室 Youtube 投資影片教學   \n15   _8分鐘搞懂理財知識_原來的 新手教室 Youtube 投資影片教學\\  _8分鐘搞懂理財知識_原來的 新手教室 Youtube 投資影片教學   \n21   _8分鐘搞懂理財知識_原來的 新手教室 Youtube 投資影片教學\\  _8分鐘搞懂理財知識_原來的 新手教室 Youtube 投資影片教學   \n27   _8分鐘搞懂理財知識_原來的 新手教室 Youtube 投資影片教學\\  _8分鐘搞懂理財知識_原來的 新手教室 Youtube 投資影片教學   \n..                                   ...                                 ...   \n659                                  NaN                      Youtube 投資影片教學   \n662                                  NaN                      Youtube 投資影片教學   \n665                                  NaN                      Youtube 投資影片教學   \n668                                  NaN                      Youtube 投資影片教學   \n671                                  NaN                      Youtube 投資影片教學   \n\n                                                 檔案名稱  \\\n3                  8分鐘搞懂技術分析：RSI的重要價值-WUwaMVSCDYY.mp4   \n9                 8分鐘搞懂理財知識：期貨新手教室（下）-K7ETmfHiw3M.mp4   \n15                     8分鐘搞懂技術分析：均線扣抵-2VKhGSE3gRM.mp4   \n21   8分鐘搞懂技術分析：什麼是「缺口」，教你抓出K線變化所傳遞的訊號-HTSbeSb-gRM.mp4   \n27             8分鐘搞懂理財觀念：正確的殖息(殖利)率概念-W7Y2rXu4EeQ.mp4   \n..                                                ...   \n659           認識葛蘭碧八大法則︱《3分鐘投資技巧》甘木小編-jBYAuvV9qRs.mp4   \n662        進階ETF— 陸股ETF︱《3分鐘投資技巧》甘木小編--Z08nUunG6A.mp4   \n665  關於零股交易新制，你不可不知的6件事︱《3分鐘投資技巧》甘木小編-3MShipOPZnU.mp4   \n668            除權息的基本概念︱《3分鐘投資技巧》甘木小編-JseLyFRYGL0.mp4   \n671            除權息的應用概念︱《3分鐘投資技巧》甘木小編-E0yml_or9hM.mp4   \n\n                                                   路徑        大小  \\\n3    D:\\8分鐘搞懂理財知識\\_8分鐘搞懂理財知識_原來的 新手教室 Youtube 投資影片教學\\  25612876   \n9    D:\\8分鐘搞懂理財知識\\_8分鐘搞懂理財知識_原來的 新手教室 Youtube 投資影片教學\\  30304434   \n15   D:\\8分鐘搞懂理財知識\\_8分鐘搞懂理財知識_原來的 新手教室 Youtube 投資影片教學\\  22989551   \n21   D:\\8分鐘搞懂理財知識\\_8分鐘搞懂理財知識_原來的 新手教室 Youtube 投資影片教學\\  24669692   \n27   D:\\8分鐘搞懂理財知識\\_8分鐘搞懂理財知識_原來的 新手教室 Youtube 投資影片教學\\  17973136   \n..                                                ...       ...   \n659                                Z:\\Youtube 投資影片教學\\  22879809   \n662                                Z:\\Youtube 投資影片教學\\  18111045   \n665                                Z:\\Youtube 投資影片教學\\  22960232   \n668                                Z:\\Youtube 投資影片教學\\  33604243   \n671                                Z:\\Youtube 投資影片教學\\  24997907   \n\n                      新增日期                    修改日期  \n3    2021/8/18 上午 02:37:16  2018/11/14 下午 02:12:09  \n9    2021/8/18 上午 02:37:25    2015/9/9 下午 12:31:30  \n15   2021/8/18 上午 02:37:17   2018/11/1 上午 12:32:34  \n21   2021/8/18 上午 02:37:17  2015/10/22 下午 05:48:04  \n27   2021/8/18 上午 02:37:30   2015/11/9 下午 03:51:44  \n..                     ...                     ...  \n659  2021/5/10 下午 04:12:42  2020/12/11 上午 03:00:38  \n662  2021/5/10 下午 04:12:51  2018/11/26 下午 05:25:41  \n665  2021/5/10 下午 04:12:54  2020/12/29 下午 03:40:09  \n668  2021/5/10 下午 04:12:59   2020/11/5 下午 06:28:58  \n671  2021/5/10 下午 04:13:02  2020/12/14 下午 05:36:55  \n\n[740 rows x 12 columns]",
      "text/html": "<div>\n<style scoped>\n    .dataframe tbody tr th:only-of-type {\n        vertical-align: middle;\n    }\n\n    .dataframe tbody tr th {\n        vertical-align: top;\n    }\n\n    .dataframe thead th {\n        text-align: right;\n    }\n</style>\n<table border=\"1\" class=\"dataframe\">\n  <thead>\n    <tr style=\"text-align: right;\">\n      <th></th>\n      <th>磁碟機根目錄</th>\n      <th>組別</th>\n      <th>檔案類型</th>\n      <th>磁碟機</th>\n      <th>根目錄</th>\n      <th>子目錄</th>\n      <th>檔案資料夾</th>\n      <th>檔案名稱</th>\n      <th>路徑</th>\n      <th>大小</th>\n      <th>新增日期</th>\n      <th>修改日期</th>\n    </tr>\n  </thead>\n  <tbody>\n    <tr>\n      <th>3</th>\n      <td>D:\\8分鐘搞懂理財知識</td>\n      <td>1</td>\n      <td>.mp4</td>\n      <td>D:</td>\n      <td>8分鐘搞懂理財知識</td>\n      <td>_8分鐘搞懂理財知識_原來的 新手教室 Youtube 投資影片教學\\</td>\n      <td>_8分鐘搞懂理財知識_原來的 新手教室 Youtube 投資影片教學</td>\n      <td>8分鐘搞懂技術分析：RSI的重要價值-WUwaMVSCDYY.mp4</td>\n      <td>D:\\8分鐘搞懂理財知識\\_8分鐘搞懂理財知識_原來的 新手教室 Youtube 投資影片教學\\</td>\n      <td>25612876</td>\n      <td>2021/8/18 上午 02:37:16</td>\n      <td>2018/11/14 下午 02:12:09</td>\n    </tr>\n    <tr>\n      <th>9</th>\n      <td>D:\\8分鐘搞懂理財知識</td>\n      <td>2</td>\n      <td>.mp4</td>\n      <td>D:</td>\n      <td>8分鐘搞懂理財知識</td>\n      <td>_8分鐘搞懂理財知識_原來的 新手教室 Youtube 投資影片教學\\</td>\n      <td>_8分鐘搞懂理財知識_原來的 新手教室 Youtube 投資影片教學</td>\n      <td>8分鐘搞懂理財知識：期貨新手教室（下）-K7ETmfHiw3M.mp4</td>\n      <td>D:\\8分鐘搞懂理財知識\\_8分鐘搞懂理財知識_原來的 新手教室 Youtube 投資影片教學\\</td>\n      <td>30304434</td>\n      <td>2021/8/18 上午 02:37:25</td>\n      <td>2015/9/9 下午 12:31:30</td>\n    </tr>\n    <tr>\n      <th>15</th>\n      <td>D:\\8分鐘搞懂理財知識</td>\n      <td>3</td>\n      <td>.mp4</td>\n      <td>D:</td>\n      <td>8分鐘搞懂理財知識</td>\n      <td>_8分鐘搞懂理財知識_原來的 新手教室 Youtube 投資影片教學\\</td>\n      <td>_8分鐘搞懂理財知識_原來的 新手教室 Youtube 投資影片教學</td>\n      <td>8分鐘搞懂技術分析：均線扣抵-2VKhGSE3gRM.mp4</td>\n      <td>D:\\8分鐘搞懂理財知識\\_8分鐘搞懂理財知識_原來的 新手教室 Youtube 投資影片教學\\</td>\n      <td>22989551</td>\n      <td>2021/8/18 上午 02:37:17</td>\n      <td>2018/11/1 上午 12:32:34</td>\n    </tr>\n    <tr>\n      <th>21</th>\n      <td>D:\\8分鐘搞懂理財知識</td>\n      <td>4</td>\n      <td>.mp4</td>\n      <td>D:</td>\n      <td>8分鐘搞懂理財知識</td>\n      <td>_8分鐘搞懂理財知識_原來的 新手教室 Youtube 投資影片教學\\</td>\n      <td>_8分鐘搞懂理財知識_原來的 新手教室 Youtube 投資影片教學</td>\n      <td>8分鐘搞懂技術分析：什麼是「缺口」，教你抓出K線變化所傳遞的訊號-HTSbeSb-gRM.mp4</td>\n      <td>D:\\8分鐘搞懂理財知識\\_8分鐘搞懂理財知識_原來的 新手教室 Youtube 投資影片教學\\</td>\n      <td>24669692</td>\n      <td>2021/8/18 上午 02:37:17</td>\n      <td>2015/10/22 下午 05:48:04</td>\n    </tr>\n    <tr>\n      <th>27</th>\n      <td>D:\\8分鐘搞懂理財知識</td>\n      <td>5</td>\n      <td>.mp4</td>\n      <td>D:</td>\n      <td>8分鐘搞懂理財知識</td>\n      <td>_8分鐘搞懂理財知識_原來的 新手教室 Youtube 投資影片教學\\</td>\n      <td>_8分鐘搞懂理財知識_原來的 新手教室 Youtube 投資影片教學</td>\n      <td>8分鐘搞懂理財觀念：正確的殖息(殖利)率概念-W7Y2rXu4EeQ.mp4</td>\n      <td>D:\\8分鐘搞懂理財知識\\_8分鐘搞懂理財知識_原來的 新手教室 Youtube 投資影片教學\\</td>\n      <td>17973136</td>\n      <td>2021/8/18 上午 02:37:30</td>\n      <td>2015/11/9 下午 03:51:44</td>\n    </tr>\n    <tr>\n      <th>...</th>\n      <td>...</td>\n      <td>...</td>\n      <td>...</td>\n      <td>...</td>\n      <td>...</td>\n      <td>...</td>\n      <td>...</td>\n      <td>...</td>\n      <td>...</td>\n      <td>...</td>\n      <td>...</td>\n      <td>...</td>\n    </tr>\n    <tr>\n      <th>659</th>\n      <td>Z:\\Youtube 投資影片教學</td>\n      <td>149</td>\n      <td>.mp4</td>\n      <td>Z:</td>\n      <td>Youtube 投資影片教學</td>\n      <td>NaN</td>\n      <td>Youtube 投資影片教學</td>\n      <td>認識葛蘭碧八大法則︱《3分鐘投資技巧》甘木小編-jBYAuvV9qRs.mp4</td>\n      <td>Z:\\Youtube 投資影片教學\\</td>\n      <td>22879809</td>\n      <td>2021/5/10 下午 04:12:42</td>\n      <td>2020/12/11 上午 03:00:38</td>\n    </tr>\n    <tr>\n      <th>662</th>\n      <td>Z:\\Youtube 投資影片教學</td>\n      <td>150</td>\n      <td>.mp4</td>\n      <td>Z:</td>\n      <td>Youtube 投資影片教學</td>\n      <td>NaN</td>\n      <td>Youtube 投資影片教學</td>\n      <td>進階ETF— 陸股ETF︱《3分鐘投資技巧》甘木小編--Z08nUunG6A.mp4</td>\n      <td>Z:\\Youtube 投資影片教學\\</td>\n      <td>18111045</td>\n      <td>2021/5/10 下午 04:12:51</td>\n      <td>2018/11/26 下午 05:25:41</td>\n    </tr>\n    <tr>\n      <th>665</th>\n      <td>Z:\\Youtube 投資影片教學</td>\n      <td>151</td>\n      <td>.mp4</td>\n      <td>Z:</td>\n      <td>Youtube 投資影片教學</td>\n      <td>NaN</td>\n      <td>Youtube 投資影片教學</td>\n      <td>關於零股交易新制，你不可不知的6件事︱《3分鐘投資技巧》甘木小編-3MShipOPZnU.mp4</td>\n      <td>Z:\\Youtube 投資影片教學\\</td>\n      <td>22960232</td>\n      <td>2021/5/10 下午 04:12:54</td>\n      <td>2020/12/29 下午 03:40:09</td>\n    </tr>\n    <tr>\n      <th>668</th>\n      <td>Z:\\Youtube 投資影片教學</td>\n      <td>152</td>\n      <td>.mp4</td>\n      <td>Z:</td>\n      <td>Youtube 投資影片教學</td>\n      <td>NaN</td>\n      <td>Youtube 投資影片教學</td>\n      <td>除權息的基本概念︱《3分鐘投資技巧》甘木小編-JseLyFRYGL0.mp4</td>\n      <td>Z:\\Youtube 投資影片教學\\</td>\n      <td>33604243</td>\n      <td>2021/5/10 下午 04:12:59</td>\n      <td>2020/11/5 下午 06:28:58</td>\n    </tr>\n    <tr>\n      <th>671</th>\n      <td>Z:\\Youtube 投資影片教學</td>\n      <td>153</td>\n      <td>.mp4</td>\n      <td>Z:</td>\n      <td>Youtube 投資影片教學</td>\n      <td>NaN</td>\n      <td>Youtube 投資影片教學</td>\n      <td>除權息的應用概念︱《3分鐘投資技巧》甘木小編-E0yml_or9hM.mp4</td>\n      <td>Z:\\Youtube 投資影片教學\\</td>\n      <td>24997907</td>\n      <td>2021/5/10 下午 04:13:02</td>\n      <td>2020/12/14 下午 05:36:55</td>\n    </tr>\n  </tbody>\n</table>\n<p>740 rows × 12 columns</p>\n</div>"
     },
     "execution_count": 12,
     "metadata": {},
     "output_type": "execute_result"
    }
   ],
   "source": [
    "reshape_frame.sort_values(['路徑', '組別'], inplace=True)\n",
    "reshape_frame"
   ],
   "metadata": {
    "collapsed": false,
    "pycharm": {
     "name": "#%%\n"
    }
   }
  },
  {
   "cell_type": "code",
   "execution_count": 13,
   "outputs": [
    {
     "data": {
      "text/plain": "[1,\n 2,\n 3,\n 4,\n 5,\n 6,\n 7,\n 8,\n 9,\n 10,\n 11,\n 12,\n 13,\n 14,\n 15,\n 16,\n 17,\n 18,\n 19,\n 20,\n 21,\n 22,\n 23,\n 24,\n 25,\n 26,\n 27,\n 28,\n 29,\n 30,\n 31,\n 32,\n 33,\n 34,\n 35,\n 36,\n 37,\n 38,\n 39,\n 40,\n 41,\n 42,\n 43,\n 44,\n 45,\n 46,\n 47,\n 48,\n 49,\n 50,\n 51,\n 52,\n 53,\n 54,\n 55,\n 56,\n 57,\n 58,\n 59,\n 60,\n 61,\n 62,\n 63,\n 64,\n 65,\n 66,\n 67,\n 68,\n 69,\n 70,\n 71,\n 72,\n 73,\n 74,\n 75,\n 76,\n 77,\n 78,\n 79,\n 80,\n 81,\n 82,\n 83,\n 84,\n 85,\n 86,\n 87,\n 88,\n 89,\n 90,\n 91,\n 92,\n 93,\n 94,\n 95,\n 96,\n 97,\n 98,\n 99,\n 100,\n 101,\n 102,\n 103,\n 104,\n 105,\n 106,\n 107,\n 108,\n 109,\n 110,\n 111,\n 112,\n 113,\n 114,\n 115,\n 116,\n 117,\n 118,\n 119,\n 120,\n 121,\n 122,\n 123,\n 124,\n 125,\n 126,\n 127,\n 128,\n 129,\n 130,\n 131,\n 132,\n 133,\n 134,\n 135,\n 136,\n 137,\n 138,\n 139,\n 140,\n 141,\n 142,\n 143,\n 144,\n 145,\n 146,\n 147,\n 148,\n 149,\n 150,\n 151,\n 152,\n 153,\n 154,\n 155,\n 156,\n 157,\n 158,\n 159,\n 160,\n 161,\n 162,\n 163,\n 164,\n 165,\n 166,\n 167,\n 168,\n 169,\n 170,\n 171,\n 172,\n 173,\n 174,\n 175,\n 176,\n 177,\n 178,\n 179,\n 180,\n 181,\n 182,\n 183,\n 184,\n 185,\n 186,\n 187,\n 188,\n 189,\n 190,\n 191,\n 192,\n 193,\n 194,\n 195,\n 196,\n 197,\n 198,\n 199,\n 200,\n 201,\n 202,\n 203,\n 204,\n 205,\n 206,\n 207,\n 208,\n 209,\n 210,\n 211,\n 212,\n 213,\n 214,\n 215,\n 216,\n 217,\n 218,\n 219,\n 220,\n 221,\n 222,\n 223]"
     },
     "execution_count": 13,
     "metadata": {},
     "output_type": "execute_result"
    }
   ],
   "source": [
    "numbers_list.extend(group_numbers)\n",
    "numbers_list"
   ],
   "metadata": {
    "collapsed": false,
    "pycharm": {
     "name": "#%%\n"
    }
   }
  },
  {
   "cell_type": "code",
   "execution_count": 14,
   "outputs": [
    {
     "data": {
      "text/plain": "                               磁碟機根目錄   組別  檔案類型 磁碟機  \\\n3                        D:\\8分鐘搞懂理財知識    1  .mp4  D:   \n4                        D:\\8分鐘搞懂理財知識    1  .mp4  D:   \n5                        D:\\8分鐘搞懂理財知識    1  .mp4  D:   \n0    Z:\\8分鐘搞懂理財知識_新手教室 Youtube 投資影片教學    1  .mp4  Z:   \n1                  Z:\\8分鐘搞懂理財知識_重新整理過    1  .mp4  Z:   \n..                                ...  ...   ...  ..   \n879                      D:\\8分鐘搞懂理財知識  222  .mp4  D:   \n877                Z:\\8分鐘搞懂理財知識_重新整理過  222  .mp4  Z:   \n881                      D:\\8分鐘搞懂理財知識  223  .mp4  D:   \n882                      D:\\8分鐘搞懂理財知識  223  .mp4  D:   \n880                Z:\\8分鐘搞懂理財知識_重新整理過  223  .mp4  Z:   \n\n                               根目錄  \\\n3                        8分鐘搞懂理財知識   \n4                        8分鐘搞懂理財知識   \n5                        8分鐘搞懂理財知識   \n0    8分鐘搞懂理財知識_新手教室 Youtube 投資影片教學   \n1                  8分鐘搞懂理財知識_重新整理過   \n..                             ...   \n879                      8分鐘搞懂理財知識   \n877                8分鐘搞懂理財知識_重新整理過   \n881                      8分鐘搞懂理財知識   \n882                      8分鐘搞懂理財知識   \n880                8分鐘搞懂理財知識_重新整理過   \n\n                                                   子目錄  \\\n3                  _8分鐘搞懂理財知識_原來的 新手教室 Youtube 投資影片教學\\   \n4                           _8分鐘搞懂理財知識_整理的 Youtube 影片\\   \n5    _8分鐘搞懂理財知識_整理的影片by資料夾\\2015-08-25_2152_技術分析教學_快...   \n0                                                  NaN   \n1                                                  NaN   \n..                                                 ...   \n879  _8分鐘搞懂理財知識_整理的影片by資料夾\\2020-12-14_1753_理財觀念_除權息...   \n877                                                NaN   \n881                         _8分鐘搞懂理財知識_整理的 Youtube 影片\\   \n882  _8分鐘搞懂理財知識_整理的影片by資料夾\\2020-12-29_1656_理財觀念_關於零...   \n880                                                NaN   \n\n                                       檔案資料夾  \\\n3         _8分鐘搞懂理財知識_原來的 新手教室 Youtube 投資影片教學   \n4                  _8分鐘搞懂理財知識_整理的 Youtube 影片   \n5         2015-08-25_2152_技術分析教學_快速搞懂RSI技術指標   \n0              8分鐘搞懂理財知識_新手教室 Youtube 投資影片教學   \n1                            8分鐘搞懂理財知識_重新整理過   \n..                                       ...   \n879            2020-12-14_1753_理財觀念_除權息的應用概念   \n877                          8分鐘搞懂理財知識_重新整理過   \n881                _8分鐘搞懂理財知識_整理的 Youtube 影片   \n882  2020-12-29_1656_理財觀念_關於零股交易新制，你不可不知的6件事   \n880                          8分鐘搞懂理財知識_重新整理過   \n\n                                            檔案名稱  \\\n3             8分鐘搞懂技術分析：RSI的重要價值-WUwaMVSCDYY.mp4   \n4         2015-08-25_2152_技術分析教學_快速搞懂RSI技術指標.mp4   \n5         2015-08-25_2152_技術分析教學_快速搞懂RSI技術指標.mp4   \n0             8分鐘搞懂技術分析：RSI的重要價值-WUwaMVSCDYY.mp4   \n1         2015-08-25_2152_技術分析教學_快速搞懂RSI技術指標.mp4   \n..                                           ...   \n879            2020-12-14_1753_理財觀念_除權息的應用概念.mp4   \n877            2020-12-14_1753_理財觀念_除權息的應用概念.mp4   \n881  2020-12-29_1656_理財觀念_關於零股交易新制，你不可不知的6件事.mp4   \n882  2020-12-29_1656_理財觀念_關於零股交易新制，你不可不知的6件事.mp4   \n880  2020-12-29_1656_理財觀念_關於零股交易新制，你不可不知的6件事.mp4   \n\n                                                    路徑        大小  \\\n3     D:\\8分鐘搞懂理財知識\\_8分鐘搞懂理財知識_原來的 新手教室 Youtube 投資影片教學\\  25612876   \n4              D:\\8分鐘搞懂理財知識\\_8分鐘搞懂理財知識_整理的 Youtube 影片\\  25612876   \n5    D:\\8分鐘搞懂理財知識\\_8分鐘搞懂理財知識_整理的影片by資料夾\\2015-08-25_...  25612876   \n0                    Z:\\8分鐘搞懂理財知識_新手教室 Youtube 投資影片教學\\  25612876   \n1                                  Z:\\8分鐘搞懂理財知識_重新整理過\\  25612876   \n..                                                 ...       ...   \n879  D:\\8分鐘搞懂理財知識\\_8分鐘搞懂理財知識_整理的影片by資料夾\\2020-12-14_...   9398585   \n877                                Z:\\8分鐘搞懂理財知識_重新整理過\\   9398585   \n881            D:\\8分鐘搞懂理財知識\\_8分鐘搞懂理財知識_整理的 Youtube 影片\\   8394900   \n882  D:\\8分鐘搞懂理財知識\\_8分鐘搞懂理財知識_整理的影片by資料夾\\2020-12-29_...   8394900   \n880                                Z:\\8分鐘搞懂理財知識_重新整理過\\   8394900   \n\n                      新增日期                    修改日期  \n3    2021/8/18 上午 02:37:16  2018/11/14 下午 02:12:09  \n4    2021/8/18 上午 02:38:06   2021/5/11 上午 02:58:44  \n5    2021/8/18 上午 02:38:39   2021/5/11 上午 02:58:44  \n0    2021/5/10 下午 05:08:28  2018/11/14 下午 02:12:09  \n1    2021/5/11 上午 03:06:53   2021/5/11 上午 02:58:44  \n..                     ...                     ...  \n879  2021/8/18 上午 02:39:20   2021/5/11 上午 02:34:53  \n877  2021/5/11 上午 03:11:02   2021/5/11 上午 02:34:53  \n881  2021/8/18 上午 02:38:39   2021/5/11 上午 02:34:48  \n882  2021/8/18 上午 02:39:20   2021/5/11 上午 02:34:48  \n880  2021/5/11 上午 03:11:03   2021/5/11 上午 02:34:48  \n\n[883 rows x 12 columns]",
      "text/html": "<div>\n<style scoped>\n    .dataframe tbody tr th:only-of-type {\n        vertical-align: middle;\n    }\n\n    .dataframe tbody tr th {\n        vertical-align: top;\n    }\n\n    .dataframe thead th {\n        text-align: right;\n    }\n</style>\n<table border=\"1\" class=\"dataframe\">\n  <thead>\n    <tr style=\"text-align: right;\">\n      <th></th>\n      <th>磁碟機根目錄</th>\n      <th>組別</th>\n      <th>檔案類型</th>\n      <th>磁碟機</th>\n      <th>根目錄</th>\n      <th>子目錄</th>\n      <th>檔案資料夾</th>\n      <th>檔案名稱</th>\n      <th>路徑</th>\n      <th>大小</th>\n      <th>新增日期</th>\n      <th>修改日期</th>\n    </tr>\n  </thead>\n  <tbody>\n    <tr>\n      <th>3</th>\n      <td>D:\\8分鐘搞懂理財知識</td>\n      <td>1</td>\n      <td>.mp4</td>\n      <td>D:</td>\n      <td>8分鐘搞懂理財知識</td>\n      <td>_8分鐘搞懂理財知識_原來的 新手教室 Youtube 投資影片教學\\</td>\n      <td>_8分鐘搞懂理財知識_原來的 新手教室 Youtube 投資影片教學</td>\n      <td>8分鐘搞懂技術分析：RSI的重要價值-WUwaMVSCDYY.mp4</td>\n      <td>D:\\8分鐘搞懂理財知識\\_8分鐘搞懂理財知識_原來的 新手教室 Youtube 投資影片教學\\</td>\n      <td>25612876</td>\n      <td>2021/8/18 上午 02:37:16</td>\n      <td>2018/11/14 下午 02:12:09</td>\n    </tr>\n    <tr>\n      <th>4</th>\n      <td>D:\\8分鐘搞懂理財知識</td>\n      <td>1</td>\n      <td>.mp4</td>\n      <td>D:</td>\n      <td>8分鐘搞懂理財知識</td>\n      <td>_8分鐘搞懂理財知識_整理的 Youtube 影片\\</td>\n      <td>_8分鐘搞懂理財知識_整理的 Youtube 影片</td>\n      <td>2015-08-25_2152_技術分析教學_快速搞懂RSI技術指標.mp4</td>\n      <td>D:\\8分鐘搞懂理財知識\\_8分鐘搞懂理財知識_整理的 Youtube 影片\\</td>\n      <td>25612876</td>\n      <td>2021/8/18 上午 02:38:06</td>\n      <td>2021/5/11 上午 02:58:44</td>\n    </tr>\n    <tr>\n      <th>5</th>\n      <td>D:\\8分鐘搞懂理財知識</td>\n      <td>1</td>\n      <td>.mp4</td>\n      <td>D:</td>\n      <td>8分鐘搞懂理財知識</td>\n      <td>_8分鐘搞懂理財知識_整理的影片by資料夾\\2015-08-25_2152_技術分析教學_快...</td>\n      <td>2015-08-25_2152_技術分析教學_快速搞懂RSI技術指標</td>\n      <td>2015-08-25_2152_技術分析教學_快速搞懂RSI技術指標.mp4</td>\n      <td>D:\\8分鐘搞懂理財知識\\_8分鐘搞懂理財知識_整理的影片by資料夾\\2015-08-25_...</td>\n      <td>25612876</td>\n      <td>2021/8/18 上午 02:38:39</td>\n      <td>2021/5/11 上午 02:58:44</td>\n    </tr>\n    <tr>\n      <th>0</th>\n      <td>Z:\\8分鐘搞懂理財知識_新手教室 Youtube 投資影片教學</td>\n      <td>1</td>\n      <td>.mp4</td>\n      <td>Z:</td>\n      <td>8分鐘搞懂理財知識_新手教室 Youtube 投資影片教學</td>\n      <td>NaN</td>\n      <td>8分鐘搞懂理財知識_新手教室 Youtube 投資影片教學</td>\n      <td>8分鐘搞懂技術分析：RSI的重要價值-WUwaMVSCDYY.mp4</td>\n      <td>Z:\\8分鐘搞懂理財知識_新手教室 Youtube 投資影片教學\\</td>\n      <td>25612876</td>\n      <td>2021/5/10 下午 05:08:28</td>\n      <td>2018/11/14 下午 02:12:09</td>\n    </tr>\n    <tr>\n      <th>1</th>\n      <td>Z:\\8分鐘搞懂理財知識_重新整理過</td>\n      <td>1</td>\n      <td>.mp4</td>\n      <td>Z:</td>\n      <td>8分鐘搞懂理財知識_重新整理過</td>\n      <td>NaN</td>\n      <td>8分鐘搞懂理財知識_重新整理過</td>\n      <td>2015-08-25_2152_技術分析教學_快速搞懂RSI技術指標.mp4</td>\n      <td>Z:\\8分鐘搞懂理財知識_重新整理過\\</td>\n      <td>25612876</td>\n      <td>2021/5/11 上午 03:06:53</td>\n      <td>2021/5/11 上午 02:58:44</td>\n    </tr>\n    <tr>\n      <th>...</th>\n      <td>...</td>\n      <td>...</td>\n      <td>...</td>\n      <td>...</td>\n      <td>...</td>\n      <td>...</td>\n      <td>...</td>\n      <td>...</td>\n      <td>...</td>\n      <td>...</td>\n      <td>...</td>\n      <td>...</td>\n    </tr>\n    <tr>\n      <th>879</th>\n      <td>D:\\8分鐘搞懂理財知識</td>\n      <td>222</td>\n      <td>.mp4</td>\n      <td>D:</td>\n      <td>8分鐘搞懂理財知識</td>\n      <td>_8分鐘搞懂理財知識_整理的影片by資料夾\\2020-12-14_1753_理財觀念_除權息...</td>\n      <td>2020-12-14_1753_理財觀念_除權息的應用概念</td>\n      <td>2020-12-14_1753_理財觀念_除權息的應用概念.mp4</td>\n      <td>D:\\8分鐘搞懂理財知識\\_8分鐘搞懂理財知識_整理的影片by資料夾\\2020-12-14_...</td>\n      <td>9398585</td>\n      <td>2021/8/18 上午 02:39:20</td>\n      <td>2021/5/11 上午 02:34:53</td>\n    </tr>\n    <tr>\n      <th>877</th>\n      <td>Z:\\8分鐘搞懂理財知識_重新整理過</td>\n      <td>222</td>\n      <td>.mp4</td>\n      <td>Z:</td>\n      <td>8分鐘搞懂理財知識_重新整理過</td>\n      <td>NaN</td>\n      <td>8分鐘搞懂理財知識_重新整理過</td>\n      <td>2020-12-14_1753_理財觀念_除權息的應用概念.mp4</td>\n      <td>Z:\\8分鐘搞懂理財知識_重新整理過\\</td>\n      <td>9398585</td>\n      <td>2021/5/11 上午 03:11:02</td>\n      <td>2021/5/11 上午 02:34:53</td>\n    </tr>\n    <tr>\n      <th>881</th>\n      <td>D:\\8分鐘搞懂理財知識</td>\n      <td>223</td>\n      <td>.mp4</td>\n      <td>D:</td>\n      <td>8分鐘搞懂理財知識</td>\n      <td>_8分鐘搞懂理財知識_整理的 Youtube 影片\\</td>\n      <td>_8分鐘搞懂理財知識_整理的 Youtube 影片</td>\n      <td>2020-12-29_1656_理財觀念_關於零股交易新制，你不可不知的6件事.mp4</td>\n      <td>D:\\8分鐘搞懂理財知識\\_8分鐘搞懂理財知識_整理的 Youtube 影片\\</td>\n      <td>8394900</td>\n      <td>2021/8/18 上午 02:38:39</td>\n      <td>2021/5/11 上午 02:34:48</td>\n    </tr>\n    <tr>\n      <th>882</th>\n      <td>D:\\8分鐘搞懂理財知識</td>\n      <td>223</td>\n      <td>.mp4</td>\n      <td>D:</td>\n      <td>8分鐘搞懂理財知識</td>\n      <td>_8分鐘搞懂理財知識_整理的影片by資料夾\\2020-12-29_1656_理財觀念_關於零...</td>\n      <td>2020-12-29_1656_理財觀念_關於零股交易新制，你不可不知的6件事</td>\n      <td>2020-12-29_1656_理財觀念_關於零股交易新制，你不可不知的6件事.mp4</td>\n      <td>D:\\8分鐘搞懂理財知識\\_8分鐘搞懂理財知識_整理的影片by資料夾\\2020-12-29_...</td>\n      <td>8394900</td>\n      <td>2021/8/18 上午 02:39:20</td>\n      <td>2021/5/11 上午 02:34:48</td>\n    </tr>\n    <tr>\n      <th>880</th>\n      <td>Z:\\8分鐘搞懂理財知識_重新整理過</td>\n      <td>223</td>\n      <td>.mp4</td>\n      <td>Z:</td>\n      <td>8分鐘搞懂理財知識_重新整理過</td>\n      <td>NaN</td>\n      <td>8分鐘搞懂理財知識_重新整理過</td>\n      <td>2020-12-29_1656_理財觀念_關於零股交易新制，你不可不知的6件事.mp4</td>\n      <td>Z:\\8分鐘搞懂理財知識_重新整理過\\</td>\n      <td>8394900</td>\n      <td>2021/5/11 上午 03:11:03</td>\n      <td>2021/5/11 上午 02:34:48</td>\n    </tr>\n  </tbody>\n</table>\n<p>883 rows × 12 columns</p>\n</div>"
     },
     "execution_count": 14,
     "metadata": {},
     "output_type": "execute_result"
    }
   ],
   "source": [
    "reshape_frame = df[df['組別'].isin(group_numbers) == True].sort_values(['組別', '路徑'])\n",
    "reshape_frame"
   ],
   "metadata": {
    "collapsed": false,
    "pycharm": {
     "name": "#%%\n"
    }
   }
  },
  {
   "cell_type": "code",
   "execution_count": 15,
   "outputs": [
    {
     "data": {
      "text/plain": "                                   組別  檔案類型 磁碟機  \\\n磁碟機根目錄                                            \nD:\\8分鐘搞懂理財知識                        1  .mp4  D:   \nD:\\8分鐘搞懂理財知識                        1  .mp4  D:   \nD:\\8分鐘搞懂理財知識                        1  .mp4  D:   \nZ:\\8分鐘搞懂理財知識_新手教室 Youtube 投資影片教學    1  .mp4  Z:   \nZ:\\8分鐘搞懂理財知識_重新整理過                  1  .mp4  Z:   \n...                               ...   ...  ..   \nD:\\8分鐘搞懂理財知識                      222  .mp4  D:   \nZ:\\8分鐘搞懂理財知識_重新整理過                222  .mp4  Z:   \nD:\\8分鐘搞懂理財知識                      223  .mp4  D:   \nD:\\8分鐘搞懂理財知識                      223  .mp4  D:   \nZ:\\8分鐘搞懂理財知識_重新整理過                223  .mp4  Z:   \n\n                                                            根目錄  \\\n磁碟機根目錄                                                            \nD:\\8分鐘搞懂理財知識                                          8分鐘搞懂理財知識   \nD:\\8分鐘搞懂理財知識                                          8分鐘搞懂理財知識   \nD:\\8分鐘搞懂理財知識                                          8分鐘搞懂理財知識   \nZ:\\8分鐘搞懂理財知識_新手教室 Youtube 投資影片教學  8分鐘搞懂理財知識_新手教室 Youtube 投資影片教學   \nZ:\\8分鐘搞懂理財知識_重新整理過                              8分鐘搞懂理財知識_重新整理過   \n...                                                         ...   \nD:\\8分鐘搞懂理財知識                                          8分鐘搞懂理財知識   \nZ:\\8分鐘搞懂理財知識_重新整理過                              8分鐘搞懂理財知識_重新整理過   \nD:\\8分鐘搞懂理財知識                                          8分鐘搞懂理財知識   \nD:\\8分鐘搞懂理財知識                                          8分鐘搞懂理財知識   \nZ:\\8分鐘搞懂理財知識_重新整理過                              8分鐘搞懂理財知識_重新整理過   \n\n                                                                                子目錄  \\\n磁碟機根目錄                                                                                \nD:\\8分鐘搞懂理財知識                                    _8分鐘搞懂理財知識_原來的 新手教室 Youtube 投資影片教學\\   \nD:\\8分鐘搞懂理財知識                                             _8分鐘搞懂理財知識_整理的 Youtube 影片\\   \nD:\\8分鐘搞懂理財知識                      _8分鐘搞懂理財知識_整理的影片by資料夾\\2015-08-25_2152_技術分析教學_快...   \nZ:\\8分鐘搞懂理財知識_新手教室 Youtube 投資影片教學                                                NaN   \nZ:\\8分鐘搞懂理財知識_重新整理過                                                              NaN   \n...                                                                             ...   \nD:\\8分鐘搞懂理財知識                      _8分鐘搞懂理財知識_整理的影片by資料夾\\2020-12-14_1753_理財觀念_除權息...   \nZ:\\8分鐘搞懂理財知識_重新整理過                                                              NaN   \nD:\\8分鐘搞懂理財知識                                             _8分鐘搞懂理財知識_整理的 Youtube 影片\\   \nD:\\8分鐘搞懂理財知識                      _8分鐘搞懂理財知識_整理的影片by資料夾\\2020-12-29_1656_理財觀念_關於零...   \nZ:\\8分鐘搞懂理財知識_重新整理過                                                              NaN   \n\n                                                                    檔案資料夾  \\\n磁碟機根目錄                                                                      \nD:\\8分鐘搞懂理財知識                           _8分鐘搞懂理財知識_原來的 新手教室 Youtube 投資影片教學   \nD:\\8分鐘搞懂理財知識                                    _8分鐘搞懂理財知識_整理的 Youtube 影片   \nD:\\8分鐘搞懂理財知識                           2015-08-25_2152_技術分析教學_快速搞懂RSI技術指標   \nZ:\\8分鐘搞懂理財知識_新手教室 Youtube 投資影片教學            8分鐘搞懂理財知識_新手教室 Youtube 投資影片教學   \nZ:\\8分鐘搞懂理財知識_重新整理過                                        8分鐘搞懂理財知識_重新整理過   \n...                                                                   ...   \nD:\\8分鐘搞懂理財知識                                2020-12-14_1753_理財觀念_除權息的應用概念   \nZ:\\8分鐘搞懂理財知識_重新整理過                                        8分鐘搞懂理財知識_重新整理過   \nD:\\8分鐘搞懂理財知識                                    _8分鐘搞懂理財知識_整理的 Youtube 影片   \nD:\\8分鐘搞懂理財知識                      2020-12-29_1656_理財觀念_關於零股交易新制，你不可不知的6件事   \nZ:\\8分鐘搞懂理財知識_重新整理過                                        8分鐘搞懂理財知識_重新整理過   \n\n                                                                         檔案名稱  \\\n磁碟機根目錄                                                                          \nD:\\8分鐘搞懂理財知識                               8分鐘搞懂技術分析：RSI的重要價值-WUwaMVSCDYY.mp4   \nD:\\8分鐘搞懂理財知識                           2015-08-25_2152_技術分析教學_快速搞懂RSI技術指標.mp4   \nD:\\8分鐘搞懂理財知識                           2015-08-25_2152_技術分析教學_快速搞懂RSI技術指標.mp4   \nZ:\\8分鐘搞懂理財知識_新手教室 Youtube 投資影片教學           8分鐘搞懂技術分析：RSI的重要價值-WUwaMVSCDYY.mp4   \nZ:\\8分鐘搞懂理財知識_重新整理過                     2015-08-25_2152_技術分析教學_快速搞懂RSI技術指標.mp4   \n...                                                                       ...   \nD:\\8分鐘搞懂理財知識                                2020-12-14_1753_理財觀念_除權息的應用概念.mp4   \nZ:\\8分鐘搞懂理財知識_重新整理過                          2020-12-14_1753_理財觀念_除權息的應用概念.mp4   \nD:\\8分鐘搞懂理財知識                      2020-12-29_1656_理財觀念_關於零股交易新制，你不可不知的6件事.mp4   \nD:\\8分鐘搞懂理財知識                      2020-12-29_1656_理財觀念_關於零股交易新制，你不可不知的6件事.mp4   \nZ:\\8分鐘搞懂理財知識_重新整理過                2020-12-29_1656_理財觀念_關於零股交易新制，你不可不知的6件事.mp4   \n\n                                                                                 路徑  \\\n磁碟機根目錄                                                                                \nD:\\8分鐘搞懂理財知識                       D:\\8分鐘搞懂理財知識\\_8分鐘搞懂理財知識_原來的 新手教室 Youtube 投資影片教學\\   \nD:\\8分鐘搞懂理財知識                                D:\\8分鐘搞懂理財知識\\_8分鐘搞懂理財知識_整理的 Youtube 影片\\   \nD:\\8分鐘搞懂理財知識                      D:\\8分鐘搞懂理財知識\\_8分鐘搞懂理財知識_整理的影片by資料夾\\2015-08-25_...   \nZ:\\8分鐘搞懂理財知識_新手教室 Youtube 投資影片教學                  Z:\\8分鐘搞懂理財知識_新手教室 Youtube 投資影片教學\\   \nZ:\\8分鐘搞懂理財知識_重新整理過                                              Z:\\8分鐘搞懂理財知識_重新整理過\\   \n...                                                                             ...   \nD:\\8分鐘搞懂理財知識                      D:\\8分鐘搞懂理財知識\\_8分鐘搞懂理財知識_整理的影片by資料夾\\2020-12-14_...   \nZ:\\8分鐘搞懂理財知識_重新整理過                                              Z:\\8分鐘搞懂理財知識_重新整理過\\   \nD:\\8分鐘搞懂理財知識                                D:\\8分鐘搞懂理財知識\\_8分鐘搞懂理財知識_整理的 Youtube 影片\\   \nD:\\8分鐘搞懂理財知識                      D:\\8分鐘搞懂理財知識\\_8分鐘搞懂理財知識_整理的影片by資料夾\\2020-12-29_...   \nZ:\\8分鐘搞懂理財知識_重新整理過                                              Z:\\8分鐘搞懂理財知識_重新整理過\\   \n\n                                        大小                   新增日期  \\\n磁碟機根目錄                                                              \nD:\\8分鐘搞懂理財知識                      25612876  2021/8/18 上午 02:37:16   \nD:\\8分鐘搞懂理財知識                      25612876  2021/8/18 上午 02:38:06   \nD:\\8分鐘搞懂理財知識                      25612876  2021/8/18 上午 02:38:39   \nZ:\\8分鐘搞懂理財知識_新手教室 Youtube 投資影片教學  25612876  2021/5/10 下午 05:08:28   \nZ:\\8分鐘搞懂理財知識_重新整理過                25612876  2021/5/11 上午 03:06:53   \n...                                    ...                    ...   \nD:\\8分鐘搞懂理財知識                       9398585  2021/8/18 上午 02:39:20   \nZ:\\8分鐘搞懂理財知識_重新整理過                 9398585  2021/5/11 上午 03:11:02   \nD:\\8分鐘搞懂理財知識                       8394900  2021/8/18 上午 02:38:39   \nD:\\8分鐘搞懂理財知識                       8394900  2021/8/18 上午 02:39:20   \nZ:\\8分鐘搞懂理財知識_重新整理過                 8394900  2021/5/11 上午 03:11:03   \n\n                                                    修改日期  \n磁碟機根目錄                                                    \nD:\\8分鐘搞懂理財知識                      2018/11/14 下午 02:12:09  \nD:\\8分鐘搞懂理財知識                       2021/5/11 上午 02:58:44  \nD:\\8分鐘搞懂理財知識                       2021/5/11 上午 02:58:44  \nZ:\\8分鐘搞懂理財知識_新手教室 Youtube 投資影片教學  2018/11/14 下午 02:12:09  \nZ:\\8分鐘搞懂理財知識_重新整理過                 2021/5/11 上午 02:58:44  \n...                                                  ...  \nD:\\8分鐘搞懂理財知識                       2021/5/11 上午 02:34:53  \nZ:\\8分鐘搞懂理財知識_重新整理過                 2021/5/11 上午 02:34:53  \nD:\\8分鐘搞懂理財知識                       2021/5/11 上午 02:34:48  \nD:\\8分鐘搞懂理財知識                       2021/5/11 上午 02:34:48  \nZ:\\8分鐘搞懂理財知識_重新整理過                 2021/5/11 上午 02:34:48  \n\n[883 rows x 11 columns]",
      "text/html": "<div>\n<style scoped>\n    .dataframe tbody tr th:only-of-type {\n        vertical-align: middle;\n    }\n\n    .dataframe tbody tr th {\n        vertical-align: top;\n    }\n\n    .dataframe thead th {\n        text-align: right;\n    }\n</style>\n<table border=\"1\" class=\"dataframe\">\n  <thead>\n    <tr style=\"text-align: right;\">\n      <th></th>\n      <th>組別</th>\n      <th>檔案類型</th>\n      <th>磁碟機</th>\n      <th>根目錄</th>\n      <th>子目錄</th>\n      <th>檔案資料夾</th>\n      <th>檔案名稱</th>\n      <th>路徑</th>\n      <th>大小</th>\n      <th>新增日期</th>\n      <th>修改日期</th>\n    </tr>\n    <tr>\n      <th>磁碟機根目錄</th>\n      <th></th>\n      <th></th>\n      <th></th>\n      <th></th>\n      <th></th>\n      <th></th>\n      <th></th>\n      <th></th>\n      <th></th>\n      <th></th>\n      <th></th>\n    </tr>\n  </thead>\n  <tbody>\n    <tr>\n      <th>D:\\8分鐘搞懂理財知識</th>\n      <td>1</td>\n      <td>.mp4</td>\n      <td>D:</td>\n      <td>8分鐘搞懂理財知識</td>\n      <td>_8分鐘搞懂理財知識_原來的 新手教室 Youtube 投資影片教學\\</td>\n      <td>_8分鐘搞懂理財知識_原來的 新手教室 Youtube 投資影片教學</td>\n      <td>8分鐘搞懂技術分析：RSI的重要價值-WUwaMVSCDYY.mp4</td>\n      <td>D:\\8分鐘搞懂理財知識\\_8分鐘搞懂理財知識_原來的 新手教室 Youtube 投資影片教學\\</td>\n      <td>25612876</td>\n      <td>2021/8/18 上午 02:37:16</td>\n      <td>2018/11/14 下午 02:12:09</td>\n    </tr>\n    <tr>\n      <th>D:\\8分鐘搞懂理財知識</th>\n      <td>1</td>\n      <td>.mp4</td>\n      <td>D:</td>\n      <td>8分鐘搞懂理財知識</td>\n      <td>_8分鐘搞懂理財知識_整理的 Youtube 影片\\</td>\n      <td>_8分鐘搞懂理財知識_整理的 Youtube 影片</td>\n      <td>2015-08-25_2152_技術分析教學_快速搞懂RSI技術指標.mp4</td>\n      <td>D:\\8分鐘搞懂理財知識\\_8分鐘搞懂理財知識_整理的 Youtube 影片\\</td>\n      <td>25612876</td>\n      <td>2021/8/18 上午 02:38:06</td>\n      <td>2021/5/11 上午 02:58:44</td>\n    </tr>\n    <tr>\n      <th>D:\\8分鐘搞懂理財知識</th>\n      <td>1</td>\n      <td>.mp4</td>\n      <td>D:</td>\n      <td>8分鐘搞懂理財知識</td>\n      <td>_8分鐘搞懂理財知識_整理的影片by資料夾\\2015-08-25_2152_技術分析教學_快...</td>\n      <td>2015-08-25_2152_技術分析教學_快速搞懂RSI技術指標</td>\n      <td>2015-08-25_2152_技術分析教學_快速搞懂RSI技術指標.mp4</td>\n      <td>D:\\8分鐘搞懂理財知識\\_8分鐘搞懂理財知識_整理的影片by資料夾\\2015-08-25_...</td>\n      <td>25612876</td>\n      <td>2021/8/18 上午 02:38:39</td>\n      <td>2021/5/11 上午 02:58:44</td>\n    </tr>\n    <tr>\n      <th>Z:\\8分鐘搞懂理財知識_新手教室 Youtube 投資影片教學</th>\n      <td>1</td>\n      <td>.mp4</td>\n      <td>Z:</td>\n      <td>8分鐘搞懂理財知識_新手教室 Youtube 投資影片教學</td>\n      <td>NaN</td>\n      <td>8分鐘搞懂理財知識_新手教室 Youtube 投資影片教學</td>\n      <td>8分鐘搞懂技術分析：RSI的重要價值-WUwaMVSCDYY.mp4</td>\n      <td>Z:\\8分鐘搞懂理財知識_新手教室 Youtube 投資影片教學\\</td>\n      <td>25612876</td>\n      <td>2021/5/10 下午 05:08:28</td>\n      <td>2018/11/14 下午 02:12:09</td>\n    </tr>\n    <tr>\n      <th>Z:\\8分鐘搞懂理財知識_重新整理過</th>\n      <td>1</td>\n      <td>.mp4</td>\n      <td>Z:</td>\n      <td>8分鐘搞懂理財知識_重新整理過</td>\n      <td>NaN</td>\n      <td>8分鐘搞懂理財知識_重新整理過</td>\n      <td>2015-08-25_2152_技術分析教學_快速搞懂RSI技術指標.mp4</td>\n      <td>Z:\\8分鐘搞懂理財知識_重新整理過\\</td>\n      <td>25612876</td>\n      <td>2021/5/11 上午 03:06:53</td>\n      <td>2021/5/11 上午 02:58:44</td>\n    </tr>\n    <tr>\n      <th>...</th>\n      <td>...</td>\n      <td>...</td>\n      <td>...</td>\n      <td>...</td>\n      <td>...</td>\n      <td>...</td>\n      <td>...</td>\n      <td>...</td>\n      <td>...</td>\n      <td>...</td>\n      <td>...</td>\n    </tr>\n    <tr>\n      <th>D:\\8分鐘搞懂理財知識</th>\n      <td>222</td>\n      <td>.mp4</td>\n      <td>D:</td>\n      <td>8分鐘搞懂理財知識</td>\n      <td>_8分鐘搞懂理財知識_整理的影片by資料夾\\2020-12-14_1753_理財觀念_除權息...</td>\n      <td>2020-12-14_1753_理財觀念_除權息的應用概念</td>\n      <td>2020-12-14_1753_理財觀念_除權息的應用概念.mp4</td>\n      <td>D:\\8分鐘搞懂理財知識\\_8分鐘搞懂理財知識_整理的影片by資料夾\\2020-12-14_...</td>\n      <td>9398585</td>\n      <td>2021/8/18 上午 02:39:20</td>\n      <td>2021/5/11 上午 02:34:53</td>\n    </tr>\n    <tr>\n      <th>Z:\\8分鐘搞懂理財知識_重新整理過</th>\n      <td>222</td>\n      <td>.mp4</td>\n      <td>Z:</td>\n      <td>8分鐘搞懂理財知識_重新整理過</td>\n      <td>NaN</td>\n      <td>8分鐘搞懂理財知識_重新整理過</td>\n      <td>2020-12-14_1753_理財觀念_除權息的應用概念.mp4</td>\n      <td>Z:\\8分鐘搞懂理財知識_重新整理過\\</td>\n      <td>9398585</td>\n      <td>2021/5/11 上午 03:11:02</td>\n      <td>2021/5/11 上午 02:34:53</td>\n    </tr>\n    <tr>\n      <th>D:\\8分鐘搞懂理財知識</th>\n      <td>223</td>\n      <td>.mp4</td>\n      <td>D:</td>\n      <td>8分鐘搞懂理財知識</td>\n      <td>_8分鐘搞懂理財知識_整理的 Youtube 影片\\</td>\n      <td>_8分鐘搞懂理財知識_整理的 Youtube 影片</td>\n      <td>2020-12-29_1656_理財觀念_關於零股交易新制，你不可不知的6件事.mp4</td>\n      <td>D:\\8分鐘搞懂理財知識\\_8分鐘搞懂理財知識_整理的 Youtube 影片\\</td>\n      <td>8394900</td>\n      <td>2021/8/18 上午 02:38:39</td>\n      <td>2021/5/11 上午 02:34:48</td>\n    </tr>\n    <tr>\n      <th>D:\\8分鐘搞懂理財知識</th>\n      <td>223</td>\n      <td>.mp4</td>\n      <td>D:</td>\n      <td>8分鐘搞懂理財知識</td>\n      <td>_8分鐘搞懂理財知識_整理的影片by資料夾\\2020-12-29_1656_理財觀念_關於零...</td>\n      <td>2020-12-29_1656_理財觀念_關於零股交易新制，你不可不知的6件事</td>\n      <td>2020-12-29_1656_理財觀念_關於零股交易新制，你不可不知的6件事.mp4</td>\n      <td>D:\\8分鐘搞懂理財知識\\_8分鐘搞懂理財知識_整理的影片by資料夾\\2020-12-29_...</td>\n      <td>8394900</td>\n      <td>2021/8/18 上午 02:39:20</td>\n      <td>2021/5/11 上午 02:34:48</td>\n    </tr>\n    <tr>\n      <th>Z:\\8分鐘搞懂理財知識_重新整理過</th>\n      <td>223</td>\n      <td>.mp4</td>\n      <td>Z:</td>\n      <td>8分鐘搞懂理財知識_重新整理過</td>\n      <td>NaN</td>\n      <td>8分鐘搞懂理財知識_重新整理過</td>\n      <td>2020-12-29_1656_理財觀念_關於零股交易新制，你不可不知的6件事.mp4</td>\n      <td>Z:\\8分鐘搞懂理財知識_重新整理過\\</td>\n      <td>8394900</td>\n      <td>2021/5/11 上午 03:11:03</td>\n      <td>2021/5/11 上午 02:34:48</td>\n    </tr>\n  </tbody>\n</table>\n<p>883 rows × 11 columns</p>\n</div>"
     },
     "execution_count": 15,
     "metadata": {},
     "output_type": "execute_result"
    }
   ],
   "source": [
    "reshape_frame.set_index('磁碟機根目錄', inplace=True)\n",
    "reshape_frame"
   ],
   "metadata": {
    "collapsed": false,
    "pycharm": {
     "name": "#%%\n"
    }
   }
  },
  {
   "cell_type": "code",
   "execution_count": 16,
   "outputs": [
    {
     "data": {
      "text/plain": "                                   組別  檔案類型 磁碟機  \\\n磁碟機根目錄                                            \nD:\\8分鐘搞懂理財知識                        1  .mp4  D:   \nD:\\8分鐘搞懂理財知識                        1  .mp4  D:   \nD:\\8分鐘搞懂理財知識                        1  .mp4  D:   \nZ:\\8分鐘搞懂理財知識_新手教室 Youtube 投資影片教學    1  .mp4  Z:   \nZ:\\8分鐘搞懂理財知識_重新整理過                  1  .mp4  Z:   \n...                               ...   ...  ..   \nD:\\8分鐘搞懂理財知識                      222  .mp4  D:   \nZ:\\8分鐘搞懂理財知識_重新整理過                222  .mp4  Z:   \nD:\\8分鐘搞懂理財知識                      223  .mp4  D:   \nD:\\8分鐘搞懂理財知識                      223  .mp4  D:   \nZ:\\8分鐘搞懂理財知識_重新整理過                223  .mp4  Z:   \n\n                                                            根目錄  \\\n磁碟機根目錄                                                            \nD:\\8分鐘搞懂理財知識                                          8分鐘搞懂理財知識   \nD:\\8分鐘搞懂理財知識                                          8分鐘搞懂理財知識   \nD:\\8分鐘搞懂理財知識                                          8分鐘搞懂理財知識   \nZ:\\8分鐘搞懂理財知識_新手教室 Youtube 投資影片教學  8分鐘搞懂理財知識_新手教室 Youtube 投資影片教學   \nZ:\\8分鐘搞懂理財知識_重新整理過                              8分鐘搞懂理財知識_重新整理過   \n...                                                         ...   \nD:\\8分鐘搞懂理財知識                                          8分鐘搞懂理財知識   \nZ:\\8分鐘搞懂理財知識_重新整理過                              8分鐘搞懂理財知識_重新整理過   \nD:\\8分鐘搞懂理財知識                                          8分鐘搞懂理財知識   \nD:\\8分鐘搞懂理財知識                                          8分鐘搞懂理財知識   \nZ:\\8分鐘搞懂理財知識_重新整理過                              8分鐘搞懂理財知識_重新整理過   \n\n                                                                                子目錄  \\\n磁碟機根目錄                                                                                \nD:\\8分鐘搞懂理財知識                                    _8分鐘搞懂理財知識_原來的 新手教室 Youtube 投資影片教學\\   \nD:\\8分鐘搞懂理財知識                                             _8分鐘搞懂理財知識_整理的 Youtube 影片\\   \nD:\\8分鐘搞懂理財知識                      _8分鐘搞懂理財知識_整理的影片by資料夾\\2015-08-25_2152_技術分析教學_快...   \nZ:\\8分鐘搞懂理財知識_新手教室 Youtube 投資影片教學                                                NaN   \nZ:\\8分鐘搞懂理財知識_重新整理過                                                              NaN   \n...                                                                             ...   \nD:\\8分鐘搞懂理財知識                      _8分鐘搞懂理財知識_整理的影片by資料夾\\2020-12-14_1753_理財觀念_除權息...   \nZ:\\8分鐘搞懂理財知識_重新整理過                                                              NaN   \nD:\\8分鐘搞懂理財知識                                             _8分鐘搞懂理財知識_整理的 Youtube 影片\\   \nD:\\8分鐘搞懂理財知識                      _8分鐘搞懂理財知識_整理的影片by資料夾\\2020-12-29_1656_理財觀念_關於零...   \nZ:\\8分鐘搞懂理財知識_重新整理過                                                              NaN   \n\n                                                                    檔案資料夾  \\\n磁碟機根目錄                                                                      \nD:\\8分鐘搞懂理財知識                           _8分鐘搞懂理財知識_原來的 新手教室 Youtube 投資影片教學   \nD:\\8分鐘搞懂理財知識                                    _8分鐘搞懂理財知識_整理的 Youtube 影片   \nD:\\8分鐘搞懂理財知識                           2015-08-25_2152_技術分析教學_快速搞懂RSI技術指標   \nZ:\\8分鐘搞懂理財知識_新手教室 Youtube 投資影片教學            8分鐘搞懂理財知識_新手教室 Youtube 投資影片教學   \nZ:\\8分鐘搞懂理財知識_重新整理過                                        8分鐘搞懂理財知識_重新整理過   \n...                                                                   ...   \nD:\\8分鐘搞懂理財知識                                2020-12-14_1753_理財觀念_除權息的應用概念   \nZ:\\8分鐘搞懂理財知識_重新整理過                                        8分鐘搞懂理財知識_重新整理過   \nD:\\8分鐘搞懂理財知識                                    _8分鐘搞懂理財知識_整理的 Youtube 影片   \nD:\\8分鐘搞懂理財知識                      2020-12-29_1656_理財觀念_關於零股交易新制，你不可不知的6件事   \nZ:\\8分鐘搞懂理財知識_重新整理過                                        8分鐘搞懂理財知識_重新整理過   \n\n                                                                         檔案名稱  \\\n磁碟機根目錄                                                                          \nD:\\8分鐘搞懂理財知識                               8分鐘搞懂技術分析：RSI的重要價值-WUwaMVSCDYY.mp4   \nD:\\8分鐘搞懂理財知識                           2015-08-25_2152_技術分析教學_快速搞懂RSI技術指標.mp4   \nD:\\8分鐘搞懂理財知識                           2015-08-25_2152_技術分析教學_快速搞懂RSI技術指標.mp4   \nZ:\\8分鐘搞懂理財知識_新手教室 Youtube 投資影片教學           8分鐘搞懂技術分析：RSI的重要價值-WUwaMVSCDYY.mp4   \nZ:\\8分鐘搞懂理財知識_重新整理過                     2015-08-25_2152_技術分析教學_快速搞懂RSI技術指標.mp4   \n...                                                                       ...   \nD:\\8分鐘搞懂理財知識                                2020-12-14_1753_理財觀念_除權息的應用概念.mp4   \nZ:\\8分鐘搞懂理財知識_重新整理過                          2020-12-14_1753_理財觀念_除權息的應用概念.mp4   \nD:\\8分鐘搞懂理財知識                      2020-12-29_1656_理財觀念_關於零股交易新制，你不可不知的6件事.mp4   \nD:\\8分鐘搞懂理財知識                      2020-12-29_1656_理財觀念_關於零股交易新制，你不可不知的6件事.mp4   \nZ:\\8分鐘搞懂理財知識_重新整理過                2020-12-29_1656_理財觀念_關於零股交易新制，你不可不知的6件事.mp4   \n\n                                                                                 路徑  \\\n磁碟機根目錄                                                                                \nD:\\8分鐘搞懂理財知識                       D:\\8分鐘搞懂理財知識\\_8分鐘搞懂理財知識_原來的 新手教室 Youtube 投資影片教學\\   \nD:\\8分鐘搞懂理財知識                                D:\\8分鐘搞懂理財知識\\_8分鐘搞懂理財知識_整理的 Youtube 影片\\   \nD:\\8分鐘搞懂理財知識                      D:\\8分鐘搞懂理財知識\\_8分鐘搞懂理財知識_整理的影片by資料夾\\2015-08-25_...   \nZ:\\8分鐘搞懂理財知識_新手教室 Youtube 投資影片教學                  Z:\\8分鐘搞懂理財知識_新手教室 Youtube 投資影片教學\\   \nZ:\\8分鐘搞懂理財知識_重新整理過                                              Z:\\8分鐘搞懂理財知識_重新整理過\\   \n...                                                                             ...   \nD:\\8分鐘搞懂理財知識                      D:\\8分鐘搞懂理財知識\\_8分鐘搞懂理財知識_整理的影片by資料夾\\2020-12-14_...   \nZ:\\8分鐘搞懂理財知識_重新整理過                                              Z:\\8分鐘搞懂理財知識_重新整理過\\   \nD:\\8分鐘搞懂理財知識                                D:\\8分鐘搞懂理財知識\\_8分鐘搞懂理財知識_整理的 Youtube 影片\\   \nD:\\8分鐘搞懂理財知識                      D:\\8分鐘搞懂理財知識\\_8分鐘搞懂理財知識_整理的影片by資料夾\\2020-12-29_...   \nZ:\\8分鐘搞懂理財知識_重新整理過                                              Z:\\8分鐘搞懂理財知識_重新整理過\\   \n\n                                        大小                   新增日期  \\\n磁碟機根目錄                                                              \nD:\\8分鐘搞懂理財知識                      25612876  2021/8/18 上午 02:37:16   \nD:\\8分鐘搞懂理財知識                      25612876  2021/8/18 上午 02:38:06   \nD:\\8分鐘搞懂理財知識                      25612876  2021/8/18 上午 02:38:39   \nZ:\\8分鐘搞懂理財知識_新手教室 Youtube 投資影片教學  25612876  2021/5/10 下午 05:08:28   \nZ:\\8分鐘搞懂理財知識_重新整理過                25612876  2021/5/11 上午 03:06:53   \n...                                    ...                    ...   \nD:\\8分鐘搞懂理財知識                       9398585  2021/8/18 上午 02:39:20   \nZ:\\8分鐘搞懂理財知識_重新整理過                 9398585  2021/5/11 上午 03:11:02   \nD:\\8分鐘搞懂理財知識                       8394900  2021/8/18 上午 02:38:39   \nD:\\8分鐘搞懂理財知識                       8394900  2021/8/18 上午 02:39:20   \nZ:\\8分鐘搞懂理財知識_重新整理過                 8394900  2021/5/11 上午 03:11:03   \n\n                                                    修改日期  \n磁碟機根目錄                                                    \nD:\\8分鐘搞懂理財知識                      2018/11/14 下午 02:12:09  \nD:\\8分鐘搞懂理財知識                       2021/5/11 上午 02:58:44  \nD:\\8分鐘搞懂理財知識                       2021/5/11 上午 02:58:44  \nZ:\\8分鐘搞懂理財知識_新手教室 Youtube 投資影片教學  2018/11/14 下午 02:12:09  \nZ:\\8分鐘搞懂理財知識_重新整理過                 2021/5/11 上午 02:58:44  \n...                                                  ...  \nD:\\8分鐘搞懂理財知識                       2021/5/11 上午 02:34:53  \nZ:\\8分鐘搞懂理財知識_重新整理過                 2021/5/11 上午 02:34:53  \nD:\\8分鐘搞懂理財知識                       2021/5/11 上午 02:34:48  \nD:\\8分鐘搞懂理財知識                       2021/5/11 上午 02:34:48  \nZ:\\8分鐘搞懂理財知識_重新整理過                 2021/5/11 上午 02:34:48  \n\n[883 rows x 11 columns]",
      "text/html": "<div>\n<style scoped>\n    .dataframe tbody tr th:only-of-type {\n        vertical-align: middle;\n    }\n\n    .dataframe tbody tr th {\n        vertical-align: top;\n    }\n\n    .dataframe thead th {\n        text-align: right;\n    }\n</style>\n<table border=\"1\" class=\"dataframe\">\n  <thead>\n    <tr style=\"text-align: right;\">\n      <th></th>\n      <th>組別</th>\n      <th>檔案類型</th>\n      <th>磁碟機</th>\n      <th>根目錄</th>\n      <th>子目錄</th>\n      <th>檔案資料夾</th>\n      <th>檔案名稱</th>\n      <th>路徑</th>\n      <th>大小</th>\n      <th>新增日期</th>\n      <th>修改日期</th>\n    </tr>\n    <tr>\n      <th>磁碟機根目錄</th>\n      <th></th>\n      <th></th>\n      <th></th>\n      <th></th>\n      <th></th>\n      <th></th>\n      <th></th>\n      <th></th>\n      <th></th>\n      <th></th>\n      <th></th>\n    </tr>\n  </thead>\n  <tbody>\n    <tr>\n      <th>D:\\8分鐘搞懂理財知識</th>\n      <td>1</td>\n      <td>.mp4</td>\n      <td>D:</td>\n      <td>8分鐘搞懂理財知識</td>\n      <td>_8分鐘搞懂理財知識_原來的 新手教室 Youtube 投資影片教學\\</td>\n      <td>_8分鐘搞懂理財知識_原來的 新手教室 Youtube 投資影片教學</td>\n      <td>8分鐘搞懂技術分析：RSI的重要價值-WUwaMVSCDYY.mp4</td>\n      <td>D:\\8分鐘搞懂理財知識\\_8分鐘搞懂理財知識_原來的 新手教室 Youtube 投資影片教學\\</td>\n      <td>25612876</td>\n      <td>2021/8/18 上午 02:37:16</td>\n      <td>2018/11/14 下午 02:12:09</td>\n    </tr>\n    <tr>\n      <th>D:\\8分鐘搞懂理財知識</th>\n      <td>1</td>\n      <td>.mp4</td>\n      <td>D:</td>\n      <td>8分鐘搞懂理財知識</td>\n      <td>_8分鐘搞懂理財知識_整理的 Youtube 影片\\</td>\n      <td>_8分鐘搞懂理財知識_整理的 Youtube 影片</td>\n      <td>2015-08-25_2152_技術分析教學_快速搞懂RSI技術指標.mp4</td>\n      <td>D:\\8分鐘搞懂理財知識\\_8分鐘搞懂理財知識_整理的 Youtube 影片\\</td>\n      <td>25612876</td>\n      <td>2021/8/18 上午 02:38:06</td>\n      <td>2021/5/11 上午 02:58:44</td>\n    </tr>\n    <tr>\n      <th>D:\\8分鐘搞懂理財知識</th>\n      <td>1</td>\n      <td>.mp4</td>\n      <td>D:</td>\n      <td>8分鐘搞懂理財知識</td>\n      <td>_8分鐘搞懂理財知識_整理的影片by資料夾\\2015-08-25_2152_技術分析教學_快...</td>\n      <td>2015-08-25_2152_技術分析教學_快速搞懂RSI技術指標</td>\n      <td>2015-08-25_2152_技術分析教學_快速搞懂RSI技術指標.mp4</td>\n      <td>D:\\8分鐘搞懂理財知識\\_8分鐘搞懂理財知識_整理的影片by資料夾\\2015-08-25_...</td>\n      <td>25612876</td>\n      <td>2021/8/18 上午 02:38:39</td>\n      <td>2021/5/11 上午 02:58:44</td>\n    </tr>\n    <tr>\n      <th>Z:\\8分鐘搞懂理財知識_新手教室 Youtube 投資影片教學</th>\n      <td>1</td>\n      <td>.mp4</td>\n      <td>Z:</td>\n      <td>8分鐘搞懂理財知識_新手教室 Youtube 投資影片教學</td>\n      <td>NaN</td>\n      <td>8分鐘搞懂理財知識_新手教室 Youtube 投資影片教學</td>\n      <td>8分鐘搞懂技術分析：RSI的重要價值-WUwaMVSCDYY.mp4</td>\n      <td>Z:\\8分鐘搞懂理財知識_新手教室 Youtube 投資影片教學\\</td>\n      <td>25612876</td>\n      <td>2021/5/10 下午 05:08:28</td>\n      <td>2018/11/14 下午 02:12:09</td>\n    </tr>\n    <tr>\n      <th>Z:\\8分鐘搞懂理財知識_重新整理過</th>\n      <td>1</td>\n      <td>.mp4</td>\n      <td>Z:</td>\n      <td>8分鐘搞懂理財知識_重新整理過</td>\n      <td>NaN</td>\n      <td>8分鐘搞懂理財知識_重新整理過</td>\n      <td>2015-08-25_2152_技術分析教學_快速搞懂RSI技術指標.mp4</td>\n      <td>Z:\\8分鐘搞懂理財知識_重新整理過\\</td>\n      <td>25612876</td>\n      <td>2021/5/11 上午 03:06:53</td>\n      <td>2021/5/11 上午 02:58:44</td>\n    </tr>\n    <tr>\n      <th>...</th>\n      <td>...</td>\n      <td>...</td>\n      <td>...</td>\n      <td>...</td>\n      <td>...</td>\n      <td>...</td>\n      <td>...</td>\n      <td>...</td>\n      <td>...</td>\n      <td>...</td>\n      <td>...</td>\n    </tr>\n    <tr>\n      <th>D:\\8分鐘搞懂理財知識</th>\n      <td>222</td>\n      <td>.mp4</td>\n      <td>D:</td>\n      <td>8分鐘搞懂理財知識</td>\n      <td>_8分鐘搞懂理財知識_整理的影片by資料夾\\2020-12-14_1753_理財觀念_除權息...</td>\n      <td>2020-12-14_1753_理財觀念_除權息的應用概念</td>\n      <td>2020-12-14_1753_理財觀念_除權息的應用概念.mp4</td>\n      <td>D:\\8分鐘搞懂理財知識\\_8分鐘搞懂理財知識_整理的影片by資料夾\\2020-12-14_...</td>\n      <td>9398585</td>\n      <td>2021/8/18 上午 02:39:20</td>\n      <td>2021/5/11 上午 02:34:53</td>\n    </tr>\n    <tr>\n      <th>Z:\\8分鐘搞懂理財知識_重新整理過</th>\n      <td>222</td>\n      <td>.mp4</td>\n      <td>Z:</td>\n      <td>8分鐘搞懂理財知識_重新整理過</td>\n      <td>NaN</td>\n      <td>8分鐘搞懂理財知識_重新整理過</td>\n      <td>2020-12-14_1753_理財觀念_除權息的應用概念.mp4</td>\n      <td>Z:\\8分鐘搞懂理財知識_重新整理過\\</td>\n      <td>9398585</td>\n      <td>2021/5/11 上午 03:11:02</td>\n      <td>2021/5/11 上午 02:34:53</td>\n    </tr>\n    <tr>\n      <th>D:\\8分鐘搞懂理財知識</th>\n      <td>223</td>\n      <td>.mp4</td>\n      <td>D:</td>\n      <td>8分鐘搞懂理財知識</td>\n      <td>_8分鐘搞懂理財知識_整理的 Youtube 影片\\</td>\n      <td>_8分鐘搞懂理財知識_整理的 Youtube 影片</td>\n      <td>2020-12-29_1656_理財觀念_關於零股交易新制，你不可不知的6件事.mp4</td>\n      <td>D:\\8分鐘搞懂理財知識\\_8分鐘搞懂理財知識_整理的 Youtube 影片\\</td>\n      <td>8394900</td>\n      <td>2021/8/18 上午 02:38:39</td>\n      <td>2021/5/11 上午 02:34:48</td>\n    </tr>\n    <tr>\n      <th>D:\\8分鐘搞懂理財知識</th>\n      <td>223</td>\n      <td>.mp4</td>\n      <td>D:</td>\n      <td>8分鐘搞懂理財知識</td>\n      <td>_8分鐘搞懂理財知識_整理的影片by資料夾\\2020-12-29_1656_理財觀念_關於零...</td>\n      <td>2020-12-29_1656_理財觀念_關於零股交易新制，你不可不知的6件事</td>\n      <td>2020-12-29_1656_理財觀念_關於零股交易新制，你不可不知的6件事.mp4</td>\n      <td>D:\\8分鐘搞懂理財知識\\_8分鐘搞懂理財知識_整理的影片by資料夾\\2020-12-29_...</td>\n      <td>8394900</td>\n      <td>2021/8/18 上午 02:39:20</td>\n      <td>2021/5/11 上午 02:34:48</td>\n    </tr>\n    <tr>\n      <th>Z:\\8分鐘搞懂理財知識_重新整理過</th>\n      <td>223</td>\n      <td>.mp4</td>\n      <td>Z:</td>\n      <td>8分鐘搞懂理財知識_重新整理過</td>\n      <td>NaN</td>\n      <td>8分鐘搞懂理財知識_重新整理過</td>\n      <td>2020-12-29_1656_理財觀念_關於零股交易新制，你不可不知的6件事.mp4</td>\n      <td>Z:\\8分鐘搞懂理財知識_重新整理過\\</td>\n      <td>8394900</td>\n      <td>2021/5/11 上午 03:11:03</td>\n      <td>2021/5/11 上午 02:34:48</td>\n    </tr>\n  </tbody>\n</table>\n<p>883 rows × 11 columns</p>\n</div>"
     },
     "execution_count": 16,
     "metadata": {},
     "output_type": "execute_result"
    }
   ],
   "source": [
    "construct_frame = pd.concat([construct_frame, reshape_frame])\n",
    "construct_frame"
   ],
   "metadata": {
    "collapsed": false,
    "pycharm": {
     "name": "#%%\n"
    }
   }
  },
  {
   "cell_type": "code",
   "execution_count": 23,
   "outputs": [
    {
     "data": {
      "text/plain": "磁碟機根目錄\nD:\\8分鐘搞懂理財知識                        D:\nD:\\8分鐘搞懂理財知識                        D:\nD:\\8分鐘搞懂理財知識                        D:\nZ:\\8分鐘搞懂理財知識_新手教室 Youtube 投資影片教學    Z:\nZ:\\8分鐘搞懂理財知識_重新整理過                  Z:\n                                    ..\nD:\\8分鐘搞懂理財知識                        D:\nZ:\\8分鐘搞懂理財知識_重新整理過                  Z:\nD:\\8分鐘搞懂理財知識                        D:\nD:\\8分鐘搞懂理財知識                        D:\nZ:\\8分鐘搞懂理財知識_重新整理過                  Z:\nName: 磁碟機, Length: 883, dtype: object"
     },
     "execution_count": 23,
     "metadata": {},
     "output_type": "execute_result"
    }
   ],
   "source": [
    "construct_frame['磁碟機'].str.contains('E:')"
   ],
   "metadata": {
    "collapsed": false,
    "pycharm": {
     "name": "#%%\n"
    }
   }
  },
  {
   "cell_type": "code",
   "execution_count": 24,
   "outputs": [
    {
     "data": {
      "text/plain": "磁碟機根目錄\nD:\\8分鐘搞懂理財知識                        False\nD:\\8分鐘搞懂理財知識                        False\nD:\\8分鐘搞懂理財知識                        False\nZ:\\8分鐘搞懂理財知識_新手教室 Youtube 投資影片教學    False\nZ:\\8分鐘搞懂理財知識_重新整理過                  False\n                                    ...  \nD:\\8分鐘搞懂理財知識                        False\nZ:\\8分鐘搞懂理財知識_重新整理過                  False\nD:\\8分鐘搞懂理財知識                        False\nD:\\8分鐘搞懂理財知識                        False\nZ:\\8分鐘搞懂理財知識_重新整理過                  False\nName: 磁碟機, Length: 883, dtype: bool"
     },
     "execution_count": 24,
     "metadata": {},
     "output_type": "execute_result"
    }
   ],
   "source": [
    "construct_frame['磁碟機'].str.contains('E:')"
   ],
   "metadata": {
    "collapsed": false,
    "pycharm": {
     "name": "#%%\n"
    }
   }
  },
  {
   "cell_type": "code",
   "execution_count": 27,
   "outputs": [
    {
     "data": {
      "text/plain": "True"
     },
     "execution_count": 27,
     "metadata": {},
     "output_type": "execute_result"
    }
   ],
   "source": [
    "construct_frame[construct_frame['磁碟機'].str.contains('E:')].empty"
   ],
   "metadata": {
    "collapsed": false,
    "pycharm": {
     "name": "#%%\n"
    }
   }
  },
  {
   "cell_type": "code",
   "execution_count": 17,
   "outputs": [
    {
     "data": {
      "text/plain": "Int64Index([  0,   1,   2,   3,   4,   5,   6,   7,   8,   9,\n            ...\n            873, 874, 875, 876, 877, 878, 879, 880, 881, 882],\n           dtype='int64', length=883)"
     },
     "execution_count": 17,
     "metadata": {},
     "output_type": "execute_result"
    }
   ],
   "source": [
    "drop_indexes = df[df['組別'].isin(group_numbers) == True].index\n",
    "drop_indexes"
   ],
   "metadata": {
    "collapsed": false,
    "pycharm": {
     "name": "#%%\n"
    }
   }
  },
  {
   "cell_type": "code",
   "execution_count": 18,
   "outputs": [
    {
     "name": "stdout",
     "output_type": "stream",
     "text": [
      "len(df) 468169\n",
      "len(df) 467286\n"
     ]
    }
   ],
   "source": [
    "print('len(df)', len(df))\n",
    "df.drop(drop_indexes, inplace=True)\n",
    "print('len(df)', len(df))"
   ],
   "metadata": {
    "collapsed": false,
    "pycharm": {
     "name": "#%%\n"
    }
   }
  },
  {
   "cell_type": "code",
   "execution_count": 19,
   "outputs": [
    {
     "name": "stdout",
     "output_type": "stream",
     "text": [
      "\n",
      "從1組別開始共223組別已刪除。還有 467286筆。\n"
     ]
    }
   ],
   "source": [
    "print(f'\\n從{group_numbers[0]}組別開始共{len(group_numbers)}組別已刪除。還有 {len(df)}筆。')"
   ],
   "metadata": {
    "collapsed": false,
    "pycharm": {
     "name": "#%%\n"
    }
   }
  },
  {
   "cell_type": "code",
   "execution_count": 20,
   "outputs": [],
   "source": [
    "if not df.empty:\n",
    "    pre_group_id = eval_group_id\n",
    "    pre_path_list = path_list\n",
    "    eval_group_id = df['組別'].iloc[0]\n",
    "    if not (df[df['組別'] == eval_group_id]['磁碟機根目錄'].isin(root_folder_list) == True).any():\n",
    "        numbers_list = []\n",
    "        construct_frame = pd.DataFrame()\n",
    "        file_name = None"
   ],
   "metadata": {
    "collapsed": false,
    "pycharm": {
     "name": "#%%\n"
    }
   }
  },
  {
   "cell_type": "code",
   "execution_count": 21,
   "outputs": [
    {
     "data": {
      "text/plain": "224"
     },
     "execution_count": 21,
     "metadata": {},
     "output_type": "execute_result"
    }
   ],
   "source": [
    "eval_group_id"
   ],
   "metadata": {
    "collapsed": false,
    "pycharm": {
     "name": "#%%\n"
    }
   }
  },
  {
   "cell_type": "code",
   "execution_count": 22,
   "outputs": [
    {
     "data": {
      "text/plain": "                                   組別  檔案類型 磁碟機  \\\n磁碟機根目錄                                            \nD:\\8分鐘搞懂理財知識                        1  .mp4  D:   \nD:\\8分鐘搞懂理財知識                        1  .mp4  D:   \nD:\\8分鐘搞懂理財知識                        1  .mp4  D:   \nZ:\\8分鐘搞懂理財知識_新手教室 Youtube 投資影片教學    1  .mp4  Z:   \nZ:\\8分鐘搞懂理財知識_重新整理過                  1  .mp4  Z:   \n...                               ...   ...  ..   \nD:\\8分鐘搞懂理財知識                      222  .mp4  D:   \nZ:\\8分鐘搞懂理財知識_重新整理過                222  .mp4  Z:   \nD:\\8分鐘搞懂理財知識                      223  .mp4  D:   \nD:\\8分鐘搞懂理財知識                      223  .mp4  D:   \nZ:\\8分鐘搞懂理財知識_重新整理過                223  .mp4  Z:   \n\n                                                            根目錄  \\\n磁碟機根目錄                                                            \nD:\\8分鐘搞懂理財知識                                          8分鐘搞懂理財知識   \nD:\\8分鐘搞懂理財知識                                          8分鐘搞懂理財知識   \nD:\\8分鐘搞懂理財知識                                          8分鐘搞懂理財知識   \nZ:\\8分鐘搞懂理財知識_新手教室 Youtube 投資影片教學  8分鐘搞懂理財知識_新手教室 Youtube 投資影片教學   \nZ:\\8分鐘搞懂理財知識_重新整理過                              8分鐘搞懂理財知識_重新整理過   \n...                                                         ...   \nD:\\8分鐘搞懂理財知識                                          8分鐘搞懂理財知識   \nZ:\\8分鐘搞懂理財知識_重新整理過                              8分鐘搞懂理財知識_重新整理過   \nD:\\8分鐘搞懂理財知識                                          8分鐘搞懂理財知識   \nD:\\8分鐘搞懂理財知識                                          8分鐘搞懂理財知識   \nZ:\\8分鐘搞懂理財知識_重新整理過                              8分鐘搞懂理財知識_重新整理過   \n\n                                                                                子目錄  \\\n磁碟機根目錄                                                                                \nD:\\8分鐘搞懂理財知識                                    _8分鐘搞懂理財知識_原來的 新手教室 Youtube 投資影片教學\\   \nD:\\8分鐘搞懂理財知識                                             _8分鐘搞懂理財知識_整理的 Youtube 影片\\   \nD:\\8分鐘搞懂理財知識                      _8分鐘搞懂理財知識_整理的影片by資料夾\\2015-08-25_2152_技術分析教學_快...   \nZ:\\8分鐘搞懂理財知識_新手教室 Youtube 投資影片教學                                                NaN   \nZ:\\8分鐘搞懂理財知識_重新整理過                                                              NaN   \n...                                                                             ...   \nD:\\8分鐘搞懂理財知識                      _8分鐘搞懂理財知識_整理的影片by資料夾\\2020-12-14_1753_理財觀念_除權息...   \nZ:\\8分鐘搞懂理財知識_重新整理過                                                              NaN   \nD:\\8分鐘搞懂理財知識                                             _8分鐘搞懂理財知識_整理的 Youtube 影片\\   \nD:\\8分鐘搞懂理財知識                      _8分鐘搞懂理財知識_整理的影片by資料夾\\2020-12-29_1656_理財觀念_關於零...   \nZ:\\8分鐘搞懂理財知識_重新整理過                                                              NaN   \n\n                                                                    檔案資料夾  \\\n磁碟機根目錄                                                                      \nD:\\8分鐘搞懂理財知識                           _8分鐘搞懂理財知識_原來的 新手教室 Youtube 投資影片教學   \nD:\\8分鐘搞懂理財知識                                    _8分鐘搞懂理財知識_整理的 Youtube 影片   \nD:\\8分鐘搞懂理財知識                           2015-08-25_2152_技術分析教學_快速搞懂RSI技術指標   \nZ:\\8分鐘搞懂理財知識_新手教室 Youtube 投資影片教學            8分鐘搞懂理財知識_新手教室 Youtube 投資影片教學   \nZ:\\8分鐘搞懂理財知識_重新整理過                                        8分鐘搞懂理財知識_重新整理過   \n...                                                                   ...   \nD:\\8分鐘搞懂理財知識                                2020-12-14_1753_理財觀念_除權息的應用概念   \nZ:\\8分鐘搞懂理財知識_重新整理過                                        8分鐘搞懂理財知識_重新整理過   \nD:\\8分鐘搞懂理財知識                                    _8分鐘搞懂理財知識_整理的 Youtube 影片   \nD:\\8分鐘搞懂理財知識                      2020-12-29_1656_理財觀念_關於零股交易新制，你不可不知的6件事   \nZ:\\8分鐘搞懂理財知識_重新整理過                                        8分鐘搞懂理財知識_重新整理過   \n\n                                                                         檔案名稱  \\\n磁碟機根目錄                                                                          \nD:\\8分鐘搞懂理財知識                               8分鐘搞懂技術分析：RSI的重要價值-WUwaMVSCDYY.mp4   \nD:\\8分鐘搞懂理財知識                           2015-08-25_2152_技術分析教學_快速搞懂RSI技術指標.mp4   \nD:\\8分鐘搞懂理財知識                           2015-08-25_2152_技術分析教學_快速搞懂RSI技術指標.mp4   \nZ:\\8分鐘搞懂理財知識_新手教室 Youtube 投資影片教學           8分鐘搞懂技術分析：RSI的重要價值-WUwaMVSCDYY.mp4   \nZ:\\8分鐘搞懂理財知識_重新整理過                     2015-08-25_2152_技術分析教學_快速搞懂RSI技術指標.mp4   \n...                                                                       ...   \nD:\\8分鐘搞懂理財知識                                2020-12-14_1753_理財觀念_除權息的應用概念.mp4   \nZ:\\8分鐘搞懂理財知識_重新整理過                          2020-12-14_1753_理財觀念_除權息的應用概念.mp4   \nD:\\8分鐘搞懂理財知識                      2020-12-29_1656_理財觀念_關於零股交易新制，你不可不知的6件事.mp4   \nD:\\8分鐘搞懂理財知識                      2020-12-29_1656_理財觀念_關於零股交易新制，你不可不知的6件事.mp4   \nZ:\\8分鐘搞懂理財知識_重新整理過                2020-12-29_1656_理財觀念_關於零股交易新制，你不可不知的6件事.mp4   \n\n                                                                                 路徑  \\\n磁碟機根目錄                                                                                \nD:\\8分鐘搞懂理財知識                       D:\\8分鐘搞懂理財知識\\_8分鐘搞懂理財知識_原來的 新手教室 Youtube 投資影片教學\\   \nD:\\8分鐘搞懂理財知識                                D:\\8分鐘搞懂理財知識\\_8分鐘搞懂理財知識_整理的 Youtube 影片\\   \nD:\\8分鐘搞懂理財知識                      D:\\8分鐘搞懂理財知識\\_8分鐘搞懂理財知識_整理的影片by資料夾\\2015-08-25_...   \nZ:\\8分鐘搞懂理財知識_新手教室 Youtube 投資影片教學                  Z:\\8分鐘搞懂理財知識_新手教室 Youtube 投資影片教學\\   \nZ:\\8分鐘搞懂理財知識_重新整理過                                              Z:\\8分鐘搞懂理財知識_重新整理過\\   \n...                                                                             ...   \nD:\\8分鐘搞懂理財知識                      D:\\8分鐘搞懂理財知識\\_8分鐘搞懂理財知識_整理的影片by資料夾\\2020-12-14_...   \nZ:\\8分鐘搞懂理財知識_重新整理過                                              Z:\\8分鐘搞懂理財知識_重新整理過\\   \nD:\\8分鐘搞懂理財知識                                D:\\8分鐘搞懂理財知識\\_8分鐘搞懂理財知識_整理的 Youtube 影片\\   \nD:\\8分鐘搞懂理財知識                      D:\\8分鐘搞懂理財知識\\_8分鐘搞懂理財知識_整理的影片by資料夾\\2020-12-29_...   \nZ:\\8分鐘搞懂理財知識_重新整理過                                              Z:\\8分鐘搞懂理財知識_重新整理過\\   \n\n                                        大小                   新增日期  \\\n磁碟機根目錄                                                              \nD:\\8分鐘搞懂理財知識                      25612876  2021/8/18 上午 02:37:16   \nD:\\8分鐘搞懂理財知識                      25612876  2021/8/18 上午 02:38:06   \nD:\\8分鐘搞懂理財知識                      25612876  2021/8/18 上午 02:38:39   \nZ:\\8分鐘搞懂理財知識_新手教室 Youtube 投資影片教學  25612876  2021/5/10 下午 05:08:28   \nZ:\\8分鐘搞懂理財知識_重新整理過                25612876  2021/5/11 上午 03:06:53   \n...                                    ...                    ...   \nD:\\8分鐘搞懂理財知識                       9398585  2021/8/18 上午 02:39:20   \nZ:\\8分鐘搞懂理財知識_重新整理過                 9398585  2021/5/11 上午 03:11:02   \nD:\\8分鐘搞懂理財知識                       8394900  2021/8/18 上午 02:38:39   \nD:\\8分鐘搞懂理財知識                       8394900  2021/8/18 上午 02:39:20   \nZ:\\8分鐘搞懂理財知識_重新整理過                 8394900  2021/5/11 上午 03:11:03   \n\n                                                    修改日期  \n磁碟機根目錄                                                    \nD:\\8分鐘搞懂理財知識                      2018/11/14 下午 02:12:09  \nD:\\8分鐘搞懂理財知識                       2021/5/11 上午 02:58:44  \nD:\\8分鐘搞懂理財知識                       2021/5/11 上午 02:58:44  \nZ:\\8分鐘搞懂理財知識_新手教室 Youtube 投資影片教學  2018/11/14 下午 02:12:09  \nZ:\\8分鐘搞懂理財知識_重新整理過                 2021/5/11 上午 02:58:44  \n...                                                  ...  \nD:\\8分鐘搞懂理財知識                       2021/5/11 上午 02:34:53  \nZ:\\8分鐘搞懂理財知識_重新整理過                 2021/5/11 上午 02:34:53  \nD:\\8分鐘搞懂理財知識                       2021/5/11 上午 02:34:48  \nD:\\8分鐘搞懂理財知識                       2021/5/11 上午 02:34:48  \nZ:\\8分鐘搞懂理財知識_重新整理過                 2021/5/11 上午 02:34:48  \n\n[883 rows x 11 columns]",
      "text/html": "<div>\n<style scoped>\n    .dataframe tbody tr th:only-of-type {\n        vertical-align: middle;\n    }\n\n    .dataframe tbody tr th {\n        vertical-align: top;\n    }\n\n    .dataframe thead th {\n        text-align: right;\n    }\n</style>\n<table border=\"1\" class=\"dataframe\">\n  <thead>\n    <tr style=\"text-align: right;\">\n      <th></th>\n      <th>組別</th>\n      <th>檔案類型</th>\n      <th>磁碟機</th>\n      <th>根目錄</th>\n      <th>子目錄</th>\n      <th>檔案資料夾</th>\n      <th>檔案名稱</th>\n      <th>路徑</th>\n      <th>大小</th>\n      <th>新增日期</th>\n      <th>修改日期</th>\n    </tr>\n    <tr>\n      <th>磁碟機根目錄</th>\n      <th></th>\n      <th></th>\n      <th></th>\n      <th></th>\n      <th></th>\n      <th></th>\n      <th></th>\n      <th></th>\n      <th></th>\n      <th></th>\n      <th></th>\n    </tr>\n  </thead>\n  <tbody>\n    <tr>\n      <th>D:\\8分鐘搞懂理財知識</th>\n      <td>1</td>\n      <td>.mp4</td>\n      <td>D:</td>\n      <td>8分鐘搞懂理財知識</td>\n      <td>_8分鐘搞懂理財知識_原來的 新手教室 Youtube 投資影片教學\\</td>\n      <td>_8分鐘搞懂理財知識_原來的 新手教室 Youtube 投資影片教學</td>\n      <td>8分鐘搞懂技術分析：RSI的重要價值-WUwaMVSCDYY.mp4</td>\n      <td>D:\\8分鐘搞懂理財知識\\_8分鐘搞懂理財知識_原來的 新手教室 Youtube 投資影片教學\\</td>\n      <td>25612876</td>\n      <td>2021/8/18 上午 02:37:16</td>\n      <td>2018/11/14 下午 02:12:09</td>\n    </tr>\n    <tr>\n      <th>D:\\8分鐘搞懂理財知識</th>\n      <td>1</td>\n      <td>.mp4</td>\n      <td>D:</td>\n      <td>8分鐘搞懂理財知識</td>\n      <td>_8分鐘搞懂理財知識_整理的 Youtube 影片\\</td>\n      <td>_8分鐘搞懂理財知識_整理的 Youtube 影片</td>\n      <td>2015-08-25_2152_技術分析教學_快速搞懂RSI技術指標.mp4</td>\n      <td>D:\\8分鐘搞懂理財知識\\_8分鐘搞懂理財知識_整理的 Youtube 影片\\</td>\n      <td>25612876</td>\n      <td>2021/8/18 上午 02:38:06</td>\n      <td>2021/5/11 上午 02:58:44</td>\n    </tr>\n    <tr>\n      <th>D:\\8分鐘搞懂理財知識</th>\n      <td>1</td>\n      <td>.mp4</td>\n      <td>D:</td>\n      <td>8分鐘搞懂理財知識</td>\n      <td>_8分鐘搞懂理財知識_整理的影片by資料夾\\2015-08-25_2152_技術分析教學_快...</td>\n      <td>2015-08-25_2152_技術分析教學_快速搞懂RSI技術指標</td>\n      <td>2015-08-25_2152_技術分析教學_快速搞懂RSI技術指標.mp4</td>\n      <td>D:\\8分鐘搞懂理財知識\\_8分鐘搞懂理財知識_整理的影片by資料夾\\2015-08-25_...</td>\n      <td>25612876</td>\n      <td>2021/8/18 上午 02:38:39</td>\n      <td>2021/5/11 上午 02:58:44</td>\n    </tr>\n    <tr>\n      <th>Z:\\8分鐘搞懂理財知識_新手教室 Youtube 投資影片教學</th>\n      <td>1</td>\n      <td>.mp4</td>\n      <td>Z:</td>\n      <td>8分鐘搞懂理財知識_新手教室 Youtube 投資影片教學</td>\n      <td>NaN</td>\n      <td>8分鐘搞懂理財知識_新手教室 Youtube 投資影片教學</td>\n      <td>8分鐘搞懂技術分析：RSI的重要價值-WUwaMVSCDYY.mp4</td>\n      <td>Z:\\8分鐘搞懂理財知識_新手教室 Youtube 投資影片教學\\</td>\n      <td>25612876</td>\n      <td>2021/5/10 下午 05:08:28</td>\n      <td>2018/11/14 下午 02:12:09</td>\n    </tr>\n    <tr>\n      <th>Z:\\8分鐘搞懂理財知識_重新整理過</th>\n      <td>1</td>\n      <td>.mp4</td>\n      <td>Z:</td>\n      <td>8分鐘搞懂理財知識_重新整理過</td>\n      <td>NaN</td>\n      <td>8分鐘搞懂理財知識_重新整理過</td>\n      <td>2015-08-25_2152_技術分析教學_快速搞懂RSI技術指標.mp4</td>\n      <td>Z:\\8分鐘搞懂理財知識_重新整理過\\</td>\n      <td>25612876</td>\n      <td>2021/5/11 上午 03:06:53</td>\n      <td>2021/5/11 上午 02:58:44</td>\n    </tr>\n    <tr>\n      <th>...</th>\n      <td>...</td>\n      <td>...</td>\n      <td>...</td>\n      <td>...</td>\n      <td>...</td>\n      <td>...</td>\n      <td>...</td>\n      <td>...</td>\n      <td>...</td>\n      <td>...</td>\n      <td>...</td>\n    </tr>\n    <tr>\n      <th>D:\\8分鐘搞懂理財知識</th>\n      <td>222</td>\n      <td>.mp4</td>\n      <td>D:</td>\n      <td>8分鐘搞懂理財知識</td>\n      <td>_8分鐘搞懂理財知識_整理的影片by資料夾\\2020-12-14_1753_理財觀念_除權息...</td>\n      <td>2020-12-14_1753_理財觀念_除權息的應用概念</td>\n      <td>2020-12-14_1753_理財觀念_除權息的應用概念.mp4</td>\n      <td>D:\\8分鐘搞懂理財知識\\_8分鐘搞懂理財知識_整理的影片by資料夾\\2020-12-14_...</td>\n      <td>9398585</td>\n      <td>2021/8/18 上午 02:39:20</td>\n      <td>2021/5/11 上午 02:34:53</td>\n    </tr>\n    <tr>\n      <th>Z:\\8分鐘搞懂理財知識_重新整理過</th>\n      <td>222</td>\n      <td>.mp4</td>\n      <td>Z:</td>\n      <td>8分鐘搞懂理財知識_重新整理過</td>\n      <td>NaN</td>\n      <td>8分鐘搞懂理財知識_重新整理過</td>\n      <td>2020-12-14_1753_理財觀念_除權息的應用概念.mp4</td>\n      <td>Z:\\8分鐘搞懂理財知識_重新整理過\\</td>\n      <td>9398585</td>\n      <td>2021/5/11 上午 03:11:02</td>\n      <td>2021/5/11 上午 02:34:53</td>\n    </tr>\n    <tr>\n      <th>D:\\8分鐘搞懂理財知識</th>\n      <td>223</td>\n      <td>.mp4</td>\n      <td>D:</td>\n      <td>8分鐘搞懂理財知識</td>\n      <td>_8分鐘搞懂理財知識_整理的 Youtube 影片\\</td>\n      <td>_8分鐘搞懂理財知識_整理的 Youtube 影片</td>\n      <td>2020-12-29_1656_理財觀念_關於零股交易新制，你不可不知的6件事.mp4</td>\n      <td>D:\\8分鐘搞懂理財知識\\_8分鐘搞懂理財知識_整理的 Youtube 影片\\</td>\n      <td>8394900</td>\n      <td>2021/8/18 上午 02:38:39</td>\n      <td>2021/5/11 上午 02:34:48</td>\n    </tr>\n    <tr>\n      <th>D:\\8分鐘搞懂理財知識</th>\n      <td>223</td>\n      <td>.mp4</td>\n      <td>D:</td>\n      <td>8分鐘搞懂理財知識</td>\n      <td>_8分鐘搞懂理財知識_整理的影片by資料夾\\2020-12-29_1656_理財觀念_關於零...</td>\n      <td>2020-12-29_1656_理財觀念_關於零股交易新制，你不可不知的6件事</td>\n      <td>2020-12-29_1656_理財觀念_關於零股交易新制，你不可不知的6件事.mp4</td>\n      <td>D:\\8分鐘搞懂理財知識\\_8分鐘搞懂理財知識_整理的影片by資料夾\\2020-12-29_...</td>\n      <td>8394900</td>\n      <td>2021/8/18 上午 02:39:20</td>\n      <td>2021/5/11 上午 02:34:48</td>\n    </tr>\n    <tr>\n      <th>Z:\\8分鐘搞懂理財知識_重新整理過</th>\n      <td>223</td>\n      <td>.mp4</td>\n      <td>Z:</td>\n      <td>8分鐘搞懂理財知識_重新整理過</td>\n      <td>NaN</td>\n      <td>8分鐘搞懂理財知識_重新整理過</td>\n      <td>2020-12-29_1656_理財觀念_關於零股交易新制，你不可不知的6件事.mp4</td>\n      <td>Z:\\8分鐘搞懂理財知識_重新整理過\\</td>\n      <td>8394900</td>\n      <td>2021/5/11 上午 03:11:03</td>\n      <td>2021/5/11 上午 02:34:48</td>\n    </tr>\n  </tbody>\n</table>\n<p>883 rows × 11 columns</p>\n</div>"
     },
     "execution_count": 22,
     "metadata": {},
     "output_type": "execute_result"
    }
   ],
   "source": [
    "construct_frame"
   ],
   "metadata": {
    "collapsed": false,
    "pycharm": {
     "name": "#%%\n"
    }
   }
  },
  {
   "cell_type": "code",
   "execution_count": null,
   "outputs": [],
   "source": [],
   "metadata": {
    "collapsed": false,
    "pycharm": {
     "name": "#%%\n"
    }
   }
  }
 ],
 "metadata": {
  "kernelspec": {
   "display_name": "Python 3",
   "language": "python",
   "name": "python3"
  },
  "language_info": {
   "codemirror_mode": {
    "name": "ipython",
    "version": 2
   },
   "file_extension": ".py",
   "mimetype": "text/x-python",
   "name": "python",
   "nbconvert_exporter": "python",
   "pygments_lexer": "ipython2",
   "version": "2.7.6"
  }
 },
 "nbformat": 4,
 "nbformat_minor": 0
}