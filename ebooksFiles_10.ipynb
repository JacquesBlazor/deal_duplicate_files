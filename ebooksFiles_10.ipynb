{
 "cells": [
  {
   "cell_type": "code",
   "execution_count": 1,
   "outputs": [],
   "source": [
    "import os\n",
    "import json\n",
    "import pickle\n",
    "import pandas as pd"
   ],
   "metadata": {
    "collapsed": false,
    "pycharm": {
     "name": "#%%\n"
    }
   }
  },
  {
   "cell_type": "code",
   "execution_count": 2,
   "outputs": [],
   "source": [
    "with open('concat_dfs.pkl', 'rb') as f:\n",
    "    df = pickle.load(f)"
   ],
   "metadata": {
    "collapsed": false,
    "pycharm": {
     "name": "#%%\n"
    }
   }
  },
  {
   "cell_type": "code",
   "execution_count": 3,
   "outputs": [],
   "source": [
    "df.reset_index(inplace=True)"
   ],
   "metadata": {
    "collapsed": false,
    "pycharm": {
     "name": "#%%\n"
    }
   }
  },
  {
   "cell_type": "code",
   "execution_count": 4,
   "outputs": [
    {
     "data": {
      "text/plain": "                                                     完整路徑              ddf  \\\n                                                                      檔案名稱   \n0                                          D:\\dirlist.txt      dirlist.txt   \n1       D:\\8分鐘搞懂理財知識\\_8分鐘搞懂理財知識_整理的影片by資料夾\\2015-07-06_...  description.txt   \n2       D:\\8分鐘搞懂理財知識\\_8分鐘搞懂理財知識_整理的影片by資料夾\\2015-07-16_...  description.txt   \n3       D:\\8分鐘搞懂理財知識\\_8分鐘搞懂理財知識_整理的影片by資料夾\\2015-08-10_...  description.txt   \n4       D:\\8分鐘搞懂理財知識\\_8分鐘搞懂理財知識_整理的影片by資料夾\\2015-08-19_...  description.txt   \n...                                                   ...              ...   \n613959                     E:\\擷取的畫面\\2021-08-24_220059.png              NaN   \n613960                     E:\\擷取的畫面\\2021-08-24_220101.png              NaN   \n613961                     E:\\擷取的畫面\\2021-08-24_220118.png              NaN   \n613962                     E:\\擷取的畫面\\2021-09-23_105946.png              NaN   \n613963                     E:\\擷取的畫面\\2021-09-23_110000.png              NaN   \n\n        zdf                     df                                  \\\n       檔案名稱                   檔案名稱       大小                   新增日期   \n0       NaN                    NaN      NaN                    NaN   \n1       NaN                    NaN      NaN                    NaN   \n2       NaN                    NaN      NaN                    NaN   \n3       NaN                    NaN      NaN                    NaN   \n4       NaN                    NaN      NaN                    NaN   \n...     ...                    ...      ...                    ...   \n613959  NaN  2021-08-24_220059.png  15133.0  2021/8/24 下午 10:01:00   \n613960  NaN  2021-08-24_220101.png  15133.0  2021/8/24 下午 10:01:01   \n613961  NaN  2021-08-24_220118.png  15133.0  2021/8/24 下午 10:01:18   \n613962  NaN  2021-09-23_105946.png  64176.0  2021/9/23 上午 10:59:46   \n613963  NaN  2021-09-23_110000.png  64176.0  2021/9/23 上午 11:00:00   \n\n                                                                 \n                         修改日期 檔案類型        組別  磁碟機    根目錄    資料夾  \n0                         NaN  NaN       NaN  NaN    NaN    NaN  \n1                         NaN  NaN       NaN  NaN    NaN    NaN  \n2                         NaN  NaN       NaN  NaN    NaN    NaN  \n3                         NaN  NaN       NaN  NaN    NaN    NaN  \n4                         NaN  NaN       NaN  NaN    NaN    NaN  \n...                       ...  ...       ...  ...    ...    ...  \n613959  2021/8/24 下午 10:01:00  png  164864.0   E:  擷取的畫面  擷取的畫面  \n613960  2021/8/24 下午 10:01:02  png  164864.0   E:  擷取的畫面  擷取的畫面  \n613961  2021/8/24 下午 10:01:18  png  164864.0   E:  擷取的畫面  擷取的畫面  \n613962  2021/9/23 上午 10:59:46  png  164865.0   E:  擷取的畫面  擷取的畫面  \n613963  2021/9/23 上午 11:00:00  png  164865.0   E:  擷取的畫面  擷取的畫面  \n\n[613964 rows x 12 columns]",
      "text/html": "<div>\n<style scoped>\n    .dataframe tbody tr th:only-of-type {\n        vertical-align: middle;\n    }\n\n    .dataframe tbody tr th {\n        vertical-align: top;\n    }\n\n    .dataframe thead tr th {\n        text-align: left;\n    }\n</style>\n<table border=\"1\" class=\"dataframe\">\n  <thead>\n    <tr>\n      <th></th>\n      <th>完整路徑</th>\n      <th>ddf</th>\n      <th>zdf</th>\n      <th colspan=\"9\" halign=\"left\">df</th>\n    </tr>\n    <tr>\n      <th></th>\n      <th></th>\n      <th>檔案名稱</th>\n      <th>檔案名稱</th>\n      <th>檔案名稱</th>\n      <th>大小</th>\n      <th>新增日期</th>\n      <th>修改日期</th>\n      <th>檔案類型</th>\n      <th>組別</th>\n      <th>磁碟機</th>\n      <th>根目錄</th>\n      <th>資料夾</th>\n    </tr>\n  </thead>\n  <tbody>\n    <tr>\n      <th>0</th>\n      <td>D:\\dirlist.txt</td>\n      <td>dirlist.txt</td>\n      <td>NaN</td>\n      <td>NaN</td>\n      <td>NaN</td>\n      <td>NaN</td>\n      <td>NaN</td>\n      <td>NaN</td>\n      <td>NaN</td>\n      <td>NaN</td>\n      <td>NaN</td>\n      <td>NaN</td>\n    </tr>\n    <tr>\n      <th>1</th>\n      <td>D:\\8分鐘搞懂理財知識\\_8分鐘搞懂理財知識_整理的影片by資料夾\\2015-07-06_...</td>\n      <td>description.txt</td>\n      <td>NaN</td>\n      <td>NaN</td>\n      <td>NaN</td>\n      <td>NaN</td>\n      <td>NaN</td>\n      <td>NaN</td>\n      <td>NaN</td>\n      <td>NaN</td>\n      <td>NaN</td>\n      <td>NaN</td>\n    </tr>\n    <tr>\n      <th>2</th>\n      <td>D:\\8分鐘搞懂理財知識\\_8分鐘搞懂理財知識_整理的影片by資料夾\\2015-07-16_...</td>\n      <td>description.txt</td>\n      <td>NaN</td>\n      <td>NaN</td>\n      <td>NaN</td>\n      <td>NaN</td>\n      <td>NaN</td>\n      <td>NaN</td>\n      <td>NaN</td>\n      <td>NaN</td>\n      <td>NaN</td>\n      <td>NaN</td>\n    </tr>\n    <tr>\n      <th>3</th>\n      <td>D:\\8分鐘搞懂理財知識\\_8分鐘搞懂理財知識_整理的影片by資料夾\\2015-08-10_...</td>\n      <td>description.txt</td>\n      <td>NaN</td>\n      <td>NaN</td>\n      <td>NaN</td>\n      <td>NaN</td>\n      <td>NaN</td>\n      <td>NaN</td>\n      <td>NaN</td>\n      <td>NaN</td>\n      <td>NaN</td>\n      <td>NaN</td>\n    </tr>\n    <tr>\n      <th>4</th>\n      <td>D:\\8分鐘搞懂理財知識\\_8分鐘搞懂理財知識_整理的影片by資料夾\\2015-08-19_...</td>\n      <td>description.txt</td>\n      <td>NaN</td>\n      <td>NaN</td>\n      <td>NaN</td>\n      <td>NaN</td>\n      <td>NaN</td>\n      <td>NaN</td>\n      <td>NaN</td>\n      <td>NaN</td>\n      <td>NaN</td>\n      <td>NaN</td>\n    </tr>\n    <tr>\n      <th>...</th>\n      <td>...</td>\n      <td>...</td>\n      <td>...</td>\n      <td>...</td>\n      <td>...</td>\n      <td>...</td>\n      <td>...</td>\n      <td>...</td>\n      <td>...</td>\n      <td>...</td>\n      <td>...</td>\n      <td>...</td>\n    </tr>\n    <tr>\n      <th>613959</th>\n      <td>E:\\擷取的畫面\\2021-08-24_220059.png</td>\n      <td>NaN</td>\n      <td>NaN</td>\n      <td>2021-08-24_220059.png</td>\n      <td>15133.0</td>\n      <td>2021/8/24 下午 10:01:00</td>\n      <td>2021/8/24 下午 10:01:00</td>\n      <td>png</td>\n      <td>164864.0</td>\n      <td>E:</td>\n      <td>擷取的畫面</td>\n      <td>擷取的畫面</td>\n    </tr>\n    <tr>\n      <th>613960</th>\n      <td>E:\\擷取的畫面\\2021-08-24_220101.png</td>\n      <td>NaN</td>\n      <td>NaN</td>\n      <td>2021-08-24_220101.png</td>\n      <td>15133.0</td>\n      <td>2021/8/24 下午 10:01:01</td>\n      <td>2021/8/24 下午 10:01:02</td>\n      <td>png</td>\n      <td>164864.0</td>\n      <td>E:</td>\n      <td>擷取的畫面</td>\n      <td>擷取的畫面</td>\n    </tr>\n    <tr>\n      <th>613961</th>\n      <td>E:\\擷取的畫面\\2021-08-24_220118.png</td>\n      <td>NaN</td>\n      <td>NaN</td>\n      <td>2021-08-24_220118.png</td>\n      <td>15133.0</td>\n      <td>2021/8/24 下午 10:01:18</td>\n      <td>2021/8/24 下午 10:01:18</td>\n      <td>png</td>\n      <td>164864.0</td>\n      <td>E:</td>\n      <td>擷取的畫面</td>\n      <td>擷取的畫面</td>\n    </tr>\n    <tr>\n      <th>613962</th>\n      <td>E:\\擷取的畫面\\2021-09-23_105946.png</td>\n      <td>NaN</td>\n      <td>NaN</td>\n      <td>2021-09-23_105946.png</td>\n      <td>64176.0</td>\n      <td>2021/9/23 上午 10:59:46</td>\n      <td>2021/9/23 上午 10:59:46</td>\n      <td>png</td>\n      <td>164865.0</td>\n      <td>E:</td>\n      <td>擷取的畫面</td>\n      <td>擷取的畫面</td>\n    </tr>\n    <tr>\n      <th>613963</th>\n      <td>E:\\擷取的畫面\\2021-09-23_110000.png</td>\n      <td>NaN</td>\n      <td>NaN</td>\n      <td>2021-09-23_110000.png</td>\n      <td>64176.0</td>\n      <td>2021/9/23 上午 11:00:00</td>\n      <td>2021/9/23 上午 11:00:00</td>\n      <td>png</td>\n      <td>164865.0</td>\n      <td>E:</td>\n      <td>擷取的畫面</td>\n      <td>擷取的畫面</td>\n    </tr>\n  </tbody>\n</table>\n<p>613964 rows × 12 columns</p>\n</div>"
     },
     "execution_count": 4,
     "metadata": {},
     "output_type": "execute_result"
    }
   ],
   "source": [
    "df"
   ],
   "metadata": {
    "collapsed": false,
    "pycharm": {
     "name": "#%%\n"
    }
   }
  },
  {
   "cell_type": "code",
   "execution_count": 5,
   "outputs": [
    {
     "data": {
      "text/plain": "[('完整路徑', ''),\n ('ddf', '檔案名稱'),\n ('zdf', '檔案名稱'),\n ('df', '檔案名稱'),\n ('df', '大小'),\n ('df', '新增日期'),\n ('df', '修改日期'),\n ('df', '檔案類型'),\n ('df', '組別'),\n ('df', '磁碟機'),\n ('df', '根目錄'),\n ('df', '資料夾')]"
     },
     "execution_count": 5,
     "metadata": {},
     "output_type": "execute_result"
    }
   ],
   "source": [
    "df.columns.to_list()"
   ],
   "metadata": {
    "collapsed": false,
    "pycharm": {
     "name": "#%%\n"
    }
   }
  },
  {
   "cell_type": "code",
   "execution_count": 6,
   "outputs": [],
   "source": [
    "df.columns = ['完整路徑', '檔案名稱ddf', '檔案名稱zdf', '檔案名稱df', '大小', '新增日期', '修改日期', '檔案類型', '組別', '磁碟機', '根目錄', '資料夾']"
   ],
   "metadata": {
    "collapsed": false,
    "pycharm": {
     "name": "#%%\n"
    }
   }
  },
  {
   "cell_type": "code",
   "execution_count": 7,
   "outputs": [],
   "source": [
    "target_path = 'E:/.developing_env/duplicated_files/file_types'"
   ],
   "metadata": {
    "collapsed": false,
    "pycharm": {
     "name": "#%%\n"
    }
   }
  },
  {
   "cell_type": "code",
   "execution_count": 8,
   "outputs": [],
   "source": [
    "extensions = df.groupby('檔案類型')"
   ],
   "metadata": {
    "collapsed": false,
    "pycharm": {
     "name": "#%%\n"
    }
   }
  },
  {
   "cell_type": "code",
   "execution_count": 9,
   "outputs": [],
   "source": [
    "counter = 0"
   ],
   "metadata": {
    "collapsed": false,
    "pycharm": {
     "name": "#%%\n"
    }
   }
  },
  {
   "cell_type": "code",
   "execution_count": 10,
   "outputs": [
    {
     "name": "stdout",
     "output_type": "stream",
     "text": [
      "1 0\n",
      "2 001\n",
      "3 002\n",
      "4 003\n",
      "5 004\n",
      "6 1\n",
      "7 5\n",
      "8 7\n",
      "9 A99\n",
      "10 APACHE\n",
      "11 APACHE2\n",
      "12 AVI\n",
      "13 B99\n",
      "14 BMP\n",
      "15 BSD\n",
      "16 CHM\n",
      "17 CSM\n",
      "18 CSV\n",
      "19 Cache\n",
      "20 CopyComplete\n",
      "21 DLL\n",
      "22 DSRX\n",
      "23 DS_Store\n",
      "24 EXE\n",
      "25 GIF\n",
      "26 ICO\n",
      "27 JPG\n",
      "28 LICENSE\n",
      "29 MF\n",
      "30 MIT\n",
      "31 MPL2\n",
      "32 MYD\n",
      "33 OCX\n",
      "34 Old\n",
      "35 PNG\n",
      "36 PSF\n",
      "37 Parent\n",
      "38 Pdf\n",
      "39 Python\n",
      "40 R\n",
      "41 RAR\n",
      "42 RData\n",
      "43 README\n",
      "44 Rhistory\n",
      "45 Rmd\n",
      "46 Rnw\n",
      "47 StyleCop\n",
      "48 TTF\n",
      "49 TXT\n",
      "50 WAV\n",
      "51 XML\n",
      "52 Zip\n",
      "53 _1x\n",
      "54 _20 New (2-Feb-20)\n",
      "55 _20dp\n",
      "56 _2x\n",
      "57 _32dp\n",
      "58 _3x\n",
      "59 _44dp\n",
      "60 _COVID & WFH  (24-March-20)\n",
      "61 _METADATA\n",
      "62 _RECORD\n",
      "63 _WHEEL\n",
      "64 __backport\n",
      "65 __markerlib\n",
      "66 __vendor\n",
      "67 _cachecontrol\n",
      "68 _caches\n",
      "69 _chardet\n",
      "70 _colorama\n",
      "71 _command\n",
      "72 _commands\n",
      "73 _compat\n",
      "74 _complex-dist\n",
      "75 _complexdist\n",
      "76 _contrib\n",
      "77 _distlib\n",
      "78 _filters\n",
      "79 _html5lib\n",
      "80 _lockfile\n",
      "81 _models\n",
      "82 _operations\n",
      "83 _packages\n",
      "84 _packaging\n",
      "85 _pip\n",
      "86 _pkg_resources\n",
      "87 _progress\n",
      "88 _req\n",
      "89 _requests\n",
      "90 _serializer\n",
      "91 _setuptools\n",
      "92 _signatures\n",
      "93 _simpledist\n",
      "94 _ssl_match_hostname\n",
      "95 _test\n",
      "96 _tool\n",
      "97 _treeadapters\n",
      "98 _treebuilders\n",
      "99 _treewalkers\n",
      "100 _trie\n",
      "101 _urllib3\n",
      "102 _util\n",
      "103 _utils\n",
      "104 _vcs\n",
      "105 _wheel\n",
      "106 _zip-safe\n",
      "107 a\n",
      "108 accdb\n",
      "109 accdt\n",
      "110 addin\n",
      "111 addins\n",
      "112 ai\n",
      "113 ali\n",
      "114 apk\n",
      "115 apns\n",
      "116 app\n",
      "117 asax\n",
      "118 asm\n",
      "119 asp\n",
      "120 aspx\n",
      "121 ass\n",
      "122 avi\n",
      "123 azw3\n",
      "124 babelrc\n",
      "125 bak\n",
      "126 bas\n",
      "127 base\n",
      "128 bash-completion\n",
      "129 bat\n",
      "130 bazel\n",
      "131 bbl\n",
      "132 big\n",
      "133 bin\n",
      "134 bmp\n",
      "135 bnf\n",
      "136 boto\n",
      "137 bowerrc\n",
      "138 bp\n",
      "139 bplist\n",
      "140 bson\n",
      "141 buildinfo\n",
      "142 bz2\n",
      "143 c\n",
      "144 cache\n",
      "145 cdd\n",
      "146 cfg\n",
      "147 chm\n",
      "148 chw\n",
      "149 class\n",
      "150 classpath\n",
      "151 cmake\n",
      "152 cmd\n",
      "153 cnbmiddle4e67c369t640e453936dd\n",
      "154 cnmiddle442fec47t906e619c23f6&690\n",
      "155 cnmiddle62ae0058x76ea7cf54c4e&690\n",
      "156 cnmiddle6be02947ta61b88e09c27&690\n",
      "157 cnmw690006eekf8zy7aSYdcPUX07\n",
      "158 cnmw690006ttY2Nzy7bckOg8ul19&690\n",
      "159 cnmw690006ttY2Nzy7bcn8057if8&690\n",
      "160 cnorignal4a0955884e7465df092b3\n",
      "161 coffee\n",
      "162 component\n",
      "163 conf\n",
      "164 config\n",
      "165 container\n",
      "166 coverage\n",
      "167 cpp\n",
      "168 crt\n",
      "169 crx\n",
      "170 cs\n",
      "171 csc\n",
      "172 csdl\n",
      "173 csh\n",
      "174 cshtml\n",
      "175 csproj\n",
      "176 csr\n",
      "177 css\n",
      "178 css~\n",
      "179 csv\n",
      "180 ctypes\n",
      "181 cur\n",
      "182 cxx\n",
      "183 d\n",
      "184 dat\n",
      "185 data\n",
      "186 data-00000-of-00001\n",
      "187 db\n",
      "188 dbf\n",
      "189 def\n",
      "190 dev\n",
      "191 dgn\n",
      "192 diagram\n",
      "193 dll\n",
      "194 doc\n",
      "195 dockerignore\n",
      "196 docx\n",
      "197 dotx\n",
      "198 dox\n",
      "199 dsp\n",
      "200 dsw\n",
      "201 dta\n",
      "202 dtbcache\n",
      "203 dtd\n",
      "204 dwt\n",
      "205 dylib\n",
      "206 e4p\n",
      "207 e4q\n",
      "208 e6t\n",
      "209 edgelist\n",
      "210 editorconfig\n",
      "211 edmx\n",
      "212 edx\n",
      "213 egg\n",
      "214 egg-info\n",
      "215 ejs\n",
      "216 el\n",
      "217 enc\n",
      "218 entitlements\n",
      "219 eot\n",
      "220 eps\n",
      "221 epub\n",
      "222 error\n",
      "223 eslintignore\n",
      "224 eslintrc\n",
      "225 etl\n",
      "226 exe\n",
      "227 exp\n",
      "228 f\n",
      "229 f2py_f2cmap\n",
      "230 f90\n",
      "231 fasta\n",
      "232 file\n",
      "233 filters\n",
      "234 fish\n",
      "235 fits\n",
      "236 flow\n",
      "237 flv\n",
      "238 fnt\n",
      "239 force\n",
      "240 fpp\n",
      "241 frm\n",
      "242 frx\n",
      "243 fs\n",
      "244 fsc\n",
      "245 fx\n",
      "246 gch\n",
      "247 genre\n",
      "248 geojson\n",
      "249 gfs\n",
      "250 ggb\n",
      "251 gif\n",
      "252 gitattributes\n",
      "253 gitignore\n",
      "254 gitkeep\n",
      "255 gitmodules\n",
      "256 gml\n",
      "257 go\n",
      "258 gradle\n",
      "259 graffle\n",
      "260 gs\n",
      "261 gz\n",
      "262 gzip\n",
      "263 h\n",
      "264 h5\n",
      "265 hbs\n",
      "266 hdf5\n",
      "267 header\n",
      "268 helmignore\n",
      "269 hgignore\n",
      "270 hhc\n",
      "271 hhp\n",
      "272 hpp\n",
      "273 hsi\n",
      "274 htc\n",
      "275 htm\n",
      "276 html\n",
      "277 html~\n",
      "278 h~\n",
      "279 i\n",
      "280 icns\n",
      "281 ico\n",
      "282 ics\n",
      "283 idb\n",
      "284 ide\n",
      "285 ide-shm\n",
      "286 ide-wal\n",
      "287 idx\n",
      "288 ignore\n",
      "289 ilk\n",
      "290 iml\n",
      "291 in\n",
      "292 inc\n",
      "293 index\n",
      "294 info\n",
      "295 ini\n",
      "296 ini~\n",
      "297 ino\n",
      "298 inv\n",
      "299 ipch\n",
      "300 ipynb\n",
      "301 iso\n",
      "302 item\n",
      "303 j2\n",
      "304 jade\n",
      "305 jar\n",
      "306 java\n",
      "307 jmx\n",
      "308 joblib\n",
      "309 jpeg\n",
      "310 jpg\n",
      "311 jpgsize=376x305\n",
      "312 jpgsize=450x337\n",
      "313 jpgsize=640x332\n",
      "314 js\n",
      "315 js(click)\n",
      "316 jsdtscope\n",
      "317 jshintignore\n",
      "318 jshintrc\n",
      "319 jsm\n",
      "320 json\n",
      "321 jsonld\n",
      "322 jsp\n",
      "323 jst\n",
      "324 js~\n",
      "325 jws\n",
      "326 keep\n",
      "327 key\n",
      "328 kml\n",
      "329 kv\n",
      "330 la\n",
      "331 lastbuildstate\n",
      "332 lay\n",
      "333 layout\n",
      "334 lbd\n",
      "335 ldb\n",
      "336 ldf\n",
      "337 less\n",
      "338 lib\n",
      "339 license\n",
      "340 local\n",
      "341 lock\n",
      "342 log\n",
      "343 lua\n",
      "344 lzma\n",
      "345 m4a\n",
      "346 mako\n",
      "347 manifest\n",
      "348 map\n",
      "349 markdown\n",
      "350 marker\n",
      "351 mask\n",
      "352 mat\n",
      "353 mbox\n",
      "354 md\n",
      "355 mdb\n",
      "356 mdf\n",
      "357 meta\n",
      "358 mht\n",
      "359 mid\n",
      "360 mjs\n",
      "361 mk\n",
      "362 mkv\n",
      "363 mno\n",
      "364 mo\n",
      "365 mobi\n",
      "366 mod\n",
      "367 mov\n",
      "368 mp3\n",
      "369 mp4\n",
      "370 mpg\n",
      "371 mplstyle\n",
      "372 msg\n",
      "373 msgpack\n",
      "374 msi\n",
      "375 msl\n",
      "376 mustache\n",
      "377 mx\n",
      "378 myhibernatedata\n",
      "379 mymetadata\n",
      "380 mystrutsdata\n",
      "381 name\n",
      "382 nc\n",
      "383 ncp\n",
      "384 nlp\n",
      "385 npmignore\n",
      "386 npy\n",
      "387 npz\n",
      "388 nunit\n",
      "389 nupkg\n",
      "390 nuspec\n",
      "391 nycrc\n",
      "392 o\n",
      "393 obj\n",
      "394 oca\n",
      "395 occupation\n",
      "396 ocx\n",
      "397 ods\n",
      "398 ogg\n",
      "399 ogv\n",
      "400 old\n",
      "401 opendb\n",
      "402 opf\n",
      "403 opts\n",
      "404 otf\n",
      "405 p\n",
      "406 p7s\n",
      "407 pack\n",
      "408 pag\n",
      "409 parquet\n",
      "410 patch\n",
      "411 pbxproj\n",
      "412 pch\n",
      "413 pdb\n",
      "414 pdf\n",
      "415 pdl\n",
      "416 pdn\n",
      "417 pem\n",
      "418 pfx\n",
      "419 php\n",
      "420 pickle\n",
      "421 pikle\n",
      "422 pkg\n",
      "423 pkl\n",
      "424 pl\n",
      "425 plist\n",
      "426 pn\n",
      "427 png\n",
      "428 png123\n",
      "429 po\n",
      "430 postman_collection\n",
      "431 pot\n",
      "432 po~\n",
      "433 ppm\n",
      "434 ppt\n",
      "435 pptx\n",
      "436 prefs\n",
      "437 prettierrc\n",
      "438 prf\n",
      "439 prj\n",
      "440 project\n",
      "441 projectile\n",
      "442 properties\n",
      "443 props\n",
      "444 proto\n",
      "445 ps1\n",
      "446 psd\n",
      "447 psd1\n",
      "448 psm1\n",
      "449 pth\n",
      "450 pubxml\n",
      "451 pug\n",
      "452 pxd\n",
      "453 pxi\n",
      "454 py\n",
      "455 py#\n",
      "456 py-tpl\n",
      "457 pyc\n",
      "458 pyd\n",
      "459 pydevproject\n",
      "460 pyi\n",
      "461 pym\n",
      "462 pyo\n",
      "463 pyproj\n",
      "464 python-version\n",
      "465 pyw\n",
      "466 pyx\n",
      "467 pyz\n",
      "468 py~\n",
      "469 qm\n",
      "470 qml\n",
      "471 qrc\n",
      "472 qss\n",
      "473 rar\n",
      "474 ratignore\n",
      "475 rb\n",
      "476 rc\n",
      "477 rdata\n",
      "478 rdb\n",
      "479 rdoc\n",
      "480 res\n",
      "481 resources\n",
      "482 resx\n",
      "483 rle\n",
      "484 rng\n",
      "485 rsp\n",
      "486 rst\n",
      "487 rtf\n",
      "488 ru\n",
      "489 ruby-version\n",
      "490 s1p\n",
      "491 s2p\n",
      "492 sample\n",
      "493 sav\n",
      "494 sbr\n",
      "495 scc\n",
      "496 scss\n",
      "497 settings\n",
      "498 setup\n",
      "499 sh\n",
      "500 shp\n",
      "501 shx\n",
      "502 skp\n",
      "503 sln\n",
      "504 snap\n",
      "505 so\n",
      "506 spec\n",
      "507 springBeans\n",
      "508 sql\n",
      "509 sqlite\n",
      "510 sqlite3\n",
      "511 src\n",
      "512 srl\n",
      "513 srt\n",
      "514 ssdl\n",
      "515 store\n",
      "516 storyboard\n",
      "517 strings\n",
      "518 sublime-build\n",
      "519 suo\n",
      "520 suo (與 DESKTOP-4FQQEFC 衝突的複本 2019-07-28)\n",
      "521 svg\n",
      "522 svm\n",
      "523 swf\n",
      "524 swg\n",
      "525 swift\n",
      "526 t\n",
      "527 tab\n",
      "528 tap\n",
      "529 targ\n",
      "530 targets\n",
      "531 tcl\n",
      "532 template\n",
      "533 terms\n",
      "534 test\n",
      "535 tex\n",
      "536 text\n",
      "537 thmx\n",
      "538 tif\n",
      "539 tld\n",
      "540 tlog\n",
      "541 tm\n",
      "542 tm_properties\n",
      "543 tmp\n",
      "544 tmpl\n",
      "545 toc\n",
      "546 tpl\n",
      "547 transform\n",
      "548 ts\n",
      "549 tst\n",
      "550 tsv\n",
      "551 tt\n",
      "552 ttc\n",
      "553 ttf\n",
      "554 ttt\n",
      "555 txt\n",
      "556 typed\n",
      "557 ui\n",
      "558 url\n",
      "559 user\n",
      "560 v2\n",
      "561 vbs\n",
      "562 vcproj\n",
      "563 vcxproj\n",
      "564 vec\n",
      "565 version\n",
      "566 virtualenv\n",
      "567 vocab\n",
      "568 vspscc\n",
      "569 vue\n",
      "570 wav\n",
      "571 webm\n",
      "572 webp\n",
      "573 weights\n",
      "574 whl\n",
      "575 win\n",
      "576 wkt\n",
      "577 wmp3\n",
      "578 wmv\n",
      "579 woff\n",
      "580 woff2\n",
      "581 wsgi\n",
      "582 xbel\n",
      "583 xbm\n",
      "584 xcbkptlist\n",
      "585 xccurrentversion\n",
      "586 xcf\n",
      "587 xcscheme\n",
      "588 xcuserstate\n",
      "589 xcworkspacedata\n",
      "590 xdt\n",
      "591 xib\n",
      "592 xlam\n",
      "593 xls\n",
      "594 xlsm\n",
      "595 xlsx\n",
      "596 xml\n",
      "597 xpi\n",
      "598 xpm\n",
      "599 xsd\n",
      "600 xshd\n",
      "601 xsl\n",
      "602 xslt\n",
      "603 xz\n",
      "604 yaml\n",
      "605 yml\n",
      "606 z\n",
      "607 zi\n",
      "608 zip\n",
      "609 下載\n"
     ]
    }
   ],
   "source": [
    "for extension_name, extension_frame in extensions:\n",
    "    make_dir = os.path.join(target_path, extension_name)\n",
    "    if not os.path.isdir(make_dir):\n",
    "        os.makedirs(make_dir)\n",
    "    extension_df = pd.DataFrame()\n",
    "    folder = extension_frame.groupby('資料夾')\n",
    "    for folder_name, folder_frame in folder:\n",
    "        team = folder_frame.groupby('組別')\n",
    "        for team_name, team_frame in team:\n",
    "            extension_df = pd.concat([extension_df, team_frame])\n",
    "    with open(os.path.join(make_dir, extension_name+'.pkl'), 'wb') as f:\n",
    "        pickle.dump(extension_df, f)\n",
    "    extension_df.to_csv(os.path.join(make_dir, extension_name+'.csv'), encoding='utf-8-sig')\n",
    "    counter += 1\n",
    "    print(counter, extension_name)"
   ],
   "metadata": {
    "collapsed": false,
    "pycharm": {
     "name": "#%%\n"
    }
   }
  },
  {
   "cell_type": "code",
   "execution_count": 143,
   "outputs": [
    {
     "data": {
      "text/plain": "                                                     完整路徑 檔案名稱ddf 檔案名稱zdf  \\\n588478  E:\\.ongoing_projects\\case_youtube_downloader\\....     NaN     NaN   \n588479  E:\\.ongoing_projects\\case_youtube_downloader\\....     NaN     NaN   \n588480  E:\\.ongoing_projects\\case_youtube_downloader\\....     NaN     NaN   \n\n                 檔案名稱df       大小                    新增日期  \\\n588478  LICENSE.APACHE2  11358.0  2021/12/24 上午 11:52:16   \n588479  LICENSE.APACHE2  11358.0  2021/12/24 上午 11:52:16   \n588480  LICENSE.APACHE2  11358.0  2021/12/24 上午 11:52:18   \n\n                          修改日期     檔案類型        組別 磁碟機                根目錄  \\\n588478  2021/12/24 上午 11:52:16  APACHE2  154558.0  E:  .ongoing_projects   \n588479  2021/12/24 上午 11:52:16  APACHE2  154558.0  E:  .ongoing_projects   \n588480  2021/12/24 上午 11:52:18  APACHE2  154558.0  E:  .ongoing_projects   \n\n                            資料夾  \n588478  outcome-1.1.0.dist-info  \n588479  sniffio-1.2.0.dist-info  \n588480    trio-0.19.0.dist-info  ",
      "text/html": "<div>\n<style scoped>\n    .dataframe tbody tr th:only-of-type {\n        vertical-align: middle;\n    }\n\n    .dataframe tbody tr th {\n        vertical-align: top;\n    }\n\n    .dataframe thead th {\n        text-align: right;\n    }\n</style>\n<table border=\"1\" class=\"dataframe\">\n  <thead>\n    <tr style=\"text-align: right;\">\n      <th></th>\n      <th>完整路徑</th>\n      <th>檔案名稱ddf</th>\n      <th>檔案名稱zdf</th>\n      <th>檔案名稱df</th>\n      <th>大小</th>\n      <th>新增日期</th>\n      <th>修改日期</th>\n      <th>檔案類型</th>\n      <th>組別</th>\n      <th>磁碟機</th>\n      <th>根目錄</th>\n      <th>資料夾</th>\n    </tr>\n  </thead>\n  <tbody>\n    <tr>\n      <th>588478</th>\n      <td>E:\\.ongoing_projects\\case_youtube_downloader\\....</td>\n      <td>NaN</td>\n      <td>NaN</td>\n      <td>LICENSE.APACHE2</td>\n      <td>11358.0</td>\n      <td>2021/12/24 上午 11:52:16</td>\n      <td>2021/12/24 上午 11:52:16</td>\n      <td>APACHE2</td>\n      <td>154558.0</td>\n      <td>E:</td>\n      <td>.ongoing_projects</td>\n      <td>outcome-1.1.0.dist-info</td>\n    </tr>\n    <tr>\n      <th>588479</th>\n      <td>E:\\.ongoing_projects\\case_youtube_downloader\\....</td>\n      <td>NaN</td>\n      <td>NaN</td>\n      <td>LICENSE.APACHE2</td>\n      <td>11358.0</td>\n      <td>2021/12/24 上午 11:52:16</td>\n      <td>2021/12/24 上午 11:52:16</td>\n      <td>APACHE2</td>\n      <td>154558.0</td>\n      <td>E:</td>\n      <td>.ongoing_projects</td>\n      <td>sniffio-1.2.0.dist-info</td>\n    </tr>\n    <tr>\n      <th>588480</th>\n      <td>E:\\.ongoing_projects\\case_youtube_downloader\\....</td>\n      <td>NaN</td>\n      <td>NaN</td>\n      <td>LICENSE.APACHE2</td>\n      <td>11358.0</td>\n      <td>2021/12/24 上午 11:52:18</td>\n      <td>2021/12/24 上午 11:52:18</td>\n      <td>APACHE2</td>\n      <td>154558.0</td>\n      <td>E:</td>\n      <td>.ongoing_projects</td>\n      <td>trio-0.19.0.dist-info</td>\n    </tr>\n  </tbody>\n</table>\n</div>"
     },
     "execution_count": 143,
     "metadata": {},
     "output_type": "execute_result"
    }
   ],
   "source": [
    "\n",
    "\n",
    "extension_df"
   ],
   "metadata": {
    "collapsed": false,
    "pycharm": {
     "name": "#%%\n"
    }
   }
  },
  {
   "cell_type": "code",
   "execution_count": 111,
   "outputs": [
    {
     "data": {
      "text/plain": "609"
     },
     "execution_count": 111,
     "metadata": {},
     "output_type": "execute_result"
    }
   ],
   "source": [
    "extension.ngroups"
   ],
   "metadata": {
    "collapsed": false,
    "pycharm": {
     "name": "#%%\n"
    }
   }
  },
  {
   "cell_type": "code",
   "execution_count": 35,
   "outputs": [],
   "source": [],
   "metadata": {
    "collapsed": false,
    "pycharm": {
     "name": "#%%\n"
    }
   }
  },
  {
   "cell_type": "code",
   "execution_count": 36,
   "outputs": [
    {
     "name": "stdout",
     "output_type": "stream",
     "text": [
      "92274.0\n"
     ]
    },
    {
     "data": {
      "text/plain": "                                                     完整路徑  檔案名稱ddf  檔案名稱zdf  \\\n213865  D:\\_eBooks 電子書 Java+JS+HTML+CSS+RWD+Node\\HTML ...  .Parent      NaN   \n337671  Z:\\資訊書籍文件\\HTML & CSS 網站設計建置優化之道\\html-and-css-b...      NaN  .Parent   \n\n         檔案名稱df     大小                   新增日期                   修改日期    檔案類型  \\\n213865  .Parent  741.0  2021/8/18 上午 02:16:59  2011/1/25 上午 08:51:06  Parent   \n337671  .Parent  741.0  2019/8/29 下午 04:04:39  2011/1/25 上午 08:51:06  Parent   \n\n             組別 磁碟機                                    根目錄           資料夾  \n213865  92274.0  D:  _eBooks 電子書 Java+JS+HTML+CSS+RWD+Node  .AppleDouble  \n337671  92274.0  Z:                                 資訊書籍文件  .AppleDouble  ",
      "text/html": "<div>\n<style scoped>\n    .dataframe tbody tr th:only-of-type {\n        vertical-align: middle;\n    }\n\n    .dataframe tbody tr th {\n        vertical-align: top;\n    }\n\n    .dataframe thead th {\n        text-align: right;\n    }\n</style>\n<table border=\"1\" class=\"dataframe\">\n  <thead>\n    <tr style=\"text-align: right;\">\n      <th></th>\n      <th>完整路徑</th>\n      <th>檔案名稱ddf</th>\n      <th>檔案名稱zdf</th>\n      <th>檔案名稱df</th>\n      <th>大小</th>\n      <th>新增日期</th>\n      <th>修改日期</th>\n      <th>檔案類型</th>\n      <th>組別</th>\n      <th>磁碟機</th>\n      <th>根目錄</th>\n      <th>資料夾</th>\n    </tr>\n  </thead>\n  <tbody>\n    <tr>\n      <th>213865</th>\n      <td>D:\\_eBooks 電子書 Java+JS+HTML+CSS+RWD+Node\\HTML ...</td>\n      <td>.Parent</td>\n      <td>NaN</td>\n      <td>.Parent</td>\n      <td>741.0</td>\n      <td>2021/8/18 上午 02:16:59</td>\n      <td>2011/1/25 上午 08:51:06</td>\n      <td>Parent</td>\n      <td>92274.0</td>\n      <td>D:</td>\n      <td>_eBooks 電子書 Java+JS+HTML+CSS+RWD+Node</td>\n      <td>.AppleDouble</td>\n    </tr>\n    <tr>\n      <th>337671</th>\n      <td>Z:\\資訊書籍文件\\HTML &amp; CSS 網站設計建置優化之道\\html-and-css-b...</td>\n      <td>NaN</td>\n      <td>.Parent</td>\n      <td>.Parent</td>\n      <td>741.0</td>\n      <td>2019/8/29 下午 04:04:39</td>\n      <td>2011/1/25 上午 08:51:06</td>\n      <td>Parent</td>\n      <td>92274.0</td>\n      <td>Z:</td>\n      <td>資訊書籍文件</td>\n      <td>.AppleDouble</td>\n    </tr>\n  </tbody>\n</table>\n</div>"
     },
     "execution_count": 36,
     "metadata": {},
     "output_type": "execute_result"
    }
   ],
   "source": [
    "\n",
    "extension_frame"
   ],
   "metadata": {
    "collapsed": false,
    "pycharm": {
     "name": "#%%\n"
    }
   }
  },
  {
   "cell_type": "code",
   "execution_count": 37,
   "outputs": [],
   "source": [],
   "metadata": {
    "collapsed": false,
    "pycharm": {
     "name": "#%%\n"
    }
   }
  },
  {
   "cell_type": "code",
   "execution_count": 38,
   "outputs": [
    {
     "name": "stdout",
     "output_type": "stream",
     "text": [
      "92274.0\n"
     ]
    },
    {
     "data": {
      "text/plain": "                                                     完整路徑  檔案名稱ddf  檔案名稱zdf  \\\n213865  D:\\_eBooks 電子書 Java+JS+HTML+CSS+RWD+Node\\HTML ...  .Parent      NaN   \n337671  Z:\\資訊書籍文件\\HTML & CSS 網站設計建置優化之道\\html-and-css-b...      NaN  .Parent   \n\n         檔案名稱df     大小                   新增日期                   修改日期    檔案類型  \\\n213865  .Parent  741.0  2021/8/18 上午 02:16:59  2011/1/25 上午 08:51:06  Parent   \n337671  .Parent  741.0  2019/8/29 下午 04:04:39  2011/1/25 上午 08:51:06  Parent   \n\n             組別 磁碟機                                    根目錄           資料夾  \n213865  92274.0  D:  _eBooks 電子書 Java+JS+HTML+CSS+RWD+Node  .AppleDouble  \n337671  92274.0  Z:                                 資訊書籍文件  .AppleDouble  ",
      "text/html": "<div>\n<style scoped>\n    .dataframe tbody tr th:only-of-type {\n        vertical-align: middle;\n    }\n\n    .dataframe tbody tr th {\n        vertical-align: top;\n    }\n\n    .dataframe thead th {\n        text-align: right;\n    }\n</style>\n<table border=\"1\" class=\"dataframe\">\n  <thead>\n    <tr style=\"text-align: right;\">\n      <th></th>\n      <th>完整路徑</th>\n      <th>檔案名稱ddf</th>\n      <th>檔案名稱zdf</th>\n      <th>檔案名稱df</th>\n      <th>大小</th>\n      <th>新增日期</th>\n      <th>修改日期</th>\n      <th>檔案類型</th>\n      <th>組別</th>\n      <th>磁碟機</th>\n      <th>根目錄</th>\n      <th>資料夾</th>\n    </tr>\n  </thead>\n  <tbody>\n    <tr>\n      <th>213865</th>\n      <td>D:\\_eBooks 電子書 Java+JS+HTML+CSS+RWD+Node\\HTML ...</td>\n      <td>.Parent</td>\n      <td>NaN</td>\n      <td>.Parent</td>\n      <td>741.0</td>\n      <td>2021/8/18 上午 02:16:59</td>\n      <td>2011/1/25 上午 08:51:06</td>\n      <td>Parent</td>\n      <td>92274.0</td>\n      <td>D:</td>\n      <td>_eBooks 電子書 Java+JS+HTML+CSS+RWD+Node</td>\n      <td>.AppleDouble</td>\n    </tr>\n    <tr>\n      <th>337671</th>\n      <td>Z:\\資訊書籍文件\\HTML &amp; CSS 網站設計建置優化之道\\html-and-css-b...</td>\n      <td>NaN</td>\n      <td>.Parent</td>\n      <td>.Parent</td>\n      <td>741.0</td>\n      <td>2019/8/29 下午 04:04:39</td>\n      <td>2011/1/25 上午 08:51:06</td>\n      <td>Parent</td>\n      <td>92274.0</td>\n      <td>Z:</td>\n      <td>資訊書籍文件</td>\n      <td>.AppleDouble</td>\n    </tr>\n  </tbody>\n</table>\n</div>"
     },
     "execution_count": 38,
     "metadata": {},
     "output_type": "execute_result"
    }
   ],
   "source": [
    "\n",
    "    break\n",
    "team_frame"
   ],
   "metadata": {
    "collapsed": false,
    "pycharm": {
     "name": "#%%\n"
    }
   }
  },
  {
   "cell_type": "code",
   "execution_count": 29,
   "outputs": [
    {
     "ename": "TypeError",
     "evalue": "pivot() missing 1 required argument: 'columns'",
     "output_type": "error",
     "traceback": [
      "\u001B[1;31m---------------------------------------------------------------------------\u001B[0m",
      "\u001B[1;31mTypeError\u001B[0m                                 Traceback (most recent call last)",
      "\u001B[1;32m~\\AppData\\Local\\Temp/ipykernel_22584/2805737063.py\u001B[0m in \u001B[0;36m<module>\u001B[1;34m\u001B[0m\n\u001B[1;32m----> 1\u001B[1;33m \u001B[0mteam_frame\u001B[0m\u001B[1;33m.\u001B[0m\u001B[0mpivot\u001B[0m\u001B[1;33m(\u001B[0m\u001B[0mindex\u001B[0m\u001B[1;33m=\u001B[0m\u001B[1;33m[\u001B[0m\u001B[1;34m'檔案名稱df'\u001B[0m\u001B[1;33m,\u001B[0m \u001B[1;34m'檔案名稱ddf'\u001B[0m\u001B[1;33m,\u001B[0m \u001B[1;34m'檔案名稱zdf'\u001B[0m\u001B[1;33m]\u001B[0m\u001B[1;33m)\u001B[0m\u001B[1;33m\u001B[0m\u001B[1;33m\u001B[0m\u001B[0m\n\u001B[0m",
      "\u001B[1;32mc:\\users\\alvinlin\\appdata\\local\\programs\\python\\python37\\lib\\site-packages\\pandas\\core\\frame.py\u001B[0m in \u001B[0;36mpivot\u001B[1;34m(self, index, columns, values)\u001B[0m\n\u001B[0;32m   7786\u001B[0m         \u001B[1;32mfrom\u001B[0m \u001B[0mpandas\u001B[0m\u001B[1;33m.\u001B[0m\u001B[0mcore\u001B[0m\u001B[1;33m.\u001B[0m\u001B[0mreshape\u001B[0m\u001B[1;33m.\u001B[0m\u001B[0mpivot\u001B[0m \u001B[1;32mimport\u001B[0m \u001B[0mpivot\u001B[0m\u001B[1;33m\u001B[0m\u001B[1;33m\u001B[0m\u001B[0m\n\u001B[0;32m   7787\u001B[0m \u001B[1;33m\u001B[0m\u001B[0m\n\u001B[1;32m-> 7788\u001B[1;33m         \u001B[1;32mreturn\u001B[0m \u001B[0mpivot\u001B[0m\u001B[1;33m(\u001B[0m\u001B[0mself\u001B[0m\u001B[1;33m,\u001B[0m \u001B[0mindex\u001B[0m\u001B[1;33m=\u001B[0m\u001B[0mindex\u001B[0m\u001B[1;33m,\u001B[0m \u001B[0mcolumns\u001B[0m\u001B[1;33m=\u001B[0m\u001B[0mcolumns\u001B[0m\u001B[1;33m,\u001B[0m \u001B[0mvalues\u001B[0m\u001B[1;33m=\u001B[0m\u001B[0mvalues\u001B[0m\u001B[1;33m)\u001B[0m\u001B[1;33m\u001B[0m\u001B[1;33m\u001B[0m\u001B[0m\n\u001B[0m\u001B[0;32m   7789\u001B[0m \u001B[1;33m\u001B[0m\u001B[0m\n\u001B[0;32m   7790\u001B[0m     _shared_docs[\n",
      "\u001B[1;32mc:\\users\\alvinlin\\appdata\\local\\programs\\python\\python37\\lib\\site-packages\\pandas\\core\\reshape\\pivot.py\u001B[0m in \u001B[0;36mpivot\u001B[1;34m(data, index, columns, values)\u001B[0m\n\u001B[0;32m    481\u001B[0m ) -> DataFrame:\n\u001B[0;32m    482\u001B[0m     \u001B[1;32mif\u001B[0m \u001B[0mcolumns\u001B[0m \u001B[1;32mis\u001B[0m \u001B[1;32mNone\u001B[0m\u001B[1;33m:\u001B[0m\u001B[1;33m\u001B[0m\u001B[1;33m\u001B[0m\u001B[0m\n\u001B[1;32m--> 483\u001B[1;33m         \u001B[1;32mraise\u001B[0m \u001B[0mTypeError\u001B[0m\u001B[1;33m(\u001B[0m\u001B[1;34m\"pivot() missing 1 required argument: 'columns'\"\u001B[0m\u001B[1;33m)\u001B[0m\u001B[1;33m\u001B[0m\u001B[1;33m\u001B[0m\u001B[0m\n\u001B[0m\u001B[0;32m    484\u001B[0m \u001B[1;33m\u001B[0m\u001B[0m\n\u001B[0;32m    485\u001B[0m     \u001B[0mcolumns_listlike\u001B[0m \u001B[1;33m=\u001B[0m \u001B[0mcom\u001B[0m\u001B[1;33m.\u001B[0m\u001B[0mconvert_to_list_like\u001B[0m\u001B[1;33m(\u001B[0m\u001B[0mcolumns\u001B[0m\u001B[1;33m)\u001B[0m\u001B[1;33m\u001B[0m\u001B[1;33m\u001B[0m\u001B[0m\n",
      "\u001B[1;31mTypeError\u001B[0m: pivot() missing 1 required argument: 'columns'"
     ]
    }
   ],
   "source": [],
   "metadata": {
    "collapsed": false,
    "pycharm": {
     "name": "#%%\n"
    }
   }
  },
  {
   "cell_type": "code",
   "execution_count": 14,
   "outputs": [],
   "source": [
    "df.set_index(['檔案類型', '資料夾', '磁碟機', '根目錄', '完整路徑', '大小', '新增日期', '修改日期'], inplace=True)"
   ],
   "metadata": {
    "collapsed": false,
    "pycharm": {
     "name": "#%%\n"
    }
   }
  },
  {
   "cell_type": "code",
   "execution_count": 21,
   "outputs": [
    {
     "ename": "ValueError",
     "evalue": "Unstacked DataFrame is too big, causing int32 overflow",
     "output_type": "error",
     "traceback": [
      "\u001B[1;31m---------------------------------------------------------------------------\u001B[0m",
      "\u001B[1;31mValueError\u001B[0m                                Traceback (most recent call last)",
      "\u001B[1;32m~\\AppData\\Local\\Temp/ipykernel_14036/1949972182.py\u001B[0m in \u001B[0;36m<module>\u001B[1;34m\u001B[0m\n\u001B[1;32m----> 1\u001B[1;33m \u001B[0mdf\u001B[0m\u001B[1;33m.\u001B[0m\u001B[0mpivot\u001B[0m\u001B[1;33m(\u001B[0m\u001B[0mindex\u001B[0m\u001B[1;33m=\u001B[0m\u001B[1;33m[\u001B[0m\u001B[1;34m'檔案類型'\u001B[0m\u001B[1;33m,\u001B[0m \u001B[1;34m'檔案名稱df'\u001B[0m\u001B[1;33m,\u001B[0m\u001B[1;34m'檔案名稱ddf'\u001B[0m\u001B[1;33m,\u001B[0m \u001B[1;34m'檔案名稱zdf'\u001B[0m\u001B[1;33m]\u001B[0m\u001B[1;33m,\u001B[0m \u001B[0mcolumns\u001B[0m\u001B[1;33m=\u001B[0m\u001B[1;33m[\u001B[0m\u001B[1;34m'磁碟機'\u001B[0m\u001B[1;33m,\u001B[0m \u001B[1;34m'根目錄'\u001B[0m\u001B[1;33m,\u001B[0m \u001B[1;34m'資料夾'\u001B[0m\u001B[1;33m]\u001B[0m\u001B[1;33m,\u001B[0m \u001B[0mvalues\u001B[0m\u001B[1;33m=\u001B[0m\u001B[1;34m'完整路徑'\u001B[0m\u001B[1;33m)\u001B[0m\u001B[1;33m\u001B[0m\u001B[1;33m\u001B[0m\u001B[0m\n\u001B[0m",
      "\u001B[1;32mc:\\users\\alvinlin\\appdata\\local\\programs\\python\\python37\\lib\\site-packages\\pandas\\core\\frame.py\u001B[0m in \u001B[0;36mpivot\u001B[1;34m(self, index, columns, values)\u001B[0m\n\u001B[0;32m   7786\u001B[0m         \u001B[1;32mfrom\u001B[0m \u001B[0mpandas\u001B[0m\u001B[1;33m.\u001B[0m\u001B[0mcore\u001B[0m\u001B[1;33m.\u001B[0m\u001B[0mreshape\u001B[0m\u001B[1;33m.\u001B[0m\u001B[0mpivot\u001B[0m \u001B[1;32mimport\u001B[0m \u001B[0mpivot\u001B[0m\u001B[1;33m\u001B[0m\u001B[1;33m\u001B[0m\u001B[0m\n\u001B[0;32m   7787\u001B[0m \u001B[1;33m\u001B[0m\u001B[0m\n\u001B[1;32m-> 7788\u001B[1;33m         \u001B[1;32mreturn\u001B[0m \u001B[0mpivot\u001B[0m\u001B[1;33m(\u001B[0m\u001B[0mself\u001B[0m\u001B[1;33m,\u001B[0m \u001B[0mindex\u001B[0m\u001B[1;33m=\u001B[0m\u001B[0mindex\u001B[0m\u001B[1;33m,\u001B[0m \u001B[0mcolumns\u001B[0m\u001B[1;33m=\u001B[0m\u001B[0mcolumns\u001B[0m\u001B[1;33m,\u001B[0m \u001B[0mvalues\u001B[0m\u001B[1;33m=\u001B[0m\u001B[0mvalues\u001B[0m\u001B[1;33m)\u001B[0m\u001B[1;33m\u001B[0m\u001B[1;33m\u001B[0m\u001B[0m\n\u001B[0m\u001B[0;32m   7789\u001B[0m \u001B[1;33m\u001B[0m\u001B[0m\n\u001B[0;32m   7790\u001B[0m     _shared_docs[\n",
      "\u001B[1;32mc:\\users\\alvinlin\\appdata\\local\\programs\\python\\python37\\lib\\site-packages\\pandas\\core\\reshape\\pivot.py\u001B[0m in \u001B[0;36mpivot\u001B[1;34m(data, index, columns, values)\u001B[0m\n\u001B[0;32m    515\u001B[0m         \u001B[1;32melse\u001B[0m\u001B[1;33m:\u001B[0m\u001B[1;33m\u001B[0m\u001B[1;33m\u001B[0m\u001B[0m\n\u001B[0;32m    516\u001B[0m             \u001B[0mindexed\u001B[0m \u001B[1;33m=\u001B[0m \u001B[0mdata\u001B[0m\u001B[1;33m.\u001B[0m\u001B[0m_constructor_sliced\u001B[0m\u001B[1;33m(\u001B[0m\u001B[0mdata\u001B[0m\u001B[1;33m[\u001B[0m\u001B[0mvalues\u001B[0m\u001B[1;33m]\u001B[0m\u001B[1;33m.\u001B[0m\u001B[0m_values\u001B[0m\u001B[1;33m,\u001B[0m \u001B[0mindex\u001B[0m\u001B[1;33m=\u001B[0m\u001B[0mmultiindex\u001B[0m\u001B[1;33m)\u001B[0m\u001B[1;33m\u001B[0m\u001B[1;33m\u001B[0m\u001B[0m\n\u001B[1;32m--> 517\u001B[1;33m     \u001B[1;32mreturn\u001B[0m \u001B[0mindexed\u001B[0m\u001B[1;33m.\u001B[0m\u001B[0munstack\u001B[0m\u001B[1;33m(\u001B[0m\u001B[0mcolumns_listlike\u001B[0m\u001B[1;33m)\u001B[0m\u001B[1;33m\u001B[0m\u001B[1;33m\u001B[0m\u001B[0m\n\u001B[0m\u001B[0;32m    518\u001B[0m \u001B[1;33m\u001B[0m\u001B[0m\n\u001B[0;32m    519\u001B[0m \u001B[1;33m\u001B[0m\u001B[0m\n",
      "\u001B[1;32mc:\\users\\alvinlin\\appdata\\local\\programs\\python\\python37\\lib\\site-packages\\pandas\\core\\series.py\u001B[0m in \u001B[0;36munstack\u001B[1;34m(self, level, fill_value)\u001B[0m\n\u001B[0;32m   4079\u001B[0m         \u001B[1;32mfrom\u001B[0m \u001B[0mpandas\u001B[0m\u001B[1;33m.\u001B[0m\u001B[0mcore\u001B[0m\u001B[1;33m.\u001B[0m\u001B[0mreshape\u001B[0m\u001B[1;33m.\u001B[0m\u001B[0mreshape\u001B[0m \u001B[1;32mimport\u001B[0m \u001B[0munstack\u001B[0m\u001B[1;33m\u001B[0m\u001B[1;33m\u001B[0m\u001B[0m\n\u001B[0;32m   4080\u001B[0m \u001B[1;33m\u001B[0m\u001B[0m\n\u001B[1;32m-> 4081\u001B[1;33m         \u001B[1;32mreturn\u001B[0m \u001B[0munstack\u001B[0m\u001B[1;33m(\u001B[0m\u001B[0mself\u001B[0m\u001B[1;33m,\u001B[0m \u001B[0mlevel\u001B[0m\u001B[1;33m,\u001B[0m \u001B[0mfill_value\u001B[0m\u001B[1;33m)\u001B[0m\u001B[1;33m\u001B[0m\u001B[1;33m\u001B[0m\u001B[0m\n\u001B[0m\u001B[0;32m   4082\u001B[0m \u001B[1;33m\u001B[0m\u001B[0m\n\u001B[0;32m   4083\u001B[0m     \u001B[1;31m# ----------------------------------------------------------------------\u001B[0m\u001B[1;33m\u001B[0m\u001B[1;33m\u001B[0m\u001B[1;33m\u001B[0m\u001B[0m\n",
      "\u001B[1;32mc:\\users\\alvinlin\\appdata\\local\\programs\\python\\python37\\lib\\site-packages\\pandas\\core\\reshape\\reshape.py\u001B[0m in \u001B[0;36munstack\u001B[1;34m(obj, level, fill_value)\u001B[0m\n\u001B[0;32m    435\u001B[0m             \u001B[1;31m# _unstack_multiple only handles MultiIndexes,\u001B[0m\u001B[1;33m\u001B[0m\u001B[1;33m\u001B[0m\u001B[1;33m\u001B[0m\u001B[0m\n\u001B[0;32m    436\u001B[0m             \u001B[1;31m# and isn't needed for a single level\u001B[0m\u001B[1;33m\u001B[0m\u001B[1;33m\u001B[0m\u001B[1;33m\u001B[0m\u001B[0m\n\u001B[1;32m--> 437\u001B[1;33m             \u001B[1;32mreturn\u001B[0m \u001B[0m_unstack_multiple\u001B[0m\u001B[1;33m(\u001B[0m\u001B[0mobj\u001B[0m\u001B[1;33m,\u001B[0m \u001B[0mlevel\u001B[0m\u001B[1;33m,\u001B[0m \u001B[0mfill_value\u001B[0m\u001B[1;33m=\u001B[0m\u001B[0mfill_value\u001B[0m\u001B[1;33m)\u001B[0m\u001B[1;33m\u001B[0m\u001B[1;33m\u001B[0m\u001B[0m\n\u001B[0m\u001B[0;32m    438\u001B[0m         \u001B[1;32melse\u001B[0m\u001B[1;33m:\u001B[0m\u001B[1;33m\u001B[0m\u001B[1;33m\u001B[0m\u001B[0m\n\u001B[0;32m    439\u001B[0m             \u001B[0mlevel\u001B[0m \u001B[1;33m=\u001B[0m \u001B[0mlevel\u001B[0m\u001B[1;33m[\u001B[0m\u001B[1;36m0\u001B[0m\u001B[1;33m]\u001B[0m\u001B[1;33m\u001B[0m\u001B[1;33m\u001B[0m\u001B[0m\n",
      "\u001B[1;32mc:\\users\\alvinlin\\appdata\\local\\programs\\python\\python37\\lib\\site-packages\\pandas\\core\\reshape\\reshape.py\u001B[0m in \u001B[0;36m_unstack_multiple\u001B[1;34m(data, clocs, fill_value)\u001B[0m\n\u001B[0;32m    386\u001B[0m         \u001B[0mdummy\u001B[0m\u001B[1;33m.\u001B[0m\u001B[0mindex\u001B[0m \u001B[1;33m=\u001B[0m \u001B[0mdummy_index\u001B[0m\u001B[1;33m\u001B[0m\u001B[1;33m\u001B[0m\u001B[0m\n\u001B[0;32m    387\u001B[0m \u001B[1;33m\u001B[0m\u001B[0m\n\u001B[1;32m--> 388\u001B[1;33m         \u001B[0munstacked\u001B[0m \u001B[1;33m=\u001B[0m \u001B[0mdummy\u001B[0m\u001B[1;33m.\u001B[0m\u001B[0munstack\u001B[0m\u001B[1;33m(\u001B[0m\u001B[1;34m\"__placeholder__\"\u001B[0m\u001B[1;33m,\u001B[0m \u001B[0mfill_value\u001B[0m\u001B[1;33m=\u001B[0m\u001B[0mfill_value\u001B[0m\u001B[1;33m)\u001B[0m\u001B[1;33m\u001B[0m\u001B[1;33m\u001B[0m\u001B[0m\n\u001B[0m\u001B[0;32m    389\u001B[0m         \u001B[0mnew_levels\u001B[0m \u001B[1;33m=\u001B[0m \u001B[0mclevels\u001B[0m\u001B[1;33m\u001B[0m\u001B[1;33m\u001B[0m\u001B[0m\n\u001B[0;32m    390\u001B[0m         \u001B[0mnew_names\u001B[0m \u001B[1;33m=\u001B[0m \u001B[0mcnames\u001B[0m\u001B[1;33m\u001B[0m\u001B[1;33m\u001B[0m\u001B[0m\n",
      "\u001B[1;32mc:\\users\\alvinlin\\appdata\\local\\programs\\python\\python37\\lib\\site-packages\\pandas\\core\\series.py\u001B[0m in \u001B[0;36munstack\u001B[1;34m(self, level, fill_value)\u001B[0m\n\u001B[0;32m   4079\u001B[0m         \u001B[1;32mfrom\u001B[0m \u001B[0mpandas\u001B[0m\u001B[1;33m.\u001B[0m\u001B[0mcore\u001B[0m\u001B[1;33m.\u001B[0m\u001B[0mreshape\u001B[0m\u001B[1;33m.\u001B[0m\u001B[0mreshape\u001B[0m \u001B[1;32mimport\u001B[0m \u001B[0munstack\u001B[0m\u001B[1;33m\u001B[0m\u001B[1;33m\u001B[0m\u001B[0m\n\u001B[0;32m   4080\u001B[0m \u001B[1;33m\u001B[0m\u001B[0m\n\u001B[1;32m-> 4081\u001B[1;33m         \u001B[1;32mreturn\u001B[0m \u001B[0munstack\u001B[0m\u001B[1;33m(\u001B[0m\u001B[0mself\u001B[0m\u001B[1;33m,\u001B[0m \u001B[0mlevel\u001B[0m\u001B[1;33m,\u001B[0m \u001B[0mfill_value\u001B[0m\u001B[1;33m)\u001B[0m\u001B[1;33m\u001B[0m\u001B[1;33m\u001B[0m\u001B[0m\n\u001B[0m\u001B[0;32m   4082\u001B[0m \u001B[1;33m\u001B[0m\u001B[0m\n\u001B[0;32m   4083\u001B[0m     \u001B[1;31m# ----------------------------------------------------------------------\u001B[0m\u001B[1;33m\u001B[0m\u001B[1;33m\u001B[0m\u001B[1;33m\u001B[0m\u001B[0m\n",
      "\u001B[1;32mc:\\users\\alvinlin\\appdata\\local\\programs\\python\\python37\\lib\\site-packages\\pandas\\core\\reshape\\reshape.py\u001B[0m in \u001B[0;36munstack\u001B[1;34m(obj, level, fill_value)\u001B[0m\n\u001B[0;32m    459\u001B[0m             \u001B[1;32mreturn\u001B[0m \u001B[0m_unstack_extension_series\u001B[0m\u001B[1;33m(\u001B[0m\u001B[0mobj\u001B[0m\u001B[1;33m,\u001B[0m \u001B[0mlevel\u001B[0m\u001B[1;33m,\u001B[0m \u001B[0mfill_value\u001B[0m\u001B[1;33m)\u001B[0m\u001B[1;33m\u001B[0m\u001B[1;33m\u001B[0m\u001B[0m\n\u001B[0;32m    460\u001B[0m         unstacker = _Unstacker(\n\u001B[1;32m--> 461\u001B[1;33m             \u001B[0mobj\u001B[0m\u001B[1;33m.\u001B[0m\u001B[0mindex\u001B[0m\u001B[1;33m,\u001B[0m \u001B[0mlevel\u001B[0m\u001B[1;33m=\u001B[0m\u001B[0mlevel\u001B[0m\u001B[1;33m,\u001B[0m \u001B[0mconstructor\u001B[0m\u001B[1;33m=\u001B[0m\u001B[0mobj\u001B[0m\u001B[1;33m.\u001B[0m\u001B[0m_constructor_expanddim\u001B[0m\u001B[1;33m\u001B[0m\u001B[1;33m\u001B[0m\u001B[0m\n\u001B[0m\u001B[0;32m    462\u001B[0m         )\n\u001B[0;32m    463\u001B[0m         return unstacker.get_result(\n",
      "\u001B[1;32mc:\\users\\alvinlin\\appdata\\local\\programs\\python\\python37\\lib\\site-packages\\pandas\\core\\reshape\\reshape.py\u001B[0m in \u001B[0;36m__init__\u001B[1;34m(self, index, level, constructor)\u001B[0m\n\u001B[0;32m    129\u001B[0m \u001B[1;33m\u001B[0m\u001B[0m\n\u001B[0;32m    130\u001B[0m         \u001B[1;32mif\u001B[0m \u001B[0mnum_rows\u001B[0m \u001B[1;33m>\u001B[0m \u001B[1;36m0\u001B[0m \u001B[1;32mand\u001B[0m \u001B[0mnum_columns\u001B[0m \u001B[1;33m>\u001B[0m \u001B[1;36m0\u001B[0m \u001B[1;32mand\u001B[0m \u001B[0mnum_cells\u001B[0m \u001B[1;33m<=\u001B[0m \u001B[1;36m0\u001B[0m\u001B[1;33m:\u001B[0m\u001B[1;33m\u001B[0m\u001B[1;33m\u001B[0m\u001B[0m\n\u001B[1;32m--> 131\u001B[1;33m             \u001B[1;32mraise\u001B[0m \u001B[0mValueError\u001B[0m\u001B[1;33m(\u001B[0m\u001B[1;34m\"Unstacked DataFrame is too big, causing int32 overflow\"\u001B[0m\u001B[1;33m)\u001B[0m\u001B[1;33m\u001B[0m\u001B[1;33m\u001B[0m\u001B[0m\n\u001B[0m\u001B[0;32m    132\u001B[0m \u001B[1;33m\u001B[0m\u001B[0m\n\u001B[0;32m    133\u001B[0m         \u001B[0mself\u001B[0m\u001B[1;33m.\u001B[0m\u001B[0m_make_selectors\u001B[0m\u001B[1;33m(\u001B[0m\u001B[1;33m)\u001B[0m\u001B[1;33m\u001B[0m\u001B[1;33m\u001B[0m\u001B[0m\n",
      "\u001B[1;31mValueError\u001B[0m: Unstacked DataFrame is too big, causing int32 overflow"
     ]
    }
   ],
   "source": [
    "df.pivot(index=['檔案類型', '檔案名稱df','檔案名稱ddf', '檔案名稱zdf'], columns=['磁碟機', '根目錄', '資料夾'], values='完整路徑')"
   ],
   "metadata": {
    "collapsed": false,
    "pycharm": {
     "name": "#%%\n"
    }
   }
  },
  {
   "cell_type": "code",
   "execution_count": 22,
   "outputs": [],
   "source": [
    "index = pd.MultiIndex.from_tuples([('檔案類型', '檔案名稱df'),\n",
    "                       ('檔案類型', '檔案名稱ddf'),\n",
    "                       ('檔案類型', '檔案名稱zdf')])"
   ],
   "metadata": {
    "collapsed": false,
    "pycharm": {
     "name": "#%%\n"
    }
   }
  },
  {
   "cell_type": "code",
   "execution_count": 23,
   "outputs": [
    {
     "ename": "ValueError",
     "evalue": "Length mismatch: Expected 613964 rows, received array of length 3",
     "output_type": "error",
     "traceback": [
      "\u001B[1;31m---------------------------------------------------------------------------\u001B[0m",
      "\u001B[1;31mValueError\u001B[0m                                Traceback (most recent call last)",
      "\u001B[1;32m~\\AppData\\Local\\Temp/ipykernel_14036/3262250324.py\u001B[0m in \u001B[0;36m<module>\u001B[1;34m\u001B[0m\n\u001B[1;32m----> 1\u001B[1;33m \u001B[0mdf\u001B[0m\u001B[1;33m.\u001B[0m\u001B[0mset_index\u001B[0m\u001B[1;33m(\u001B[0m\u001B[0mindex\u001B[0m\u001B[1;33m)\u001B[0m\u001B[1;33m\u001B[0m\u001B[1;33m\u001B[0m\u001B[0m\n\u001B[0m",
      "\u001B[1;32mc:\\users\\alvinlin\\appdata\\local\\programs\\python\\python37\\lib\\site-packages\\pandas\\util\\_decorators.py\u001B[0m in \u001B[0;36mwrapper\u001B[1;34m(*args, **kwargs)\u001B[0m\n\u001B[0;32m    309\u001B[0m                     \u001B[0mstacklevel\u001B[0m\u001B[1;33m=\u001B[0m\u001B[0mstacklevel\u001B[0m\u001B[1;33m,\u001B[0m\u001B[1;33m\u001B[0m\u001B[1;33m\u001B[0m\u001B[0m\n\u001B[0;32m    310\u001B[0m                 )\n\u001B[1;32m--> 311\u001B[1;33m             \u001B[1;32mreturn\u001B[0m \u001B[0mfunc\u001B[0m\u001B[1;33m(\u001B[0m\u001B[1;33m*\u001B[0m\u001B[0margs\u001B[0m\u001B[1;33m,\u001B[0m \u001B[1;33m**\u001B[0m\u001B[0mkwargs\u001B[0m\u001B[1;33m)\u001B[0m\u001B[1;33m\u001B[0m\u001B[1;33m\u001B[0m\u001B[0m\n\u001B[0m\u001B[0;32m    312\u001B[0m \u001B[1;33m\u001B[0m\u001B[0m\n\u001B[0;32m    313\u001B[0m         \u001B[1;32mreturn\u001B[0m \u001B[0mwrapper\u001B[0m\u001B[1;33m\u001B[0m\u001B[1;33m\u001B[0m\u001B[0m\n",
      "\u001B[1;32mc:\\users\\alvinlin\\appdata\\local\\programs\\python\\python37\\lib\\site-packages\\pandas\\core\\frame.py\u001B[0m in \u001B[0;36mset_index\u001B[1;34m(self, keys, drop, append, inplace, verify_integrity)\u001B[0m\n\u001B[0;32m   5495\u001B[0m                 \u001B[1;31m# ensure_index_from_sequences would not raise for append=False.\u001B[0m\u001B[1;33m\u001B[0m\u001B[1;33m\u001B[0m\u001B[1;33m\u001B[0m\u001B[0m\n\u001B[0;32m   5496\u001B[0m                 raise ValueError(\n\u001B[1;32m-> 5497\u001B[1;33m                     \u001B[1;34mf\"Length mismatch: Expected {len(self)} rows, \"\u001B[0m\u001B[1;33m\u001B[0m\u001B[1;33m\u001B[0m\u001B[0m\n\u001B[0m\u001B[0;32m   5498\u001B[0m                     \u001B[1;34mf\"received array of length {len(arrays[-1])}\"\u001B[0m\u001B[1;33m\u001B[0m\u001B[1;33m\u001B[0m\u001B[0m\n\u001B[0;32m   5499\u001B[0m                 )\n",
      "\u001B[1;31mValueError\u001B[0m: Length mismatch: Expected 613964 rows, received array of length 3"
     ]
    }
   ],
   "source": [
    "df.set_index(index)"
   ],
   "metadata": {
    "collapsed": false,
    "pycharm": {
     "name": "#%%\n"
    }
   }
  },
  {
   "cell_type": "code",
   "execution_count": null,
   "outputs": [],
   "source": [],
   "metadata": {
    "collapsed": false,
    "pycharm": {
     "name": "#%%\n"
    }
   }
  }
 ],
 "metadata": {
  "kernelspec": {
   "display_name": "Python 3",
   "language": "python",
   "name": "python3"
  },
  "language_info": {
   "codemirror_mode": {
    "name": "ipython",
    "version": 3
   },
   "file_extension": ".py",
   "mimetype": "text/x-python",
   "name": "python",
   "nbconvert_exporter": "python",
   "pygments_lexer": "ipython3",
   "version": "3.7.9"
  }
 },
 "nbformat": 4,
 "nbformat_minor": 0
}