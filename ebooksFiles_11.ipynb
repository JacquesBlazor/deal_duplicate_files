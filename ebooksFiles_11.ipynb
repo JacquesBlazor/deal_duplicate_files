{
 "cells": [
  {
   "cell_type": "code",
   "execution_count": 1,
   "outputs": [],
   "source": [
    "import os\n",
    "import json\n",
    "import pickle\n",
    "import pandas as pd"
   ],
   "metadata": {
    "collapsed": false,
    "pycharm": {
     "name": "#%%\n"
    }
   }
  },
  {
   "cell_type": "code",
   "execution_count": 2,
   "outputs": [],
   "source": [
    "with open('flat_dfs.pkl', 'rb') as f:\n",
    "    df = pickle.load(f)"
   ],
   "metadata": {
    "collapsed": false,
    "pycharm": {
     "name": "#%%\n"
    }
   }
  },
  {
   "cell_type": "code",
   "execution_count": 6,
   "outputs": [],
   "source": [
    "class dataframes:\n",
    "    def __init__(self):\n",
    "        extensions = df.groupby('檔案類型')\n",
    "        self.ext_frame = {}\n",
    "        self.ext_drive = {}\n",
    "        self.count = 0\n",
    "        for extensions_name, extension_frame in extensions:\n",
    "            self.count += 1\n",
    "            print(self.count, extensions_name)\n",
    "            if extensions_name in self.ext_frame:\n",
    "                print('error!', extensions_name)\n",
    "            self.ext_frame[extensions_name] = pd.DataFrame()\n",
    "            folder = extension_frame.groupby('資料夾')\n",
    "            for folder_name, folder_frame in folder:\n",
    "                team = folder_frame.groupby('組別')\n",
    "                for team_name, team_frame in team:\n",
    "                    self.ext_frame[extensions_name] = pd.concat([self.ext_frame[extensions_name], team_frame])\n",
    "                    self.ext_drive[extensions_name] = {}\n",
    "                    by_root_drive = self.ext_frame[extensions_name].groupby(['磁碟機', '根目錄'])\n",
    "                    for drive_root_name, drive_root_frame in by_root_drive:\n",
    "                        drive, root = drive_root_name\n",
    "                        if f'{drive}{root}' not in self.ext_drive[extensions_name]:\n",
    "                            self.ext_drive[extensions_name][f'{drive}{root}'] = {}\n",
    "                        divide_by_folder = drive_root_frame.groupby('資料夾')\n",
    "                        self.ext_drive[drive_root_name]['__count__'] = divide_by_folder.count()\n",
    "                        for folder_name, folder_frame in divide_by_folder:\n",
    "                            if folder_name in self.ext_drive[drive_root_name]:\n",
    "                                print('error!', drive_root_name, folder_name)\n",
    "                            self.ext_drive[drive_root_name][folder_name] = folder_frame"
   ],
   "metadata": {
    "collapsed": false,
    "pycharm": {
     "name": "#%%\n"
    }
   }
  },
  {
   "cell_type": "code",
   "execution_count": 8,
   "outputs": [],
   "source": [
    "extensions = df.groupby('檔案類型')"
   ],
   "metadata": {
    "collapsed": false,
    "pycharm": {
     "name": "#%%\n"
    }
   }
  },
  {
   "cell_type": "code",
   "execution_count": 9,
   "outputs": [],
   "source": [
    "iter_ext = iter(extensions)"
   ],
   "metadata": {
    "collapsed": false,
    "pycharm": {
     "name": "#%%\n"
    }
   }
  },
  {
   "cell_type": "code",
   "execution_count": 10,
   "outputs": [],
   "source": [
    "extensions_name, extension_frame = next(iter_ext)"
   ],
   "metadata": {
    "collapsed": false,
    "pycharm": {
     "name": "#%%\n"
    }
   }
  },
  {
   "cell_type": "code",
   "execution_count": 11,
   "outputs": [
    {
     "data": {
      "text/plain": "                                                     完整路徑     檔案名稱ddf 檔案名稱zdf  \\\n230382                   D:\\MAME Games\\docs\\legal\\BSL-1.0     BSL-1.0     NaN   \n230383                   D:\\MAME Games\\docs\\legal\\GPL-2.0     GPL-2.0     NaN   \n230384   D:\\MAME Games\\mame0238b_64bit\\docs\\legal\\BSL-1.0     BSL-1.0     NaN   \n230385   D:\\MAME Games\\mame0238b_64bit\\docs\\legal\\GPL-2.0     GPL-2.0     NaN   \n230386  D:\\_eBooks 電子書 AI & BigData\\AI + 大數據 用 Python ...  08bd99c7.0     NaN   \n230387  D:\\_eBooks 電子書 AI & BigData\\AI + 大數據 用 Python ...  ade0138a.0     NaN   \n608446  E:\\.ongoing_projects\\typl_aws_ubuntu_Backup\\do...         NaN     NaN   \n608447  E:\\.ongoing_projects\\typl_aws_ubuntu_Backup\\do...         NaN     NaN   \n611605  E:\\bokeh\\bokehjs\\test\\baselines\\Plot__should_a...         NaN     NaN   \n611606  E:\\bokeh\\bokehjs\\test\\baselines\\Plot__should_a...         NaN     NaN   \n613619  E:\\下載\\bokeh-2.2.3\\bokeh-2.2.3\\bokehjs\\test\\bas...         NaN     NaN   \n613620  E:\\下載\\bokeh-2.2.3\\bokeh-2.2.3\\bokehjs\\test\\bas...         NaN     NaN   \n\n                                                 檔案名稱df         大小  \\\n230382                                          BSL-1.0     1304.0   \n230383                                          GPL-2.0    18299.0   \n230384                                          BSL-1.0     1304.0   \n230385                                          GPL-2.0    18299.0   \n230386                                       08bd99c7.0     1164.0   \n230387                                       ade0138a.0     1164.0   \n608446                                   libta_lib.so.0  3090808.0   \n608447                               libta_lib.so.0.0.0  3090808.0   \n611605  Plot__should_allow_fixed_x_max_plot,_aspect_1.0      170.0   \n611606  Plot__should_allow_max_x_fixed_plot,_aspect_1.0      170.0   \n613619  Plot__should_allow_fixed_x_max_plot,_aspect_1.0      165.0   \n613620  Plot__should_allow_max_x_fixed_plot,_aspect_1.0      165.0   \n\n                          新增日期                    修改日期 檔案類型        組別 磁碟機  \\\n230382  2021/12/18 下午 05:24:00   2020/5/19 上午 11:10:36    0    2985.0  D:   \n230383  2021/12/18 下午 05:24:00   2020/5/19 上午 11:10:36    0    2986.0  D:   \n230384  2021/12/18 下午 05:46:34  2021/11/24 上午 03:39:41    0    2985.0  D:   \n230385  2021/12/18 下午 05:46:34  2021/11/24 上午 03:39:41    0    2986.0  D:   \n230386   2021/8/18 上午 01:09:55    2016/9/6 上午 09:05:42    0    6123.0  D:   \n230387   2021/8/18 上午 01:09:56    2016/9/6 上午 09:05:42    0    6123.0  D:   \n608446   2021/8/18 上午 12:58:39  2020/11/28 上午 12:28:29    0  162458.0  E:   \n608447   2021/8/18 上午 12:58:39  2020/11/28 上午 12:28:29    0  162458.0  E:   \n611605   2021/8/18 上午 01:07:00   2021/1/11 下午 10:18:40    0  163828.0  E:   \n611606   2021/8/18 上午 01:07:00   2021/1/11 下午 10:18:40    0  163828.0  E:   \n613619   2021/8/18 上午 12:56:37  2020/10/20 上午 03:17:16    0  164731.0  E:   \n613620   2021/8/18 上午 12:56:37  2020/10/20 上午 03:17:16    0  164731.0  E:   \n\n                             根目錄        資料夾  \n230382                MAME Games      legal  \n230383                MAME Games      legal  \n230384                MAME Games      legal  \n230385                MAME Games      legal  \n230386  _eBooks 電子書 AI & BigData         ca  \n230387  _eBooks 電子書 AI & BigData         ca  \n608446         .ongoing_projects      .libs  \n608447         .ongoing_projects      .libs  \n611605                     bokeh  baselines  \n611606                     bokeh  baselines  \n613619                        下載  baselines  \n613620                        下載  baselines  ",
      "text/html": "<div>\n<style scoped>\n    .dataframe tbody tr th:only-of-type {\n        vertical-align: middle;\n    }\n\n    .dataframe tbody tr th {\n        vertical-align: top;\n    }\n\n    .dataframe thead th {\n        text-align: right;\n    }\n</style>\n<table border=\"1\" class=\"dataframe\">\n  <thead>\n    <tr style=\"text-align: right;\">\n      <th></th>\n      <th>完整路徑</th>\n      <th>檔案名稱ddf</th>\n      <th>檔案名稱zdf</th>\n      <th>檔案名稱df</th>\n      <th>大小</th>\n      <th>新增日期</th>\n      <th>修改日期</th>\n      <th>檔案類型</th>\n      <th>組別</th>\n      <th>磁碟機</th>\n      <th>根目錄</th>\n      <th>資料夾</th>\n    </tr>\n  </thead>\n  <tbody>\n    <tr>\n      <th>230382</th>\n      <td>D:\\MAME Games\\docs\\legal\\BSL-1.0</td>\n      <td>BSL-1.0</td>\n      <td>NaN</td>\n      <td>BSL-1.0</td>\n      <td>1304.0</td>\n      <td>2021/12/18 下午 05:24:00</td>\n      <td>2020/5/19 上午 11:10:36</td>\n      <td>0</td>\n      <td>2985.0</td>\n      <td>D:</td>\n      <td>MAME Games</td>\n      <td>legal</td>\n    </tr>\n    <tr>\n      <th>230383</th>\n      <td>D:\\MAME Games\\docs\\legal\\GPL-2.0</td>\n      <td>GPL-2.0</td>\n      <td>NaN</td>\n      <td>GPL-2.0</td>\n      <td>18299.0</td>\n      <td>2021/12/18 下午 05:24:00</td>\n      <td>2020/5/19 上午 11:10:36</td>\n      <td>0</td>\n      <td>2986.0</td>\n      <td>D:</td>\n      <td>MAME Games</td>\n      <td>legal</td>\n    </tr>\n    <tr>\n      <th>230384</th>\n      <td>D:\\MAME Games\\mame0238b_64bit\\docs\\legal\\BSL-1.0</td>\n      <td>BSL-1.0</td>\n      <td>NaN</td>\n      <td>BSL-1.0</td>\n      <td>1304.0</td>\n      <td>2021/12/18 下午 05:46:34</td>\n      <td>2021/11/24 上午 03:39:41</td>\n      <td>0</td>\n      <td>2985.0</td>\n      <td>D:</td>\n      <td>MAME Games</td>\n      <td>legal</td>\n    </tr>\n    <tr>\n      <th>230385</th>\n      <td>D:\\MAME Games\\mame0238b_64bit\\docs\\legal\\GPL-2.0</td>\n      <td>GPL-2.0</td>\n      <td>NaN</td>\n      <td>GPL-2.0</td>\n      <td>18299.0</td>\n      <td>2021/12/18 下午 05:46:34</td>\n      <td>2021/11/24 上午 03:39:41</td>\n      <td>0</td>\n      <td>2986.0</td>\n      <td>D:</td>\n      <td>MAME Games</td>\n      <td>legal</td>\n    </tr>\n    <tr>\n      <th>230386</th>\n      <td>D:\\_eBooks 電子書 AI &amp; BigData\\AI + 大數據 用 Python ...</td>\n      <td>08bd99c7.0</td>\n      <td>NaN</td>\n      <td>08bd99c7.0</td>\n      <td>1164.0</td>\n      <td>2021/8/18 上午 01:09:55</td>\n      <td>2016/9/6 上午 09:05:42</td>\n      <td>0</td>\n      <td>6123.0</td>\n      <td>D:</td>\n      <td>_eBooks 電子書 AI &amp; BigData</td>\n      <td>ca</td>\n    </tr>\n    <tr>\n      <th>230387</th>\n      <td>D:\\_eBooks 電子書 AI &amp; BigData\\AI + 大數據 用 Python ...</td>\n      <td>ade0138a.0</td>\n      <td>NaN</td>\n      <td>ade0138a.0</td>\n      <td>1164.0</td>\n      <td>2021/8/18 上午 01:09:56</td>\n      <td>2016/9/6 上午 09:05:42</td>\n      <td>0</td>\n      <td>6123.0</td>\n      <td>D:</td>\n      <td>_eBooks 電子書 AI &amp; BigData</td>\n      <td>ca</td>\n    </tr>\n    <tr>\n      <th>608446</th>\n      <td>E:\\.ongoing_projects\\typl_aws_ubuntu_Backup\\do...</td>\n      <td>NaN</td>\n      <td>NaN</td>\n      <td>libta_lib.so.0</td>\n      <td>3090808.0</td>\n      <td>2021/8/18 上午 12:58:39</td>\n      <td>2020/11/28 上午 12:28:29</td>\n      <td>0</td>\n      <td>162458.0</td>\n      <td>E:</td>\n      <td>.ongoing_projects</td>\n      <td>.libs</td>\n    </tr>\n    <tr>\n      <th>608447</th>\n      <td>E:\\.ongoing_projects\\typl_aws_ubuntu_Backup\\do...</td>\n      <td>NaN</td>\n      <td>NaN</td>\n      <td>libta_lib.so.0.0.0</td>\n      <td>3090808.0</td>\n      <td>2021/8/18 上午 12:58:39</td>\n      <td>2020/11/28 上午 12:28:29</td>\n      <td>0</td>\n      <td>162458.0</td>\n      <td>E:</td>\n      <td>.ongoing_projects</td>\n      <td>.libs</td>\n    </tr>\n    <tr>\n      <th>611605</th>\n      <td>E:\\bokeh\\bokehjs\\test\\baselines\\Plot__should_a...</td>\n      <td>NaN</td>\n      <td>NaN</td>\n      <td>Plot__should_allow_fixed_x_max_plot,_aspect_1.0</td>\n      <td>170.0</td>\n      <td>2021/8/18 上午 01:07:00</td>\n      <td>2021/1/11 下午 10:18:40</td>\n      <td>0</td>\n      <td>163828.0</td>\n      <td>E:</td>\n      <td>bokeh</td>\n      <td>baselines</td>\n    </tr>\n    <tr>\n      <th>611606</th>\n      <td>E:\\bokeh\\bokehjs\\test\\baselines\\Plot__should_a...</td>\n      <td>NaN</td>\n      <td>NaN</td>\n      <td>Plot__should_allow_max_x_fixed_plot,_aspect_1.0</td>\n      <td>170.0</td>\n      <td>2021/8/18 上午 01:07:00</td>\n      <td>2021/1/11 下午 10:18:40</td>\n      <td>0</td>\n      <td>163828.0</td>\n      <td>E:</td>\n      <td>bokeh</td>\n      <td>baselines</td>\n    </tr>\n    <tr>\n      <th>613619</th>\n      <td>E:\\下載\\bokeh-2.2.3\\bokeh-2.2.3\\bokehjs\\test\\bas...</td>\n      <td>NaN</td>\n      <td>NaN</td>\n      <td>Plot__should_allow_fixed_x_max_plot,_aspect_1.0</td>\n      <td>165.0</td>\n      <td>2021/8/18 上午 12:56:37</td>\n      <td>2020/10/20 上午 03:17:16</td>\n      <td>0</td>\n      <td>164731.0</td>\n      <td>E:</td>\n      <td>下載</td>\n      <td>baselines</td>\n    </tr>\n    <tr>\n      <th>613620</th>\n      <td>E:\\下載\\bokeh-2.2.3\\bokeh-2.2.3\\bokehjs\\test\\bas...</td>\n      <td>NaN</td>\n      <td>NaN</td>\n      <td>Plot__should_allow_max_x_fixed_plot,_aspect_1.0</td>\n      <td>165.0</td>\n      <td>2021/8/18 上午 12:56:37</td>\n      <td>2020/10/20 上午 03:17:16</td>\n      <td>0</td>\n      <td>164731.0</td>\n      <td>E:</td>\n      <td>下載</td>\n      <td>baselines</td>\n    </tr>\n  </tbody>\n</table>\n</div>"
     },
     "execution_count": 11,
     "metadata": {},
     "output_type": "execute_result"
    }
   ],
   "source": [
    "extension_frame"
   ],
   "metadata": {
    "collapsed": false,
    "pycharm": {
     "name": "#%%\n"
    }
   }
  },
  {
   "cell_type": "code",
   "execution_count": 12,
   "outputs": [],
   "source": [
    "folders = extension_frame.groupby('資料夾')"
   ],
   "metadata": {
    "collapsed": false,
    "pycharm": {
     "name": "#%%\n"
    }
   }
  },
  {
   "cell_type": "code",
   "execution_count": 13,
   "outputs": [],
   "source": [
    "iter_folder = iter(folders)"
   ],
   "metadata": {
    "collapsed": false,
    "pycharm": {
     "name": "#%%\n"
    }
   }
  },
  {
   "cell_type": "code",
   "execution_count": 14,
   "outputs": [],
   "source": [
    "folder_name, folder_frame = next(iter_folder)"
   ],
   "metadata": {
    "collapsed": false,
    "pycharm": {
     "name": "#%%\n"
    }
   }
  },
  {
   "cell_type": "code",
   "execution_count": 15,
   "outputs": [
    {
     "data": {
      "text/plain": "                                                     完整路徑 檔案名稱ddf 檔案名稱zdf  \\\n608446  E:\\.ongoing_projects\\typl_aws_ubuntu_Backup\\do...     NaN     NaN   \n608447  E:\\.ongoing_projects\\typl_aws_ubuntu_Backup\\do...     NaN     NaN   \n\n                    檔案名稱df         大小                   新增日期  \\\n608446      libta_lib.so.0  3090808.0  2021/8/18 上午 12:58:39   \n608447  libta_lib.so.0.0.0  3090808.0  2021/8/18 上午 12:58:39   \n\n                          修改日期 檔案類型        組別 磁碟機                根目錄    資料夾  \n608446  2020/11/28 上午 12:28:29    0  162458.0  E:  .ongoing_projects  .libs  \n608447  2020/11/28 上午 12:28:29    0  162458.0  E:  .ongoing_projects  .libs  ",
      "text/html": "<div>\n<style scoped>\n    .dataframe tbody tr th:only-of-type {\n        vertical-align: middle;\n    }\n\n    .dataframe tbody tr th {\n        vertical-align: top;\n    }\n\n    .dataframe thead th {\n        text-align: right;\n    }\n</style>\n<table border=\"1\" class=\"dataframe\">\n  <thead>\n    <tr style=\"text-align: right;\">\n      <th></th>\n      <th>完整路徑</th>\n      <th>檔案名稱ddf</th>\n      <th>檔案名稱zdf</th>\n      <th>檔案名稱df</th>\n      <th>大小</th>\n      <th>新增日期</th>\n      <th>修改日期</th>\n      <th>檔案類型</th>\n      <th>組別</th>\n      <th>磁碟機</th>\n      <th>根目錄</th>\n      <th>資料夾</th>\n    </tr>\n  </thead>\n  <tbody>\n    <tr>\n      <th>608446</th>\n      <td>E:\\.ongoing_projects\\typl_aws_ubuntu_Backup\\do...</td>\n      <td>NaN</td>\n      <td>NaN</td>\n      <td>libta_lib.so.0</td>\n      <td>3090808.0</td>\n      <td>2021/8/18 上午 12:58:39</td>\n      <td>2020/11/28 上午 12:28:29</td>\n      <td>0</td>\n      <td>162458.0</td>\n      <td>E:</td>\n      <td>.ongoing_projects</td>\n      <td>.libs</td>\n    </tr>\n    <tr>\n      <th>608447</th>\n      <td>E:\\.ongoing_projects\\typl_aws_ubuntu_Backup\\do...</td>\n      <td>NaN</td>\n      <td>NaN</td>\n      <td>libta_lib.so.0.0.0</td>\n      <td>3090808.0</td>\n      <td>2021/8/18 上午 12:58:39</td>\n      <td>2020/11/28 上午 12:28:29</td>\n      <td>0</td>\n      <td>162458.0</td>\n      <td>E:</td>\n      <td>.ongoing_projects</td>\n      <td>.libs</td>\n    </tr>\n  </tbody>\n</table>\n</div>"
     },
     "execution_count": 15,
     "metadata": {},
     "output_type": "execute_result"
    }
   ],
   "source": [
    "folder_frame"
   ],
   "metadata": {
    "collapsed": false,
    "pycharm": {
     "name": "#%%\n"
    }
   }
  },
  {
   "cell_type": "code",
   "execution_count": 16,
   "outputs": [],
   "source": [
    "teams = folder_frame.groupby('組別')"
   ],
   "metadata": {
    "collapsed": false,
    "pycharm": {
     "name": "#%%\n"
    }
   }
  },
  {
   "cell_type": "code",
   "execution_count": 17,
   "outputs": [],
   "source": [
    "iter_team = iter(teams)"
   ],
   "metadata": {
    "collapsed": false,
    "pycharm": {
     "name": "#%%\n"
    }
   }
  },
  {
   "cell_type": "code",
   "execution_count": 18,
   "outputs": [],
   "source": [
    "team_name, team_frame = next(iter_team)"
   ],
   "metadata": {
    "collapsed": false,
    "pycharm": {
     "name": "#%%\n"
    }
   }
  },
  {
   "cell_type": "code",
   "execution_count": 19,
   "outputs": [
    {
     "data": {
      "text/plain": "                                                     完整路徑 檔案名稱ddf 檔案名稱zdf  \\\n608446  E:\\.ongoing_projects\\typl_aws_ubuntu_Backup\\do...     NaN     NaN   \n608447  E:\\.ongoing_projects\\typl_aws_ubuntu_Backup\\do...     NaN     NaN   \n\n                    檔案名稱df         大小                   新增日期  \\\n608446      libta_lib.so.0  3090808.0  2021/8/18 上午 12:58:39   \n608447  libta_lib.so.0.0.0  3090808.0  2021/8/18 上午 12:58:39   \n\n                          修改日期 檔案類型        組別 磁碟機                根目錄    資料夾  \n608446  2020/11/28 上午 12:28:29    0  162458.0  E:  .ongoing_projects  .libs  \n608447  2020/11/28 上午 12:28:29    0  162458.0  E:  .ongoing_projects  .libs  ",
      "text/html": "<div>\n<style scoped>\n    .dataframe tbody tr th:only-of-type {\n        vertical-align: middle;\n    }\n\n    .dataframe tbody tr th {\n        vertical-align: top;\n    }\n\n    .dataframe thead th {\n        text-align: right;\n    }\n</style>\n<table border=\"1\" class=\"dataframe\">\n  <thead>\n    <tr style=\"text-align: right;\">\n      <th></th>\n      <th>完整路徑</th>\n      <th>檔案名稱ddf</th>\n      <th>檔案名稱zdf</th>\n      <th>檔案名稱df</th>\n      <th>大小</th>\n      <th>新增日期</th>\n      <th>修改日期</th>\n      <th>檔案類型</th>\n      <th>組別</th>\n      <th>磁碟機</th>\n      <th>根目錄</th>\n      <th>資料夾</th>\n    </tr>\n  </thead>\n  <tbody>\n    <tr>\n      <th>608446</th>\n      <td>E:\\.ongoing_projects\\typl_aws_ubuntu_Backup\\do...</td>\n      <td>NaN</td>\n      <td>NaN</td>\n      <td>libta_lib.so.0</td>\n      <td>3090808.0</td>\n      <td>2021/8/18 上午 12:58:39</td>\n      <td>2020/11/28 上午 12:28:29</td>\n      <td>0</td>\n      <td>162458.0</td>\n      <td>E:</td>\n      <td>.ongoing_projects</td>\n      <td>.libs</td>\n    </tr>\n    <tr>\n      <th>608447</th>\n      <td>E:\\.ongoing_projects\\typl_aws_ubuntu_Backup\\do...</td>\n      <td>NaN</td>\n      <td>NaN</td>\n      <td>libta_lib.so.0.0.0</td>\n      <td>3090808.0</td>\n      <td>2021/8/18 上午 12:58:39</td>\n      <td>2020/11/28 上午 12:28:29</td>\n      <td>0</td>\n      <td>162458.0</td>\n      <td>E:</td>\n      <td>.ongoing_projects</td>\n      <td>.libs</td>\n    </tr>\n  </tbody>\n</table>\n</div>"
     },
     "execution_count": 19,
     "metadata": {},
     "output_type": "execute_result"
    }
   ],
   "source": [
    "team_frame"
   ],
   "metadata": {
    "collapsed": false,
    "pycharm": {
     "name": "#%%\n"
    }
   }
  },
  {
   "cell_type": "code",
   "execution_count": 21,
   "outputs": [
    {
     "data": {
      "text/plain": "                                                     完整路徑     檔案名稱ddf 檔案名稱zdf  \\\n608446  E:\\.ongoing_projects\\typl_aws_ubuntu_Backup\\do...         NaN     NaN   \n608447  E:\\.ongoing_projects\\typl_aws_ubuntu_Backup\\do...         NaN     NaN   \n611605  E:\\bokeh\\bokehjs\\test\\baselines\\Plot__should_a...         NaN     NaN   \n611606  E:\\bokeh\\bokehjs\\test\\baselines\\Plot__should_a...         NaN     NaN   \n613619  E:\\下載\\bokeh-2.2.3\\bokeh-2.2.3\\bokehjs\\test\\bas...         NaN     NaN   \n613620  E:\\下載\\bokeh-2.2.3\\bokeh-2.2.3\\bokehjs\\test\\bas...         NaN     NaN   \n230386  D:\\_eBooks 電子書 AI & BigData\\AI + 大數據 用 Python ...  08bd99c7.0     NaN   \n230387  D:\\_eBooks 電子書 AI & BigData\\AI + 大數據 用 Python ...  ade0138a.0     NaN   \n230382                   D:\\MAME Games\\docs\\legal\\BSL-1.0     BSL-1.0     NaN   \n230384   D:\\MAME Games\\mame0238b_64bit\\docs\\legal\\BSL-1.0     BSL-1.0     NaN   \n230383                   D:\\MAME Games\\docs\\legal\\GPL-2.0     GPL-2.0     NaN   \n230385   D:\\MAME Games\\mame0238b_64bit\\docs\\legal\\GPL-2.0     GPL-2.0     NaN   \n\n                                                 檔案名稱df         大小  \\\n608446                                   libta_lib.so.0  3090808.0   \n608447                               libta_lib.so.0.0.0  3090808.0   \n611605  Plot__should_allow_fixed_x_max_plot,_aspect_1.0      170.0   \n611606  Plot__should_allow_max_x_fixed_plot,_aspect_1.0      170.0   \n613619  Plot__should_allow_fixed_x_max_plot,_aspect_1.0      165.0   \n613620  Plot__should_allow_max_x_fixed_plot,_aspect_1.0      165.0   \n230386                                       08bd99c7.0     1164.0   \n230387                                       ade0138a.0     1164.0   \n230382                                          BSL-1.0     1304.0   \n230384                                          BSL-1.0     1304.0   \n230383                                          GPL-2.0    18299.0   \n230385                                          GPL-2.0    18299.0   \n\n                          新增日期                    修改日期 檔案類型        組別 磁碟機  \\\n608446   2021/8/18 上午 12:58:39  2020/11/28 上午 12:28:29    0  162458.0  E:   \n608447   2021/8/18 上午 12:58:39  2020/11/28 上午 12:28:29    0  162458.0  E:   \n611605   2021/8/18 上午 01:07:00   2021/1/11 下午 10:18:40    0  163828.0  E:   \n611606   2021/8/18 上午 01:07:00   2021/1/11 下午 10:18:40    0  163828.0  E:   \n613619   2021/8/18 上午 12:56:37  2020/10/20 上午 03:17:16    0  164731.0  E:   \n613620   2021/8/18 上午 12:56:37  2020/10/20 上午 03:17:16    0  164731.0  E:   \n230386   2021/8/18 上午 01:09:55    2016/9/6 上午 09:05:42    0    6123.0  D:   \n230387   2021/8/18 上午 01:09:56    2016/9/6 上午 09:05:42    0    6123.0  D:   \n230382  2021/12/18 下午 05:24:00   2020/5/19 上午 11:10:36    0    2985.0  D:   \n230384  2021/12/18 下午 05:46:34  2021/11/24 上午 03:39:41    0    2985.0  D:   \n230383  2021/12/18 下午 05:24:00   2020/5/19 上午 11:10:36    0    2986.0  D:   \n230385  2021/12/18 下午 05:46:34  2021/11/24 上午 03:39:41    0    2986.0  D:   \n\n                             根目錄        資料夾  \n608446         .ongoing_projects      .libs  \n608447         .ongoing_projects      .libs  \n611605                     bokeh  baselines  \n611606                     bokeh  baselines  \n613619                        下載  baselines  \n613620                        下載  baselines  \n230386  _eBooks 電子書 AI & BigData         ca  \n230387  _eBooks 電子書 AI & BigData         ca  \n230382                MAME Games      legal  \n230384                MAME Games      legal  \n230383                MAME Games      legal  \n230385                MAME Games      legal  ",
      "text/html": "<div>\n<style scoped>\n    .dataframe tbody tr th:only-of-type {\n        vertical-align: middle;\n    }\n\n    .dataframe tbody tr th {\n        vertical-align: top;\n    }\n\n    .dataframe thead th {\n        text-align: right;\n    }\n</style>\n<table border=\"1\" class=\"dataframe\">\n  <thead>\n    <tr style=\"text-align: right;\">\n      <th></th>\n      <th>完整路徑</th>\n      <th>檔案名稱ddf</th>\n      <th>檔案名稱zdf</th>\n      <th>檔案名稱df</th>\n      <th>大小</th>\n      <th>新增日期</th>\n      <th>修改日期</th>\n      <th>檔案類型</th>\n      <th>組別</th>\n      <th>磁碟機</th>\n      <th>根目錄</th>\n      <th>資料夾</th>\n    </tr>\n  </thead>\n  <tbody>\n    <tr>\n      <th>608446</th>\n      <td>E:\\.ongoing_projects\\typl_aws_ubuntu_Backup\\do...</td>\n      <td>NaN</td>\n      <td>NaN</td>\n      <td>libta_lib.so.0</td>\n      <td>3090808.0</td>\n      <td>2021/8/18 上午 12:58:39</td>\n      <td>2020/11/28 上午 12:28:29</td>\n      <td>0</td>\n      <td>162458.0</td>\n      <td>E:</td>\n      <td>.ongoing_projects</td>\n      <td>.libs</td>\n    </tr>\n    <tr>\n      <th>608447</th>\n      <td>E:\\.ongoing_projects\\typl_aws_ubuntu_Backup\\do...</td>\n      <td>NaN</td>\n      <td>NaN</td>\n      <td>libta_lib.so.0.0.0</td>\n      <td>3090808.0</td>\n      <td>2021/8/18 上午 12:58:39</td>\n      <td>2020/11/28 上午 12:28:29</td>\n      <td>0</td>\n      <td>162458.0</td>\n      <td>E:</td>\n      <td>.ongoing_projects</td>\n      <td>.libs</td>\n    </tr>\n    <tr>\n      <th>611605</th>\n      <td>E:\\bokeh\\bokehjs\\test\\baselines\\Plot__should_a...</td>\n      <td>NaN</td>\n      <td>NaN</td>\n      <td>Plot__should_allow_fixed_x_max_plot,_aspect_1.0</td>\n      <td>170.0</td>\n      <td>2021/8/18 上午 01:07:00</td>\n      <td>2021/1/11 下午 10:18:40</td>\n      <td>0</td>\n      <td>163828.0</td>\n      <td>E:</td>\n      <td>bokeh</td>\n      <td>baselines</td>\n    </tr>\n    <tr>\n      <th>611606</th>\n      <td>E:\\bokeh\\bokehjs\\test\\baselines\\Plot__should_a...</td>\n      <td>NaN</td>\n      <td>NaN</td>\n      <td>Plot__should_allow_max_x_fixed_plot,_aspect_1.0</td>\n      <td>170.0</td>\n      <td>2021/8/18 上午 01:07:00</td>\n      <td>2021/1/11 下午 10:18:40</td>\n      <td>0</td>\n      <td>163828.0</td>\n      <td>E:</td>\n      <td>bokeh</td>\n      <td>baselines</td>\n    </tr>\n    <tr>\n      <th>613619</th>\n      <td>E:\\下載\\bokeh-2.2.3\\bokeh-2.2.3\\bokehjs\\test\\bas...</td>\n      <td>NaN</td>\n      <td>NaN</td>\n      <td>Plot__should_allow_fixed_x_max_plot,_aspect_1.0</td>\n      <td>165.0</td>\n      <td>2021/8/18 上午 12:56:37</td>\n      <td>2020/10/20 上午 03:17:16</td>\n      <td>0</td>\n      <td>164731.0</td>\n      <td>E:</td>\n      <td>下載</td>\n      <td>baselines</td>\n    </tr>\n    <tr>\n      <th>613620</th>\n      <td>E:\\下載\\bokeh-2.2.3\\bokeh-2.2.3\\bokehjs\\test\\bas...</td>\n      <td>NaN</td>\n      <td>NaN</td>\n      <td>Plot__should_allow_max_x_fixed_plot,_aspect_1.0</td>\n      <td>165.0</td>\n      <td>2021/8/18 上午 12:56:37</td>\n      <td>2020/10/20 上午 03:17:16</td>\n      <td>0</td>\n      <td>164731.0</td>\n      <td>E:</td>\n      <td>下載</td>\n      <td>baselines</td>\n    </tr>\n    <tr>\n      <th>230386</th>\n      <td>D:\\_eBooks 電子書 AI &amp; BigData\\AI + 大數據 用 Python ...</td>\n      <td>08bd99c7.0</td>\n      <td>NaN</td>\n      <td>08bd99c7.0</td>\n      <td>1164.0</td>\n      <td>2021/8/18 上午 01:09:55</td>\n      <td>2016/9/6 上午 09:05:42</td>\n      <td>0</td>\n      <td>6123.0</td>\n      <td>D:</td>\n      <td>_eBooks 電子書 AI &amp; BigData</td>\n      <td>ca</td>\n    </tr>\n    <tr>\n      <th>230387</th>\n      <td>D:\\_eBooks 電子書 AI &amp; BigData\\AI + 大數據 用 Python ...</td>\n      <td>ade0138a.0</td>\n      <td>NaN</td>\n      <td>ade0138a.0</td>\n      <td>1164.0</td>\n      <td>2021/8/18 上午 01:09:56</td>\n      <td>2016/9/6 上午 09:05:42</td>\n      <td>0</td>\n      <td>6123.0</td>\n      <td>D:</td>\n      <td>_eBooks 電子書 AI &amp; BigData</td>\n      <td>ca</td>\n    </tr>\n    <tr>\n      <th>230382</th>\n      <td>D:\\MAME Games\\docs\\legal\\BSL-1.0</td>\n      <td>BSL-1.0</td>\n      <td>NaN</td>\n      <td>BSL-1.0</td>\n      <td>1304.0</td>\n      <td>2021/12/18 下午 05:24:00</td>\n      <td>2020/5/19 上午 11:10:36</td>\n      <td>0</td>\n      <td>2985.0</td>\n      <td>D:</td>\n      <td>MAME Games</td>\n      <td>legal</td>\n    </tr>\n    <tr>\n      <th>230384</th>\n      <td>D:\\MAME Games\\mame0238b_64bit\\docs\\legal\\BSL-1.0</td>\n      <td>BSL-1.0</td>\n      <td>NaN</td>\n      <td>BSL-1.0</td>\n      <td>1304.0</td>\n      <td>2021/12/18 下午 05:46:34</td>\n      <td>2021/11/24 上午 03:39:41</td>\n      <td>0</td>\n      <td>2985.0</td>\n      <td>D:</td>\n      <td>MAME Games</td>\n      <td>legal</td>\n    </tr>\n    <tr>\n      <th>230383</th>\n      <td>D:\\MAME Games\\docs\\legal\\GPL-2.0</td>\n      <td>GPL-2.0</td>\n      <td>NaN</td>\n      <td>GPL-2.0</td>\n      <td>18299.0</td>\n      <td>2021/12/18 下午 05:24:00</td>\n      <td>2020/5/19 上午 11:10:36</td>\n      <td>0</td>\n      <td>2986.0</td>\n      <td>D:</td>\n      <td>MAME Games</td>\n      <td>legal</td>\n    </tr>\n    <tr>\n      <th>230385</th>\n      <td>D:\\MAME Games\\mame0238b_64bit\\docs\\legal\\GPL-2.0</td>\n      <td>GPL-2.0</td>\n      <td>NaN</td>\n      <td>GPL-2.0</td>\n      <td>18299.0</td>\n      <td>2021/12/18 下午 05:46:34</td>\n      <td>2021/11/24 上午 03:39:41</td>\n      <td>0</td>\n      <td>2986.0</td>\n      <td>D:</td>\n      <td>MAME Games</td>\n      <td>legal</td>\n    </tr>\n  </tbody>\n</table>\n</div>"
     },
     "execution_count": 21,
     "metadata": {},
     "output_type": "execute_result"
    }
   ],
   "source": [
    "extension_frame.sort_values(['資料夾', '組別'])"
   ],
   "metadata": {
    "collapsed": false,
    "pycharm": {
     "name": "#%%\n"
    }
   }
  },
  {
   "cell_type": "code",
   "execution_count": 22,
   "outputs": [],
   "source": [
    "root_drive = extension_frame.groupby(['磁碟機', '根目錄'])"
   ],
   "metadata": {
    "collapsed": false,
    "pycharm": {
     "name": "#%%\n"
    }
   }
  },
  {
   "cell_type": "code",
   "execution_count": 23,
   "outputs": [],
   "source": [
    "iter_root_drive= iter(root_drive)"
   ],
   "metadata": {
    "collapsed": false,
    "pycharm": {
     "name": "#%%\n"
    }
   }
  },
  {
   "cell_type": "code",
   "execution_count": 24,
   "outputs": [],
   "source": [
    "root_drive_name, root_drive_frame = next(iter_root_drive)"
   ],
   "metadata": {
    "collapsed": false,
    "pycharm": {
     "name": "#%%\n"
    }
   }
  },
  {
   "cell_type": "code",
   "execution_count": 25,
   "outputs": [
    {
     "data": {
      "text/plain": "('D:', 'MAME Games')"
     },
     "execution_count": 25,
     "metadata": {},
     "output_type": "execute_result"
    }
   ],
   "source": [
    "root_drive_name"
   ],
   "metadata": {
    "collapsed": false,
    "pycharm": {
     "name": "#%%\n"
    }
   }
  },
  {
   "cell_type": "code",
   "execution_count": 27,
   "outputs": [
    {
     "data": {
      "text/plain": "                                                    完整路徑  檔案名稱ddf 檔案名稱zdf  \\\n230382                  D:\\MAME Games\\docs\\legal\\BSL-1.0  BSL-1.0     NaN   \n230384  D:\\MAME Games\\mame0238b_64bit\\docs\\legal\\BSL-1.0  BSL-1.0     NaN   \n230383                  D:\\MAME Games\\docs\\legal\\GPL-2.0  GPL-2.0     NaN   \n230385  D:\\MAME Games\\mame0238b_64bit\\docs\\legal\\GPL-2.0  GPL-2.0     NaN   \n\n         檔案名稱df       大小                    新增日期                    修改日期 檔案類型  \\\n230382  BSL-1.0   1304.0  2021/12/18 下午 05:24:00   2020/5/19 上午 11:10:36    0   \n230384  BSL-1.0   1304.0  2021/12/18 下午 05:46:34  2021/11/24 上午 03:39:41    0   \n230383  GPL-2.0  18299.0  2021/12/18 下午 05:24:00   2020/5/19 上午 11:10:36    0   \n230385  GPL-2.0  18299.0  2021/12/18 下午 05:46:34  2021/11/24 上午 03:39:41    0   \n\n            組別 磁碟機         根目錄    資料夾  \n230382  2985.0  D:  MAME Games  legal  \n230384  2985.0  D:  MAME Games  legal  \n230383  2986.0  D:  MAME Games  legal  \n230385  2986.0  D:  MAME Games  legal  ",
      "text/html": "<div>\n<style scoped>\n    .dataframe tbody tr th:only-of-type {\n        vertical-align: middle;\n    }\n\n    .dataframe tbody tr th {\n        vertical-align: top;\n    }\n\n    .dataframe thead th {\n        text-align: right;\n    }\n</style>\n<table border=\"1\" class=\"dataframe\">\n  <thead>\n    <tr style=\"text-align: right;\">\n      <th></th>\n      <th>完整路徑</th>\n      <th>檔案名稱ddf</th>\n      <th>檔案名稱zdf</th>\n      <th>檔案名稱df</th>\n      <th>大小</th>\n      <th>新增日期</th>\n      <th>修改日期</th>\n      <th>檔案類型</th>\n      <th>組別</th>\n      <th>磁碟機</th>\n      <th>根目錄</th>\n      <th>資料夾</th>\n    </tr>\n  </thead>\n  <tbody>\n    <tr>\n      <th>230382</th>\n      <td>D:\\MAME Games\\docs\\legal\\BSL-1.0</td>\n      <td>BSL-1.0</td>\n      <td>NaN</td>\n      <td>BSL-1.0</td>\n      <td>1304.0</td>\n      <td>2021/12/18 下午 05:24:00</td>\n      <td>2020/5/19 上午 11:10:36</td>\n      <td>0</td>\n      <td>2985.0</td>\n      <td>D:</td>\n      <td>MAME Games</td>\n      <td>legal</td>\n    </tr>\n    <tr>\n      <th>230384</th>\n      <td>D:\\MAME Games\\mame0238b_64bit\\docs\\legal\\BSL-1.0</td>\n      <td>BSL-1.0</td>\n      <td>NaN</td>\n      <td>BSL-1.0</td>\n      <td>1304.0</td>\n      <td>2021/12/18 下午 05:46:34</td>\n      <td>2021/11/24 上午 03:39:41</td>\n      <td>0</td>\n      <td>2985.0</td>\n      <td>D:</td>\n      <td>MAME Games</td>\n      <td>legal</td>\n    </tr>\n    <tr>\n      <th>230383</th>\n      <td>D:\\MAME Games\\docs\\legal\\GPL-2.0</td>\n      <td>GPL-2.0</td>\n      <td>NaN</td>\n      <td>GPL-2.0</td>\n      <td>18299.0</td>\n      <td>2021/12/18 下午 05:24:00</td>\n      <td>2020/5/19 上午 11:10:36</td>\n      <td>0</td>\n      <td>2986.0</td>\n      <td>D:</td>\n      <td>MAME Games</td>\n      <td>legal</td>\n    </tr>\n    <tr>\n      <th>230385</th>\n      <td>D:\\MAME Games\\mame0238b_64bit\\docs\\legal\\GPL-2.0</td>\n      <td>GPL-2.0</td>\n      <td>NaN</td>\n      <td>GPL-2.0</td>\n      <td>18299.0</td>\n      <td>2021/12/18 下午 05:46:34</td>\n      <td>2021/11/24 上午 03:39:41</td>\n      <td>0</td>\n      <td>2986.0</td>\n      <td>D:</td>\n      <td>MAME Games</td>\n      <td>legal</td>\n    </tr>\n  </tbody>\n</table>\n</div>"
     },
     "execution_count": 27,
     "metadata": {},
     "output_type": "execute_result"
    }
   ],
   "source": [
    "root_drive_frame.sort_values('組別')"
   ],
   "metadata": {
    "collapsed": false,
    "pycharm": {
     "name": "#%%\n"
    }
   }
  },
  {
   "cell_type": "code",
   "execution_count": 29,
   "outputs": [
    {
     "data": {
      "text/plain": "'D:/MAME Games'"
     },
     "execution_count": 29,
     "metadata": {},
     "output_type": "execute_result"
    }
   ],
   "source": [
    "drive, root = root_drive_name\n",
    "f'{drive}/{root}'"
   ],
   "metadata": {
    "collapsed": false,
    "pycharm": {
     "name": "#%%\n"
    }
   }
  },
  {
   "cell_type": "code",
   "execution_count": 30,
   "outputs": [
    {
     "data": {
      "text/plain": "'0'"
     },
     "execution_count": 30,
     "metadata": {},
     "output_type": "execute_result"
    }
   ],
   "source": [
    "extensions_name"
   ],
   "metadata": {
    "collapsed": false,
    "pycharm": {
     "name": "#%%\n"
    }
   }
  },
  {
   "cell_type": "code",
   "execution_count": 31,
   "outputs": [],
   "source": [
    "dataframe={}"
   ],
   "metadata": {
    "collapsed": false,
    "pycharm": {
     "name": "#%%\n"
    }
   }
  },
  {
   "cell_type": "code",
   "execution_count": 33,
   "outputs": [],
   "source": [
    "dataframe[extensions_name] = {}"
   ],
   "metadata": {
    "collapsed": false,
    "pycharm": {
     "name": "#%%\n"
    }
   }
  },
  {
   "cell_type": "code",
   "execution_count": 34,
   "outputs": [
    {
     "data": {
      "text/plain": "{}"
     },
     "execution_count": 34,
     "metadata": {},
     "output_type": "execute_result"
    }
   ],
   "source": [
    "dataframe[extensions_name]"
   ],
   "metadata": {
    "collapsed": false,
    "pycharm": {
     "name": "#%%\n"
    }
   }
  },
  {
   "cell_type": "code",
   "execution_count": 36,
   "outputs": [],
   "source": [
    "dataframe[extensions_name][f'{drive}/{root}'] = root_drive_frame.sort_values('組別')"
   ],
   "metadata": {
    "collapsed": false,
    "pycharm": {
     "name": "#%%\n"
    }
   }
  },
  {
   "cell_type": "code",
   "execution_count": 37,
   "outputs": [
    {
     "data": {
      "text/plain": "                                                    完整路徑  檔案名稱ddf 檔案名稱zdf  \\\n230382                  D:\\MAME Games\\docs\\legal\\BSL-1.0  BSL-1.0     NaN   \n230384  D:\\MAME Games\\mame0238b_64bit\\docs\\legal\\BSL-1.0  BSL-1.0     NaN   \n230383                  D:\\MAME Games\\docs\\legal\\GPL-2.0  GPL-2.0     NaN   \n230385  D:\\MAME Games\\mame0238b_64bit\\docs\\legal\\GPL-2.0  GPL-2.0     NaN   \n\n         檔案名稱df       大小                    新增日期                    修改日期 檔案類型  \\\n230382  BSL-1.0   1304.0  2021/12/18 下午 05:24:00   2020/5/19 上午 11:10:36    0   \n230384  BSL-1.0   1304.0  2021/12/18 下午 05:46:34  2021/11/24 上午 03:39:41    0   \n230383  GPL-2.0  18299.0  2021/12/18 下午 05:24:00   2020/5/19 上午 11:10:36    0   \n230385  GPL-2.0  18299.0  2021/12/18 下午 05:46:34  2021/11/24 上午 03:39:41    0   \n\n            組別 磁碟機         根目錄    資料夾  \n230382  2985.0  D:  MAME Games  legal  \n230384  2985.0  D:  MAME Games  legal  \n230383  2986.0  D:  MAME Games  legal  \n230385  2986.0  D:  MAME Games  legal  ",
      "text/html": "<div>\n<style scoped>\n    .dataframe tbody tr th:only-of-type {\n        vertical-align: middle;\n    }\n\n    .dataframe tbody tr th {\n        vertical-align: top;\n    }\n\n    .dataframe thead th {\n        text-align: right;\n    }\n</style>\n<table border=\"1\" class=\"dataframe\">\n  <thead>\n    <tr style=\"text-align: right;\">\n      <th></th>\n      <th>完整路徑</th>\n      <th>檔案名稱ddf</th>\n      <th>檔案名稱zdf</th>\n      <th>檔案名稱df</th>\n      <th>大小</th>\n      <th>新增日期</th>\n      <th>修改日期</th>\n      <th>檔案類型</th>\n      <th>組別</th>\n      <th>磁碟機</th>\n      <th>根目錄</th>\n      <th>資料夾</th>\n    </tr>\n  </thead>\n  <tbody>\n    <tr>\n      <th>230382</th>\n      <td>D:\\MAME Games\\docs\\legal\\BSL-1.0</td>\n      <td>BSL-1.0</td>\n      <td>NaN</td>\n      <td>BSL-1.0</td>\n      <td>1304.0</td>\n      <td>2021/12/18 下午 05:24:00</td>\n      <td>2020/5/19 上午 11:10:36</td>\n      <td>0</td>\n      <td>2985.0</td>\n      <td>D:</td>\n      <td>MAME Games</td>\n      <td>legal</td>\n    </tr>\n    <tr>\n      <th>230384</th>\n      <td>D:\\MAME Games\\mame0238b_64bit\\docs\\legal\\BSL-1.0</td>\n      <td>BSL-1.0</td>\n      <td>NaN</td>\n      <td>BSL-1.0</td>\n      <td>1304.0</td>\n      <td>2021/12/18 下午 05:46:34</td>\n      <td>2021/11/24 上午 03:39:41</td>\n      <td>0</td>\n      <td>2985.0</td>\n      <td>D:</td>\n      <td>MAME Games</td>\n      <td>legal</td>\n    </tr>\n    <tr>\n      <th>230383</th>\n      <td>D:\\MAME Games\\docs\\legal\\GPL-2.0</td>\n      <td>GPL-2.0</td>\n      <td>NaN</td>\n      <td>GPL-2.0</td>\n      <td>18299.0</td>\n      <td>2021/12/18 下午 05:24:00</td>\n      <td>2020/5/19 上午 11:10:36</td>\n      <td>0</td>\n      <td>2986.0</td>\n      <td>D:</td>\n      <td>MAME Games</td>\n      <td>legal</td>\n    </tr>\n    <tr>\n      <th>230385</th>\n      <td>D:\\MAME Games\\mame0238b_64bit\\docs\\legal\\GPL-2.0</td>\n      <td>GPL-2.0</td>\n      <td>NaN</td>\n      <td>GPL-2.0</td>\n      <td>18299.0</td>\n      <td>2021/12/18 下午 05:46:34</td>\n      <td>2021/11/24 上午 03:39:41</td>\n      <td>0</td>\n      <td>2986.0</td>\n      <td>D:</td>\n      <td>MAME Games</td>\n      <td>legal</td>\n    </tr>\n  </tbody>\n</table>\n</div>"
     },
     "execution_count": 37,
     "metadata": {},
     "output_type": "execute_result"
    }
   ],
   "source": [
    "dataframe[extensions_name][f'{drive}/{root}']"
   ],
   "metadata": {
    "collapsed": false,
    "pycharm": {
     "name": "#%%\n"
    }
   }
  },
  {
   "cell_type": "code",
   "execution_count": 39,
   "outputs": [
    {
     "data": {
      "text/plain": "           完整路徑  檔案名稱ddf  檔案名稱zdf  檔案名稱df  大小  新增日期  修改日期  檔案類型  組別  磁碟機  根目錄\n資料夾                                                                          \n.libs         2        0        0       2   2     2     2     2   2    2    2\nbaselines     4        0        0       4   4     4     4     4   4    4    4\nca            2        2        0       2   2     2     2     2   2    2    2\nlegal         4        4        0       4   4     4     4     4   4    4    4",
      "text/html": "<div>\n<style scoped>\n    .dataframe tbody tr th:only-of-type {\n        vertical-align: middle;\n    }\n\n    .dataframe tbody tr th {\n        vertical-align: top;\n    }\n\n    .dataframe thead th {\n        text-align: right;\n    }\n</style>\n<table border=\"1\" class=\"dataframe\">\n  <thead>\n    <tr style=\"text-align: right;\">\n      <th></th>\n      <th>完整路徑</th>\n      <th>檔案名稱ddf</th>\n      <th>檔案名稱zdf</th>\n      <th>檔案名稱df</th>\n      <th>大小</th>\n      <th>新增日期</th>\n      <th>修改日期</th>\n      <th>檔案類型</th>\n      <th>組別</th>\n      <th>磁碟機</th>\n      <th>根目錄</th>\n    </tr>\n    <tr>\n      <th>資料夾</th>\n      <th></th>\n      <th></th>\n      <th></th>\n      <th></th>\n      <th></th>\n      <th></th>\n      <th></th>\n      <th></th>\n      <th></th>\n      <th></th>\n      <th></th>\n    </tr>\n  </thead>\n  <tbody>\n    <tr>\n      <th>.libs</th>\n      <td>2</td>\n      <td>0</td>\n      <td>0</td>\n      <td>2</td>\n      <td>2</td>\n      <td>2</td>\n      <td>2</td>\n      <td>2</td>\n      <td>2</td>\n      <td>2</td>\n      <td>2</td>\n    </tr>\n    <tr>\n      <th>baselines</th>\n      <td>4</td>\n      <td>0</td>\n      <td>0</td>\n      <td>4</td>\n      <td>4</td>\n      <td>4</td>\n      <td>4</td>\n      <td>4</td>\n      <td>4</td>\n      <td>4</td>\n      <td>4</td>\n    </tr>\n    <tr>\n      <th>ca</th>\n      <td>2</td>\n      <td>2</td>\n      <td>0</td>\n      <td>2</td>\n      <td>2</td>\n      <td>2</td>\n      <td>2</td>\n      <td>2</td>\n      <td>2</td>\n      <td>2</td>\n      <td>2</td>\n    </tr>\n    <tr>\n      <th>legal</th>\n      <td>4</td>\n      <td>4</td>\n      <td>0</td>\n      <td>4</td>\n      <td>4</td>\n      <td>4</td>\n      <td>4</td>\n      <td>4</td>\n      <td>4</td>\n      <td>4</td>\n      <td>4</td>\n    </tr>\n  </tbody>\n</table>\n</div>"
     },
     "execution_count": 39,
     "metadata": {},
     "output_type": "execute_result"
    }
   ],
   "source": [
    "folders.count()"
   ],
   "metadata": {
    "collapsed": false,
    "pycharm": {
     "name": "#%%\n"
    }
   }
  },
  {
   "cell_type": "code",
   "execution_count": 40,
   "outputs": [
    {
     "data": {
      "text/plain": "{'D:/MAME Games':                                                     完整路徑  檔案名稱ddf 檔案名稱zdf  \\\n 230382                  D:\\MAME Games\\docs\\legal\\BSL-1.0  BSL-1.0     NaN   \n 230384  D:\\MAME Games\\mame0238b_64bit\\docs\\legal\\BSL-1.0  BSL-1.0     NaN   \n 230383                  D:\\MAME Games\\docs\\legal\\GPL-2.0  GPL-2.0     NaN   \n 230385  D:\\MAME Games\\mame0238b_64bit\\docs\\legal\\GPL-2.0  GPL-2.0     NaN   \n \n          檔案名稱df       大小                    新增日期                    修改日期 檔案類型  \\\n 230382  BSL-1.0   1304.0  2021/12/18 下午 05:24:00   2020/5/19 上午 11:10:36    0   \n 230384  BSL-1.0   1304.0  2021/12/18 下午 05:46:34  2021/11/24 上午 03:39:41    0   \n 230383  GPL-2.0  18299.0  2021/12/18 下午 05:24:00   2020/5/19 上午 11:10:36    0   \n 230385  GPL-2.0  18299.0  2021/12/18 下午 05:46:34  2021/11/24 上午 03:39:41    0   \n \n             組別 磁碟機         根目錄    資料夾  \n 230382  2985.0  D:  MAME Games  legal  \n 230384  2985.0  D:  MAME Games  legal  \n 230383  2986.0  D:  MAME Games  legal  \n 230385  2986.0  D:  MAME Games  legal  }"
     },
     "execution_count": 40,
     "metadata": {},
     "output_type": "execute_result"
    }
   ],
   "source": [
    "dataframe[extensions_name]"
   ],
   "metadata": {
    "collapsed": false,
    "pycharm": {
     "name": "#%%\n"
    }
   }
  },
  {
   "cell_type": "code",
   "execution_count": 41,
   "outputs": [
    {
     "data": {
      "text/plain": "dict"
     },
     "execution_count": 41,
     "metadata": {},
     "output_type": "execute_result"
    }
   ],
   "source": [
    "type(dataframe[extensions_name])"
   ],
   "metadata": {
    "collapsed": false,
    "pycharm": {
     "name": "#%%\n"
    }
   }
  },
  {
   "cell_type": "code",
   "execution_count": 42,
   "outputs": [
    {
     "data": {
      "text/plain": "dict_keys(['D:/MAME Games'])"
     },
     "execution_count": 42,
     "metadata": {},
     "output_type": "execute_result"
    }
   ],
   "source": [
    "dataframe[extensions_name].keys()"
   ],
   "metadata": {
    "collapsed": false,
    "pycharm": {
     "name": "#%%\n"
    }
   }
  },
  {
   "cell_type": "code",
   "execution_count": 44,
   "outputs": [
    {
     "name": "stdout",
     "output_type": "stream",
     "text": [
      "D:/MAME Games                                                     完整路徑  檔案名稱ddf 檔案名稱zdf  \\\n",
      "230382                  D:\\MAME Games\\docs\\legal\\BSL-1.0  BSL-1.0     NaN   \n",
      "230384  D:\\MAME Games\\mame0238b_64bit\\docs\\legal\\BSL-1.0  BSL-1.0     NaN   \n",
      "230383                  D:\\MAME Games\\docs\\legal\\GPL-2.0  GPL-2.0     NaN   \n",
      "230385  D:\\MAME Games\\mame0238b_64bit\\docs\\legal\\GPL-2.0  GPL-2.0     NaN   \n",
      "\n",
      "         檔案名稱df       大小                    新增日期                    修改日期 檔案類型  \\\n",
      "230382  BSL-1.0   1304.0  2021/12/18 下午 05:24:00   2020/5/19 上午 11:10:36    0   \n",
      "230384  BSL-1.0   1304.0  2021/12/18 下午 05:46:34  2021/11/24 上午 03:39:41    0   \n",
      "230383  GPL-2.0  18299.0  2021/12/18 下午 05:24:00   2020/5/19 上午 11:10:36    0   \n",
      "230385  GPL-2.0  18299.0  2021/12/18 下午 05:46:34  2021/11/24 上午 03:39:41    0   \n",
      "\n",
      "            組別 磁碟機         根目錄    資料夾  \n",
      "230382  2985.0  D:  MAME Games  legal  \n",
      "230384  2985.0  D:  MAME Games  legal  \n",
      "230383  2986.0  D:  MAME Games  legal  \n",
      "230385  2986.0  D:  MAME Games  legal  \n"
     ]
    }
   ],
   "source": [
    "for key, value in dataframe[extensions_name].items():\n",
    "    print(key, value)"
   ],
   "metadata": {
    "collapsed": false,
    "pycharm": {
     "name": "#%%\n"
    }
   }
  },
  {
   "cell_type": "code",
   "execution_count": 45,
   "outputs": [
    {
     "data": {
      "text/plain": "'D:/MAME Games'"
     },
     "execution_count": 45,
     "metadata": {},
     "output_type": "execute_result"
    }
   ],
   "source": [
    "key"
   ],
   "metadata": {
    "collapsed": false,
    "pycharm": {
     "name": "#%%\n"
    }
   }
  },
  {
   "cell_type": "code",
   "execution_count": 46,
   "outputs": [
    {
     "data": {
      "text/plain": "                                                    完整路徑  檔案名稱ddf 檔案名稱zdf  \\\n230382                  D:\\MAME Games\\docs\\legal\\BSL-1.0  BSL-1.0     NaN   \n230384  D:\\MAME Games\\mame0238b_64bit\\docs\\legal\\BSL-1.0  BSL-1.0     NaN   \n230383                  D:\\MAME Games\\docs\\legal\\GPL-2.0  GPL-2.0     NaN   \n230385  D:\\MAME Games\\mame0238b_64bit\\docs\\legal\\GPL-2.0  GPL-2.0     NaN   \n\n         檔案名稱df       大小                    新增日期                    修改日期 檔案類型  \\\n230382  BSL-1.0   1304.0  2021/12/18 下午 05:24:00   2020/5/19 上午 11:10:36    0   \n230384  BSL-1.0   1304.0  2021/12/18 下午 05:46:34  2021/11/24 上午 03:39:41    0   \n230383  GPL-2.0  18299.0  2021/12/18 下午 05:24:00   2020/5/19 上午 11:10:36    0   \n230385  GPL-2.0  18299.0  2021/12/18 下午 05:46:34  2021/11/24 上午 03:39:41    0   \n\n            組別 磁碟機         根目錄    資料夾  \n230382  2985.0  D:  MAME Games  legal  \n230384  2985.0  D:  MAME Games  legal  \n230383  2986.0  D:  MAME Games  legal  \n230385  2986.0  D:  MAME Games  legal  ",
      "text/html": "<div>\n<style scoped>\n    .dataframe tbody tr th:only-of-type {\n        vertical-align: middle;\n    }\n\n    .dataframe tbody tr th {\n        vertical-align: top;\n    }\n\n    .dataframe thead th {\n        text-align: right;\n    }\n</style>\n<table border=\"1\" class=\"dataframe\">\n  <thead>\n    <tr style=\"text-align: right;\">\n      <th></th>\n      <th>完整路徑</th>\n      <th>檔案名稱ddf</th>\n      <th>檔案名稱zdf</th>\n      <th>檔案名稱df</th>\n      <th>大小</th>\n      <th>新增日期</th>\n      <th>修改日期</th>\n      <th>檔案類型</th>\n      <th>組別</th>\n      <th>磁碟機</th>\n      <th>根目錄</th>\n      <th>資料夾</th>\n    </tr>\n  </thead>\n  <tbody>\n    <tr>\n      <th>230382</th>\n      <td>D:\\MAME Games\\docs\\legal\\BSL-1.0</td>\n      <td>BSL-1.0</td>\n      <td>NaN</td>\n      <td>BSL-1.0</td>\n      <td>1304.0</td>\n      <td>2021/12/18 下午 05:24:00</td>\n      <td>2020/5/19 上午 11:10:36</td>\n      <td>0</td>\n      <td>2985.0</td>\n      <td>D:</td>\n      <td>MAME Games</td>\n      <td>legal</td>\n    </tr>\n    <tr>\n      <th>230384</th>\n      <td>D:\\MAME Games\\mame0238b_64bit\\docs\\legal\\BSL-1.0</td>\n      <td>BSL-1.0</td>\n      <td>NaN</td>\n      <td>BSL-1.0</td>\n      <td>1304.0</td>\n      <td>2021/12/18 下午 05:46:34</td>\n      <td>2021/11/24 上午 03:39:41</td>\n      <td>0</td>\n      <td>2985.0</td>\n      <td>D:</td>\n      <td>MAME Games</td>\n      <td>legal</td>\n    </tr>\n    <tr>\n      <th>230383</th>\n      <td>D:\\MAME Games\\docs\\legal\\GPL-2.0</td>\n      <td>GPL-2.0</td>\n      <td>NaN</td>\n      <td>GPL-2.0</td>\n      <td>18299.0</td>\n      <td>2021/12/18 下午 05:24:00</td>\n      <td>2020/5/19 上午 11:10:36</td>\n      <td>0</td>\n      <td>2986.0</td>\n      <td>D:</td>\n      <td>MAME Games</td>\n      <td>legal</td>\n    </tr>\n    <tr>\n      <th>230385</th>\n      <td>D:\\MAME Games\\mame0238b_64bit\\docs\\legal\\GPL-2.0</td>\n      <td>GPL-2.0</td>\n      <td>NaN</td>\n      <td>GPL-2.0</td>\n      <td>18299.0</td>\n      <td>2021/12/18 下午 05:46:34</td>\n      <td>2021/11/24 上午 03:39:41</td>\n      <td>0</td>\n      <td>2986.0</td>\n      <td>D:</td>\n      <td>MAME Games</td>\n      <td>legal</td>\n    </tr>\n  </tbody>\n</table>\n</div>"
     },
     "execution_count": 46,
     "metadata": {},
     "output_type": "execute_result"
    }
   ],
   "source": [
    "value"
   ],
   "metadata": {
    "collapsed": false,
    "pycharm": {
     "name": "#%%\n"
    }
   }
  },
  {
   "cell_type": "code",
   "execution_count": null,
   "outputs": [],
   "source": [],
   "metadata": {
    "collapsed": false,
    "pycharm": {
     "name": "#%%\n"
    }
   }
  }
 ],
 "metadata": {
  "kernelspec": {
   "display_name": "Python 3",
   "language": "python",
   "name": "python3"
  },
  "language_info": {
   "codemirror_mode": {
    "name": "ipython",
    "version": 3
   },
   "file_extension": ".py",
   "mimetype": "text/x-python",
   "name": "python",
   "nbconvert_exporter": "python",
   "pygments_lexer": "ipython3",
   "version": "3.7.9"
  }
 },
 "nbformat": 4,
 "nbformat_minor": 0
}