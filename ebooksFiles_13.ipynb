{
 "cells": [
  {
   "cell_type": "code",
   "execution_count": 3,
   "outputs": [],
   "source": [
    "import os\n",
    "import json\n",
    "import pickle\n",
    "import pandas as pd\n",
    "import numpy as np"
   ],
   "metadata": {
    "collapsed": false,
    "pycharm": {
     "name": "#%%\n"
    }
   }
  },
  {
   "cell_type": "code",
   "execution_count": 4,
   "outputs": [],
   "source": [
    "def is_unique(column):\n",
    "    value = column.to_numpy()\n",
    "    return (value[0] == value).all()"
   ],
   "metadata": {
    "collapsed": false,
    "pycharm": {
     "name": "#%%\n"
    }
   }
  },
  {
   "cell_type": "code",
   "execution_count": 5,
   "outputs": [],
   "source": [
    "with open('flat_dfs.pkl', 'rb') as f:\n",
    "    df = pickle.load(f)"
   ],
   "metadata": {
    "collapsed": false,
    "pycharm": {
     "name": "#%%\n"
    }
   }
  },
  {
   "cell_type": "code",
   "execution_count": 6,
   "outputs": [],
   "source": [
    "class dataframes:\n",
    "    def __init__(self):\n",
    "        self.ext = {}\n",
    "        self.counter = 0\n",
    "        self.extensions = df.groupby('檔案類型')\n",
    "        for extensions_name, extension_frame in self.extensions:\n",
    "            self.counter += 1\n",
    "            self.ext[extensions_name] = {}\n",
    "            extension_frame.sort_values(['資料夾', '組別'])\n",
    "            self.folders = extension_frame.groupby('資料夾')\n",
    "            self.root_drive = extension_frame.groupby(['磁碟機', '根目錄'])\n",
    "            for root_drive_name, root_drive_frame in self.root_drive:\n",
    "                drive, root = root_drive_name\n",
    "                name_drive_root = f'{drive}/{root}'\n",
    "                self.ext[extensions_name][name_drive_root] = root_drive_frame.sort_values('組別')"
   ],
   "metadata": {
    "collapsed": false,
    "pycharm": {
     "name": "#%%\n"
    }
   }
  },
  {
   "cell_type": "code",
   "execution_count": 7,
   "outputs": [],
   "source": [
    "data = dataframes()"
   ],
   "metadata": {
    "collapsed": false,
    "pycharm": {
     "name": "#%%\n"
    }
   }
  },
  {
   "cell_type": "code",
   "execution_count": 8,
   "outputs": [
    {
     "data": {
      "text/plain": "609"
     },
     "execution_count": 8,
     "metadata": {},
     "output_type": "execute_result"
    }
   ],
   "source": [
    "data.counter"
   ],
   "metadata": {
    "collapsed": false,
    "pycharm": {
     "name": "#%%\n"
    }
   }
  },
  {
   "cell_type": "code",
   "execution_count": 9,
   "outputs": [
    {
     "name": "stdout",
     "output_type": "stream",
     "text": [
      "609\n"
     ]
    }
   ],
   "source": [
    "with open('extension_zdf.pkl', 'rb') as f:\n",
    "    extension_df = pickle.load(f)\n",
    "print(len(extension_df))"
   ],
   "metadata": {
    "collapsed": false,
    "pycharm": {
     "name": "#%%\n"
    }
   }
  },
  {
   "cell_type": "code",
   "execution_count": 10,
   "outputs": [],
   "source": [
    "validated = []\n",
    "problematic = []\n",
    "unexpected = []"
   ],
   "metadata": {
    "collapsed": false,
    "pycharm": {
     "name": "#%%\n"
    }
   }
  },
  {
   "cell_type": "code",
   "execution_count": 11,
   "outputs": [
    {
     "ename": "AttributeError",
     "evalue": "'function' object has no attribute 'count'",
     "output_type": "error",
     "traceback": [
      "\u001B[1;31m---------------------------------------------------------------------------\u001B[0m",
      "\u001B[1;31mAttributeError\u001B[0m                            Traceback (most recent call last)",
      "\u001B[1;32m~\\AppData\\Local\\Temp/ipykernel_5216/2706316044.py\u001B[0m in \u001B[0;36m<module>\u001B[1;34m\u001B[0m\n\u001B[0;32m      6\u001B[0m             \u001B[0mcolumns\u001B[0m \u001B[1;33m=\u001B[0m \u001B[1;33m[\u001B[0m\u001B[1;33m]\u001B[0m\u001B[1;33m\u001B[0m\u001B[1;33m\u001B[0m\u001B[0m\n\u001B[0;32m      7\u001B[0m             \u001B[1;32mfor\u001B[0m \u001B[0mcolumn\u001B[0m \u001B[1;32min\u001B[0m \u001B[1;33m(\u001B[0m\u001B[1;34m'檔案名稱df'\u001B[0m\u001B[1;33m,\u001B[0m \u001B[1;34m'檔案名稱ddf'\u001B[0m\u001B[1;33m,\u001B[0m \u001B[1;34m'檔案名稱zdf'\u001B[0m\u001B[1;33m)\u001B[0m\u001B[1;33m:\u001B[0m\u001B[1;33m\u001B[0m\u001B[1;33m\u001B[0m\u001B[0m\n\u001B[1;32m----> 8\u001B[1;33m                 \u001B[1;32mif\u001B[0m \u001B[1;32mnot\u001B[0m \u001B[0mgroup_frame\u001B[0m\u001B[1;33m[\u001B[0m\u001B[0mcolumn\u001B[0m\u001B[1;33m]\u001B[0m\u001B[1;33m.\u001B[0m\u001B[0misna\u001B[0m\u001B[1;33m.\u001B[0m\u001B[0mcount\u001B[0m\u001B[1;33m(\u001B[0m\u001B[1;33m)\u001B[0m\u001B[1;33m:\u001B[0m\u001B[1;33m\u001B[0m\u001B[1;33m\u001B[0m\u001B[0m\n\u001B[0m\u001B[0;32m      9\u001B[0m                     columns.append({\n\u001B[0;32m     10\u001B[0m                         column: {\n",
      "\u001B[1;31mAttributeError\u001B[0m: 'function' object has no attribute 'count'"
     ]
    }
   ],
   "source": [
    "for ext in extension_df.index:\n",
    "    for folder_name_drive, folder_frame in data.ext[ext].items():\n",
    "        eval_groups = folder_frame.groupby('組別')\n",
    "        for group_name, group_frame in eval_groups:\n",
    "            drives = list(set(group_frame['磁碟機'].to_list()))\n",
    "            columns = []\n",
    "            for column in ('檔案名稱df', '檔案名稱ddf', '檔案名稱zdf'):\n",
    "                if not group_frame[column].isna.count():\n",
    "                    columns.append({\n",
    "                        column: {\n",
    "                            '檔案名稱相同': is_unique(group_frame[column]),\n",
    "                            '修改日期': is_unique(group_frame['修改日期'])\n",
    "                        }\n",
    "                    })\n",
    "            if columns and len(columns)==1 and len(drives)==1 and drives[0]=='E:':\n",
    "                evaluation_result = {\n",
    "                    '磁碟與路徑': folder_name_drive,\n",
    "                }\n",
    "                evaluation_result.update(columns)\n",
    "                validated.append(evaluation_result)\n",
    "            elif columns and len(columns)==2 and (group_frame[columns[0]] == group_frame[columns[1]]).all():\n",
    "                evaluation_result = {\n",
    "                    '磁碟與路徑': folder_name_drive,\n",
    "                }\n",
    "                evaluation_result.update(columns)\n",
    "                validated.append(evaluation_result)\n",
    "            elif columns and len(columns)==2 and (group_frame[columns[0]] != group_frame[columns[1]]).all():\n",
    "                evaluation_result = {\n",
    "                    '磁碟與路徑': folder_name_drive,\n",
    "                }\n",
    "                evaluation_result.update(columns)\n",
    "                problematic.append(evaluation_result)\n",
    "            else:\n",
    "                evaluation_result = {\n",
    "                    '磁碟與路徑': folder_name_drive,\n",
    "                }\n",
    "                if columns:\n",
    "                    evaluation_result.update(columns)\n",
    "                unexpected.append(evaluation_result)\n",
    "        print()"
   ],
   "metadata": {
    "collapsed": false,
    "pycharm": {
     "name": "#%%\n"
    }
   }
  },
  {
   "cell_type": "code",
   "execution_count": 11,
   "outputs": [
    {
     "data": {
      "text/plain": "dict_keys(['f_count', 'D:/MAME Games', 'D:/_eBooks 電子書 AI & BigData', 'E:/.ongoing_projects', 'E:/bokeh', 'E:/下載'])"
     },
     "execution_count": 11,
     "metadata": {},
     "output_type": "execute_result"
    }
   ],
   "source": [
    "data.ext['0'].keys()"
   ],
   "metadata": {
    "collapsed": false,
    "pycharm": {
     "name": "#%%\n"
    }
   }
  },
  {
   "cell_type": "code",
   "execution_count": 13,
   "outputs": [
    {
     "data": {
      "text/plain": "           完整路徑  檔案名稱ddf  檔案名稱zdf  檔案名稱df  大小  新增日期  修改日期  檔案類型  組別  磁碟機  根目錄\n資料夾                                                                          \n.libs         2        0        0       2   2     2     2     2   2    2    2\nbaselines     4        0        0       4   4     4     4     4   4    4    4\nca            2        2        0       2   2     2     2     2   2    2    2\nlegal         4        4        0       4   4     4     4     4   4    4    4",
      "text/html": "<div>\n<style scoped>\n    .dataframe tbody tr th:only-of-type {\n        vertical-align: middle;\n    }\n\n    .dataframe tbody tr th {\n        vertical-align: top;\n    }\n\n    .dataframe thead th {\n        text-align: right;\n    }\n</style>\n<table border=\"1\" class=\"dataframe\">\n  <thead>\n    <tr style=\"text-align: right;\">\n      <th></th>\n      <th>完整路徑</th>\n      <th>檔案名稱ddf</th>\n      <th>檔案名稱zdf</th>\n      <th>檔案名稱df</th>\n      <th>大小</th>\n      <th>新增日期</th>\n      <th>修改日期</th>\n      <th>檔案類型</th>\n      <th>組別</th>\n      <th>磁碟機</th>\n      <th>根目錄</th>\n    </tr>\n    <tr>\n      <th>資料夾</th>\n      <th></th>\n      <th></th>\n      <th></th>\n      <th></th>\n      <th></th>\n      <th></th>\n      <th></th>\n      <th></th>\n      <th></th>\n      <th></th>\n      <th></th>\n    </tr>\n  </thead>\n  <tbody>\n    <tr>\n      <th>.libs</th>\n      <td>2</td>\n      <td>0</td>\n      <td>0</td>\n      <td>2</td>\n      <td>2</td>\n      <td>2</td>\n      <td>2</td>\n      <td>2</td>\n      <td>2</td>\n      <td>2</td>\n      <td>2</td>\n    </tr>\n    <tr>\n      <th>baselines</th>\n      <td>4</td>\n      <td>0</td>\n      <td>0</td>\n      <td>4</td>\n      <td>4</td>\n      <td>4</td>\n      <td>4</td>\n      <td>4</td>\n      <td>4</td>\n      <td>4</td>\n      <td>4</td>\n    </tr>\n    <tr>\n      <th>ca</th>\n      <td>2</td>\n      <td>2</td>\n      <td>0</td>\n      <td>2</td>\n      <td>2</td>\n      <td>2</td>\n      <td>2</td>\n      <td>2</td>\n      <td>2</td>\n      <td>2</td>\n      <td>2</td>\n    </tr>\n    <tr>\n      <th>legal</th>\n      <td>4</td>\n      <td>4</td>\n      <td>0</td>\n      <td>4</td>\n      <td>4</td>\n      <td>4</td>\n      <td>4</td>\n      <td>4</td>\n      <td>4</td>\n      <td>4</td>\n      <td>4</td>\n    </tr>\n  </tbody>\n</table>\n</div>"
     },
     "execution_count": 13,
     "metadata": {},
     "output_type": "execute_result"
    }
   ],
   "source": [
    "data.ext['0']['f_count']"
   ],
   "metadata": {
    "collapsed": false,
    "pycharm": {
     "name": "#%%\n"
    }
   }
  },
  {
   "cell_type": "code",
   "execution_count": 14,
   "outputs": [
    {
     "data": {
      "text/plain": "                                                    完整路徑  檔案名稱ddf 檔案名稱zdf  \\\n230382                  D:\\MAME Games\\docs\\legal\\BSL-1.0  BSL-1.0     NaN   \n230384  D:\\MAME Games\\mame0238b_64bit\\docs\\legal\\BSL-1.0  BSL-1.0     NaN   \n230383                  D:\\MAME Games\\docs\\legal\\GPL-2.0  GPL-2.0     NaN   \n230385  D:\\MAME Games\\mame0238b_64bit\\docs\\legal\\GPL-2.0  GPL-2.0     NaN   \n\n         檔案名稱df       大小                    新增日期                    修改日期 檔案類型  \\\n230382  BSL-1.0   1304.0  2021/12/18 下午 05:24:00   2020/5/19 上午 11:10:36    0   \n230384  BSL-1.0   1304.0  2021/12/18 下午 05:46:34  2021/11/24 上午 03:39:41    0   \n230383  GPL-2.0  18299.0  2021/12/18 下午 05:24:00   2020/5/19 上午 11:10:36    0   \n230385  GPL-2.0  18299.0  2021/12/18 下午 05:46:34  2021/11/24 上午 03:39:41    0   \n\n            組別 磁碟機         根目錄    資料夾  \n230382  2985.0  D:  MAME Games  legal  \n230384  2985.0  D:  MAME Games  legal  \n230383  2986.0  D:  MAME Games  legal  \n230385  2986.0  D:  MAME Games  legal  ",
      "text/html": "<div>\n<style scoped>\n    .dataframe tbody tr th:only-of-type {\n        vertical-align: middle;\n    }\n\n    .dataframe tbody tr th {\n        vertical-align: top;\n    }\n\n    .dataframe thead th {\n        text-align: right;\n    }\n</style>\n<table border=\"1\" class=\"dataframe\">\n  <thead>\n    <tr style=\"text-align: right;\">\n      <th></th>\n      <th>完整路徑</th>\n      <th>檔案名稱ddf</th>\n      <th>檔案名稱zdf</th>\n      <th>檔案名稱df</th>\n      <th>大小</th>\n      <th>新增日期</th>\n      <th>修改日期</th>\n      <th>檔案類型</th>\n      <th>組別</th>\n      <th>磁碟機</th>\n      <th>根目錄</th>\n      <th>資料夾</th>\n    </tr>\n  </thead>\n  <tbody>\n    <tr>\n      <th>230382</th>\n      <td>D:\\MAME Games\\docs\\legal\\BSL-1.0</td>\n      <td>BSL-1.0</td>\n      <td>NaN</td>\n      <td>BSL-1.0</td>\n      <td>1304.0</td>\n      <td>2021/12/18 下午 05:24:00</td>\n      <td>2020/5/19 上午 11:10:36</td>\n      <td>0</td>\n      <td>2985.0</td>\n      <td>D:</td>\n      <td>MAME Games</td>\n      <td>legal</td>\n    </tr>\n    <tr>\n      <th>230384</th>\n      <td>D:\\MAME Games\\mame0238b_64bit\\docs\\legal\\BSL-1.0</td>\n      <td>BSL-1.0</td>\n      <td>NaN</td>\n      <td>BSL-1.0</td>\n      <td>1304.0</td>\n      <td>2021/12/18 下午 05:46:34</td>\n      <td>2021/11/24 上午 03:39:41</td>\n      <td>0</td>\n      <td>2985.0</td>\n      <td>D:</td>\n      <td>MAME Games</td>\n      <td>legal</td>\n    </tr>\n    <tr>\n      <th>230383</th>\n      <td>D:\\MAME Games\\docs\\legal\\GPL-2.0</td>\n      <td>GPL-2.0</td>\n      <td>NaN</td>\n      <td>GPL-2.0</td>\n      <td>18299.0</td>\n      <td>2021/12/18 下午 05:24:00</td>\n      <td>2020/5/19 上午 11:10:36</td>\n      <td>0</td>\n      <td>2986.0</td>\n      <td>D:</td>\n      <td>MAME Games</td>\n      <td>legal</td>\n    </tr>\n    <tr>\n      <th>230385</th>\n      <td>D:\\MAME Games\\mame0238b_64bit\\docs\\legal\\GPL-2.0</td>\n      <td>GPL-2.0</td>\n      <td>NaN</td>\n      <td>GPL-2.0</td>\n      <td>18299.0</td>\n      <td>2021/12/18 下午 05:46:34</td>\n      <td>2021/11/24 上午 03:39:41</td>\n      <td>0</td>\n      <td>2986.0</td>\n      <td>D:</td>\n      <td>MAME Games</td>\n      <td>legal</td>\n    </tr>\n  </tbody>\n</table>\n</div>"
     },
     "execution_count": 14,
     "metadata": {},
     "output_type": "execute_result"
    }
   ],
   "source": [
    "data.ext['0']['D:/MAME Games']"
   ],
   "metadata": {
    "collapsed": false,
    "pycharm": {
     "name": "#%%\n"
    }
   }
  },
  {
   "cell_type": "code",
   "execution_count": 15,
   "outputs": [
    {
     "data": {
      "text/plain": "                                                     完整路徑     檔案名稱ddf 檔案名稱zdf  \\\n230386  D:\\_eBooks 電子書 AI & BigData\\AI + 大數據 用 Python ...  08bd99c7.0     NaN   \n230387  D:\\_eBooks 電子書 AI & BigData\\AI + 大數據 用 Python ...  ade0138a.0     NaN   \n\n            檔案名稱df      大小                   新增日期                  修改日期 檔案類型  \\\n230386  08bd99c7.0  1164.0  2021/8/18 上午 01:09:55  2016/9/6 上午 09:05:42    0   \n230387  ade0138a.0  1164.0  2021/8/18 上午 01:09:56  2016/9/6 上午 09:05:42    0   \n\n            組別 磁碟機                       根目錄 資料夾  \n230386  6123.0  D:  _eBooks 電子書 AI & BigData  ca  \n230387  6123.0  D:  _eBooks 電子書 AI & BigData  ca  ",
      "text/html": "<div>\n<style scoped>\n    .dataframe tbody tr th:only-of-type {\n        vertical-align: middle;\n    }\n\n    .dataframe tbody tr th {\n        vertical-align: top;\n    }\n\n    .dataframe thead th {\n        text-align: right;\n    }\n</style>\n<table border=\"1\" class=\"dataframe\">\n  <thead>\n    <tr style=\"text-align: right;\">\n      <th></th>\n      <th>完整路徑</th>\n      <th>檔案名稱ddf</th>\n      <th>檔案名稱zdf</th>\n      <th>檔案名稱df</th>\n      <th>大小</th>\n      <th>新增日期</th>\n      <th>修改日期</th>\n      <th>檔案類型</th>\n      <th>組別</th>\n      <th>磁碟機</th>\n      <th>根目錄</th>\n      <th>資料夾</th>\n    </tr>\n  </thead>\n  <tbody>\n    <tr>\n      <th>230386</th>\n      <td>D:\\_eBooks 電子書 AI &amp; BigData\\AI + 大數據 用 Python ...</td>\n      <td>08bd99c7.0</td>\n      <td>NaN</td>\n      <td>08bd99c7.0</td>\n      <td>1164.0</td>\n      <td>2021/8/18 上午 01:09:55</td>\n      <td>2016/9/6 上午 09:05:42</td>\n      <td>0</td>\n      <td>6123.0</td>\n      <td>D:</td>\n      <td>_eBooks 電子書 AI &amp; BigData</td>\n      <td>ca</td>\n    </tr>\n    <tr>\n      <th>230387</th>\n      <td>D:\\_eBooks 電子書 AI &amp; BigData\\AI + 大數據 用 Python ...</td>\n      <td>ade0138a.0</td>\n      <td>NaN</td>\n      <td>ade0138a.0</td>\n      <td>1164.0</td>\n      <td>2021/8/18 上午 01:09:56</td>\n      <td>2016/9/6 上午 09:05:42</td>\n      <td>0</td>\n      <td>6123.0</td>\n      <td>D:</td>\n      <td>_eBooks 電子書 AI &amp; BigData</td>\n      <td>ca</td>\n    </tr>\n  </tbody>\n</table>\n</div>"
     },
     "execution_count": 15,
     "metadata": {},
     "output_type": "execute_result"
    }
   ],
   "source": [
    "data.ext['0']['D:/_eBooks 電子書 AI & BigData']"
   ],
   "metadata": {
    "collapsed": false,
    "pycharm": {
     "name": "#%%\n"
    }
   }
  },
  {
   "cell_type": "code",
   "execution_count": 16,
   "outputs": [
    {
     "data": {
      "text/plain": "                                                     完整路徑 檔案名稱ddf 檔案名稱zdf  \\\n608446  E:\\.ongoing_projects\\typl_aws_ubuntu_Backup\\do...     NaN     NaN   \n608447  E:\\.ongoing_projects\\typl_aws_ubuntu_Backup\\do...     NaN     NaN   \n\n                    檔案名稱df         大小                   新增日期  \\\n608446      libta_lib.so.0  3090808.0  2021/8/18 上午 12:58:39   \n608447  libta_lib.so.0.0.0  3090808.0  2021/8/18 上午 12:58:39   \n\n                          修改日期 檔案類型        組別 磁碟機                根目錄    資料夾  \n608446  2020/11/28 上午 12:28:29    0  162458.0  E:  .ongoing_projects  .libs  \n608447  2020/11/28 上午 12:28:29    0  162458.0  E:  .ongoing_projects  .libs  ",
      "text/html": "<div>\n<style scoped>\n    .dataframe tbody tr th:only-of-type {\n        vertical-align: middle;\n    }\n\n    .dataframe tbody tr th {\n        vertical-align: top;\n    }\n\n    .dataframe thead th {\n        text-align: right;\n    }\n</style>\n<table border=\"1\" class=\"dataframe\">\n  <thead>\n    <tr style=\"text-align: right;\">\n      <th></th>\n      <th>完整路徑</th>\n      <th>檔案名稱ddf</th>\n      <th>檔案名稱zdf</th>\n      <th>檔案名稱df</th>\n      <th>大小</th>\n      <th>新增日期</th>\n      <th>修改日期</th>\n      <th>檔案類型</th>\n      <th>組別</th>\n      <th>磁碟機</th>\n      <th>根目錄</th>\n      <th>資料夾</th>\n    </tr>\n  </thead>\n  <tbody>\n    <tr>\n      <th>608446</th>\n      <td>E:\\.ongoing_projects\\typl_aws_ubuntu_Backup\\do...</td>\n      <td>NaN</td>\n      <td>NaN</td>\n      <td>libta_lib.so.0</td>\n      <td>3090808.0</td>\n      <td>2021/8/18 上午 12:58:39</td>\n      <td>2020/11/28 上午 12:28:29</td>\n      <td>0</td>\n      <td>162458.0</td>\n      <td>E:</td>\n      <td>.ongoing_projects</td>\n      <td>.libs</td>\n    </tr>\n    <tr>\n      <th>608447</th>\n      <td>E:\\.ongoing_projects\\typl_aws_ubuntu_Backup\\do...</td>\n      <td>NaN</td>\n      <td>NaN</td>\n      <td>libta_lib.so.0.0.0</td>\n      <td>3090808.0</td>\n      <td>2021/8/18 上午 12:58:39</td>\n      <td>2020/11/28 上午 12:28:29</td>\n      <td>0</td>\n      <td>162458.0</td>\n      <td>E:</td>\n      <td>.ongoing_projects</td>\n      <td>.libs</td>\n    </tr>\n  </tbody>\n</table>\n</div>"
     },
     "execution_count": 16,
     "metadata": {},
     "output_type": "execute_result"
    }
   ],
   "source": [
    "data.ext['0']['E:/.ongoing_projects']"
   ],
   "metadata": {
    "collapsed": false,
    "pycharm": {
     "name": "#%%\n"
    }
   }
  },
  {
   "cell_type": "code",
   "execution_count": 17,
   "outputs": [
    {
     "data": {
      "text/plain": "                                                     完整路徑 檔案名稱ddf 檔案名稱zdf  \\\n611605  E:\\bokeh\\bokehjs\\test\\baselines\\Plot__should_a...     NaN     NaN   \n611606  E:\\bokeh\\bokehjs\\test\\baselines\\Plot__should_a...     NaN     NaN   \n\n                                                 檔案名稱df     大小  \\\n611605  Plot__should_allow_fixed_x_max_plot,_aspect_1.0  170.0   \n611606  Plot__should_allow_max_x_fixed_plot,_aspect_1.0  170.0   \n\n                         新增日期                   修改日期 檔案類型        組別 磁碟機  \\\n611605  2021/8/18 上午 01:07:00  2021/1/11 下午 10:18:40    0  163828.0  E:   \n611606  2021/8/18 上午 01:07:00  2021/1/11 下午 10:18:40    0  163828.0  E:   \n\n          根目錄        資料夾  \n611605  bokeh  baselines  \n611606  bokeh  baselines  ",
      "text/html": "<div>\n<style scoped>\n    .dataframe tbody tr th:only-of-type {\n        vertical-align: middle;\n    }\n\n    .dataframe tbody tr th {\n        vertical-align: top;\n    }\n\n    .dataframe thead th {\n        text-align: right;\n    }\n</style>\n<table border=\"1\" class=\"dataframe\">\n  <thead>\n    <tr style=\"text-align: right;\">\n      <th></th>\n      <th>完整路徑</th>\n      <th>檔案名稱ddf</th>\n      <th>檔案名稱zdf</th>\n      <th>檔案名稱df</th>\n      <th>大小</th>\n      <th>新增日期</th>\n      <th>修改日期</th>\n      <th>檔案類型</th>\n      <th>組別</th>\n      <th>磁碟機</th>\n      <th>根目錄</th>\n      <th>資料夾</th>\n    </tr>\n  </thead>\n  <tbody>\n    <tr>\n      <th>611605</th>\n      <td>E:\\bokeh\\bokehjs\\test\\baselines\\Plot__should_a...</td>\n      <td>NaN</td>\n      <td>NaN</td>\n      <td>Plot__should_allow_fixed_x_max_plot,_aspect_1.0</td>\n      <td>170.0</td>\n      <td>2021/8/18 上午 01:07:00</td>\n      <td>2021/1/11 下午 10:18:40</td>\n      <td>0</td>\n      <td>163828.0</td>\n      <td>E:</td>\n      <td>bokeh</td>\n      <td>baselines</td>\n    </tr>\n    <tr>\n      <th>611606</th>\n      <td>E:\\bokeh\\bokehjs\\test\\baselines\\Plot__should_a...</td>\n      <td>NaN</td>\n      <td>NaN</td>\n      <td>Plot__should_allow_max_x_fixed_plot,_aspect_1.0</td>\n      <td>170.0</td>\n      <td>2021/8/18 上午 01:07:00</td>\n      <td>2021/1/11 下午 10:18:40</td>\n      <td>0</td>\n      <td>163828.0</td>\n      <td>E:</td>\n      <td>bokeh</td>\n      <td>baselines</td>\n    </tr>\n  </tbody>\n</table>\n</div>"
     },
     "execution_count": 17,
     "metadata": {},
     "output_type": "execute_result"
    }
   ],
   "source": [
    "data.ext['0']['E:/bokeh']"
   ],
   "metadata": {
    "collapsed": false,
    "pycharm": {
     "name": "#%%\n"
    }
   }
  },
  {
   "cell_type": "code",
   "execution_count": 18,
   "outputs": [
    {
     "data": {
      "text/plain": "                                                     完整路徑 檔案名稱ddf 檔案名稱zdf  \\\n613619  E:\\下載\\bokeh-2.2.3\\bokeh-2.2.3\\bokehjs\\test\\bas...     NaN     NaN   \n613620  E:\\下載\\bokeh-2.2.3\\bokeh-2.2.3\\bokehjs\\test\\bas...     NaN     NaN   \n\n                                                 檔案名稱df     大小  \\\n613619  Plot__should_allow_fixed_x_max_plot,_aspect_1.0  165.0   \n613620  Plot__should_allow_max_x_fixed_plot,_aspect_1.0  165.0   \n\n                         新增日期                    修改日期 檔案類型        組別 磁碟機 根目錄  \\\n613619  2021/8/18 上午 12:56:37  2020/10/20 上午 03:17:16    0  164731.0  E:  下載   \n613620  2021/8/18 上午 12:56:37  2020/10/20 上午 03:17:16    0  164731.0  E:  下載   \n\n              資料夾  \n613619  baselines  \n613620  baselines  ",
      "text/html": "<div>\n<style scoped>\n    .dataframe tbody tr th:only-of-type {\n        vertical-align: middle;\n    }\n\n    .dataframe tbody tr th {\n        vertical-align: top;\n    }\n\n    .dataframe thead th {\n        text-align: right;\n    }\n</style>\n<table border=\"1\" class=\"dataframe\">\n  <thead>\n    <tr style=\"text-align: right;\">\n      <th></th>\n      <th>完整路徑</th>\n      <th>檔案名稱ddf</th>\n      <th>檔案名稱zdf</th>\n      <th>檔案名稱df</th>\n      <th>大小</th>\n      <th>新增日期</th>\n      <th>修改日期</th>\n      <th>檔案類型</th>\n      <th>組別</th>\n      <th>磁碟機</th>\n      <th>根目錄</th>\n      <th>資料夾</th>\n    </tr>\n  </thead>\n  <tbody>\n    <tr>\n      <th>613619</th>\n      <td>E:\\下載\\bokeh-2.2.3\\bokeh-2.2.3\\bokehjs\\test\\bas...</td>\n      <td>NaN</td>\n      <td>NaN</td>\n      <td>Plot__should_allow_fixed_x_max_plot,_aspect_1.0</td>\n      <td>165.0</td>\n      <td>2021/8/18 上午 12:56:37</td>\n      <td>2020/10/20 上午 03:17:16</td>\n      <td>0</td>\n      <td>164731.0</td>\n      <td>E:</td>\n      <td>下載</td>\n      <td>baselines</td>\n    </tr>\n    <tr>\n      <th>613620</th>\n      <td>E:\\下載\\bokeh-2.2.3\\bokeh-2.2.3\\bokehjs\\test\\bas...</td>\n      <td>NaN</td>\n      <td>NaN</td>\n      <td>Plot__should_allow_max_x_fixed_plot,_aspect_1.0</td>\n      <td>165.0</td>\n      <td>2021/8/18 上午 12:56:37</td>\n      <td>2020/10/20 上午 03:17:16</td>\n      <td>0</td>\n      <td>164731.0</td>\n      <td>E:</td>\n      <td>下載</td>\n      <td>baselines</td>\n    </tr>\n  </tbody>\n</table>\n</div>"
     },
     "execution_count": 18,
     "metadata": {},
     "output_type": "execute_result"
    }
   ],
   "source": [
    "data.ext['0']['E:/下載']"
   ],
   "metadata": {
    "collapsed": false,
    "pycharm": {
     "name": "#%%\n"
    }
   }
  },
  {
   "cell_type": "code",
   "execution_count": 20,
   "outputs": [],
   "source": [
    "with open('extension_zdf.pkl', 'rb') as f:\n",
    "    extension_df = pickle.load(f)"
   ],
   "metadata": {
    "collapsed": false,
    "pycharm": {
     "name": "#%%\n"
    }
   }
  },
  {
   "cell_type": "code",
   "execution_count": 21,
   "outputs": [
    {
     "data": {
      "text/plain": "                描述\n0             0 檔案\n002         002 檔案\n003         003 檔案\n004         004 檔案\n1             1 檔案\n..             ...\nini           組態設定\nurl         網際網路捷徑\nCHM  編譯的 HTML 說明檔案\nchm  編譯的 HTML 說明檔案\ncss       階層式樣式表文件\n\n[609 rows x 1 columns]",
      "text/html": "<div>\n<style scoped>\n    .dataframe tbody tr th:only-of-type {\n        vertical-align: middle;\n    }\n\n    .dataframe tbody tr th {\n        vertical-align: top;\n    }\n\n    .dataframe thead th {\n        text-align: right;\n    }\n</style>\n<table border=\"1\" class=\"dataframe\">\n  <thead>\n    <tr style=\"text-align: right;\">\n      <th></th>\n      <th>描述</th>\n    </tr>\n  </thead>\n  <tbody>\n    <tr>\n      <th>0</th>\n      <td>0 檔案</td>\n    </tr>\n    <tr>\n      <th>002</th>\n      <td>002 檔案</td>\n    </tr>\n    <tr>\n      <th>003</th>\n      <td>003 檔案</td>\n    </tr>\n    <tr>\n      <th>004</th>\n      <td>004 檔案</td>\n    </tr>\n    <tr>\n      <th>1</th>\n      <td>1 檔案</td>\n    </tr>\n    <tr>\n      <th>...</th>\n      <td>...</td>\n    </tr>\n    <tr>\n      <th>ini</th>\n      <td>組態設定</td>\n    </tr>\n    <tr>\n      <th>url</th>\n      <td>網際網路捷徑</td>\n    </tr>\n    <tr>\n      <th>CHM</th>\n      <td>編譯的 HTML 說明檔案</td>\n    </tr>\n    <tr>\n      <th>chm</th>\n      <td>編譯的 HTML 說明檔案</td>\n    </tr>\n    <tr>\n      <th>css</th>\n      <td>階層式樣式表文件</td>\n    </tr>\n  </tbody>\n</table>\n<p>609 rows × 1 columns</p>\n</div>"
     },
     "execution_count": 21,
     "metadata": {},
     "output_type": "execute_result"
    }
   ],
   "source": [
    "extension_df"
   ],
   "metadata": {
    "collapsed": false,
    "pycharm": {
     "name": "#%%\n"
    }
   }
  },
  {
   "cell_type": "code",
   "execution_count": 22,
   "outputs": [],
   "source": [
    "ndf = pd.DataFrame()"
   ],
   "metadata": {
    "collapsed": false,
    "pycharm": {
     "name": "#%%\n"
    }
   }
  },
  {
   "cell_type": "code",
   "execution_count": 23,
   "outputs": [],
   "source": [
    "eval_df = data.ext['0']['D:/MAME Games']"
   ],
   "metadata": {
    "collapsed": false,
    "pycharm": {
     "name": "#%%\n"
    }
   }
  },
  {
   "cell_type": "code",
   "execution_count": 26,
   "outputs": [
    {
     "data": {
      "text/plain": "True"
     },
     "execution_count": 26,
     "metadata": {},
     "output_type": "execute_result"
    }
   ],
   "source": [
    "(eval_df['檔案名稱ddf'] == eval_df['檔案名稱df']).all()"
   ],
   "metadata": {
    "collapsed": false,
    "pycharm": {
     "name": "#%%\n"
    }
   }
  },
  {
   "cell_type": "code",
   "execution_count": 29,
   "outputs": [
    {
     "data": {
      "text/plain": "False"
     },
     "execution_count": 29,
     "metadata": {},
     "output_type": "execute_result"
    }
   ],
   "source": [
    "(eval_df['檔案名稱zdf'] == eval_df['檔案名稱df']).all()"
   ],
   "metadata": {
    "collapsed": false,
    "pycharm": {
     "name": "#%%\n"
    }
   }
  },
  {
   "cell_type": "code",
   "execution_count": 30,
   "outputs": [
    {
     "data": {
      "text/plain": "False"
     },
     "execution_count": 30,
     "metadata": {},
     "output_type": "execute_result"
    }
   ],
   "source": [
    "(eval_df['檔案名稱ddf'] == eval_df['檔案名稱zdf']).all()"
   ],
   "metadata": {
    "collapsed": false,
    "pycharm": {
     "name": "#%%\n"
    }
   }
  },
  {
   "cell_type": "code",
   "execution_count": 31,
   "outputs": [],
   "source": [
    "def is_unique(column):\n",
    "    value = column.to_numpy()\n",
    "    return (value[0] == value).all()"
   ],
   "metadata": {
    "collapsed": false,
    "pycharm": {
     "name": "#%%\n"
    }
   }
  },
  {
   "cell_type": "code",
   "execution_count": 35,
   "outputs": [],
   "source": [
    "x = eval_df.groupby('組別')"
   ],
   "metadata": {
    "collapsed": false,
    "pycharm": {
     "name": "#%%\n"
    }
   }
  },
  {
   "cell_type": "code",
   "execution_count": 36,
   "outputs": [
    {
     "data": {
      "text/plain": "2"
     },
     "execution_count": 36,
     "metadata": {},
     "output_type": "execute_result"
    }
   ],
   "source": [
    "x.ngroups"
   ],
   "metadata": {
    "collapsed": false,
    "pycharm": {
     "name": "#%%\n"
    }
   }
  },
  {
   "cell_type": "code",
   "execution_count": 40,
   "outputs": [
    {
     "name": "stdout",
     "output_type": "stream",
     "text": [
      "2985 True False\n",
      "2986 True False\n"
     ]
    }
   ],
   "source": [
    "for name, group in x:\n",
    "    print(round(name), is_unique(group['檔案名稱ddf']), is_unique(group['修改日期']))"
   ],
   "metadata": {
    "collapsed": false,
    "pycharm": {
     "name": "#%%\n"
    }
   }
  },
  {
   "cell_type": "code",
   "execution_count": null,
   "outputs": [],
   "source": [],
   "metadata": {
    "collapsed": false,
    "pycharm": {
     "name": "#%%\n"
    }
   }
  }
 ],
 "metadata": {
  "kernelspec": {
   "display_name": "Python 3",
   "language": "python",
   "name": "python3"
  },
  "language_info": {
   "codemirror_mode": {
    "name": "ipython",
    "version": 3
   },
   "file_extension": ".py",
   "mimetype": "text/x-python",
   "name": "python",
   "nbconvert_exporter": "python",
   "pygments_lexer": "ipython3",
   "version": "3.7.9"
  }
 },
 "nbformat": 4,
 "nbformat_minor": 0
}