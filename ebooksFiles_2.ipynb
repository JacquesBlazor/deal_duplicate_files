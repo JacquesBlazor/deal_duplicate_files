{
 "cells": [
  {
   "cell_type": "code",
   "execution_count": 1,
   "metadata": {
    "collapsed": false,
    "pycharm": {
     "name": "#%%\n"
    }
   },
   "outputs": [],
   "source": [
    "import os\n",
    "import pickle\n",
    "import pandas as pd"
   ]
  },
  {
   "cell_type": "code",
   "execution_count": 8,
   "outputs": [
    {
     "data": {
      "text/plain": "                                                     檔案名稱  \\\n0                      8分鐘搞懂技術分析：RSI的重要價值-WUwaMVSCDYY.mp4   \n1                  2015-08-25_2152_技術分析教學_快速搞懂RSI技術指標.mp4   \n2                      8分鐘搞懂技術分析：RSI的重要價值-WUwaMVSCDYY.mp4   \n3                      8分鐘搞懂技術分析：RSI的重要價值-WUwaMVSCDYY.mp4   \n4                  2015-08-25_2152_技術分析教學_快速搞懂RSI技術指標.mp4   \n...                                                   ...   \n468164  Microsoft.CodeDom.Providers.DotNetCompilerPlat...   \n468165  Microsoft.CodeDom.Providers.DotNetCompilerPlat...   \n468166  Microsoft.CodeDom.Providers.DotNetCompilerPlat...   \n468167                               LaunchScreen.strings   \n468168                               LaunchScreen.strings   \n\n                                                       路徑        大小  \\\n0                       Z:\\8分鐘搞懂理財知識_新手教室 Youtube 投資影片教學\\  25612876   \n1                                     Z:\\8分鐘搞懂理財知識_重新整理過\\  25612876   \n2                                      Z:\\Youtube 投資影片教學\\  25612876   \n3        D:\\8分鐘搞懂理財知識\\_8分鐘搞懂理財知識_原來的 新手教室 Youtube 投資影片教學\\  25612876   \n4                 D:\\8分鐘搞懂理財知識\\_8分鐘搞懂理財知識_整理的 Youtube 影片\\  25612876   \n...                                                   ...       ...   \n468164  Z:\\資訊書籍文件\\Visual C# 一次就懂 ASP.NET MVC5.X 網站開發 W...      5530   \n468165  Z:\\資訊書籍文件\\Visual C# 一次就懂 ASP.NET MVC5.X 網站開發 W...      5530   \n468166  Z:\\資訊書籍文件\\Visual C# 一次就懂 ASP.NET MVC5.X 網站開發 W...      5530   \n468167  Z:\\資訊書籍文件\\iOS 13 程式設計實戰 Swift 5.1SwiftUI 框架 快速...         1   \n468168  Z:\\資訊書籍文件\\iOS 13 程式設計實戰 Swift 5.1SwiftUI 框架 快速...         1   \n\n                         新增日期                    修改日期      檔案類型      組別  \n0       2021/5/10 下午 05:08:28  2018/11/14 下午 02:12:09      .mp4       1  \n1       2021/5/11 上午 03:06:53   2021/5/11 上午 02:58:44      .mp4       1  \n2       2021/5/10 下午 04:04:52  2018/11/14 下午 02:12:09      .mp4       1  \n3       2021/8/18 上午 02:37:16  2018/11/14 下午 02:12:09      .mp4       1  \n4       2021/8/18 上午 02:38:06   2021/5/11 上午 02:58:44      .mp4       1  \n...                       ...                     ...       ...     ...  \n468164   2020/3/7 下午 08:06:24   2018/5/24 上午 05:38:22    .props  167210  \n468165   2020/3/7 下午 08:09:52   2018/5/24 上午 05:38:22    .props  167210  \n468166   2020/3/7 下午 08:09:53   2018/5/24 上午 05:38:22    .props  167210  \n468167  2020/2/10 上午 07:58:08   2019/7/31 上午 07:20:26  .strings  167211  \n468168  2020/2/10 上午 07:58:08   2019/7/31 上午 07:20:24  .strings  167211  \n\n[468169 rows x 7 columns]",
      "text/html": "<div>\n<style scoped>\n    .dataframe tbody tr th:only-of-type {\n        vertical-align: middle;\n    }\n\n    .dataframe tbody tr th {\n        vertical-align: top;\n    }\n\n    .dataframe thead th {\n        text-align: right;\n    }\n</style>\n<table border=\"1\" class=\"dataframe\">\n  <thead>\n    <tr style=\"text-align: right;\">\n      <th></th>\n      <th>檔案名稱</th>\n      <th>路徑</th>\n      <th>大小</th>\n      <th>新增日期</th>\n      <th>修改日期</th>\n      <th>檔案類型</th>\n      <th>組別</th>\n    </tr>\n  </thead>\n  <tbody>\n    <tr>\n      <th>0</th>\n      <td>8分鐘搞懂技術分析：RSI的重要價值-WUwaMVSCDYY.mp4</td>\n      <td>Z:\\8分鐘搞懂理財知識_新手教室 Youtube 投資影片教學\\</td>\n      <td>25612876</td>\n      <td>2021/5/10 下午 05:08:28</td>\n      <td>2018/11/14 下午 02:12:09</td>\n      <td>.mp4</td>\n      <td>1</td>\n    </tr>\n    <tr>\n      <th>1</th>\n      <td>2015-08-25_2152_技術分析教學_快速搞懂RSI技術指標.mp4</td>\n      <td>Z:\\8分鐘搞懂理財知識_重新整理過\\</td>\n      <td>25612876</td>\n      <td>2021/5/11 上午 03:06:53</td>\n      <td>2021/5/11 上午 02:58:44</td>\n      <td>.mp4</td>\n      <td>1</td>\n    </tr>\n    <tr>\n      <th>2</th>\n      <td>8分鐘搞懂技術分析：RSI的重要價值-WUwaMVSCDYY.mp4</td>\n      <td>Z:\\Youtube 投資影片教學\\</td>\n      <td>25612876</td>\n      <td>2021/5/10 下午 04:04:52</td>\n      <td>2018/11/14 下午 02:12:09</td>\n      <td>.mp4</td>\n      <td>1</td>\n    </tr>\n    <tr>\n      <th>3</th>\n      <td>8分鐘搞懂技術分析：RSI的重要價值-WUwaMVSCDYY.mp4</td>\n      <td>D:\\8分鐘搞懂理財知識\\_8分鐘搞懂理財知識_原來的 新手教室 Youtube 投資影片教學\\</td>\n      <td>25612876</td>\n      <td>2021/8/18 上午 02:37:16</td>\n      <td>2018/11/14 下午 02:12:09</td>\n      <td>.mp4</td>\n      <td>1</td>\n    </tr>\n    <tr>\n      <th>4</th>\n      <td>2015-08-25_2152_技術分析教學_快速搞懂RSI技術指標.mp4</td>\n      <td>D:\\8分鐘搞懂理財知識\\_8分鐘搞懂理財知識_整理的 Youtube 影片\\</td>\n      <td>25612876</td>\n      <td>2021/8/18 上午 02:38:06</td>\n      <td>2021/5/11 上午 02:58:44</td>\n      <td>.mp4</td>\n      <td>1</td>\n    </tr>\n    <tr>\n      <th>...</th>\n      <td>...</td>\n      <td>...</td>\n      <td>...</td>\n      <td>...</td>\n      <td>...</td>\n      <td>...</td>\n      <td>...</td>\n    </tr>\n    <tr>\n      <th>468164</th>\n      <td>Microsoft.CodeDom.Providers.DotNetCompilerPlat...</td>\n      <td>Z:\\資訊書籍文件\\Visual C# 一次就懂 ASP.NET MVC5.X 網站開發 W...</td>\n      <td>5530</td>\n      <td>2020/3/7 下午 08:06:24</td>\n      <td>2018/5/24 上午 05:38:22</td>\n      <td>.props</td>\n      <td>167210</td>\n    </tr>\n    <tr>\n      <th>468165</th>\n      <td>Microsoft.CodeDom.Providers.DotNetCompilerPlat...</td>\n      <td>Z:\\資訊書籍文件\\Visual C# 一次就懂 ASP.NET MVC5.X 網站開發 W...</td>\n      <td>5530</td>\n      <td>2020/3/7 下午 08:09:52</td>\n      <td>2018/5/24 上午 05:38:22</td>\n      <td>.props</td>\n      <td>167210</td>\n    </tr>\n    <tr>\n      <th>468166</th>\n      <td>Microsoft.CodeDom.Providers.DotNetCompilerPlat...</td>\n      <td>Z:\\資訊書籍文件\\Visual C# 一次就懂 ASP.NET MVC5.X 網站開發 W...</td>\n      <td>5530</td>\n      <td>2020/3/7 下午 08:09:53</td>\n      <td>2018/5/24 上午 05:38:22</td>\n      <td>.props</td>\n      <td>167210</td>\n    </tr>\n    <tr>\n      <th>468167</th>\n      <td>LaunchScreen.strings</td>\n      <td>Z:\\資訊書籍文件\\iOS 13 程式設計實戰 Swift 5.1SwiftUI 框架 快速...</td>\n      <td>1</td>\n      <td>2020/2/10 上午 07:58:08</td>\n      <td>2019/7/31 上午 07:20:26</td>\n      <td>.strings</td>\n      <td>167211</td>\n    </tr>\n    <tr>\n      <th>468168</th>\n      <td>LaunchScreen.strings</td>\n      <td>Z:\\資訊書籍文件\\iOS 13 程式設計實戰 Swift 5.1SwiftUI 框架 快速...</td>\n      <td>1</td>\n      <td>2020/2/10 上午 07:58:08</td>\n      <td>2019/7/31 上午 07:20:24</td>\n      <td>.strings</td>\n      <td>167211</td>\n    </tr>\n  </tbody>\n</table>\n<p>468169 rows × 7 columns</p>\n</div>"
     },
     "execution_count": 8,
     "metadata": {},
     "output_type": "execute_result"
    }
   ],
   "source": [
    "df = pd.read_csv('DuplicateCleanerPro1230_D_E_Z.csv')\n",
    "df.drop(columns=['已標記', '雜湊值','永久連結', '歌手', '標題', '專輯', '時長', '位元率', '採樣率', '圖片寬度', '圖片高度', 'Unused', 'ZipFlag'], axis=1, inplace=True)\n",
    "df"
   ],
   "metadata": {
    "collapsed": false,
    "pycharm": {
     "name": "#%%\n"
    }
   }
  },
  {
   "cell_type": "code",
   "execution_count": 9,
   "outputs": [],
   "source": [
    "with open('DuplicateCleanerPro1230_D_E_Z.pkl', 'wb') as f:\n",
    "    pickle.dump(df, f)"
   ],
   "metadata": {
    "collapsed": false,
    "pycharm": {
     "name": "#%%\n"
    }
   }
  },
  {
   "cell_type": "code",
   "execution_count": null,
   "outputs": [],
   "source": [
    "\n",
    "df[['磁碟機', '根目錄']] = df['路徑'].str.split('\\\\', n=1, expand=True)\n",
    "df.drop(index=df[df['磁碟機'] =='G:'].index, inplace=True)\n",
    "df.set_index('組別', inplace=True, drop=True)\n",
    "counter = 1\n",
    "start_no = 1\n",
    "original = '目錄_0'\n",
    "while counter != 0:\n",
    "    expanded = f'目錄_{start_no}'\n",
    "    try:\n",
    "        df[[original, expanded]] = df[original].str.split('\\\\', n=1, expand=True)\n",
    "    except Exception as e:\n",
    "        break\n",
    "    counter = df[expanded].str.find('\\\\').count()\n",
    "    original = expanded\n",
    "    start_no+=1"
   ],
   "metadata": {
    "collapsed": false,
    "pycharm": {
     "name": "#%%\n"
    }
   }
  },
  {
   "cell_type": "code",
   "execution_count": 7,
   "outputs": [],
   "source": [
    "def read_pickle_file(file_type, file_name_index):\n",
    "    r_name = f'duplicated{file_type}'\n",
    "    r_path = os.path.join(f'E:/.developing_env/duplicated_files/{r_name}/')\n",
    "    with open(os.path.join(r_path, f'{file_name_index}{file_type}.pkl'), 'rb') as f:\n",
    "        return pickle.load(f)"
   ],
   "metadata": {
    "collapsed": false,
    "pycharm": {
     "name": "#%%\n"
    }
   }
  },
  {
   "cell_type": "code",
   "execution_count": 8,
   "outputs": [
    {
     "data": {
      "text/plain": "       已標記                                         檔案名稱  \\\n組別                                                        \n47255    0  Python 達人必學 Python 3.x 程式設計 - 最新版- 書附範例.iso   \n47255    0  Python 達人必學 Python 3.x 程式設計 - 最新版- 書附範例.iso   \n\n                               路徑      大小                   新增日期  \\\n組別                                                                 \n47255                  D:\\參考的資料集\\  409600  2021/1/28 下午 01:52:36   \n47255  D:\\_eBooks 電子書 Python\\.其他\\  409600  2021/8/18 上午 02:26:43   \n\n                         修改日期  檔案類型                               雜湊值 磁碟機  \\\n組別                                                                          \n47255  2019/12/17 下午 05:19:18  .iso  d033663d383549849a8b6dc13119e6b6  D:   \n47255  2019/12/17 下午 05:19:18  .iso  d033663d383549849a8b6dc13119e6b6  D:   \n\n                     目錄_0  ... 目錄_10 目錄_11 目錄_12 目錄_13 目錄_14 目錄_15 目錄_16  \\\n組別                         ...                                             \n47255              參考的資料集  ...  None  None  None  None  None  None  None   \n47255  _eBooks 電子書 Python  ...  None  None  None  None  None  None  None   \n\n      目錄_17 目錄_18 目錄_19  \n組別                       \n47255  None  None  None  \n47255  None  None  None  \n\n[2 rows x 29 columns]",
      "text/html": "<div>\n<style scoped>\n    .dataframe tbody tr th:only-of-type {\n        vertical-align: middle;\n    }\n\n    .dataframe tbody tr th {\n        vertical-align: top;\n    }\n\n    .dataframe thead th {\n        text-align: right;\n    }\n</style>\n<table border=\"1\" class=\"dataframe\">\n  <thead>\n    <tr style=\"text-align: right;\">\n      <th></th>\n      <th>已標記</th>\n      <th>檔案名稱</th>\n      <th>路徑</th>\n      <th>大小</th>\n      <th>新增日期</th>\n      <th>修改日期</th>\n      <th>檔案類型</th>\n      <th>雜湊值</th>\n      <th>磁碟機</th>\n      <th>目錄_0</th>\n      <th>...</th>\n      <th>目錄_10</th>\n      <th>目錄_11</th>\n      <th>目錄_12</th>\n      <th>目錄_13</th>\n      <th>目錄_14</th>\n      <th>目錄_15</th>\n      <th>目錄_16</th>\n      <th>目錄_17</th>\n      <th>目錄_18</th>\n      <th>目錄_19</th>\n    </tr>\n    <tr>\n      <th>組別</th>\n      <th></th>\n      <th></th>\n      <th></th>\n      <th></th>\n      <th></th>\n      <th></th>\n      <th></th>\n      <th></th>\n      <th></th>\n      <th></th>\n      <th></th>\n      <th></th>\n      <th></th>\n      <th></th>\n      <th></th>\n      <th></th>\n      <th></th>\n      <th></th>\n      <th></th>\n      <th></th>\n      <th></th>\n    </tr>\n  </thead>\n  <tbody>\n    <tr>\n      <th>47255</th>\n      <td>0</td>\n      <td>Python 達人必學 Python 3.x 程式設計 - 最新版- 書附範例.iso</td>\n      <td>D:\\參考的資料集\\</td>\n      <td>409600</td>\n      <td>2021/1/28 下午 01:52:36</td>\n      <td>2019/12/17 下午 05:19:18</td>\n      <td>.iso</td>\n      <td>d033663d383549849a8b6dc13119e6b6</td>\n      <td>D:</td>\n      <td>參考的資料集</td>\n      <td>...</td>\n      <td>None</td>\n      <td>None</td>\n      <td>None</td>\n      <td>None</td>\n      <td>None</td>\n      <td>None</td>\n      <td>None</td>\n      <td>None</td>\n      <td>None</td>\n      <td>None</td>\n    </tr>\n    <tr>\n      <th>47255</th>\n      <td>0</td>\n      <td>Python 達人必學 Python 3.x 程式設計 - 最新版- 書附範例.iso</td>\n      <td>D:\\_eBooks 電子書 Python\\.其他\\</td>\n      <td>409600</td>\n      <td>2021/8/18 上午 02:26:43</td>\n      <td>2019/12/17 下午 05:19:18</td>\n      <td>.iso</td>\n      <td>d033663d383549849a8b6dc13119e6b6</td>\n      <td>D:</td>\n      <td>_eBooks 電子書 Python</td>\n      <td>...</td>\n      <td>None</td>\n      <td>None</td>\n      <td>None</td>\n      <td>None</td>\n      <td>None</td>\n      <td>None</td>\n      <td>None</td>\n      <td>None</td>\n      <td>None</td>\n      <td>None</td>\n    </tr>\n  </tbody>\n</table>\n<p>2 rows × 29 columns</p>\n</div>"
     },
     "execution_count": 8,
     "metadata": {},
     "output_type": "execute_result"
    }
   ],
   "source": [
    "file_type = '_iso'\n",
    "file_name_index = '109'\n",
    "dfs = read_pickle_file(file_type, file_name_index)\n",
    "dfs"
   ],
   "metadata": {
    "collapsed": false,
    "pycharm": {
     "name": "#%%\n"
    }
   }
  },
  {
   "cell_type": "code",
   "execution_count": 10,
   "outputs": [
    {
     "data": {
      "text/plain": "'Python 達人必學 Python 3.x 程式設計 - 最新版- 書附範例.iso'"
     },
     "execution_count": 10,
     "metadata": {},
     "output_type": "execute_result"
    }
   ],
   "source": [
    "file_name = dfs['檔案名稱'].iloc[0]\n",
    "file_name"
   ],
   "metadata": {
    "collapsed": false,
    "pycharm": {
     "name": "#%%\n"
    }
   }
  },
  {
   "cell_type": "code",
   "execution_count": 15,
   "outputs": [
    {
     "data": {
      "text/plain": "       已標記                                       檔案名稱  \\\n組別                                                      \n47256    0  Python 達人必學 Python 3.x 程式設計-最新版_書摘要掃描.iso   \n48475    0                              threeArray.py   \n48482    0                                   hanoi.py   \n48484    0                                     fib.py   \n48750    0                              fromImport.py   \n48751    0                                  import.py   \n48752    0                                importAs.py   \n48753    0                          lastDayOfMonth.py   \n48754    0                               moduleDiy.py   \n48755    0                          moduleDiy_name.py   \n48756    0                               namespace.py   \n48757    0                                      os.py   \n48758    0                                  random.py   \n48759    0                               test_argv.py   \n48760    0                              use_module.py   \n48761    0                   moduleDiy.cpython-36.pyc   \n49190    0                               twisters.txt   \n49190    0                               twisters.txt   \n49191    0                              introduct.txt   \n49191    0                             introduct1.txt   \n\n                                                      路徑        大小  \\\n組別                                                                   \n47256  D:\\_eBooks 電子書 Python\\Python 達人必學 Python 3.x 程...  54583296   \n48475  D:\\_eBooks 電子書 Python\\Python 達人必學 Python 3.x 程...       383   \n48482  D:\\_eBooks 電子書 Python\\Python 達人必學 Python 3.x 程...       304   \n48484  D:\\_eBooks 電子書 Python\\Python 達人必學 Python 3.x 程...       363   \n48750  D:\\_eBooks 電子書 Python\\Python 達人必學 Python 3.x 程...       230   \n48751  D:\\_eBooks 電子書 Python\\Python 達人必學 Python 3.x 程...       221   \n48752  D:\\_eBooks 電子書 Python\\Python 達人必學 Python 3.x 程...       216   \n48753  D:\\_eBooks 電子書 Python\\Python 達人必學 Python 3.x 程...       485   \n48754  D:\\_eBooks 電子書 Python\\Python 達人必學 Python 3.x 程...       458   \n48755  D:\\_eBooks 電子書 Python\\Python 達人必學 Python 3.x 程...       413   \n48756  D:\\_eBooks 電子書 Python\\Python 達人必學 Python 3.x 程...       251   \n48757  D:\\_eBooks 電子書 Python\\Python 達人必學 Python 3.x 程...       335   \n48758  D:\\_eBooks 電子書 Python\\Python 達人必學 Python 3.x 程...       344   \n48759  D:\\_eBooks 電子書 Python\\Python 達人必學 Python 3.x 程...       421   \n48760  D:\\_eBooks 電子書 Python\\Python 達人必學 Python 3.x 程...       116   \n48761  D:\\_eBooks 電子書 Python\\Python 達人必學 Python 3.x 程...       672   \n49190  D:\\_eBooks 電子書 Python\\Python 達人必學 Python 3.x 程...       201   \n49190  D:\\_eBooks 電子書 Python\\Python 達人必學 Python 3.x 程...       201   \n49191  D:\\_eBooks 電子書 Python\\Python 達人必學 Python 3.x 程...       140   \n49191  D:\\_eBooks 電子書 Python\\Python 達人必學 Python 3.x 程...       140   \n\n                        新增日期                    修改日期  檔案類型  \\\n組別                                                           \n47256  2021/8/18 上午 02:34:15    2020/3/1 上午 11:54:41  .iso   \n48475  2021/8/18 上午 02:34:19    2018/1/8 下午 09:47:58   .py   \n48482  2021/8/18 上午 02:34:19    2018/2/4 上午 10:41:42   .py   \n48484  2021/8/18 上午 02:34:19    2018/1/7 下午 03:35:20   .py   \n48750  2021/8/18 上午 02:34:19   2017/5/11 下午 02:40:30   .py   \n48751  2021/8/18 上午 02:34:19   2017/5/11 下午 02:38:30   .py   \n48752  2021/8/18 上午 02:34:19   2017/5/11 下午 04:36:32   .py   \n48753  2021/8/18 上午 02:34:19   2017/5/13 下午 10:34:44   .py   \n48754  2021/8/18 上午 02:34:19   2017/5/11 下午 07:02:46   .py   \n48755  2021/8/18 上午 02:34:19   2017/5/11 下午 07:25:12   .py   \n48756  2021/8/18 上午 02:34:19    2018/2/4 下午 09:47:13   .py   \n48757  2021/8/18 上午 02:34:19   2017/5/12 下午 06:11:12   .py   \n48758  2021/8/18 上午 02:34:19   2017/5/13 上午 03:40:42   .py   \n48759  2021/8/18 上午 02:34:19   2017/8/14 下午 04:49:38   .py   \n48760  2021/8/18 上午 02:34:19   2017/5/11 下午 07:29:00   .py   \n48761  2021/8/18 上午 02:34:19    2018/2/4 下午 09:49:55  .pyc   \n49190  2021/8/18 上午 02:34:19   2017/5/15 上午 10:04:50  .txt   \n49190  2021/8/18 上午 02:34:19   2017/5/15 上午 10:04:50  .txt   \n49191  2021/8/18 上午 02:34:19  2017/11/18 下午 03:39:32  .txt   \n49191  2021/8/18 上午 02:34:19    2018/2/5 下午 08:36:53  .txt   \n\n                                    雜湊值 磁碟機                目錄_0  ... 目錄_10  \\\n組別                                                               ...         \n47256  a7da79be67eddc9bf79307a580668088  D:  _eBooks 電子書 Python  ...  None   \n48475  ffe05e1d165fcda09eb68951d909c934  D:  _eBooks 電子書 Python  ...  None   \n48482  82922e9d542f0fd2109906b4ca22618b  D:  _eBooks 電子書 Python  ...  None   \n48484  fd9b416a689906914598ab2eba027c69  D:  _eBooks 電子書 Python  ...  None   \n48750  591161d5ee7f5631bbb04be3baff3454  D:  _eBooks 電子書 Python  ...  None   \n48751  c7dbc6a644d8a892b5bb3f164cf06683  D:  _eBooks 電子書 Python  ...  None   \n48752  273eed4d4e7344f86d8d77f47ab08d14  D:  _eBooks 電子書 Python  ...  None   \n48753  30377b386255a72a58b9779f8341931b  D:  _eBooks 電子書 Python  ...  None   \n48754  a05ea18f502240fd2dfcfa9d4f4c382a  D:  _eBooks 電子書 Python  ...  None   \n48755  690e2e58c3588ec5ac8831454f7fe982  D:  _eBooks 電子書 Python  ...  None   \n48756  5a680aea3b8762e30ef8e922f1b5ade3  D:  _eBooks 電子書 Python  ...  None   \n48757  403d368516e51d1e3961a4888d864821  D:  _eBooks 電子書 Python  ...  None   \n48758  b74f9873279448bb3e7f00e172503e04  D:  _eBooks 電子書 Python  ...  None   \n48759  f26652d031e13049efc70161cfcd92b1  D:  _eBooks 電子書 Python  ...  None   \n48760  80f8ca0d4ab766f7aed58ac4874ecda3  D:  _eBooks 電子書 Python  ...  None   \n48761  96077bd6606041046148d2c72f446044  D:  _eBooks 電子書 Python  ...  None   \n49190  134ba87b851e665211ca9d579e3894f5  D:  _eBooks 電子書 Python  ...  None   \n49190  134ba87b851e665211ca9d579e3894f5  D:  _eBooks 電子書 Python  ...  None   \n49191  ae5e9e763cdcdefb03fe34be45b76a3b  D:  _eBooks 電子書 Python  ...  None   \n49191  ae5e9e763cdcdefb03fe34be45b76a3b  D:  _eBooks 電子書 Python  ...  None   \n\n      目錄_11 目錄_12 目錄_13 目錄_14 目錄_15 目錄_16 目錄_17 目錄_18 目錄_19  \n組別                                                           \n47256  None  None  None  None  None  None  None  None  None  \n48475  None  None  None  None  None  None  None  None  None  \n48482  None  None  None  None  None  None  None  None  None  \n48484  None  None  None  None  None  None  None  None  None  \n48750  None  None  None  None  None  None  None  None  None  \n48751  None  None  None  None  None  None  None  None  None  \n48752  None  None  None  None  None  None  None  None  None  \n48753  None  None  None  None  None  None  None  None  None  \n48754  None  None  None  None  None  None  None  None  None  \n48755  None  None  None  None  None  None  None  None  None  \n48756  None  None  None  None  None  None  None  None  None  \n48757  None  None  None  None  None  None  None  None  None  \n48758  None  None  None  None  None  None  None  None  None  \n48759  None  None  None  None  None  None  None  None  None  \n48760  None  None  None  None  None  None  None  None  None  \n48761  None  None  None  None  None  None  None  None  None  \n49190  None  None  None  None  None  None  None  None  None  \n49190  None  None  None  None  None  None  None  None  None  \n49191  None  None  None  None  None  None  None  None  None  \n49191  None  None  None  None  None  None  None  None  None  \n\n[20 rows x 29 columns]",
      "text/html": "<div>\n<style scoped>\n    .dataframe tbody tr th:only-of-type {\n        vertical-align: middle;\n    }\n\n    .dataframe tbody tr th {\n        vertical-align: top;\n    }\n\n    .dataframe thead th {\n        text-align: right;\n    }\n</style>\n<table border=\"1\" class=\"dataframe\">\n  <thead>\n    <tr style=\"text-align: right;\">\n      <th></th>\n      <th>已標記</th>\n      <th>檔案名稱</th>\n      <th>路徑</th>\n      <th>大小</th>\n      <th>新增日期</th>\n      <th>修改日期</th>\n      <th>檔案類型</th>\n      <th>雜湊值</th>\n      <th>磁碟機</th>\n      <th>目錄_0</th>\n      <th>...</th>\n      <th>目錄_10</th>\n      <th>目錄_11</th>\n      <th>目錄_12</th>\n      <th>目錄_13</th>\n      <th>目錄_14</th>\n      <th>目錄_15</th>\n      <th>目錄_16</th>\n      <th>目錄_17</th>\n      <th>目錄_18</th>\n      <th>目錄_19</th>\n    </tr>\n    <tr>\n      <th>組別</th>\n      <th></th>\n      <th></th>\n      <th></th>\n      <th></th>\n      <th></th>\n      <th></th>\n      <th></th>\n      <th></th>\n      <th></th>\n      <th></th>\n      <th></th>\n      <th></th>\n      <th></th>\n      <th></th>\n      <th></th>\n      <th></th>\n      <th></th>\n      <th></th>\n      <th></th>\n      <th></th>\n      <th></th>\n    </tr>\n  </thead>\n  <tbody>\n    <tr>\n      <th>47256</th>\n      <td>0</td>\n      <td>Python 達人必學 Python 3.x 程式設計-最新版_書摘要掃描.iso</td>\n      <td>D:\\_eBooks 電子書 Python\\Python 達人必學 Python 3.x 程...</td>\n      <td>54583296</td>\n      <td>2021/8/18 上午 02:34:15</td>\n      <td>2020/3/1 上午 11:54:41</td>\n      <td>.iso</td>\n      <td>a7da79be67eddc9bf79307a580668088</td>\n      <td>D:</td>\n      <td>_eBooks 電子書 Python</td>\n      <td>...</td>\n      <td>None</td>\n      <td>None</td>\n      <td>None</td>\n      <td>None</td>\n      <td>None</td>\n      <td>None</td>\n      <td>None</td>\n      <td>None</td>\n      <td>None</td>\n      <td>None</td>\n    </tr>\n    <tr>\n      <th>48475</th>\n      <td>0</td>\n      <td>threeArray.py</td>\n      <td>D:\\_eBooks 電子書 Python\\Python 達人必學 Python 3.x 程...</td>\n      <td>383</td>\n      <td>2021/8/18 上午 02:34:19</td>\n      <td>2018/1/8 下午 09:47:58</td>\n      <td>.py</td>\n      <td>ffe05e1d165fcda09eb68951d909c934</td>\n      <td>D:</td>\n      <td>_eBooks 電子書 Python</td>\n      <td>...</td>\n      <td>None</td>\n      <td>None</td>\n      <td>None</td>\n      <td>None</td>\n      <td>None</td>\n      <td>None</td>\n      <td>None</td>\n      <td>None</td>\n      <td>None</td>\n      <td>None</td>\n    </tr>\n    <tr>\n      <th>48482</th>\n      <td>0</td>\n      <td>hanoi.py</td>\n      <td>D:\\_eBooks 電子書 Python\\Python 達人必學 Python 3.x 程...</td>\n      <td>304</td>\n      <td>2021/8/18 上午 02:34:19</td>\n      <td>2018/2/4 上午 10:41:42</td>\n      <td>.py</td>\n      <td>82922e9d542f0fd2109906b4ca22618b</td>\n      <td>D:</td>\n      <td>_eBooks 電子書 Python</td>\n      <td>...</td>\n      <td>None</td>\n      <td>None</td>\n      <td>None</td>\n      <td>None</td>\n      <td>None</td>\n      <td>None</td>\n      <td>None</td>\n      <td>None</td>\n      <td>None</td>\n      <td>None</td>\n    </tr>\n    <tr>\n      <th>48484</th>\n      <td>0</td>\n      <td>fib.py</td>\n      <td>D:\\_eBooks 電子書 Python\\Python 達人必學 Python 3.x 程...</td>\n      <td>363</td>\n      <td>2021/8/18 上午 02:34:19</td>\n      <td>2018/1/7 下午 03:35:20</td>\n      <td>.py</td>\n      <td>fd9b416a689906914598ab2eba027c69</td>\n      <td>D:</td>\n      <td>_eBooks 電子書 Python</td>\n      <td>...</td>\n      <td>None</td>\n      <td>None</td>\n      <td>None</td>\n      <td>None</td>\n      <td>None</td>\n      <td>None</td>\n      <td>None</td>\n      <td>None</td>\n      <td>None</td>\n      <td>None</td>\n    </tr>\n    <tr>\n      <th>48750</th>\n      <td>0</td>\n      <td>fromImport.py</td>\n      <td>D:\\_eBooks 電子書 Python\\Python 達人必學 Python 3.x 程...</td>\n      <td>230</td>\n      <td>2021/8/18 上午 02:34:19</td>\n      <td>2017/5/11 下午 02:40:30</td>\n      <td>.py</td>\n      <td>591161d5ee7f5631bbb04be3baff3454</td>\n      <td>D:</td>\n      <td>_eBooks 電子書 Python</td>\n      <td>...</td>\n      <td>None</td>\n      <td>None</td>\n      <td>None</td>\n      <td>None</td>\n      <td>None</td>\n      <td>None</td>\n      <td>None</td>\n      <td>None</td>\n      <td>None</td>\n      <td>None</td>\n    </tr>\n    <tr>\n      <th>48751</th>\n      <td>0</td>\n      <td>import.py</td>\n      <td>D:\\_eBooks 電子書 Python\\Python 達人必學 Python 3.x 程...</td>\n      <td>221</td>\n      <td>2021/8/18 上午 02:34:19</td>\n      <td>2017/5/11 下午 02:38:30</td>\n      <td>.py</td>\n      <td>c7dbc6a644d8a892b5bb3f164cf06683</td>\n      <td>D:</td>\n      <td>_eBooks 電子書 Python</td>\n      <td>...</td>\n      <td>None</td>\n      <td>None</td>\n      <td>None</td>\n      <td>None</td>\n      <td>None</td>\n      <td>None</td>\n      <td>None</td>\n      <td>None</td>\n      <td>None</td>\n      <td>None</td>\n    </tr>\n    <tr>\n      <th>48752</th>\n      <td>0</td>\n      <td>importAs.py</td>\n      <td>D:\\_eBooks 電子書 Python\\Python 達人必學 Python 3.x 程...</td>\n      <td>216</td>\n      <td>2021/8/18 上午 02:34:19</td>\n      <td>2017/5/11 下午 04:36:32</td>\n      <td>.py</td>\n      <td>273eed4d4e7344f86d8d77f47ab08d14</td>\n      <td>D:</td>\n      <td>_eBooks 電子書 Python</td>\n      <td>...</td>\n      <td>None</td>\n      <td>None</td>\n      <td>None</td>\n      <td>None</td>\n      <td>None</td>\n      <td>None</td>\n      <td>None</td>\n      <td>None</td>\n      <td>None</td>\n      <td>None</td>\n    </tr>\n    <tr>\n      <th>48753</th>\n      <td>0</td>\n      <td>lastDayOfMonth.py</td>\n      <td>D:\\_eBooks 電子書 Python\\Python 達人必學 Python 3.x 程...</td>\n      <td>485</td>\n      <td>2021/8/18 上午 02:34:19</td>\n      <td>2017/5/13 下午 10:34:44</td>\n      <td>.py</td>\n      <td>30377b386255a72a58b9779f8341931b</td>\n      <td>D:</td>\n      <td>_eBooks 電子書 Python</td>\n      <td>...</td>\n      <td>None</td>\n      <td>None</td>\n      <td>None</td>\n      <td>None</td>\n      <td>None</td>\n      <td>None</td>\n      <td>None</td>\n      <td>None</td>\n      <td>None</td>\n      <td>None</td>\n    </tr>\n    <tr>\n      <th>48754</th>\n      <td>0</td>\n      <td>moduleDiy.py</td>\n      <td>D:\\_eBooks 電子書 Python\\Python 達人必學 Python 3.x 程...</td>\n      <td>458</td>\n      <td>2021/8/18 上午 02:34:19</td>\n      <td>2017/5/11 下午 07:02:46</td>\n      <td>.py</td>\n      <td>a05ea18f502240fd2dfcfa9d4f4c382a</td>\n      <td>D:</td>\n      <td>_eBooks 電子書 Python</td>\n      <td>...</td>\n      <td>None</td>\n      <td>None</td>\n      <td>None</td>\n      <td>None</td>\n      <td>None</td>\n      <td>None</td>\n      <td>None</td>\n      <td>None</td>\n      <td>None</td>\n      <td>None</td>\n    </tr>\n    <tr>\n      <th>48755</th>\n      <td>0</td>\n      <td>moduleDiy_name.py</td>\n      <td>D:\\_eBooks 電子書 Python\\Python 達人必學 Python 3.x 程...</td>\n      <td>413</td>\n      <td>2021/8/18 上午 02:34:19</td>\n      <td>2017/5/11 下午 07:25:12</td>\n      <td>.py</td>\n      <td>690e2e58c3588ec5ac8831454f7fe982</td>\n      <td>D:</td>\n      <td>_eBooks 電子書 Python</td>\n      <td>...</td>\n      <td>None</td>\n      <td>None</td>\n      <td>None</td>\n      <td>None</td>\n      <td>None</td>\n      <td>None</td>\n      <td>None</td>\n      <td>None</td>\n      <td>None</td>\n      <td>None</td>\n    </tr>\n    <tr>\n      <th>48756</th>\n      <td>0</td>\n      <td>namespace.py</td>\n      <td>D:\\_eBooks 電子書 Python\\Python 達人必學 Python 3.x 程...</td>\n      <td>251</td>\n      <td>2021/8/18 上午 02:34:19</td>\n      <td>2018/2/4 下午 09:47:13</td>\n      <td>.py</td>\n      <td>5a680aea3b8762e30ef8e922f1b5ade3</td>\n      <td>D:</td>\n      <td>_eBooks 電子書 Python</td>\n      <td>...</td>\n      <td>None</td>\n      <td>None</td>\n      <td>None</td>\n      <td>None</td>\n      <td>None</td>\n      <td>None</td>\n      <td>None</td>\n      <td>None</td>\n      <td>None</td>\n      <td>None</td>\n    </tr>\n    <tr>\n      <th>48757</th>\n      <td>0</td>\n      <td>os.py</td>\n      <td>D:\\_eBooks 電子書 Python\\Python 達人必學 Python 3.x 程...</td>\n      <td>335</td>\n      <td>2021/8/18 上午 02:34:19</td>\n      <td>2017/5/12 下午 06:11:12</td>\n      <td>.py</td>\n      <td>403d368516e51d1e3961a4888d864821</td>\n      <td>D:</td>\n      <td>_eBooks 電子書 Python</td>\n      <td>...</td>\n      <td>None</td>\n      <td>None</td>\n      <td>None</td>\n      <td>None</td>\n      <td>None</td>\n      <td>None</td>\n      <td>None</td>\n      <td>None</td>\n      <td>None</td>\n      <td>None</td>\n    </tr>\n    <tr>\n      <th>48758</th>\n      <td>0</td>\n      <td>random.py</td>\n      <td>D:\\_eBooks 電子書 Python\\Python 達人必學 Python 3.x 程...</td>\n      <td>344</td>\n      <td>2021/8/18 上午 02:34:19</td>\n      <td>2017/5/13 上午 03:40:42</td>\n      <td>.py</td>\n      <td>b74f9873279448bb3e7f00e172503e04</td>\n      <td>D:</td>\n      <td>_eBooks 電子書 Python</td>\n      <td>...</td>\n      <td>None</td>\n      <td>None</td>\n      <td>None</td>\n      <td>None</td>\n      <td>None</td>\n      <td>None</td>\n      <td>None</td>\n      <td>None</td>\n      <td>None</td>\n      <td>None</td>\n    </tr>\n    <tr>\n      <th>48759</th>\n      <td>0</td>\n      <td>test_argv.py</td>\n      <td>D:\\_eBooks 電子書 Python\\Python 達人必學 Python 3.x 程...</td>\n      <td>421</td>\n      <td>2021/8/18 上午 02:34:19</td>\n      <td>2017/8/14 下午 04:49:38</td>\n      <td>.py</td>\n      <td>f26652d031e13049efc70161cfcd92b1</td>\n      <td>D:</td>\n      <td>_eBooks 電子書 Python</td>\n      <td>...</td>\n      <td>None</td>\n      <td>None</td>\n      <td>None</td>\n      <td>None</td>\n      <td>None</td>\n      <td>None</td>\n      <td>None</td>\n      <td>None</td>\n      <td>None</td>\n      <td>None</td>\n    </tr>\n    <tr>\n      <th>48760</th>\n      <td>0</td>\n      <td>use_module.py</td>\n      <td>D:\\_eBooks 電子書 Python\\Python 達人必學 Python 3.x 程...</td>\n      <td>116</td>\n      <td>2021/8/18 上午 02:34:19</td>\n      <td>2017/5/11 下午 07:29:00</td>\n      <td>.py</td>\n      <td>80f8ca0d4ab766f7aed58ac4874ecda3</td>\n      <td>D:</td>\n      <td>_eBooks 電子書 Python</td>\n      <td>...</td>\n      <td>None</td>\n      <td>None</td>\n      <td>None</td>\n      <td>None</td>\n      <td>None</td>\n      <td>None</td>\n      <td>None</td>\n      <td>None</td>\n      <td>None</td>\n      <td>None</td>\n    </tr>\n    <tr>\n      <th>48761</th>\n      <td>0</td>\n      <td>moduleDiy.cpython-36.pyc</td>\n      <td>D:\\_eBooks 電子書 Python\\Python 達人必學 Python 3.x 程...</td>\n      <td>672</td>\n      <td>2021/8/18 上午 02:34:19</td>\n      <td>2018/2/4 下午 09:49:55</td>\n      <td>.pyc</td>\n      <td>96077bd6606041046148d2c72f446044</td>\n      <td>D:</td>\n      <td>_eBooks 電子書 Python</td>\n      <td>...</td>\n      <td>None</td>\n      <td>None</td>\n      <td>None</td>\n      <td>None</td>\n      <td>None</td>\n      <td>None</td>\n      <td>None</td>\n      <td>None</td>\n      <td>None</td>\n      <td>None</td>\n    </tr>\n    <tr>\n      <th>49190</th>\n      <td>0</td>\n      <td>twisters.txt</td>\n      <td>D:\\_eBooks 電子書 Python\\Python 達人必學 Python 3.x 程...</td>\n      <td>201</td>\n      <td>2021/8/18 上午 02:34:19</td>\n      <td>2017/5/15 上午 10:04:50</td>\n      <td>.txt</td>\n      <td>134ba87b851e665211ca9d579e3894f5</td>\n      <td>D:</td>\n      <td>_eBooks 電子書 Python</td>\n      <td>...</td>\n      <td>None</td>\n      <td>None</td>\n      <td>None</td>\n      <td>None</td>\n      <td>None</td>\n      <td>None</td>\n      <td>None</td>\n      <td>None</td>\n      <td>None</td>\n      <td>None</td>\n    </tr>\n    <tr>\n      <th>49190</th>\n      <td>0</td>\n      <td>twisters.txt</td>\n      <td>D:\\_eBooks 電子書 Python\\Python 達人必學 Python 3.x 程...</td>\n      <td>201</td>\n      <td>2021/8/18 上午 02:34:19</td>\n      <td>2017/5/15 上午 10:04:50</td>\n      <td>.txt</td>\n      <td>134ba87b851e665211ca9d579e3894f5</td>\n      <td>D:</td>\n      <td>_eBooks 電子書 Python</td>\n      <td>...</td>\n      <td>None</td>\n      <td>None</td>\n      <td>None</td>\n      <td>None</td>\n      <td>None</td>\n      <td>None</td>\n      <td>None</td>\n      <td>None</td>\n      <td>None</td>\n      <td>None</td>\n    </tr>\n    <tr>\n      <th>49191</th>\n      <td>0</td>\n      <td>introduct.txt</td>\n      <td>D:\\_eBooks 電子書 Python\\Python 達人必學 Python 3.x 程...</td>\n      <td>140</td>\n      <td>2021/8/18 上午 02:34:19</td>\n      <td>2017/11/18 下午 03:39:32</td>\n      <td>.txt</td>\n      <td>ae5e9e763cdcdefb03fe34be45b76a3b</td>\n      <td>D:</td>\n      <td>_eBooks 電子書 Python</td>\n      <td>...</td>\n      <td>None</td>\n      <td>None</td>\n      <td>None</td>\n      <td>None</td>\n      <td>None</td>\n      <td>None</td>\n      <td>None</td>\n      <td>None</td>\n      <td>None</td>\n      <td>None</td>\n    </tr>\n    <tr>\n      <th>49191</th>\n      <td>0</td>\n      <td>introduct1.txt</td>\n      <td>D:\\_eBooks 電子書 Python\\Python 達人必學 Python 3.x 程...</td>\n      <td>140</td>\n      <td>2021/8/18 上午 02:34:19</td>\n      <td>2018/2/5 下午 08:36:53</td>\n      <td>.txt</td>\n      <td>ae5e9e763cdcdefb03fe34be45b76a3b</td>\n      <td>D:</td>\n      <td>_eBooks 電子書 Python</td>\n      <td>...</td>\n      <td>None</td>\n      <td>None</td>\n      <td>None</td>\n      <td>None</td>\n      <td>None</td>\n      <td>None</td>\n      <td>None</td>\n      <td>None</td>\n      <td>None</td>\n      <td>None</td>\n    </tr>\n  </tbody>\n</table>\n<p>20 rows × 29 columns</p>\n</div>"
     },
     "execution_count": 15,
     "metadata": {},
     "output_type": "execute_result"
    }
   ],
   "source": [
    "fdf = df[df['路徑'].str.contains('Python 達人必學 Python 3.x 程式設計')]\n",
    "fdf"
   ],
   "metadata": {
    "collapsed": false,
    "pycharm": {
     "name": "#%%\n"
    }
   }
  },
  {
   "cell_type": "code",
   "execution_count": 21,
   "outputs": [
    {
     "data": {
      "text/plain": "                                            檔案名稱  \\\n組別                                                 \n47256  Python 達人必學 Python 3.x 程式設計-最新版_書摘要掃描.iso   \n48761                   moduleDiy.cpython-36.pyc   \n49190                               twisters.txt   \n49190                               twisters.txt   \n49191                              introduct.txt   \n49191                             introduct1.txt   \n\n                                                      路徑                目錄_0  \\\n組別                                                                             \n47256  D:\\_eBooks 電子書 Python\\Python 達人必學 Python 3.x 程...  _eBooks 電子書 Python   \n48761  D:\\_eBooks 電子書 Python\\Python 達人必學 Python 3.x 程...  _eBooks 電子書 Python   \n49190  D:\\_eBooks 電子書 Python\\Python 達人必學 Python 3.x 程...  _eBooks 電子書 Python   \n49190  D:\\_eBooks 電子書 Python\\Python 達人必學 Python 3.x 程...  _eBooks 電子書 Python   \n49191  D:\\_eBooks 電子書 Python\\Python 達人必學 Python 3.x 程...  _eBooks 電子書 Python   \n49191  D:\\_eBooks 電子書 Python\\Python 達人必學 Python 3.x 程...  _eBooks 電子書 Python   \n\n             大小  \n組別               \n47256  54583296  \n48761       672  \n49190       201  \n49190       201  \n49191       140  \n49191       140  ",
      "text/html": "<div>\n<style scoped>\n    .dataframe tbody tr th:only-of-type {\n        vertical-align: middle;\n    }\n\n    .dataframe tbody tr th {\n        vertical-align: top;\n    }\n\n    .dataframe thead th {\n        text-align: right;\n    }\n</style>\n<table border=\"1\" class=\"dataframe\">\n  <thead>\n    <tr style=\"text-align: right;\">\n      <th></th>\n      <th>檔案名稱</th>\n      <th>路徑</th>\n      <th>目錄_0</th>\n      <th>大小</th>\n    </tr>\n    <tr>\n      <th>組別</th>\n      <th></th>\n      <th></th>\n      <th></th>\n      <th></th>\n    </tr>\n  </thead>\n  <tbody>\n    <tr>\n      <th>47256</th>\n      <td>Python 達人必學 Python 3.x 程式設計-最新版_書摘要掃描.iso</td>\n      <td>D:\\_eBooks 電子書 Python\\Python 達人必學 Python 3.x 程...</td>\n      <td>_eBooks 電子書 Python</td>\n      <td>54583296</td>\n    </tr>\n    <tr>\n      <th>48761</th>\n      <td>moduleDiy.cpython-36.pyc</td>\n      <td>D:\\_eBooks 電子書 Python\\Python 達人必學 Python 3.x 程...</td>\n      <td>_eBooks 電子書 Python</td>\n      <td>672</td>\n    </tr>\n    <tr>\n      <th>49190</th>\n      <td>twisters.txt</td>\n      <td>D:\\_eBooks 電子書 Python\\Python 達人必學 Python 3.x 程...</td>\n      <td>_eBooks 電子書 Python</td>\n      <td>201</td>\n    </tr>\n    <tr>\n      <th>49190</th>\n      <td>twisters.txt</td>\n      <td>D:\\_eBooks 電子書 Python\\Python 達人必學 Python 3.x 程...</td>\n      <td>_eBooks 電子書 Python</td>\n      <td>201</td>\n    </tr>\n    <tr>\n      <th>49191</th>\n      <td>introduct.txt</td>\n      <td>D:\\_eBooks 電子書 Python\\Python 達人必學 Python 3.x 程...</td>\n      <td>_eBooks 電子書 Python</td>\n      <td>140</td>\n    </tr>\n    <tr>\n      <th>49191</th>\n      <td>introduct1.txt</td>\n      <td>D:\\_eBooks 電子書 Python\\Python 達人必學 Python 3.x 程...</td>\n      <td>_eBooks 電子書 Python</td>\n      <td>140</td>\n    </tr>\n  </tbody>\n</table>\n</div>"
     },
     "execution_count": 21,
     "metadata": {},
     "output_type": "execute_result"
    }
   ],
   "source": [
    "sdf = fdf[fdf['檔案類型'] != '.py'][['檔案名稱', '路徑', '目錄_0', '大小']]\n",
    "sdf"
   ],
   "metadata": {
    "collapsed": false,
    "pycharm": {
     "name": "#%%\n"
    }
   }
  },
  {
   "cell_type": "code",
   "execution_count": 23,
   "outputs": [],
   "source": [
    "sdf_path = sdf['路徑'].iloc[0]\n",
    "os.startfile(os.path.dirname(sdf_path))"
   ],
   "metadata": {
    "collapsed": false,
    "pycharm": {
     "name": "#%%\n"
    }
   }
  },
  {
   "cell_type": "code",
   "execution_count": 1,
   "outputs": [],
   "source": [
    "import json\n",
    "with open('file_type_extension_list.json', 'r', encoding='utf-8') as f:\n",
    "    file_type_extension = json.load(f)"
   ],
   "metadata": {
    "collapsed": false,
    "pycharm": {
     "name": "#%%\n"
    }
   }
  },
  {
   "cell_type": "code",
   "execution_count": 2,
   "outputs": [
    {
     "data": {
      "text/plain": "{'.mp4': 'Video File',\n '.json': 'JSON 來源檔案',\n '.html': 'Firefox HTML Document',\n '.pdf': 'Adobe Acrobat Document',\n '.ppt': 'Microsoft PowerPoint 97-2003 簡報',\n '.pptx': 'Microsoft PowerPoint 簡報',\n '.zip': 'WinRAR ZIP 壓縮檔',\n '.iso': '光碟映像檔',\n '.jpg': 'JPG 檔案',\n '.txt': '文字文件',\n '.webm': 'WEBM 檔案',\n '.rar': 'WinRAR 壓縮檔',\n '.png': 'PNG 檔案',\n '.azw3': 'AZW3 檔案',\n '.md': 'Markdown 來源檔案',\n '.lay': 'LAY 檔案',\n '.bin': 'Video File',\n '.cfg': 'Configuration 來源檔案',\n '.0': '0 檔案',\n '.1': '1 檔案',\n '.csv': 'Microsoft Excel 逗點分隔值檔案',\n '.xml': 'XML Document',\n '.hsi': 'HSI 檔案',\n '.fx': 'FX Source',\n '.ini': '組態設定',\n '.lua': 'Lua 來源檔案',\n '.wav': 'WAV 檔案',\n '.py': 'PY 檔案',\n '.rst': 'Restructured Text 來源檔案',\n '.gitignore': '文字文件',\n '.pyc': 'Compiled Python File',\n '.gif': 'GIF 檔案',\n '.sql': 'SQL Text File',\n '.pyw': 'Python File (no console)',\n '.ui': 'UI 檔案',\n '.DSRX': 'DSRX 檔案',\n '.TXT': '文字文件',\n '.exe': '應用程式',\n '.dll': '應用程式擴充',\n '.ico': 'ICO 檔案',\n '.ctypes': 'CTYPES 檔案',\n '.bat': 'Windows 批次檔案',\n '.sample': 'SAMPLE 檔案',\n '.icns': 'ICNS 檔案',\n '.css': '階層式樣式表文件',\n '.pth': 'PTH 檔案',\n '.pxd': 'PXD 檔案',\n '.h': 'C Header 來源檔案',\n '.js': 'JavaScript 指令檔',\n '.qml': 'QML 檔案',\n '.qrc': 'QRC 檔案',\n '.xbel': 'XBEL 檔案',\n '.app': 'APP 檔案',\n '.lib': 'Object File Library',\n '.conf': 'CONF 檔案',\n '.prf': 'PICS Rules File',\n '.mako': 'MAKO 檔案',\n '.egg': 'EGG 檔案',\n '.dat': 'DAT 檔案',\n '.ics': 'iCalendar 檔案',\n '.gz': 'WinRAR 壓縮檔',\n '.geojson': 'GEOJSON 檔案',\n '.pem': 'PEM 檔案',\n '.map': 'Linker Address Map',\n '.vocab': 'VOCAB 檔案',\n '.svg': 'Microsoft Edge HTML Document',\n '.mo': 'MO 檔案',\n '.pym': 'PYM 檔案',\n '.pkl': 'PKL 檔案',\n '.bz2': 'WinRAR 壓縮檔',\n '.lzma': 'LZMA 檔案',\n '.xz': 'WinRAR 壓縮檔',\n '.gzip': 'GZIP 檔案',\n '.npy': 'NPY 檔案',\n '.z': 'WinRAR 壓縮檔',\n '.xsl': 'XSL Stylesheet',\n '.ttf': 'TrueType 字型檔案',\n '.npz': 'NPZ 檔案',\n '.A99': 'A99 檔案',\n '.B99': 'B99 檔案',\n '.eot': 'EOT 檔案',\n '.woff': 'WOFF 檔案',\n '.fits': 'FITS 檔案',\n '.f2py_f2cmap': 'F2PY_F2CMAP 檔案',\n '.f90': 'F90 檔案',\n '.f': 'F 檔案',\n '.wkt': 'WKT 檔案',\n '.gfs': 'GFS 檔案',\n '.dgn': 'DGN 檔案',\n '.dta': 'DTA 檔案',\n '.msgpack': 'MSGPACK 檔案',\n '.pickle': 'PICKLE 檔案',\n '.bbl': 'BBL 檔案',\n '.rc': 'Resource Script',\n '.pdb': 'Program Debug Database',\n '.log': '文字文件',\n '.mustache': 'MUSTACHE 檔案',\n '.mat': 'MAT 檔案',\n '.sav': 'SAV 檔案',\n '.nc': 'NC 檔案',\n '.tmpl': 'TMPL 檔案',\n '.s2p': 'S2P 檔案',\n '.s1p': 'S1P 檔案',\n '.pyx': 'PYX 檔案',\n '.whl': 'WHL 檔案',\n '.edgelist': 'EDGELIST 檔案',\n '.mbox': 'MBOX 檔案',\n '.tcl': 'TCL 檔案',\n '.enc': 'ENC 檔案',\n '.msg': 'Outlook 項目',\n '.tm': 'TM 檔案',\n '.xbm': 'XBM 檔案',\n '.xpm': 'XPM 檔案',\n '.mask': 'MASK 檔案',\n '.fs': 'F# 來源檔案',\n '.fsc': 'FSC 檔案',\n '.cs': 'C# 來源檔案',\n '.csc': 'CSC 檔案',\n '.terms': 'TERMS 檔案',\n '.ppm': 'PPM 檔案',\n '.eps': 'Encapsulated PostScript',\n '.vbs': 'VBScript 指令檔',\n '.ipynb': 'Jupyter 來源檔案',\n '.tsv': 'TSV 檔案',\n '.local': 'LOCAL 檔案',\n '.data-00000-of-00001': 'DATA-00000-OF-00001 檔案',\n '.index': 'INDEX 檔案',\n '.meta': 'META 檔案',\n '.xlsm': 'Microsoft Excel 啟用巨集的工作表',\n '.xlsx': 'Microsoft Excel 工作表',\n '.xls': 'Microsoft Excel 97-2003 工作表',\n '.pfx': '個人資訊交換',\n '.doc': 'Microsoft Word 97 - 2003 文件',\n '.resx': 'Microsoft .NET Managed Resource File',\n '.csproj': 'C# Project File',\n '.sln': 'Visual Studio Solution',\n '.suo': 'Visual Studio Solution User Options',\n '.config': 'Configuration 來源檔案',\n '.scc': 'SCC 檔案',\n '.settings': 'Settings-Designer File',\n '.manifest': 'MANIFEST 檔案',\n '.resources': 'RESOURCES 檔案',\n '.cache': 'CACHE 檔案',\n '.Cache': 'CACHE 檔案',\n '.docx': 'Microsoft Word 文件',\n '.user': 'Per-User Project Options File',\n '.pyproj': 'Python Project',\n '.gs': 'GS 檔案',\n '.hbs': 'Handlebars 來源檔案',\n '.sh': 'Shell Script',\n '.babelrc': 'BABELRC 檔案',\n '.bowerrc': 'Bower RC 來源檔案',\n '.editorconfig': 'Editor Config 來源檔案',\n '.gitattributes': '文字文件',\n '.rb': 'Ruby 來源檔案',\n '.lock': 'LOCK 檔案',\n '.ru': 'RU 檔案',\n '.yml': 'Yaml 來源檔案',\n '.gradle': 'Gradle 來源檔案',\n '.jar': 'Executable Jar File',\n '.properties': 'Properties 來源檔案',\n '.java': 'Java 來源檔案',\n '.jsonld': 'JSON File',\n '.db': 'Data Base File',\n '.postman_collection': 'POSTMAN_COLLECTION 檔案',\n '.asax': 'ASP.NET Server Application',\n '.pubxml': 'Publish Profile',\n '.targets': 'Project Targets File',\n '.rsp': 'RSP 檔案',\n '.001': 'WinRAR 壓縮檔',\n '.002': '002 檔案',\n '.003': '003 檔案',\n '.004': '004 檔案',\n '.bson': 'BSON 檔案',\n '.php': 'PHP 來源檔案',\n '.jpeg': 'JPEG 檔案',\n '.DS_Store': 'DS_STORE 檔案',\n '.mx': 'MX 檔案',\n '.epub': 'EPUB 檔案',\n '.h5': 'H5 檔案',\n '.sqlite': 'SQLITE 檔案',\n '.big': 'BIG 檔案',\n '.bmp': 'BMP 檔案',\n '.mp3': 'MP3 檔案',\n '.wmp3': 'WMP3 檔案',\n '.BMP': 'BMP 檔案',\n '.fnt': 'FNT 檔案',\n '.pack': 'PACK 檔案',\n '.GIF': 'GIF 檔案',\n '.JPG': 'JPG 檔案',\n '.jpgsize=450x337': 'JPGSIZE=450X337 檔案',\n '.jpgsize=640x332': 'JPGSIZE=640X332 檔案',\n '.jpgsize=376x305': 'JPGSIZE=376X305 檔案',\n '.cnmw690006ttY2Nzy7bckOg8ul19&690': 'CNMW690006TTY2NZY7BCKOG8UL19&690 檔案',\n '.cnbmiddle4e67c369t640e453936dd': 'CNBMIDDLE4E67C369T640E453936DD 檔案',\n '.cnmiddle62ae0058x76ea7cf54c4e&690': 'CNMIDDLE62AE0058X76EA7CF54C4E&690 檔案',\n '.cnmiddle6be02947ta61b88e09c27&690': 'CNMIDDLE6BE02947TA61B88E09C27&690 檔案',\n '.cnorignal4a0955884e7465df092b3': 'CNORIGNAL4A0955884E7465DF092B3 檔案',\n '.cnmiddle442fec47t906e619c23f6&690': 'CNMIDDLE442FEC47T906E619C23F6&690 檔案',\n '.cnmw690006eekf8zy7aSYdcPUX07': 'CNMW690006EEKF8ZY7ASYDCPUX07 檔案',\n '.cnmw690006ttY2Nzy7bcn8057if8&690': 'CNMW690006TTY2NZY7BCN8057IF8&690 檔案',\n '.text': 'TEXT 檔案',\n '.boto': 'BOTO 檔案',\n '.gitmodules': '文字文件',\n '.markdown': 'Markdown 來源檔案',\n '.license': 'LICENSE 檔案',\n '.fasta': 'FASTA 檔案',\n '.gml': 'GML 檔案',\n '.patch': 'PATCH 檔案',\n '.mplstyle': 'MPLSTYLE 檔案',\n '.htm': 'Firefox HTML Document',\n '.wmv': 'WMV 檔案',\n '.sqlite3': 'SQLITE3 檔案',\n '.iml': 'IML 檔案',\n '.ttc': 'TrueType 集合字型檔案',\n '.inv': 'INV 檔案',\n '.scss': 'Sass 來源檔案',\n '.graffle': 'GRAFFLE 檔案',\n '.data': 'DATA 檔案',\n '.vec': 'VEC 檔案',\n '.weights': 'WEIGHTS 檔案',\n '.svm': 'SVM 檔案',\n '.avi': 'AVI 檔案',\n '.name': 'NAME 檔案',\n '.cpp': 'C++ 來源檔案',\n '.hpp': 'C++ Header 來源檔案',\n '.c': 'C 來源檔案',\n '.pyd': 'Python Extension Module',\n '.def': 'Export Definition File',\n '.o': 'O 檔案',\n '.exp': 'Exports Library File',\n '.obj': '3D Object',\n '.hdf5': 'HDF5 檔案',\n '.pxi': 'PXI 檔案',\n '.a': 'A 檔案',\n '.item': 'ITEM 檔案',\n '.pl': 'Perl 來源檔案',\n '.genre': 'GENRE 檔案',\n '.info': 'INFO 檔案',\n '.occupation': 'OCCUPATION 檔案',\n '.base': 'BASE 檔案',\n '.test': 'TEST 檔案',\n '.cdd': 'CDD 檔案',\n '.pdn': 'PDN 檔案',\n '.skp': 'SKP 檔案',\n '.ggb': 'GGB 檔案',\n '.yaml': 'Yaml 來源檔案',\n '.tpl': 'TPL 檔案',\n '.otf': 'OpenType 字型檔案',\n '.pn': 'PN 檔案',\n '.TTF': 'TrueType 字型檔案',\n '.project': 'PROJECT 檔案',\n '.pydevproject': 'PYDEVPROJECT 檔案',\n '.prefs': 'PREFS 檔案',\n '.CSV': 'Microsoft Excel 逗點分隔值檔案',\n '.prj': 'PRJ 檔案',\n '.python-version': 'PYTHON-VERSION 檔案',\n '.RAR': 'WinRAR 壓縮檔',\n '.Rhistory': 'R History 來源檔案',\n '.R': 'R 來源檔案',\n '.RData': 'RDATA 檔案',\n '.src': 'SRC 檔案',\n '.rdata': 'RDATA 檔案',\n '.README': 'README 檔案',\n '.dbf': 'DBF 檔案',\n '.shp': 'SHP 檔案',\n '.shx': 'SHX 檔案',\n '.Rnw': 'RNW 檔案',\n '.tex': 'LaTeX 來源檔案',\n '.Rmd': 'RMD 檔案',\n '.mobi': 'MOBI 檔案',\n '.woff2': 'WOFF2 檔案',\n '.Zip': 'WinRAR ZIP 壓縮檔',\n '.psd': 'Adobe Photoshop Image.23',\n '.mno': 'MNO 檔案',\n '.rtf': 'RTF 格式',\n '.dwt': 'DWT 檔案',\n '.tif': 'TIF 檔案',\n '.swf': 'SWF 檔案',\n '.flv': 'Video File',\n '.ogv': 'OGV 檔案',\n '.win': 'Adobe CMS Extension',\n '.dev': 'DEV 檔案',\n '.layout': 'LAYOUT 檔案',\n '.gch': 'GCH 檔案',\n '.vcxproj': 'VC++ Project',\n '.filters': 'VC++ Project Filters File',\n '.ipch': 'IPCH 檔案',\n '.ilk': 'Incremental Linker File',\n '.pch': 'Precompiled Header File',\n '.idb': 'VC++ Minimum Rebuild Dependency File',\n '.tlog': 'TLOG 檔案',\n '.lastbuildstate': 'LASTBUILDSTATE 檔案',\n '.opendb': 'OPENDB 檔案',\n '.hgignore': 'HGIGNORE 檔案',\n '.h~': 'H~ 檔案',\n '.dox': 'DOX 檔案',\n '.i': 'Preprocessed C/C++ Source',\n '.v2': 'V2 檔案',\n '.cshtml': 'CSHTML 來源檔案',\n '.props': 'Project Property File',\n '.CopyComplete': 'COPYCOMPLETE 檔案',\n '.dtbcache': 'DTBCACHE 檔案',\n '.ide': 'IDE 檔案',\n '.idx': 'IDX 檔案',\n '.ide-wal': 'IDE-WAL 檔案',\n '.dockerignore': 'DOCKERIGNORE 檔案',\n '.helmignore': 'HELMIGNORE 檔案',\n '.ide-shm': 'IDE-SHM 檔案',\n '.bak': 'BAK 檔案',\n '.mkv': 'MKV 檔案',\n '.msi': 'Windows Installer 封裝',\n '.ldf': 'LDF 檔案',\n '.mdf': 'MDF 檔案',\n '.accdt': 'ACCDT 檔案',\n '.accdb': 'ACCDB 檔案',\n '.AVI': 'AVI 檔案',\n '.tt': 'Text Template File',\n '.edmx': 'ADO.NET Entity Data Model Designer',\n '.csdl': 'CSDL 檔案',\n '.msl': 'MSL 檔案',\n '.ssdl': 'SSDL 檔案',\n '.nupkg': 'NUPKG 檔案',\n '.transform': 'TRANSFORM 檔案',\n '.psd1': 'Windows PowerShell 資料檔案',\n '.psm1': 'Windows PowerShell 指令碼模組',\n '.ps1': 'Windows PowerShell 指令碼',\n '.p7s': 'PKCS #7 簽章',\n '.xdt': 'XDT 檔案',\n '.EXE': '應用程式',\n '.diagram': 'DIAGRAM 檔案',\n '.ncp': 'NCP 檔案',\n '.fpp': 'FPP 檔案',\n '.dotx': 'Microsoft Word 範本',\n '.mdb': 'MDB 檔案',\n '.crt': '安全性憑證',\n '.key': 'KEY 檔案',\n '.srl': 'SRL 檔案',\n '.csr': 'CSR 檔案',\n '.py~': 'PY~ 檔案',\n '.html~': 'HTML~ 檔案',\n '.rdoc': 'RDOC 檔案',\n '.po': 'PO 檔案',\n '.po~': 'PO~ 檔案',\n '.css~': 'CSS~ 檔案',\n '.js~': 'JS~ 檔案',\n '.ini~': 'INI~ 檔案',\n '.py#': 'PY# 檔案',\n '.ruby-version': 'RUBY-VERSION 檔案',\n '.less': 'LESS 來源檔案',\n '.chm': '編譯的 HTML 說明檔案',\n '.chw': 'CHW 檔案',\n '.CHM': '編譯的 HTML 說明檔案',\n '.DLL': '應用程式擴充',\n '.ICO': 'ICO 檔案',\n '.frm': 'FRM 檔案',\n '.frx': 'FRX 檔案',\n '.tmp': 'TMP 檔案',\n '.pag': 'PAG 檔案',\n '.xlam': 'Microsoft Excel 增益集',\n '.hhp': 'HHP 檔案',\n '.hhc': 'HHC 檔案',\n '.ali': 'ALI 檔案',\n '.mht': 'Microsoft Edge HTML Document',\n '.buildinfo': 'BUILDINFO 檔案',\n '.go': 'Go 來源檔案',\n '.cur': '游標',\n '.Parent': 'PARENT 檔案',\n '.ogg': 'OGG 檔案',\n '.js(click)': 'JS(CLICK) 檔案',\n '.m4a': 'M4A 檔案',\n '.htc': 'HTC 檔案',\n '.mpg': 'MPG 檔案',\n '.classpath': 'CLASSPATH 檔案',\n '.mymetadata': 'MYMETADATA 檔案',\n '.jsdtscope': 'JSDTSCOPE 檔案',\n '.container': 'CONTAINER 檔案',\n '.jsp': 'Java Server Pages 來源檔案',\n '.MF': 'MF 檔案',\n '.class': 'CLASS 檔案',\n '.mystrutsdata': 'MYSTRUTSDATA 檔案',\n '.myhibernatedata': 'MYHIBERNATEDATA 檔案',\n '.springBeans': 'SPRINGBEANS 檔案',\n '.tld': 'TLD 檔案',\n '.version': 'VERSION 檔案',\n '.setup': 'SETUP 檔案',\n '.snap': 'SNAP 檔案',\n '.cmd': 'Windows 命令指令碼',\n '.npmignore': 'NPM Ignore 來源檔案',\n '.eslintrc': 'ESLINTRC 檔案',\n '.ts': 'TS 檔案',\n '.eslintignore': 'ESLINTIGNORE 檔案',\n '.nycrc': 'NYCRC 檔案',\n '.header': 'HEADER 檔案',\n '.error': 'ERROR 檔案',\n '.prettierrc': 'PRETTIERRC 檔案',\n '.bp': 'BP 檔案',\n '.png123': 'PNG123 檔案',\n '.LICENSE': 'LICENSE 檔案',\n '.PNG': 'PNG 檔案',\n '.vue': 'VUE 來源檔案',\n '.ejs': 'EJS 檔案',\n '.keep': 'KEEP 檔案',\n '.jsm': 'JSM 檔案',\n '.jade': 'Jade 來源檔案',\n '.gitkeep': 'GITKEEP 檔案',\n '.ldb': 'LDB 檔案',\n '.old': 'OLD 檔案',\n '.aspx': 'ASPX 來源檔案',\n '.lbd': 'LBD 檔案',\n '.pug': 'PUG 檔案',\n '.nlp': 'NLP 檔案',\n '.jst': 'JST 檔案',\n '.in': 'IN 檔案',\n '.targ': 'TARG 檔案',\n '.el': 'EL 檔案',\n '.jshintrc': 'JSHint RC 來源檔案',\n '.opts': 'OPTS 檔案',\n '.tm_properties': 'TM_PROPERTIES 檔案',\n '.coffee': 'CoffeeScript 來源檔案',\n '.bnf': 'BNF 檔案',\n '.inc': 'Include File',\n '.rle': 'RLE File',\n '.coverage': 'Code Coverage XML File',\n '.rdb': 'RDB 檔案',\n '.kv': 'KV 檔案',\n '.opf': 'OPF 檔案',\n '.e4p': 'E4P 檔案',\n '.e4q': 'E4Q 檔案',\n '.e6t': 'E6T 檔案',\n '.qm': 'QM 檔案',\n '.qss': 'QSS 檔案',\n '.edx': 'EDX 檔案',\n '.joblib': 'JOBLIB 檔案',\n '.asp': 'ASP 檔案',\n '.Pdf': 'Adobe Acrobat Document',\n '.spec': 'SPEC 檔案',\n '.toc': 'TOC 檔案',\n '.pkg': 'PKG 檔案',\n '.pyz': 'Python Zip Application File',\n '.ino': 'INO 檔案',\n '.ass': 'ASS 檔案',\n '.srt': 'SRT 檔案',\n '.WAV': 'WAV 檔案',\n '.tst': 'TST 檔案',\n '.mid': 'Video File',\n '.p': 'P 檔案',\n '.Python': 'PYTHON 檔案',\n '.csh': 'CSH 檔案',\n '.fish': 'FISH 檔案',\n '.7': '7 檔案',\n '.so': 'SO 檔案',\n '.dylib': 'DYLIB 檔案',\n '.pyo': 'Compiled Python File',\n '.egg-info': 'EGG-INFO 檔案',\n '.__markerlib': '__MARKERLIB 檔案',\n '._pip': '_PIP 檔案',\n '._pkg_resources': '_PKG_RESOURCES 檔案',\n '._setuptools': '_SETUPTOOLS 檔案',\n '._wheel': '_WHEEL 檔案',\n '._METADATA': '_METADATA 檔案',\n '._RECORD': '_RECORD 檔案',\n '._WHEEL': '_WHEEL 檔案',\n '.__vendor': '__VENDOR 檔案',\n '._commands': '_COMMANDS 檔案',\n '._compat': '_COMPAT 檔案',\n '._models': '_MODELS 檔案',\n '._operations': '_OPERATIONS 檔案',\n '._req': '_REQ 檔案',\n '._utils': '_UTILS 檔案',\n '._vcs': '_VCS 檔案',\n '._cachecontrol': '_CACHECONTROL 檔案',\n '._colorama': '_COLORAMA 檔案',\n '._distlib': '_DISTLIB 檔案',\n '._html5lib': '_HTML5LIB 檔案',\n '._lockfile': '_LOCKFILE 檔案',\n '._packaging': '_PACKAGING 檔案',\n '._progress': '_PROGRESS 檔案',\n '._requests': '_REQUESTS 檔案',\n '._caches': '_CACHES 檔案',\n '.__backport': '__BACKPORT 檔案',\n '._filters': '_FILTERS 檔案',\n '._serializer': '_SERIALIZER 檔案',\n '._treeadapters': '_TREEADAPTERS 檔案',\n '._treebuilders': '_TREEBUILDERS 檔案',\n '._treewalkers': '_TREEWALKERS 檔案',\n '._trie': '_TRIE 檔案',\n '._packages': '_PACKAGES 檔案',\n '._chardet': '_CHARDET 檔案',\n '._urllib3': '_URLLIB3 檔案',\n '._contrib': '_CONTRIB 檔案',\n '._util': '_UTIL 檔案',\n '._ssl_match_hostname': '_SSL_MATCH_HOSTNAME 檔案',\n '._zip-safe': '_ZIP-SAFE 檔案',\n '._command': '_COMMAND 檔案',\n '.jws': 'JWS 檔案',\n '._signatures': '_SIGNATURES 檔案',\n '._test': '_TEST 檔案',\n '._tool': '_TOOL 檔案',\n '._complex-dist': '_COMPLEX-DIST 檔案',\n '._complexdist': '_COMPLEXDIST 檔案',\n '._simpledist': '_SIMPLEDIST 檔案',\n '.下載': '下載 檔案',\n '.thmx': 'Microsoft Office 主題',\n '.sublime-build': 'SUBLIME-BUILD 檔案',\n '.pbxproj': 'PBXPROJ 檔案',\n '.xcworkspacedata': 'XCWORKSPACEDATA 檔案',\n '.xcuserstate': 'XCUSERSTATE 檔案',\n '.xcscheme': 'XCSCHEME 檔案',\n '.plist': 'Properties file 來源檔案',\n '.swift': 'SWIFT 檔案',\n '.storyboard': 'STORYBOARD 檔案',\n '.xcbkptlist': 'XCBKPTLIST 檔案',\n '.xib': 'XIB 檔案',\n '.entitlements': 'ENTITLEMENTS 檔案',\n '.xccurrentversion': 'XCCURRENTVERSION 檔案',\n '.apns': 'APNS 檔案',\n '.strings': 'STRINGS 檔案',\n '.mov': 'QuickTime 影片',\n '.ocx': 'ActiveX 控制項',\n '.ods': 'OpenDocument 試算表',\n '.j2': 'J2 檔案',\n '.tab': 'TAB 檔案',\n '.zi': 'ZI 檔案',\n '.bazel': 'BAZEL 檔案',\n '.pdl': 'PDL 檔案',\n '.StyleCop': 'STYLECOP 檔案',\n '.nuspec': 'NUSPEC 檔案',\n '.crx': 'CRX 檔案',\n '.addins': 'ADDINS 檔案',\n '.nunit': 'NUNIT 檔案',\n '.xsd': 'XML Schema File',\n '.xslt': 'XSLT Stylesheet',\n '.xpi': 'XPI 檔案',\n '.vspscc': 'Source Control Project Metadata File',\n '.component': 'COMPONENT 檔案',\n '.bas': 'BAS 檔案',\n '.virtualenv': 'VIRTUALENV 檔案',\n '.typed': 'TYPED 檔案',\n '.proto': 'PROTO 檔案',\n '.jmx': 'JMX 檔案',\n '.pikle': 'PIKLE 檔案',\n '.ttt': 'TTT 檔案',\n '.wsgi': 'WSGI 檔案',\n '.pyi': 'Python 來源檔案',\n '.rng': 'RNG 檔案',\n '.mod': 'MOD 檔案',\n '.bash-completion': 'BASH-COMPLETION 檔案',\n '.APACHE': 'APACHE 檔案',\n '.BSD': 'BSD 檔案',\n '.PSF': 'PSF 檔案',\n '.APACHE2': 'APACHE2 檔案',\n '.MIT': 'MIT 檔案',\n '._1x': '_1X 檔案',\n '._2x': '_2X 檔案',\n '._20dp': '_20DP 檔案',\n '._32dp': '_32DP 檔案',\n '._44dp': '_44DP 檔案',\n '._3x': '_3X 檔案',\n '.asm': 'Assembler Source',\n '.file': 'FILE 檔案',\n '.pot': 'Microsoft PowerPoint 97-2003 範本',\n '.apk': 'APK 檔案',\n '.store': 'STORE 檔案',\n '.marker': 'MARKER 檔案',\n '.bplist': 'BPLIST 檔案',\n '.jshintignore': 'JSHINTIGNORE 檔案',\n '.ratignore': 'RATIGNORE 檔案',\n '.tap': 'TAP 檔案',\n '.dtd': 'Document Type Definition 來源檔案',\n '.XML': 'XML Document',\n '.flow': 'FLOW 檔案',\n '.cmake': 'CMake 來源檔案',\n '.mjs': 'JavaScript 來源檔案',\n '.etl': 'ETL 檔案',\n '.parquet': 'PARQUET 檔案',\n '.kml': 'KML 檔案',\n '.MPL2': 'MPL2 檔案',\n '.la': 'LA 檔案',\n '.template': 'TEMPLATE 檔案',\n '.py-tpl': 'PY-TPL 檔案',\n '.MYD': 'MYD 檔案',\n '.CSM': 'CSM 檔案',\n '.webp': 'WEBP 檔案',\n '.url': '網際網路捷徑',\n '.ai': 'Adobe Illustrator Artwork 26.0',\n '._20 New (2-Feb-20)': '檔案',\n '._COVID & WFH  (24-March-20)': '檔案',\n '.5': '5 檔案',\n '.oca': 'OCA 檔案',\n '.OCX': 'ActiveX 控制項',\n '.xshd': 'XSHD 檔案',\n '.ignore': 'IGNORE 檔案',\n '.xcf': 'XCF 檔案',\n '.addin': 'ADDIN 檔案',\n '.t': 'Perl 來源檔案',\n '.sbr': 'Source Browser Intermediate File',\n '.suo (與 DESKTOP-4FQQEFC 衝突的複本 2019-07-28)': '檔案',\n '.Old': 'OLD 檔案',\n '.force': 'FORCE 檔案',\n '.projectile': 'PROJECTILE 檔案',\n '.res': 'Compiled Resource Script',\n '.mk': 'Makefile',\n '.cxx': 'C++ 來源檔案',\n '.vcproj': 'VC++ Project',\n '.dsp': 'VC++ 6 Project',\n '.dsw': 'VC++ 6 Workspace',\n '.d': 'D 檔案',\n '.swg': 'SWG 檔案'}"
     },
     "execution_count": 2,
     "metadata": {},
     "output_type": "execute_result"
    }
   ],
   "source": [
    "file_type_extension"
   ],
   "metadata": {
    "collapsed": false,
    "pycharm": {
     "name": "#%%\n"
    }
   }
  },
  {
   "cell_type": "code",
   "execution_count": null,
   "outputs": [],
   "source": [],
   "metadata": {
    "collapsed": false,
    "pycharm": {
     "name": "#%%\n"
    }
   }
  }
 ],
 "metadata": {
  "kernelspec": {
   "display_name": "Python 3",
   "language": "python",
   "name": "python3"
  },
  "language_info": {
   "codemirror_mode": {
    "name": "ipython",
    "version": 3
   },
   "file_extension": ".py",
   "mimetype": "text/x-python",
   "name": "python",
   "nbconvert_exporter": "python",
   "pygments_lexer": "ipython3",
   "version": "3.7.9"
  }
 },
 "nbformat": 4,
 "nbformat_minor": 0
}