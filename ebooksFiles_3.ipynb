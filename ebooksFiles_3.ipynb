{
 "cells": [
  {
   "cell_type": "code",
   "execution_count": 1,
   "metadata": {
    "collapsed": false,
    "pycharm": {
     "name": "#%%\n"
    }
   },
   "outputs": [],
   "source": [
    "import os\n",
    "import json\n",
    "import pickle\n",
    "import pandas as pd"
   ]
  },
  {
   "cell_type": "code",
   "execution_count": 2,
   "outputs": [
    {
     "data": {
      "text/plain": "{'.mp4': 'Video File',\n '.json': 'JSON 來源檔案',\n '.html': 'Firefox HTML Document',\n '.pdf': 'Adobe Acrobat Document',\n '.ppt': 'Microsoft PowerPoint 97-2003 簡報',\n '.pptx': 'Microsoft PowerPoint 簡報',\n '.zip': 'WinRAR ZIP 壓縮檔',\n '.iso': '光碟映像檔',\n '.jpg': 'JPG 檔案',\n '.txt': '文字文件',\n '.webm': 'WEBM 檔案',\n '.rar': 'WinRAR 壓縮檔',\n '.png': 'PNG 檔案',\n '.azw3': 'AZW3 檔案',\n '.md': 'Markdown 來源檔案',\n '.lay': 'LAY 檔案',\n '.bin': 'Video File',\n '.cfg': 'Configuration 來源檔案',\n '.0': '0 檔案',\n '.1': '1 檔案',\n '.csv': 'Microsoft Excel 逗點分隔值檔案',\n '.xml': 'XML Document',\n '.hsi': 'HSI 檔案',\n '.fx': 'FX Source',\n '.ini': '組態設定',\n '.lua': 'Lua 來源檔案',\n '.wav': 'WAV 檔案',\n '.py': 'PY 檔案',\n '.rst': 'Restructured Text 來源檔案',\n '.gitignore': '文字文件',\n '.pyc': 'Compiled Python File',\n '.gif': 'GIF 檔案',\n '.sql': 'SQL Text File',\n '.pyw': 'Python File (no console)',\n '.ui': 'UI 檔案',\n '.DSRX': 'DSRX 檔案',\n '.TXT': '文字文件',\n '.exe': '應用程式',\n '.dll': '應用程式擴充',\n '.ico': 'ICO 檔案',\n '.ctypes': 'CTYPES 檔案',\n '.bat': 'Windows 批次檔案',\n '.sample': 'SAMPLE 檔案',\n '.icns': 'ICNS 檔案',\n '.css': '階層式樣式表文件',\n '.pth': 'PTH 檔案',\n '.pxd': 'PXD 檔案',\n '.h': 'C Header 來源檔案',\n '.js': 'JavaScript 指令檔',\n '.qml': 'QML 檔案',\n '.qrc': 'QRC 檔案',\n '.xbel': 'XBEL 檔案',\n '.app': 'APP 檔案',\n '.lib': 'Object File Library',\n '.conf': 'CONF 檔案',\n '.prf': 'PICS Rules File',\n '.mako': 'MAKO 檔案',\n '.egg': 'EGG 檔案',\n '.dat': 'DAT 檔案',\n '.ics': 'iCalendar 檔案',\n '.gz': 'WinRAR 壓縮檔',\n '.geojson': 'GEOJSON 檔案',\n '.pem': 'PEM 檔案',\n '.map': 'Linker Address Map',\n '.vocab': 'VOCAB 檔案',\n '.svg': 'Microsoft Edge HTML Document',\n '.mo': 'MO 檔案',\n '.pym': 'PYM 檔案',\n '.pkl': 'PKL 檔案',\n '.bz2': 'WinRAR 壓縮檔',\n '.lzma': 'LZMA 檔案',\n '.xz': 'WinRAR 壓縮檔',\n '.gzip': 'GZIP 檔案',\n '.npy': 'NPY 檔案',\n '.z': 'WinRAR 壓縮檔',\n '.xsl': 'XSL Stylesheet',\n '.ttf': 'TrueType 字型檔案',\n '.npz': 'NPZ 檔案',\n '.A99': 'A99 檔案',\n '.B99': 'B99 檔案',\n '.eot': 'EOT 檔案',\n '.woff': 'WOFF 檔案',\n '.fits': 'FITS 檔案',\n '.f2py_f2cmap': 'F2PY_F2CMAP 檔案',\n '.f90': 'F90 檔案',\n '.f': 'F 檔案',\n '.wkt': 'WKT 檔案',\n '.gfs': 'GFS 檔案',\n '.dgn': 'DGN 檔案',\n '.dta': 'DTA 檔案',\n '.msgpack': 'MSGPACK 檔案',\n '.pickle': 'PICKLE 檔案',\n '.bbl': 'BBL 檔案',\n '.rc': 'Resource Script',\n '.pdb': 'Program Debug Database',\n '.log': '文字文件',\n '.mustache': 'MUSTACHE 檔案',\n '.mat': 'MAT 檔案',\n '.sav': 'SAV 檔案',\n '.nc': 'NC 檔案',\n '.tmpl': 'TMPL 檔案',\n '.s2p': 'S2P 檔案',\n '.s1p': 'S1P 檔案',\n '.pyx': 'PYX 檔案',\n '.whl': 'WHL 檔案',\n '.edgelist': 'EDGELIST 檔案',\n '.mbox': 'MBOX 檔案',\n '.tcl': 'TCL 檔案',\n '.enc': 'ENC 檔案',\n '.msg': 'Outlook 項目',\n '.tm': 'TM 檔案',\n '.xbm': 'XBM 檔案',\n '.xpm': 'XPM 檔案',\n '.mask': 'MASK 檔案',\n '.fs': 'F# 來源檔案',\n '.fsc': 'FSC 檔案',\n '.cs': 'C# 來源檔案',\n '.csc': 'CSC 檔案',\n '.terms': 'TERMS 檔案',\n '.ppm': 'PPM 檔案',\n '.eps': 'Encapsulated PostScript',\n '.vbs': 'VBScript 指令檔',\n '.ipynb': 'Jupyter 來源檔案',\n '.tsv': 'TSV 檔案',\n '.local': 'LOCAL 檔案',\n '.data-00000-of-00001': 'DATA-00000-OF-00001 檔案',\n '.index': 'INDEX 檔案',\n '.meta': 'META 檔案',\n '.xlsm': 'Microsoft Excel 啟用巨集的工作表',\n '.xlsx': 'Microsoft Excel 工作表',\n '.xls': 'Microsoft Excel 97-2003 工作表',\n '.pfx': '個人資訊交換',\n '.doc': 'Microsoft Word 97 - 2003 文件',\n '.resx': 'Microsoft .NET Managed Resource File',\n '.csproj': 'C# Project File',\n '.sln': 'Visual Studio Solution',\n '.suo': 'Visual Studio Solution User Options',\n '.config': 'Configuration 來源檔案',\n '.scc': 'SCC 檔案',\n '.settings': 'Settings-Designer File',\n '.manifest': 'MANIFEST 檔案',\n '.resources': 'RESOURCES 檔案',\n '.cache': 'CACHE 檔案',\n '.Cache': 'CACHE 檔案',\n '.docx': 'Microsoft Word 文件',\n '.user': 'Per-User Project Options File',\n '.pyproj': 'Python Project',\n '.gs': 'GS 檔案',\n '.hbs': 'Handlebars 來源檔案',\n '.sh': 'Shell Script',\n '.babelrc': 'BABELRC 檔案',\n '.bowerrc': 'Bower RC 來源檔案',\n '.editorconfig': 'Editor Config 來源檔案',\n '.gitattributes': '文字文件',\n '.rb': 'Ruby 來源檔案',\n '.lock': 'LOCK 檔案',\n '.ru': 'RU 檔案',\n '.yml': 'Yaml 來源檔案',\n '.gradle': 'Gradle 來源檔案',\n '.jar': 'Executable Jar File',\n '.properties': 'Properties 來源檔案',\n '.java': 'Java 來源檔案',\n '.jsonld': 'JSON File',\n '.db': 'Data Base File',\n '.postman_collection': 'POSTMAN_COLLECTION 檔案',\n '.asax': 'ASP.NET Server Application',\n '.pubxml': 'Publish Profile',\n '.targets': 'Project Targets File',\n '.rsp': 'RSP 檔案',\n '.001': 'WinRAR 壓縮檔',\n '.002': '002 檔案',\n '.003': '003 檔案',\n '.004': '004 檔案',\n '.bson': 'BSON 檔案',\n '.php': 'PHP 來源檔案',\n '.jpeg': 'JPEG 檔案',\n '.DS_Store': 'DS_STORE 檔案',\n '.mx': 'MX 檔案',\n '.epub': 'EPUB 檔案',\n '.h5': 'H5 檔案',\n '.sqlite': 'SQLITE 檔案',\n '.big': 'BIG 檔案',\n '.bmp': 'BMP 檔案',\n '.mp3': 'MP3 檔案',\n '.wmp3': 'WMP3 檔案',\n '.BMP': 'BMP 檔案',\n '.fnt': 'FNT 檔案',\n '.pack': 'PACK 檔案',\n '.GIF': 'GIF 檔案',\n '.JPG': 'JPG 檔案',\n '.jpgsize=450x337': 'JPGSIZE=450X337 檔案',\n '.jpgsize=640x332': 'JPGSIZE=640X332 檔案',\n '.jpgsize=376x305': 'JPGSIZE=376X305 檔案',\n '.cnmw690006ttY2Nzy7bckOg8ul19&690': 'CNMW690006TTY2NZY7BCKOG8UL19&690 檔案',\n '.cnbmiddle4e67c369t640e453936dd': 'CNBMIDDLE4E67C369T640E453936DD 檔案',\n '.cnmiddle62ae0058x76ea7cf54c4e&690': 'CNMIDDLE62AE0058X76EA7CF54C4E&690 檔案',\n '.cnmiddle6be02947ta61b88e09c27&690': 'CNMIDDLE6BE02947TA61B88E09C27&690 檔案',\n '.cnorignal4a0955884e7465df092b3': 'CNORIGNAL4A0955884E7465DF092B3 檔案',\n '.cnmiddle442fec47t906e619c23f6&690': 'CNMIDDLE442FEC47T906E619C23F6&690 檔案',\n '.cnmw690006eekf8zy7aSYdcPUX07': 'CNMW690006EEKF8ZY7ASYDCPUX07 檔案',\n '.cnmw690006ttY2Nzy7bcn8057if8&690': 'CNMW690006TTY2NZY7BCN8057IF8&690 檔案',\n '.text': 'TEXT 檔案',\n '.boto': 'BOTO 檔案',\n '.gitmodules': '文字文件',\n '.markdown': 'Markdown 來源檔案',\n '.license': 'LICENSE 檔案',\n '.fasta': 'FASTA 檔案',\n '.gml': 'GML 檔案',\n '.patch': 'PATCH 檔案',\n '.mplstyle': 'MPLSTYLE 檔案',\n '.htm': 'Firefox HTML Document',\n '.wmv': 'WMV 檔案',\n '.sqlite3': 'SQLITE3 檔案',\n '.iml': 'IML 檔案',\n '.ttc': 'TrueType 集合字型檔案',\n '.inv': 'INV 檔案',\n '.scss': 'Sass 來源檔案',\n '.graffle': 'GRAFFLE 檔案',\n '.data': 'DATA 檔案',\n '.vec': 'VEC 檔案',\n '.weights': 'WEIGHTS 檔案',\n '.svm': 'SVM 檔案',\n '.avi': 'AVI 檔案',\n '.name': 'NAME 檔案',\n '.cpp': 'C++ 來源檔案',\n '.hpp': 'C++ Header 來源檔案',\n '.c': 'C 來源檔案',\n '.pyd': 'Python Extension Module',\n '.def': 'Export Definition File',\n '.o': 'O 檔案',\n '.exp': 'Exports Library File',\n '.obj': '3D Object',\n '.hdf5': 'HDF5 檔案',\n '.pxi': 'PXI 檔案',\n '.a': 'A 檔案',\n '.item': 'ITEM 檔案',\n '.pl': 'Perl 來源檔案',\n '.genre': 'GENRE 檔案',\n '.info': 'INFO 檔案',\n '.occupation': 'OCCUPATION 檔案',\n '.base': 'BASE 檔案',\n '.test': 'TEST 檔案',\n '.cdd': 'CDD 檔案',\n '.pdn': 'PDN 檔案',\n '.skp': 'SKP 檔案',\n '.ggb': 'GGB 檔案',\n '.yaml': 'Yaml 來源檔案',\n '.tpl': 'TPL 檔案',\n '.otf': 'OpenType 字型檔案',\n '.pn': 'PN 檔案',\n '.TTF': 'TrueType 字型檔案',\n '.project': 'PROJECT 檔案',\n '.pydevproject': 'PYDEVPROJECT 檔案',\n '.prefs': 'PREFS 檔案',\n '.CSV': 'Microsoft Excel 逗點分隔值檔案',\n '.prj': 'PRJ 檔案',\n '.python-version': 'PYTHON-VERSION 檔案',\n '.RAR': 'WinRAR 壓縮檔',\n '.Rhistory': 'R History 來源檔案',\n '.R': 'R 來源檔案',\n '.RData': 'RDATA 檔案',\n '.src': 'SRC 檔案',\n '.rdata': 'RDATA 檔案',\n '.README': 'README 檔案',\n '.dbf': 'DBF 檔案',\n '.shp': 'SHP 檔案',\n '.shx': 'SHX 檔案',\n '.Rnw': 'RNW 檔案',\n '.tex': 'LaTeX 來源檔案',\n '.Rmd': 'RMD 檔案',\n '.mobi': 'MOBI 檔案',\n '.woff2': 'WOFF2 檔案',\n '.Zip': 'WinRAR ZIP 壓縮檔',\n '.psd': 'Adobe Photoshop Image.23',\n '.mno': 'MNO 檔案',\n '.rtf': 'RTF 格式',\n '.dwt': 'DWT 檔案',\n '.tif': 'TIF 檔案',\n '.swf': 'SWF 檔案',\n '.flv': 'Video File',\n '.ogv': 'OGV 檔案',\n '.win': 'Adobe CMS Extension',\n '.dev': 'DEV 檔案',\n '.layout': 'LAYOUT 檔案',\n '.gch': 'GCH 檔案',\n '.vcxproj': 'VC++ Project',\n '.filters': 'VC++ Project Filters File',\n '.ipch': 'IPCH 檔案',\n '.ilk': 'Incremental Linker File',\n '.pch': 'Precompiled Header File',\n '.idb': 'VC++ Minimum Rebuild Dependency File',\n '.tlog': 'TLOG 檔案',\n '.lastbuildstate': 'LASTBUILDSTATE 檔案',\n '.opendb': 'OPENDB 檔案',\n '.hgignore': 'HGIGNORE 檔案',\n '.h~': 'H~ 檔案',\n '.dox': 'DOX 檔案',\n '.i': 'Preprocessed C/C++ Source',\n '.v2': 'V2 檔案',\n '.cshtml': 'CSHTML 來源檔案',\n '.props': 'Project Property File',\n '.CopyComplete': 'COPYCOMPLETE 檔案',\n '.dtbcache': 'DTBCACHE 檔案',\n '.ide': 'IDE 檔案',\n '.idx': 'IDX 檔案',\n '.ide-wal': 'IDE-WAL 檔案',\n '.dockerignore': 'DOCKERIGNORE 檔案',\n '.helmignore': 'HELMIGNORE 檔案',\n '.ide-shm': 'IDE-SHM 檔案',\n '.bak': 'BAK 檔案',\n '.mkv': 'MKV 檔案',\n '.msi': 'Windows Installer 封裝',\n '.ldf': 'LDF 檔案',\n '.mdf': 'MDF 檔案',\n '.accdt': 'ACCDT 檔案',\n '.accdb': 'ACCDB 檔案',\n '.AVI': 'AVI 檔案',\n '.tt': 'Text Template File',\n '.edmx': 'ADO.NET Entity Data Model Designer',\n '.csdl': 'CSDL 檔案',\n '.msl': 'MSL 檔案',\n '.ssdl': 'SSDL 檔案',\n '.nupkg': 'NUPKG 檔案',\n '.transform': 'TRANSFORM 檔案',\n '.psd1': 'Windows PowerShell 資料檔案',\n '.psm1': 'Windows PowerShell 指令碼模組',\n '.ps1': 'Windows PowerShell 指令碼',\n '.p7s': 'PKCS #7 簽章',\n '.xdt': 'XDT 檔案',\n '.EXE': '應用程式',\n '.diagram': 'DIAGRAM 檔案',\n '.ncp': 'NCP 檔案',\n '.fpp': 'FPP 檔案',\n '.dotx': 'Microsoft Word 範本',\n '.mdb': 'MDB 檔案',\n '.crt': '安全性憑證',\n '.key': 'KEY 檔案',\n '.srl': 'SRL 檔案',\n '.csr': 'CSR 檔案',\n '.py~': 'PY~ 檔案',\n '.html~': 'HTML~ 檔案',\n '.rdoc': 'RDOC 檔案',\n '.po': 'PO 檔案',\n '.po~': 'PO~ 檔案',\n '.css~': 'CSS~ 檔案',\n '.js~': 'JS~ 檔案',\n '.ini~': 'INI~ 檔案',\n '.py#': 'PY# 檔案',\n '.ruby-version': 'RUBY-VERSION 檔案',\n '.less': 'LESS 來源檔案',\n '.chm': '編譯的 HTML 說明檔案',\n '.chw': 'CHW 檔案',\n '.CHM': '編譯的 HTML 說明檔案',\n '.DLL': '應用程式擴充',\n '.ICO': 'ICO 檔案',\n '.frm': 'FRM 檔案',\n '.frx': 'FRX 檔案',\n '.tmp': 'TMP 檔案',\n '.pag': 'PAG 檔案',\n '.xlam': 'Microsoft Excel 增益集',\n '.hhp': 'HHP 檔案',\n '.hhc': 'HHC 檔案',\n '.ali': 'ALI 檔案',\n '.mht': 'Microsoft Edge HTML Document',\n '.buildinfo': 'BUILDINFO 檔案',\n '.go': 'Go 來源檔案',\n '.cur': '游標',\n '.Parent': 'PARENT 檔案',\n '.ogg': 'OGG 檔案',\n '.js(click)': 'JS(CLICK) 檔案',\n '.m4a': 'M4A 檔案',\n '.htc': 'HTC 檔案',\n '.mpg': 'MPG 檔案',\n '.classpath': 'CLASSPATH 檔案',\n '.mymetadata': 'MYMETADATA 檔案',\n '.jsdtscope': 'JSDTSCOPE 檔案',\n '.container': 'CONTAINER 檔案',\n '.jsp': 'Java Server Pages 來源檔案',\n '.MF': 'MF 檔案',\n '.class': 'CLASS 檔案',\n '.mystrutsdata': 'MYSTRUTSDATA 檔案',\n '.myhibernatedata': 'MYHIBERNATEDATA 檔案',\n '.springBeans': 'SPRINGBEANS 檔案',\n '.tld': 'TLD 檔案',\n '.version': 'VERSION 檔案',\n '.setup': 'SETUP 檔案',\n '.snap': 'SNAP 檔案',\n '.cmd': 'Windows 命令指令碼',\n '.npmignore': 'NPM Ignore 來源檔案',\n '.eslintrc': 'ESLINTRC 檔案',\n '.ts': 'TS 檔案',\n '.eslintignore': 'ESLINTIGNORE 檔案',\n '.nycrc': 'NYCRC 檔案',\n '.header': 'HEADER 檔案',\n '.error': 'ERROR 檔案',\n '.prettierrc': 'PRETTIERRC 檔案',\n '.bp': 'BP 檔案',\n '.png123': 'PNG123 檔案',\n '.LICENSE': 'LICENSE 檔案',\n '.PNG': 'PNG 檔案',\n '.vue': 'VUE 來源檔案',\n '.ejs': 'EJS 檔案',\n '.keep': 'KEEP 檔案',\n '.jsm': 'JSM 檔案',\n '.jade': 'Jade 來源檔案',\n '.gitkeep': 'GITKEEP 檔案',\n '.ldb': 'LDB 檔案',\n '.old': 'OLD 檔案',\n '.aspx': 'ASPX 來源檔案',\n '.lbd': 'LBD 檔案',\n '.pug': 'PUG 檔案',\n '.nlp': 'NLP 檔案',\n '.jst': 'JST 檔案',\n '.in': 'IN 檔案',\n '.targ': 'TARG 檔案',\n '.el': 'EL 檔案',\n '.jshintrc': 'JSHint RC 來源檔案',\n '.opts': 'OPTS 檔案',\n '.tm_properties': 'TM_PROPERTIES 檔案',\n '.coffee': 'CoffeeScript 來源檔案',\n '.bnf': 'BNF 檔案',\n '.inc': 'Include File',\n '.rle': 'RLE File',\n '.coverage': 'Code Coverage XML File',\n '.rdb': 'RDB 檔案',\n '.kv': 'KV 檔案',\n '.opf': 'OPF 檔案',\n '.e4p': 'E4P 檔案',\n '.e4q': 'E4Q 檔案',\n '.e6t': 'E6T 檔案',\n '.qm': 'QM 檔案',\n '.qss': 'QSS 檔案',\n '.edx': 'EDX 檔案',\n '.joblib': 'JOBLIB 檔案',\n '.asp': 'ASP 檔案',\n '.Pdf': 'Adobe Acrobat Document',\n '.spec': 'SPEC 檔案',\n '.toc': 'TOC 檔案',\n '.pkg': 'PKG 檔案',\n '.pyz': 'Python Zip Application File',\n '.ino': 'INO 檔案',\n '.ass': 'ASS 檔案',\n '.srt': 'SRT 檔案',\n '.WAV': 'WAV 檔案',\n '.tst': 'TST 檔案',\n '.mid': 'Video File',\n '.p': 'P 檔案',\n '.Python': 'PYTHON 檔案',\n '.csh': 'CSH 檔案',\n '.fish': 'FISH 檔案',\n '.7': '7 檔案',\n '.so': 'SO 檔案',\n '.dylib': 'DYLIB 檔案',\n '.pyo': 'Compiled Python File',\n '.egg-info': 'EGG-INFO 檔案',\n '.__markerlib': '__MARKERLIB 檔案',\n '._pip': '_PIP 檔案',\n '._pkg_resources': '_PKG_RESOURCES 檔案',\n '._setuptools': '_SETUPTOOLS 檔案',\n '._wheel': '_WHEEL 檔案',\n '._METADATA': '_METADATA 檔案',\n '._RECORD': '_RECORD 檔案',\n '._WHEEL': '_WHEEL 檔案',\n '.__vendor': '__VENDOR 檔案',\n '._commands': '_COMMANDS 檔案',\n '._compat': '_COMPAT 檔案',\n '._models': '_MODELS 檔案',\n '._operations': '_OPERATIONS 檔案',\n '._req': '_REQ 檔案',\n '._utils': '_UTILS 檔案',\n '._vcs': '_VCS 檔案',\n '._cachecontrol': '_CACHECONTROL 檔案',\n '._colorama': '_COLORAMA 檔案',\n '._distlib': '_DISTLIB 檔案',\n '._html5lib': '_HTML5LIB 檔案',\n '._lockfile': '_LOCKFILE 檔案',\n '._packaging': '_PACKAGING 檔案',\n '._progress': '_PROGRESS 檔案',\n '._requests': '_REQUESTS 檔案',\n '._caches': '_CACHES 檔案',\n '.__backport': '__BACKPORT 檔案',\n '._filters': '_FILTERS 檔案',\n '._serializer': '_SERIALIZER 檔案',\n '._treeadapters': '_TREEADAPTERS 檔案',\n '._treebuilders': '_TREEBUILDERS 檔案',\n '._treewalkers': '_TREEWALKERS 檔案',\n '._trie': '_TRIE 檔案',\n '._packages': '_PACKAGES 檔案',\n '._chardet': '_CHARDET 檔案',\n '._urllib3': '_URLLIB3 檔案',\n '._contrib': '_CONTRIB 檔案',\n '._util': '_UTIL 檔案',\n '._ssl_match_hostname': '_SSL_MATCH_HOSTNAME 檔案',\n '._zip-safe': '_ZIP-SAFE 檔案',\n '._command': '_COMMAND 檔案',\n '.jws': 'JWS 檔案',\n '._signatures': '_SIGNATURES 檔案',\n '._test': '_TEST 檔案',\n '._tool': '_TOOL 檔案',\n '._complex-dist': '_COMPLEX-DIST 檔案',\n '._complexdist': '_COMPLEXDIST 檔案',\n '._simpledist': '_SIMPLEDIST 檔案',\n '.下載': '下載 檔案',\n '.thmx': 'Microsoft Office 主題',\n '.sublime-build': 'SUBLIME-BUILD 檔案',\n '.pbxproj': 'PBXPROJ 檔案',\n '.xcworkspacedata': 'XCWORKSPACEDATA 檔案',\n '.xcuserstate': 'XCUSERSTATE 檔案',\n '.xcscheme': 'XCSCHEME 檔案',\n '.plist': 'Properties file 來源檔案',\n '.swift': 'SWIFT 檔案',\n '.storyboard': 'STORYBOARD 檔案',\n '.xcbkptlist': 'XCBKPTLIST 檔案',\n '.xib': 'XIB 檔案',\n '.entitlements': 'ENTITLEMENTS 檔案',\n '.xccurrentversion': 'XCCURRENTVERSION 檔案',\n '.apns': 'APNS 檔案',\n '.strings': 'STRINGS 檔案',\n '.mov': 'QuickTime 影片',\n '.ocx': 'ActiveX 控制項',\n '.ods': 'OpenDocument 試算表',\n '.j2': 'J2 檔案',\n '.tab': 'TAB 檔案',\n '.zi': 'ZI 檔案',\n '.bazel': 'BAZEL 檔案',\n '.pdl': 'PDL 檔案',\n '.StyleCop': 'STYLECOP 檔案',\n '.nuspec': 'NUSPEC 檔案',\n '.crx': 'CRX 檔案',\n '.addins': 'ADDINS 檔案',\n '.nunit': 'NUNIT 檔案',\n '.xsd': 'XML Schema File',\n '.xslt': 'XSLT Stylesheet',\n '.xpi': 'XPI 檔案',\n '.vspscc': 'Source Control Project Metadata File',\n '.component': 'COMPONENT 檔案',\n '.bas': 'BAS 檔案',\n '.virtualenv': 'VIRTUALENV 檔案',\n '.typed': 'TYPED 檔案',\n '.proto': 'PROTO 檔案',\n '.jmx': 'JMX 檔案',\n '.pikle': 'PIKLE 檔案',\n '.ttt': 'TTT 檔案',\n '.wsgi': 'WSGI 檔案',\n '.pyi': 'Python 來源檔案',\n '.rng': 'RNG 檔案',\n '.mod': 'MOD 檔案',\n '.bash-completion': 'BASH-COMPLETION 檔案',\n '.APACHE': 'APACHE 檔案',\n '.BSD': 'BSD 檔案',\n '.PSF': 'PSF 檔案',\n '.APACHE2': 'APACHE2 檔案',\n '.MIT': 'MIT 檔案',\n '._1x': '_1X 檔案',\n '._2x': '_2X 檔案',\n '._20dp': '_20DP 檔案',\n '._32dp': '_32DP 檔案',\n '._44dp': '_44DP 檔案',\n '._3x': '_3X 檔案',\n '.asm': 'Assembler Source',\n '.file': 'FILE 檔案',\n '.pot': 'Microsoft PowerPoint 97-2003 範本',\n '.apk': 'APK 檔案',\n '.store': 'STORE 檔案',\n '.marker': 'MARKER 檔案',\n '.bplist': 'BPLIST 檔案',\n '.jshintignore': 'JSHINTIGNORE 檔案',\n '.ratignore': 'RATIGNORE 檔案',\n '.tap': 'TAP 檔案',\n '.dtd': 'Document Type Definition 來源檔案',\n '.XML': 'XML Document',\n '.flow': 'FLOW 檔案',\n '.cmake': 'CMake 來源檔案',\n '.mjs': 'JavaScript 來源檔案',\n '.etl': 'ETL 檔案',\n '.parquet': 'PARQUET 檔案',\n '.kml': 'KML 檔案',\n '.MPL2': 'MPL2 檔案',\n '.la': 'LA 檔案',\n '.template': 'TEMPLATE 檔案',\n '.py-tpl': 'PY-TPL 檔案',\n '.MYD': 'MYD 檔案',\n '.CSM': 'CSM 檔案',\n '.webp': 'WEBP 檔案',\n '.url': '網際網路捷徑',\n '.ai': 'Adobe Illustrator Artwork 26.0',\n '._20 New (2-Feb-20)': '檔案',\n '._COVID & WFH  (24-March-20)': '檔案',\n '.5': '5 檔案',\n '.oca': 'OCA 檔案',\n '.OCX': 'ActiveX 控制項',\n '.xshd': 'XSHD 檔案',\n '.ignore': 'IGNORE 檔案',\n '.xcf': 'XCF 檔案',\n '.addin': 'ADDIN 檔案',\n '.t': 'Perl 來源檔案',\n '.sbr': 'Source Browser Intermediate File',\n '.suo (與 DESKTOP-4FQQEFC 衝突的複本 2019-07-28)': '檔案',\n '.Old': 'OLD 檔案',\n '.force': 'FORCE 檔案',\n '.projectile': 'PROJECTILE 檔案',\n '.res': 'Compiled Resource Script',\n '.mk': 'Makefile',\n '.cxx': 'C++ 來源檔案',\n '.vcproj': 'VC++ Project',\n '.dsp': 'VC++ 6 Project',\n '.dsw': 'VC++ 6 Workspace',\n '.d': 'D 檔案',\n '.swg': 'SWG 檔案'}"
     },
     "execution_count": 2,
     "metadata": {},
     "output_type": "execute_result"
    }
   ],
   "source": [
    "with open('file_type_extension_list.json', 'r', encoding='utf-8') as f:\n",
    "    file_type_extension = json.load(f)\n",
    "file_type_extension"
   ],
   "metadata": {
    "collapsed": false,
    "pycharm": {
     "name": "#%%\n"
    }
   }
  },
  {
   "cell_type": "code",
   "execution_count": 4,
   "outputs": [],
   "source": [
    "file_size = 0\n",
    "total_file_size = 0\n",
    "drives=[]\n",
    "files_list = {}\n",
    "root_path = 'Z:/'\n",
    "counter = 0\n",
    "\n",
    "for current_directory, folders_in_directory, files_in_directory in os.walk(root_path):\n",
    "    for each_file in files_in_directory:\n",
    "        file_name, file_extension = os.path.splitext(each_file)\n",
    "        full_file_name_path = os.path.join(os.path.abspath(current_directory), each_file)\n",
    "        extension = file_extension.lstrip('.')\n",
    "        if extension not in files_list:\n",
    "            files_list[extension] = []\n",
    "        files_list[extension].append({'file_name': file_name,\n",
    "                                      'path_name': current_directory,\n",
    "                                      'full_path': full_file_name_path})\n",
    "\n",
    "with open('z_drive_file_list.json', 'w', encoding='utf-8') as f:\n",
    "    json.dump(files_list, f, ensure_ascii=False, indent=4)"
   ],
   "metadata": {
    "collapsed": false,
    "pycharm": {
     "name": "#%%\n"
    }
   }
  },
  {
   "cell_type": "code",
   "execution_count": null,
   "outputs": [],
   "source": [],
   "metadata": {
    "collapsed": false,
    "pycharm": {
     "name": "#%%\n"
    }
   }
  }
 ],
 "metadata": {
  "kernelspec": {
   "display_name": "Python 3",
   "language": "python",
   "name": "python3"
  },
  "language_info": {
   "codemirror_mode": {
    "name": "ipython",
    "version": 3
   },
   "file_extension": ".py",
   "mimetype": "text/x-python",
   "name": "python",
   "nbconvert_exporter": "python",
   "pygments_lexer": "ipython3",
   "version": "3.7.9"
  }
 },
 "nbformat": 4,
 "nbformat_minor": 0
}