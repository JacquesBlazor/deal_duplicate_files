{
 "cells": [
  {
   "cell_type": "code",
   "execution_count": 1,
   "metadata": {
    "collapsed": false,
    "pycharm": {
     "name": "#%%\n"
    }
   },
   "outputs": [],
   "source": [
    "import pandas as pd\n",
    "import pickle\n",
    "import json\n",
    "import os"
   ]
  },
  {
   "cell_type": "code",
   "execution_count": 2,
   "outputs": [
    {
     "name": "stdout",
     "output_type": "stream",
     "text": [
      "468169\n",
      "['檔案名稱' '路徑' '大小' '新增日期' '修改日期' '檔案類型' '組別' '磁碟機' '根目錄' '資料夾']\n"
     ]
    }
   ],
   "source": [
    "df = pd.read_csv('DuplicateCleanerPro1230_D_E_Z.csv')\n",
    "df.drop(columns=['已標記', '雜湊值', '永久連結', '歌手', '標題', '專輯', '時長', '位元率', '採樣率', '圖片寬度', '圖片高度', 'Unused', 'ZipFlag'], axis=1, inplace=True)\n",
    "df[['磁碟機', '根目錄']] = df['路徑'].str.split('\\\\', n=1, expand=True)\n",
    "df['根目錄'] = df['根目錄'].apply(lambda path: path.split('\\\\')[0])\n",
    "df['資料夾'] = df['路徑'].apply(lambda path: path.split('\\\\')[-2])\n",
    "#df.sort_values(['組別', '檔案名稱', '修改日期', '路徑'], inplace=True)\n",
    "print(len(df))\n",
    "print(df.columns.values)"
   ],
   "metadata": {
    "collapsed": false,
    "pycharm": {
     "name": "#%%\n"
    }
   }
  },
  {
   "cell_type": "code",
   "execution_count": 3,
   "outputs": [
    {
     "data": {
      "text/plain": "                                                                                                                                                          檔案名稱  \\\n組別     檔案類型     資料夾                                修改日期                   磁碟機 根目錄                                                                                \n1      .mp4     8分鐘搞懂理財知識_新手教室 Youtube 投資影片教學      2018/11/14 下午 02:12:09 Z:  8分鐘搞懂理財知識_新手教室 Youtube 投資影片教學                 8分鐘搞懂技術分析：RSI的重要價值-WUwaMVSCDYY.mp4   \n                8分鐘搞懂理財知識_重新整理過                    2021/5/11 上午 02:58:44  Z:  8分鐘搞懂理財知識_重新整理過                           2015-08-25_2152_技術分析教學_快速搞懂RSI技術指標.mp4   \n                Youtube 投資影片教學                     2018/11/14 下午 02:12:09 Z:  Youtube 投資影片教學                                8分鐘搞懂技術分析：RSI的重要價值-WUwaMVSCDYY.mp4   \n                _8分鐘搞懂理財知識_原來的 新手教室 Youtube 投資影片教學 2018/11/14 下午 02:12:09 D:  8分鐘搞懂理財知識                                     8分鐘搞懂技術分析：RSI的重要價值-WUwaMVSCDYY.mp4   \n                _8分鐘搞懂理財知識_整理的 Youtube 影片          2021/5/11 上午 02:58:44  D:  8分鐘搞懂理財知識                                 2015-08-25_2152_技術分析教學_快速搞懂RSI技術指標.mp4   \n...                                                                                                                                                        ...   \n167210 .props   net46                              2018/5/24 上午 05:38:22  Z:  資訊書籍文件                         Microsoft.CodeDom.Providers.DotNetCompilerPlat...   \n                net45                              2018/5/24 上午 05:38:22  Z:  資訊書籍文件                         Microsoft.CodeDom.Providers.DotNetCompilerPlat...   \n                net46                              2018/5/24 上午 05:38:22  Z:  資訊書籍文件                         Microsoft.CodeDom.Providers.DotNetCompilerPlat...   \n167211 .strings zh-Hant.lproj                      2019/7/31 上午 07:20:26  Z:  資訊書籍文件                                                      LaunchScreen.strings   \n                                                   2019/7/31 上午 07:20:24  Z:  資訊書籍文件                                                      LaunchScreen.strings   \n\n                                                                                                                                                            路徑  \\\n組別     檔案類型     資料夾                                修改日期                   磁碟機 根目錄                                                                                \n1      .mp4     8分鐘搞懂理財知識_新手教室 Youtube 投資影片教學      2018/11/14 下午 02:12:09 Z:  8分鐘搞懂理財知識_新手教室 Youtube 投資影片教學                  Z:\\8分鐘搞懂理財知識_新手教室 Youtube 投資影片教學\\   \n                8分鐘搞懂理財知識_重新整理過                    2021/5/11 上午 02:58:44  Z:  8分鐘搞懂理財知識_重新整理過                                              Z:\\8分鐘搞懂理財知識_重新整理過\\   \n                Youtube 投資影片教學                     2018/11/14 下午 02:12:09 Z:  Youtube 投資影片教學                                                Z:\\Youtube 投資影片教學\\   \n                _8分鐘搞懂理財知識_原來的 新手教室 Youtube 投資影片教學 2018/11/14 下午 02:12:09 D:  8分鐘搞懂理財知識                       D:\\8分鐘搞懂理財知識\\_8分鐘搞懂理財知識_原來的 新手教室 Youtube 投資影片教學\\   \n                _8分鐘搞懂理財知識_整理的 Youtube 影片          2021/5/11 上午 02:58:44  D:  8分鐘搞懂理財知識                                D:\\8分鐘搞懂理財知識\\_8分鐘搞懂理財知識_整理的 Youtube 影片\\   \n...                                                                                                                                                        ...   \n167210 .props   net46                              2018/5/24 上午 05:38:22  Z:  資訊書籍文件                         Z:\\資訊書籍文件\\Visual C# 一次就懂 ASP.NET MVC5.X 網站開發 W...   \n                net45                              2018/5/24 上午 05:38:22  Z:  資訊書籍文件                         Z:\\資訊書籍文件\\Visual C# 一次就懂 ASP.NET MVC5.X 網站開發 W...   \n                net46                              2018/5/24 上午 05:38:22  Z:  資訊書籍文件                         Z:\\資訊書籍文件\\Visual C# 一次就懂 ASP.NET MVC5.X 網站開發 W...   \n167211 .strings zh-Hant.lproj                      2019/7/31 上午 07:20:26  Z:  資訊書籍文件                         Z:\\資訊書籍文件\\iOS 13 程式設計實戰 Swift 5.1SwiftUI 框架 快速...   \n                                                   2019/7/31 上午 07:20:24  Z:  資訊書籍文件                         Z:\\資訊書籍文件\\iOS 13 程式設計實戰 Swift 5.1SwiftUI 框架 快速...   \n\n                                                                                                                   大小  \\\n組別     檔案類型     資料夾                                修改日期                   磁碟機 根目錄                                       \n1      .mp4     8分鐘搞懂理財知識_新手教室 Youtube 投資影片教學      2018/11/14 下午 02:12:09 Z:  8分鐘搞懂理財知識_新手教室 Youtube 投資影片教學  25612876   \n                8分鐘搞懂理財知識_重新整理過                    2021/5/11 上午 02:58:44  Z:  8分鐘搞懂理財知識_重新整理過                25612876   \n                Youtube 投資影片教學                     2018/11/14 下午 02:12:09 Z:  Youtube 投資影片教學                 25612876   \n                _8分鐘搞懂理財知識_原來的 新手教室 Youtube 投資影片教學 2018/11/14 下午 02:12:09 D:  8分鐘搞懂理財知識                      25612876   \n                _8分鐘搞懂理財知識_整理的 Youtube 影片          2021/5/11 上午 02:58:44  D:  8分鐘搞懂理財知識                      25612876   \n...                                                                                                               ...   \n167210 .props   net46                              2018/5/24 上午 05:38:22  Z:  資訊書籍文件                             5530   \n                net45                              2018/5/24 上午 05:38:22  Z:  資訊書籍文件                             5530   \n                net46                              2018/5/24 上午 05:38:22  Z:  資訊書籍文件                             5530   \n167211 .strings zh-Hant.lproj                      2019/7/31 上午 07:20:26  Z:  資訊書籍文件                                1   \n                                                   2019/7/31 上午 07:20:24  Z:  資訊書籍文件                                1   \n\n                                                                                                                              新增日期  \n組別     檔案類型     資料夾                                修改日期                   磁碟機 根目錄                                                   \n1      .mp4     8分鐘搞懂理財知識_新手教室 Youtube 投資影片教學      2018/11/14 下午 02:12:09 Z:  8分鐘搞懂理財知識_新手教室 Youtube 投資影片教學  2021/5/10 下午 05:08:28  \n                8分鐘搞懂理財知識_重新整理過                    2021/5/11 上午 02:58:44  Z:  8分鐘搞懂理財知識_重新整理過                2021/5/11 上午 03:06:53  \n                Youtube 投資影片教學                     2018/11/14 下午 02:12:09 Z:  Youtube 投資影片教學                 2021/5/10 下午 04:04:52  \n                _8分鐘搞懂理財知識_原來的 新手教室 Youtube 投資影片教學 2018/11/14 下午 02:12:09 D:  8分鐘搞懂理財知識                      2021/8/18 上午 02:37:16  \n                _8分鐘搞懂理財知識_整理的 Youtube 影片          2021/5/11 上午 02:58:44  D:  8分鐘搞懂理財知識                      2021/8/18 上午 02:38:06  \n...                                                                                                                            ...  \n167210 .props   net46                              2018/5/24 上午 05:38:22  Z:  資訊書籍文件                          2020/3/7 下午 08:06:24  \n                net45                              2018/5/24 上午 05:38:22  Z:  資訊書籍文件                          2020/3/7 下午 08:09:52  \n                net46                              2018/5/24 上午 05:38:22  Z:  資訊書籍文件                          2020/3/7 下午 08:09:53  \n167211 .strings zh-Hant.lproj                      2019/7/31 上午 07:20:26  Z:  資訊書籍文件                         2020/2/10 上午 07:58:08  \n                                                   2019/7/31 上午 07:20:24  Z:  資訊書籍文件                         2020/2/10 上午 07:58:08  \n\n[468169 rows x 4 columns]",
      "text/html": "<div>\n<style scoped>\n    .dataframe tbody tr th:only-of-type {\n        vertical-align: middle;\n    }\n\n    .dataframe tbody tr th {\n        vertical-align: top;\n    }\n\n    .dataframe thead th {\n        text-align: right;\n    }\n</style>\n<table border=\"1\" class=\"dataframe\">\n  <thead>\n    <tr style=\"text-align: right;\">\n      <th></th>\n      <th></th>\n      <th></th>\n      <th></th>\n      <th></th>\n      <th></th>\n      <th>檔案名稱</th>\n      <th>路徑</th>\n      <th>大小</th>\n      <th>新增日期</th>\n    </tr>\n    <tr>\n      <th>組別</th>\n      <th>檔案類型</th>\n      <th>資料夾</th>\n      <th>修改日期</th>\n      <th>磁碟機</th>\n      <th>根目錄</th>\n      <th></th>\n      <th></th>\n      <th></th>\n      <th></th>\n    </tr>\n  </thead>\n  <tbody>\n    <tr>\n      <th rowspan=\"5\" valign=\"top\">1</th>\n      <th rowspan=\"5\" valign=\"top\">.mp4</th>\n      <th>8分鐘搞懂理財知識_新手教室 Youtube 投資影片教學</th>\n      <th>2018/11/14 下午 02:12:09</th>\n      <th>Z:</th>\n      <th>8分鐘搞懂理財知識_新手教室 Youtube 投資影片教學</th>\n      <td>8分鐘搞懂技術分析：RSI的重要價值-WUwaMVSCDYY.mp4</td>\n      <td>Z:\\8分鐘搞懂理財知識_新手教室 Youtube 投資影片教學\\</td>\n      <td>25612876</td>\n      <td>2021/5/10 下午 05:08:28</td>\n    </tr>\n    <tr>\n      <th>8分鐘搞懂理財知識_重新整理過</th>\n      <th>2021/5/11 上午 02:58:44</th>\n      <th>Z:</th>\n      <th>8分鐘搞懂理財知識_重新整理過</th>\n      <td>2015-08-25_2152_技術分析教學_快速搞懂RSI技術指標.mp4</td>\n      <td>Z:\\8分鐘搞懂理財知識_重新整理過\\</td>\n      <td>25612876</td>\n      <td>2021/5/11 上午 03:06:53</td>\n    </tr>\n    <tr>\n      <th>Youtube 投資影片教學</th>\n      <th>2018/11/14 下午 02:12:09</th>\n      <th>Z:</th>\n      <th>Youtube 投資影片教學</th>\n      <td>8分鐘搞懂技術分析：RSI的重要價值-WUwaMVSCDYY.mp4</td>\n      <td>Z:\\Youtube 投資影片教學\\</td>\n      <td>25612876</td>\n      <td>2021/5/10 下午 04:04:52</td>\n    </tr>\n    <tr>\n      <th>_8分鐘搞懂理財知識_原來的 新手教室 Youtube 投資影片教學</th>\n      <th>2018/11/14 下午 02:12:09</th>\n      <th>D:</th>\n      <th>8分鐘搞懂理財知識</th>\n      <td>8分鐘搞懂技術分析：RSI的重要價值-WUwaMVSCDYY.mp4</td>\n      <td>D:\\8分鐘搞懂理財知識\\_8分鐘搞懂理財知識_原來的 新手教室 Youtube 投資影片教學\\</td>\n      <td>25612876</td>\n      <td>2021/8/18 上午 02:37:16</td>\n    </tr>\n    <tr>\n      <th>_8分鐘搞懂理財知識_整理的 Youtube 影片</th>\n      <th>2021/5/11 上午 02:58:44</th>\n      <th>D:</th>\n      <th>8分鐘搞懂理財知識</th>\n      <td>2015-08-25_2152_技術分析教學_快速搞懂RSI技術指標.mp4</td>\n      <td>D:\\8分鐘搞懂理財知識\\_8分鐘搞懂理財知識_整理的 Youtube 影片\\</td>\n      <td>25612876</td>\n      <td>2021/8/18 上午 02:38:06</td>\n    </tr>\n    <tr>\n      <th>...</th>\n      <th>...</th>\n      <th>...</th>\n      <th>...</th>\n      <th>...</th>\n      <th>...</th>\n      <td>...</td>\n      <td>...</td>\n      <td>...</td>\n      <td>...</td>\n    </tr>\n    <tr>\n      <th rowspan=\"3\" valign=\"top\">167210</th>\n      <th rowspan=\"3\" valign=\"top\">.props</th>\n      <th>net46</th>\n      <th>2018/5/24 上午 05:38:22</th>\n      <th>Z:</th>\n      <th>資訊書籍文件</th>\n      <td>Microsoft.CodeDom.Providers.DotNetCompilerPlat...</td>\n      <td>Z:\\資訊書籍文件\\Visual C# 一次就懂 ASP.NET MVC5.X 網站開發 W...</td>\n      <td>5530</td>\n      <td>2020/3/7 下午 08:06:24</td>\n    </tr>\n    <tr>\n      <th>net45</th>\n      <th>2018/5/24 上午 05:38:22</th>\n      <th>Z:</th>\n      <th>資訊書籍文件</th>\n      <td>Microsoft.CodeDom.Providers.DotNetCompilerPlat...</td>\n      <td>Z:\\資訊書籍文件\\Visual C# 一次就懂 ASP.NET MVC5.X 網站開發 W...</td>\n      <td>5530</td>\n      <td>2020/3/7 下午 08:09:52</td>\n    </tr>\n    <tr>\n      <th>net46</th>\n      <th>2018/5/24 上午 05:38:22</th>\n      <th>Z:</th>\n      <th>資訊書籍文件</th>\n      <td>Microsoft.CodeDom.Providers.DotNetCompilerPlat...</td>\n      <td>Z:\\資訊書籍文件\\Visual C# 一次就懂 ASP.NET MVC5.X 網站開發 W...</td>\n      <td>5530</td>\n      <td>2020/3/7 下午 08:09:53</td>\n    </tr>\n    <tr>\n      <th rowspan=\"2\" valign=\"top\">167211</th>\n      <th rowspan=\"2\" valign=\"top\">.strings</th>\n      <th rowspan=\"2\" valign=\"top\">zh-Hant.lproj</th>\n      <th>2019/7/31 上午 07:20:26</th>\n      <th>Z:</th>\n      <th>資訊書籍文件</th>\n      <td>LaunchScreen.strings</td>\n      <td>Z:\\資訊書籍文件\\iOS 13 程式設計實戰 Swift 5.1SwiftUI 框架 快速...</td>\n      <td>1</td>\n      <td>2020/2/10 上午 07:58:08</td>\n    </tr>\n    <tr>\n      <th>2019/7/31 上午 07:20:24</th>\n      <th>Z:</th>\n      <th>資訊書籍文件</th>\n      <td>LaunchScreen.strings</td>\n      <td>Z:\\資訊書籍文件\\iOS 13 程式設計實戰 Swift 5.1SwiftUI 框架 快速...</td>\n      <td>1</td>\n      <td>2020/2/10 上午 07:58:08</td>\n    </tr>\n  </tbody>\n</table>\n<p>468169 rows × 4 columns</p>\n</div>"
     },
     "execution_count": 3,
     "metadata": {},
     "output_type": "execute_result"
    }
   ],
   "source": [
    "df_index1 = df.set_index(['組別', '檔案類型', '資料夾', '修改日期', '磁碟機', '根目錄'])\n",
    "df_index1"
   ],
   "metadata": {
    "collapsed": false,
    "pycharm": {
     "name": "#%%\n"
    }
   }
  },
  {
   "cell_type": "code",
   "execution_count": 4,
   "outputs": [],
   "source": [
    "group_index1 = df_index1.groupby(['資料夾'])"
   ],
   "metadata": {
    "collapsed": false,
    "pycharm": {
     "name": "#%%\n"
    }
   }
  },
  {
   "cell_type": "code",
   "execution_count": 5,
   "outputs": [
    {
     "name": "stdout",
     "output_type": "stream",
     "text": [
      ".AppleDouble\n"
     ]
    },
    {
     "data": {
      "text/plain": "                                                                                                檔案名稱  \\\n組別    檔案類型    資料夾          修改日期                  磁碟機 根目錄                                               \n92274 .Parent .AppleDouble 2011/1/25 上午 08:51:06 Z:  資訊書籍文件                                  .Parent   \n                                                 D:  _eBooks 電子書 Java+JS+HTML+CSS+RWD+Node   .Parent   \n92317 .gif    .AppleDouble 2011/8/29 上午 04:56:04 Z:  資訊書籍文件                                 logo.gif   \n                                                 D:  _eBooks 電子書 Java+JS+HTML+CSS+RWD+Node  logo.gif   \n\n                                                                                                                                           路徑  \\\n組別    檔案類型    資料夾          修改日期                  磁碟機 根目錄                                                                                        \n92274 .Parent .AppleDouble 2011/1/25 上午 08:51:06 Z:  資訊書籍文件                                 Z:\\資訊書籍文件\\HTML & CSS 網站設計建置優化之道\\html-and-css-b...   \n                                                 D:  _eBooks 電子書 Java+JS+HTML+CSS+RWD+Node  D:\\_eBooks 電子書 Java+JS+HTML+CSS+RWD+Node\\HTML ...   \n92317 .gif    .AppleDouble 2011/8/29 上午 04:56:04 Z:  資訊書籍文件                                 Z:\\資訊書籍文件\\HTML & CSS 網站設計建置優化之道\\html-and-css-b...   \n                                                 D:  _eBooks 電子書 Java+JS+HTML+CSS+RWD+Node  D:\\_eBooks 電子書 Java+JS+HTML+CSS+RWD+Node\\HTML ...   \n\n                                                                                             大小  \\\n組別    檔案類型    資料夾          修改日期                  磁碟機 根目錄                                          \n92274 .Parent .AppleDouble 2011/1/25 上午 08:51:06 Z:  資訊書籍文件                                 741   \n                                                 D:  _eBooks 電子書 Java+JS+HTML+CSS+RWD+Node  741   \n92317 .gif    .AppleDouble 2011/8/29 上午 04:56:04 Z:  資訊書籍文件                                 741   \n                                                 D:  _eBooks 電子書 Java+JS+HTML+CSS+RWD+Node  741   \n\n                                                                                                             新增日期  \n組別    檔案類型    資料夾          修改日期                  磁碟機 根目錄                                                           \n92274 .Parent .AppleDouble 2011/1/25 上午 08:51:06 Z:  資訊書籍文件                                 2019/8/29 下午 04:04:39  \n                                                 D:  _eBooks 電子書 Java+JS+HTML+CSS+RWD+Node  2021/8/18 上午 02:16:59  \n92317 .gif    .AppleDouble 2011/8/29 上午 04:56:04 Z:  資訊書籍文件                                 2019/8/29 下午 04:04:39  \n                                                 D:  _eBooks 電子書 Java+JS+HTML+CSS+RWD+Node  2021/8/18 上午 02:16:59  ",
      "text/html": "<div>\n<style scoped>\n    .dataframe tbody tr th:only-of-type {\n        vertical-align: middle;\n    }\n\n    .dataframe tbody tr th {\n        vertical-align: top;\n    }\n\n    .dataframe thead th {\n        text-align: right;\n    }\n</style>\n<table border=\"1\" class=\"dataframe\">\n  <thead>\n    <tr style=\"text-align: right;\">\n      <th></th>\n      <th></th>\n      <th></th>\n      <th></th>\n      <th></th>\n      <th></th>\n      <th>檔案名稱</th>\n      <th>路徑</th>\n      <th>大小</th>\n      <th>新增日期</th>\n    </tr>\n    <tr>\n      <th>組別</th>\n      <th>檔案類型</th>\n      <th>資料夾</th>\n      <th>修改日期</th>\n      <th>磁碟機</th>\n      <th>根目錄</th>\n      <th></th>\n      <th></th>\n      <th></th>\n      <th></th>\n    </tr>\n  </thead>\n  <tbody>\n    <tr>\n      <th rowspan=\"2\" valign=\"top\">92274</th>\n      <th rowspan=\"2\" valign=\"top\">.Parent</th>\n      <th rowspan=\"2\" valign=\"top\">.AppleDouble</th>\n      <th rowspan=\"2\" valign=\"top\">2011/1/25 上午 08:51:06</th>\n      <th>Z:</th>\n      <th>資訊書籍文件</th>\n      <td>.Parent</td>\n      <td>Z:\\資訊書籍文件\\HTML &amp; CSS 網站設計建置優化之道\\html-and-css-b...</td>\n      <td>741</td>\n      <td>2019/8/29 下午 04:04:39</td>\n    </tr>\n    <tr>\n      <th>D:</th>\n      <th>_eBooks 電子書 Java+JS+HTML+CSS+RWD+Node</th>\n      <td>.Parent</td>\n      <td>D:\\_eBooks 電子書 Java+JS+HTML+CSS+RWD+Node\\HTML ...</td>\n      <td>741</td>\n      <td>2021/8/18 上午 02:16:59</td>\n    </tr>\n    <tr>\n      <th rowspan=\"2\" valign=\"top\">92317</th>\n      <th rowspan=\"2\" valign=\"top\">.gif</th>\n      <th rowspan=\"2\" valign=\"top\">.AppleDouble</th>\n      <th rowspan=\"2\" valign=\"top\">2011/8/29 上午 04:56:04</th>\n      <th>Z:</th>\n      <th>資訊書籍文件</th>\n      <td>logo.gif</td>\n      <td>Z:\\資訊書籍文件\\HTML &amp; CSS 網站設計建置優化之道\\html-and-css-b...</td>\n      <td>741</td>\n      <td>2019/8/29 下午 04:04:39</td>\n    </tr>\n    <tr>\n      <th>D:</th>\n      <th>_eBooks 電子書 Java+JS+HTML+CSS+RWD+Node</th>\n      <td>logo.gif</td>\n      <td>D:\\_eBooks 電子書 Java+JS+HTML+CSS+RWD+Node\\HTML ...</td>\n      <td>741</td>\n      <td>2021/8/18 上午 02:16:59</td>\n    </tr>\n  </tbody>\n</table>\n</div>"
     },
     "execution_count": 5,
     "metadata": {},
     "output_type": "execute_result"
    }
   ],
   "source": [
    "for group_name, dataframe in group_index1:\n",
    "    print(group_name)\n",
    "    break\n",
    "dataframe"
   ],
   "metadata": {
    "collapsed": false,
    "pycharm": {
     "name": "#%%\n"
    }
   }
  },
  {
   "cell_type": "code",
   "execution_count": 7,
   "outputs": [
    {
     "data": {
      "text/plain": "                             檔案名稱   路徑   大小  新增日期\n資料夾                                              \n.AppleDouble                    4    4    4     4\n.apikeys                        5    5    5     5\n.aws                            3    3    3     3\n.backup                         6    6    6     6\n.backups                       30   30   30    30\n...                           ...  ...  ...   ...\n駭客退散 站長 網管一定要知道的網站漏洞診斷術_書擷圖   326  326  326   326\n體驗手冊與資安白皮書                      8    8    8     8\n高手叫我不要教的 H 模型 兩個指標 百倍獲利         8    8    8     8\n高手叫我不要教的 H 模型 兩個指標 百倍獲利_書掃描   318  318  318   318\n高雄.imageset                     4    4    4     4\n\n[10412 rows x 4 columns]",
      "text/html": "<div>\n<style scoped>\n    .dataframe tbody tr th:only-of-type {\n        vertical-align: middle;\n    }\n\n    .dataframe tbody tr th {\n        vertical-align: top;\n    }\n\n    .dataframe thead th {\n        text-align: right;\n    }\n</style>\n<table border=\"1\" class=\"dataframe\">\n  <thead>\n    <tr style=\"text-align: right;\">\n      <th></th>\n      <th>檔案名稱</th>\n      <th>路徑</th>\n      <th>大小</th>\n      <th>新增日期</th>\n    </tr>\n    <tr>\n      <th>資料夾</th>\n      <th></th>\n      <th></th>\n      <th></th>\n      <th></th>\n    </tr>\n  </thead>\n  <tbody>\n    <tr>\n      <th>.AppleDouble</th>\n      <td>4</td>\n      <td>4</td>\n      <td>4</td>\n      <td>4</td>\n    </tr>\n    <tr>\n      <th>.apikeys</th>\n      <td>5</td>\n      <td>5</td>\n      <td>5</td>\n      <td>5</td>\n    </tr>\n    <tr>\n      <th>.aws</th>\n      <td>3</td>\n      <td>3</td>\n      <td>3</td>\n      <td>3</td>\n    </tr>\n    <tr>\n      <th>.backup</th>\n      <td>6</td>\n      <td>6</td>\n      <td>6</td>\n      <td>6</td>\n    </tr>\n    <tr>\n      <th>.backups</th>\n      <td>30</td>\n      <td>30</td>\n      <td>30</td>\n      <td>30</td>\n    </tr>\n    <tr>\n      <th>...</th>\n      <td>...</td>\n      <td>...</td>\n      <td>...</td>\n      <td>...</td>\n    </tr>\n    <tr>\n      <th>駭客退散 站長 網管一定要知道的網站漏洞診斷術_書擷圖</th>\n      <td>326</td>\n      <td>326</td>\n      <td>326</td>\n      <td>326</td>\n    </tr>\n    <tr>\n      <th>體驗手冊與資安白皮書</th>\n      <td>8</td>\n      <td>8</td>\n      <td>8</td>\n      <td>8</td>\n    </tr>\n    <tr>\n      <th>高手叫我不要教的 H 模型 兩個指標 百倍獲利</th>\n      <td>8</td>\n      <td>8</td>\n      <td>8</td>\n      <td>8</td>\n    </tr>\n    <tr>\n      <th>高手叫我不要教的 H 模型 兩個指標 百倍獲利_書掃描</th>\n      <td>318</td>\n      <td>318</td>\n      <td>318</td>\n      <td>318</td>\n    </tr>\n    <tr>\n      <th>高雄.imageset</th>\n      <td>4</td>\n      <td>4</td>\n      <td>4</td>\n      <td>4</td>\n    </tr>\n  </tbody>\n</table>\n<p>10412 rows × 4 columns</p>\n</div>"
     },
     "execution_count": 7,
     "metadata": {},
     "output_type": "execute_result"
    }
   ],
   "source": [
    "count_group = group_index1.count()\n",
    "count_group.sort_index()"
   ],
   "metadata": {
    "collapsed": false,
    "pycharm": {
     "name": "#%%\n"
    }
   }
  },
  {
   "cell_type": "code",
   "execution_count": 8,
   "outputs": [],
   "source": [
    "count_group.to_csv('count_group.csv', encoding='utf-8-sig')"
   ],
   "metadata": {
    "collapsed": false,
    "pycharm": {
     "name": "#%%\n"
    }
   }
  },
  {
   "cell_type": "code",
   "execution_count": 10,
   "outputs": [
    {
     "data": {
      "text/plain": "                                                                                                     檔案名稱  \\\n組別     檔案類型 資料夾                                修改日期                   磁碟機 根目錄                               \n139640 .png 飆股的思維(獨家收錄蕭明道5堂實戰教室) 賺不完的波段操作法_書擷圖 2021/11/12 下午 11:15:31 D:  _eBooks 電子書 財經股票  image0000.png   \n                                                                      Z:  新增書籍文件            image0000.png   \n139641 .png 飆股的思維(獨家收錄蕭明道5堂實戰教室) 賺不完的波段操作法_書擷圖 2021/11/12 下午 11:15:33 D:  _eBooks 電子書 財經股票  image0001.png   \n                                                                      Z:  新增書籍文件            image0001.png   \n139642 .png 飆股的思維(獨家收錄蕭明道5堂實戰教室) 賺不完的波段操作法_書擷圖 2021/11/12 下午 11:15:35 D:  _eBooks 電子書 財經股票  image0002.png   \n...                                                                                                   ...   \n139772 .png 飆股的思維(獨家收錄蕭明道5堂實戰教室) 賺不完的波段操作法_書擷圖 2021/11/12 下午 11:19:02 Z:  新增書籍文件            image0132.png   \n139773 .png 飆股的思維(獨家收錄蕭明道5堂實戰教室) 賺不完的波段操作法_書擷圖 2021/11/12 下午 11:19:04 D:  _eBooks 電子書 財經股票  image0133.png   \n                                                                      Z:  新增書籍文件            image0133.png   \n139774 .png 飆股的思維(獨家收錄蕭明道5堂實戰教室) 賺不完的波段操作法_書擷圖 2021/11/12 下午 11:19:05 D:  _eBooks 電子書 財經股票  image0134.png   \n                                                                      Z:  新增書籍文件            image0134.png   \n\n                                                                                                                                           路徑  \\\n組別     檔案類型 資料夾                                修改日期                   磁碟機 根目錄                                                                   \n139640 .png 飆股的思維(獨家收錄蕭明道5堂實戰教室) 賺不完的波段操作法_書擷圖 2021/11/12 下午 11:15:31 D:  _eBooks 電子書 財經股票  D:\\_eBooks 電子書 財經股票\\飆股的思維(獨家收錄蕭明道5堂實戰教室) 賺不完的波...   \n                                                                      Z:  新增書籍文件            Z:\\新增書籍文件\\財經書籍\\飆股的思維(獨家收錄蕭明道5堂實戰教室) 賺不完的波段操作法\\...   \n139641 .png 飆股的思維(獨家收錄蕭明道5堂實戰教室) 賺不完的波段操作法_書擷圖 2021/11/12 下午 11:15:33 D:  _eBooks 電子書 財經股票  D:\\_eBooks 電子書 財經股票\\飆股的思維(獨家收錄蕭明道5堂實戰教室) 賺不完的波...   \n                                                                      Z:  新增書籍文件            Z:\\新增書籍文件\\財經書籍\\飆股的思維(獨家收錄蕭明道5堂實戰教室) 賺不完的波段操作法\\...   \n139642 .png 飆股的思維(獨家收錄蕭明道5堂實戰教室) 賺不完的波段操作法_書擷圖 2021/11/12 下午 11:15:35 D:  _eBooks 電子書 財經股票  D:\\_eBooks 電子書 財經股票\\飆股的思維(獨家收錄蕭明道5堂實戰教室) 賺不完的波...   \n...                                                                                                                                       ...   \n139772 .png 飆股的思維(獨家收錄蕭明道5堂實戰教室) 賺不完的波段操作法_書擷圖 2021/11/12 下午 11:19:02 Z:  新增書籍文件            Z:\\新增書籍文件\\財經書籍\\飆股的思維(獨家收錄蕭明道5堂實戰教室) 賺不完的波段操作法\\...   \n139773 .png 飆股的思維(獨家收錄蕭明道5堂實戰教室) 賺不完的波段操作法_書擷圖 2021/11/12 下午 11:19:04 D:  _eBooks 電子書 財經股票  D:\\_eBooks 電子書 財經股票\\飆股的思維(獨家收錄蕭明道5堂實戰教室) 賺不完的波...   \n                                                                      Z:  新增書籍文件            Z:\\新增書籍文件\\財經書籍\\飆股的思維(獨家收錄蕭明道5堂實戰教室) 賺不完的波段操作法\\...   \n139774 .png 飆股的思維(獨家收錄蕭明道5堂實戰教室) 賺不完的波段操作法_書擷圖 2021/11/12 下午 11:19:05 D:  _eBooks 電子書 財經股票  D:\\_eBooks 電子書 財經股票\\飆股的思維(獨家收錄蕭明道5堂實戰教室) 賺不完的波...   \n                                                                      Z:  新增書籍文件            Z:\\新增書籍文件\\財經書籍\\飆股的思維(獨家收錄蕭明道5堂實戰教室) 賺不完的波段操作法\\...   \n\n                                                                                                大小  \\\n組別     檔案類型 資料夾                                修改日期                   磁碟機 根目錄                        \n139640 .png 飆股的思維(獨家收錄蕭明道5堂實戰教室) 賺不完的波段操作法_書擷圖 2021/11/12 下午 11:15:31 D:  _eBooks 電子書 財經股票  844262   \n                                                                      Z:  新增書籍文件            844262   \n139641 .png 飆股的思維(獨家收錄蕭明道5堂實戰教室) 賺不完的波段操作法_書擷圖 2021/11/12 下午 11:15:33 D:  _eBooks 電子書 財經股票   98793   \n                                                                      Z:  新增書籍文件             98793   \n139642 .png 飆股的思維(獨家收錄蕭明道5堂實戰教室) 賺不完的波段操作法_書擷圖 2021/11/12 下午 11:15:35 D:  _eBooks 電子書 財經股票  504665   \n...                                                                                            ...   \n139772 .png 飆股的思維(獨家收錄蕭明道5堂實戰教室) 賺不完的波段操作法_書擷圖 2021/11/12 下午 11:19:02 Z:  新增書籍文件            546032   \n139773 .png 飆股的思維(獨家收錄蕭明道5堂實戰教室) 賺不完的波段操作法_書擷圖 2021/11/12 下午 11:19:04 D:  _eBooks 電子書 財經股票  155353   \n                                                                      Z:  新增書籍文件            155353   \n139774 .png 飆股的思維(獨家收錄蕭明道5堂實戰教室) 賺不完的波段操作法_書擷圖 2021/11/12 下午 11:19:05 D:  _eBooks 電子書 財經股票  243076   \n                                                                      Z:  新增書籍文件            243076   \n\n                                                                                                              新增日期  \n組別     檔案類型 資料夾                                修改日期                   磁碟機 根目錄                                       \n139640 .png 飆股的思維(獨家收錄蕭明道5堂實戰教室) 賺不完的波段操作法_書擷圖 2021/11/12 下午 11:15:31 D:  _eBooks 電子書 財經股票  2021/11/12 下午 11:15:31  \n                                                                      Z:  新增書籍文件            2021/11/12 下午 11:21:51  \n139641 .png 飆股的思維(獨家收錄蕭明道5堂實戰教室) 賺不完的波段操作法_書擷圖 2021/11/12 下午 11:15:33 D:  _eBooks 電子書 財經股票  2021/11/12 下午 11:15:33  \n                                                                      Z:  新增書籍文件            2021/11/12 下午 11:21:51  \n139642 .png 飆股的思維(獨家收錄蕭明道5堂實戰教室) 賺不完的波段操作法_書擷圖 2021/11/12 下午 11:15:35 D:  _eBooks 電子書 財經股票  2021/11/12 下午 11:15:34  \n...                                                                                                            ...  \n139772 .png 飆股的思維(獨家收錄蕭明道5堂實戰教室) 賺不完的波段操作法_書擷圖 2021/11/12 下午 11:19:02 Z:  新增書籍文件            2021/11/12 下午 11:22:13  \n139773 .png 飆股的思維(獨家收錄蕭明道5堂實戰教室) 賺不完的波段操作法_書擷圖 2021/11/12 下午 11:19:04 D:  _eBooks 電子書 財經股票  2021/11/12 下午 11:19:04  \n                                                                      Z:  新增書籍文件            2021/11/12 下午 11:22:13  \n139774 .png 飆股的思維(獨家收錄蕭明道5堂實戰教室) 賺不完的波段操作法_書擷圖 2021/11/12 下午 11:19:05 D:  _eBooks 電子書 財經股票  2021/11/12 下午 11:19:05  \n                                                                      Z:  新增書籍文件            2021/11/12 下午 11:22:13  \n\n[270 rows x 4 columns]",
      "text/html": "<div>\n<style scoped>\n    .dataframe tbody tr th:only-of-type {\n        vertical-align: middle;\n    }\n\n    .dataframe tbody tr th {\n        vertical-align: top;\n    }\n\n    .dataframe thead th {\n        text-align: right;\n    }\n</style>\n<table border=\"1\" class=\"dataframe\">\n  <thead>\n    <tr style=\"text-align: right;\">\n      <th></th>\n      <th></th>\n      <th></th>\n      <th></th>\n      <th></th>\n      <th></th>\n      <th>檔案名稱</th>\n      <th>路徑</th>\n      <th>大小</th>\n      <th>新增日期</th>\n    </tr>\n    <tr>\n      <th>組別</th>\n      <th>檔案類型</th>\n      <th>資料夾</th>\n      <th>修改日期</th>\n      <th>磁碟機</th>\n      <th>根目錄</th>\n      <th></th>\n      <th></th>\n      <th></th>\n      <th></th>\n    </tr>\n  </thead>\n  <tbody>\n    <tr>\n      <th rowspan=\"2\" valign=\"top\">139640</th>\n      <th rowspan=\"2\" valign=\"top\">.png</th>\n      <th rowspan=\"2\" valign=\"top\">飆股的思維(獨家收錄蕭明道5堂實戰教室) 賺不完的波段操作法_書擷圖</th>\n      <th rowspan=\"2\" valign=\"top\">2021/11/12 下午 11:15:31</th>\n      <th>D:</th>\n      <th>_eBooks 電子書 財經股票</th>\n      <td>image0000.png</td>\n      <td>D:\\_eBooks 電子書 財經股票\\飆股的思維(獨家收錄蕭明道5堂實戰教室) 賺不完的波...</td>\n      <td>844262</td>\n      <td>2021/11/12 下午 11:15:31</td>\n    </tr>\n    <tr>\n      <th>Z:</th>\n      <th>新增書籍文件</th>\n      <td>image0000.png</td>\n      <td>Z:\\新增書籍文件\\財經書籍\\飆股的思維(獨家收錄蕭明道5堂實戰教室) 賺不完的波段操作法\\...</td>\n      <td>844262</td>\n      <td>2021/11/12 下午 11:21:51</td>\n    </tr>\n    <tr>\n      <th rowspan=\"2\" valign=\"top\">139641</th>\n      <th rowspan=\"2\" valign=\"top\">.png</th>\n      <th rowspan=\"2\" valign=\"top\">飆股的思維(獨家收錄蕭明道5堂實戰教室) 賺不完的波段操作法_書擷圖</th>\n      <th rowspan=\"2\" valign=\"top\">2021/11/12 下午 11:15:33</th>\n      <th>D:</th>\n      <th>_eBooks 電子書 財經股票</th>\n      <td>image0001.png</td>\n      <td>D:\\_eBooks 電子書 財經股票\\飆股的思維(獨家收錄蕭明道5堂實戰教室) 賺不完的波...</td>\n      <td>98793</td>\n      <td>2021/11/12 下午 11:15:33</td>\n    </tr>\n    <tr>\n      <th>Z:</th>\n      <th>新增書籍文件</th>\n      <td>image0001.png</td>\n      <td>Z:\\新增書籍文件\\財經書籍\\飆股的思維(獨家收錄蕭明道5堂實戰教室) 賺不完的波段操作法\\...</td>\n      <td>98793</td>\n      <td>2021/11/12 下午 11:21:51</td>\n    </tr>\n    <tr>\n      <th>139642</th>\n      <th>.png</th>\n      <th>飆股的思維(獨家收錄蕭明道5堂實戰教室) 賺不完的波段操作法_書擷圖</th>\n      <th>2021/11/12 下午 11:15:35</th>\n      <th>D:</th>\n      <th>_eBooks 電子書 財經股票</th>\n      <td>image0002.png</td>\n      <td>D:\\_eBooks 電子書 財經股票\\飆股的思維(獨家收錄蕭明道5堂實戰教室) 賺不完的波...</td>\n      <td>504665</td>\n      <td>2021/11/12 下午 11:15:34</td>\n    </tr>\n    <tr>\n      <th>...</th>\n      <th>...</th>\n      <th>...</th>\n      <th>...</th>\n      <th>...</th>\n      <th>...</th>\n      <td>...</td>\n      <td>...</td>\n      <td>...</td>\n      <td>...</td>\n    </tr>\n    <tr>\n      <th>139772</th>\n      <th>.png</th>\n      <th>飆股的思維(獨家收錄蕭明道5堂實戰教室) 賺不完的波段操作法_書擷圖</th>\n      <th>2021/11/12 下午 11:19:02</th>\n      <th>Z:</th>\n      <th>新增書籍文件</th>\n      <td>image0132.png</td>\n      <td>Z:\\新增書籍文件\\財經書籍\\飆股的思維(獨家收錄蕭明道5堂實戰教室) 賺不完的波段操作法\\...</td>\n      <td>546032</td>\n      <td>2021/11/12 下午 11:22:13</td>\n    </tr>\n    <tr>\n      <th rowspan=\"2\" valign=\"top\">139773</th>\n      <th rowspan=\"2\" valign=\"top\">.png</th>\n      <th rowspan=\"2\" valign=\"top\">飆股的思維(獨家收錄蕭明道5堂實戰教室) 賺不完的波段操作法_書擷圖</th>\n      <th rowspan=\"2\" valign=\"top\">2021/11/12 下午 11:19:04</th>\n      <th>D:</th>\n      <th>_eBooks 電子書 財經股票</th>\n      <td>image0133.png</td>\n      <td>D:\\_eBooks 電子書 財經股票\\飆股的思維(獨家收錄蕭明道5堂實戰教室) 賺不完的波...</td>\n      <td>155353</td>\n      <td>2021/11/12 下午 11:19:04</td>\n    </tr>\n    <tr>\n      <th>Z:</th>\n      <th>新增書籍文件</th>\n      <td>image0133.png</td>\n      <td>Z:\\新增書籍文件\\財經書籍\\飆股的思維(獨家收錄蕭明道5堂實戰教室) 賺不完的波段操作法\\...</td>\n      <td>155353</td>\n      <td>2021/11/12 下午 11:22:13</td>\n    </tr>\n    <tr>\n      <th rowspan=\"2\" valign=\"top\">139774</th>\n      <th rowspan=\"2\" valign=\"top\">.png</th>\n      <th rowspan=\"2\" valign=\"top\">飆股的思維(獨家收錄蕭明道5堂實戰教室) 賺不完的波段操作法_書擷圖</th>\n      <th rowspan=\"2\" valign=\"top\">2021/11/12 下午 11:19:05</th>\n      <th>D:</th>\n      <th>_eBooks 電子書 財經股票</th>\n      <td>image0134.png</td>\n      <td>D:\\_eBooks 電子書 財經股票\\飆股的思維(獨家收錄蕭明道5堂實戰教室) 賺不完的波...</td>\n      <td>243076</td>\n      <td>2021/11/12 下午 11:19:05</td>\n    </tr>\n    <tr>\n      <th>Z:</th>\n      <th>新增書籍文件</th>\n      <td>image0134.png</td>\n      <td>Z:\\新增書籍文件\\財經書籍\\飆股的思維(獨家收錄蕭明道5堂實戰教室) 賺不完的波段操作法\\...</td>\n      <td>243076</td>\n      <td>2021/11/12 下午 11:22:13</td>\n    </tr>\n  </tbody>\n</table>\n<p>270 rows × 4 columns</p>\n</div>"
     },
     "execution_count": 10,
     "metadata": {},
     "output_type": "execute_result"
    }
   ],
   "source": [
    "group_index1.get_group('飆股的思維(獨家收錄蕭明道5堂實戰教室) 賺不完的波段操作法_書擷圖')"
   ],
   "metadata": {
    "collapsed": false,
    "pycharm": {
     "name": "#%%\n"
    }
   }
  },
  {
   "cell_type": "code",
   "execution_count": 11,
   "outputs": [
    {
     "data": {
      "text/plain": "                                                                                                                                    檔案名稱  \\\n檔案類型 資料夾                                修改日期                   磁碟機 根目錄                                                                     \n.mp4 8分鐘搞懂理財知識_新手教室 Youtube 投資影片教學      2018/11/14 下午 02:12:09 Z:  8分鐘搞懂理財知識_新手教室 Youtube 投資影片教學      8分鐘搞懂技術分析：RSI的重要價值-WUwaMVSCDYY.mp4   \n     8分鐘搞懂理財知識_重新整理過                    2021/5/11 上午 02:58:44  Z:  8分鐘搞懂理財知識_重新整理過                2015-08-25_2152_技術分析教學_快速搞懂RSI技術指標.mp4   \n     Youtube 投資影片教學                     2018/11/14 下午 02:12:09 Z:  Youtube 投資影片教學                     8分鐘搞懂技術分析：RSI的重要價值-WUwaMVSCDYY.mp4   \n     _8分鐘搞懂理財知識_原來的 新手教室 Youtube 投資影片教學 2018/11/14 下午 02:12:09 D:  8分鐘搞懂理財知識                          8分鐘搞懂技術分析：RSI的重要價值-WUwaMVSCDYY.mp4   \n     _8分鐘搞懂理財知識_整理的 Youtube 影片          2021/5/11 上午 02:58:44  D:  8分鐘搞懂理財知識                      2015-08-25_2152_技術分析教學_快速搞懂RSI技術指標.mp4   \n     2015-08-25_2152_技術分析教學_快速搞懂RSI技術指標 2021/5/11 上午 02:58:44  D:  8分鐘搞懂理財知識                      2015-08-25_2152_技術分析教學_快速搞懂RSI技術指標.mp4   \n\n                                                                                                                                                 路徑  \\\n檔案類型 資料夾                                修改日期                   磁碟機 根目錄                                                                                \n.mp4 8分鐘搞懂理財知識_新手教室 Youtube 投資影片教學      2018/11/14 下午 02:12:09 Z:  8分鐘搞懂理財知識_新手教室 Youtube 投資影片教學                  Z:\\8分鐘搞懂理財知識_新手教室 Youtube 投資影片教學\\   \n     8分鐘搞懂理財知識_重新整理過                    2021/5/11 上午 02:58:44  Z:  8分鐘搞懂理財知識_重新整理過                                              Z:\\8分鐘搞懂理財知識_重新整理過\\   \n     Youtube 投資影片教學                     2018/11/14 下午 02:12:09 Z:  Youtube 投資影片教學                                                Z:\\Youtube 投資影片教學\\   \n     _8分鐘搞懂理財知識_原來的 新手教室 Youtube 投資影片教學 2018/11/14 下午 02:12:09 D:  8分鐘搞懂理財知識                       D:\\8分鐘搞懂理財知識\\_8分鐘搞懂理財知識_原來的 新手教室 Youtube 投資影片教學\\   \n     _8分鐘搞懂理財知識_整理的 Youtube 影片          2021/5/11 上午 02:58:44  D:  8分鐘搞懂理財知識                                D:\\8分鐘搞懂理財知識\\_8分鐘搞懂理財知識_整理的 Youtube 影片\\   \n     2015-08-25_2152_技術分析教學_快速搞懂RSI技術指標 2021/5/11 上午 02:58:44  D:  8分鐘搞懂理財知識                      D:\\8分鐘搞懂理財知識\\_8分鐘搞懂理財知識_整理的影片by資料夾\\2015-08-25_...   \n\n                                                                                                        大小  \\\n檔案類型 資料夾                                修改日期                   磁碟機 根目錄                                       \n.mp4 8分鐘搞懂理財知識_新手教室 Youtube 投資影片教學      2018/11/14 下午 02:12:09 Z:  8分鐘搞懂理財知識_新手教室 Youtube 投資影片教學  25612876   \n     8分鐘搞懂理財知識_重新整理過                    2021/5/11 上午 02:58:44  Z:  8分鐘搞懂理財知識_重新整理過                25612876   \n     Youtube 投資影片教學                     2018/11/14 下午 02:12:09 Z:  Youtube 投資影片教學                 25612876   \n     _8分鐘搞懂理財知識_原來的 新手教室 Youtube 投資影片教學 2018/11/14 下午 02:12:09 D:  8分鐘搞懂理財知識                      25612876   \n     _8分鐘搞懂理財知識_整理的 Youtube 影片          2021/5/11 上午 02:58:44  D:  8分鐘搞懂理財知識                      25612876   \n     2015-08-25_2152_技術分析教學_快速搞懂RSI技術指標 2021/5/11 上午 02:58:44  D:  8分鐘搞懂理財知識                      25612876   \n\n                                                                                                                   新增日期  \n檔案類型 資料夾                                修改日期                   磁碟機 根目錄                                                   \n.mp4 8分鐘搞懂理財知識_新手教室 Youtube 投資影片教學      2018/11/14 下午 02:12:09 Z:  8分鐘搞懂理財知識_新手教室 Youtube 投資影片教學  2021/5/10 下午 05:08:28  \n     8分鐘搞懂理財知識_重新整理過                    2021/5/11 上午 02:58:44  Z:  8分鐘搞懂理財知識_重新整理過                2021/5/11 上午 03:06:53  \n     Youtube 投資影片教學                     2018/11/14 下午 02:12:09 Z:  Youtube 投資影片教學                 2021/5/10 下午 04:04:52  \n     _8分鐘搞懂理財知識_原來的 新手教室 Youtube 投資影片教學 2018/11/14 下午 02:12:09 D:  8分鐘搞懂理財知識                      2021/8/18 上午 02:37:16  \n     _8分鐘搞懂理財知識_整理的 Youtube 影片          2021/5/11 上午 02:58:44  D:  8分鐘搞懂理財知識                      2021/8/18 上午 02:38:06  \n     2015-08-25_2152_技術分析教學_快速搞懂RSI技術指標 2021/5/11 上午 02:58:44  D:  8分鐘搞懂理財知識                      2021/8/18 上午 02:38:39  ",
      "text/html": "<div>\n<style scoped>\n    .dataframe tbody tr th:only-of-type {\n        vertical-align: middle;\n    }\n\n    .dataframe tbody tr th {\n        vertical-align: top;\n    }\n\n    .dataframe thead th {\n        text-align: right;\n    }\n</style>\n<table border=\"1\" class=\"dataframe\">\n  <thead>\n    <tr style=\"text-align: right;\">\n      <th></th>\n      <th></th>\n      <th></th>\n      <th></th>\n      <th></th>\n      <th>檔案名稱</th>\n      <th>路徑</th>\n      <th>大小</th>\n      <th>新增日期</th>\n    </tr>\n    <tr>\n      <th>檔案類型</th>\n      <th>資料夾</th>\n      <th>修改日期</th>\n      <th>磁碟機</th>\n      <th>根目錄</th>\n      <th></th>\n      <th></th>\n      <th></th>\n      <th></th>\n    </tr>\n  </thead>\n  <tbody>\n    <tr>\n      <th rowspan=\"6\" valign=\"top\">.mp4</th>\n      <th>8分鐘搞懂理財知識_新手教室 Youtube 投資影片教學</th>\n      <th>2018/11/14 下午 02:12:09</th>\n      <th>Z:</th>\n      <th>8分鐘搞懂理財知識_新手教室 Youtube 投資影片教學</th>\n      <td>8分鐘搞懂技術分析：RSI的重要價值-WUwaMVSCDYY.mp4</td>\n      <td>Z:\\8分鐘搞懂理財知識_新手教室 Youtube 投資影片教學\\</td>\n      <td>25612876</td>\n      <td>2021/5/10 下午 05:08:28</td>\n    </tr>\n    <tr>\n      <th>8分鐘搞懂理財知識_重新整理過</th>\n      <th>2021/5/11 上午 02:58:44</th>\n      <th>Z:</th>\n      <th>8分鐘搞懂理財知識_重新整理過</th>\n      <td>2015-08-25_2152_技術分析教學_快速搞懂RSI技術指標.mp4</td>\n      <td>Z:\\8分鐘搞懂理財知識_重新整理過\\</td>\n      <td>25612876</td>\n      <td>2021/5/11 上午 03:06:53</td>\n    </tr>\n    <tr>\n      <th>Youtube 投資影片教學</th>\n      <th>2018/11/14 下午 02:12:09</th>\n      <th>Z:</th>\n      <th>Youtube 投資影片教學</th>\n      <td>8分鐘搞懂技術分析：RSI的重要價值-WUwaMVSCDYY.mp4</td>\n      <td>Z:\\Youtube 投資影片教學\\</td>\n      <td>25612876</td>\n      <td>2021/5/10 下午 04:04:52</td>\n    </tr>\n    <tr>\n      <th>_8分鐘搞懂理財知識_原來的 新手教室 Youtube 投資影片教學</th>\n      <th>2018/11/14 下午 02:12:09</th>\n      <th>D:</th>\n      <th>8分鐘搞懂理財知識</th>\n      <td>8分鐘搞懂技術分析：RSI的重要價值-WUwaMVSCDYY.mp4</td>\n      <td>D:\\8分鐘搞懂理財知識\\_8分鐘搞懂理財知識_原來的 新手教室 Youtube 投資影片教學\\</td>\n      <td>25612876</td>\n      <td>2021/8/18 上午 02:37:16</td>\n    </tr>\n    <tr>\n      <th>_8分鐘搞懂理財知識_整理的 Youtube 影片</th>\n      <th>2021/5/11 上午 02:58:44</th>\n      <th>D:</th>\n      <th>8分鐘搞懂理財知識</th>\n      <td>2015-08-25_2152_技術分析教學_快速搞懂RSI技術指標.mp4</td>\n      <td>D:\\8分鐘搞懂理財知識\\_8分鐘搞懂理財知識_整理的 Youtube 影片\\</td>\n      <td>25612876</td>\n      <td>2021/8/18 上午 02:38:06</td>\n    </tr>\n    <tr>\n      <th>2015-08-25_2152_技術分析教學_快速搞懂RSI技術指標</th>\n      <th>2021/5/11 上午 02:58:44</th>\n      <th>D:</th>\n      <th>8分鐘搞懂理財知識</th>\n      <td>2015-08-25_2152_技術分析教學_快速搞懂RSI技術指標.mp4</td>\n      <td>D:\\8分鐘搞懂理財知識\\_8分鐘搞懂理財知識_整理的影片by資料夾\\2015-08-25_...</td>\n      <td>25612876</td>\n      <td>2021/8/18 上午 02:38:39</td>\n    </tr>\n  </tbody>\n</table>\n</div>"
     },
     "execution_count": 11,
     "metadata": {},
     "output_type": "execute_result"
    }
   ],
   "source": [
    "df_index1.loc[1]"
   ],
   "metadata": {
    "collapsed": false,
    "pycharm": {
     "name": "#%%\n"
    }
   }
  },
  {
   "cell_type": "code",
   "execution_count": 12,
   "outputs": [
    {
     "name": "stdout",
     "output_type": "stream",
     "text": [
      "number of extension types in z drive: 475\n"
     ]
    }
   ],
   "source": [
    "with open('z_drive_file_list.json', 'r', encoding='utf-8') as f:\n",
    "    z_files_dict = json.load(f)\n",
    "print('number of extension types in z drive:', len(z_files_dict.keys()))"
   ],
   "metadata": {
    "collapsed": false,
    "pycharm": {
     "name": "#%%\n"
    }
   }
  },
  {
   "cell_type": "code",
   "execution_count": 13,
   "outputs": [
    {
     "name": "stdout",
     "output_type": "stream",
     "text": [
      "number of file extension types: 609\n"
     ]
    }
   ],
   "source": [
    "with open('file_type_extension_list.json', 'r', encoding='utf-8') as f:\n",
    "    file_type_extension = json.load(f)\n",
    "extension_df = {key.lstrip('.'):value for key, value in file_type_extension.items()}\n",
    "extension_df = pd.DataFrame.from_dict(extension_df, orient='index', columns=['描述'])\n",
    "extension_df.sort_values('描述', inplace=True)\n",
    "print('number of file extension types:', len(extension_df))"
   ],
   "metadata": {
    "collapsed": false,
    "pycharm": {
     "name": "#%%\n"
    }
   }
  },
  {
   "cell_type": "code",
   "execution_count": 20,
   "outputs": [
    {
     "ename": "ValueError",
     "evalue": "Unstacked DataFrame is too big, causing int32 overflow",
     "output_type": "error",
     "traceback": [
      "\u001B[1;31m---------------------------------------------------------------------------\u001B[0m",
      "\u001B[1;31mValueError\u001B[0m                                Traceback (most recent call last)",
      "\u001B[1;32m~\\AppData\\Local\\Temp/ipykernel_27508/701079923.py\u001B[0m in \u001B[0;36m<module>\u001B[1;34m\u001B[0m\n\u001B[1;32m----> 1\u001B[1;33m \u001B[0mdf\u001B[0m\u001B[1;33m.\u001B[0m\u001B[0mpivot\u001B[0m\u001B[1;33m(\u001B[0m\u001B[0mindex\u001B[0m\u001B[1;33m=\u001B[0m\u001B[1;33m[\u001B[0m\u001B[1;34m'組別'\u001B[0m\u001B[1;33m]\u001B[0m\u001B[1;33m,\u001B[0m \u001B[0mcolumns\u001B[0m\u001B[1;33m=\u001B[0m\u001B[1;33m[\u001B[0m\u001B[1;34m'磁碟機'\u001B[0m\u001B[1;33m,\u001B[0m \u001B[1;34m'路徑'\u001B[0m\u001B[1;33m,\u001B[0m \u001B[1;34m'修改日期'\u001B[0m\u001B[1;33m]\u001B[0m\u001B[1;33m,\u001B[0m \u001B[0mvalues\u001B[0m\u001B[1;33m=\u001B[0m\u001B[1;33m[\u001B[0m\u001B[1;34m'檔案資料夾'\u001B[0m\u001B[1;33m,\u001B[0m \u001B[1;34m'檔案類型'\u001B[0m\u001B[1;33m]\u001B[0m\u001B[1;33m)\u001B[0m\u001B[1;33m\u001B[0m\u001B[1;33m\u001B[0m\u001B[0m\n\u001B[0m",
      "\u001B[1;32mc:\\users\\alvinlin\\appdata\\local\\programs\\python\\python37\\lib\\site-packages\\pandas\\core\\frame.py\u001B[0m in \u001B[0;36mpivot\u001B[1;34m(self, index, columns, values)\u001B[0m\n\u001B[0;32m   7786\u001B[0m         \u001B[1;32mfrom\u001B[0m \u001B[0mpandas\u001B[0m\u001B[1;33m.\u001B[0m\u001B[0mcore\u001B[0m\u001B[1;33m.\u001B[0m\u001B[0mreshape\u001B[0m\u001B[1;33m.\u001B[0m\u001B[0mpivot\u001B[0m \u001B[1;32mimport\u001B[0m \u001B[0mpivot\u001B[0m\u001B[1;33m\u001B[0m\u001B[1;33m\u001B[0m\u001B[0m\n\u001B[0;32m   7787\u001B[0m \u001B[1;33m\u001B[0m\u001B[0m\n\u001B[1;32m-> 7788\u001B[1;33m         \u001B[1;32mreturn\u001B[0m \u001B[0mpivot\u001B[0m\u001B[1;33m(\u001B[0m\u001B[0mself\u001B[0m\u001B[1;33m,\u001B[0m \u001B[0mindex\u001B[0m\u001B[1;33m=\u001B[0m\u001B[0mindex\u001B[0m\u001B[1;33m,\u001B[0m \u001B[0mcolumns\u001B[0m\u001B[1;33m=\u001B[0m\u001B[0mcolumns\u001B[0m\u001B[1;33m,\u001B[0m \u001B[0mvalues\u001B[0m\u001B[1;33m=\u001B[0m\u001B[0mvalues\u001B[0m\u001B[1;33m)\u001B[0m\u001B[1;33m\u001B[0m\u001B[1;33m\u001B[0m\u001B[0m\n\u001B[0m\u001B[0;32m   7789\u001B[0m \u001B[1;33m\u001B[0m\u001B[0m\n\u001B[0;32m   7790\u001B[0m     _shared_docs[\n",
      "\u001B[1;32mc:\\users\\alvinlin\\appdata\\local\\programs\\python\\python37\\lib\\site-packages\\pandas\\core\\reshape\\pivot.py\u001B[0m in \u001B[0;36mpivot\u001B[1;34m(data, index, columns, values)\u001B[0m\n\u001B[0;32m    515\u001B[0m         \u001B[1;32melse\u001B[0m\u001B[1;33m:\u001B[0m\u001B[1;33m\u001B[0m\u001B[1;33m\u001B[0m\u001B[0m\n\u001B[0;32m    516\u001B[0m             \u001B[0mindexed\u001B[0m \u001B[1;33m=\u001B[0m \u001B[0mdata\u001B[0m\u001B[1;33m.\u001B[0m\u001B[0m_constructor_sliced\u001B[0m\u001B[1;33m(\u001B[0m\u001B[0mdata\u001B[0m\u001B[1;33m[\u001B[0m\u001B[0mvalues\u001B[0m\u001B[1;33m]\u001B[0m\u001B[1;33m.\u001B[0m\u001B[0m_values\u001B[0m\u001B[1;33m,\u001B[0m \u001B[0mindex\u001B[0m\u001B[1;33m=\u001B[0m\u001B[0mmultiindex\u001B[0m\u001B[1;33m)\u001B[0m\u001B[1;33m\u001B[0m\u001B[1;33m\u001B[0m\u001B[0m\n\u001B[1;32m--> 517\u001B[1;33m     \u001B[1;32mreturn\u001B[0m \u001B[0mindexed\u001B[0m\u001B[1;33m.\u001B[0m\u001B[0munstack\u001B[0m\u001B[1;33m(\u001B[0m\u001B[0mcolumns_listlike\u001B[0m\u001B[1;33m)\u001B[0m\u001B[1;33m\u001B[0m\u001B[1;33m\u001B[0m\u001B[0m\n\u001B[0m\u001B[0;32m    518\u001B[0m \u001B[1;33m\u001B[0m\u001B[0m\n\u001B[0;32m    519\u001B[0m \u001B[1;33m\u001B[0m\u001B[0m\n",
      "\u001B[1;32mc:\\users\\alvinlin\\appdata\\local\\programs\\python\\python37\\lib\\site-packages\\pandas\\core\\frame.py\u001B[0m in \u001B[0;36munstack\u001B[1;34m(self, level, fill_value)\u001B[0m\n\u001B[0;32m   8318\u001B[0m         \u001B[1;32mfrom\u001B[0m \u001B[0mpandas\u001B[0m\u001B[1;33m.\u001B[0m\u001B[0mcore\u001B[0m\u001B[1;33m.\u001B[0m\u001B[0mreshape\u001B[0m\u001B[1;33m.\u001B[0m\u001B[0mreshape\u001B[0m \u001B[1;32mimport\u001B[0m \u001B[0munstack\u001B[0m\u001B[1;33m\u001B[0m\u001B[1;33m\u001B[0m\u001B[0m\n\u001B[0;32m   8319\u001B[0m \u001B[1;33m\u001B[0m\u001B[0m\n\u001B[1;32m-> 8320\u001B[1;33m         \u001B[0mresult\u001B[0m \u001B[1;33m=\u001B[0m \u001B[0munstack\u001B[0m\u001B[1;33m(\u001B[0m\u001B[0mself\u001B[0m\u001B[1;33m,\u001B[0m \u001B[0mlevel\u001B[0m\u001B[1;33m,\u001B[0m \u001B[0mfill_value\u001B[0m\u001B[1;33m)\u001B[0m\u001B[1;33m\u001B[0m\u001B[1;33m\u001B[0m\u001B[0m\n\u001B[0m\u001B[0;32m   8321\u001B[0m \u001B[1;33m\u001B[0m\u001B[0m\n\u001B[0;32m   8322\u001B[0m         \u001B[1;32mreturn\u001B[0m \u001B[0mresult\u001B[0m\u001B[1;33m.\u001B[0m\u001B[0m__finalize__\u001B[0m\u001B[1;33m(\u001B[0m\u001B[0mself\u001B[0m\u001B[1;33m,\u001B[0m \u001B[0mmethod\u001B[0m\u001B[1;33m=\u001B[0m\u001B[1;34m\"unstack\"\u001B[0m\u001B[1;33m)\u001B[0m\u001B[1;33m\u001B[0m\u001B[1;33m\u001B[0m\u001B[0m\n",
      "\u001B[1;32mc:\\users\\alvinlin\\appdata\\local\\programs\\python\\python37\\lib\\site-packages\\pandas\\core\\reshape\\reshape.py\u001B[0m in \u001B[0;36munstack\u001B[1;34m(obj, level, fill_value)\u001B[0m\n\u001B[0;32m    435\u001B[0m             \u001B[1;31m# _unstack_multiple only handles MultiIndexes,\u001B[0m\u001B[1;33m\u001B[0m\u001B[1;33m\u001B[0m\u001B[1;33m\u001B[0m\u001B[0m\n\u001B[0;32m    436\u001B[0m             \u001B[1;31m# and isn't needed for a single level\u001B[0m\u001B[1;33m\u001B[0m\u001B[1;33m\u001B[0m\u001B[1;33m\u001B[0m\u001B[0m\n\u001B[1;32m--> 437\u001B[1;33m             \u001B[1;32mreturn\u001B[0m \u001B[0m_unstack_multiple\u001B[0m\u001B[1;33m(\u001B[0m\u001B[0mobj\u001B[0m\u001B[1;33m,\u001B[0m \u001B[0mlevel\u001B[0m\u001B[1;33m,\u001B[0m \u001B[0mfill_value\u001B[0m\u001B[1;33m=\u001B[0m\u001B[0mfill_value\u001B[0m\u001B[1;33m)\u001B[0m\u001B[1;33m\u001B[0m\u001B[1;33m\u001B[0m\u001B[0m\n\u001B[0m\u001B[0;32m    438\u001B[0m         \u001B[1;32melse\u001B[0m\u001B[1;33m:\u001B[0m\u001B[1;33m\u001B[0m\u001B[1;33m\u001B[0m\u001B[0m\n\u001B[0;32m    439\u001B[0m             \u001B[0mlevel\u001B[0m \u001B[1;33m=\u001B[0m \u001B[0mlevel\u001B[0m\u001B[1;33m[\u001B[0m\u001B[1;36m0\u001B[0m\u001B[1;33m]\u001B[0m\u001B[1;33m\u001B[0m\u001B[1;33m\u001B[0m\u001B[0m\n",
      "\u001B[1;32mc:\\users\\alvinlin\\appdata\\local\\programs\\python\\python37\\lib\\site-packages\\pandas\\core\\reshape\\reshape.py\u001B[0m in \u001B[0;36m_unstack_multiple\u001B[1;34m(data, clocs, fill_value)\u001B[0m\n\u001B[0;32m    404\u001B[0m         \u001B[0mdummy\u001B[0m\u001B[1;33m.\u001B[0m\u001B[0mindex\u001B[0m \u001B[1;33m=\u001B[0m \u001B[0mdummy_index\u001B[0m\u001B[1;33m\u001B[0m\u001B[1;33m\u001B[0m\u001B[0m\n\u001B[0;32m    405\u001B[0m \u001B[1;33m\u001B[0m\u001B[0m\n\u001B[1;32m--> 406\u001B[1;33m         \u001B[0munstacked\u001B[0m \u001B[1;33m=\u001B[0m \u001B[0mdummy\u001B[0m\u001B[1;33m.\u001B[0m\u001B[0munstack\u001B[0m\u001B[1;33m(\u001B[0m\u001B[1;34m\"__placeholder__\"\u001B[0m\u001B[1;33m,\u001B[0m \u001B[0mfill_value\u001B[0m\u001B[1;33m=\u001B[0m\u001B[0mfill_value\u001B[0m\u001B[1;33m)\u001B[0m\u001B[1;33m\u001B[0m\u001B[1;33m\u001B[0m\u001B[0m\n\u001B[0m\u001B[0;32m    407\u001B[0m         \u001B[1;32mif\u001B[0m \u001B[0misinstance\u001B[0m\u001B[1;33m(\u001B[0m\u001B[0munstacked\u001B[0m\u001B[1;33m,\u001B[0m \u001B[0mSeries\u001B[0m\u001B[1;33m)\u001B[0m\u001B[1;33m:\u001B[0m\u001B[1;33m\u001B[0m\u001B[1;33m\u001B[0m\u001B[0m\n\u001B[0;32m    408\u001B[0m             \u001B[0munstcols\u001B[0m \u001B[1;33m=\u001B[0m \u001B[0munstacked\u001B[0m\u001B[1;33m.\u001B[0m\u001B[0mindex\u001B[0m\u001B[1;33m\u001B[0m\u001B[1;33m\u001B[0m\u001B[0m\n",
      "\u001B[1;32mc:\\users\\alvinlin\\appdata\\local\\programs\\python\\python37\\lib\\site-packages\\pandas\\core\\frame.py\u001B[0m in \u001B[0;36munstack\u001B[1;34m(self, level, fill_value)\u001B[0m\n\u001B[0;32m   8318\u001B[0m         \u001B[1;32mfrom\u001B[0m \u001B[0mpandas\u001B[0m\u001B[1;33m.\u001B[0m\u001B[0mcore\u001B[0m\u001B[1;33m.\u001B[0m\u001B[0mreshape\u001B[0m\u001B[1;33m.\u001B[0m\u001B[0mreshape\u001B[0m \u001B[1;32mimport\u001B[0m \u001B[0munstack\u001B[0m\u001B[1;33m\u001B[0m\u001B[1;33m\u001B[0m\u001B[0m\n\u001B[0;32m   8319\u001B[0m \u001B[1;33m\u001B[0m\u001B[0m\n\u001B[1;32m-> 8320\u001B[1;33m         \u001B[0mresult\u001B[0m \u001B[1;33m=\u001B[0m \u001B[0munstack\u001B[0m\u001B[1;33m(\u001B[0m\u001B[0mself\u001B[0m\u001B[1;33m,\u001B[0m \u001B[0mlevel\u001B[0m\u001B[1;33m,\u001B[0m \u001B[0mfill_value\u001B[0m\u001B[1;33m)\u001B[0m\u001B[1;33m\u001B[0m\u001B[1;33m\u001B[0m\u001B[0m\n\u001B[0m\u001B[0;32m   8321\u001B[0m \u001B[1;33m\u001B[0m\u001B[0m\n\u001B[0;32m   8322\u001B[0m         \u001B[1;32mreturn\u001B[0m \u001B[0mresult\u001B[0m\u001B[1;33m.\u001B[0m\u001B[0m__finalize__\u001B[0m\u001B[1;33m(\u001B[0m\u001B[0mself\u001B[0m\u001B[1;33m,\u001B[0m \u001B[0mmethod\u001B[0m\u001B[1;33m=\u001B[0m\u001B[1;34m\"unstack\"\u001B[0m\u001B[1;33m)\u001B[0m\u001B[1;33m\u001B[0m\u001B[1;33m\u001B[0m\u001B[0m\n",
      "\u001B[1;32mc:\\users\\alvinlin\\appdata\\local\\programs\\python\\python37\\lib\\site-packages\\pandas\\core\\reshape\\reshape.py\u001B[0m in \u001B[0;36munstack\u001B[1;34m(obj, level, fill_value)\u001B[0m\n\u001B[0;32m    445\u001B[0m     \u001B[1;32mif\u001B[0m \u001B[0misinstance\u001B[0m\u001B[1;33m(\u001B[0m\u001B[0mobj\u001B[0m\u001B[1;33m,\u001B[0m \u001B[0mDataFrame\u001B[0m\u001B[1;33m)\u001B[0m\u001B[1;33m:\u001B[0m\u001B[1;33m\u001B[0m\u001B[1;33m\u001B[0m\u001B[0m\n\u001B[0;32m    446\u001B[0m         \u001B[1;32mif\u001B[0m \u001B[0misinstance\u001B[0m\u001B[1;33m(\u001B[0m\u001B[0mobj\u001B[0m\u001B[1;33m.\u001B[0m\u001B[0mindex\u001B[0m\u001B[1;33m,\u001B[0m \u001B[0mMultiIndex\u001B[0m\u001B[1;33m)\u001B[0m\u001B[1;33m:\u001B[0m\u001B[1;33m\u001B[0m\u001B[1;33m\u001B[0m\u001B[0m\n\u001B[1;32m--> 447\u001B[1;33m             \u001B[1;32mreturn\u001B[0m \u001B[0m_unstack_frame\u001B[0m\u001B[1;33m(\u001B[0m\u001B[0mobj\u001B[0m\u001B[1;33m,\u001B[0m \u001B[0mlevel\u001B[0m\u001B[1;33m,\u001B[0m \u001B[0mfill_value\u001B[0m\u001B[1;33m=\u001B[0m\u001B[0mfill_value\u001B[0m\u001B[1;33m)\u001B[0m\u001B[1;33m\u001B[0m\u001B[1;33m\u001B[0m\u001B[0m\n\u001B[0m\u001B[0;32m    448\u001B[0m         \u001B[1;32melse\u001B[0m\u001B[1;33m:\u001B[0m\u001B[1;33m\u001B[0m\u001B[1;33m\u001B[0m\u001B[0m\n\u001B[0;32m    449\u001B[0m             \u001B[1;32mreturn\u001B[0m \u001B[0mobj\u001B[0m\u001B[1;33m.\u001B[0m\u001B[0mT\u001B[0m\u001B[1;33m.\u001B[0m\u001B[0mstack\u001B[0m\u001B[1;33m(\u001B[0m\u001B[0mdropna\u001B[0m\u001B[1;33m=\u001B[0m\u001B[1;32mFalse\u001B[0m\u001B[1;33m)\u001B[0m\u001B[1;33m\u001B[0m\u001B[1;33m\u001B[0m\u001B[0m\n",
      "\u001B[1;32mc:\\users\\alvinlin\\appdata\\local\\programs\\python\\python37\\lib\\site-packages\\pandas\\core\\reshape\\reshape.py\u001B[0m in \u001B[0;36m_unstack_frame\u001B[1;34m(obj, level, fill_value)\u001B[0m\n\u001B[0;32m    472\u001B[0m         \u001B[1;32mreturn\u001B[0m \u001B[0mobj\u001B[0m\u001B[1;33m.\u001B[0m\u001B[0m_constructor\u001B[0m\u001B[1;33m(\u001B[0m\u001B[0mmgr\u001B[0m\u001B[1;33m)\u001B[0m\u001B[1;33m\u001B[0m\u001B[1;33m\u001B[0m\u001B[0m\n\u001B[0;32m    473\u001B[0m     \u001B[1;32melse\u001B[0m\u001B[1;33m:\u001B[0m\u001B[1;33m\u001B[0m\u001B[1;33m\u001B[0m\u001B[0m\n\u001B[1;32m--> 474\u001B[1;33m         \u001B[0munstacker\u001B[0m \u001B[1;33m=\u001B[0m \u001B[0m_Unstacker\u001B[0m\u001B[1;33m(\u001B[0m\u001B[0mobj\u001B[0m\u001B[1;33m.\u001B[0m\u001B[0mindex\u001B[0m\u001B[1;33m,\u001B[0m \u001B[0mlevel\u001B[0m\u001B[1;33m=\u001B[0m\u001B[0mlevel\u001B[0m\u001B[1;33m,\u001B[0m \u001B[0mconstructor\u001B[0m\u001B[1;33m=\u001B[0m\u001B[0mobj\u001B[0m\u001B[1;33m.\u001B[0m\u001B[0m_constructor\u001B[0m\u001B[1;33m)\u001B[0m\u001B[1;33m\u001B[0m\u001B[1;33m\u001B[0m\u001B[0m\n\u001B[0m\u001B[0;32m    475\u001B[0m         return unstacker.get_result(\n\u001B[0;32m    476\u001B[0m             \u001B[0mobj\u001B[0m\u001B[1;33m.\u001B[0m\u001B[0m_values\u001B[0m\u001B[1;33m,\u001B[0m \u001B[0mvalue_columns\u001B[0m\u001B[1;33m=\u001B[0m\u001B[0mobj\u001B[0m\u001B[1;33m.\u001B[0m\u001B[0mcolumns\u001B[0m\u001B[1;33m,\u001B[0m \u001B[0mfill_value\u001B[0m\u001B[1;33m=\u001B[0m\u001B[0mfill_value\u001B[0m\u001B[1;33m\u001B[0m\u001B[1;33m\u001B[0m\u001B[0m\n",
      "\u001B[1;32mc:\\users\\alvinlin\\appdata\\local\\programs\\python\\python37\\lib\\site-packages\\pandas\\core\\reshape\\reshape.py\u001B[0m in \u001B[0;36m__init__\u001B[1;34m(self, index, level, constructor)\u001B[0m\n\u001B[0;32m    129\u001B[0m \u001B[1;33m\u001B[0m\u001B[0m\n\u001B[0;32m    130\u001B[0m         \u001B[1;32mif\u001B[0m \u001B[0mnum_rows\u001B[0m \u001B[1;33m>\u001B[0m \u001B[1;36m0\u001B[0m \u001B[1;32mand\u001B[0m \u001B[0mnum_columns\u001B[0m \u001B[1;33m>\u001B[0m \u001B[1;36m0\u001B[0m \u001B[1;32mand\u001B[0m \u001B[0mnum_cells\u001B[0m \u001B[1;33m<=\u001B[0m \u001B[1;36m0\u001B[0m\u001B[1;33m:\u001B[0m\u001B[1;33m\u001B[0m\u001B[1;33m\u001B[0m\u001B[0m\n\u001B[1;32m--> 131\u001B[1;33m             \u001B[1;32mraise\u001B[0m \u001B[0mValueError\u001B[0m\u001B[1;33m(\u001B[0m\u001B[1;34m\"Unstacked DataFrame is too big, causing int32 overflow\"\u001B[0m\u001B[1;33m)\u001B[0m\u001B[1;33m\u001B[0m\u001B[1;33m\u001B[0m\u001B[0m\n\u001B[0m\u001B[0;32m    132\u001B[0m \u001B[1;33m\u001B[0m\u001B[0m\n\u001B[0;32m    133\u001B[0m         \u001B[0mself\u001B[0m\u001B[1;33m.\u001B[0m\u001B[0m_make_selectors\u001B[0m\u001B[1;33m(\u001B[0m\u001B[1;33m)\u001B[0m\u001B[1;33m\u001B[0m\u001B[1;33m\u001B[0m\u001B[0m\n",
      "\u001B[1;31mValueError\u001B[0m: Unstacked DataFrame is too big, causing int32 overflow"
     ]
    }
   ],
   "source": [
    "df.pivot(index=['組別'], columns=['磁碟機', '根目錄', '檔案資料夾'], values=['檔案名稱', '大小', '路徑'])"
   ],
   "metadata": {
    "collapsed": false,
    "pycharm": {
     "name": "#%%\n"
    }
   }
  },
  {
   "cell_type": "code",
   "execution_count": null,
   "outputs": [],
   "source": [
    "#for file_extension, description in extension_df.itertuples(): extension_df[file_extension]\n",
    "file_extension = 'iso'"
   ],
   "metadata": {
    "collapsed": false,
    "pycharm": {
     "name": "#%%\n"
    }
   }
  },
  {
   "cell_type": "code",
   "execution_count": 34,
   "outputs": [],
   "source": [
    "grouped_all= df.groupby(['檔案類型', '根目錄', '檔案資料夾'])"
   ],
   "metadata": {
    "collapsed": false,
    "pycharm": {
     "name": "#%%\n"
    }
   }
  },
  {
   "cell_type": "code",
   "execution_count": 35,
   "outputs": [
    {
     "name": "stdout",
     "output_type": "stream",
     "text": [
      "grouped_name: [('.0', 'D:', 'MAME Games', 'legal')] length of group_dataframe: 4\n"
     ]
    },
    {
     "data": {
      "text/plain": "         檔案名稱                                         路徑     大小  \\\n組別                                                                \n2985  BSL-1.0                  D:\\MAME Games\\docs\\legal\\   1304   \n2985  BSL-1.0  D:\\MAME Games\\mame0238b_64bit\\docs\\legal\\   1304   \n2986  GPL-2.0                  D:\\MAME Games\\docs\\legal\\  18299   \n2986  GPL-2.0  D:\\MAME Games\\mame0238b_64bit\\docs\\legal\\  18299   \n\n                        新增日期                    修改日期 檔案類型 磁碟機         根目錄  \\\n組別                                                                          \n2985  2021/12/18 下午 05:24:00   2020/5/19 上午 11:10:36   .0  D:  MAME Games   \n2985  2021/12/18 下午 05:46:34  2021/11/24 上午 03:39:41   .0  D:  MAME Games   \n2986  2021/12/18 下午 05:24:00   2020/5/19 上午 11:10:36   .0  D:  MAME Games   \n2986  2021/12/18 下午 05:46:34  2021/11/24 上午 03:39:41   .0  D:  MAME Games   \n\n      檔案資料夾  \n組別           \n2985  legal  \n2985  legal  \n2986  legal  \n2986  legal  ",
      "text/html": "<div>\n<style scoped>\n    .dataframe tbody tr th:only-of-type {\n        vertical-align: middle;\n    }\n\n    .dataframe tbody tr th {\n        vertical-align: top;\n    }\n\n    .dataframe thead th {\n        text-align: right;\n    }\n</style>\n<table border=\"1\" class=\"dataframe\">\n  <thead>\n    <tr style=\"text-align: right;\">\n      <th></th>\n      <th>檔案名稱</th>\n      <th>路徑</th>\n      <th>大小</th>\n      <th>新增日期</th>\n      <th>修改日期</th>\n      <th>檔案類型</th>\n      <th>磁碟機</th>\n      <th>根目錄</th>\n      <th>檔案資料夾</th>\n    </tr>\n    <tr>\n      <th>組別</th>\n      <th></th>\n      <th></th>\n      <th></th>\n      <th></th>\n      <th></th>\n      <th></th>\n      <th></th>\n      <th></th>\n      <th></th>\n    </tr>\n  </thead>\n  <tbody>\n    <tr>\n      <th>2985</th>\n      <td>BSL-1.0</td>\n      <td>D:\\MAME Games\\docs\\legal\\</td>\n      <td>1304</td>\n      <td>2021/12/18 下午 05:24:00</td>\n      <td>2020/5/19 上午 11:10:36</td>\n      <td>.0</td>\n      <td>D:</td>\n      <td>MAME Games</td>\n      <td>legal</td>\n    </tr>\n    <tr>\n      <th>2985</th>\n      <td>BSL-1.0</td>\n      <td>D:\\MAME Games\\mame0238b_64bit\\docs\\legal\\</td>\n      <td>1304</td>\n      <td>2021/12/18 下午 05:46:34</td>\n      <td>2021/11/24 上午 03:39:41</td>\n      <td>.0</td>\n      <td>D:</td>\n      <td>MAME Games</td>\n      <td>legal</td>\n    </tr>\n    <tr>\n      <th>2986</th>\n      <td>GPL-2.0</td>\n      <td>D:\\MAME Games\\docs\\legal\\</td>\n      <td>18299</td>\n      <td>2021/12/18 下午 05:24:00</td>\n      <td>2020/5/19 上午 11:10:36</td>\n      <td>.0</td>\n      <td>D:</td>\n      <td>MAME Games</td>\n      <td>legal</td>\n    </tr>\n    <tr>\n      <th>2986</th>\n      <td>GPL-2.0</td>\n      <td>D:\\MAME Games\\mame0238b_64bit\\docs\\legal\\</td>\n      <td>18299</td>\n      <td>2021/12/18 下午 05:46:34</td>\n      <td>2021/11/24 上午 03:39:41</td>\n      <td>.0</td>\n      <td>D:</td>\n      <td>MAME Games</td>\n      <td>legal</td>\n    </tr>\n  </tbody>\n</table>\n</div>"
     },
     "execution_count": 35,
     "metadata": {},
     "output_type": "execute_result"
    }
   ],
   "source": [
    "for grouped_name, group_dataframe in grouped_all:\n",
    "    length_grouped_dataframe = len(group_dataframe)\n",
    "    print('grouped_name: [%s] length of group_dataframe: %d' % (grouped_name, length_grouped_dataframe))\n",
    "    break\n",
    "group_dataframe"
   ],
   "metadata": {
    "collapsed": false,
    "pycharm": {
     "name": "#%%\n"
    }
   }
  },
  {
   "cell_type": "code",
   "execution_count": 32,
   "outputs": [
    {
     "data": {
      "text/plain": "                                                     檔案名稱  \\\n3428    Android App 開發之鑰 使用 Java Android Studio_書目錄及1、...   \n3429    Android App 開發之鑰 使用 Java Android Studio_書目錄及1、...   \n3430    Android App 開發之鑰 使用Java Android Studio_1013_30...   \n3431    Android App 開發之鑰 使用Java Android Studio_1013_30...   \n3494    CI Postman Jenkins Github 介面測試自動化極緻應用 一路整合_書掃描...   \n...                                                   ...   \n404423                           電腦網路與通訊概論(上奇第一版)_書擷圖.iso   \n462840  C# 程式設計入門與實務  百分百自學手冊_書附延伸閱讀電子書 MP32007_Ebook_...   \n462841  C# 程式設計入門與實務  百分百自學手冊_書附延伸閱讀電子書 MP32007_Ebook_...   \n462842      C# 程式設計入門與實務  百分百自學手冊_書附範例MP32007_Example.iso   \n462843      C# 程式設計入門與實務  百分百自學手冊_書附範例MP32007_Example.iso   \n\n                                                       路徑         大小  \\\n3428    D:\\Android App 開發之鑰 使用 Java Android Studio_101...   31174656   \n3429    Z:\\資訊書籍文件\\Android App 開發之鑰 使用 Java Android Stu...   31174656   \n3430    D:\\Android App 開發之鑰 使用 Java Android Studio_101...  263231488   \n3431    Z:\\資訊書籍文件\\Android App 開發之鑰 使用 Java Android Stu...  263231488   \n3494       D:\\CI Postman Jenkins Github 介面測試自動化極緻應用 一路整合\\  132419584   \n...                                                   ...        ...   \n404423                   Z:\\新增書籍文件\\資訊書籍\\電腦網路與通訊概論(上奇第一版)\\  109428736   \n462840                   Z:\\資訊書籍文件\\C# 程式設計入門與實務  百分百自學手冊\\   21891072   \n462841  Z:\\新增書籍文件\\資訊書籍\\C# 程式設計入門與實務 百分百自學手冊 最新 Visual ...   21891072   \n462842                   Z:\\資訊書籍文件\\C# 程式設計入門與實務  百分百自學手冊\\  236701696   \n462843  Z:\\新增書籍文件\\資訊書籍\\C# 程式設計入門與實務 百分百自學手冊 最新 Visual ...  236701696   \n\n                          新增日期                    修改日期  檔案類型      組別 磁碟機  \\\n3428     2021/8/18 上午 02:35:10    2020/1/8 下午 03:51:30  .iso    1058  D:   \n3429      2020/1/8 下午 03:51:11    2020/1/8 下午 03:51:30  .iso    1058  Z:   \n3430     2021/8/18 上午 02:35:11  2019/12/25 下午 04:28:22  .iso    1059  D:   \n3431    2019/12/25 下午 04:22:38  2019/12/25 下午 04:28:22  .iso    1059  Z:   \n3494     2021/8/18 上午 02:35:14   2020/3/13 下午 09:29:46  .iso    1091  D:   \n...                        ...                     ...   ...     ...  ..   \n404423   2021/7/14 下午 12:45:06   2021/7/14 下午 12:45:16  .iso  143779  Z:   \n462840   2021/3/15 下午 10:12:35   2021/3/15 下午 10:12:57  .iso  164977  Z:   \n462841   2021/3/29 上午 11:14:12   2021/3/15 下午 10:12:57  .iso  164977  Z:   \n462842   2021/3/15 下午 10:12:14   2021/3/15 下午 10:12:14  .iso  164978  Z:   \n462843   2021/3/29 上午 11:14:14   2021/3/15 下午 10:12:14  .iso  164978  Z:   \n\n                                                      根目錄  \\\n3428    Android App 開發之鑰 使用 Java Android Studio_1013_3...   \n3429                                               資訊書籍文件   \n3430    Android App 開發之鑰 使用 Java Android Studio_1013_3...   \n3431                                               資訊書籍文件   \n3494           CI Postman Jenkins Github 介面測試自動化極緻應用 一路整合   \n...                                                   ...   \n404423                                             新增書籍文件   \n462840                                             資訊書籍文件   \n462841                                             新增書籍文件   \n462842                                             資訊書籍文件   \n462843                                             新增書籍文件   \n\n                                                    檔案資料夾  \n3428    Android App 開發之鑰 使用 Java Android Studio_1013_3...  \n3429    Android App 開發之鑰 使用 Java Android Studio_1013_3...  \n3430    Android App 開發之鑰 使用 Java Android Studio_1013_3...  \n3431    Android App 開發之鑰 使用 Java Android Studio_1013_3...  \n3494           CI Postman Jenkins Github 介面測試自動化極緻應用 一路整合  \n...                                                   ...  \n404423                                   電腦網路與通訊概論(上奇第一版)  \n462840                              C# 程式設計入門與實務  百分百自學手冊  \n462841       C# 程式設計入門與實務 百分百自學手冊 最新 Visual Studio 2019 版  \n462842                              C# 程式設計入門與實務  百分百自學手冊  \n462843       C# 程式設計入門與實務 百分百自學手冊 最新 Visual Studio 2019 版  \n\n[1115 rows x 10 columns]",
      "text/html": "<div>\n<style scoped>\n    .dataframe tbody tr th:only-of-type {\n        vertical-align: middle;\n    }\n\n    .dataframe tbody tr th {\n        vertical-align: top;\n    }\n\n    .dataframe thead th {\n        text-align: right;\n    }\n</style>\n<table border=\"1\" class=\"dataframe\">\n  <thead>\n    <tr style=\"text-align: right;\">\n      <th></th>\n      <th>檔案名稱</th>\n      <th>路徑</th>\n      <th>大小</th>\n      <th>新增日期</th>\n      <th>修改日期</th>\n      <th>檔案類型</th>\n      <th>組別</th>\n      <th>磁碟機</th>\n      <th>根目錄</th>\n      <th>檔案資料夾</th>\n    </tr>\n  </thead>\n  <tbody>\n    <tr>\n      <th>3428</th>\n      <td>Android App 開發之鑰 使用 Java Android Studio_書目錄及1、...</td>\n      <td>D:\\Android App 開發之鑰 使用 Java Android Studio_101...</td>\n      <td>31174656</td>\n      <td>2021/8/18 上午 02:35:10</td>\n      <td>2020/1/8 下午 03:51:30</td>\n      <td>.iso</td>\n      <td>1058</td>\n      <td>D:</td>\n      <td>Android App 開發之鑰 使用 Java Android Studio_1013_3...</td>\n      <td>Android App 開發之鑰 使用 Java Android Studio_1013_3...</td>\n    </tr>\n    <tr>\n      <th>3429</th>\n      <td>Android App 開發之鑰 使用 Java Android Studio_書目錄及1、...</td>\n      <td>Z:\\資訊書籍文件\\Android App 開發之鑰 使用 Java Android Stu...</td>\n      <td>31174656</td>\n      <td>2020/1/8 下午 03:51:11</td>\n      <td>2020/1/8 下午 03:51:30</td>\n      <td>.iso</td>\n      <td>1058</td>\n      <td>Z:</td>\n      <td>資訊書籍文件</td>\n      <td>Android App 開發之鑰 使用 Java Android Studio_1013_3...</td>\n    </tr>\n    <tr>\n      <th>3430</th>\n      <td>Android App 開發之鑰 使用Java Android Studio_1013_30...</td>\n      <td>D:\\Android App 開發之鑰 使用 Java Android Studio_101...</td>\n      <td>263231488</td>\n      <td>2021/8/18 上午 02:35:11</td>\n      <td>2019/12/25 下午 04:28:22</td>\n      <td>.iso</td>\n      <td>1059</td>\n      <td>D:</td>\n      <td>Android App 開發之鑰 使用 Java Android Studio_1013_3...</td>\n      <td>Android App 開發之鑰 使用 Java Android Studio_1013_3...</td>\n    </tr>\n    <tr>\n      <th>3431</th>\n      <td>Android App 開發之鑰 使用Java Android Studio_1013_30...</td>\n      <td>Z:\\資訊書籍文件\\Android App 開發之鑰 使用 Java Android Stu...</td>\n      <td>263231488</td>\n      <td>2019/12/25 下午 04:22:38</td>\n      <td>2019/12/25 下午 04:28:22</td>\n      <td>.iso</td>\n      <td>1059</td>\n      <td>Z:</td>\n      <td>資訊書籍文件</td>\n      <td>Android App 開發之鑰 使用 Java Android Studio_1013_3...</td>\n    </tr>\n    <tr>\n      <th>3494</th>\n      <td>CI Postman Jenkins Github 介面測試自動化極緻應用 一路整合_書掃描...</td>\n      <td>D:\\CI Postman Jenkins Github 介面測試自動化極緻應用 一路整合\\</td>\n      <td>132419584</td>\n      <td>2021/8/18 上午 02:35:14</td>\n      <td>2020/3/13 下午 09:29:46</td>\n      <td>.iso</td>\n      <td>1091</td>\n      <td>D:</td>\n      <td>CI Postman Jenkins Github 介面測試自動化極緻應用 一路整合</td>\n      <td>CI Postman Jenkins Github 介面測試自動化極緻應用 一路整合</td>\n    </tr>\n    <tr>\n      <th>...</th>\n      <td>...</td>\n      <td>...</td>\n      <td>...</td>\n      <td>...</td>\n      <td>...</td>\n      <td>...</td>\n      <td>...</td>\n      <td>...</td>\n      <td>...</td>\n      <td>...</td>\n    </tr>\n    <tr>\n      <th>404423</th>\n      <td>電腦網路與通訊概論(上奇第一版)_書擷圖.iso</td>\n      <td>Z:\\新增書籍文件\\資訊書籍\\電腦網路與通訊概論(上奇第一版)\\</td>\n      <td>109428736</td>\n      <td>2021/7/14 下午 12:45:06</td>\n      <td>2021/7/14 下午 12:45:16</td>\n      <td>.iso</td>\n      <td>143779</td>\n      <td>Z:</td>\n      <td>新增書籍文件</td>\n      <td>電腦網路與通訊概論(上奇第一版)</td>\n    </tr>\n    <tr>\n      <th>462840</th>\n      <td>C# 程式設計入門與實務  百分百自學手冊_書附延伸閱讀電子書 MP32007_Ebook_...</td>\n      <td>Z:\\資訊書籍文件\\C# 程式設計入門與實務  百分百自學手冊\\</td>\n      <td>21891072</td>\n      <td>2021/3/15 下午 10:12:35</td>\n      <td>2021/3/15 下午 10:12:57</td>\n      <td>.iso</td>\n      <td>164977</td>\n      <td>Z:</td>\n      <td>資訊書籍文件</td>\n      <td>C# 程式設計入門與實務  百分百自學手冊</td>\n    </tr>\n    <tr>\n      <th>462841</th>\n      <td>C# 程式設計入門與實務  百分百自學手冊_書附延伸閱讀電子書 MP32007_Ebook_...</td>\n      <td>Z:\\新增書籍文件\\資訊書籍\\C# 程式設計入門與實務 百分百自學手冊 最新 Visual ...</td>\n      <td>21891072</td>\n      <td>2021/3/29 上午 11:14:12</td>\n      <td>2021/3/15 下午 10:12:57</td>\n      <td>.iso</td>\n      <td>164977</td>\n      <td>Z:</td>\n      <td>新增書籍文件</td>\n      <td>C# 程式設計入門與實務 百分百自學手冊 最新 Visual Studio 2019 版</td>\n    </tr>\n    <tr>\n      <th>462842</th>\n      <td>C# 程式設計入門與實務  百分百自學手冊_書附範例MP32007_Example.iso</td>\n      <td>Z:\\資訊書籍文件\\C# 程式設計入門與實務  百分百自學手冊\\</td>\n      <td>236701696</td>\n      <td>2021/3/15 下午 10:12:14</td>\n      <td>2021/3/15 下午 10:12:14</td>\n      <td>.iso</td>\n      <td>164978</td>\n      <td>Z:</td>\n      <td>資訊書籍文件</td>\n      <td>C# 程式設計入門與實務  百分百自學手冊</td>\n    </tr>\n    <tr>\n      <th>462843</th>\n      <td>C# 程式設計入門與實務  百分百自學手冊_書附範例MP32007_Example.iso</td>\n      <td>Z:\\新增書籍文件\\資訊書籍\\C# 程式設計入門與實務 百分百自學手冊 最新 Visual ...</td>\n      <td>236701696</td>\n      <td>2021/3/29 上午 11:14:14</td>\n      <td>2021/3/15 下午 10:12:14</td>\n      <td>.iso</td>\n      <td>164978</td>\n      <td>Z:</td>\n      <td>新增書籍文件</td>\n      <td>C# 程式設計入門與實務 百分百自學手冊 最新 Visual Studio 2019 版</td>\n    </tr>\n  </tbody>\n</table>\n<p>1115 rows × 10 columns</p>\n</div>"
     },
     "execution_count": 32,
     "metadata": {},
     "output_type": "execute_result"
    }
   ],
   "source": [
    "file_extension = 'iso'\n",
    "iso_dataframe = df[df['檔案類型'] == f'.{file_extension}']\n",
    "iso_dataframe.sort_values('組別')"
   ],
   "metadata": {
    "collapsed": false,
    "pycharm": {
     "name": "#%%\n"
    }
   }
  },
  {
   "cell_type": "code",
   "execution_count": null,
   "outputs": [],
   "source": [
    "iso_dataframe.pivot_table()"
   ],
   "metadata": {
    "collapsed": false,
    "pycharm": {
     "name": "#%%\n"
    }
   }
  },
  {
   "cell_type": "code",
   "execution_count": 22,
   "outputs": [
    {
     "name": "stdout",
     "output_type": "stream",
     "text": [
      "grouped_name: [1058] length of group_dataframe: 2\n",
      "grouped_name: [1059] length of group_dataframe: 2\n",
      "grouped_name: [1091] length of group_dataframe: 2\n",
      "grouped_name: [2103] length of group_dataframe: 2\n",
      "grouped_name: [2313] length of group_dataframe: 2\n",
      "grouped_name: [2463] length of group_dataframe: 2\n",
      "grouped_name: [2752] length of group_dataframe: 2\n",
      "grouped_name: [3642] length of group_dataframe: 2\n",
      "grouped_name: [3891] length of group_dataframe: 2\n",
      "grouped_name: [4032] length of group_dataframe: 2\n",
      "grouped_name: [4237] length of group_dataframe: 2\n",
      "grouped_name: [4844] length of group_dataframe: 2\n",
      "grouped_name: [8133] length of group_dataframe: 2\n",
      "grouped_name: [8134] length of group_dataframe: 2\n",
      "grouped_name: [8358] length of group_dataframe: 2\n",
      "grouped_name: [8359] length of group_dataframe: 2\n",
      "grouped_name: [8497] length of group_dataframe: 2\n",
      "grouped_name: [8645] length of group_dataframe: 2\n",
      "grouped_name: [8698] length of group_dataframe: 2\n",
      "grouped_name: [8820] length of group_dataframe: 2\n",
      "grouped_name: [8919] length of group_dataframe: 2\n",
      "grouped_name: [9177] length of group_dataframe: 2\n",
      "grouped_name: [9535] length of group_dataframe: 2\n",
      "grouped_name: [9563] length of group_dataframe: 4\n",
      "grouped_name: [9564] length of group_dataframe: 2\n",
      "grouped_name: [9785] length of group_dataframe: 2\n",
      "grouped_name: [10137] length of group_dataframe: 2\n",
      "grouped_name: [10138] length of group_dataframe: 2\n",
      "grouped_name: [10946] length of group_dataframe: 2\n",
      "grouped_name: [11121] length of group_dataframe: 2\n",
      "grouped_name: [11418] length of group_dataframe: 2\n",
      "grouped_name: [11422] length of group_dataframe: 2\n",
      "grouped_name: [11920] length of group_dataframe: 2\n",
      "grouped_name: [11922] length of group_dataframe: 2\n",
      "grouped_name: [12449] length of group_dataframe: 2\n",
      "grouped_name: [12674] length of group_dataframe: 2\n",
      "grouped_name: [12754] length of group_dataframe: 2\n",
      "grouped_name: [12766] length of group_dataframe: 2\n",
      "grouped_name: [12914] length of group_dataframe: 2\n",
      "grouped_name: [13044] length of group_dataframe: 2\n",
      "grouped_name: [13479] length of group_dataframe: 2\n",
      "grouped_name: [13485] length of group_dataframe: 2\n",
      "grouped_name: [13695] length of group_dataframe: 2\n",
      "grouped_name: [13697] length of group_dataframe: 2\n",
      "grouped_name: [13720] length of group_dataframe: 2\n",
      "grouped_name: [13721] length of group_dataframe: 2\n",
      "grouped_name: [13723] length of group_dataframe: 2\n",
      "grouped_name: [14018] length of group_dataframe: 2\n",
      "grouped_name: [14162] length of group_dataframe: 2\n",
      "grouped_name: [15169] length of group_dataframe: 2\n",
      "grouped_name: [15170] length of group_dataframe: 2\n",
      "grouped_name: [15172] length of group_dataframe: 2\n",
      "grouped_name: [15685] length of group_dataframe: 2\n",
      "grouped_name: [16950] length of group_dataframe: 2\n",
      "grouped_name: [16952] length of group_dataframe: 2\n",
      "grouped_name: [16954] length of group_dataframe: 2\n",
      "grouped_name: [17124] length of group_dataframe: 2\n",
      "grouped_name: [17307] length of group_dataframe: 2\n",
      "grouped_name: [17448] length of group_dataframe: 2\n",
      "grouped_name: [17553] length of group_dataframe: 2\n",
      "grouped_name: [17555] length of group_dataframe: 3\n",
      "grouped_name: [17556] length of group_dataframe: 3\n",
      "grouped_name: [17557] length of group_dataframe: 2\n",
      "grouped_name: [17847] length of group_dataframe: 2\n",
      "grouped_name: [17856] length of group_dataframe: 2\n",
      "grouped_name: [17857] length of group_dataframe: 2\n",
      "grouped_name: [18122] length of group_dataframe: 2\n",
      "grouped_name: [18172] length of group_dataframe: 2\n",
      "grouped_name: [18422] length of group_dataframe: 2\n",
      "grouped_name: [18601] length of group_dataframe: 2\n",
      "grouped_name: [18602] length of group_dataframe: 2\n",
      "grouped_name: [18773] length of group_dataframe: 2\n",
      "grouped_name: [19138] length of group_dataframe: 2\n",
      "grouped_name: [19312] length of group_dataframe: 2\n",
      "grouped_name: [19315] length of group_dataframe: 2\n",
      "grouped_name: [19764] length of group_dataframe: 2\n",
      "grouped_name: [19789] length of group_dataframe: 2\n",
      "grouped_name: [19791] length of group_dataframe: 2\n",
      "grouped_name: [20070] length of group_dataframe: 2\n",
      "grouped_name: [20071] length of group_dataframe: 2\n",
      "grouped_name: [20238] length of group_dataframe: 2\n",
      "grouped_name: [24705] length of group_dataframe: 2\n",
      "grouped_name: [24718] length of group_dataframe: 2\n",
      "grouped_name: [24868] length of group_dataframe: 2\n",
      "grouped_name: [24944] length of group_dataframe: 2\n",
      "grouped_name: [25158] length of group_dataframe: 2\n",
      "grouped_name: [25182] length of group_dataframe: 2\n",
      "grouped_name: [25251] length of group_dataframe: 2\n",
      "grouped_name: [25252] length of group_dataframe: 2\n",
      "grouped_name: [25405] length of group_dataframe: 2\n",
      "grouped_name: [25850] length of group_dataframe: 2\n",
      "grouped_name: [25857] length of group_dataframe: 2\n",
      "grouped_name: [25972] length of group_dataframe: 2\n",
      "grouped_name: [25981] length of group_dataframe: 2\n",
      "grouped_name: [29006] length of group_dataframe: 2\n",
      "grouped_name: [29177] length of group_dataframe: 2\n",
      "grouped_name: [29179] length of group_dataframe: 2\n",
      "grouped_name: [44353] length of group_dataframe: 2\n",
      "grouped_name: [44428] length of group_dataframe: 2\n",
      "grouped_name: [44677] length of group_dataframe: 2\n",
      "grouped_name: [44680] length of group_dataframe: 2\n",
      "grouped_name: [44681] length of group_dataframe: 2\n",
      "grouped_name: [45215] length of group_dataframe: 2\n",
      "grouped_name: [45216] length of group_dataframe: 2\n",
      "grouped_name: [45219] length of group_dataframe: 2\n",
      "grouped_name: [46034] length of group_dataframe: 2\n",
      "grouped_name: [46035] length of group_dataframe: 2\n",
      "grouped_name: [46051] length of group_dataframe: 2\n",
      "grouped_name: [46054] length of group_dataframe: 2\n",
      "grouped_name: [46340] length of group_dataframe: 2\n",
      "grouped_name: [46636] length of group_dataframe: 2\n",
      "grouped_name: [46719] length of group_dataframe: 2\n",
      "grouped_name: [46818] length of group_dataframe: 2\n",
      "grouped_name: [46823] length of group_dataframe: 2\n",
      "grouped_name: [46833] length of group_dataframe: 2\n",
      "grouped_name: [46836] length of group_dataframe: 2\n",
      "grouped_name: [47123] length of group_dataframe: 2\n",
      "grouped_name: [47127] length of group_dataframe: 2\n",
      "grouped_name: [47249] length of group_dataframe: 2\n",
      "grouped_name: [47372] length of group_dataframe: 4\n",
      "grouped_name: [47373] length of group_dataframe: 2\n",
      "grouped_name: [47375] length of group_dataframe: 2\n",
      "grouped_name: [47379] length of group_dataframe: 3\n",
      "grouped_name: [48401] length of group_dataframe: 2\n",
      "grouped_name: [48532] length of group_dataframe: 2\n",
      "grouped_name: [48547] length of group_dataframe: 2\n",
      "grouped_name: [48549] length of group_dataframe: 2\n",
      "grouped_name: [48704] length of group_dataframe: 2\n",
      "grouped_name: [49028] length of group_dataframe: 2\n",
      "grouped_name: [49199] length of group_dataframe: 2\n",
      "grouped_name: [49200] length of group_dataframe: 2\n",
      "grouped_name: [49201] length of group_dataframe: 2\n",
      "grouped_name: [49202] length of group_dataframe: 2\n",
      "grouped_name: [49211] length of group_dataframe: 2\n",
      "grouped_name: [49212] length of group_dataframe: 2\n",
      "grouped_name: [49317] length of group_dataframe: 2\n",
      "grouped_name: [49513] length of group_dataframe: 2\n",
      "grouped_name: [49529] length of group_dataframe: 2\n",
      "grouped_name: [49840] length of group_dataframe: 2\n",
      "grouped_name: [49950] length of group_dataframe: 2\n",
      "grouped_name: [50169] length of group_dataframe: 2\n",
      "grouped_name: [50345] length of group_dataframe: 2\n",
      "grouped_name: [50346] length of group_dataframe: 2\n",
      "grouped_name: [50347] length of group_dataframe: 2\n",
      "grouped_name: [50846] length of group_dataframe: 2\n",
      "grouped_name: [50847] length of group_dataframe: 2\n",
      "grouped_name: [50848] length of group_dataframe: 2\n",
      "grouped_name: [50850] length of group_dataframe: 2\n",
      "grouped_name: [51093] length of group_dataframe: 2\n",
      "grouped_name: [51096] length of group_dataframe: 2\n",
      "grouped_name: [51334] length of group_dataframe: 2\n",
      "grouped_name: [51805] length of group_dataframe: 2\n",
      "grouped_name: [52165] length of group_dataframe: 2\n",
      "grouped_name: [52324] length of group_dataframe: 2\n",
      "grouped_name: [52431] length of group_dataframe: 2\n",
      "grouped_name: [52432] length of group_dataframe: 2\n",
      "grouped_name: [52634] length of group_dataframe: 2\n",
      "grouped_name: [52817] length of group_dataframe: 2\n",
      "grouped_name: [52870] length of group_dataframe: 2\n",
      "grouped_name: [53180] length of group_dataframe: 2\n",
      "grouped_name: [53243] length of group_dataframe: 2\n",
      "grouped_name: [53268] length of group_dataframe: 2\n",
      "grouped_name: [53424] length of group_dataframe: 2\n",
      "grouped_name: [53425] length of group_dataframe: 2\n",
      "grouped_name: [53636] length of group_dataframe: 2\n",
      "grouped_name: [53942] length of group_dataframe: 2\n",
      "grouped_name: [54408] length of group_dataframe: 2\n",
      "grouped_name: [54411] length of group_dataframe: 2\n",
      "grouped_name: [54446] length of group_dataframe: 2\n",
      "grouped_name: [54451] length of group_dataframe: 2\n",
      "grouped_name: [54692] length of group_dataframe: 2\n",
      "grouped_name: [54881] length of group_dataframe: 2\n",
      "grouped_name: [54882] length of group_dataframe: 2\n",
      "grouped_name: [55274] length of group_dataframe: 2\n",
      "grouped_name: [55276] length of group_dataframe: 2\n",
      "grouped_name: [55589] length of group_dataframe: 2\n",
      "grouped_name: [55761] length of group_dataframe: 2\n",
      "grouped_name: [59855] length of group_dataframe: 2\n",
      "grouped_name: [59925] length of group_dataframe: 2\n",
      "grouped_name: [59933] length of group_dataframe: 2\n",
      "grouped_name: [60107] length of group_dataframe: 2\n",
      "grouped_name: [60137] length of group_dataframe: 2\n",
      "grouped_name: [60147] length of group_dataframe: 2\n",
      "grouped_name: [60148] length of group_dataframe: 2\n",
      "grouped_name: [60151] length of group_dataframe: 2\n",
      "grouped_name: [60152] length of group_dataframe: 2\n",
      "grouped_name: [60305] length of group_dataframe: 2\n",
      "grouped_name: [60414] length of group_dataframe: 2\n",
      "grouped_name: [60422] length of group_dataframe: 2\n",
      "grouped_name: [60602] length of group_dataframe: 2\n",
      "grouped_name: [60604] length of group_dataframe: 2\n",
      "grouped_name: [60605] length of group_dataframe: 2\n",
      "grouped_name: [61381] length of group_dataframe: 3\n",
      "grouped_name: [66969] length of group_dataframe: 2\n",
      "grouped_name: [66970] length of group_dataframe: 2\n",
      "grouped_name: [67506] length of group_dataframe: 2\n",
      "grouped_name: [67507] length of group_dataframe: 2\n",
      "grouped_name: [67641] length of group_dataframe: 2\n",
      "grouped_name: [67886] length of group_dataframe: 2\n",
      "grouped_name: [68344] length of group_dataframe: 2\n",
      "grouped_name: [68345] length of group_dataframe: 2\n",
      "grouped_name: [68346] length of group_dataframe: 2\n",
      "grouped_name: [68348] length of group_dataframe: 2\n",
      "grouped_name: [68349] length of group_dataframe: 2\n",
      "grouped_name: [68360] length of group_dataframe: 2\n",
      "grouped_name: [68368] length of group_dataframe: 2\n",
      "grouped_name: [68595] length of group_dataframe: 2\n",
      "grouped_name: [70177] length of group_dataframe: 2\n",
      "grouped_name: [70237] length of group_dataframe: 2\n",
      "grouped_name: [71314] length of group_dataframe: 2\n",
      "grouped_name: [71317] length of group_dataframe: 2\n",
      "grouped_name: [72838] length of group_dataframe: 2\n",
      "grouped_name: [73020] length of group_dataframe: 2\n",
      "grouped_name: [73315] length of group_dataframe: 2\n",
      "grouped_name: [73633] length of group_dataframe: 2\n",
      "grouped_name: [75117] length of group_dataframe: 2\n",
      "grouped_name: [75118] length of group_dataframe: 2\n",
      "grouped_name: [75122] length of group_dataframe: 2\n",
      "grouped_name: [75457] length of group_dataframe: 2\n",
      "grouped_name: [75649] length of group_dataframe: 2\n",
      "grouped_name: [76175] length of group_dataframe: 2\n",
      "grouped_name: [76177] length of group_dataframe: 2\n",
      "grouped_name: [76712] length of group_dataframe: 3\n",
      "grouped_name: [76713] length of group_dataframe: 2\n",
      "grouped_name: [76716] length of group_dataframe: 3\n",
      "grouped_name: [76719] length of group_dataframe: 2\n",
      "grouped_name: [77415] length of group_dataframe: 2\n",
      "grouped_name: [77428] length of group_dataframe: 2\n",
      "grouped_name: [77429] length of group_dataframe: 2\n",
      "grouped_name: [78593] length of group_dataframe: 2\n",
      "grouped_name: [78594] length of group_dataframe: 2\n",
      "grouped_name: [81210] length of group_dataframe: 2\n",
      "grouped_name: [81523] length of group_dataframe: 2\n",
      "grouped_name: [81524] length of group_dataframe: 2\n",
      "grouped_name: [81525] length of group_dataframe: 2\n",
      "grouped_name: [81526] length of group_dataframe: 3\n",
      "grouped_name: [81531] length of group_dataframe: 2\n",
      "grouped_name: [81533] length of group_dataframe: 2\n",
      "grouped_name: [81947] length of group_dataframe: 2\n",
      "grouped_name: [81948] length of group_dataframe: 2\n",
      "grouped_name: [82089] length of group_dataframe: 2\n",
      "grouped_name: [82290] length of group_dataframe: 2\n",
      "grouped_name: [82298] length of group_dataframe: 2\n",
      "grouped_name: [82300] length of group_dataframe: 2\n",
      "grouped_name: [82302] length of group_dataframe: 2\n",
      "grouped_name: [82900] length of group_dataframe: 2\n",
      "grouped_name: [82902] length of group_dataframe: 2\n",
      "grouped_name: [82903] length of group_dataframe: 2\n",
      "grouped_name: [83062] length of group_dataframe: 3\n",
      "grouped_name: [84703] length of group_dataframe: 2\n",
      "grouped_name: [84716] length of group_dataframe: 2\n",
      "grouped_name: [84718] length of group_dataframe: 2\n",
      "grouped_name: [86595] length of group_dataframe: 2\n",
      "grouped_name: [86597] length of group_dataframe: 2\n",
      "grouped_name: [86754] length of group_dataframe: 2\n",
      "grouped_name: [87034] length of group_dataframe: 2\n",
      "grouped_name: [87294] length of group_dataframe: 2\n",
      "grouped_name: [87298] length of group_dataframe: 2\n",
      "grouped_name: [87299] length of group_dataframe: 2\n",
      "grouped_name: [87570] length of group_dataframe: 2\n",
      "grouped_name: [88138] length of group_dataframe: 2\n",
      "grouped_name: [88293] length of group_dataframe: 2\n",
      "grouped_name: [88498] length of group_dataframe: 2\n",
      "grouped_name: [88803] length of group_dataframe: 2\n",
      "grouped_name: [89002] length of group_dataframe: 2\n",
      "grouped_name: [89006] length of group_dataframe: 2\n",
      "grouped_name: [89016] length of group_dataframe: 2\n",
      "grouped_name: [89017] length of group_dataframe: 3\n",
      "grouped_name: [89055] length of group_dataframe: 2\n",
      "grouped_name: [89056] length of group_dataframe: 2\n",
      "grouped_name: [89408] length of group_dataframe: 2\n",
      "grouped_name: [89622] length of group_dataframe: 2\n",
      "grouped_name: [90245] length of group_dataframe: 2\n",
      "grouped_name: [90335] length of group_dataframe: 3\n",
      "grouped_name: [90336] length of group_dataframe: 2\n",
      "grouped_name: [90500] length of group_dataframe: 2\n",
      "grouped_name: [90572] length of group_dataframe: 2\n",
      "grouped_name: [90595] length of group_dataframe: 2\n",
      "grouped_name: [90596] length of group_dataframe: 2\n",
      "grouped_name: [90670] length of group_dataframe: 2\n",
      "grouped_name: [91107] length of group_dataframe: 2\n",
      "grouped_name: [91225] length of group_dataframe: 2\n",
      "grouped_name: [92268] length of group_dataframe: 2\n",
      "grouped_name: [92566] length of group_dataframe: 2\n",
      "grouped_name: [92820] length of group_dataframe: 2\n",
      "grouped_name: [92856] length of group_dataframe: 2\n",
      "grouped_name: [92857] length of group_dataframe: 2\n",
      "grouped_name: [92896] length of group_dataframe: 2\n",
      "grouped_name: [93209] length of group_dataframe: 2\n",
      "grouped_name: [93470] length of group_dataframe: 2\n",
      "grouped_name: [93472] length of group_dataframe: 2\n",
      "grouped_name: [93956] length of group_dataframe: 2\n",
      "grouped_name: [94198] length of group_dataframe: 2\n",
      "grouped_name: [94510] length of group_dataframe: 3\n",
      "grouped_name: [94511] length of group_dataframe: 2\n",
      "grouped_name: [94512] length of group_dataframe: 2\n",
      "grouped_name: [94513] length of group_dataframe: 2\n",
      "grouped_name: [94514] length of group_dataframe: 2\n",
      "grouped_name: [94515] length of group_dataframe: 2\n",
      "grouped_name: [94516] length of group_dataframe: 2\n",
      "grouped_name: [94525] length of group_dataframe: 2\n",
      "grouped_name: [94536] length of group_dataframe: 2\n",
      "grouped_name: [94901] length of group_dataframe: 2\n",
      "grouped_name: [95625] length of group_dataframe: 2\n",
      "grouped_name: [95626] length of group_dataframe: 2\n",
      "grouped_name: [95627] length of group_dataframe: 2\n",
      "grouped_name: [96049] length of group_dataframe: 2\n",
      "grouped_name: [97110] length of group_dataframe: 2\n",
      "grouped_name: [97364] length of group_dataframe: 2\n",
      "grouped_name: [97766] length of group_dataframe: 2\n",
      "grouped_name: [97936] length of group_dataframe: 2\n",
      "grouped_name: [97943] length of group_dataframe: 2\n",
      "grouped_name: [97945] length of group_dataframe: 2\n",
      "grouped_name: [97947] length of group_dataframe: 2\n",
      "grouped_name: [98282] length of group_dataframe: 2\n",
      "grouped_name: [98844] length of group_dataframe: 2\n",
      "grouped_name: [98869] length of group_dataframe: 2\n",
      "grouped_name: [99338] length of group_dataframe: 2\n",
      "grouped_name: [99339] length of group_dataframe: 2\n",
      "grouped_name: [99340] length of group_dataframe: 3\n",
      "grouped_name: [99420] length of group_dataframe: 2\n",
      "grouped_name: [99424] length of group_dataframe: 2\n",
      "grouped_name: [99737] length of group_dataframe: 2\n",
      "grouped_name: [100076] length of group_dataframe: 2\n",
      "grouped_name: [100348] length of group_dataframe: 2\n",
      "grouped_name: [100349] length of group_dataframe: 2\n",
      "grouped_name: [100352] length of group_dataframe: 2\n",
      "grouped_name: [100974] length of group_dataframe: 3\n",
      "grouped_name: [100975] length of group_dataframe: 3\n",
      "grouped_name: [100976] length of group_dataframe: 3\n",
      "grouped_name: [100977] length of group_dataframe: 3\n",
      "grouped_name: [100978] length of group_dataframe: 2\n",
      "grouped_name: [101266] length of group_dataframe: 2\n",
      "grouped_name: [101358] length of group_dataframe: 2\n",
      "grouped_name: [101606] length of group_dataframe: 2\n",
      "grouped_name: [101608] length of group_dataframe: 2\n",
      "grouped_name: [101609] length of group_dataframe: 2\n",
      "grouped_name: [101611] length of group_dataframe: 2\n",
      "grouped_name: [101933] length of group_dataframe: 2\n",
      "grouped_name: [102199] length of group_dataframe: 2\n",
      "grouped_name: [102231] length of group_dataframe: 2\n",
      "grouped_name: [103007] length of group_dataframe: 2\n",
      "grouped_name: [103412] length of group_dataframe: 2\n",
      "grouped_name: [103592] length of group_dataframe: 2\n",
      "grouped_name: [103799] length of group_dataframe: 2\n",
      "grouped_name: [103948] length of group_dataframe: 2\n",
      "grouped_name: [103949] length of group_dataframe: 3\n",
      "grouped_name: [104351] length of group_dataframe: 2\n",
      "grouped_name: [104352] length of group_dataframe: 2\n",
      "grouped_name: [104810] length of group_dataframe: 2\n",
      "grouped_name: [105277] length of group_dataframe: 2\n",
      "grouped_name: [105280] length of group_dataframe: 2\n",
      "grouped_name: [105575] length of group_dataframe: 2\n",
      "grouped_name: [105743] length of group_dataframe: 2\n",
      "grouped_name: [105744] length of group_dataframe: 2\n",
      "grouped_name: [106077] length of group_dataframe: 2\n",
      "grouped_name: [106219] length of group_dataframe: 2\n",
      "grouped_name: [106221] length of group_dataframe: 2\n",
      "grouped_name: [106224] length of group_dataframe: 2\n",
      "grouped_name: [106649] length of group_dataframe: 2\n",
      "grouped_name: [106863] length of group_dataframe: 2\n",
      "grouped_name: [106865] length of group_dataframe: 2\n",
      "grouped_name: [107096] length of group_dataframe: 2\n",
      "grouped_name: [107097] length of group_dataframe: 2\n",
      "grouped_name: [107098] length of group_dataframe: 2\n",
      "grouped_name: [109015] length of group_dataframe: 2\n",
      "grouped_name: [109260] length of group_dataframe: 2\n",
      "grouped_name: [109261] length of group_dataframe: 2\n",
      "grouped_name: [109262] length of group_dataframe: 2\n",
      "grouped_name: [109264] length of group_dataframe: 2\n",
      "grouped_name: [110008] length of group_dataframe: 3\n",
      "grouped_name: [110012] length of group_dataframe: 2\n",
      "grouped_name: [110030] length of group_dataframe: 2\n",
      "grouped_name: [110060] length of group_dataframe: 2\n",
      "grouped_name: [110062] length of group_dataframe: 2\n",
      "grouped_name: [110066] length of group_dataframe: 2\n",
      "grouped_name: [110525] length of group_dataframe: 2\n",
      "grouped_name: [110527] length of group_dataframe: 4\n",
      "grouped_name: [110933] length of group_dataframe: 2\n",
      "grouped_name: [110946] length of group_dataframe: 2\n",
      "grouped_name: [111135] length of group_dataframe: 2\n",
      "grouped_name: [111137] length of group_dataframe: 2\n",
      "grouped_name: [111139] length of group_dataframe: 2\n",
      "grouped_name: [111140] length of group_dataframe: 2\n",
      "grouped_name: [111143] length of group_dataframe: 2\n",
      "grouped_name: [111865] length of group_dataframe: 2\n",
      "grouped_name: [111866] length of group_dataframe: 2\n",
      "grouped_name: [112446] length of group_dataframe: 2\n",
      "grouped_name: [112789] length of group_dataframe: 2\n",
      "grouped_name: [112793] length of group_dataframe: 2\n",
      "grouped_name: [112794] length of group_dataframe: 2\n",
      "grouped_name: [113351] length of group_dataframe: 2\n",
      "grouped_name: [113352] length of group_dataframe: 2\n",
      "grouped_name: [113759] length of group_dataframe: 2\n",
      "grouped_name: [113761] length of group_dataframe: 2\n",
      "grouped_name: [113832] length of group_dataframe: 2\n",
      "grouped_name: [114211] length of group_dataframe: 2\n",
      "grouped_name: [114213] length of group_dataframe: 2\n",
      "grouped_name: [114651] length of group_dataframe: 2\n",
      "grouped_name: [114652] length of group_dataframe: 2\n",
      "grouped_name: [114653] length of group_dataframe: 2\n",
      "grouped_name: [114654] length of group_dataframe: 2\n",
      "grouped_name: [115932] length of group_dataframe: 2\n",
      "grouped_name: [115934] length of group_dataframe: 2\n",
      "grouped_name: [115974] length of group_dataframe: 2\n",
      "grouped_name: [115975] length of group_dataframe: 2\n",
      "grouped_name: [115976] length of group_dataframe: 2\n",
      "grouped_name: [115977] length of group_dataframe: 2\n",
      "grouped_name: [115978] length of group_dataframe: 2\n",
      "grouped_name: [115979] length of group_dataframe: 2\n",
      "grouped_name: [115980] length of group_dataframe: 2\n",
      "grouped_name: [115981] length of group_dataframe: 2\n",
      "grouped_name: [115982] length of group_dataframe: 2\n",
      "grouped_name: [115983] length of group_dataframe: 2\n",
      "grouped_name: [115984] length of group_dataframe: 2\n",
      "grouped_name: [116259] length of group_dataframe: 2\n",
      "grouped_name: [116573] length of group_dataframe: 2\n",
      "grouped_name: [116834] length of group_dataframe: 2\n",
      "grouped_name: [116835] length of group_dataframe: 2\n",
      "grouped_name: [116837] length of group_dataframe: 2\n",
      "grouped_name: [117230] length of group_dataframe: 2\n",
      "grouped_name: [118143] length of group_dataframe: 2\n",
      "grouped_name: [118289] length of group_dataframe: 2\n",
      "grouped_name: [118451] length of group_dataframe: 2\n",
      "grouped_name: [118453] length of group_dataframe: 2\n",
      "grouped_name: [118695] length of group_dataframe: 2\n",
      "grouped_name: [118699] length of group_dataframe: 3\n",
      "grouped_name: [118932] length of group_dataframe: 2\n",
      "grouped_name: [118978] length of group_dataframe: 2\n",
      "grouped_name: [118980] length of group_dataframe: 2\n",
      "grouped_name: [119260] length of group_dataframe: 2\n",
      "grouped_name: [120261] length of group_dataframe: 2\n",
      "grouped_name: [120808] length of group_dataframe: 2\n",
      "grouped_name: [120809] length of group_dataframe: 2\n",
      "grouped_name: [120810] length of group_dataframe: 2\n",
      "grouped_name: [121062] length of group_dataframe: 2\n",
      "grouped_name: [121064] length of group_dataframe: 2\n",
      "grouped_name: [121067] length of group_dataframe: 2\n",
      "grouped_name: [121318] length of group_dataframe: 2\n",
      "grouped_name: [121487] length of group_dataframe: 3\n",
      "grouped_name: [121488] length of group_dataframe: 2\n",
      "grouped_name: [121642] length of group_dataframe: 2\n",
      "grouped_name: [121863] length of group_dataframe: 2\n",
      "grouped_name: [122264] length of group_dataframe: 2\n",
      "grouped_name: [122499] length of group_dataframe: 2\n",
      "grouped_name: [122501] length of group_dataframe: 2\n",
      "grouped_name: [122503] length of group_dataframe: 2\n",
      "grouped_name: [122505] length of group_dataframe: 2\n",
      "grouped_name: [122507] length of group_dataframe: 2\n",
      "grouped_name: [124069] length of group_dataframe: 2\n",
      "grouped_name: [124246] length of group_dataframe: 2\n",
      "grouped_name: [125022] length of group_dataframe: 2\n",
      "grouped_name: [125024] length of group_dataframe: 2\n",
      "grouped_name: [125026] length of group_dataframe: 2\n",
      "grouped_name: [125213] length of group_dataframe: 2\n",
      "grouped_name: [125401] length of group_dataframe: 2\n",
      "grouped_name: [125499] length of group_dataframe: 2\n",
      "grouped_name: [125504] length of group_dataframe: 2\n",
      "grouped_name: [125531] length of group_dataframe: 2\n",
      "grouped_name: [125533] length of group_dataframe: 2\n",
      "grouped_name: [125961] length of group_dataframe: 2\n",
      "grouped_name: [125963] length of group_dataframe: 2\n",
      "grouped_name: [126254] length of group_dataframe: 2\n",
      "grouped_name: [126371] length of group_dataframe: 2\n",
      "grouped_name: [126644] length of group_dataframe: 3\n",
      "grouped_name: [126647] length of group_dataframe: 3\n",
      "grouped_name: [127196] length of group_dataframe: 3\n",
      "grouped_name: [127198] length of group_dataframe: 3\n",
      "grouped_name: [127593] length of group_dataframe: 2\n",
      "grouped_name: [127751] length of group_dataframe: 2\n",
      "grouped_name: [128125] length of group_dataframe: 2\n",
      "grouped_name: [128128] length of group_dataframe: 2\n",
      "grouped_name: [128644] length of group_dataframe: 2\n",
      "grouped_name: [130502] length of group_dataframe: 2\n",
      "grouped_name: [130503] length of group_dataframe: 2\n",
      "grouped_name: [130524] length of group_dataframe: 2\n",
      "grouped_name: [130525] length of group_dataframe: 2\n",
      "grouped_name: [131837] length of group_dataframe: 2\n",
      "grouped_name: [131966] length of group_dataframe: 2\n",
      "grouped_name: [131967] length of group_dataframe: 2\n",
      "grouped_name: [132040] length of group_dataframe: 2\n",
      "grouped_name: [132158] length of group_dataframe: 2\n",
      "grouped_name: [132273] length of group_dataframe: 2\n",
      "grouped_name: [132276] length of group_dataframe: 2\n",
      "grouped_name: [132420] length of group_dataframe: 3\n",
      "grouped_name: [132421] length of group_dataframe: 2\n",
      "grouped_name: [132645] length of group_dataframe: 2\n",
      "grouped_name: [132755] length of group_dataframe: 2\n",
      "grouped_name: [132863] length of group_dataframe: 2\n",
      "grouped_name: [132964] length of group_dataframe: 2\n",
      "grouped_name: [133006] length of group_dataframe: 2\n",
      "grouped_name: [133044] length of group_dataframe: 2\n",
      "grouped_name: [133156] length of group_dataframe: 3\n",
      "grouped_name: [133358] length of group_dataframe: 2\n",
      "grouped_name: [133488] length of group_dataframe: 2\n",
      "grouped_name: [133610] length of group_dataframe: 2\n",
      "grouped_name: [133716] length of group_dataframe: 2\n",
      "grouped_name: [133832] length of group_dataframe: 2\n",
      "grouped_name: [133946] length of group_dataframe: 3\n",
      "grouped_name: [134070] length of group_dataframe: 2\n",
      "grouped_name: [134828] length of group_dataframe: 2\n",
      "grouped_name: [134841] length of group_dataframe: 2\n",
      "grouped_name: [134966] length of group_dataframe: 2\n",
      "grouped_name: [135087] length of group_dataframe: 3\n",
      "grouped_name: [135412] length of group_dataframe: 2\n",
      "grouped_name: [135528] length of group_dataframe: 2\n",
      "grouped_name: [135553] length of group_dataframe: 2\n",
      "grouped_name: [136064] length of group_dataframe: 2\n",
      "grouped_name: [136257] length of group_dataframe: 2\n",
      "grouped_name: [136731] length of group_dataframe: 2\n",
      "grouped_name: [136856] length of group_dataframe: 2\n",
      "grouped_name: [137116] length of group_dataframe: 2\n",
      "grouped_name: [137170] length of group_dataframe: 2\n",
      "grouped_name: [137305] length of group_dataframe: 2\n",
      "grouped_name: [137466] length of group_dataframe: 2\n",
      "grouped_name: [137582] length of group_dataframe: 2\n",
      "grouped_name: [137583] length of group_dataframe: 2\n",
      "grouped_name: [137584] length of group_dataframe: 2\n",
      "grouped_name: [137826] length of group_dataframe: 2\n",
      "grouped_name: [137832] length of group_dataframe: 2\n",
      "grouped_name: [137922] length of group_dataframe: 2\n",
      "grouped_name: [138024] length of group_dataframe: 3\n",
      "grouped_name: [138194] length of group_dataframe: 2\n",
      "grouped_name: [138386] length of group_dataframe: 2\n",
      "grouped_name: [138485] length of group_dataframe: 2\n",
      "grouped_name: [138586] length of group_dataframe: 2\n",
      "grouped_name: [138601] length of group_dataframe: 2\n",
      "grouped_name: [138872] length of group_dataframe: 2\n",
      "grouped_name: [139018] length of group_dataframe: 2\n",
      "grouped_name: [139204] length of group_dataframe: 2\n",
      "grouped_name: [139226] length of group_dataframe: 2\n",
      "grouped_name: [139227] length of group_dataframe: 2\n",
      "grouped_name: [139776] length of group_dataframe: 2\n",
      "grouped_name: [139777] length of group_dataframe: 2\n",
      "grouped_name: [143322] length of group_dataframe: 2\n",
      "grouped_name: [143509] length of group_dataframe: 2\n",
      "grouped_name: [143648] length of group_dataframe: 2\n",
      "grouped_name: [143779] length of group_dataframe: 2\n",
      "grouped_name: [164977] length of group_dataframe: 2\n",
      "grouped_name: [164978] length of group_dataframe: 2\n"
     ]
    },
    {
     "data": {
      "text/plain": "                                                 檔案名稱  \\\n462842  C# 程式設計入門與實務  百分百自學手冊_書附範例MP32007_Example.iso   \n462843  C# 程式設計入門與實務  百分百自學手冊_書附範例MP32007_Example.iso   \n\n                                                       路徑         大小  \\\n462842                   Z:\\資訊書籍文件\\C# 程式設計入門與實務  百分百自學手冊\\  236701696   \n462843  Z:\\新增書籍文件\\資訊書籍\\C# 程式設計入門與實務 百分百自學手冊 最新 Visual ...  236701696   \n\n                         新增日期                   修改日期  檔案類型      組別 磁碟機  \\\n462842  2021/3/15 下午 10:12:14  2021/3/15 下午 10:12:14  .iso  164978  Z:   \n462843  2021/3/29 上午 11:14:14  2021/3/15 下午 10:12:14  .iso  164978  Z:   \n\n           根目錄                                         檔案資料夾  \n462842  資訊書籍文件                         C# 程式設計入門與實務  百分百自學手冊  \n462843  新增書籍文件  C# 程式設計入門與實務 百分百自學手冊 最新 Visual Studio 2019 版  ",
      "text/html": "<div>\n<style scoped>\n    .dataframe tbody tr th:only-of-type {\n        vertical-align: middle;\n    }\n\n    .dataframe tbody tr th {\n        vertical-align: top;\n    }\n\n    .dataframe thead th {\n        text-align: right;\n    }\n</style>\n<table border=\"1\" class=\"dataframe\">\n  <thead>\n    <tr style=\"text-align: right;\">\n      <th></th>\n      <th>檔案名稱</th>\n      <th>路徑</th>\n      <th>大小</th>\n      <th>新增日期</th>\n      <th>修改日期</th>\n      <th>檔案類型</th>\n      <th>組別</th>\n      <th>磁碟機</th>\n      <th>根目錄</th>\n      <th>檔案資料夾</th>\n    </tr>\n  </thead>\n  <tbody>\n    <tr>\n      <th>462842</th>\n      <td>C# 程式設計入門與實務  百分百自學手冊_書附範例MP32007_Example.iso</td>\n      <td>Z:\\資訊書籍文件\\C# 程式設計入門與實務  百分百自學手冊\\</td>\n      <td>236701696</td>\n      <td>2021/3/15 下午 10:12:14</td>\n      <td>2021/3/15 下午 10:12:14</td>\n      <td>.iso</td>\n      <td>164978</td>\n      <td>Z:</td>\n      <td>資訊書籍文件</td>\n      <td>C# 程式設計入門與實務  百分百自學手冊</td>\n    </tr>\n    <tr>\n      <th>462843</th>\n      <td>C# 程式設計入門與實務  百分百自學手冊_書附範例MP32007_Example.iso</td>\n      <td>Z:\\新增書籍文件\\資訊書籍\\C# 程式設計入門與實務 百分百自學手冊 最新 Visual ...</td>\n      <td>236701696</td>\n      <td>2021/3/29 上午 11:14:14</td>\n      <td>2021/3/15 下午 10:12:14</td>\n      <td>.iso</td>\n      <td>164978</td>\n      <td>Z:</td>\n      <td>新增書籍文件</td>\n      <td>C# 程式設計入門與實務 百分百自學手冊 最新 Visual Studio 2019 版</td>\n    </tr>\n  </tbody>\n</table>\n</div>"
     },
     "execution_count": 22,
     "metadata": {},
     "output_type": "execute_result"
    }
   ],
   "source": [
    "for grouped_name, group_dataframe in grouped_iso:\n",
    "    length_grouped_dataframe = len(group_dataframe)\n",
    "    print('grouped_name: [%s] length of group_dataframe: %d' % (grouped_name, length_grouped_dataframe))\n",
    "group_dataframe"
   ],
   "metadata": {
    "collapsed": false,
    "pycharm": {
     "name": "#%%\n"
    }
   }
  },
  {
   "cell_type": "code",
   "execution_count": 28,
   "outputs": [],
   "source": [
    "group_dataframe.pivot(index=['組別'], columns=['磁碟機', '路徑'], values=['檔案資料夾', '檔案類型', '修改日期']).to_html('pivot.html')"
   ],
   "metadata": {
    "collapsed": false,
    "pycharm": {
     "name": "#%%\n"
    }
   }
  },
  {
   "cell_type": "code",
   "execution_count": 30,
   "outputs": [],
   "source": [
    "group_dataframe.to_csv('group_dataframe.csv', encoding='utf-8-sig')"
   ],
   "metadata": {
    "collapsed": false,
    "pycharm": {
     "name": "#%%\n"
    }
   }
  },
  {
   "cell_type": "code",
   "execution_count": 17,
   "outputs": [
    {
     "data": {
      "text/plain": "540"
     },
     "execution_count": 17,
     "metadata": {},
     "output_type": "execute_result"
    }
   ],
   "source": [
    "grouped_iso.ngroups"
   ],
   "metadata": {
    "collapsed": false,
    "pycharm": {
     "name": "#%%\n"
    }
   }
  },
  {
   "cell_type": "code",
   "execution_count": 17,
   "outputs": [
    {
     "name": "stdout",
     "output_type": "stream",
     "text": [
      "grouped_name: [1058] length of group_dataframe: 2\n",
      "group_dataframe: \n"
     ]
    },
    {
     "data": {
      "text/plain": "                                                   檔案名稱  \\\n組別                                                        \n1058  Android App 開發之鑰 使用 Java Android Studio_書目錄及1、...   \n1058  Android App 開發之鑰 使用 Java Android Studio_書目錄及1、...   \n\n                                                     路徑        大小  \\\n組別                                                                  \n1058  D:\\Android App 開發之鑰 使用 Java Android Studio_101...  31174656   \n1058  Z:\\資訊書籍文件\\Android App 開發之鑰 使用 Java Android Stu...  31174656   \n\n                       新增日期                  修改日期  檔案類型 磁碟機  \\\n組別                                                            \n1058  2021/8/18 上午 02:35:10  2020/1/8 下午 03:51:30  .iso  D:   \n1058   2020/1/8 下午 03:51:11  2020/1/8 下午 03:51:30  .iso  Z:   \n\n                                                   目錄_0  \\\n組別                                                        \n1058  Android App 開發之鑰 使用 Java Android Studio_1013_3...   \n1058                                             資訊書籍文件   \n\n                                                   目錄_1  目錄_2  ... 目錄_11  \\\n組別                                                             ...         \n1058                                                     None  ...  None   \n1058  Android App 開發之鑰 使用 Java Android Studio_1013_3...        ...  None   \n\n     目錄_12 目錄_13 目錄_14 目錄_15 目錄_16 目錄_17 目錄_18 目錄_19 目錄_20  \n組別                                                          \n1058  None  None  None  None  None  None  None  None  None  \n1058  None  None  None  None  None  None  None  None  None  \n\n[2 rows x 28 columns]",
      "text/html": "<div>\n<style scoped>\n    .dataframe tbody tr th:only-of-type {\n        vertical-align: middle;\n    }\n\n    .dataframe tbody tr th {\n        vertical-align: top;\n    }\n\n    .dataframe thead th {\n        text-align: right;\n    }\n</style>\n<table border=\"1\" class=\"dataframe\">\n  <thead>\n    <tr style=\"text-align: right;\">\n      <th></th>\n      <th>檔案名稱</th>\n      <th>路徑</th>\n      <th>大小</th>\n      <th>新增日期</th>\n      <th>修改日期</th>\n      <th>檔案類型</th>\n      <th>磁碟機</th>\n      <th>目錄_0</th>\n      <th>目錄_1</th>\n      <th>目錄_2</th>\n      <th>...</th>\n      <th>目錄_11</th>\n      <th>目錄_12</th>\n      <th>目錄_13</th>\n      <th>目錄_14</th>\n      <th>目錄_15</th>\n      <th>目錄_16</th>\n      <th>目錄_17</th>\n      <th>目錄_18</th>\n      <th>目錄_19</th>\n      <th>目錄_20</th>\n    </tr>\n    <tr>\n      <th>組別</th>\n      <th></th>\n      <th></th>\n      <th></th>\n      <th></th>\n      <th></th>\n      <th></th>\n      <th></th>\n      <th></th>\n      <th></th>\n      <th></th>\n      <th></th>\n      <th></th>\n      <th></th>\n      <th></th>\n      <th></th>\n      <th></th>\n      <th></th>\n      <th></th>\n      <th></th>\n      <th></th>\n      <th></th>\n    </tr>\n  </thead>\n  <tbody>\n    <tr>\n      <th>1058</th>\n      <td>Android App 開發之鑰 使用 Java Android Studio_書目錄及1、...</td>\n      <td>D:\\Android App 開發之鑰 使用 Java Android Studio_101...</td>\n      <td>31174656</td>\n      <td>2021/8/18 上午 02:35:10</td>\n      <td>2020/1/8 下午 03:51:30</td>\n      <td>.iso</td>\n      <td>D:</td>\n      <td>Android App 開發之鑰 使用 Java Android Studio_1013_3...</td>\n      <td></td>\n      <td>None</td>\n      <td>...</td>\n      <td>None</td>\n      <td>None</td>\n      <td>None</td>\n      <td>None</td>\n      <td>None</td>\n      <td>None</td>\n      <td>None</td>\n      <td>None</td>\n      <td>None</td>\n      <td>None</td>\n    </tr>\n    <tr>\n      <th>1058</th>\n      <td>Android App 開發之鑰 使用 Java Android Studio_書目錄及1、...</td>\n      <td>Z:\\資訊書籍文件\\Android App 開發之鑰 使用 Java Android Stu...</td>\n      <td>31174656</td>\n      <td>2020/1/8 下午 03:51:11</td>\n      <td>2020/1/8 下午 03:51:30</td>\n      <td>.iso</td>\n      <td>Z:</td>\n      <td>資訊書籍文件</td>\n      <td>Android App 開發之鑰 使用 Java Android Studio_1013_3...</td>\n      <td></td>\n      <td>...</td>\n      <td>None</td>\n      <td>None</td>\n      <td>None</td>\n      <td>None</td>\n      <td>None</td>\n      <td>None</td>\n      <td>None</td>\n      <td>None</td>\n      <td>None</td>\n      <td>None</td>\n    </tr>\n  </tbody>\n</table>\n<p>2 rows × 28 columns</p>\n</div>"
     },
     "execution_count": 17,
     "metadata": {},
     "output_type": "execute_result"
    }
   ],
   "source": [
    "for grouped_name, group_dataframe in dict_df[file_extension]:\n",
    "    length_grouped_dataframe = len(group_dataframe)\n",
    "    print('grouped_name: [%s] length of group_dataframe: %d' % (grouped_name, length_grouped_dataframe))\n",
    "    print('group_dataframe: ')\n",
    "    break\n",
    "group_dataframe"
   ],
   "metadata": {
    "collapsed": false,
    "pycharm": {
     "name": "#%%\n"
    }
   }
  },
  {
   "cell_type": "code",
   "execution_count": null,
   "outputs": [],
   "source": [],
   "metadata": {
    "collapsed": false,
    "pycharm": {
     "name": "#%%\n"
    }
   }
  }
 ],
 "metadata": {
  "kernelspec": {
   "display_name": "Python 3",
   "language": "python",
   "name": "python3"
  },
  "language_info": {
   "codemirror_mode": {
    "name": "ipython",
    "version": 3
   },
   "file_extension": ".py",
   "mimetype": "text/x-python",
   "name": "python",
   "nbconvert_exporter": "python",
   "pygments_lexer": "ipython3",
   "version": "3.7.9"
  }
 },
 "nbformat": 4,
 "nbformat_minor": 0
}