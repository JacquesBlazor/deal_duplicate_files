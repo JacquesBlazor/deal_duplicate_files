{
 "cells": [
  {
   "cell_type": "code",
   "execution_count": 32,
   "metadata": {
    "collapsed": false,
    "pycharm": {
     "name": "#%%\n"
    }
   },
   "outputs": [],
   "source": [
    "import pandas as pd\n",
    "import pickle\n",
    "import json\n",
    "import os"
   ]
  },
  {
   "cell_type": "code",
   "execution_count": 33,
   "outputs": [
    {
     "name": "stdout",
     "output_type": "stream",
     "text": [
      "468169\n",
      "['檔案名稱' '路徑' '大小' '新增日期' '修改日期' '檔案類型' '組別' '磁碟機' '根目錄' '資料夾']\n"
     ]
    }
   ],
   "source": [
    "df = pd.read_csv('DuplicateCleanerPro1230_D_E_Z.csv')\n",
    "df.drop(columns=['已標記', '雜湊值', '永久連結', '歌手', '標題', '專輯', '時長', '位元率', '採樣率', '圖片寬度', '圖片高度', 'Unused', 'ZipFlag'], axis=1, inplace=True)\n",
    "df[['磁碟機', '根目錄']] = df['路徑'].str.split('\\\\', n=1, expand=True)\n",
    "df['根目錄'] = df['根目錄'].apply(lambda path: path.split('\\\\')[0])\n",
    "df['資料夾'] = df['路徑'].apply(lambda path: path.split('\\\\')[-2])\n",
    "#df.sort_values(['組別', '檔案名稱', '修改日期', '路徑'], inplace=True)\n",
    "print(len(df))\n",
    "print(df.columns.values)"
   ],
   "metadata": {
    "collapsed": false,
    "pycharm": {
     "name": "#%%\n"
    }
   }
  },
  {
   "cell_type": "code",
   "execution_count": 34,
   "outputs": [],
   "source": [
    "with open('filelist_dez.pkl', 'wb') as f:\n",
    "    pickle.dump(df, f)"
   ],
   "metadata": {
    "collapsed": false,
    "pycharm": {
     "name": "#%%\n"
    }
   }
  },
  {
   "cell_type": "code",
   "execution_count": 3,
   "outputs": [
    {
     "data": {
      "text/plain": "                                                                                                                                                          檔案名稱  \\\n組別     檔案類型     資料夾                                修改日期                   磁碟機 根目錄                                                                                \n1      .mp4     8分鐘搞懂理財知識_新手教室 Youtube 投資影片教學      2018/11/14 下午 02:12:09 Z:  8分鐘搞懂理財知識_新手教室 Youtube 投資影片教學                 8分鐘搞懂技術分析：RSI的重要價值-WUwaMVSCDYY.mp4   \n                8分鐘搞懂理財知識_重新整理過                    2021/5/11 上午 02:58:44  Z:  8分鐘搞懂理財知識_重新整理過                           2015-08-25_2152_技術分析教學_快速搞懂RSI技術指標.mp4   \n                Youtube 投資影片教學                     2018/11/14 下午 02:12:09 Z:  Youtube 投資影片教學                                8分鐘搞懂技術分析：RSI的重要價值-WUwaMVSCDYY.mp4   \n                _8分鐘搞懂理財知識_原來的 新手教室 Youtube 投資影片教學 2018/11/14 下午 02:12:09 D:  8分鐘搞懂理財知識                                     8分鐘搞懂技術分析：RSI的重要價值-WUwaMVSCDYY.mp4   \n                _8分鐘搞懂理財知識_整理的 Youtube 影片          2021/5/11 上午 02:58:44  D:  8分鐘搞懂理財知識                                 2015-08-25_2152_技術分析教學_快速搞懂RSI技術指標.mp4   \n...                                                                                                                                                        ...   \n167210 .props   net46                              2018/5/24 上午 05:38:22  Z:  資訊書籍文件                         Microsoft.CodeDom.Providers.DotNetCompilerPlat...   \n                net45                              2018/5/24 上午 05:38:22  Z:  資訊書籍文件                         Microsoft.CodeDom.Providers.DotNetCompilerPlat...   \n                net46                              2018/5/24 上午 05:38:22  Z:  資訊書籍文件                         Microsoft.CodeDom.Providers.DotNetCompilerPlat...   \n167211 .strings zh-Hant.lproj                      2019/7/31 上午 07:20:26  Z:  資訊書籍文件                                                      LaunchScreen.strings   \n                                                   2019/7/31 上午 07:20:24  Z:  資訊書籍文件                                                      LaunchScreen.strings   \n\n                                                                                                                                                            路徑  \\\n組別     檔案類型     資料夾                                修改日期                   磁碟機 根目錄                                                                                \n1      .mp4     8分鐘搞懂理財知識_新手教室 Youtube 投資影片教學      2018/11/14 下午 02:12:09 Z:  8分鐘搞懂理財知識_新手教室 Youtube 投資影片教學                  Z:\\8分鐘搞懂理財知識_新手教室 Youtube 投資影片教學\\   \n                8分鐘搞懂理財知識_重新整理過                    2021/5/11 上午 02:58:44  Z:  8分鐘搞懂理財知識_重新整理過                                              Z:\\8分鐘搞懂理財知識_重新整理過\\   \n                Youtube 投資影片教學                     2018/11/14 下午 02:12:09 Z:  Youtube 投資影片教學                                                Z:\\Youtube 投資影片教學\\   \n                _8分鐘搞懂理財知識_原來的 新手教室 Youtube 投資影片教學 2018/11/14 下午 02:12:09 D:  8分鐘搞懂理財知識                       D:\\8分鐘搞懂理財知識\\_8分鐘搞懂理財知識_原來的 新手教室 Youtube 投資影片教學\\   \n                _8分鐘搞懂理財知識_整理的 Youtube 影片          2021/5/11 上午 02:58:44  D:  8分鐘搞懂理財知識                                D:\\8分鐘搞懂理財知識\\_8分鐘搞懂理財知識_整理的 Youtube 影片\\   \n...                                                                                                                                                        ...   \n167210 .props   net46                              2018/5/24 上午 05:38:22  Z:  資訊書籍文件                         Z:\\資訊書籍文件\\Visual C# 一次就懂 ASP.NET MVC5.X 網站開發 W...   \n                net45                              2018/5/24 上午 05:38:22  Z:  資訊書籍文件                         Z:\\資訊書籍文件\\Visual C# 一次就懂 ASP.NET MVC5.X 網站開發 W...   \n                net46                              2018/5/24 上午 05:38:22  Z:  資訊書籍文件                         Z:\\資訊書籍文件\\Visual C# 一次就懂 ASP.NET MVC5.X 網站開發 W...   \n167211 .strings zh-Hant.lproj                      2019/7/31 上午 07:20:26  Z:  資訊書籍文件                         Z:\\資訊書籍文件\\iOS 13 程式設計實戰 Swift 5.1SwiftUI 框架 快速...   \n                                                   2019/7/31 上午 07:20:24  Z:  資訊書籍文件                         Z:\\資訊書籍文件\\iOS 13 程式設計實戰 Swift 5.1SwiftUI 框架 快速...   \n\n                                                                                                                   大小  \\\n組別     檔案類型     資料夾                                修改日期                   磁碟機 根目錄                                       \n1      .mp4     8分鐘搞懂理財知識_新手教室 Youtube 投資影片教學      2018/11/14 下午 02:12:09 Z:  8分鐘搞懂理財知識_新手教室 Youtube 投資影片教學  25612876   \n                8分鐘搞懂理財知識_重新整理過                    2021/5/11 上午 02:58:44  Z:  8分鐘搞懂理財知識_重新整理過                25612876   \n                Youtube 投資影片教學                     2018/11/14 下午 02:12:09 Z:  Youtube 投資影片教學                 25612876   \n                _8分鐘搞懂理財知識_原來的 新手教室 Youtube 投資影片教學 2018/11/14 下午 02:12:09 D:  8分鐘搞懂理財知識                      25612876   \n                _8分鐘搞懂理財知識_整理的 Youtube 影片          2021/5/11 上午 02:58:44  D:  8分鐘搞懂理財知識                      25612876   \n...                                                                                                               ...   \n167210 .props   net46                              2018/5/24 上午 05:38:22  Z:  資訊書籍文件                             5530   \n                net45                              2018/5/24 上午 05:38:22  Z:  資訊書籍文件                             5530   \n                net46                              2018/5/24 上午 05:38:22  Z:  資訊書籍文件                             5530   \n167211 .strings zh-Hant.lproj                      2019/7/31 上午 07:20:26  Z:  資訊書籍文件                                1   \n                                                   2019/7/31 上午 07:20:24  Z:  資訊書籍文件                                1   \n\n                                                                                                                              新增日期  \n組別     檔案類型     資料夾                                修改日期                   磁碟機 根目錄                                                   \n1      .mp4     8分鐘搞懂理財知識_新手教室 Youtube 投資影片教學      2018/11/14 下午 02:12:09 Z:  8分鐘搞懂理財知識_新手教室 Youtube 投資影片教學  2021/5/10 下午 05:08:28  \n                8分鐘搞懂理財知識_重新整理過                    2021/5/11 上午 02:58:44  Z:  8分鐘搞懂理財知識_重新整理過                2021/5/11 上午 03:06:53  \n                Youtube 投資影片教學                     2018/11/14 下午 02:12:09 Z:  Youtube 投資影片教學                 2021/5/10 下午 04:04:52  \n                _8分鐘搞懂理財知識_原來的 新手教室 Youtube 投資影片教學 2018/11/14 下午 02:12:09 D:  8分鐘搞懂理財知識                      2021/8/18 上午 02:37:16  \n                _8分鐘搞懂理財知識_整理的 Youtube 影片          2021/5/11 上午 02:58:44  D:  8分鐘搞懂理財知識                      2021/8/18 上午 02:38:06  \n...                                                                                                                            ...  \n167210 .props   net46                              2018/5/24 上午 05:38:22  Z:  資訊書籍文件                          2020/3/7 下午 08:06:24  \n                net45                              2018/5/24 上午 05:38:22  Z:  資訊書籍文件                          2020/3/7 下午 08:09:52  \n                net46                              2018/5/24 上午 05:38:22  Z:  資訊書籍文件                          2020/3/7 下午 08:09:53  \n167211 .strings zh-Hant.lproj                      2019/7/31 上午 07:20:26  Z:  資訊書籍文件                         2020/2/10 上午 07:58:08  \n                                                   2019/7/31 上午 07:20:24  Z:  資訊書籍文件                         2020/2/10 上午 07:58:08  \n\n[468169 rows x 4 columns]",
      "text/html": "<div>\n<style scoped>\n    .dataframe tbody tr th:only-of-type {\n        vertical-align: middle;\n    }\n\n    .dataframe tbody tr th {\n        vertical-align: top;\n    }\n\n    .dataframe thead th {\n        text-align: right;\n    }\n</style>\n<table border=\"1\" class=\"dataframe\">\n  <thead>\n    <tr style=\"text-align: right;\">\n      <th></th>\n      <th></th>\n      <th></th>\n      <th></th>\n      <th></th>\n      <th></th>\n      <th>檔案名稱</th>\n      <th>路徑</th>\n      <th>大小</th>\n      <th>新增日期</th>\n    </tr>\n    <tr>\n      <th>組別</th>\n      <th>檔案類型</th>\n      <th>資料夾</th>\n      <th>修改日期</th>\n      <th>磁碟機</th>\n      <th>根目錄</th>\n      <th></th>\n      <th></th>\n      <th></th>\n      <th></th>\n    </tr>\n  </thead>\n  <tbody>\n    <tr>\n      <th rowspan=\"5\" valign=\"top\">1</th>\n      <th rowspan=\"5\" valign=\"top\">.mp4</th>\n      <th>8分鐘搞懂理財知識_新手教室 Youtube 投資影片教學</th>\n      <th>2018/11/14 下午 02:12:09</th>\n      <th>Z:</th>\n      <th>8分鐘搞懂理財知識_新手教室 Youtube 投資影片教學</th>\n      <td>8分鐘搞懂技術分析：RSI的重要價值-WUwaMVSCDYY.mp4</td>\n      <td>Z:\\8分鐘搞懂理財知識_新手教室 Youtube 投資影片教學\\</td>\n      <td>25612876</td>\n      <td>2021/5/10 下午 05:08:28</td>\n    </tr>\n    <tr>\n      <th>8分鐘搞懂理財知識_重新整理過</th>\n      <th>2021/5/11 上午 02:58:44</th>\n      <th>Z:</th>\n      <th>8分鐘搞懂理財知識_重新整理過</th>\n      <td>2015-08-25_2152_技術分析教學_快速搞懂RSI技術指標.mp4</td>\n      <td>Z:\\8分鐘搞懂理財知識_重新整理過\\</td>\n      <td>25612876</td>\n      <td>2021/5/11 上午 03:06:53</td>\n    </tr>\n    <tr>\n      <th>Youtube 投資影片教學</th>\n      <th>2018/11/14 下午 02:12:09</th>\n      <th>Z:</th>\n      <th>Youtube 投資影片教學</th>\n      <td>8分鐘搞懂技術分析：RSI的重要價值-WUwaMVSCDYY.mp4</td>\n      <td>Z:\\Youtube 投資影片教學\\</td>\n      <td>25612876</td>\n      <td>2021/5/10 下午 04:04:52</td>\n    </tr>\n    <tr>\n      <th>_8分鐘搞懂理財知識_原來的 新手教室 Youtube 投資影片教學</th>\n      <th>2018/11/14 下午 02:12:09</th>\n      <th>D:</th>\n      <th>8分鐘搞懂理財知識</th>\n      <td>8分鐘搞懂技術分析：RSI的重要價值-WUwaMVSCDYY.mp4</td>\n      <td>D:\\8分鐘搞懂理財知識\\_8分鐘搞懂理財知識_原來的 新手教室 Youtube 投資影片教學\\</td>\n      <td>25612876</td>\n      <td>2021/8/18 上午 02:37:16</td>\n    </tr>\n    <tr>\n      <th>_8分鐘搞懂理財知識_整理的 Youtube 影片</th>\n      <th>2021/5/11 上午 02:58:44</th>\n      <th>D:</th>\n      <th>8分鐘搞懂理財知識</th>\n      <td>2015-08-25_2152_技術分析教學_快速搞懂RSI技術指標.mp4</td>\n      <td>D:\\8分鐘搞懂理財知識\\_8分鐘搞懂理財知識_整理的 Youtube 影片\\</td>\n      <td>25612876</td>\n      <td>2021/8/18 上午 02:38:06</td>\n    </tr>\n    <tr>\n      <th>...</th>\n      <th>...</th>\n      <th>...</th>\n      <th>...</th>\n      <th>...</th>\n      <th>...</th>\n      <td>...</td>\n      <td>...</td>\n      <td>...</td>\n      <td>...</td>\n    </tr>\n    <tr>\n      <th rowspan=\"3\" valign=\"top\">167210</th>\n      <th rowspan=\"3\" valign=\"top\">.props</th>\n      <th>net46</th>\n      <th>2018/5/24 上午 05:38:22</th>\n      <th>Z:</th>\n      <th>資訊書籍文件</th>\n      <td>Microsoft.CodeDom.Providers.DotNetCompilerPlat...</td>\n      <td>Z:\\資訊書籍文件\\Visual C# 一次就懂 ASP.NET MVC5.X 網站開發 W...</td>\n      <td>5530</td>\n      <td>2020/3/7 下午 08:06:24</td>\n    </tr>\n    <tr>\n      <th>net45</th>\n      <th>2018/5/24 上午 05:38:22</th>\n      <th>Z:</th>\n      <th>資訊書籍文件</th>\n      <td>Microsoft.CodeDom.Providers.DotNetCompilerPlat...</td>\n      <td>Z:\\資訊書籍文件\\Visual C# 一次就懂 ASP.NET MVC5.X 網站開發 W...</td>\n      <td>5530</td>\n      <td>2020/3/7 下午 08:09:52</td>\n    </tr>\n    <tr>\n      <th>net46</th>\n      <th>2018/5/24 上午 05:38:22</th>\n      <th>Z:</th>\n      <th>資訊書籍文件</th>\n      <td>Microsoft.CodeDom.Providers.DotNetCompilerPlat...</td>\n      <td>Z:\\資訊書籍文件\\Visual C# 一次就懂 ASP.NET MVC5.X 網站開發 W...</td>\n      <td>5530</td>\n      <td>2020/3/7 下午 08:09:53</td>\n    </tr>\n    <tr>\n      <th rowspan=\"2\" valign=\"top\">167211</th>\n      <th rowspan=\"2\" valign=\"top\">.strings</th>\n      <th rowspan=\"2\" valign=\"top\">zh-Hant.lproj</th>\n      <th>2019/7/31 上午 07:20:26</th>\n      <th>Z:</th>\n      <th>資訊書籍文件</th>\n      <td>LaunchScreen.strings</td>\n      <td>Z:\\資訊書籍文件\\iOS 13 程式設計實戰 Swift 5.1SwiftUI 框架 快速...</td>\n      <td>1</td>\n      <td>2020/2/10 上午 07:58:08</td>\n    </tr>\n    <tr>\n      <th>2019/7/31 上午 07:20:24</th>\n      <th>Z:</th>\n      <th>資訊書籍文件</th>\n      <td>LaunchScreen.strings</td>\n      <td>Z:\\資訊書籍文件\\iOS 13 程式設計實戰 Swift 5.1SwiftUI 框架 快速...</td>\n      <td>1</td>\n      <td>2020/2/10 上午 07:58:08</td>\n    </tr>\n  </tbody>\n</table>\n<p>468169 rows × 4 columns</p>\n</div>"
     },
     "execution_count": 3,
     "metadata": {},
     "output_type": "execute_result"
    }
   ],
   "source": [
    "df_index1 = df.set_index(['組別', '檔案類型', '資料夾', '修改日期', '磁碟機', '根目錄'])\n",
    "df_index1"
   ],
   "metadata": {
    "collapsed": false,
    "pycharm": {
     "name": "#%%\n"
    }
   }
  },
  {
   "cell_type": "code",
   "execution_count": 4,
   "outputs": [],
   "source": [
    "group_by_folder = df_index1.groupby(['資料夾'])"
   ],
   "metadata": {
    "collapsed": false,
    "pycharm": {
     "name": "#%%\n"
    }
   }
  },
  {
   "cell_type": "code",
   "execution_count": 5,
   "outputs": [
    {
     "name": "stdout",
     "output_type": "stream",
     "text": [
      ".AppleDouble\n"
     ]
    },
    {
     "data": {
      "text/plain": "                                                                                                檔案名稱  \\\n組別    檔案類型    資料夾          修改日期                  磁碟機 根目錄                                               \n92274 .Parent .AppleDouble 2011/1/25 上午 08:51:06 Z:  資訊書籍文件                                  .Parent   \n                                                 D:  _eBooks 電子書 Java+JS+HTML+CSS+RWD+Node   .Parent   \n92317 .gif    .AppleDouble 2011/8/29 上午 04:56:04 Z:  資訊書籍文件                                 logo.gif   \n                                                 D:  _eBooks 電子書 Java+JS+HTML+CSS+RWD+Node  logo.gif   \n\n                                                                                                                                           路徑  \\\n組別    檔案類型    資料夾          修改日期                  磁碟機 根目錄                                                                                        \n92274 .Parent .AppleDouble 2011/1/25 上午 08:51:06 Z:  資訊書籍文件                                 Z:\\資訊書籍文件\\HTML & CSS 網站設計建置優化之道\\html-and-css-b...   \n                                                 D:  _eBooks 電子書 Java+JS+HTML+CSS+RWD+Node  D:\\_eBooks 電子書 Java+JS+HTML+CSS+RWD+Node\\HTML ...   \n92317 .gif    .AppleDouble 2011/8/29 上午 04:56:04 Z:  資訊書籍文件                                 Z:\\資訊書籍文件\\HTML & CSS 網站設計建置優化之道\\html-and-css-b...   \n                                                 D:  _eBooks 電子書 Java+JS+HTML+CSS+RWD+Node  D:\\_eBooks 電子書 Java+JS+HTML+CSS+RWD+Node\\HTML ...   \n\n                                                                                             大小  \\\n組別    檔案類型    資料夾          修改日期                  磁碟機 根目錄                                          \n92274 .Parent .AppleDouble 2011/1/25 上午 08:51:06 Z:  資訊書籍文件                                 741   \n                                                 D:  _eBooks 電子書 Java+JS+HTML+CSS+RWD+Node  741   \n92317 .gif    .AppleDouble 2011/8/29 上午 04:56:04 Z:  資訊書籍文件                                 741   \n                                                 D:  _eBooks 電子書 Java+JS+HTML+CSS+RWD+Node  741   \n\n                                                                                                             新增日期  \n組別    檔案類型    資料夾          修改日期                  磁碟機 根目錄                                                           \n92274 .Parent .AppleDouble 2011/1/25 上午 08:51:06 Z:  資訊書籍文件                                 2019/8/29 下午 04:04:39  \n                                                 D:  _eBooks 電子書 Java+JS+HTML+CSS+RWD+Node  2021/8/18 上午 02:16:59  \n92317 .gif    .AppleDouble 2011/8/29 上午 04:56:04 Z:  資訊書籍文件                                 2019/8/29 下午 04:04:39  \n                                                 D:  _eBooks 電子書 Java+JS+HTML+CSS+RWD+Node  2021/8/18 上午 02:16:59  ",
      "text/html": "<div>\n<style scoped>\n    .dataframe tbody tr th:only-of-type {\n        vertical-align: middle;\n    }\n\n    .dataframe tbody tr th {\n        vertical-align: top;\n    }\n\n    .dataframe thead th {\n        text-align: right;\n    }\n</style>\n<table border=\"1\" class=\"dataframe\">\n  <thead>\n    <tr style=\"text-align: right;\">\n      <th></th>\n      <th></th>\n      <th></th>\n      <th></th>\n      <th></th>\n      <th></th>\n      <th>檔案名稱</th>\n      <th>路徑</th>\n      <th>大小</th>\n      <th>新增日期</th>\n    </tr>\n    <tr>\n      <th>組別</th>\n      <th>檔案類型</th>\n      <th>資料夾</th>\n      <th>修改日期</th>\n      <th>磁碟機</th>\n      <th>根目錄</th>\n      <th></th>\n      <th></th>\n      <th></th>\n      <th></th>\n    </tr>\n  </thead>\n  <tbody>\n    <tr>\n      <th rowspan=\"2\" valign=\"top\">92274</th>\n      <th rowspan=\"2\" valign=\"top\">.Parent</th>\n      <th rowspan=\"2\" valign=\"top\">.AppleDouble</th>\n      <th rowspan=\"2\" valign=\"top\">2011/1/25 上午 08:51:06</th>\n      <th>Z:</th>\n      <th>資訊書籍文件</th>\n      <td>.Parent</td>\n      <td>Z:\\資訊書籍文件\\HTML &amp; CSS 網站設計建置優化之道\\html-and-css-b...</td>\n      <td>741</td>\n      <td>2019/8/29 下午 04:04:39</td>\n    </tr>\n    <tr>\n      <th>D:</th>\n      <th>_eBooks 電子書 Java+JS+HTML+CSS+RWD+Node</th>\n      <td>.Parent</td>\n      <td>D:\\_eBooks 電子書 Java+JS+HTML+CSS+RWD+Node\\HTML ...</td>\n      <td>741</td>\n      <td>2021/8/18 上午 02:16:59</td>\n    </tr>\n    <tr>\n      <th rowspan=\"2\" valign=\"top\">92317</th>\n      <th rowspan=\"2\" valign=\"top\">.gif</th>\n      <th rowspan=\"2\" valign=\"top\">.AppleDouble</th>\n      <th rowspan=\"2\" valign=\"top\">2011/8/29 上午 04:56:04</th>\n      <th>Z:</th>\n      <th>資訊書籍文件</th>\n      <td>logo.gif</td>\n      <td>Z:\\資訊書籍文件\\HTML &amp; CSS 網站設計建置優化之道\\html-and-css-b...</td>\n      <td>741</td>\n      <td>2019/8/29 下午 04:04:39</td>\n    </tr>\n    <tr>\n      <th>D:</th>\n      <th>_eBooks 電子書 Java+JS+HTML+CSS+RWD+Node</th>\n      <td>logo.gif</td>\n      <td>D:\\_eBooks 電子書 Java+JS+HTML+CSS+RWD+Node\\HTML ...</td>\n      <td>741</td>\n      <td>2021/8/18 上午 02:16:59</td>\n    </tr>\n  </tbody>\n</table>\n</div>"
     },
     "execution_count": 5,
     "metadata": {},
     "output_type": "execute_result"
    }
   ],
   "source": [
    "for group_name, dataframe in group_by_folder:\n",
    "    print(group_name)\n",
    "    break\n",
    "dataframe"
   ],
   "metadata": {
    "collapsed": false,
    "pycharm": {
     "name": "#%%\n"
    }
   }
  },
  {
   "cell_type": "code",
   "execution_count": 6,
   "outputs": [
    {
     "data": {
      "text/plain": "                             檔案名稱   路徑   大小  新增日期\n資料夾                                              \n.AppleDouble                    4    4    4     4\n.apikeys                        5    5    5     5\n.aws                            3    3    3     3\n.backup                         6    6    6     6\n.backups                       30   30   30    30\n...                           ...  ...  ...   ...\n駭客退散 站長 網管一定要知道的網站漏洞診斷術_書擷圖   326  326  326   326\n體驗手冊與資安白皮書                      8    8    8     8\n高手叫我不要教的 H 模型 兩個指標 百倍獲利         8    8    8     8\n高手叫我不要教的 H 模型 兩個指標 百倍獲利_書掃描   318  318  318   318\n高雄.imageset                     4    4    4     4\n\n[10412 rows x 4 columns]",
      "text/html": "<div>\n<style scoped>\n    .dataframe tbody tr th:only-of-type {\n        vertical-align: middle;\n    }\n\n    .dataframe tbody tr th {\n        vertical-align: top;\n    }\n\n    .dataframe thead th {\n        text-align: right;\n    }\n</style>\n<table border=\"1\" class=\"dataframe\">\n  <thead>\n    <tr style=\"text-align: right;\">\n      <th></th>\n      <th>檔案名稱</th>\n      <th>路徑</th>\n      <th>大小</th>\n      <th>新增日期</th>\n    </tr>\n    <tr>\n      <th>資料夾</th>\n      <th></th>\n      <th></th>\n      <th></th>\n      <th></th>\n    </tr>\n  </thead>\n  <tbody>\n    <tr>\n      <th>.AppleDouble</th>\n      <td>4</td>\n      <td>4</td>\n      <td>4</td>\n      <td>4</td>\n    </tr>\n    <tr>\n      <th>.apikeys</th>\n      <td>5</td>\n      <td>5</td>\n      <td>5</td>\n      <td>5</td>\n    </tr>\n    <tr>\n      <th>.aws</th>\n      <td>3</td>\n      <td>3</td>\n      <td>3</td>\n      <td>3</td>\n    </tr>\n    <tr>\n      <th>.backup</th>\n      <td>6</td>\n      <td>6</td>\n      <td>6</td>\n      <td>6</td>\n    </tr>\n    <tr>\n      <th>.backups</th>\n      <td>30</td>\n      <td>30</td>\n      <td>30</td>\n      <td>30</td>\n    </tr>\n    <tr>\n      <th>...</th>\n      <td>...</td>\n      <td>...</td>\n      <td>...</td>\n      <td>...</td>\n    </tr>\n    <tr>\n      <th>駭客退散 站長 網管一定要知道的網站漏洞診斷術_書擷圖</th>\n      <td>326</td>\n      <td>326</td>\n      <td>326</td>\n      <td>326</td>\n    </tr>\n    <tr>\n      <th>體驗手冊與資安白皮書</th>\n      <td>8</td>\n      <td>8</td>\n      <td>8</td>\n      <td>8</td>\n    </tr>\n    <tr>\n      <th>高手叫我不要教的 H 模型 兩個指標 百倍獲利</th>\n      <td>8</td>\n      <td>8</td>\n      <td>8</td>\n      <td>8</td>\n    </tr>\n    <tr>\n      <th>高手叫我不要教的 H 模型 兩個指標 百倍獲利_書掃描</th>\n      <td>318</td>\n      <td>318</td>\n      <td>318</td>\n      <td>318</td>\n    </tr>\n    <tr>\n      <th>高雄.imageset</th>\n      <td>4</td>\n      <td>4</td>\n      <td>4</td>\n      <td>4</td>\n    </tr>\n  </tbody>\n</table>\n<p>10412 rows × 4 columns</p>\n</div>"
     },
     "execution_count": 6,
     "metadata": {},
     "output_type": "execute_result"
    }
   ],
   "source": [
    "count_group = group_by_folder.count()\n",
    "count_group.sort_index()"
   ],
   "metadata": {
    "collapsed": false,
    "pycharm": {
     "name": "#%%\n"
    }
   }
  },
  {
   "cell_type": "code",
   "execution_count": 7,
   "outputs": [],
   "source": [
    "count_group.to_csv('count_group.csv', encoding='utf-8-sig')"
   ],
   "metadata": {
    "collapsed": false,
    "pycharm": {
     "name": "#%%\n"
    }
   }
  },
  {
   "cell_type": "code",
   "execution_count": 8,
   "outputs": [
    {
     "data": {
      "text/plain": "                                                                                                     檔案名稱  \\\n組別     檔案類型 資料夾                                修改日期                   磁碟機 根目錄                               \n139640 .png 飆股的思維(獨家收錄蕭明道5堂實戰教室) 賺不完的波段操作法_書擷圖 2021/11/12 下午 11:15:31 D:  _eBooks 電子書 財經股票  image0000.png   \n                                                                      Z:  新增書籍文件            image0000.png   \n139641 .png 飆股的思維(獨家收錄蕭明道5堂實戰教室) 賺不完的波段操作法_書擷圖 2021/11/12 下午 11:15:33 D:  _eBooks 電子書 財經股票  image0001.png   \n                                                                      Z:  新增書籍文件            image0001.png   \n139642 .png 飆股的思維(獨家收錄蕭明道5堂實戰教室) 賺不完的波段操作法_書擷圖 2021/11/12 下午 11:15:35 D:  _eBooks 電子書 財經股票  image0002.png   \n...                                                                                                   ...   \n139772 .png 飆股的思維(獨家收錄蕭明道5堂實戰教室) 賺不完的波段操作法_書擷圖 2021/11/12 下午 11:19:02 Z:  新增書籍文件            image0132.png   \n139773 .png 飆股的思維(獨家收錄蕭明道5堂實戰教室) 賺不完的波段操作法_書擷圖 2021/11/12 下午 11:19:04 D:  _eBooks 電子書 財經股票  image0133.png   \n                                                                      Z:  新增書籍文件            image0133.png   \n139774 .png 飆股的思維(獨家收錄蕭明道5堂實戰教室) 賺不完的波段操作法_書擷圖 2021/11/12 下午 11:19:05 D:  _eBooks 電子書 財經股票  image0134.png   \n                                                                      Z:  新增書籍文件            image0134.png   \n\n                                                                                                                                           路徑  \\\n組別     檔案類型 資料夾                                修改日期                   磁碟機 根目錄                                                                   \n139640 .png 飆股的思維(獨家收錄蕭明道5堂實戰教室) 賺不完的波段操作法_書擷圖 2021/11/12 下午 11:15:31 D:  _eBooks 電子書 財經股票  D:\\_eBooks 電子書 財經股票\\飆股的思維(獨家收錄蕭明道5堂實戰教室) 賺不完的波...   \n                                                                      Z:  新增書籍文件            Z:\\新增書籍文件\\財經書籍\\飆股的思維(獨家收錄蕭明道5堂實戰教室) 賺不完的波段操作法\\...   \n139641 .png 飆股的思維(獨家收錄蕭明道5堂實戰教室) 賺不完的波段操作法_書擷圖 2021/11/12 下午 11:15:33 D:  _eBooks 電子書 財經股票  D:\\_eBooks 電子書 財經股票\\飆股的思維(獨家收錄蕭明道5堂實戰教室) 賺不完的波...   \n                                                                      Z:  新增書籍文件            Z:\\新增書籍文件\\財經書籍\\飆股的思維(獨家收錄蕭明道5堂實戰教室) 賺不完的波段操作法\\...   \n139642 .png 飆股的思維(獨家收錄蕭明道5堂實戰教室) 賺不完的波段操作法_書擷圖 2021/11/12 下午 11:15:35 D:  _eBooks 電子書 財經股票  D:\\_eBooks 電子書 財經股票\\飆股的思維(獨家收錄蕭明道5堂實戰教室) 賺不完的波...   \n...                                                                                                                                       ...   \n139772 .png 飆股的思維(獨家收錄蕭明道5堂實戰教室) 賺不完的波段操作法_書擷圖 2021/11/12 下午 11:19:02 Z:  新增書籍文件            Z:\\新增書籍文件\\財經書籍\\飆股的思維(獨家收錄蕭明道5堂實戰教室) 賺不完的波段操作法\\...   \n139773 .png 飆股的思維(獨家收錄蕭明道5堂實戰教室) 賺不完的波段操作法_書擷圖 2021/11/12 下午 11:19:04 D:  _eBooks 電子書 財經股票  D:\\_eBooks 電子書 財經股票\\飆股的思維(獨家收錄蕭明道5堂實戰教室) 賺不完的波...   \n                                                                      Z:  新增書籍文件            Z:\\新增書籍文件\\財經書籍\\飆股的思維(獨家收錄蕭明道5堂實戰教室) 賺不完的波段操作法\\...   \n139774 .png 飆股的思維(獨家收錄蕭明道5堂實戰教室) 賺不完的波段操作法_書擷圖 2021/11/12 下午 11:19:05 D:  _eBooks 電子書 財經股票  D:\\_eBooks 電子書 財經股票\\飆股的思維(獨家收錄蕭明道5堂實戰教室) 賺不完的波...   \n                                                                      Z:  新增書籍文件            Z:\\新增書籍文件\\財經書籍\\飆股的思維(獨家收錄蕭明道5堂實戰教室) 賺不完的波段操作法\\...   \n\n                                                                                                大小  \\\n組別     檔案類型 資料夾                                修改日期                   磁碟機 根目錄                        \n139640 .png 飆股的思維(獨家收錄蕭明道5堂實戰教室) 賺不完的波段操作法_書擷圖 2021/11/12 下午 11:15:31 D:  _eBooks 電子書 財經股票  844262   \n                                                                      Z:  新增書籍文件            844262   \n139641 .png 飆股的思維(獨家收錄蕭明道5堂實戰教室) 賺不完的波段操作法_書擷圖 2021/11/12 下午 11:15:33 D:  _eBooks 電子書 財經股票   98793   \n                                                                      Z:  新增書籍文件             98793   \n139642 .png 飆股的思維(獨家收錄蕭明道5堂實戰教室) 賺不完的波段操作法_書擷圖 2021/11/12 下午 11:15:35 D:  _eBooks 電子書 財經股票  504665   \n...                                                                                            ...   \n139772 .png 飆股的思維(獨家收錄蕭明道5堂實戰教室) 賺不完的波段操作法_書擷圖 2021/11/12 下午 11:19:02 Z:  新增書籍文件            546032   \n139773 .png 飆股的思維(獨家收錄蕭明道5堂實戰教室) 賺不完的波段操作法_書擷圖 2021/11/12 下午 11:19:04 D:  _eBooks 電子書 財經股票  155353   \n                                                                      Z:  新增書籍文件            155353   \n139774 .png 飆股的思維(獨家收錄蕭明道5堂實戰教室) 賺不完的波段操作法_書擷圖 2021/11/12 下午 11:19:05 D:  _eBooks 電子書 財經股票  243076   \n                                                                      Z:  新增書籍文件            243076   \n\n                                                                                                              新增日期  \n組別     檔案類型 資料夾                                修改日期                   磁碟機 根目錄                                       \n139640 .png 飆股的思維(獨家收錄蕭明道5堂實戰教室) 賺不完的波段操作法_書擷圖 2021/11/12 下午 11:15:31 D:  _eBooks 電子書 財經股票  2021/11/12 下午 11:15:31  \n                                                                      Z:  新增書籍文件            2021/11/12 下午 11:21:51  \n139641 .png 飆股的思維(獨家收錄蕭明道5堂實戰教室) 賺不完的波段操作法_書擷圖 2021/11/12 下午 11:15:33 D:  _eBooks 電子書 財經股票  2021/11/12 下午 11:15:33  \n                                                                      Z:  新增書籍文件            2021/11/12 下午 11:21:51  \n139642 .png 飆股的思維(獨家收錄蕭明道5堂實戰教室) 賺不完的波段操作法_書擷圖 2021/11/12 下午 11:15:35 D:  _eBooks 電子書 財經股票  2021/11/12 下午 11:15:34  \n...                                                                                                            ...  \n139772 .png 飆股的思維(獨家收錄蕭明道5堂實戰教室) 賺不完的波段操作法_書擷圖 2021/11/12 下午 11:19:02 Z:  新增書籍文件            2021/11/12 下午 11:22:13  \n139773 .png 飆股的思維(獨家收錄蕭明道5堂實戰教室) 賺不完的波段操作法_書擷圖 2021/11/12 下午 11:19:04 D:  _eBooks 電子書 財經股票  2021/11/12 下午 11:19:04  \n                                                                      Z:  新增書籍文件            2021/11/12 下午 11:22:13  \n139774 .png 飆股的思維(獨家收錄蕭明道5堂實戰教室) 賺不完的波段操作法_書擷圖 2021/11/12 下午 11:19:05 D:  _eBooks 電子書 財經股票  2021/11/12 下午 11:19:05  \n                                                                      Z:  新增書籍文件            2021/11/12 下午 11:22:13  \n\n[270 rows x 4 columns]",
      "text/html": "<div>\n<style scoped>\n    .dataframe tbody tr th:only-of-type {\n        vertical-align: middle;\n    }\n\n    .dataframe tbody tr th {\n        vertical-align: top;\n    }\n\n    .dataframe thead th {\n        text-align: right;\n    }\n</style>\n<table border=\"1\" class=\"dataframe\">\n  <thead>\n    <tr style=\"text-align: right;\">\n      <th></th>\n      <th></th>\n      <th></th>\n      <th></th>\n      <th></th>\n      <th></th>\n      <th>檔案名稱</th>\n      <th>路徑</th>\n      <th>大小</th>\n      <th>新增日期</th>\n    </tr>\n    <tr>\n      <th>組別</th>\n      <th>檔案類型</th>\n      <th>資料夾</th>\n      <th>修改日期</th>\n      <th>磁碟機</th>\n      <th>根目錄</th>\n      <th></th>\n      <th></th>\n      <th></th>\n      <th></th>\n    </tr>\n  </thead>\n  <tbody>\n    <tr>\n      <th rowspan=\"2\" valign=\"top\">139640</th>\n      <th rowspan=\"2\" valign=\"top\">.png</th>\n      <th rowspan=\"2\" valign=\"top\">飆股的思維(獨家收錄蕭明道5堂實戰教室) 賺不完的波段操作法_書擷圖</th>\n      <th rowspan=\"2\" valign=\"top\">2021/11/12 下午 11:15:31</th>\n      <th>D:</th>\n      <th>_eBooks 電子書 財經股票</th>\n      <td>image0000.png</td>\n      <td>D:\\_eBooks 電子書 財經股票\\飆股的思維(獨家收錄蕭明道5堂實戰教室) 賺不完的波...</td>\n      <td>844262</td>\n      <td>2021/11/12 下午 11:15:31</td>\n    </tr>\n    <tr>\n      <th>Z:</th>\n      <th>新增書籍文件</th>\n      <td>image0000.png</td>\n      <td>Z:\\新增書籍文件\\財經書籍\\飆股的思維(獨家收錄蕭明道5堂實戰教室) 賺不完的波段操作法\\...</td>\n      <td>844262</td>\n      <td>2021/11/12 下午 11:21:51</td>\n    </tr>\n    <tr>\n      <th rowspan=\"2\" valign=\"top\">139641</th>\n      <th rowspan=\"2\" valign=\"top\">.png</th>\n      <th rowspan=\"2\" valign=\"top\">飆股的思維(獨家收錄蕭明道5堂實戰教室) 賺不完的波段操作法_書擷圖</th>\n      <th rowspan=\"2\" valign=\"top\">2021/11/12 下午 11:15:33</th>\n      <th>D:</th>\n      <th>_eBooks 電子書 財經股票</th>\n      <td>image0001.png</td>\n      <td>D:\\_eBooks 電子書 財經股票\\飆股的思維(獨家收錄蕭明道5堂實戰教室) 賺不完的波...</td>\n      <td>98793</td>\n      <td>2021/11/12 下午 11:15:33</td>\n    </tr>\n    <tr>\n      <th>Z:</th>\n      <th>新增書籍文件</th>\n      <td>image0001.png</td>\n      <td>Z:\\新增書籍文件\\財經書籍\\飆股的思維(獨家收錄蕭明道5堂實戰教室) 賺不完的波段操作法\\...</td>\n      <td>98793</td>\n      <td>2021/11/12 下午 11:21:51</td>\n    </tr>\n    <tr>\n      <th>139642</th>\n      <th>.png</th>\n      <th>飆股的思維(獨家收錄蕭明道5堂實戰教室) 賺不完的波段操作法_書擷圖</th>\n      <th>2021/11/12 下午 11:15:35</th>\n      <th>D:</th>\n      <th>_eBooks 電子書 財經股票</th>\n      <td>image0002.png</td>\n      <td>D:\\_eBooks 電子書 財經股票\\飆股的思維(獨家收錄蕭明道5堂實戰教室) 賺不完的波...</td>\n      <td>504665</td>\n      <td>2021/11/12 下午 11:15:34</td>\n    </tr>\n    <tr>\n      <th>...</th>\n      <th>...</th>\n      <th>...</th>\n      <th>...</th>\n      <th>...</th>\n      <th>...</th>\n      <td>...</td>\n      <td>...</td>\n      <td>...</td>\n      <td>...</td>\n    </tr>\n    <tr>\n      <th>139772</th>\n      <th>.png</th>\n      <th>飆股的思維(獨家收錄蕭明道5堂實戰教室) 賺不完的波段操作法_書擷圖</th>\n      <th>2021/11/12 下午 11:19:02</th>\n      <th>Z:</th>\n      <th>新增書籍文件</th>\n      <td>image0132.png</td>\n      <td>Z:\\新增書籍文件\\財經書籍\\飆股的思維(獨家收錄蕭明道5堂實戰教室) 賺不完的波段操作法\\...</td>\n      <td>546032</td>\n      <td>2021/11/12 下午 11:22:13</td>\n    </tr>\n    <tr>\n      <th rowspan=\"2\" valign=\"top\">139773</th>\n      <th rowspan=\"2\" valign=\"top\">.png</th>\n      <th rowspan=\"2\" valign=\"top\">飆股的思維(獨家收錄蕭明道5堂實戰教室) 賺不完的波段操作法_書擷圖</th>\n      <th rowspan=\"2\" valign=\"top\">2021/11/12 下午 11:19:04</th>\n      <th>D:</th>\n      <th>_eBooks 電子書 財經股票</th>\n      <td>image0133.png</td>\n      <td>D:\\_eBooks 電子書 財經股票\\飆股的思維(獨家收錄蕭明道5堂實戰教室) 賺不完的波...</td>\n      <td>155353</td>\n      <td>2021/11/12 下午 11:19:04</td>\n    </tr>\n    <tr>\n      <th>Z:</th>\n      <th>新增書籍文件</th>\n      <td>image0133.png</td>\n      <td>Z:\\新增書籍文件\\財經書籍\\飆股的思維(獨家收錄蕭明道5堂實戰教室) 賺不完的波段操作法\\...</td>\n      <td>155353</td>\n      <td>2021/11/12 下午 11:22:13</td>\n    </tr>\n    <tr>\n      <th rowspan=\"2\" valign=\"top\">139774</th>\n      <th rowspan=\"2\" valign=\"top\">.png</th>\n      <th rowspan=\"2\" valign=\"top\">飆股的思維(獨家收錄蕭明道5堂實戰教室) 賺不完的波段操作法_書擷圖</th>\n      <th rowspan=\"2\" valign=\"top\">2021/11/12 下午 11:19:05</th>\n      <th>D:</th>\n      <th>_eBooks 電子書 財經股票</th>\n      <td>image0134.png</td>\n      <td>D:\\_eBooks 電子書 財經股票\\飆股的思維(獨家收錄蕭明道5堂實戰教室) 賺不完的波...</td>\n      <td>243076</td>\n      <td>2021/11/12 下午 11:19:05</td>\n    </tr>\n    <tr>\n      <th>Z:</th>\n      <th>新增書籍文件</th>\n      <td>image0134.png</td>\n      <td>Z:\\新增書籍文件\\財經書籍\\飆股的思維(獨家收錄蕭明道5堂實戰教室) 賺不完的波段操作法\\...</td>\n      <td>243076</td>\n      <td>2021/11/12 下午 11:22:13</td>\n    </tr>\n  </tbody>\n</table>\n<p>270 rows × 4 columns</p>\n</div>"
     },
     "execution_count": 8,
     "metadata": {},
     "output_type": "execute_result"
    }
   ],
   "source": [
    "group_by_folder.get_group('飆股的思維(獨家收錄蕭明道5堂實戰教室) 賺不完的波段操作法_書擷圖')"
   ],
   "metadata": {
    "collapsed": false,
    "pycharm": {
     "name": "#%%\n"
    }
   }
  },
  {
   "cell_type": "code",
   "execution_count": 9,
   "outputs": [
    {
     "data": {
      "text/plain": "                                                                                                                                    檔案名稱  \\\n檔案類型 資料夾                                修改日期                   磁碟機 根目錄                                                                     \n.mp4 8分鐘搞懂理財知識_新手教室 Youtube 投資影片教學      2018/11/14 下午 02:12:09 Z:  8分鐘搞懂理財知識_新手教室 Youtube 投資影片教學      8分鐘搞懂技術分析：RSI的重要價值-WUwaMVSCDYY.mp4   \n     8分鐘搞懂理財知識_重新整理過                    2021/5/11 上午 02:58:44  Z:  8分鐘搞懂理財知識_重新整理過                2015-08-25_2152_技術分析教學_快速搞懂RSI技術指標.mp4   \n     Youtube 投資影片教學                     2018/11/14 下午 02:12:09 Z:  Youtube 投資影片教學                     8分鐘搞懂技術分析：RSI的重要價值-WUwaMVSCDYY.mp4   \n     _8分鐘搞懂理財知識_原來的 新手教室 Youtube 投資影片教學 2018/11/14 下午 02:12:09 D:  8分鐘搞懂理財知識                          8分鐘搞懂技術分析：RSI的重要價值-WUwaMVSCDYY.mp4   \n     _8分鐘搞懂理財知識_整理的 Youtube 影片          2021/5/11 上午 02:58:44  D:  8分鐘搞懂理財知識                      2015-08-25_2152_技術分析教學_快速搞懂RSI技術指標.mp4   \n     2015-08-25_2152_技術分析教學_快速搞懂RSI技術指標 2021/5/11 上午 02:58:44  D:  8分鐘搞懂理財知識                      2015-08-25_2152_技術分析教學_快速搞懂RSI技術指標.mp4   \n\n                                                                                                                                                 路徑  \\\n檔案類型 資料夾                                修改日期                   磁碟機 根目錄                                                                                \n.mp4 8分鐘搞懂理財知識_新手教室 Youtube 投資影片教學      2018/11/14 下午 02:12:09 Z:  8分鐘搞懂理財知識_新手教室 Youtube 投資影片教學                  Z:\\8分鐘搞懂理財知識_新手教室 Youtube 投資影片教學\\   \n     8分鐘搞懂理財知識_重新整理過                    2021/5/11 上午 02:58:44  Z:  8分鐘搞懂理財知識_重新整理過                                              Z:\\8分鐘搞懂理財知識_重新整理過\\   \n     Youtube 投資影片教學                     2018/11/14 下午 02:12:09 Z:  Youtube 投資影片教學                                                Z:\\Youtube 投資影片教學\\   \n     _8分鐘搞懂理財知識_原來的 新手教室 Youtube 投資影片教學 2018/11/14 下午 02:12:09 D:  8分鐘搞懂理財知識                       D:\\8分鐘搞懂理財知識\\_8分鐘搞懂理財知識_原來的 新手教室 Youtube 投資影片教學\\   \n     _8分鐘搞懂理財知識_整理的 Youtube 影片          2021/5/11 上午 02:58:44  D:  8分鐘搞懂理財知識                                D:\\8分鐘搞懂理財知識\\_8分鐘搞懂理財知識_整理的 Youtube 影片\\   \n     2015-08-25_2152_技術分析教學_快速搞懂RSI技術指標 2021/5/11 上午 02:58:44  D:  8分鐘搞懂理財知識                      D:\\8分鐘搞懂理財知識\\_8分鐘搞懂理財知識_整理的影片by資料夾\\2015-08-25_...   \n\n                                                                                                        大小  \\\n檔案類型 資料夾                                修改日期                   磁碟機 根目錄                                       \n.mp4 8分鐘搞懂理財知識_新手教室 Youtube 投資影片教學      2018/11/14 下午 02:12:09 Z:  8分鐘搞懂理財知識_新手教室 Youtube 投資影片教學  25612876   \n     8分鐘搞懂理財知識_重新整理過                    2021/5/11 上午 02:58:44  Z:  8分鐘搞懂理財知識_重新整理過                25612876   \n     Youtube 投資影片教學                     2018/11/14 下午 02:12:09 Z:  Youtube 投資影片教學                 25612876   \n     _8分鐘搞懂理財知識_原來的 新手教室 Youtube 投資影片教學 2018/11/14 下午 02:12:09 D:  8分鐘搞懂理財知識                      25612876   \n     _8分鐘搞懂理財知識_整理的 Youtube 影片          2021/5/11 上午 02:58:44  D:  8分鐘搞懂理財知識                      25612876   \n     2015-08-25_2152_技術分析教學_快速搞懂RSI技術指標 2021/5/11 上午 02:58:44  D:  8分鐘搞懂理財知識                      25612876   \n\n                                                                                                                   新增日期  \n檔案類型 資料夾                                修改日期                   磁碟機 根目錄                                                   \n.mp4 8分鐘搞懂理財知識_新手教室 Youtube 投資影片教學      2018/11/14 下午 02:12:09 Z:  8分鐘搞懂理財知識_新手教室 Youtube 投資影片教學  2021/5/10 下午 05:08:28  \n     8分鐘搞懂理財知識_重新整理過                    2021/5/11 上午 02:58:44  Z:  8分鐘搞懂理財知識_重新整理過                2021/5/11 上午 03:06:53  \n     Youtube 投資影片教學                     2018/11/14 下午 02:12:09 Z:  Youtube 投資影片教學                 2021/5/10 下午 04:04:52  \n     _8分鐘搞懂理財知識_原來的 新手教室 Youtube 投資影片教學 2018/11/14 下午 02:12:09 D:  8分鐘搞懂理財知識                      2021/8/18 上午 02:37:16  \n     _8分鐘搞懂理財知識_整理的 Youtube 影片          2021/5/11 上午 02:58:44  D:  8分鐘搞懂理財知識                      2021/8/18 上午 02:38:06  \n     2015-08-25_2152_技術分析教學_快速搞懂RSI技術指標 2021/5/11 上午 02:58:44  D:  8分鐘搞懂理財知識                      2021/8/18 上午 02:38:39  ",
      "text/html": "<div>\n<style scoped>\n    .dataframe tbody tr th:only-of-type {\n        vertical-align: middle;\n    }\n\n    .dataframe tbody tr th {\n        vertical-align: top;\n    }\n\n    .dataframe thead th {\n        text-align: right;\n    }\n</style>\n<table border=\"1\" class=\"dataframe\">\n  <thead>\n    <tr style=\"text-align: right;\">\n      <th></th>\n      <th></th>\n      <th></th>\n      <th></th>\n      <th></th>\n      <th>檔案名稱</th>\n      <th>路徑</th>\n      <th>大小</th>\n      <th>新增日期</th>\n    </tr>\n    <tr>\n      <th>檔案類型</th>\n      <th>資料夾</th>\n      <th>修改日期</th>\n      <th>磁碟機</th>\n      <th>根目錄</th>\n      <th></th>\n      <th></th>\n      <th></th>\n      <th></th>\n    </tr>\n  </thead>\n  <tbody>\n    <tr>\n      <th rowspan=\"6\" valign=\"top\">.mp4</th>\n      <th>8分鐘搞懂理財知識_新手教室 Youtube 投資影片教學</th>\n      <th>2018/11/14 下午 02:12:09</th>\n      <th>Z:</th>\n      <th>8分鐘搞懂理財知識_新手教室 Youtube 投資影片教學</th>\n      <td>8分鐘搞懂技術分析：RSI的重要價值-WUwaMVSCDYY.mp4</td>\n      <td>Z:\\8分鐘搞懂理財知識_新手教室 Youtube 投資影片教學\\</td>\n      <td>25612876</td>\n      <td>2021/5/10 下午 05:08:28</td>\n    </tr>\n    <tr>\n      <th>8分鐘搞懂理財知識_重新整理過</th>\n      <th>2021/5/11 上午 02:58:44</th>\n      <th>Z:</th>\n      <th>8分鐘搞懂理財知識_重新整理過</th>\n      <td>2015-08-25_2152_技術分析教學_快速搞懂RSI技術指標.mp4</td>\n      <td>Z:\\8分鐘搞懂理財知識_重新整理過\\</td>\n      <td>25612876</td>\n      <td>2021/5/11 上午 03:06:53</td>\n    </tr>\n    <tr>\n      <th>Youtube 投資影片教學</th>\n      <th>2018/11/14 下午 02:12:09</th>\n      <th>Z:</th>\n      <th>Youtube 投資影片教學</th>\n      <td>8分鐘搞懂技術分析：RSI的重要價值-WUwaMVSCDYY.mp4</td>\n      <td>Z:\\Youtube 投資影片教學\\</td>\n      <td>25612876</td>\n      <td>2021/5/10 下午 04:04:52</td>\n    </tr>\n    <tr>\n      <th>_8分鐘搞懂理財知識_原來的 新手教室 Youtube 投資影片教學</th>\n      <th>2018/11/14 下午 02:12:09</th>\n      <th>D:</th>\n      <th>8分鐘搞懂理財知識</th>\n      <td>8分鐘搞懂技術分析：RSI的重要價值-WUwaMVSCDYY.mp4</td>\n      <td>D:\\8分鐘搞懂理財知識\\_8分鐘搞懂理財知識_原來的 新手教室 Youtube 投資影片教學\\</td>\n      <td>25612876</td>\n      <td>2021/8/18 上午 02:37:16</td>\n    </tr>\n    <tr>\n      <th>_8分鐘搞懂理財知識_整理的 Youtube 影片</th>\n      <th>2021/5/11 上午 02:58:44</th>\n      <th>D:</th>\n      <th>8分鐘搞懂理財知識</th>\n      <td>2015-08-25_2152_技術分析教學_快速搞懂RSI技術指標.mp4</td>\n      <td>D:\\8分鐘搞懂理財知識\\_8分鐘搞懂理財知識_整理的 Youtube 影片\\</td>\n      <td>25612876</td>\n      <td>2021/8/18 上午 02:38:06</td>\n    </tr>\n    <tr>\n      <th>2015-08-25_2152_技術分析教學_快速搞懂RSI技術指標</th>\n      <th>2021/5/11 上午 02:58:44</th>\n      <th>D:</th>\n      <th>8分鐘搞懂理財知識</th>\n      <td>2015-08-25_2152_技術分析教學_快速搞懂RSI技術指標.mp4</td>\n      <td>D:\\8分鐘搞懂理財知識\\_8分鐘搞懂理財知識_整理的影片by資料夾\\2015-08-25_...</td>\n      <td>25612876</td>\n      <td>2021/8/18 上午 02:38:39</td>\n    </tr>\n  </tbody>\n</table>\n</div>"
     },
     "execution_count": 9,
     "metadata": {},
     "output_type": "execute_result"
    }
   ],
   "source": [
    "df_index1.loc[1]"
   ],
   "metadata": {
    "collapsed": false,
    "pycharm": {
     "name": "#%%\n"
    }
   }
  },
  {
   "cell_type": "code",
   "execution_count": 10,
   "outputs": [
    {
     "name": "stdout",
     "output_type": "stream",
     "text": [
      "number of extension types in z drive: 475\n"
     ]
    }
   ],
   "source": [
    "with open('z_drive_file_list.json', 'r', encoding='utf-8') as f:\n",
    "    z_files_dict = json.load(f)\n",
    "print('number of extension types in z drive:', len(z_files_dict.keys()))"
   ],
   "metadata": {
    "collapsed": false,
    "pycharm": {
     "name": "#%%\n"
    }
   }
  },
  {
   "cell_type": "code",
   "execution_count": 11,
   "outputs": [
    {
     "name": "stdout",
     "output_type": "stream",
     "text": [
      "number of file extension types: 609\n"
     ]
    }
   ],
   "source": [
    "with open('file_type_extension_list.json', 'r', encoding='utf-8') as f:\n",
    "    file_type_extension = json.load(f)\n",
    "extension_df = {key.lstrip('.'):value for key, value in file_type_extension.items()}\n",
    "extension_df = pd.DataFrame.from_dict(extension_df, orient='index', columns=['描述'])\n",
    "extension_df.sort_values('描述', inplace=True)\n",
    "print('number of file extension types:', len(extension_df))"
   ],
   "metadata": {
    "collapsed": false,
    "pycharm": {
     "name": "#%%\n"
    }
   }
  },
  {
   "cell_type": "code",
   "execution_count": 12,
   "outputs": [],
   "source": [
    "zdf = pd.DataFrame()\n",
    "for ext in z_files_dict:\n",
    "    each_data = pd.DataFrame(z_files_dict[ext])\n",
    "    if ext=='':\n",
    "        extension = 'empty'\n",
    "    else:\n",
    "        extension = ext\n",
    "    each_data['extension'] = extension\n",
    "    zdf = pd.concat([zdf, each_data])"
   ],
   "metadata": {
    "collapsed": false,
    "pycharm": {
     "name": "#%%\n"
    }
   }
  },
  {
   "cell_type": "code",
   "execution_count": 28,
   "outputs": [
    {
     "data": {
      "text/plain": "                       檔名                                               檔案路徑  \\\nextension                                                                      \nempty           .DS_Store                                                Z:/   \nempty           db_errlog                                        Z:/.AppleDB   \nempty                lock                                        Z:/.AppleDB   \nempty          .gitignore  Z:/新增書籍文件\\網路課程\\HTML5 跨平台程式開發 HTML CSS JavaScri...   \nempty           .jshintrc  Z:/新增書籍文件\\網路課程\\HTML5 跨平台程式開發 HTML CSS JavaScri...   \n...                   ...                                                ...   \nfpp               Ch8_5_1  Z:/資訊書籍文件\\Visual C# 新觀念 Microsoft Visual C# 程式...   \nfpp               Ch8_5_2  Z:/資訊書籍文件\\Visual C# 新觀念 Microsoft Visual C# 程式...   \nfpp              Ch8_5_2a  Z:/資訊書籍文件\\Visual C# 新觀念 Microsoft Visual C# 程式...   \ndotx          Ch04 公司專用信箋  Z:/資訊書籍文件\\超實用業務 總管 人資的辦公室 WORD 必備 50 招省時技\\超實用業...   \ndotx       Ch06 公司專用信箋範本檔  Z:/資訊書籍文件\\超實用業務 總管 人資的辦公室 WORD 必備 50 招省時技\\超實用業...   \n\n                                                        完整路徑  \\\nextension                                                      \nempty                                           Z:\\.DS_Store   \nempty                                  Z:\\.AppleDB\\db_errlog   \nempty                                       Z:\\.AppleDB\\lock   \nempty      Z:\\新增書籍文件\\網路課程\\HTML5 跨平台程式開發 HTML CSS JavaScri...   \nempty      Z:\\新增書籍文件\\網路課程\\HTML5 跨平台程式開發 HTML CSS JavaScri...   \n...                                                      ...   \nfpp        Z:\\資訊書籍文件\\Visual C# 新觀念 Microsoft Visual C# 程式...   \nfpp        Z:\\資訊書籍文件\\Visual C# 新觀念 Microsoft Visual C# 程式...   \nfpp        Z:\\資訊書籍文件\\Visual C# 新觀念 Microsoft Visual C# 程式...   \ndotx       Z:\\資訊書籍文件\\超實用業務 總管 人資的辦公室 WORD 必備 50 招省時技\\超實用業...   \ndotx       Z:\\資訊書籍文件\\超實用業務 總管 人資的辦公室 WORD 必備 50 招省時技\\超實用業...   \n\n                           資料夾  \nextension                       \nempty                .DS_Store  \nempty                db_errlog  \nempty                     lock  \nempty               .gitignore  \nempty                .jshintrc  \n...                        ...  \nfpp                Ch8_5_1.fpp  \nfpp                Ch8_5_2.fpp  \nfpp               Ch8_5_2a.fpp  \ndotx          Ch04 公司專用信箋.dotx  \ndotx       Ch06 公司專用信箋範本檔.dotx  \n\n[178986 rows x 4 columns]",
      "text/html": "<div>\n<style scoped>\n    .dataframe tbody tr th:only-of-type {\n        vertical-align: middle;\n    }\n\n    .dataframe tbody tr th {\n        vertical-align: top;\n    }\n\n    .dataframe thead th {\n        text-align: right;\n    }\n</style>\n<table border=\"1\" class=\"dataframe\">\n  <thead>\n    <tr style=\"text-align: right;\">\n      <th></th>\n      <th>檔名</th>\n      <th>檔案路徑</th>\n      <th>完整路徑</th>\n      <th>資料夾</th>\n    </tr>\n    <tr>\n      <th>extension</th>\n      <th></th>\n      <th></th>\n      <th></th>\n      <th></th>\n    </tr>\n  </thead>\n  <tbody>\n    <tr>\n      <th>empty</th>\n      <td>.DS_Store</td>\n      <td>Z:/</td>\n      <td>Z:\\.DS_Store</td>\n      <td>.DS_Store</td>\n    </tr>\n    <tr>\n      <th>empty</th>\n      <td>db_errlog</td>\n      <td>Z:/.AppleDB</td>\n      <td>Z:\\.AppleDB\\db_errlog</td>\n      <td>db_errlog</td>\n    </tr>\n    <tr>\n      <th>empty</th>\n      <td>lock</td>\n      <td>Z:/.AppleDB</td>\n      <td>Z:\\.AppleDB\\lock</td>\n      <td>lock</td>\n    </tr>\n    <tr>\n      <th>empty</th>\n      <td>.gitignore</td>\n      <td>Z:/新增書籍文件\\網路課程\\HTML5 跨平台程式開發 HTML CSS JavaScri...</td>\n      <td>Z:\\新增書籍文件\\網路課程\\HTML5 跨平台程式開發 HTML CSS JavaScri...</td>\n      <td>.gitignore</td>\n    </tr>\n    <tr>\n      <th>empty</th>\n      <td>.jshintrc</td>\n      <td>Z:/新增書籍文件\\網路課程\\HTML5 跨平台程式開發 HTML CSS JavaScri...</td>\n      <td>Z:\\新增書籍文件\\網路課程\\HTML5 跨平台程式開發 HTML CSS JavaScri...</td>\n      <td>.jshintrc</td>\n    </tr>\n    <tr>\n      <th>...</th>\n      <td>...</td>\n      <td>...</td>\n      <td>...</td>\n      <td>...</td>\n    </tr>\n    <tr>\n      <th>fpp</th>\n      <td>Ch8_5_1</td>\n      <td>Z:/資訊書籍文件\\Visual C# 新觀念 Microsoft Visual C# 程式...</td>\n      <td>Z:\\資訊書籍文件\\Visual C# 新觀念 Microsoft Visual C# 程式...</td>\n      <td>Ch8_5_1.fpp</td>\n    </tr>\n    <tr>\n      <th>fpp</th>\n      <td>Ch8_5_2</td>\n      <td>Z:/資訊書籍文件\\Visual C# 新觀念 Microsoft Visual C# 程式...</td>\n      <td>Z:\\資訊書籍文件\\Visual C# 新觀念 Microsoft Visual C# 程式...</td>\n      <td>Ch8_5_2.fpp</td>\n    </tr>\n    <tr>\n      <th>fpp</th>\n      <td>Ch8_5_2a</td>\n      <td>Z:/資訊書籍文件\\Visual C# 新觀念 Microsoft Visual C# 程式...</td>\n      <td>Z:\\資訊書籍文件\\Visual C# 新觀念 Microsoft Visual C# 程式...</td>\n      <td>Ch8_5_2a.fpp</td>\n    </tr>\n    <tr>\n      <th>dotx</th>\n      <td>Ch04 公司專用信箋</td>\n      <td>Z:/資訊書籍文件\\超實用業務 總管 人資的辦公室 WORD 必備 50 招省時技\\超實用業...</td>\n      <td>Z:\\資訊書籍文件\\超實用業務 總管 人資的辦公室 WORD 必備 50 招省時技\\超實用業...</td>\n      <td>Ch04 公司專用信箋.dotx</td>\n    </tr>\n    <tr>\n      <th>dotx</th>\n      <td>Ch06 公司專用信箋範本檔</td>\n      <td>Z:/資訊書籍文件\\超實用業務 總管 人資的辦公室 WORD 必備 50 招省時技\\超實用業...</td>\n      <td>Z:\\資訊書籍文件\\超實用業務 總管 人資的辦公室 WORD 必備 50 招省時技\\超實用業...</td>\n      <td>Ch06 公司專用信箋範本檔.dotx</td>\n    </tr>\n  </tbody>\n</table>\n<p>178986 rows × 4 columns</p>\n</div>"
     },
     "execution_count": 28,
     "metadata": {},
     "output_type": "execute_result"
    }
   ],
   "source": [
    "zdf"
   ],
   "metadata": {
    "collapsed": false,
    "pycharm": {
     "name": "#%%\n"
    }
   }
  },
  {
   "cell_type": "code",
   "execution_count": 14,
   "outputs": [],
   "source": [
    "zdf['資料夾'] = zdf['full_path'].apply(lambda path: path.split('\\\\')[-1])"
   ],
   "metadata": {
    "collapsed": false,
    "pycharm": {
     "name": "#%%\n"
    }
   }
  },
  {
   "cell_type": "code",
   "execution_count": 20,
   "outputs": [],
   "source": [
    "zdf.set_index('extension', inplace=True)"
   ],
   "metadata": {
    "collapsed": false,
    "pycharm": {
     "name": "#%%\n"
    }
   }
  },
  {
   "cell_type": "code",
   "execution_count": 26,
   "outputs": [],
   "source": [
    "zdf.rename(index={'extension':'檔案類型'}, inplace=True)"
   ],
   "metadata": {
    "collapsed": false,
    "pycharm": {
     "name": "#%%\n"
    }
   }
  },
  {
   "cell_type": "code",
   "execution_count": 29,
   "outputs": [
    {
     "data": {
      "text/plain": "                描述\n0             0 檔案\n002         002 檔案\n003         003 檔案\n004         004 檔案\n1             1 檔案\n..             ...\nini           組態設定\nurl         網際網路捷徑\nCHM  編譯的 HTML 說明檔案\nchm  編譯的 HTML 說明檔案\ncss       階層式樣式表文件\n\n[609 rows x 1 columns]",
      "text/html": "<div>\n<style scoped>\n    .dataframe tbody tr th:only-of-type {\n        vertical-align: middle;\n    }\n\n    .dataframe tbody tr th {\n        vertical-align: top;\n    }\n\n    .dataframe thead th {\n        text-align: right;\n    }\n</style>\n<table border=\"1\" class=\"dataframe\">\n  <thead>\n    <tr style=\"text-align: right;\">\n      <th></th>\n      <th>描述</th>\n    </tr>\n  </thead>\n  <tbody>\n    <tr>\n      <th>0</th>\n      <td>0 檔案</td>\n    </tr>\n    <tr>\n      <th>002</th>\n      <td>002 檔案</td>\n    </tr>\n    <tr>\n      <th>003</th>\n      <td>003 檔案</td>\n    </tr>\n    <tr>\n      <th>004</th>\n      <td>004 檔案</td>\n    </tr>\n    <tr>\n      <th>1</th>\n      <td>1 檔案</td>\n    </tr>\n    <tr>\n      <th>...</th>\n      <td>...</td>\n    </tr>\n    <tr>\n      <th>ini</th>\n      <td>組態設定</td>\n    </tr>\n    <tr>\n      <th>url</th>\n      <td>網際網路捷徑</td>\n    </tr>\n    <tr>\n      <th>CHM</th>\n      <td>編譯的 HTML 說明檔案</td>\n    </tr>\n    <tr>\n      <th>chm</th>\n      <td>編譯的 HTML 說明檔案</td>\n    </tr>\n    <tr>\n      <th>css</th>\n      <td>階層式樣式表文件</td>\n    </tr>\n  </tbody>\n</table>\n<p>609 rows × 1 columns</p>\n</div>"
     },
     "execution_count": 29,
     "metadata": {},
     "output_type": "execute_result"
    }
   ],
   "source": [
    "extension_df"
   ],
   "metadata": {
    "collapsed": false,
    "pycharm": {
     "name": "#%%\n"
    }
   }
  },
  {
   "cell_type": "code",
   "execution_count": 30,
   "outputs": [],
   "source": [
    "with open('extension_zdf.pkl', 'wb') as f:\n",
    "    pickle.dump(extension_df, f)"
   ],
   "metadata": {
    "collapsed": false,
    "pycharm": {
     "name": "#%%\n"
    }
   }
  },
  {
   "cell_type": "code",
   "execution_count": 31,
   "outputs": [],
   "source": [
    "with open('filelist_zdf.pkl', 'wb') as f:\n",
    "    pickle.dump(zdf, f)"
   ],
   "metadata": {
    "collapsed": false,
    "pycharm": {
     "name": "#%%\n"
    }
   }
  },
  {
   "cell_type": "code",
   "execution_count": null,
   "outputs": [],
   "source": [],
   "metadata": {
    "collapsed": false,
    "pycharm": {
     "name": "#%%\n"
    }
   }
  }
 ],
 "metadata": {
  "kernelspec": {
   "display_name": "Python 3",
   "language": "python",
   "name": "python3"
  },
  "language_info": {
   "codemirror_mode": {
    "name": "ipython",
    "version": 3
   },
   "file_extension": ".py",
   "mimetype": "text/x-python",
   "name": "python",
   "nbconvert_exporter": "python",
   "pygments_lexer": "ipython3",
   "version": "3.7.9"
  }
 },
 "nbformat": 4,
 "nbformat_minor": 0
}