{
 "cells": [
  {
   "cell_type": "code",
   "execution_count": 1,
   "metadata": {
    "collapsed": false,
    "pycharm": {
     "name": "#%%\n"
    }
   },
   "outputs": [],
   "source": [
    "import pandas as pd\n",
    "import pickle\n",
    "import json\n",
    "import os"
   ]
  },
  {
   "cell_type": "code",
   "execution_count": 2,
   "outputs": [
    {
     "name": "stdout",
     "output_type": "stream",
     "text": [
      "468169\n",
      "['檔案名稱' '路徑' '大小' '新增日期' '修改日期' '檔案類型' '組別' '磁碟機' '根目錄' '資料夾']\n"
     ]
    }
   ],
   "source": [
    "df = pd.read_csv('DuplicateCleanerPro1230_D_E_Z.csv')\n",
    "df.drop(columns=['已標記', '雜湊值', '永久連結', '歌手', '標題', '專輯', '時長', '位元率', '採樣率', '圖片寬度', '圖片高度', 'Unused', 'ZipFlag'], axis=1, inplace=True)\n",
    "df[['磁碟機', '根目錄']] = df['路徑'].str.split('\\\\', n=1, expand=True)\n",
    "df['根目錄'] = df['根目錄'].apply(lambda path: path.split('\\\\')[0])\n",
    "df['資料夾'] = df['路徑'].apply(lambda path: path.split('\\\\')[-2])\n",
    "print(len(df))\n",
    "print(df.columns.values)"
   ],
   "metadata": {
    "collapsed": false,
    "pycharm": {
     "name": "#%%\n"
    }
   }
  },
  {
   "cell_type": "code",
   "execution_count": 3,
   "outputs": [
    {
     "data": {
      "text/plain": "                                                                                                                                                          檔案名稱  \\\n組別     檔案類型     資料夾                                修改日期                   磁碟機 根目錄                                                                                \n1      .mp4     8分鐘搞懂理財知識_新手教室 Youtube 投資影片教學      2018/11/14 下午 02:12:09 Z:  8分鐘搞懂理財知識_新手教室 Youtube 投資影片教學                 8分鐘搞懂技術分析：RSI的重要價值-WUwaMVSCDYY.mp4   \n                8分鐘搞懂理財知識_重新整理過                    2021/5/11 上午 02:58:44  Z:  8分鐘搞懂理財知識_重新整理過                           2015-08-25_2152_技術分析教學_快速搞懂RSI技術指標.mp4   \n                Youtube 投資影片教學                     2018/11/14 下午 02:12:09 Z:  Youtube 投資影片教學                                8分鐘搞懂技術分析：RSI的重要價值-WUwaMVSCDYY.mp4   \n                _8分鐘搞懂理財知識_原來的 新手教室 Youtube 投資影片教學 2018/11/14 下午 02:12:09 D:  8分鐘搞懂理財知識                                     8分鐘搞懂技術分析：RSI的重要價值-WUwaMVSCDYY.mp4   \n                _8分鐘搞懂理財知識_整理的 Youtube 影片          2021/5/11 上午 02:58:44  D:  8分鐘搞懂理財知識                                 2015-08-25_2152_技術分析教學_快速搞懂RSI技術指標.mp4   \n...                                                                                                                                                        ...   \n167210 .props   net46                              2018/5/24 上午 05:38:22  Z:  資訊書籍文件                         Microsoft.CodeDom.Providers.DotNetCompilerPlat...   \n                net45                              2018/5/24 上午 05:38:22  Z:  資訊書籍文件                         Microsoft.CodeDom.Providers.DotNetCompilerPlat...   \n                net46                              2018/5/24 上午 05:38:22  Z:  資訊書籍文件                         Microsoft.CodeDom.Providers.DotNetCompilerPlat...   \n167211 .strings zh-Hant.lproj                      2019/7/31 上午 07:20:26  Z:  資訊書籍文件                                                      LaunchScreen.strings   \n                                                   2019/7/31 上午 07:20:24  Z:  資訊書籍文件                                                      LaunchScreen.strings   \n\n                                                                                                                                                            路徑  \\\n組別     檔案類型     資料夾                                修改日期                   磁碟機 根目錄                                                                                \n1      .mp4     8分鐘搞懂理財知識_新手教室 Youtube 投資影片教學      2018/11/14 下午 02:12:09 Z:  8分鐘搞懂理財知識_新手教室 Youtube 投資影片教學                  Z:\\8分鐘搞懂理財知識_新手教室 Youtube 投資影片教學\\   \n                8分鐘搞懂理財知識_重新整理過                    2021/5/11 上午 02:58:44  Z:  8分鐘搞懂理財知識_重新整理過                                              Z:\\8分鐘搞懂理財知識_重新整理過\\   \n                Youtube 投資影片教學                     2018/11/14 下午 02:12:09 Z:  Youtube 投資影片教學                                                Z:\\Youtube 投資影片教學\\   \n                _8分鐘搞懂理財知識_原來的 新手教室 Youtube 投資影片教學 2018/11/14 下午 02:12:09 D:  8分鐘搞懂理財知識                       D:\\8分鐘搞懂理財知識\\_8分鐘搞懂理財知識_原來的 新手教室 Youtube 投資影片教學\\   \n                _8分鐘搞懂理財知識_整理的 Youtube 影片          2021/5/11 上午 02:58:44  D:  8分鐘搞懂理財知識                                D:\\8分鐘搞懂理財知識\\_8分鐘搞懂理財知識_整理的 Youtube 影片\\   \n...                                                                                                                                                        ...   \n167210 .props   net46                              2018/5/24 上午 05:38:22  Z:  資訊書籍文件                         Z:\\資訊書籍文件\\Visual C# 一次就懂 ASP.NET MVC5.X 網站開發 W...   \n                net45                              2018/5/24 上午 05:38:22  Z:  資訊書籍文件                         Z:\\資訊書籍文件\\Visual C# 一次就懂 ASP.NET MVC5.X 網站開發 W...   \n                net46                              2018/5/24 上午 05:38:22  Z:  資訊書籍文件                         Z:\\資訊書籍文件\\Visual C# 一次就懂 ASP.NET MVC5.X 網站開發 W...   \n167211 .strings zh-Hant.lproj                      2019/7/31 上午 07:20:26  Z:  資訊書籍文件                         Z:\\資訊書籍文件\\iOS 13 程式設計實戰 Swift 5.1SwiftUI 框架 快速...   \n                                                   2019/7/31 上午 07:20:24  Z:  資訊書籍文件                         Z:\\資訊書籍文件\\iOS 13 程式設計實戰 Swift 5.1SwiftUI 框架 快速...   \n\n                                                                                                                   大小  \\\n組別     檔案類型     資料夾                                修改日期                   磁碟機 根目錄                                       \n1      .mp4     8分鐘搞懂理財知識_新手教室 Youtube 投資影片教學      2018/11/14 下午 02:12:09 Z:  8分鐘搞懂理財知識_新手教室 Youtube 投資影片教學  25612876   \n                8分鐘搞懂理財知識_重新整理過                    2021/5/11 上午 02:58:44  Z:  8分鐘搞懂理財知識_重新整理過                25612876   \n                Youtube 投資影片教學                     2018/11/14 下午 02:12:09 Z:  Youtube 投資影片教學                 25612876   \n                _8分鐘搞懂理財知識_原來的 新手教室 Youtube 投資影片教學 2018/11/14 下午 02:12:09 D:  8分鐘搞懂理財知識                      25612876   \n                _8分鐘搞懂理財知識_整理的 Youtube 影片          2021/5/11 上午 02:58:44  D:  8分鐘搞懂理財知識                      25612876   \n...                                                                                                               ...   \n167210 .props   net46                              2018/5/24 上午 05:38:22  Z:  資訊書籍文件                             5530   \n                net45                              2018/5/24 上午 05:38:22  Z:  資訊書籍文件                             5530   \n                net46                              2018/5/24 上午 05:38:22  Z:  資訊書籍文件                             5530   \n167211 .strings zh-Hant.lproj                      2019/7/31 上午 07:20:26  Z:  資訊書籍文件                                1   \n                                                   2019/7/31 上午 07:20:24  Z:  資訊書籍文件                                1   \n\n                                                                                                                              新增日期  \n組別     檔案類型     資料夾                                修改日期                   磁碟機 根目錄                                                   \n1      .mp4     8分鐘搞懂理財知識_新手教室 Youtube 投資影片教學      2018/11/14 下午 02:12:09 Z:  8分鐘搞懂理財知識_新手教室 Youtube 投資影片教學  2021/5/10 下午 05:08:28  \n                8分鐘搞懂理財知識_重新整理過                    2021/5/11 上午 02:58:44  Z:  8分鐘搞懂理財知識_重新整理過                2021/5/11 上午 03:06:53  \n                Youtube 投資影片教學                     2018/11/14 下午 02:12:09 Z:  Youtube 投資影片教學                 2021/5/10 下午 04:04:52  \n                _8分鐘搞懂理財知識_原來的 新手教室 Youtube 投資影片教學 2018/11/14 下午 02:12:09 D:  8分鐘搞懂理財知識                      2021/8/18 上午 02:37:16  \n                _8分鐘搞懂理財知識_整理的 Youtube 影片          2021/5/11 上午 02:58:44  D:  8分鐘搞懂理財知識                      2021/8/18 上午 02:38:06  \n...                                                                                                                            ...  \n167210 .props   net46                              2018/5/24 上午 05:38:22  Z:  資訊書籍文件                          2020/3/7 下午 08:06:24  \n                net45                              2018/5/24 上午 05:38:22  Z:  資訊書籍文件                          2020/3/7 下午 08:09:52  \n                net46                              2018/5/24 上午 05:38:22  Z:  資訊書籍文件                          2020/3/7 下午 08:09:53  \n167211 .strings zh-Hant.lproj                      2019/7/31 上午 07:20:26  Z:  資訊書籍文件                         2020/2/10 上午 07:58:08  \n                                                   2019/7/31 上午 07:20:24  Z:  資訊書籍文件                         2020/2/10 上午 07:58:08  \n\n[468169 rows x 4 columns]",
      "text/html": "<div>\n<style scoped>\n    .dataframe tbody tr th:only-of-type {\n        vertical-align: middle;\n    }\n\n    .dataframe tbody tr th {\n        vertical-align: top;\n    }\n\n    .dataframe thead th {\n        text-align: right;\n    }\n</style>\n<table border=\"1\" class=\"dataframe\">\n  <thead>\n    <tr style=\"text-align: right;\">\n      <th></th>\n      <th></th>\n      <th></th>\n      <th></th>\n      <th></th>\n      <th></th>\n      <th>檔案名稱</th>\n      <th>路徑</th>\n      <th>大小</th>\n      <th>新增日期</th>\n    </tr>\n    <tr>\n      <th>組別</th>\n      <th>檔案類型</th>\n      <th>資料夾</th>\n      <th>修改日期</th>\n      <th>磁碟機</th>\n      <th>根目錄</th>\n      <th></th>\n      <th></th>\n      <th></th>\n      <th></th>\n    </tr>\n  </thead>\n  <tbody>\n    <tr>\n      <th rowspan=\"5\" valign=\"top\">1</th>\n      <th rowspan=\"5\" valign=\"top\">.mp4</th>\n      <th>8分鐘搞懂理財知識_新手教室 Youtube 投資影片教學</th>\n      <th>2018/11/14 下午 02:12:09</th>\n      <th>Z:</th>\n      <th>8分鐘搞懂理財知識_新手教室 Youtube 投資影片教學</th>\n      <td>8分鐘搞懂技術分析：RSI的重要價值-WUwaMVSCDYY.mp4</td>\n      <td>Z:\\8分鐘搞懂理財知識_新手教室 Youtube 投資影片教學\\</td>\n      <td>25612876</td>\n      <td>2021/5/10 下午 05:08:28</td>\n    </tr>\n    <tr>\n      <th>8分鐘搞懂理財知識_重新整理過</th>\n      <th>2021/5/11 上午 02:58:44</th>\n      <th>Z:</th>\n      <th>8分鐘搞懂理財知識_重新整理過</th>\n      <td>2015-08-25_2152_技術分析教學_快速搞懂RSI技術指標.mp4</td>\n      <td>Z:\\8分鐘搞懂理財知識_重新整理過\\</td>\n      <td>25612876</td>\n      <td>2021/5/11 上午 03:06:53</td>\n    </tr>\n    <tr>\n      <th>Youtube 投資影片教學</th>\n      <th>2018/11/14 下午 02:12:09</th>\n      <th>Z:</th>\n      <th>Youtube 投資影片教學</th>\n      <td>8分鐘搞懂技術分析：RSI的重要價值-WUwaMVSCDYY.mp4</td>\n      <td>Z:\\Youtube 投資影片教學\\</td>\n      <td>25612876</td>\n      <td>2021/5/10 下午 04:04:52</td>\n    </tr>\n    <tr>\n      <th>_8分鐘搞懂理財知識_原來的 新手教室 Youtube 投資影片教學</th>\n      <th>2018/11/14 下午 02:12:09</th>\n      <th>D:</th>\n      <th>8分鐘搞懂理財知識</th>\n      <td>8分鐘搞懂技術分析：RSI的重要價值-WUwaMVSCDYY.mp4</td>\n      <td>D:\\8分鐘搞懂理財知識\\_8分鐘搞懂理財知識_原來的 新手教室 Youtube 投資影片教學\\</td>\n      <td>25612876</td>\n      <td>2021/8/18 上午 02:37:16</td>\n    </tr>\n    <tr>\n      <th>_8分鐘搞懂理財知識_整理的 Youtube 影片</th>\n      <th>2021/5/11 上午 02:58:44</th>\n      <th>D:</th>\n      <th>8分鐘搞懂理財知識</th>\n      <td>2015-08-25_2152_技術分析教學_快速搞懂RSI技術指標.mp4</td>\n      <td>D:\\8分鐘搞懂理財知識\\_8分鐘搞懂理財知識_整理的 Youtube 影片\\</td>\n      <td>25612876</td>\n      <td>2021/8/18 上午 02:38:06</td>\n    </tr>\n    <tr>\n      <th>...</th>\n      <th>...</th>\n      <th>...</th>\n      <th>...</th>\n      <th>...</th>\n      <th>...</th>\n      <td>...</td>\n      <td>...</td>\n      <td>...</td>\n      <td>...</td>\n    </tr>\n    <tr>\n      <th rowspan=\"3\" valign=\"top\">167210</th>\n      <th rowspan=\"3\" valign=\"top\">.props</th>\n      <th>net46</th>\n      <th>2018/5/24 上午 05:38:22</th>\n      <th>Z:</th>\n      <th>資訊書籍文件</th>\n      <td>Microsoft.CodeDom.Providers.DotNetCompilerPlat...</td>\n      <td>Z:\\資訊書籍文件\\Visual C# 一次就懂 ASP.NET MVC5.X 網站開發 W...</td>\n      <td>5530</td>\n      <td>2020/3/7 下午 08:06:24</td>\n    </tr>\n    <tr>\n      <th>net45</th>\n      <th>2018/5/24 上午 05:38:22</th>\n      <th>Z:</th>\n      <th>資訊書籍文件</th>\n      <td>Microsoft.CodeDom.Providers.DotNetCompilerPlat...</td>\n      <td>Z:\\資訊書籍文件\\Visual C# 一次就懂 ASP.NET MVC5.X 網站開發 W...</td>\n      <td>5530</td>\n      <td>2020/3/7 下午 08:09:52</td>\n    </tr>\n    <tr>\n      <th>net46</th>\n      <th>2018/5/24 上午 05:38:22</th>\n      <th>Z:</th>\n      <th>資訊書籍文件</th>\n      <td>Microsoft.CodeDom.Providers.DotNetCompilerPlat...</td>\n      <td>Z:\\資訊書籍文件\\Visual C# 一次就懂 ASP.NET MVC5.X 網站開發 W...</td>\n      <td>5530</td>\n      <td>2020/3/7 下午 08:09:53</td>\n    </tr>\n    <tr>\n      <th rowspan=\"2\" valign=\"top\">167211</th>\n      <th rowspan=\"2\" valign=\"top\">.strings</th>\n      <th rowspan=\"2\" valign=\"top\">zh-Hant.lproj</th>\n      <th>2019/7/31 上午 07:20:26</th>\n      <th>Z:</th>\n      <th>資訊書籍文件</th>\n      <td>LaunchScreen.strings</td>\n      <td>Z:\\資訊書籍文件\\iOS 13 程式設計實戰 Swift 5.1SwiftUI 框架 快速...</td>\n      <td>1</td>\n      <td>2020/2/10 上午 07:58:08</td>\n    </tr>\n    <tr>\n      <th>2019/7/31 上午 07:20:24</th>\n      <th>Z:</th>\n      <th>資訊書籍文件</th>\n      <td>LaunchScreen.strings</td>\n      <td>Z:\\資訊書籍文件\\iOS 13 程式設計實戰 Swift 5.1SwiftUI 框架 快速...</td>\n      <td>1</td>\n      <td>2020/2/10 上午 07:58:08</td>\n    </tr>\n  </tbody>\n</table>\n<p>468169 rows × 4 columns</p>\n</div>"
     },
     "execution_count": 3,
     "metadata": {},
     "output_type": "execute_result"
    }
   ],
   "source": [
    "df.set_index(['組別', '檔案類型', '資料夾', '修改日期', '磁碟機', '根目錄'], inplace=True)\n",
    "df"
   ],
   "metadata": {
    "collapsed": false,
    "pycharm": {
     "name": "#%%\n"
    }
   }
  },
  {
   "cell_type": "code",
   "execution_count": 4,
   "outputs": [],
   "source": [
    "group_by_folder = df.groupby(['資料夾'])"
   ],
   "metadata": {
    "collapsed": false,
    "pycharm": {
     "name": "#%%\n"
    }
   }
  },
  {
   "cell_type": "code",
   "execution_count": 5,
   "outputs": [
    {
     "name": "stdout",
     "output_type": "stream",
     "text": [
      ".AppleDouble\n"
     ]
    },
    {
     "data": {
      "text/plain": "                                                                                                檔案名稱  \\\n組別    檔案類型    資料夾          修改日期                  磁碟機 根目錄                                               \n92274 .Parent .AppleDouble 2011/1/25 上午 08:51:06 Z:  資訊書籍文件                                  .Parent   \n                                                 D:  _eBooks 電子書 Java+JS+HTML+CSS+RWD+Node   .Parent   \n92317 .gif    .AppleDouble 2011/8/29 上午 04:56:04 Z:  資訊書籍文件                                 logo.gif   \n                                                 D:  _eBooks 電子書 Java+JS+HTML+CSS+RWD+Node  logo.gif   \n\n                                                                                                                                           路徑  \\\n組別    檔案類型    資料夾          修改日期                  磁碟機 根目錄                                                                                        \n92274 .Parent .AppleDouble 2011/1/25 上午 08:51:06 Z:  資訊書籍文件                                 Z:\\資訊書籍文件\\HTML & CSS 網站設計建置優化之道\\html-and-css-b...   \n                                                 D:  _eBooks 電子書 Java+JS+HTML+CSS+RWD+Node  D:\\_eBooks 電子書 Java+JS+HTML+CSS+RWD+Node\\HTML ...   \n92317 .gif    .AppleDouble 2011/8/29 上午 04:56:04 Z:  資訊書籍文件                                 Z:\\資訊書籍文件\\HTML & CSS 網站設計建置優化之道\\html-and-css-b...   \n                                                 D:  _eBooks 電子書 Java+JS+HTML+CSS+RWD+Node  D:\\_eBooks 電子書 Java+JS+HTML+CSS+RWD+Node\\HTML ...   \n\n                                                                                             大小  \\\n組別    檔案類型    資料夾          修改日期                  磁碟機 根目錄                                          \n92274 .Parent .AppleDouble 2011/1/25 上午 08:51:06 Z:  資訊書籍文件                                 741   \n                                                 D:  _eBooks 電子書 Java+JS+HTML+CSS+RWD+Node  741   \n92317 .gif    .AppleDouble 2011/8/29 上午 04:56:04 Z:  資訊書籍文件                                 741   \n                                                 D:  _eBooks 電子書 Java+JS+HTML+CSS+RWD+Node  741   \n\n                                                                                                             新增日期  \n組別    檔案類型    資料夾          修改日期                  磁碟機 根目錄                                                           \n92274 .Parent .AppleDouble 2011/1/25 上午 08:51:06 Z:  資訊書籍文件                                 2019/8/29 下午 04:04:39  \n                                                 D:  _eBooks 電子書 Java+JS+HTML+CSS+RWD+Node  2021/8/18 上午 02:16:59  \n92317 .gif    .AppleDouble 2011/8/29 上午 04:56:04 Z:  資訊書籍文件                                 2019/8/29 下午 04:04:39  \n                                                 D:  _eBooks 電子書 Java+JS+HTML+CSS+RWD+Node  2021/8/18 上午 02:16:59  ",
      "text/html": "<div>\n<style scoped>\n    .dataframe tbody tr th:only-of-type {\n        vertical-align: middle;\n    }\n\n    .dataframe tbody tr th {\n        vertical-align: top;\n    }\n\n    .dataframe thead th {\n        text-align: right;\n    }\n</style>\n<table border=\"1\" class=\"dataframe\">\n  <thead>\n    <tr style=\"text-align: right;\">\n      <th></th>\n      <th></th>\n      <th></th>\n      <th></th>\n      <th></th>\n      <th></th>\n      <th>檔案名稱</th>\n      <th>路徑</th>\n      <th>大小</th>\n      <th>新增日期</th>\n    </tr>\n    <tr>\n      <th>組別</th>\n      <th>檔案類型</th>\n      <th>資料夾</th>\n      <th>修改日期</th>\n      <th>磁碟機</th>\n      <th>根目錄</th>\n      <th></th>\n      <th></th>\n      <th></th>\n      <th></th>\n    </tr>\n  </thead>\n  <tbody>\n    <tr>\n      <th rowspan=\"2\" valign=\"top\">92274</th>\n      <th rowspan=\"2\" valign=\"top\">.Parent</th>\n      <th rowspan=\"2\" valign=\"top\">.AppleDouble</th>\n      <th rowspan=\"2\" valign=\"top\">2011/1/25 上午 08:51:06</th>\n      <th>Z:</th>\n      <th>資訊書籍文件</th>\n      <td>.Parent</td>\n      <td>Z:\\資訊書籍文件\\HTML &amp; CSS 網站設計建置優化之道\\html-and-css-b...</td>\n      <td>741</td>\n      <td>2019/8/29 下午 04:04:39</td>\n    </tr>\n    <tr>\n      <th>D:</th>\n      <th>_eBooks 電子書 Java+JS+HTML+CSS+RWD+Node</th>\n      <td>.Parent</td>\n      <td>D:\\_eBooks 電子書 Java+JS+HTML+CSS+RWD+Node\\HTML ...</td>\n      <td>741</td>\n      <td>2021/8/18 上午 02:16:59</td>\n    </tr>\n    <tr>\n      <th rowspan=\"2\" valign=\"top\">92317</th>\n      <th rowspan=\"2\" valign=\"top\">.gif</th>\n      <th rowspan=\"2\" valign=\"top\">.AppleDouble</th>\n      <th rowspan=\"2\" valign=\"top\">2011/8/29 上午 04:56:04</th>\n      <th>Z:</th>\n      <th>資訊書籍文件</th>\n      <td>logo.gif</td>\n      <td>Z:\\資訊書籍文件\\HTML &amp; CSS 網站設計建置優化之道\\html-and-css-b...</td>\n      <td>741</td>\n      <td>2019/8/29 下午 04:04:39</td>\n    </tr>\n    <tr>\n      <th>D:</th>\n      <th>_eBooks 電子書 Java+JS+HTML+CSS+RWD+Node</th>\n      <td>logo.gif</td>\n      <td>D:\\_eBooks 電子書 Java+JS+HTML+CSS+RWD+Node\\HTML ...</td>\n      <td>741</td>\n      <td>2021/8/18 上午 02:16:59</td>\n    </tr>\n  </tbody>\n</table>\n</div>"
     },
     "execution_count": 5,
     "metadata": {},
     "output_type": "execute_result"
    }
   ],
   "source": [
    "for group_name, dataframe in group_by_folder:\n",
    "    print(group_name)\n",
    "    break\n",
    "dataframe"
   ],
   "metadata": {
    "collapsed": false,
    "pycharm": {
     "name": "#%%\n"
    }
   }
  },
  {
   "cell_type": "code",
   "execution_count": 10,
   "outputs": [
    {
     "name": "stdout",
     "output_type": "stream",
     "text": [
      "number of file extension types: 609\n"
     ]
    }
   ],
   "source": [
    "with open('extension_zdf.pkl', 'rb') as f:\n",
    "    extension_df=pickle.load(f)\n",
    "print('number of file extension types:', len(extension_df))"
   ],
   "metadata": {
    "collapsed": false,
    "pycharm": {
     "name": "#%%\n"
    }
   }
  },
  {
   "cell_type": "code",
   "execution_count": 12,
   "outputs": [],
   "source": [
    "with open('filelist_zdf.pkl', 'rb') as f:\n",
    "    zdf = pickle.load(f)"
   ],
   "metadata": {
    "collapsed": false,
    "pycharm": {
     "name": "#%%\n"
    }
   }
  },
  {
   "cell_type": "code",
   "execution_count": 15,
   "outputs": [
    {
     "name": "stdout",
     "output_type": "stream",
     "text": [
      "number of extension types in z drive: 475\n"
     ]
    }
   ],
   "source": [
    "print('number of extension types in z drive:', len(zdf.index.unique()))"
   ],
   "metadata": {
    "collapsed": false,
    "pycharm": {
     "name": "#%%\n"
    }
   }
  },
  {
   "cell_type": "code",
   "execution_count": 28,
   "outputs": [],
   "source": [
    "d_root_folders = ['8分鐘搞懂理財知識', 'AP ComputerScience 電腦概論', 'Advanced Analytics with Spark Patterns for Learning from Data at Scale', 'Android App 開發之鑰 使用 Java Android Studio_1013_30102015', 'CI Postman Jenkins Github 介面測試自動化極緻應用 一路整合', 'Clever Programmer', 'Cyber_Security 圖解資訊安全與個資保護 網路時代人人要懂的自保術', 'DSM6 開發者文件_Developer_Guide', 'DevOps 三十六計', 'Docker 入門與實戰', 'Git 完整學會 Git, GitHub, Git Server 的 24 堂課', 'Github 創辦人親自指導你精通 Git', 'GoogleBooksDownloader-2.7', 'Kubernetes IT 進階修煉  Kubernetes 容器雲全方位應用', 'Linux ?繪本 快速上手 Linux 的九堂課', 'Lite_Ver2 免費版 波塞頓之戟', 'MAME Games', 'MicroService 原來世界是這樣運轉的 微服務架構原理與實戰', 'MySQL Youtube 影片教學 (英文)', 'NAS Synoloyg 文件', 'NodeJs 教學', 'PyInvest', 'PyMuPDF_fitz 英文1.17版官方使用手冊', 'Python Youtube 李宏毅 Hung-Li Lee (機器學習 Machine Learning)', 'Python Youtube 林軒田 Hsuan-Tien Lin (機器學習基石 Maching Learning )', 'Python flask Youtube', 'Python 程式交易 30 天新手入門', 'Python-GUI-Programming-A-Complete-Reference-Guide', 'SketchUp Pro Certified 原廠中文教材 (適用2014～2018版本)', 'Tibame_緯育', 'Ubuntu19 完全自學手冊 桌面 系統與網路應用全攻略', 'Udemy Download', 'Visual Studio Code 小輕快跨平台 王的編輯器 Visual Studio Code 聖經', 'Wireshark 實戰演練與網路封包分析寶典', '_StackOverFlowRef', '_XQ XScript 量化交易平台', '_blogs 部落格網站', '_eBooks 管理資訊系統', '_eBooks 電子書 AI & BigData', '_eBooks 電子書 Adobe', '_eBooks 電子書 C & C++', '_eBooks 電子書 C# & VB', '_eBooks 電子書 Clouds AWS GCP Azure', '_eBooks 電子書 Django', '_eBooks 電子書 Excel + VBA', '_eBooks 電子書 Flask', '_eBooks 電子書 Google + GO', '_eBooks 電子書 Java+JS+HTML+CSS+RWD+Node', '_eBooks 電子書 LINE+聊天機器人', '_eBooks 電子書 PHP', '_eBooks 電子書 Python', '_eBooks 電子書 iOS & MacOS', '_eBooks 電子書 其他資訊書籍', '_eBooks 電子書 統計', '_eBooks 電子書 財經股票', '_eLearning 影音電子書', '_githubs 下載', '_下載的文件待歸類', '_元大證券_API_b2bapi_user_docs', '_群益證券_ API_skcom_Captial', 'dirlist.txt', 'line-bot-sdk-java-master', 'pTT開發文章', 'pyConPytest', '作者 tmdla 自製期貨交易軟體 hanyang0721', '台大 Python 課程', '壓縮的檔案集', '夯翻鼠_股市 FQ_NEW', '巴菲特班講稿音檔MP3-作者洪瑞泰Mike桑-20201225T044341Z-001', '彭彭的課程', '案例解析 超高效心智圖法入門 輕鬆學會用心智圖作學習筆記 工作管理 提升記憶和創意發想', '機器學習sklearn全集_菜菜的sklearn完整版', '機器學習用於交易30天', '玩弄 LineBot API 30 天', '盈再表', '程式交易30天斬', '突破困境 資安開源工具應用', '網路概論的十六堂精選課程 行動通訊x物聯網x大數據x雲端運算x人工智慧', '網路課程', '莫?Python', '資訊科技相關', '量化投資分析', '金融大數據', '電腦網路與通訊概論(上奇第一版)']"
   ],
   "metadata": {
    "collapsed": false,
    "pycharm": {
     "name": "#%%\n"
    }
   }
  },
  {
   "cell_type": "code",
   "execution_count": 31,
   "outputs": [
    {
     "ename": "KeyError",
     "evalue": "'_eBooks 電子書 AI & BigData'",
     "output_type": "error",
     "traceback": [
      "\u001B[1;31m---------------------------------------------------------------------------\u001B[0m",
      "\u001B[1;31mKeyError\u001B[0m                                  Traceback (most recent call last)",
      "\u001B[1;32m~\\AppData\\Local\\Temp/ipykernel_7844/819733937.py\u001B[0m in \u001B[0;36m<module>\u001B[1;34m\u001B[0m\n\u001B[1;32m----> 1\u001B[1;33m \u001B[0mgroup_by_folder\u001B[0m\u001B[1;33m.\u001B[0m\u001B[0mget_group\u001B[0m\u001B[1;33m(\u001B[0m\u001B[1;34m'_eBooks 電子書 AI & BigData'\u001B[0m\u001B[1;33m)\u001B[0m\u001B[1;33m\u001B[0m\u001B[1;33m\u001B[0m\u001B[0m\n\u001B[0m",
      "\u001B[1;32mc:\\users\\alvinlin\\appdata\\local\\programs\\python\\python37\\lib\\site-packages\\pandas\\core\\groupby\\groupby.py\u001B[0m in \u001B[0;36mget_group\u001B[1;34m(self, name, obj)\u001B[0m\n\u001B[0;32m    751\u001B[0m         \u001B[0minds\u001B[0m \u001B[1;33m=\u001B[0m \u001B[0mself\u001B[0m\u001B[1;33m.\u001B[0m\u001B[0m_get_index\u001B[0m\u001B[1;33m(\u001B[0m\u001B[0mname\u001B[0m\u001B[1;33m)\u001B[0m\u001B[1;33m\u001B[0m\u001B[1;33m\u001B[0m\u001B[0m\n\u001B[0;32m    752\u001B[0m         \u001B[1;32mif\u001B[0m \u001B[1;32mnot\u001B[0m \u001B[0mlen\u001B[0m\u001B[1;33m(\u001B[0m\u001B[0minds\u001B[0m\u001B[1;33m)\u001B[0m\u001B[1;33m:\u001B[0m\u001B[1;33m\u001B[0m\u001B[1;33m\u001B[0m\u001B[0m\n\u001B[1;32m--> 753\u001B[1;33m             \u001B[1;32mraise\u001B[0m \u001B[0mKeyError\u001B[0m\u001B[1;33m(\u001B[0m\u001B[0mname\u001B[0m\u001B[1;33m)\u001B[0m\u001B[1;33m\u001B[0m\u001B[1;33m\u001B[0m\u001B[0m\n\u001B[0m\u001B[0;32m    754\u001B[0m \u001B[1;33m\u001B[0m\u001B[0m\n\u001B[0;32m    755\u001B[0m         \u001B[1;32mreturn\u001B[0m \u001B[0mobj\u001B[0m\u001B[1;33m.\u001B[0m\u001B[0m_take_with_is_copy\u001B[0m\u001B[1;33m(\u001B[0m\u001B[0minds\u001B[0m\u001B[1;33m,\u001B[0m \u001B[0maxis\u001B[0m\u001B[1;33m=\u001B[0m\u001B[0mself\u001B[0m\u001B[1;33m.\u001B[0m\u001B[0maxis\u001B[0m\u001B[1;33m)\u001B[0m\u001B[1;33m\u001B[0m\u001B[1;33m\u001B[0m\u001B[0m\n",
      "\u001B[1;31mKeyError\u001B[0m: '_eBooks 電子書 AI & BigData'"
     ]
    }
   ],
   "source": [
    "group_by_folder.get_group('_eBooks 電子書 AI & BigData')"
   ],
   "metadata": {
    "collapsed": false,
    "pycharm": {
     "name": "#%%\n"
    }
   }
  },
  {
   "cell_type": "code",
   "execution_count": 32,
   "outputs": [],
   "source": [
    "group_by_root_folder = df.groupby(['根目錄'])"
   ],
   "metadata": {
    "collapsed": false,
    "pycharm": {
     "name": "#%%\n"
    }
   }
  },
  {
   "cell_type": "code",
   "execution_count": 34,
   "outputs": [],
   "source": [
    "group_by_root_folder.get_group('_eBooks 電子書 AI & BigData').to_csv('_eBooks 電子書 AI & BigData.csv', encoding='utf-8-sig')"
   ],
   "metadata": {
    "collapsed": false,
    "pycharm": {
     "name": "#%%\n"
    }
   }
  },
  {
   "cell_type": "code",
   "execution_count": null,
   "outputs": [],
   "source": [],
   "metadata": {
    "collapsed": false,
    "pycharm": {
     "name": "#%%\n"
    }
   }
  }
 ],
 "metadata": {
  "kernelspec": {
   "display_name": "Python 3",
   "language": "python",
   "name": "python3"
  },
  "language_info": {
   "codemirror_mode": {
    "name": "ipython",
    "version": 3
   },
   "file_extension": ".py",
   "mimetype": "text/x-python",
   "name": "python",
   "nbconvert_exporter": "python",
   "pygments_lexer": "ipython3",
   "version": "3.7.9"
  }
 },
 "nbformat": 4,
 "nbformat_minor": 0
}