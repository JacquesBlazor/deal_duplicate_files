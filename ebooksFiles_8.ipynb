{
 "cells": [
  {
   "cell_type": "code",
   "execution_count": 1,
   "metadata": {
    "collapsed": false,
    "pycharm": {
     "name": "#%%\n"
    }
   },
   "outputs": [],
   "source": [
    "import os\n",
    "import json\n",
    "import pickle\n",
    "import pandas as pd"
   ]
  },
  {
   "cell_type": "code",
   "execution_count": 2,
   "outputs": [],
   "source": [
    "file_size = 0\n",
    "total_file_size = 0\n",
    "drives=[]\n",
    "files_list = {}\n",
    "root_path = 'D:/'\n",
    "counter = 0\n",
    "\n",
    "for current_directory, folders_in_directory, files_in_directory in os.walk(root_path):\n",
    "    for each_file in files_in_directory:\n",
    "        file_name, file_extension = os.path.splitext(each_file)\n",
    "        full_file_name_path = os.path.join(os.path.abspath(current_directory), each_file)\n",
    "        extension = file_extension.lstrip('.')\n",
    "        if extension not in files_list:\n",
    "            files_list[extension] = []\n",
    "        files_list[extension].append({'檔名': file_name,\n",
    "                                      '檔案路徑': current_directory,\n",
    "                                      '完整路徑': full_file_name_path})\n",
    "\n",
    "with open('d_drive_file_list.json', 'w', encoding='utf-8') as f:\n",
    "    json.dump(files_list, f, ensure_ascii=False, indent=4)"
   ],
   "metadata": {
    "collapsed": false,
    "pycharm": {
     "name": "#%%\n"
    }
   }
  },
  {
   "cell_type": "code",
   "execution_count": 6,
   "outputs": [],
   "source": [
    "ddf = pd.DataFrame()\n",
    "for ext in files_list:\n",
    "    each_data = pd.DataFrame(files_list[ext])\n",
    "    if ext=='':\n",
    "        extension = 'empty'\n",
    "    else:\n",
    "        extension = ext\n",
    "    each_data['檔案類型'] = extension\n",
    "    ddf = pd.concat([ddf, each_data])"
   ],
   "metadata": {
    "collapsed": false,
    "pycharm": {
     "name": "#%%\n"
    }
   }
  },
  {
   "cell_type": "code",
   "execution_count": 21,
   "outputs": [
    {
     "data": {
      "text/plain": "                                                     檔案路徑  \\\n檔案類型                                                        \ntxt                                                   D:/   \ntxt     D:/8分鐘搞懂理財知識\\_8分鐘搞懂理財知識_整理的影片by資料夾\\2015-07-06_...   \ntxt     D:/8分鐘搞懂理財知識\\_8分鐘搞懂理財知識_整理的影片by資料夾\\2015-07-16_...   \ntxt     D:/8分鐘搞懂理財知識\\_8分鐘搞懂理財知識_整理的影片by資料夾\\2015-08-10_...   \ntxt     D:/8分鐘搞懂理財知識\\_8分鐘搞懂理財知識_整理的影片by資料夾\\2015-08-19_...   \n...                                                   ...   \naddins  D:/_githubs 下載\\selenium\\third_party\\dotnet\\nun...   \naddins  D:/_githubs 下載\\selenium\\third_party\\dotnet\\nun...   \nDSRX                     D:/_XQ XScript 量化交易平台\\Xscript入門篇   \nvspscc  D:/_元大證券_API_b2bapi_user_docs\\YuantaOneAPI_Use...   \nreadme                   D:/作者 tmdla 自製期貨交易軟體 hanyang0721   \n\n                                                     完整路徑  \\\n檔案類型                                                        \ntxt                                        D:\\dirlist.txt   \ntxt     D:\\8分鐘搞懂理財知識\\_8分鐘搞懂理財知識_整理的影片by資料夾\\2015-07-06_...   \ntxt     D:\\8分鐘搞懂理財知識\\_8分鐘搞懂理財知識_整理的影片by資料夾\\2015-07-16_...   \ntxt     D:\\8分鐘搞懂理財知識\\_8分鐘搞懂理財知識_整理的影片by資料夾\\2015-08-10_...   \ntxt     D:\\8分鐘搞懂理財知識\\_8分鐘搞懂理財知識_整理的影片by資料夾\\2015-08-19_...   \n...                                                   ...   \naddins  D:\\_githubs 下載\\selenium\\third_party\\dotnet\\nun...   \naddins  D:\\_githubs 下載\\selenium\\third_party\\dotnet\\nun...   \nDSRX     D:\\_XQ XScript 量化交易平台\\Xscript入門篇\\雲端策略中心(舊版).DSRX   \nvspscc  D:\\_元大證券_API_b2bapi_user_docs\\YuantaOneAPI_Use...   \nreadme  D:\\作者 tmdla 自製期貨交易軟體 hanyang0721\\作者 tmdla 自製期貨...   \n\n                                                   資料夾  \\\n檔案類型                                                     \ntxt                                                 D:   \ntxt               2015-07-06_1256_理財觀念_投資權證 你必須知道的四大優點   \ntxt     2015-07-16_1124_技術分析教學_以MACD辨識買賣時機_簡單又可靠的技術面指標   \ntxt           2015-08-10_1327_理財觀念_搞懂不同規模企業的獲利比較基準：EPS   \ntxt             2015-08-19_1241_理財觀念_明牌是好康道相報，還是挖洞給你跳？   \n...                                                ...   \naddins                                           net20   \naddins                                           net35   \nDSRX                                        Xscript入門篇   \nvspscc                                YuantaAPI_TestAP   \nreadme                   作者 tmdla 自製期貨交易軟體 hanyang0721   \n\n                                        檔案名稱  \n檔案類型                                          \ntxt                              dirlist.txt  \ntxt                          description.txt  \ntxt                          description.txt  \ntxt                          description.txt  \ntxt                          description.txt  \n...                                      ...  \naddins                   nunit.bundle.addins  \naddins                   nunit.bundle.addins  \nDSRX                         雲端策略中心(舊版).DSRX  \nvspscc     YuantaOneAPI_TestAP.csproj.vspscc  \nreadme  作者 tmdla 自製期貨交易軟體 hanyang0721.readme  \n\n[335522 rows x 4 columns]",
      "text/html": "<div>\n<style scoped>\n    .dataframe tbody tr th:only-of-type {\n        vertical-align: middle;\n    }\n\n    .dataframe tbody tr th {\n        vertical-align: top;\n    }\n\n    .dataframe thead th {\n        text-align: right;\n    }\n</style>\n<table border=\"1\" class=\"dataframe\">\n  <thead>\n    <tr style=\"text-align: right;\">\n      <th></th>\n      <th>檔案路徑</th>\n      <th>完整路徑</th>\n      <th>資料夾</th>\n      <th>檔案名稱</th>\n    </tr>\n    <tr>\n      <th>檔案類型</th>\n      <th></th>\n      <th></th>\n      <th></th>\n      <th></th>\n    </tr>\n  </thead>\n  <tbody>\n    <tr>\n      <th>txt</th>\n      <td>D:/</td>\n      <td>D:\\dirlist.txt</td>\n      <td>D:</td>\n      <td>dirlist.txt</td>\n    </tr>\n    <tr>\n      <th>txt</th>\n      <td>D:/8分鐘搞懂理財知識\\_8分鐘搞懂理財知識_整理的影片by資料夾\\2015-07-06_...</td>\n      <td>D:\\8分鐘搞懂理財知識\\_8分鐘搞懂理財知識_整理的影片by資料夾\\2015-07-06_...</td>\n      <td>2015-07-06_1256_理財觀念_投資權證 你必須知道的四大優點</td>\n      <td>description.txt</td>\n    </tr>\n    <tr>\n      <th>txt</th>\n      <td>D:/8分鐘搞懂理財知識\\_8分鐘搞懂理財知識_整理的影片by資料夾\\2015-07-16_...</td>\n      <td>D:\\8分鐘搞懂理財知識\\_8分鐘搞懂理財知識_整理的影片by資料夾\\2015-07-16_...</td>\n      <td>2015-07-16_1124_技術分析教學_以MACD辨識買賣時機_簡單又可靠的技術面指標</td>\n      <td>description.txt</td>\n    </tr>\n    <tr>\n      <th>txt</th>\n      <td>D:/8分鐘搞懂理財知識\\_8分鐘搞懂理財知識_整理的影片by資料夾\\2015-08-10_...</td>\n      <td>D:\\8分鐘搞懂理財知識\\_8分鐘搞懂理財知識_整理的影片by資料夾\\2015-08-10_...</td>\n      <td>2015-08-10_1327_理財觀念_搞懂不同規模企業的獲利比較基準：EPS</td>\n      <td>description.txt</td>\n    </tr>\n    <tr>\n      <th>txt</th>\n      <td>D:/8分鐘搞懂理財知識\\_8分鐘搞懂理財知識_整理的影片by資料夾\\2015-08-19_...</td>\n      <td>D:\\8分鐘搞懂理財知識\\_8分鐘搞懂理財知識_整理的影片by資料夾\\2015-08-19_...</td>\n      <td>2015-08-19_1241_理財觀念_明牌是好康道相報，還是挖洞給你跳？</td>\n      <td>description.txt</td>\n    </tr>\n    <tr>\n      <th>...</th>\n      <td>...</td>\n      <td>...</td>\n      <td>...</td>\n      <td>...</td>\n    </tr>\n    <tr>\n      <th>addins</th>\n      <td>D:/_githubs 下載\\selenium\\third_party\\dotnet\\nun...</td>\n      <td>D:\\_githubs 下載\\selenium\\third_party\\dotnet\\nun...</td>\n      <td>net20</td>\n      <td>nunit.bundle.addins</td>\n    </tr>\n    <tr>\n      <th>addins</th>\n      <td>D:/_githubs 下載\\selenium\\third_party\\dotnet\\nun...</td>\n      <td>D:\\_githubs 下載\\selenium\\third_party\\dotnet\\nun...</td>\n      <td>net35</td>\n      <td>nunit.bundle.addins</td>\n    </tr>\n    <tr>\n      <th>DSRX</th>\n      <td>D:/_XQ XScript 量化交易平台\\Xscript入門篇</td>\n      <td>D:\\_XQ XScript 量化交易平台\\Xscript入門篇\\雲端策略中心(舊版).DSRX</td>\n      <td>Xscript入門篇</td>\n      <td>雲端策略中心(舊版).DSRX</td>\n    </tr>\n    <tr>\n      <th>vspscc</th>\n      <td>D:/_元大證券_API_b2bapi_user_docs\\YuantaOneAPI_Use...</td>\n      <td>D:\\_元大證券_API_b2bapi_user_docs\\YuantaOneAPI_Use...</td>\n      <td>YuantaAPI_TestAP</td>\n      <td>YuantaOneAPI_TestAP.csproj.vspscc</td>\n    </tr>\n    <tr>\n      <th>readme</th>\n      <td>D:/作者 tmdla 自製期貨交易軟體 hanyang0721</td>\n      <td>D:\\作者 tmdla 自製期貨交易軟體 hanyang0721\\作者 tmdla 自製期貨...</td>\n      <td>作者 tmdla 自製期貨交易軟體 hanyang0721</td>\n      <td>作者 tmdla 自製期貨交易軟體 hanyang0721.readme</td>\n    </tr>\n  </tbody>\n</table>\n<p>335522 rows × 4 columns</p>\n</div>"
     },
     "execution_count": 21,
     "metadata": {},
     "output_type": "execute_result"
    }
   ],
   "source": [
    "ddf"
   ],
   "metadata": {
    "collapsed": false,
    "pycharm": {
     "name": "#%%\n"
    }
   }
  },
  {
   "cell_type": "code",
   "execution_count": 18,
   "outputs": [],
   "source": [
    "ddf['檔案名稱'] = ddf['完整路徑'].apply(lambda path: path.split('\\\\')[-1])"
   ],
   "metadata": {
    "collapsed": false,
    "pycharm": {
     "name": "#%%\n"
    }
   }
  },
  {
   "cell_type": "code",
   "execution_count": 10,
   "outputs": [],
   "source": [
    "ddf.set_index('檔案類型', inplace=True)"
   ],
   "metadata": {
    "collapsed": false,
    "pycharm": {
     "name": "#%%\n"
    }
   }
  },
  {
   "cell_type": "code",
   "execution_count": 20,
   "outputs": [],
   "source": [
    "ddf.drop(['檔名'], axis=1, inplace=True)"
   ],
   "metadata": {
    "collapsed": false,
    "pycharm": {
     "name": "#%%\n"
    }
   }
  },
  {
   "cell_type": "code",
   "execution_count": 22,
   "outputs": [],
   "source": [
    "with open('filelist_ddf.pkl', 'wb') as f:\n",
    "    pickle.dump(ddf, f)"
   ],
   "metadata": {
    "collapsed": false,
    "pycharm": {
     "name": "#%%\n"
    }
   }
  },
  {
   "cell_type": "code",
   "execution_count": 23,
   "outputs": [],
   "source": [
    "ddf.to_csv('ddf.csv', encoding='utf-8-sig')"
   ],
   "metadata": {
    "collapsed": false,
    "pycharm": {
     "name": "#%%\n"
    }
   }
  },
  {
   "cell_type": "code",
   "execution_count": 24,
   "outputs": [],
   "source": [
    "with open('filelist_zdf.pkl', 'rb') as f:\n",
    "    zdf = pickle.load(f)"
   ],
   "metadata": {
    "collapsed": false,
    "pycharm": {
     "name": "#%%\n"
    }
   }
  },
  {
   "cell_type": "code",
   "execution_count": 41,
   "outputs": [
    {
     "data": {
      "text/plain": "                                                    檔案路徑  \\\n檔案類型                                                       \nempty                                                Z:/   \nempty                                        Z:/.AppleDB   \nempty                                        Z:/.AppleDB   \nempty  Z:/新增書籍文件\\網路課程\\HTML5 跨平台程式開發 HTML CSS JavaScri...   \nempty  Z:/新增書籍文件\\網路課程\\HTML5 跨平台程式開發 HTML CSS JavaScri...   \n...                                                  ...   \nfpp    Z:/資訊書籍文件\\Visual C# 新觀念 Microsoft Visual C# 程式...   \nfpp    Z:/資訊書籍文件\\Visual C# 新觀念 Microsoft Visual C# 程式...   \nfpp    Z:/資訊書籍文件\\Visual C# 新觀念 Microsoft Visual C# 程式...   \ndotx   Z:/資訊書籍文件\\超實用業務 總管 人資的辦公室 WORD 必備 50 招省時技\\超實用業...   \ndotx   Z:/資訊書籍文件\\超實用業務 總管 人資的辦公室 WORD 必備 50 招省時技\\超實用業...   \n\n                                                    完整路徑       資料夾  \\\n檔案類型                                                                 \nempty                                       Z:\\.DS_Store        Z:   \nempty                              Z:\\.AppleDB\\db_errlog  .AppleDB   \nempty                                   Z:\\.AppleDB\\lock  .AppleDB   \nempty  Z:\\新增書籍文件\\網路課程\\HTML5 跨平台程式開發 HTML CSS JavaScri...   android   \nempty  Z:\\新增書籍文件\\網路課程\\HTML5 跨平台程式開發 HTML CSS JavaScri...   cordova   \n...                                                  ...       ...   \nfpp    Z:\\資訊書籍文件\\Visual C# 新觀念 Microsoft Visual C# 程式...      Ch08   \nfpp    Z:\\資訊書籍文件\\Visual C# 新觀念 Microsoft Visual C# 程式...      Ch08   \nfpp    Z:\\資訊書籍文件\\Visual C# 新觀念 Microsoft Visual C# 程式...      Ch08   \ndotx   Z:\\資訊書籍文件\\超實用業務 總管 人資的辦公室 WORD 必備 50 招省時技\\超實用業...    PART 1   \ndotx   Z:\\資訊書籍文件\\超實用業務 總管 人資的辦公室 WORD 必備 50 招省時技\\超實用業...    PART 1   \n\n                      檔案名稱  \n檔案類型                        \nempty            .DS_Store  \nempty            db_errlog  \nempty                 lock  \nempty           .gitignore  \nempty            .jshintrc  \n...                    ...  \nfpp            Ch8_5_1.fpp  \nfpp            Ch8_5_2.fpp  \nfpp           Ch8_5_2a.fpp  \ndotx      Ch04 公司專用信箋.dotx  \ndotx   Ch06 公司專用信箋範本檔.dotx  \n\n[178986 rows x 4 columns]",
      "text/html": "<div>\n<style scoped>\n    .dataframe tbody tr th:only-of-type {\n        vertical-align: middle;\n    }\n\n    .dataframe tbody tr th {\n        vertical-align: top;\n    }\n\n    .dataframe thead th {\n        text-align: right;\n    }\n</style>\n<table border=\"1\" class=\"dataframe\">\n  <thead>\n    <tr style=\"text-align: right;\">\n      <th></th>\n      <th>檔案路徑</th>\n      <th>完整路徑</th>\n      <th>資料夾</th>\n      <th>檔案名稱</th>\n    </tr>\n    <tr>\n      <th>檔案類型</th>\n      <th></th>\n      <th></th>\n      <th></th>\n      <th></th>\n    </tr>\n  </thead>\n  <tbody>\n    <tr>\n      <th>empty</th>\n      <td>Z:/</td>\n      <td>Z:\\.DS_Store</td>\n      <td>Z:</td>\n      <td>.DS_Store</td>\n    </tr>\n    <tr>\n      <th>empty</th>\n      <td>Z:/.AppleDB</td>\n      <td>Z:\\.AppleDB\\db_errlog</td>\n      <td>.AppleDB</td>\n      <td>db_errlog</td>\n    </tr>\n    <tr>\n      <th>empty</th>\n      <td>Z:/.AppleDB</td>\n      <td>Z:\\.AppleDB\\lock</td>\n      <td>.AppleDB</td>\n      <td>lock</td>\n    </tr>\n    <tr>\n      <th>empty</th>\n      <td>Z:/新增書籍文件\\網路課程\\HTML5 跨平台程式開發 HTML CSS JavaScri...</td>\n      <td>Z:\\新增書籍文件\\網路課程\\HTML5 跨平台程式開發 HTML CSS JavaScri...</td>\n      <td>android</td>\n      <td>.gitignore</td>\n    </tr>\n    <tr>\n      <th>empty</th>\n      <td>Z:/新增書籍文件\\網路課程\\HTML5 跨平台程式開發 HTML CSS JavaScri...</td>\n      <td>Z:\\新增書籍文件\\網路課程\\HTML5 跨平台程式開發 HTML CSS JavaScri...</td>\n      <td>cordova</td>\n      <td>.jshintrc</td>\n    </tr>\n    <tr>\n      <th>...</th>\n      <td>...</td>\n      <td>...</td>\n      <td>...</td>\n      <td>...</td>\n    </tr>\n    <tr>\n      <th>fpp</th>\n      <td>Z:/資訊書籍文件\\Visual C# 新觀念 Microsoft Visual C# 程式...</td>\n      <td>Z:\\資訊書籍文件\\Visual C# 新觀念 Microsoft Visual C# 程式...</td>\n      <td>Ch08</td>\n      <td>Ch8_5_1.fpp</td>\n    </tr>\n    <tr>\n      <th>fpp</th>\n      <td>Z:/資訊書籍文件\\Visual C# 新觀念 Microsoft Visual C# 程式...</td>\n      <td>Z:\\資訊書籍文件\\Visual C# 新觀念 Microsoft Visual C# 程式...</td>\n      <td>Ch08</td>\n      <td>Ch8_5_2.fpp</td>\n    </tr>\n    <tr>\n      <th>fpp</th>\n      <td>Z:/資訊書籍文件\\Visual C# 新觀念 Microsoft Visual C# 程式...</td>\n      <td>Z:\\資訊書籍文件\\Visual C# 新觀念 Microsoft Visual C# 程式...</td>\n      <td>Ch08</td>\n      <td>Ch8_5_2a.fpp</td>\n    </tr>\n    <tr>\n      <th>dotx</th>\n      <td>Z:/資訊書籍文件\\超實用業務 總管 人資的辦公室 WORD 必備 50 招省時技\\超實用業...</td>\n      <td>Z:\\資訊書籍文件\\超實用業務 總管 人資的辦公室 WORD 必備 50 招省時技\\超實用業...</td>\n      <td>PART 1</td>\n      <td>Ch04 公司專用信箋.dotx</td>\n    </tr>\n    <tr>\n      <th>dotx</th>\n      <td>Z:/資訊書籍文件\\超實用業務 總管 人資的辦公室 WORD 必備 50 招省時技\\超實用業...</td>\n      <td>Z:\\資訊書籍文件\\超實用業務 總管 人資的辦公室 WORD 必備 50 招省時技\\超實用業...</td>\n      <td>PART 1</td>\n      <td>Ch06 公司專用信箋範本檔.dotx</td>\n    </tr>\n  </tbody>\n</table>\n<p>178986 rows × 4 columns</p>\n</div>"
     },
     "execution_count": 41,
     "metadata": {},
     "output_type": "execute_result"
    }
   ],
   "source": [
    "zdf"
   ],
   "metadata": {
    "collapsed": false,
    "pycharm": {
     "name": "#%%\n"
    }
   }
  },
  {
   "cell_type": "code",
   "execution_count": 40,
   "outputs": [],
   "source": [
    "zdf['資料夾'] = zdf['完整路徑'].apply(lambda path: path.split('\\\\')[-2])"
   ],
   "metadata": {
    "collapsed": false,
    "pycharm": {
     "name": "#%%\n"
    }
   }
  },
  {
   "cell_type": "code",
   "execution_count": 33,
   "outputs": [],
   "source": [
    "zdf.rename(columns={'extension': '檔案類型'}, inplace=True)"
   ],
   "metadata": {
    "collapsed": false,
    "pycharm": {
     "name": "#%%\n"
    }
   }
  },
  {
   "cell_type": "code",
   "execution_count": 35,
   "outputs": [],
   "source": [
    "zdf.drop(['檔名'], inplace=True, axis=1)"
   ],
   "metadata": {
    "collapsed": false,
    "pycharm": {
     "name": "#%%\n"
    }
   }
  },
  {
   "cell_type": "code",
   "execution_count": 37,
   "outputs": [],
   "source": [
    "zdf.set_index('檔案類型', inplace=True)"
   ],
   "metadata": {
    "collapsed": false,
    "pycharm": {
     "name": "#%%\n"
    }
   }
  },
  {
   "cell_type": "code",
   "execution_count": 42,
   "outputs": [],
   "source": [
    "with open('filelist_zdf.pkl', 'wb') as f:\n",
    "    pickle.dump(zdf, f)"
   ],
   "metadata": {
    "collapsed": false,
    "pycharm": {
     "name": "#%%\n"
    }
   }
  },
  {
   "cell_type": "code",
   "execution_count": null,
   "outputs": [],
   "source": [],
   "metadata": {
    "collapsed": false,
    "pycharm": {
     "name": "#%%\n"
    }
   }
  }
 ],
 "metadata": {
  "kernelspec": {
   "display_name": "Python 3",
   "language": "python",
   "name": "python3"
  },
  "language_info": {
   "codemirror_mode": {
    "name": "ipython",
    "version": 3
   },
   "file_extension": ".py",
   "mimetype": "text/x-python",
   "name": "python",
   "nbconvert_exporter": "python",
   "pygments_lexer": "ipython3",
   "version": "3.7.9"
  }
 },
 "nbformat": 4,
 "nbformat_minor": 0
}