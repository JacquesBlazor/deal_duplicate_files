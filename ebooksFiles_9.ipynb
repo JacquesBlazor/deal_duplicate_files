{
 "cells": [
  {
   "cell_type": "code",
   "execution_count": 1,
   "metadata": {
    "collapsed": false,
    "pycharm": {
     "name": "#%%\n"
    }
   },
   "outputs": [],
   "source": [
    "import os\n",
    "import json\n",
    "import pickle\n",
    "import pandas as pd"
   ]
  },
  {
   "cell_type": "code",
   "execution_count": 2,
   "outputs": [],
   "source": [
    "with open('df.pkl', 'rb') as f:\n",
    "    df = pickle.load(f)"
   ],
   "metadata": {
    "collapsed": false,
    "pycharm": {
     "name": "#%%\n"
    }
   }
  },
  {
   "cell_type": "code",
   "execution_count": 3,
   "outputs": [],
   "source": [
    "with open('ddf.pkl', 'rb') as f:\n",
    "    ddf = pickle.load(f)"
   ],
   "metadata": {
    "collapsed": false,
    "pycharm": {
     "name": "#%%\n"
    }
   }
  },
  {
   "cell_type": "code",
   "execution_count": 4,
   "outputs": [],
   "source": [
    "with open('zdf.pkl', 'rb') as f:\n",
    "    zdf = pickle.load(f)"
   ],
   "metadata": {
    "collapsed": false,
    "pycharm": {
     "name": "#%%\n"
    }
   }
  },
  {
   "cell_type": "code",
   "execution_count": 5,
   "outputs": [],
   "source": [
    "df = pd.concat([ddf, zdf, df], axis=1, keys=['ddf', 'zdf', 'df'])"
   ],
   "metadata": {
    "collapsed": false,
    "pycharm": {
     "name": "#%%\n"
    }
   }
  },
  {
   "cell_type": "code",
   "execution_count": 6,
   "outputs": [
    {
     "data": {
      "text/plain": "                                                                ddf  zdf  \\\n                                                               檔案名稱 檔案名稱   \n完整路徑                                                                       \nD:\\dirlist.txt                                          dirlist.txt  NaN   \nD:\\8分鐘搞懂理財知識\\_8分鐘搞懂理財知識_整理的影片by資料夾\\2015-07-06_1...  description.txt  NaN   \nD:\\8分鐘搞懂理財知識\\_8分鐘搞懂理財知識_整理的影片by資料夾\\2015-07-16_1...  description.txt  NaN   \nD:\\8分鐘搞懂理財知識\\_8分鐘搞懂理財知識_整理的影片by資料夾\\2015-08-10_1...  description.txt  NaN   \nD:\\8分鐘搞懂理財知識\\_8分鐘搞懂理財知識_整理的影片by資料夾\\2015-08-19_1...  description.txt  NaN   \n...                                                             ...  ...   \nE:\\擷取的畫面\\2021-08-24_220059.png                                  NaN  NaN   \nE:\\擷取的畫面\\2021-08-24_220101.png                                  NaN  NaN   \nE:\\擷取的畫面\\2021-08-24_220118.png                                  NaN  NaN   \nE:\\擷取的畫面\\2021-09-23_105946.png                                  NaN  NaN   \nE:\\擷取的畫面\\2021-09-23_110000.png                                  NaN  NaN   \n\n                                                                       df  \\\n                                                                     檔案名稱   \n完整路徑                                                                        \nD:\\dirlist.txt                                                        NaN   \nD:\\8分鐘搞懂理財知識\\_8分鐘搞懂理財知識_整理的影片by資料夾\\2015-07-06_1...                    NaN   \nD:\\8分鐘搞懂理財知識\\_8分鐘搞懂理財知識_整理的影片by資料夾\\2015-07-16_1...                    NaN   \nD:\\8分鐘搞懂理財知識\\_8分鐘搞懂理財知識_整理的影片by資料夾\\2015-08-10_1...                    NaN   \nD:\\8分鐘搞懂理財知識\\_8分鐘搞懂理財知識_整理的影片by資料夾\\2015-08-19_1...                    NaN   \n...                                                                   ...   \nE:\\擷取的畫面\\2021-08-24_220059.png                      2021-08-24_220059.png   \nE:\\擷取的畫面\\2021-08-24_220101.png                      2021-08-24_220101.png   \nE:\\擷取的畫面\\2021-08-24_220118.png                      2021-08-24_220118.png   \nE:\\擷取的畫面\\2021-09-23_105946.png                      2021-09-23_105946.png   \nE:\\擷取的畫面\\2021-09-23_110000.png                      2021-09-23_110000.png   \n\n                                                             \\\n                                                         大小   \n完整路徑                                                          \nD:\\dirlist.txt                                          NaN   \nD:\\8分鐘搞懂理財知識\\_8分鐘搞懂理財知識_整理的影片by資料夾\\2015-07-06_1...      NaN   \nD:\\8分鐘搞懂理財知識\\_8分鐘搞懂理財知識_整理的影片by資料夾\\2015-07-16_1...      NaN   \nD:\\8分鐘搞懂理財知識\\_8分鐘搞懂理財知識_整理的影片by資料夾\\2015-08-10_1...      NaN   \nD:\\8分鐘搞懂理財知識\\_8分鐘搞懂理財知識_整理的影片by資料夾\\2015-08-19_1...      NaN   \n...                                                     ...   \nE:\\擷取的畫面\\2021-08-24_220059.png                      15133.0   \nE:\\擷取的畫面\\2021-08-24_220101.png                      15133.0   \nE:\\擷取的畫面\\2021-08-24_220118.png                      15133.0   \nE:\\擷取的畫面\\2021-09-23_105946.png                      64176.0   \nE:\\擷取的畫面\\2021-09-23_110000.png                      64176.0   \n\n                                                                           \\\n                                                                     新增日期   \n完整路徑                                                                        \nD:\\dirlist.txt                                                        NaN   \nD:\\8分鐘搞懂理財知識\\_8分鐘搞懂理財知識_整理的影片by資料夾\\2015-07-06_1...                    NaN   \nD:\\8分鐘搞懂理財知識\\_8分鐘搞懂理財知識_整理的影片by資料夾\\2015-07-16_1...                    NaN   \nD:\\8分鐘搞懂理財知識\\_8分鐘搞懂理財知識_整理的影片by資料夾\\2015-08-10_1...                    NaN   \nD:\\8分鐘搞懂理財知識\\_8分鐘搞懂理財知識_整理的影片by資料夾\\2015-08-19_1...                    NaN   \n...                                                                   ...   \nE:\\擷取的畫面\\2021-08-24_220059.png                      2021/8/24 下午 10:01:00   \nE:\\擷取的畫面\\2021-08-24_220101.png                      2021/8/24 下午 10:01:01   \nE:\\擷取的畫面\\2021-08-24_220118.png                      2021/8/24 下午 10:01:18   \nE:\\擷取的畫面\\2021-09-23_105946.png                      2021/9/23 上午 10:59:46   \nE:\\擷取的畫面\\2021-09-23_110000.png                      2021/9/23 上午 11:00:00   \n\n                                                                           \\\n                                                                     修改日期   \n完整路徑                                                                        \nD:\\dirlist.txt                                                        NaN   \nD:\\8分鐘搞懂理財知識\\_8分鐘搞懂理財知識_整理的影片by資料夾\\2015-07-06_1...                    NaN   \nD:\\8分鐘搞懂理財知識\\_8分鐘搞懂理財知識_整理的影片by資料夾\\2015-07-16_1...                    NaN   \nD:\\8分鐘搞懂理財知識\\_8分鐘搞懂理財知識_整理的影片by資料夾\\2015-08-10_1...                    NaN   \nD:\\8分鐘搞懂理財知識\\_8分鐘搞懂理財知識_整理的影片by資料夾\\2015-08-19_1...                    NaN   \n...                                                                   ...   \nE:\\擷取的畫面\\2021-08-24_220059.png                      2021/8/24 下午 10:01:00   \nE:\\擷取的畫面\\2021-08-24_220101.png                      2021/8/24 下午 10:01:02   \nE:\\擷取的畫面\\2021-08-24_220118.png                      2021/8/24 下午 10:01:18   \nE:\\擷取的畫面\\2021-09-23_105946.png                      2021/9/23 上午 10:59:46   \nE:\\擷取的畫面\\2021-09-23_110000.png                      2021/9/23 上午 11:00:00   \n\n                                                                               \\\n                                                   檔案類型        組別  磁碟機    根目錄   \n完整路徑                                                                            \nD:\\dirlist.txt                                      NaN       NaN  NaN    NaN   \nD:\\8分鐘搞懂理財知識\\_8分鐘搞懂理財知識_整理的影片by資料夾\\2015-07-06_1...  NaN       NaN  NaN    NaN   \nD:\\8分鐘搞懂理財知識\\_8分鐘搞懂理財知識_整理的影片by資料夾\\2015-07-16_1...  NaN       NaN  NaN    NaN   \nD:\\8分鐘搞懂理財知識\\_8分鐘搞懂理財知識_整理的影片by資料夾\\2015-08-10_1...  NaN       NaN  NaN    NaN   \nD:\\8分鐘搞懂理財知識\\_8分鐘搞懂理財知識_整理的影片by資料夾\\2015-08-19_1...  NaN       NaN  NaN    NaN   \n...                                                 ...       ...  ...    ...   \nE:\\擷取的畫面\\2021-08-24_220059.png                      png  164864.0   E:  擷取的畫面   \nE:\\擷取的畫面\\2021-08-24_220101.png                      png  164864.0   E:  擷取的畫面   \nE:\\擷取的畫面\\2021-08-24_220118.png                      png  164864.0   E:  擷取的畫面   \nE:\\擷取的畫面\\2021-09-23_105946.png                      png  164865.0   E:  擷取的畫面   \nE:\\擷取的畫面\\2021-09-23_110000.png                      png  164865.0   E:  擷取的畫面   \n\n                                                           \n                                                      資料夾  \n完整路徑                                                       \nD:\\dirlist.txt                                        NaN  \nD:\\8分鐘搞懂理財知識\\_8分鐘搞懂理財知識_整理的影片by資料夾\\2015-07-06_1...    NaN  \nD:\\8分鐘搞懂理財知識\\_8分鐘搞懂理財知識_整理的影片by資料夾\\2015-07-16_1...    NaN  \nD:\\8分鐘搞懂理財知識\\_8分鐘搞懂理財知識_整理的影片by資料夾\\2015-08-10_1...    NaN  \nD:\\8分鐘搞懂理財知識\\_8分鐘搞懂理財知識_整理的影片by資料夾\\2015-08-19_1...    NaN  \n...                                                   ...  \nE:\\擷取的畫面\\2021-08-24_220059.png                      擷取的畫面  \nE:\\擷取的畫面\\2021-08-24_220101.png                      擷取的畫面  \nE:\\擷取的畫面\\2021-08-24_220118.png                      擷取的畫面  \nE:\\擷取的畫面\\2021-09-23_105946.png                      擷取的畫面  \nE:\\擷取的畫面\\2021-09-23_110000.png                      擷取的畫面  \n\n[613964 rows x 11 columns]",
      "text/html": "<div>\n<style scoped>\n    .dataframe tbody tr th:only-of-type {\n        vertical-align: middle;\n    }\n\n    .dataframe tbody tr th {\n        vertical-align: top;\n    }\n\n    .dataframe thead tr th {\n        text-align: left;\n    }\n\n    .dataframe thead tr:last-of-type th {\n        text-align: right;\n    }\n</style>\n<table border=\"1\" class=\"dataframe\">\n  <thead>\n    <tr>\n      <th></th>\n      <th>ddf</th>\n      <th>zdf</th>\n      <th colspan=\"9\" halign=\"left\">df</th>\n    </tr>\n    <tr>\n      <th></th>\n      <th>檔案名稱</th>\n      <th>檔案名稱</th>\n      <th>檔案名稱</th>\n      <th>大小</th>\n      <th>新增日期</th>\n      <th>修改日期</th>\n      <th>檔案類型</th>\n      <th>組別</th>\n      <th>磁碟機</th>\n      <th>根目錄</th>\n      <th>資料夾</th>\n    </tr>\n    <tr>\n      <th>完整路徑</th>\n      <th></th>\n      <th></th>\n      <th></th>\n      <th></th>\n      <th></th>\n      <th></th>\n      <th></th>\n      <th></th>\n      <th></th>\n      <th></th>\n      <th></th>\n    </tr>\n  </thead>\n  <tbody>\n    <tr>\n      <th>D:\\dirlist.txt</th>\n      <td>dirlist.txt</td>\n      <td>NaN</td>\n      <td>NaN</td>\n      <td>NaN</td>\n      <td>NaN</td>\n      <td>NaN</td>\n      <td>NaN</td>\n      <td>NaN</td>\n      <td>NaN</td>\n      <td>NaN</td>\n      <td>NaN</td>\n    </tr>\n    <tr>\n      <th>D:\\8分鐘搞懂理財知識\\_8分鐘搞懂理財知識_整理的影片by資料夾\\2015-07-06_1256_理財觀念_投資權證 你必須知道的四大優點\\description.txt</th>\n      <td>description.txt</td>\n      <td>NaN</td>\n      <td>NaN</td>\n      <td>NaN</td>\n      <td>NaN</td>\n      <td>NaN</td>\n      <td>NaN</td>\n      <td>NaN</td>\n      <td>NaN</td>\n      <td>NaN</td>\n      <td>NaN</td>\n    </tr>\n    <tr>\n      <th>D:\\8分鐘搞懂理財知識\\_8分鐘搞懂理財知識_整理的影片by資料夾\\2015-07-16_1124_技術分析教學_以MACD辨識買賣時機_簡單又可靠的技術面指標\\description.txt</th>\n      <td>description.txt</td>\n      <td>NaN</td>\n      <td>NaN</td>\n      <td>NaN</td>\n      <td>NaN</td>\n      <td>NaN</td>\n      <td>NaN</td>\n      <td>NaN</td>\n      <td>NaN</td>\n      <td>NaN</td>\n      <td>NaN</td>\n    </tr>\n    <tr>\n      <th>D:\\8分鐘搞懂理財知識\\_8分鐘搞懂理財知識_整理的影片by資料夾\\2015-08-10_1327_理財觀念_搞懂不同規模企業的獲利比較基準：EPS\\description.txt</th>\n      <td>description.txt</td>\n      <td>NaN</td>\n      <td>NaN</td>\n      <td>NaN</td>\n      <td>NaN</td>\n      <td>NaN</td>\n      <td>NaN</td>\n      <td>NaN</td>\n      <td>NaN</td>\n      <td>NaN</td>\n      <td>NaN</td>\n    </tr>\n    <tr>\n      <th>D:\\8分鐘搞懂理財知識\\_8分鐘搞懂理財知識_整理的影片by資料夾\\2015-08-19_1241_理財觀念_明牌是好康道相報，還是挖洞給你跳？\\description.txt</th>\n      <td>description.txt</td>\n      <td>NaN</td>\n      <td>NaN</td>\n      <td>NaN</td>\n      <td>NaN</td>\n      <td>NaN</td>\n      <td>NaN</td>\n      <td>NaN</td>\n      <td>NaN</td>\n      <td>NaN</td>\n      <td>NaN</td>\n    </tr>\n    <tr>\n      <th>...</th>\n      <td>...</td>\n      <td>...</td>\n      <td>...</td>\n      <td>...</td>\n      <td>...</td>\n      <td>...</td>\n      <td>...</td>\n      <td>...</td>\n      <td>...</td>\n      <td>...</td>\n      <td>...</td>\n    </tr>\n    <tr>\n      <th>E:\\擷取的畫面\\2021-08-24_220059.png</th>\n      <td>NaN</td>\n      <td>NaN</td>\n      <td>2021-08-24_220059.png</td>\n      <td>15133.0</td>\n      <td>2021/8/24 下午 10:01:00</td>\n      <td>2021/8/24 下午 10:01:00</td>\n      <td>png</td>\n      <td>164864.0</td>\n      <td>E:</td>\n      <td>擷取的畫面</td>\n      <td>擷取的畫面</td>\n    </tr>\n    <tr>\n      <th>E:\\擷取的畫面\\2021-08-24_220101.png</th>\n      <td>NaN</td>\n      <td>NaN</td>\n      <td>2021-08-24_220101.png</td>\n      <td>15133.0</td>\n      <td>2021/8/24 下午 10:01:01</td>\n      <td>2021/8/24 下午 10:01:02</td>\n      <td>png</td>\n      <td>164864.0</td>\n      <td>E:</td>\n      <td>擷取的畫面</td>\n      <td>擷取的畫面</td>\n    </tr>\n    <tr>\n      <th>E:\\擷取的畫面\\2021-08-24_220118.png</th>\n      <td>NaN</td>\n      <td>NaN</td>\n      <td>2021-08-24_220118.png</td>\n      <td>15133.0</td>\n      <td>2021/8/24 下午 10:01:18</td>\n      <td>2021/8/24 下午 10:01:18</td>\n      <td>png</td>\n      <td>164864.0</td>\n      <td>E:</td>\n      <td>擷取的畫面</td>\n      <td>擷取的畫面</td>\n    </tr>\n    <tr>\n      <th>E:\\擷取的畫面\\2021-09-23_105946.png</th>\n      <td>NaN</td>\n      <td>NaN</td>\n      <td>2021-09-23_105946.png</td>\n      <td>64176.0</td>\n      <td>2021/9/23 上午 10:59:46</td>\n      <td>2021/9/23 上午 10:59:46</td>\n      <td>png</td>\n      <td>164865.0</td>\n      <td>E:</td>\n      <td>擷取的畫面</td>\n      <td>擷取的畫面</td>\n    </tr>\n    <tr>\n      <th>E:\\擷取的畫面\\2021-09-23_110000.png</th>\n      <td>NaN</td>\n      <td>NaN</td>\n      <td>2021-09-23_110000.png</td>\n      <td>64176.0</td>\n      <td>2021/9/23 上午 11:00:00</td>\n      <td>2021/9/23 上午 11:00:00</td>\n      <td>png</td>\n      <td>164865.0</td>\n      <td>E:</td>\n      <td>擷取的畫面</td>\n      <td>擷取的畫面</td>\n    </tr>\n  </tbody>\n</table>\n<p>613964 rows × 11 columns</p>\n</div>"
     },
     "execution_count": 6,
     "metadata": {},
     "output_type": "execute_result"
    }
   ],
   "source": [
    "df"
   ],
   "metadata": {
    "collapsed": false,
    "pycharm": {
     "name": "#%%\n"
    }
   }
  },
  {
   "cell_type": "code",
   "execution_count": 7,
   "outputs": [],
   "source": [
    "with open('concat_dfs.pkl', 'wb') as f:\n",
    "    pickle.dump(df, f)"
   ],
   "metadata": {
    "collapsed": false,
    "pycharm": {
     "name": "#%%\n"
    }
   }
  },
  {
   "cell_type": "code",
   "execution_count": null,
   "outputs": [],
   "source": [],
   "metadata": {
    "collapsed": false,
    "pycharm": {
     "name": "#%%\n"
    }
   }
  }
 ],
 "metadata": {
  "kernelspec": {
   "display_name": "Python 3",
   "language": "python",
   "name": "python3"
  },
  "language_info": {
   "codemirror_mode": {
    "name": "ipython",
    "version": 3
   },
   "file_extension": ".py",
   "mimetype": "text/x-python",
   "name": "python",
   "nbconvert_exporter": "python",
   "pygments_lexer": "ipython3",
   "version": "3.7.9"
  }
 },
 "nbformat": 4,
 "nbformat_minor": 0
}