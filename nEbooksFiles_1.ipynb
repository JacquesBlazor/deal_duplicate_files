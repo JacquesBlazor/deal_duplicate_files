{
 "cells": [
  {
   "cell_type": "code",
   "execution_count": 1,
   "metadata": {
    "collapsed": false,
    "pycharm": {
     "name": "#%%\n"
    }
   },
   "outputs": [],
   "source": [
    "import os\n",
    "import pickle\n",
    "import pandas as pd"
   ]
  },
  {
   "cell_type": "code",
   "execution_count": 2,
   "outputs": [],
   "source": [
    "with open('DuplicateCleanerPro1230_D_E_Z.pkl', 'rb') as f:\n",
    "    df = pickle.load(f)"
   ],
   "metadata": {
    "collapsed": false,
    "pycharm": {
     "name": "#%%\n"
    }
   }
  },
  {
   "cell_type": "code",
   "execution_count": null,
   "outputs": [],
   "source": [
    "df.set_index('磁碟機根目錄').sort_values('檔案資料夾')"
   ],
   "metadata": {
    "collapsed": false,
    "pycharm": {
     "name": "#%%\n"
    }
   }
  },
  {
   "cell_type": "code",
   "execution_count": 61,
   "outputs": [],
   "source": [
    "df.set_index('磁碟機根目錄', inplace=True)"
   ],
   "metadata": {
    "collapsed": false,
    "pycharm": {
     "name": "#%%\n"
    }
   }
  },
  {
   "cell_type": "code",
   "execution_count": 62,
   "outputs": [
    {
     "data": {
      "text/plain": "                                      組別      檔案類型 磁碟機  \\\n磁碟機根目錄                                                   \nZ:\\8分鐘搞懂理財知識_新手教室 Youtube 投資影片教學       1      .mp4  Z:   \nZ:\\8分鐘搞懂理財知識_重新整理過                     1      .mp4  Z:   \nZ:\\Youtube 投資影片教學                      1      .mp4  Z:   \nD:\\8分鐘搞懂理財知識                           1      .mp4  D:   \nD:\\8分鐘搞懂理財知識                           1      .mp4  D:   \n...                                  ...       ...  ..   \nZ:\\資訊書籍文件                         167210    .props  Z:   \nZ:\\資訊書籍文件                         167210    .props  Z:   \nZ:\\資訊書籍文件                         167210    .props  Z:   \nZ:\\資訊書籍文件                         167211  .strings  Z:   \nZ:\\資訊書籍文件                         167211  .strings  Z:   \n\n                                                            根目錄  \\\n磁碟機根目錄                                                            \nZ:\\8分鐘搞懂理財知識_新手教室 Youtube 投資影片教學  8分鐘搞懂理財知識_新手教室 Youtube 投資影片教學   \nZ:\\8分鐘搞懂理財知識_重新整理過                              8分鐘搞懂理財知識_重新整理過   \nZ:\\Youtube 投資影片教學                                Youtube 投資影片教學   \nD:\\8分鐘搞懂理財知識                                          8分鐘搞懂理財知識   \nD:\\8分鐘搞懂理財知識                                          8分鐘搞懂理財知識   \n...                                                         ...   \nZ:\\資訊書籍文件                                                資訊書籍文件   \nZ:\\資訊書籍文件                                                資訊書籍文件   \nZ:\\資訊書籍文件                                                資訊書籍文件   \nZ:\\資訊書籍文件                                                資訊書籍文件   \nZ:\\資訊書籍文件                                                資訊書籍文件   \n\n                                                                                子目錄  \\\n磁碟機根目錄                                                                                \nZ:\\8分鐘搞懂理財知識_新手教室 Youtube 投資影片教學                                                      \nZ:\\8分鐘搞懂理財知識_重新整理過                                                                    \nZ:\\Youtube 投資影片教學                                                                     \nD:\\8分鐘搞懂理財知識                                    _8分鐘搞懂理財知識_原來的 新手教室 Youtube 投資影片教學\\   \nD:\\8分鐘搞懂理財知識                                             _8分鐘搞懂理財知識_整理的 Youtube 影片\\   \n...                                                                             ...   \nZ:\\資訊書籍文件                         Visual C# 一次就懂 ASP.NET MVC5.X 網站開發 Web 應用的經典實務...   \nZ:\\資訊書籍文件                         Visual C# 一次就懂 ASP.NET MVC5.X 網站開發 Web 應用的經典實務...   \nZ:\\資訊書籍文件                         Visual C# 一次就懂 ASP.NET MVC5.X 網站開發 Web 應用的經典實務...   \nZ:\\資訊書籍文件                         iOS 13 程式設計實戰 Swift 5.1SwiftUI 框架 快速上手的開發技巧 20...   \nZ:\\資訊書籍文件                         iOS 13 程式設計實戰 Swift 5.1SwiftUI 框架 快速上手的開發技巧 20...   \n\n                                                               檔案資料夾  \\\n磁碟機根目錄                                                                 \nZ:\\8分鐘搞懂理財知識_新手教室 Youtube 投資影片教學       8分鐘搞懂理財知識_新手教室 Youtube 投資影片教學   \nZ:\\8分鐘搞懂理財知識_重新整理過                                   8分鐘搞懂理財知識_重新整理過   \nZ:\\Youtube 投資影片教學                                     Youtube 投資影片教學   \nD:\\8分鐘搞懂理財知識                      _8分鐘搞懂理財知識_原來的 新手教室 Youtube 投資影片教學   \nD:\\8分鐘搞懂理財知識                               _8分鐘搞懂理財知識_整理的 Youtube 影片   \n...                                                              ...   \nZ:\\資訊書籍文件                                                      net46   \nZ:\\資訊書籍文件                                                      net45   \nZ:\\資訊書籍文件                                                      net46   \nZ:\\資訊書籍文件                                              zh-Hant.lproj   \nZ:\\資訊書籍文件                                              zh-Hant.lproj   \n\n                                                                               檔案名稱  \\\n磁碟機根目錄                                                                                \nZ:\\8分鐘搞懂理財知識_新手教室 Youtube 投資影片教學                 8分鐘搞懂技術分析：RSI的重要價值-WUwaMVSCDYY.mp4   \nZ:\\8分鐘搞懂理財知識_重新整理過                           2015-08-25_2152_技術分析教學_快速搞懂RSI技術指標.mp4   \nZ:\\Youtube 投資影片教學                                8分鐘搞懂技術分析：RSI的重要價值-WUwaMVSCDYY.mp4   \nD:\\8分鐘搞懂理財知識                                     8分鐘搞懂技術分析：RSI的重要價值-WUwaMVSCDYY.mp4   \nD:\\8分鐘搞懂理財知識                                 2015-08-25_2152_技術分析教學_快速搞懂RSI技術指標.mp4   \n...                                                                             ...   \nZ:\\資訊書籍文件                         Microsoft.CodeDom.Providers.DotNetCompilerPlat...   \nZ:\\資訊書籍文件                         Microsoft.CodeDom.Providers.DotNetCompilerPlat...   \nZ:\\資訊書籍文件                         Microsoft.CodeDom.Providers.DotNetCompilerPlat...   \nZ:\\資訊書籍文件                                                      LaunchScreen.strings   \nZ:\\資訊書籍文件                                                      LaunchScreen.strings   \n\n                                                                                 路徑  \\\n磁碟機根目錄                                                                                \nZ:\\8分鐘搞懂理財知識_新手教室 Youtube 投資影片教學                  Z:\\8分鐘搞懂理財知識_新手教室 Youtube 投資影片教學\\   \nZ:\\8分鐘搞懂理財知識_重新整理過                                              Z:\\8分鐘搞懂理財知識_重新整理過\\   \nZ:\\Youtube 投資影片教學                                                Z:\\Youtube 投資影片教學\\   \nD:\\8分鐘搞懂理財知識                       D:\\8分鐘搞懂理財知識\\_8分鐘搞懂理財知識_原來的 新手教室 Youtube 投資影片教學\\   \nD:\\8分鐘搞懂理財知識                                D:\\8分鐘搞懂理財知識\\_8分鐘搞懂理財知識_整理的 Youtube 影片\\   \n...                                                                             ...   \nZ:\\資訊書籍文件                         Z:\\資訊書籍文件\\Visual C# 一次就懂 ASP.NET MVC5.X 網站開發 W...   \nZ:\\資訊書籍文件                         Z:\\資訊書籍文件\\Visual C# 一次就懂 ASP.NET MVC5.X 網站開發 W...   \nZ:\\資訊書籍文件                         Z:\\資訊書籍文件\\Visual C# 一次就懂 ASP.NET MVC5.X 網站開發 W...   \nZ:\\資訊書籍文件                         Z:\\資訊書籍文件\\iOS 13 程式設計實戰 Swift 5.1SwiftUI 框架 快速...   \nZ:\\資訊書籍文件                         Z:\\資訊書籍文件\\iOS 13 程式設計實戰 Swift 5.1SwiftUI 框架 快速...   \n\n                                        大小                   新增日期  \\\n磁碟機根目錄                                                              \nZ:\\8分鐘搞懂理財知識_新手教室 Youtube 投資影片教學  25612876  2021/5/10 下午 05:08:28   \nZ:\\8分鐘搞懂理財知識_重新整理過                25612876  2021/5/11 上午 03:06:53   \nZ:\\Youtube 投資影片教學                 25612876  2021/5/10 下午 04:04:52   \nD:\\8分鐘搞懂理財知識                      25612876  2021/8/18 上午 02:37:16   \nD:\\8分鐘搞懂理財知識                      25612876  2021/8/18 上午 02:38:06   \n...                                    ...                    ...   \nZ:\\資訊書籍文件                             5530   2020/3/7 下午 08:06:24   \nZ:\\資訊書籍文件                             5530   2020/3/7 下午 08:09:52   \nZ:\\資訊書籍文件                             5530   2020/3/7 下午 08:09:53   \nZ:\\資訊書籍文件                                1  2020/2/10 上午 07:58:08   \nZ:\\資訊書籍文件                                1  2020/2/10 上午 07:58:08   \n\n                                                    修改日期  \n磁碟機根目錄                                                    \nZ:\\8分鐘搞懂理財知識_新手教室 Youtube 投資影片教學  2018/11/14 下午 02:12:09  \nZ:\\8分鐘搞懂理財知識_重新整理過                 2021/5/11 上午 02:58:44  \nZ:\\Youtube 投資影片教學                 2018/11/14 下午 02:12:09  \nD:\\8分鐘搞懂理財知識                      2018/11/14 下午 02:12:09  \nD:\\8分鐘搞懂理財知識                       2021/5/11 上午 02:58:44  \n...                                                  ...  \nZ:\\資訊書籍文件                          2018/5/24 上午 05:38:22  \nZ:\\資訊書籍文件                          2018/5/24 上午 05:38:22  \nZ:\\資訊書籍文件                          2018/5/24 上午 05:38:22  \nZ:\\資訊書籍文件                          2019/7/31 上午 07:20:26  \nZ:\\資訊書籍文件                          2019/7/31 上午 07:20:24  \n\n[468169 rows x 11 columns]",
      "text/html": "<div>\n<style scoped>\n    .dataframe tbody tr th:only-of-type {\n        vertical-align: middle;\n    }\n\n    .dataframe tbody tr th {\n        vertical-align: top;\n    }\n\n    .dataframe thead th {\n        text-align: right;\n    }\n</style>\n<table border=\"1\" class=\"dataframe\">\n  <thead>\n    <tr style=\"text-align: right;\">\n      <th></th>\n      <th>組別</th>\n      <th>檔案類型</th>\n      <th>磁碟機</th>\n      <th>根目錄</th>\n      <th>子目錄</th>\n      <th>檔案資料夾</th>\n      <th>檔案名稱</th>\n      <th>路徑</th>\n      <th>大小</th>\n      <th>新增日期</th>\n      <th>修改日期</th>\n    </tr>\n    <tr>\n      <th>磁碟機根目錄</th>\n      <th></th>\n      <th></th>\n      <th></th>\n      <th></th>\n      <th></th>\n      <th></th>\n      <th></th>\n      <th></th>\n      <th></th>\n      <th></th>\n      <th></th>\n    </tr>\n  </thead>\n  <tbody>\n    <tr>\n      <th>Z:\\8分鐘搞懂理財知識_新手教室 Youtube 投資影片教學</th>\n      <td>1</td>\n      <td>.mp4</td>\n      <td>Z:</td>\n      <td>8分鐘搞懂理財知識_新手教室 Youtube 投資影片教學</td>\n      <td></td>\n      <td>8分鐘搞懂理財知識_新手教室 Youtube 投資影片教學</td>\n      <td>8分鐘搞懂技術分析：RSI的重要價值-WUwaMVSCDYY.mp4</td>\n      <td>Z:\\8分鐘搞懂理財知識_新手教室 Youtube 投資影片教學\\</td>\n      <td>25612876</td>\n      <td>2021/5/10 下午 05:08:28</td>\n      <td>2018/11/14 下午 02:12:09</td>\n    </tr>\n    <tr>\n      <th>Z:\\8分鐘搞懂理財知識_重新整理過</th>\n      <td>1</td>\n      <td>.mp4</td>\n      <td>Z:</td>\n      <td>8分鐘搞懂理財知識_重新整理過</td>\n      <td></td>\n      <td>8分鐘搞懂理財知識_重新整理過</td>\n      <td>2015-08-25_2152_技術分析教學_快速搞懂RSI技術指標.mp4</td>\n      <td>Z:\\8分鐘搞懂理財知識_重新整理過\\</td>\n      <td>25612876</td>\n      <td>2021/5/11 上午 03:06:53</td>\n      <td>2021/5/11 上午 02:58:44</td>\n    </tr>\n    <tr>\n      <th>Z:\\Youtube 投資影片教學</th>\n      <td>1</td>\n      <td>.mp4</td>\n      <td>Z:</td>\n      <td>Youtube 投資影片教學</td>\n      <td></td>\n      <td>Youtube 投資影片教學</td>\n      <td>8分鐘搞懂技術分析：RSI的重要價值-WUwaMVSCDYY.mp4</td>\n      <td>Z:\\Youtube 投資影片教學\\</td>\n      <td>25612876</td>\n      <td>2021/5/10 下午 04:04:52</td>\n      <td>2018/11/14 下午 02:12:09</td>\n    </tr>\n    <tr>\n      <th>D:\\8分鐘搞懂理財知識</th>\n      <td>1</td>\n      <td>.mp4</td>\n      <td>D:</td>\n      <td>8分鐘搞懂理財知識</td>\n      <td>_8分鐘搞懂理財知識_原來的 新手教室 Youtube 投資影片教學\\</td>\n      <td>_8分鐘搞懂理財知識_原來的 新手教室 Youtube 投資影片教學</td>\n      <td>8分鐘搞懂技術分析：RSI的重要價值-WUwaMVSCDYY.mp4</td>\n      <td>D:\\8分鐘搞懂理財知識\\_8分鐘搞懂理財知識_原來的 新手教室 Youtube 投資影片教學\\</td>\n      <td>25612876</td>\n      <td>2021/8/18 上午 02:37:16</td>\n      <td>2018/11/14 下午 02:12:09</td>\n    </tr>\n    <tr>\n      <th>D:\\8分鐘搞懂理財知識</th>\n      <td>1</td>\n      <td>.mp4</td>\n      <td>D:</td>\n      <td>8分鐘搞懂理財知識</td>\n      <td>_8分鐘搞懂理財知識_整理的 Youtube 影片\\</td>\n      <td>_8分鐘搞懂理財知識_整理的 Youtube 影片</td>\n      <td>2015-08-25_2152_技術分析教學_快速搞懂RSI技術指標.mp4</td>\n      <td>D:\\8分鐘搞懂理財知識\\_8分鐘搞懂理財知識_整理的 Youtube 影片\\</td>\n      <td>25612876</td>\n      <td>2021/8/18 上午 02:38:06</td>\n      <td>2021/5/11 上午 02:58:44</td>\n    </tr>\n    <tr>\n      <th>...</th>\n      <td>...</td>\n      <td>...</td>\n      <td>...</td>\n      <td>...</td>\n      <td>...</td>\n      <td>...</td>\n      <td>...</td>\n      <td>...</td>\n      <td>...</td>\n      <td>...</td>\n      <td>...</td>\n    </tr>\n    <tr>\n      <th>Z:\\資訊書籍文件</th>\n      <td>167210</td>\n      <td>.props</td>\n      <td>Z:</td>\n      <td>資訊書籍文件</td>\n      <td>Visual C# 一次就懂 ASP.NET MVC5.X 網站開發 Web 應用的經典實務...</td>\n      <td>net46</td>\n      <td>Microsoft.CodeDom.Providers.DotNetCompilerPlat...</td>\n      <td>Z:\\資訊書籍文件\\Visual C# 一次就懂 ASP.NET MVC5.X 網站開發 W...</td>\n      <td>5530</td>\n      <td>2020/3/7 下午 08:06:24</td>\n      <td>2018/5/24 上午 05:38:22</td>\n    </tr>\n    <tr>\n      <th>Z:\\資訊書籍文件</th>\n      <td>167210</td>\n      <td>.props</td>\n      <td>Z:</td>\n      <td>資訊書籍文件</td>\n      <td>Visual C# 一次就懂 ASP.NET MVC5.X 網站開發 Web 應用的經典實務...</td>\n      <td>net45</td>\n      <td>Microsoft.CodeDom.Providers.DotNetCompilerPlat...</td>\n      <td>Z:\\資訊書籍文件\\Visual C# 一次就懂 ASP.NET MVC5.X 網站開發 W...</td>\n      <td>5530</td>\n      <td>2020/3/7 下午 08:09:52</td>\n      <td>2018/5/24 上午 05:38:22</td>\n    </tr>\n    <tr>\n      <th>Z:\\資訊書籍文件</th>\n      <td>167210</td>\n      <td>.props</td>\n      <td>Z:</td>\n      <td>資訊書籍文件</td>\n      <td>Visual C# 一次就懂 ASP.NET MVC5.X 網站開發 Web 應用的經典實務...</td>\n      <td>net46</td>\n      <td>Microsoft.CodeDom.Providers.DotNetCompilerPlat...</td>\n      <td>Z:\\資訊書籍文件\\Visual C# 一次就懂 ASP.NET MVC5.X 網站開發 W...</td>\n      <td>5530</td>\n      <td>2020/3/7 下午 08:09:53</td>\n      <td>2018/5/24 上午 05:38:22</td>\n    </tr>\n    <tr>\n      <th>Z:\\資訊書籍文件</th>\n      <td>167211</td>\n      <td>.strings</td>\n      <td>Z:</td>\n      <td>資訊書籍文件</td>\n      <td>iOS 13 程式設計實戰 Swift 5.1SwiftUI 框架 快速上手的開發技巧 20...</td>\n      <td>zh-Hant.lproj</td>\n      <td>LaunchScreen.strings</td>\n      <td>Z:\\資訊書籍文件\\iOS 13 程式設計實戰 Swift 5.1SwiftUI 框架 快速...</td>\n      <td>1</td>\n      <td>2020/2/10 上午 07:58:08</td>\n      <td>2019/7/31 上午 07:20:26</td>\n    </tr>\n    <tr>\n      <th>Z:\\資訊書籍文件</th>\n      <td>167211</td>\n      <td>.strings</td>\n      <td>Z:</td>\n      <td>資訊書籍文件</td>\n      <td>iOS 13 程式設計實戰 Swift 5.1SwiftUI 框架 快速上手的開發技巧 20...</td>\n      <td>zh-Hant.lproj</td>\n      <td>LaunchScreen.strings</td>\n      <td>Z:\\資訊書籍文件\\iOS 13 程式設計實戰 Swift 5.1SwiftUI 框架 快速...</td>\n      <td>1</td>\n      <td>2020/2/10 上午 07:58:08</td>\n      <td>2019/7/31 上午 07:20:24</td>\n    </tr>\n  </tbody>\n</table>\n<p>468169 rows × 11 columns</p>\n</div>"
     },
     "execution_count": 62,
     "metadata": {},
     "output_type": "execute_result"
    }
   ],
   "source": [
    "df"
   ],
   "metadata": {
    "collapsed": false,
    "pycharm": {
     "name": "#%%\n"
    }
   }
  },
  {
   "cell_type": "code",
   "execution_count": 82,
   "outputs": [],
   "source": [
    "folder_lists = df[df['組別'] == 1].index.to_list()"
   ],
   "metadata": {
    "collapsed": false,
    "pycharm": {
     "name": "#%%\n"
    }
   }
  },
  {
   "cell_type": "code",
   "execution_count": 113,
   "outputs": [
    {
     "name": "stdout",
     "output_type": "stream",
     "text": [
      "Z:\\8分鐘搞懂理財知識_新手教室 Youtube 投資影片教學 153\n",
      "Z:\\8分鐘搞懂理財知識_重新整理過 140\n",
      "Z:\\Youtube 投資影片教學 153\n",
      "D:\\8分鐘搞懂理財知識 437\n",
      "D:\\8分鐘搞懂理財知識 437\n",
      "D:\\8分鐘搞懂理財知識 437\n"
     ]
    }
   ],
   "source": [
    "for folder in folder_lists:\n",
    "    print(folder, len(df.loc[folder]['檔案類型']=='.mp4'))"
   ],
   "metadata": {
    "collapsed": false,
    "pycharm": {
     "name": "#%%\n"
    }
   }
  },
  {
   "cell_type": "code",
   "execution_count": 120,
   "outputs": [],
   "source": [
    "by_folders = df.loc[folder].groupby('檔案資料夾')"
   ],
   "metadata": {
    "collapsed": false,
    "pycharm": {
     "name": "#%%\n"
    }
   }
  },
  {
   "cell_type": "code",
   "execution_count": 121,
   "outputs": [
    {
     "data": {
      "text/plain": "                                          組別  檔案類型  磁碟機  根目錄  子目錄  檔案名稱   路徑  \\\n檔案資料夾                                                                          \n2015-08-19_1241_理財觀念_明牌是好康道相報，還是挖洞給你跳？     1     1    1    1    1     1    1   \n2015-08-25_2152_技術分析教學_快速搞懂RSI技術指標         1     1    1    1    1     1    1   \n2015-08-31_1255_理財觀念_快速搞懂期貨是什麼（上）          1     1    1    1    1     1    1   \n2015-09-07_1622_理財觀念_快速搞懂期貨是什麼（下）          1     1    1    1    1     1    1   \n2015-09-14_1513_技術分析教學_均線的進階應用：均線扣抵        1     1    1    1    1     1    1   \n...                                      ...   ...  ...  ...  ...   ...  ...   \n2020-12-14_1753_理財觀念_除權息的應用概念              1     1    1    1    1     1    1   \n2020-12-29_1656_理財觀念_關於零股交易新制，你不可不知的6件事    1     1    1    1    1     1    1   \n_8分鐘搞懂理財知識_原來的 新手教室 Youtube 投資影片教學       153   153  153  153  153   153  153   \n_8分鐘搞懂理財知識_整理的 Youtube 影片                140   140  140  140  140   140  140   \n_8分鐘理財學堂_HiStock嗨投資理財社群_程式                 1     1    1    1    1     1    1   \n\n                                          大小  新增日期  修改日期  \n檔案資料夾                                                     \n2015-08-19_1241_理財觀念_明牌是好康道相報，還是挖洞給你跳？     1     1     1  \n2015-08-25_2152_技術分析教學_快速搞懂RSI技術指標         1     1     1  \n2015-08-31_1255_理財觀念_快速搞懂期貨是什麼（上）          1     1     1  \n2015-09-07_1622_理財觀念_快速搞懂期貨是什麼（下）          1     1     1  \n2015-09-14_1513_技術分析教學_均線的進階應用：均線扣抵        1     1     1  \n...                                      ...   ...   ...  \n2020-12-14_1753_理財觀念_除權息的應用概念              1     1     1  \n2020-12-29_1656_理財觀念_關於零股交易新制，你不可不知的6件事    1     1     1  \n_8分鐘搞懂理財知識_原來的 新手教室 Youtube 投資影片教學       153   153   153  \n_8分鐘搞懂理財知識_整理的 Youtube 影片                140   140   140  \n_8分鐘理財學堂_HiStock嗨投資理財社群_程式                 1     1     1  \n\n[146 rows x 10 columns]",
      "text/html": "<div>\n<style scoped>\n    .dataframe tbody tr th:only-of-type {\n        vertical-align: middle;\n    }\n\n    .dataframe tbody tr th {\n        vertical-align: top;\n    }\n\n    .dataframe thead th {\n        text-align: right;\n    }\n</style>\n<table border=\"1\" class=\"dataframe\">\n  <thead>\n    <tr style=\"text-align: right;\">\n      <th></th>\n      <th>組別</th>\n      <th>檔案類型</th>\n      <th>磁碟機</th>\n      <th>根目錄</th>\n      <th>子目錄</th>\n      <th>檔案名稱</th>\n      <th>路徑</th>\n      <th>大小</th>\n      <th>新增日期</th>\n      <th>修改日期</th>\n    </tr>\n    <tr>\n      <th>檔案資料夾</th>\n      <th></th>\n      <th></th>\n      <th></th>\n      <th></th>\n      <th></th>\n      <th></th>\n      <th></th>\n      <th></th>\n      <th></th>\n      <th></th>\n    </tr>\n  </thead>\n  <tbody>\n    <tr>\n      <th>2015-08-19_1241_理財觀念_明牌是好康道相報，還是挖洞給你跳？</th>\n      <td>1</td>\n      <td>1</td>\n      <td>1</td>\n      <td>1</td>\n      <td>1</td>\n      <td>1</td>\n      <td>1</td>\n      <td>1</td>\n      <td>1</td>\n      <td>1</td>\n    </tr>\n    <tr>\n      <th>2015-08-25_2152_技術分析教學_快速搞懂RSI技術指標</th>\n      <td>1</td>\n      <td>1</td>\n      <td>1</td>\n      <td>1</td>\n      <td>1</td>\n      <td>1</td>\n      <td>1</td>\n      <td>1</td>\n      <td>1</td>\n      <td>1</td>\n    </tr>\n    <tr>\n      <th>2015-08-31_1255_理財觀念_快速搞懂期貨是什麼（上）</th>\n      <td>1</td>\n      <td>1</td>\n      <td>1</td>\n      <td>1</td>\n      <td>1</td>\n      <td>1</td>\n      <td>1</td>\n      <td>1</td>\n      <td>1</td>\n      <td>1</td>\n    </tr>\n    <tr>\n      <th>2015-09-07_1622_理財觀念_快速搞懂期貨是什麼（下）</th>\n      <td>1</td>\n      <td>1</td>\n      <td>1</td>\n      <td>1</td>\n      <td>1</td>\n      <td>1</td>\n      <td>1</td>\n      <td>1</td>\n      <td>1</td>\n      <td>1</td>\n    </tr>\n    <tr>\n      <th>2015-09-14_1513_技術分析教學_均線的進階應用：均線扣抵</th>\n      <td>1</td>\n      <td>1</td>\n      <td>1</td>\n      <td>1</td>\n      <td>1</td>\n      <td>1</td>\n      <td>1</td>\n      <td>1</td>\n      <td>1</td>\n      <td>1</td>\n    </tr>\n    <tr>\n      <th>...</th>\n      <td>...</td>\n      <td>...</td>\n      <td>...</td>\n      <td>...</td>\n      <td>...</td>\n      <td>...</td>\n      <td>...</td>\n      <td>...</td>\n      <td>...</td>\n      <td>...</td>\n    </tr>\n    <tr>\n      <th>2020-12-14_1753_理財觀念_除權息的應用概念</th>\n      <td>1</td>\n      <td>1</td>\n      <td>1</td>\n      <td>1</td>\n      <td>1</td>\n      <td>1</td>\n      <td>1</td>\n      <td>1</td>\n      <td>1</td>\n      <td>1</td>\n    </tr>\n    <tr>\n      <th>2020-12-29_1656_理財觀念_關於零股交易新制，你不可不知的6件事</th>\n      <td>1</td>\n      <td>1</td>\n      <td>1</td>\n      <td>1</td>\n      <td>1</td>\n      <td>1</td>\n      <td>1</td>\n      <td>1</td>\n      <td>1</td>\n      <td>1</td>\n    </tr>\n    <tr>\n      <th>_8分鐘搞懂理財知識_原來的 新手教室 Youtube 投資影片教學</th>\n      <td>153</td>\n      <td>153</td>\n      <td>153</td>\n      <td>153</td>\n      <td>153</td>\n      <td>153</td>\n      <td>153</td>\n      <td>153</td>\n      <td>153</td>\n      <td>153</td>\n    </tr>\n    <tr>\n      <th>_8分鐘搞懂理財知識_整理的 Youtube 影片</th>\n      <td>140</td>\n      <td>140</td>\n      <td>140</td>\n      <td>140</td>\n      <td>140</td>\n      <td>140</td>\n      <td>140</td>\n      <td>140</td>\n      <td>140</td>\n      <td>140</td>\n    </tr>\n    <tr>\n      <th>_8分鐘理財學堂_HiStock嗨投資理財社群_程式</th>\n      <td>1</td>\n      <td>1</td>\n      <td>1</td>\n      <td>1</td>\n      <td>1</td>\n      <td>1</td>\n      <td>1</td>\n      <td>1</td>\n      <td>1</td>\n      <td>1</td>\n    </tr>\n  </tbody>\n</table>\n<p>146 rows × 10 columns</p>\n</div>"
     },
     "execution_count": 121,
     "metadata": {},
     "output_type": "execute_result"
    }
   ],
   "source": [
    "by_folders.count()"
   ],
   "metadata": {
    "collapsed": false,
    "pycharm": {
     "name": "#%%\n"
    }
   }
  },
  {
   "cell_type": "code",
   "execution_count": 131,
   "outputs": [
    {
     "data": {
      "text/plain": "               組別  檔案類型 磁碟機        根目錄                                  子目錄  \\\n磁碟機根目錄                                                                        \nD:\\8分鐘搞懂理財知識    1  .mp4  D:  8分鐘搞懂理財知識  _8分鐘搞懂理財知識_原來的 新手教室 Youtube 投資影片教學\\   \nD:\\8分鐘搞懂理財知識    2  .mp4  D:  8分鐘搞懂理財知識  _8分鐘搞懂理財知識_原來的 新手教室 Youtube 投資影片教學\\   \nD:\\8分鐘搞懂理財知識    3  .mp4  D:  8分鐘搞懂理財知識  _8分鐘搞懂理財知識_原來的 新手教室 Youtube 投資影片教學\\   \nD:\\8分鐘搞懂理財知識    4  .mp4  D:  8分鐘搞懂理財知識  _8分鐘搞懂理財知識_原來的 新手教室 Youtube 投資影片教學\\   \nD:\\8分鐘搞懂理財知識    5  .mp4  D:  8分鐘搞懂理財知識  _8分鐘搞懂理財知識_原來的 新手教室 Youtube 投資影片教學\\   \n...           ...   ...  ..        ...                                  ...   \nD:\\8分鐘搞懂理財知識  149  .mp4  D:  8分鐘搞懂理財知識  _8分鐘搞懂理財知識_原來的 新手教室 Youtube 投資影片教學\\   \nD:\\8分鐘搞懂理財知識  150  .mp4  D:  8分鐘搞懂理財知識  _8分鐘搞懂理財知識_原來的 新手教室 Youtube 投資影片教學\\   \nD:\\8分鐘搞懂理財知識  151  .mp4  D:  8分鐘搞懂理財知識  _8分鐘搞懂理財知識_原來的 新手教室 Youtube 投資影片教學\\   \nD:\\8分鐘搞懂理財知識  152  .mp4  D:  8分鐘搞懂理財知識  _8分鐘搞懂理財知識_原來的 新手教室 Youtube 投資影片教學\\   \nD:\\8分鐘搞懂理財知識  153  .mp4  D:  8分鐘搞懂理財知識  _8分鐘搞懂理財知識_原來的 新手教室 Youtube 投資影片教學\\   \n\n                                           檔案資料夾  \\\n磁碟機根目錄                                             \nD:\\8分鐘搞懂理財知識  _8分鐘搞懂理財知識_原來的 新手教室 Youtube 投資影片教學   \nD:\\8分鐘搞懂理財知識  _8分鐘搞懂理財知識_原來的 新手教室 Youtube 投資影片教學   \nD:\\8分鐘搞懂理財知識  _8分鐘搞懂理財知識_原來的 新手教室 Youtube 投資影片教學   \nD:\\8分鐘搞懂理財知識  _8分鐘搞懂理財知識_原來的 新手教室 Youtube 投資影片教學   \nD:\\8分鐘搞懂理財知識  _8分鐘搞懂理財知識_原來的 新手教室 Youtube 投資影片教學   \n...                                          ...   \nD:\\8分鐘搞懂理財知識  _8分鐘搞懂理財知識_原來的 新手教室 Youtube 投資影片教學   \nD:\\8分鐘搞懂理財知識  _8分鐘搞懂理財知識_原來的 新手教室 Youtube 投資影片教學   \nD:\\8分鐘搞懂理財知識  _8分鐘搞懂理財知識_原來的 新手教室 Youtube 投資影片教學   \nD:\\8分鐘搞懂理財知識  _8分鐘搞懂理財知識_原來的 新手教室 Youtube 投資影片教學   \nD:\\8分鐘搞懂理財知識  _8分鐘搞懂理財知識_原來的 新手教室 Youtube 投資影片教學   \n\n                                                          檔案名稱  \\\n磁碟機根目錄                                                           \nD:\\8分鐘搞懂理財知識                8分鐘搞懂技術分析：RSI的重要價值-WUwaMVSCDYY.mp4   \nD:\\8分鐘搞懂理財知識               8分鐘搞懂理財知識：期貨新手教室（下）-K7ETmfHiw3M.mp4   \nD:\\8分鐘搞懂理財知識                    8分鐘搞懂技術分析：均線扣抵-2VKhGSE3gRM.mp4   \nD:\\8分鐘搞懂理財知識  8分鐘搞懂技術分析：什麼是「缺口」，教你抓出K線變化所傳遞的訊號-HTSbeSb-gRM.mp4   \nD:\\8分鐘搞懂理財知識            8分鐘搞懂理財觀念：正確的殖息(殖利)率概念-W7Y2rXu4EeQ.mp4   \n...                                                        ...   \nD:\\8分鐘搞懂理財知識           認識葛蘭碧八大法則︱《3分鐘投資技巧》甘木小編-jBYAuvV9qRs.mp4   \nD:\\8分鐘搞懂理財知識        進階ETF— 陸股ETF︱《3分鐘投資技巧》甘木小編--Z08nUunG6A.mp4   \nD:\\8分鐘搞懂理財知識  關於零股交易新制，你不可不知的6件事︱《3分鐘投資技巧》甘木小編-3MShipOPZnU.mp4   \nD:\\8分鐘搞懂理財知識            除權息的基本概念︱《3分鐘投資技巧》甘木小編-JseLyFRYGL0.mp4   \nD:\\8分鐘搞懂理財知識            除權息的應用概念︱《3分鐘投資技巧》甘木小編-E0yml_or9hM.mp4   \n\n                                                            路徑        大小  \\\n磁碟機根目錄                                                                     \nD:\\8分鐘搞懂理財知識  D:\\8分鐘搞懂理財知識\\_8分鐘搞懂理財知識_原來的 新手教室 Youtube 投資影片教學\\  25612876   \nD:\\8分鐘搞懂理財知識  D:\\8分鐘搞懂理財知識\\_8分鐘搞懂理財知識_原來的 新手教室 Youtube 投資影片教學\\  30304434   \nD:\\8分鐘搞懂理財知識  D:\\8分鐘搞懂理財知識\\_8分鐘搞懂理財知識_原來的 新手教室 Youtube 投資影片教學\\  22989551   \nD:\\8分鐘搞懂理財知識  D:\\8分鐘搞懂理財知識\\_8分鐘搞懂理財知識_原來的 新手教室 Youtube 投資影片教學\\  24669692   \nD:\\8分鐘搞懂理財知識  D:\\8分鐘搞懂理財知識\\_8分鐘搞懂理財知識_原來的 新手教室 Youtube 投資影片教學\\  17973136   \n...                                                        ...       ...   \nD:\\8分鐘搞懂理財知識  D:\\8分鐘搞懂理財知識\\_8分鐘搞懂理財知識_原來的 新手教室 Youtube 投資影片教學\\  22879809   \nD:\\8分鐘搞懂理財知識  D:\\8分鐘搞懂理財知識\\_8分鐘搞懂理財知識_原來的 新手教室 Youtube 投資影片教學\\  18111045   \nD:\\8分鐘搞懂理財知識  D:\\8分鐘搞懂理財知識\\_8分鐘搞懂理財知識_原來的 新手教室 Youtube 投資影片教學\\  22960232   \nD:\\8分鐘搞懂理財知識  D:\\8分鐘搞懂理財知識\\_8分鐘搞懂理財知識_原來的 新手教室 Youtube 投資影片教學\\  33604243   \nD:\\8分鐘搞懂理財知識  D:\\8分鐘搞懂理財知識\\_8分鐘搞懂理財知識_原來的 新手教室 Youtube 投資影片教學\\  24997907   \n\n                               新增日期                    修改日期  \n磁碟機根目錄                                                       \nD:\\8分鐘搞懂理財知識  2021/8/18 上午 02:37:16  2018/11/14 下午 02:12:09  \nD:\\8分鐘搞懂理財知識  2021/8/18 上午 02:37:25    2015/9/9 下午 12:31:30  \nD:\\8分鐘搞懂理財知識  2021/8/18 上午 02:37:17   2018/11/1 上午 12:32:34  \nD:\\8分鐘搞懂理財知識  2021/8/18 上午 02:37:17  2015/10/22 下午 05:48:04  \nD:\\8分鐘搞懂理財知識  2021/8/18 上午 02:37:30   2015/11/9 下午 03:51:44  \n...                             ...                     ...  \nD:\\8分鐘搞懂理財知識  2021/8/18 上午 02:38:03  2020/12/11 上午 03:00:38  \nD:\\8分鐘搞懂理財知識  2021/8/18 上午 02:38:04  2018/11/26 下午 05:25:41  \nD:\\8分鐘搞懂理財知識  2021/8/18 上午 02:38:04  2020/12/29 下午 03:40:09  \nD:\\8分鐘搞懂理財知識  2021/8/18 上午 02:38:05   2020/11/5 下午 06:28:58  \nD:\\8分鐘搞懂理財知識  2021/8/18 上午 02:38:05  2020/12/14 下午 05:36:55  \n\n[153 rows x 11 columns]",
      "text/html": "<div>\n<style scoped>\n    .dataframe tbody tr th:only-of-type {\n        vertical-align: middle;\n    }\n\n    .dataframe tbody tr th {\n        vertical-align: top;\n    }\n\n    .dataframe thead th {\n        text-align: right;\n    }\n</style>\n<table border=\"1\" class=\"dataframe\">\n  <thead>\n    <tr style=\"text-align: right;\">\n      <th></th>\n      <th>組別</th>\n      <th>檔案類型</th>\n      <th>磁碟機</th>\n      <th>根目錄</th>\n      <th>子目錄</th>\n      <th>檔案資料夾</th>\n      <th>檔案名稱</th>\n      <th>路徑</th>\n      <th>大小</th>\n      <th>新增日期</th>\n      <th>修改日期</th>\n    </tr>\n    <tr>\n      <th>磁碟機根目錄</th>\n      <th></th>\n      <th></th>\n      <th></th>\n      <th></th>\n      <th></th>\n      <th></th>\n      <th></th>\n      <th></th>\n      <th></th>\n      <th></th>\n      <th></th>\n    </tr>\n  </thead>\n  <tbody>\n    <tr>\n      <th>D:\\8分鐘搞懂理財知識</th>\n      <td>1</td>\n      <td>.mp4</td>\n      <td>D:</td>\n      <td>8分鐘搞懂理財知識</td>\n      <td>_8分鐘搞懂理財知識_原來的 新手教室 Youtube 投資影片教學\\</td>\n      <td>_8分鐘搞懂理財知識_原來的 新手教室 Youtube 投資影片教學</td>\n      <td>8分鐘搞懂技術分析：RSI的重要價值-WUwaMVSCDYY.mp4</td>\n      <td>D:\\8分鐘搞懂理財知識\\_8分鐘搞懂理財知識_原來的 新手教室 Youtube 投資影片教學\\</td>\n      <td>25612876</td>\n      <td>2021/8/18 上午 02:37:16</td>\n      <td>2018/11/14 下午 02:12:09</td>\n    </tr>\n    <tr>\n      <th>D:\\8分鐘搞懂理財知識</th>\n      <td>2</td>\n      <td>.mp4</td>\n      <td>D:</td>\n      <td>8分鐘搞懂理財知識</td>\n      <td>_8分鐘搞懂理財知識_原來的 新手教室 Youtube 投資影片教學\\</td>\n      <td>_8分鐘搞懂理財知識_原來的 新手教室 Youtube 投資影片教學</td>\n      <td>8分鐘搞懂理財知識：期貨新手教室（下）-K7ETmfHiw3M.mp4</td>\n      <td>D:\\8分鐘搞懂理財知識\\_8分鐘搞懂理財知識_原來的 新手教室 Youtube 投資影片教學\\</td>\n      <td>30304434</td>\n      <td>2021/8/18 上午 02:37:25</td>\n      <td>2015/9/9 下午 12:31:30</td>\n    </tr>\n    <tr>\n      <th>D:\\8分鐘搞懂理財知識</th>\n      <td>3</td>\n      <td>.mp4</td>\n      <td>D:</td>\n      <td>8分鐘搞懂理財知識</td>\n      <td>_8分鐘搞懂理財知識_原來的 新手教室 Youtube 投資影片教學\\</td>\n      <td>_8分鐘搞懂理財知識_原來的 新手教室 Youtube 投資影片教學</td>\n      <td>8分鐘搞懂技術分析：均線扣抵-2VKhGSE3gRM.mp4</td>\n      <td>D:\\8分鐘搞懂理財知識\\_8分鐘搞懂理財知識_原來的 新手教室 Youtube 投資影片教學\\</td>\n      <td>22989551</td>\n      <td>2021/8/18 上午 02:37:17</td>\n      <td>2018/11/1 上午 12:32:34</td>\n    </tr>\n    <tr>\n      <th>D:\\8分鐘搞懂理財知識</th>\n      <td>4</td>\n      <td>.mp4</td>\n      <td>D:</td>\n      <td>8分鐘搞懂理財知識</td>\n      <td>_8分鐘搞懂理財知識_原來的 新手教室 Youtube 投資影片教學\\</td>\n      <td>_8分鐘搞懂理財知識_原來的 新手教室 Youtube 投資影片教學</td>\n      <td>8分鐘搞懂技術分析：什麼是「缺口」，教你抓出K線變化所傳遞的訊號-HTSbeSb-gRM.mp4</td>\n      <td>D:\\8分鐘搞懂理財知識\\_8分鐘搞懂理財知識_原來的 新手教室 Youtube 投資影片教學\\</td>\n      <td>24669692</td>\n      <td>2021/8/18 上午 02:37:17</td>\n      <td>2015/10/22 下午 05:48:04</td>\n    </tr>\n    <tr>\n      <th>D:\\8分鐘搞懂理財知識</th>\n      <td>5</td>\n      <td>.mp4</td>\n      <td>D:</td>\n      <td>8分鐘搞懂理財知識</td>\n      <td>_8分鐘搞懂理財知識_原來的 新手教室 Youtube 投資影片教學\\</td>\n      <td>_8分鐘搞懂理財知識_原來的 新手教室 Youtube 投資影片教學</td>\n      <td>8分鐘搞懂理財觀念：正確的殖息(殖利)率概念-W7Y2rXu4EeQ.mp4</td>\n      <td>D:\\8分鐘搞懂理財知識\\_8分鐘搞懂理財知識_原來的 新手教室 Youtube 投資影片教學\\</td>\n      <td>17973136</td>\n      <td>2021/8/18 上午 02:37:30</td>\n      <td>2015/11/9 下午 03:51:44</td>\n    </tr>\n    <tr>\n      <th>...</th>\n      <td>...</td>\n      <td>...</td>\n      <td>...</td>\n      <td>...</td>\n      <td>...</td>\n      <td>...</td>\n      <td>...</td>\n      <td>...</td>\n      <td>...</td>\n      <td>...</td>\n      <td>...</td>\n    </tr>\n    <tr>\n      <th>D:\\8分鐘搞懂理財知識</th>\n      <td>149</td>\n      <td>.mp4</td>\n      <td>D:</td>\n      <td>8分鐘搞懂理財知識</td>\n      <td>_8分鐘搞懂理財知識_原來的 新手教室 Youtube 投資影片教學\\</td>\n      <td>_8分鐘搞懂理財知識_原來的 新手教室 Youtube 投資影片教學</td>\n      <td>認識葛蘭碧八大法則︱《3分鐘投資技巧》甘木小編-jBYAuvV9qRs.mp4</td>\n      <td>D:\\8分鐘搞懂理財知識\\_8分鐘搞懂理財知識_原來的 新手教室 Youtube 投資影片教學\\</td>\n      <td>22879809</td>\n      <td>2021/8/18 上午 02:38:03</td>\n      <td>2020/12/11 上午 03:00:38</td>\n    </tr>\n    <tr>\n      <th>D:\\8分鐘搞懂理財知識</th>\n      <td>150</td>\n      <td>.mp4</td>\n      <td>D:</td>\n      <td>8分鐘搞懂理財知識</td>\n      <td>_8分鐘搞懂理財知識_原來的 新手教室 Youtube 投資影片教學\\</td>\n      <td>_8分鐘搞懂理財知識_原來的 新手教室 Youtube 投資影片教學</td>\n      <td>進階ETF— 陸股ETF︱《3分鐘投資技巧》甘木小編--Z08nUunG6A.mp4</td>\n      <td>D:\\8分鐘搞懂理財知識\\_8分鐘搞懂理財知識_原來的 新手教室 Youtube 投資影片教學\\</td>\n      <td>18111045</td>\n      <td>2021/8/18 上午 02:38:04</td>\n      <td>2018/11/26 下午 05:25:41</td>\n    </tr>\n    <tr>\n      <th>D:\\8分鐘搞懂理財知識</th>\n      <td>151</td>\n      <td>.mp4</td>\n      <td>D:</td>\n      <td>8分鐘搞懂理財知識</td>\n      <td>_8分鐘搞懂理財知識_原來的 新手教室 Youtube 投資影片教學\\</td>\n      <td>_8分鐘搞懂理財知識_原來的 新手教室 Youtube 投資影片教學</td>\n      <td>關於零股交易新制，你不可不知的6件事︱《3分鐘投資技巧》甘木小編-3MShipOPZnU.mp4</td>\n      <td>D:\\8分鐘搞懂理財知識\\_8分鐘搞懂理財知識_原來的 新手教室 Youtube 投資影片教學\\</td>\n      <td>22960232</td>\n      <td>2021/8/18 上午 02:38:04</td>\n      <td>2020/12/29 下午 03:40:09</td>\n    </tr>\n    <tr>\n      <th>D:\\8分鐘搞懂理財知識</th>\n      <td>152</td>\n      <td>.mp4</td>\n      <td>D:</td>\n      <td>8分鐘搞懂理財知識</td>\n      <td>_8分鐘搞懂理財知識_原來的 新手教室 Youtube 投資影片教學\\</td>\n      <td>_8分鐘搞懂理財知識_原來的 新手教室 Youtube 投資影片教學</td>\n      <td>除權息的基本概念︱《3分鐘投資技巧》甘木小編-JseLyFRYGL0.mp4</td>\n      <td>D:\\8分鐘搞懂理財知識\\_8分鐘搞懂理財知識_原來的 新手教室 Youtube 投資影片教學\\</td>\n      <td>33604243</td>\n      <td>2021/8/18 上午 02:38:05</td>\n      <td>2020/11/5 下午 06:28:58</td>\n    </tr>\n    <tr>\n      <th>D:\\8分鐘搞懂理財知識</th>\n      <td>153</td>\n      <td>.mp4</td>\n      <td>D:</td>\n      <td>8分鐘搞懂理財知識</td>\n      <td>_8分鐘搞懂理財知識_原來的 新手教室 Youtube 投資影片教學\\</td>\n      <td>_8分鐘搞懂理財知識_原來的 新手教室 Youtube 投資影片教學</td>\n      <td>除權息的應用概念︱《3分鐘投資技巧》甘木小編-E0yml_or9hM.mp4</td>\n      <td>D:\\8分鐘搞懂理財知識\\_8分鐘搞懂理財知識_原來的 新手教室 Youtube 投資影片教學\\</td>\n      <td>24997907</td>\n      <td>2021/8/18 上午 02:38:05</td>\n      <td>2020/12/14 下午 05:36:55</td>\n    </tr>\n  </tbody>\n</table>\n<p>153 rows × 11 columns</p>\n</div>"
     },
     "execution_count": 131,
     "metadata": {},
     "output_type": "execute_result"
    }
   ],
   "source": [
    "df.loc[folder][df.loc[folder]['檔案資料夾']=='_8分鐘搞懂理財知識_原來的 新手教室 Youtube 投資影片教學']"
   ],
   "metadata": {
    "collapsed": false,
    "pycharm": {
     "name": "#%%\n"
    }
   }
  },
  {
   "cell_type": "code",
   "execution_count": 132,
   "outputs": [
    {
     "data": {
      "text/plain": "               組別  檔案類型 磁碟機        根目錄                         子目錄  \\\n磁碟機根目錄                                                               \nD:\\8分鐘搞懂理財知識    1  .mp4  D:  8分鐘搞懂理財知識  _8分鐘搞懂理財知識_整理的 Youtube 影片\\   \nD:\\8分鐘搞懂理財知識    2  .mp4  D:  8分鐘搞懂理財知識  _8分鐘搞懂理財知識_整理的 Youtube 影片\\   \nD:\\8分鐘搞懂理財知識    3  .mp4  D:  8分鐘搞懂理財知識  _8分鐘搞懂理財知識_整理的 Youtube 影片\\   \nD:\\8分鐘搞懂理財知識    4  .mp4  D:  8分鐘搞懂理財知識  _8分鐘搞懂理財知識_整理的 Youtube 影片\\   \nD:\\8分鐘搞懂理財知識    5  .mp4  D:  8分鐘搞懂理財知識  _8分鐘搞懂理財知識_整理的 Youtube 影片\\   \n...           ...   ...  ..        ...                         ...   \nD:\\8分鐘搞懂理財知識  219  .mp4  D:  8分鐘搞懂理財知識  _8分鐘搞懂理財知識_整理的 Youtube 影片\\   \nD:\\8分鐘搞懂理財知識  220  .mp4  D:  8分鐘搞懂理財知識  _8分鐘搞懂理財知識_整理的 Youtube 影片\\   \nD:\\8分鐘搞懂理財知識  221  .mp4  D:  8分鐘搞懂理財知識  _8分鐘搞懂理財知識_整理的 Youtube 影片\\   \nD:\\8分鐘搞懂理財知識  222  .mp4  D:  8分鐘搞懂理財知識  _8分鐘搞懂理財知識_整理的 Youtube 影片\\   \nD:\\8分鐘搞懂理財知識  223  .mp4  D:  8分鐘搞懂理財知識  _8分鐘搞懂理財知識_整理的 Youtube 影片\\   \n\n                                  檔案資料夾  \\\n磁碟機根目錄                                    \nD:\\8分鐘搞懂理財知識  _8分鐘搞懂理財知識_整理的 Youtube 影片   \nD:\\8分鐘搞懂理財知識  _8分鐘搞懂理財知識_整理的 Youtube 影片   \nD:\\8分鐘搞懂理財知識  _8分鐘搞懂理財知識_整理的 Youtube 影片   \nD:\\8分鐘搞懂理財知識  _8分鐘搞懂理財知識_整理的 Youtube 影片   \nD:\\8分鐘搞懂理財知識  _8分鐘搞懂理財知識_整理的 Youtube 影片   \n...                                 ...   \nD:\\8分鐘搞懂理財知識  _8分鐘搞懂理財知識_整理的 Youtube 影片   \nD:\\8分鐘搞懂理財知識  _8分鐘搞懂理財知識_整理的 Youtube 影片   \nD:\\8分鐘搞懂理財知識  _8分鐘搞懂理財知識_整理的 Youtube 影片   \nD:\\8分鐘搞懂理財知識  _8分鐘搞懂理財知識_整理的 Youtube 影片   \nD:\\8分鐘搞懂理財知識  _8分鐘搞懂理財知識_整理的 Youtube 影片   \n\n                                                           檔案名稱  \\\n磁碟機根目錄                                                            \nD:\\8分鐘搞懂理財知識             2015-08-25_2152_技術分析教學_快速搞懂RSI技術指標.mp4   \nD:\\8分鐘搞懂理財知識              2015-09-07_1622_理財觀念_快速搞懂期貨是什麼（下）.mp4   \nD:\\8分鐘搞懂理財知識            2015-09-14_1513_技術分析教學_均線的進階應用：均線扣抵.mp4   \nD:\\8分鐘搞懂理財知識  2015-10-19_2003_技術分析教學_什麼是「缺口」，教你抓出K線變化所傳遞的訊號.mp4   \nD:\\8分鐘搞懂理財知識                  2015-11-09_1922_理財觀念_正確的殖息率概念.mp4   \n...                                                         ...   \nD:\\8分鐘搞懂理財知識     2020-10-08_1602_理財觀念_企業償債能力的指標：「流動比」與「速動比」.mp4   \nD:\\8分鐘搞懂理財知識           2020-10-27_1527_理財觀念_市值與市值營收比的正確應用觀念.mp4   \nD:\\8分鐘搞懂理財知識                  2020-11-05_1842_理財觀念_除權息的基本概念.mp4   \nD:\\8分鐘搞懂理財知識                  2020-12-14_1753_理財觀念_除權息的應用概念.mp4   \nD:\\8分鐘搞懂理財知識        2020-12-29_1656_理財觀念_關於零股交易新制，你不可不知的6件事.mp4   \n\n                                                   路徑        大小  \\\n磁碟機根目錄                                                            \nD:\\8分鐘搞懂理財知識  D:\\8分鐘搞懂理財知識\\_8分鐘搞懂理財知識_整理的 Youtube 影片\\  25612876   \nD:\\8分鐘搞懂理財知識  D:\\8分鐘搞懂理財知識\\_8分鐘搞懂理財知識_整理的 Youtube 影片\\  30304434   \nD:\\8分鐘搞懂理財知識  D:\\8分鐘搞懂理財知識\\_8分鐘搞懂理財知識_整理的 Youtube 影片\\  22989551   \nD:\\8分鐘搞懂理財知識  D:\\8分鐘搞懂理財知識\\_8分鐘搞懂理財知識_整理的 Youtube 影片\\  24669692   \nD:\\8分鐘搞懂理財知識  D:\\8分鐘搞懂理財知識\\_8分鐘搞懂理財知識_整理的 Youtube 影片\\  17973136   \n...                                               ...       ...   \nD:\\8分鐘搞懂理財知識  D:\\8分鐘搞懂理財知識\\_8分鐘搞懂理財知識_整理的 Youtube 影片\\  10783261   \nD:\\8分鐘搞懂理財知識  D:\\8分鐘搞懂理財知識\\_8分鐘搞懂理財知識_整理的 Youtube 影片\\   8170685   \nD:\\8分鐘搞懂理財知識  D:\\8分鐘搞懂理財知識\\_8分鐘搞懂理財知識_整理的 Youtube 影片\\  11586879   \nD:\\8分鐘搞懂理財知識  D:\\8分鐘搞懂理財知識\\_8分鐘搞懂理財知識_整理的 Youtube 影片\\   9398585   \nD:\\8分鐘搞懂理財知識  D:\\8分鐘搞懂理財知識\\_8分鐘搞懂理財知識_整理的 Youtube 影片\\   8394900   \n\n                               新增日期                   修改日期  \n磁碟機根目錄                                                      \nD:\\8分鐘搞懂理財知識  2021/8/18 上午 02:38:06  2021/5/11 上午 02:58:44  \nD:\\8分鐘搞懂理財知識  2021/8/18 上午 02:38:07  2021/5/11 上午 02:58:29  \nD:\\8分鐘搞懂理財知識  2021/8/18 上午 02:38:07  2021/5/11 上午 02:58:24  \nD:\\8分鐘搞懂理財知識  2021/8/18 上午 02:38:08  2021/5/11 上午 02:57:57  \nD:\\8分鐘搞懂理財知識  2021/8/18 上午 02:38:09  2021/5/11 上午 02:57:40  \n...                             ...                    ...  \nD:\\8分鐘搞懂理財知識  2021/8/18 上午 02:38:38  2021/5/11 上午 02:35:06  \nD:\\8分鐘搞懂理財知識  2021/8/18 上午 02:38:38  2021/5/11 上午 02:35:00  \nD:\\8分鐘搞懂理財知識  2021/8/18 上午 02:38:38  2021/5/11 上午 02:34:57  \nD:\\8分鐘搞懂理財知識  2021/8/18 上午 02:38:38  2021/5/11 上午 02:34:53  \nD:\\8分鐘搞懂理財知識  2021/8/18 上午 02:38:39  2021/5/11 上午 02:34:48  \n\n[140 rows x 11 columns]",
      "text/html": "<div>\n<style scoped>\n    .dataframe tbody tr th:only-of-type {\n        vertical-align: middle;\n    }\n\n    .dataframe tbody tr th {\n        vertical-align: top;\n    }\n\n    .dataframe thead th {\n        text-align: right;\n    }\n</style>\n<table border=\"1\" class=\"dataframe\">\n  <thead>\n    <tr style=\"text-align: right;\">\n      <th></th>\n      <th>組別</th>\n      <th>檔案類型</th>\n      <th>磁碟機</th>\n      <th>根目錄</th>\n      <th>子目錄</th>\n      <th>檔案資料夾</th>\n      <th>檔案名稱</th>\n      <th>路徑</th>\n      <th>大小</th>\n      <th>新增日期</th>\n      <th>修改日期</th>\n    </tr>\n    <tr>\n      <th>磁碟機根目錄</th>\n      <th></th>\n      <th></th>\n      <th></th>\n      <th></th>\n      <th></th>\n      <th></th>\n      <th></th>\n      <th></th>\n      <th></th>\n      <th></th>\n      <th></th>\n    </tr>\n  </thead>\n  <tbody>\n    <tr>\n      <th>D:\\8分鐘搞懂理財知識</th>\n      <td>1</td>\n      <td>.mp4</td>\n      <td>D:</td>\n      <td>8分鐘搞懂理財知識</td>\n      <td>_8分鐘搞懂理財知識_整理的 Youtube 影片\\</td>\n      <td>_8分鐘搞懂理財知識_整理的 Youtube 影片</td>\n      <td>2015-08-25_2152_技術分析教學_快速搞懂RSI技術指標.mp4</td>\n      <td>D:\\8分鐘搞懂理財知識\\_8分鐘搞懂理財知識_整理的 Youtube 影片\\</td>\n      <td>25612876</td>\n      <td>2021/8/18 上午 02:38:06</td>\n      <td>2021/5/11 上午 02:58:44</td>\n    </tr>\n    <tr>\n      <th>D:\\8分鐘搞懂理財知識</th>\n      <td>2</td>\n      <td>.mp4</td>\n      <td>D:</td>\n      <td>8分鐘搞懂理財知識</td>\n      <td>_8分鐘搞懂理財知識_整理的 Youtube 影片\\</td>\n      <td>_8分鐘搞懂理財知識_整理的 Youtube 影片</td>\n      <td>2015-09-07_1622_理財觀念_快速搞懂期貨是什麼（下）.mp4</td>\n      <td>D:\\8分鐘搞懂理財知識\\_8分鐘搞懂理財知識_整理的 Youtube 影片\\</td>\n      <td>30304434</td>\n      <td>2021/8/18 上午 02:38:07</td>\n      <td>2021/5/11 上午 02:58:29</td>\n    </tr>\n    <tr>\n      <th>D:\\8分鐘搞懂理財知識</th>\n      <td>3</td>\n      <td>.mp4</td>\n      <td>D:</td>\n      <td>8分鐘搞懂理財知識</td>\n      <td>_8分鐘搞懂理財知識_整理的 Youtube 影片\\</td>\n      <td>_8分鐘搞懂理財知識_整理的 Youtube 影片</td>\n      <td>2015-09-14_1513_技術分析教學_均線的進階應用：均線扣抵.mp4</td>\n      <td>D:\\8分鐘搞懂理財知識\\_8分鐘搞懂理財知識_整理的 Youtube 影片\\</td>\n      <td>22989551</td>\n      <td>2021/8/18 上午 02:38:07</td>\n      <td>2021/5/11 上午 02:58:24</td>\n    </tr>\n    <tr>\n      <th>D:\\8分鐘搞懂理財知識</th>\n      <td>4</td>\n      <td>.mp4</td>\n      <td>D:</td>\n      <td>8分鐘搞懂理財知識</td>\n      <td>_8分鐘搞懂理財知識_整理的 Youtube 影片\\</td>\n      <td>_8分鐘搞懂理財知識_整理的 Youtube 影片</td>\n      <td>2015-10-19_2003_技術分析教學_什麼是「缺口」，教你抓出K線變化所傳遞的訊號.mp4</td>\n      <td>D:\\8分鐘搞懂理財知識\\_8分鐘搞懂理財知識_整理的 Youtube 影片\\</td>\n      <td>24669692</td>\n      <td>2021/8/18 上午 02:38:08</td>\n      <td>2021/5/11 上午 02:57:57</td>\n    </tr>\n    <tr>\n      <th>D:\\8分鐘搞懂理財知識</th>\n      <td>5</td>\n      <td>.mp4</td>\n      <td>D:</td>\n      <td>8分鐘搞懂理財知識</td>\n      <td>_8分鐘搞懂理財知識_整理的 Youtube 影片\\</td>\n      <td>_8分鐘搞懂理財知識_整理的 Youtube 影片</td>\n      <td>2015-11-09_1922_理財觀念_正確的殖息率概念.mp4</td>\n      <td>D:\\8分鐘搞懂理財知識\\_8分鐘搞懂理財知識_整理的 Youtube 影片\\</td>\n      <td>17973136</td>\n      <td>2021/8/18 上午 02:38:09</td>\n      <td>2021/5/11 上午 02:57:40</td>\n    </tr>\n    <tr>\n      <th>...</th>\n      <td>...</td>\n      <td>...</td>\n      <td>...</td>\n      <td>...</td>\n      <td>...</td>\n      <td>...</td>\n      <td>...</td>\n      <td>...</td>\n      <td>...</td>\n      <td>...</td>\n      <td>...</td>\n    </tr>\n    <tr>\n      <th>D:\\8分鐘搞懂理財知識</th>\n      <td>219</td>\n      <td>.mp4</td>\n      <td>D:</td>\n      <td>8分鐘搞懂理財知識</td>\n      <td>_8分鐘搞懂理財知識_整理的 Youtube 影片\\</td>\n      <td>_8分鐘搞懂理財知識_整理的 Youtube 影片</td>\n      <td>2020-10-08_1602_理財觀念_企業償債能力的指標：「流動比」與「速動比」.mp4</td>\n      <td>D:\\8分鐘搞懂理財知識\\_8分鐘搞懂理財知識_整理的 Youtube 影片\\</td>\n      <td>10783261</td>\n      <td>2021/8/18 上午 02:38:38</td>\n      <td>2021/5/11 上午 02:35:06</td>\n    </tr>\n    <tr>\n      <th>D:\\8分鐘搞懂理財知識</th>\n      <td>220</td>\n      <td>.mp4</td>\n      <td>D:</td>\n      <td>8分鐘搞懂理財知識</td>\n      <td>_8分鐘搞懂理財知識_整理的 Youtube 影片\\</td>\n      <td>_8分鐘搞懂理財知識_整理的 Youtube 影片</td>\n      <td>2020-10-27_1527_理財觀念_市值與市值營收比的正確應用觀念.mp4</td>\n      <td>D:\\8分鐘搞懂理財知識\\_8分鐘搞懂理財知識_整理的 Youtube 影片\\</td>\n      <td>8170685</td>\n      <td>2021/8/18 上午 02:38:38</td>\n      <td>2021/5/11 上午 02:35:00</td>\n    </tr>\n    <tr>\n      <th>D:\\8分鐘搞懂理財知識</th>\n      <td>221</td>\n      <td>.mp4</td>\n      <td>D:</td>\n      <td>8分鐘搞懂理財知識</td>\n      <td>_8分鐘搞懂理財知識_整理的 Youtube 影片\\</td>\n      <td>_8分鐘搞懂理財知識_整理的 Youtube 影片</td>\n      <td>2020-11-05_1842_理財觀念_除權息的基本概念.mp4</td>\n      <td>D:\\8分鐘搞懂理財知識\\_8分鐘搞懂理財知識_整理的 Youtube 影片\\</td>\n      <td>11586879</td>\n      <td>2021/8/18 上午 02:38:38</td>\n      <td>2021/5/11 上午 02:34:57</td>\n    </tr>\n    <tr>\n      <th>D:\\8分鐘搞懂理財知識</th>\n      <td>222</td>\n      <td>.mp4</td>\n      <td>D:</td>\n      <td>8分鐘搞懂理財知識</td>\n      <td>_8分鐘搞懂理財知識_整理的 Youtube 影片\\</td>\n      <td>_8分鐘搞懂理財知識_整理的 Youtube 影片</td>\n      <td>2020-12-14_1753_理財觀念_除權息的應用概念.mp4</td>\n      <td>D:\\8分鐘搞懂理財知識\\_8分鐘搞懂理財知識_整理的 Youtube 影片\\</td>\n      <td>9398585</td>\n      <td>2021/8/18 上午 02:38:38</td>\n      <td>2021/5/11 上午 02:34:53</td>\n    </tr>\n    <tr>\n      <th>D:\\8分鐘搞懂理財知識</th>\n      <td>223</td>\n      <td>.mp4</td>\n      <td>D:</td>\n      <td>8分鐘搞懂理財知識</td>\n      <td>_8分鐘搞懂理財知識_整理的 Youtube 影片\\</td>\n      <td>_8分鐘搞懂理財知識_整理的 Youtube 影片</td>\n      <td>2020-12-29_1656_理財觀念_關於零股交易新制，你不可不知的6件事.mp4</td>\n      <td>D:\\8分鐘搞懂理財知識\\_8分鐘搞懂理財知識_整理的 Youtube 影片\\</td>\n      <td>8394900</td>\n      <td>2021/8/18 上午 02:38:39</td>\n      <td>2021/5/11 上午 02:34:48</td>\n    </tr>\n  </tbody>\n</table>\n<p>140 rows × 11 columns</p>\n</div>"
     },
     "execution_count": 132,
     "metadata": {},
     "output_type": "execute_result"
    }
   ],
   "source": [
    "df.loc[folder][df.loc[folder]['檔案資料夾']=='_8分鐘搞懂理財知識_整理的 Youtube 影片']"
   ],
   "metadata": {
    "collapsed": false,
    "pycharm": {
     "name": "#%%\n"
    }
   }
  },
  {
   "cell_type": "code",
   "execution_count": null,
   "outputs": [],
   "source": [],
   "metadata": {
    "collapsed": false,
    "pycharm": {
     "name": "#%%\n"
    }
   }
  },
  {
   "cell_type": "code",
   "execution_count": 99,
   "outputs": [],
   "source": [
    "folder_0 = df.loc[folder_lists[0]][['組別', '檔案名稱']]"
   ],
   "metadata": {
    "collapsed": false,
    "pycharm": {
     "name": "#%%\n"
    }
   }
  },
  {
   "cell_type": "code",
   "execution_count": 100,
   "outputs": [],
   "source": [
    "folder_1 = df.loc[folder_lists[1]][['組別', '檔案名稱']]"
   ],
   "metadata": {
    "collapsed": false,
    "pycharm": {
     "name": "#%%\n"
    }
   }
  },
  {
   "cell_type": "code",
   "execution_count": 101,
   "outputs": [],
   "source": [
    "folder_0.reset_index(inplace=True)\n",
    "folder_1.reset_index(inplace=True)"
   ],
   "metadata": {
    "collapsed": false,
    "pycharm": {
     "name": "#%%\n"
    }
   }
  },
  {
   "cell_type": "code",
   "execution_count": 106,
   "outputs": [],
   "source": [
    "folder_0.set_index('組別', inplace=True)\n",
    "folder_1.set_index('組別', inplace=True)"
   ],
   "metadata": {
    "collapsed": false,
    "pycharm": {
     "name": "#%%\n"
    }
   }
  },
  {
   "cell_type": "code",
   "execution_count": 107,
   "outputs": [
    {
     "data": {
      "text/plain": "                               磁碟機根目錄  \\\n組別                                      \n1    Z:\\8分鐘搞懂理財知識_新手教室 Youtube 投資影片教學   \n2    Z:\\8分鐘搞懂理財知識_新手教室 Youtube 投資影片教學   \n3    Z:\\8分鐘搞懂理財知識_新手教室 Youtube 投資影片教學   \n4    Z:\\8分鐘搞懂理財知識_新手教室 Youtube 投資影片教學   \n5    Z:\\8分鐘搞懂理財知識_新手教室 Youtube 投資影片教學   \n..                                ...   \n149  Z:\\8分鐘搞懂理財知識_新手教室 Youtube 投資影片教學   \n150  Z:\\8分鐘搞懂理財知識_新手教室 Youtube 投資影片教學   \n151  Z:\\8分鐘搞懂理財知識_新手教室 Youtube 投資影片教學   \n152  Z:\\8分鐘搞懂理財知識_新手教室 Youtube 投資影片教學   \n153  Z:\\8分鐘搞懂理財知識_新手教室 Youtube 投資影片教學   \n\n                                                 檔案名稱  \n組別                                                     \n1                  8分鐘搞懂技術分析：RSI的重要價值-WUwaMVSCDYY.mp4  \n2                 8分鐘搞懂理財知識：期貨新手教室（下）-K7ETmfHiw3M.mp4  \n3                      8分鐘搞懂技術分析：均線扣抵-2VKhGSE3gRM.mp4  \n4    8分鐘搞懂技術分析：什麼是「缺口」，教你抓出K線變化所傳遞的訊號-HTSbeSb-gRM.mp4  \n5              8分鐘搞懂理財觀念：正確的殖息(殖利)率概念-W7Y2rXu4EeQ.mp4  \n..                                                ...  \n149           認識葛蘭碧八大法則︱《3分鐘投資技巧》甘木小編-jBYAuvV9qRs.mp4  \n150        進階ETF— 陸股ETF︱《3分鐘投資技巧》甘木小編--Z08nUunG6A.mp4  \n151  關於零股交易新制，你不可不知的6件事︱《3分鐘投資技巧》甘木小編-3MShipOPZnU.mp4  \n152            除權息的基本概念︱《3分鐘投資技巧》甘木小編-JseLyFRYGL0.mp4  \n153            除權息的應用概念︱《3分鐘投資技巧》甘木小編-E0yml_or9hM.mp4  \n\n[153 rows x 2 columns]",
      "text/html": "<div>\n<style scoped>\n    .dataframe tbody tr th:only-of-type {\n        vertical-align: middle;\n    }\n\n    .dataframe tbody tr th {\n        vertical-align: top;\n    }\n\n    .dataframe thead th {\n        text-align: right;\n    }\n</style>\n<table border=\"1\" class=\"dataframe\">\n  <thead>\n    <tr style=\"text-align: right;\">\n      <th></th>\n      <th>磁碟機根目錄</th>\n      <th>檔案名稱</th>\n    </tr>\n    <tr>\n      <th>組別</th>\n      <th></th>\n      <th></th>\n    </tr>\n  </thead>\n  <tbody>\n    <tr>\n      <th>1</th>\n      <td>Z:\\8分鐘搞懂理財知識_新手教室 Youtube 投資影片教學</td>\n      <td>8分鐘搞懂技術分析：RSI的重要價值-WUwaMVSCDYY.mp4</td>\n    </tr>\n    <tr>\n      <th>2</th>\n      <td>Z:\\8分鐘搞懂理財知識_新手教室 Youtube 投資影片教學</td>\n      <td>8分鐘搞懂理財知識：期貨新手教室（下）-K7ETmfHiw3M.mp4</td>\n    </tr>\n    <tr>\n      <th>3</th>\n      <td>Z:\\8分鐘搞懂理財知識_新手教室 Youtube 投資影片教學</td>\n      <td>8分鐘搞懂技術分析：均線扣抵-2VKhGSE3gRM.mp4</td>\n    </tr>\n    <tr>\n      <th>4</th>\n      <td>Z:\\8分鐘搞懂理財知識_新手教室 Youtube 投資影片教學</td>\n      <td>8分鐘搞懂技術分析：什麼是「缺口」，教你抓出K線變化所傳遞的訊號-HTSbeSb-gRM.mp4</td>\n    </tr>\n    <tr>\n      <th>5</th>\n      <td>Z:\\8分鐘搞懂理財知識_新手教室 Youtube 投資影片教學</td>\n      <td>8分鐘搞懂理財觀念：正確的殖息(殖利)率概念-W7Y2rXu4EeQ.mp4</td>\n    </tr>\n    <tr>\n      <th>...</th>\n      <td>...</td>\n      <td>...</td>\n    </tr>\n    <tr>\n      <th>149</th>\n      <td>Z:\\8分鐘搞懂理財知識_新手教室 Youtube 投資影片教學</td>\n      <td>認識葛蘭碧八大法則︱《3分鐘投資技巧》甘木小編-jBYAuvV9qRs.mp4</td>\n    </tr>\n    <tr>\n      <th>150</th>\n      <td>Z:\\8分鐘搞懂理財知識_新手教室 Youtube 投資影片教學</td>\n      <td>進階ETF— 陸股ETF︱《3分鐘投資技巧》甘木小編--Z08nUunG6A.mp4</td>\n    </tr>\n    <tr>\n      <th>151</th>\n      <td>Z:\\8分鐘搞懂理財知識_新手教室 Youtube 投資影片教學</td>\n      <td>關於零股交易新制，你不可不知的6件事︱《3分鐘投資技巧》甘木小編-3MShipOPZnU.mp4</td>\n    </tr>\n    <tr>\n      <th>152</th>\n      <td>Z:\\8分鐘搞懂理財知識_新手教室 Youtube 投資影片教學</td>\n      <td>除權息的基本概念︱《3分鐘投資技巧》甘木小編-JseLyFRYGL0.mp4</td>\n    </tr>\n    <tr>\n      <th>153</th>\n      <td>Z:\\8分鐘搞懂理財知識_新手教室 Youtube 投資影片教學</td>\n      <td>除權息的應用概念︱《3分鐘投資技巧》甘木小編-E0yml_or9hM.mp4</td>\n    </tr>\n  </tbody>\n</table>\n<p>153 rows × 2 columns</p>\n</div>"
     },
     "execution_count": 107,
     "metadata": {},
     "output_type": "execute_result"
    }
   ],
   "source": [
    "folder_0"
   ],
   "metadata": {
    "collapsed": false,
    "pycharm": {
     "name": "#%%\n"
    }
   }
  },
  {
   "cell_type": "code",
   "execution_count": 108,
   "outputs": [
    {
     "data": {
      "text/plain": "                 磁碟機根目錄                                               檔案名稱\n組別                                                                        \n1    Z:\\8分鐘搞懂理財知識_重新整理過             2015-08-25_2152_技術分析教學_快速搞懂RSI技術指標.mp4\n2    Z:\\8分鐘搞懂理財知識_重新整理過              2015-09-07_1622_理財觀念_快速搞懂期貨是什麼（下）.mp4\n3    Z:\\8分鐘搞懂理財知識_重新整理過            2015-09-14_1513_技術分析教學_均線的進階應用：均線扣抵.mp4\n4    Z:\\8分鐘搞懂理財知識_重新整理過  2015-10-19_2003_技術分析教學_什麼是「缺口」，教你抓出K線變化所傳遞的訊號.mp4\n5    Z:\\8分鐘搞懂理財知識_重新整理過                  2015-11-09_1922_理財觀念_正確的殖息率概念.mp4\n..                  ...                                                ...\n219  Z:\\8分鐘搞懂理財知識_重新整理過     2020-10-08_1602_理財觀念_企業償債能力的指標：「流動比」與「速動比」.mp4\n220  Z:\\8分鐘搞懂理財知識_重新整理過           2020-10-27_1527_理財觀念_市值與市值營收比的正確應用觀念.mp4\n221  Z:\\8分鐘搞懂理財知識_重新整理過                  2020-11-05_1842_理財觀念_除權息的基本概念.mp4\n222  Z:\\8分鐘搞懂理財知識_重新整理過                  2020-12-14_1753_理財觀念_除權息的應用概念.mp4\n223  Z:\\8分鐘搞懂理財知識_重新整理過        2020-12-29_1656_理財觀念_關於零股交易新制，你不可不知的6件事.mp4\n\n[140 rows x 2 columns]",
      "text/html": "<div>\n<style scoped>\n    .dataframe tbody tr th:only-of-type {\n        vertical-align: middle;\n    }\n\n    .dataframe tbody tr th {\n        vertical-align: top;\n    }\n\n    .dataframe thead th {\n        text-align: right;\n    }\n</style>\n<table border=\"1\" class=\"dataframe\">\n  <thead>\n    <tr style=\"text-align: right;\">\n      <th></th>\n      <th>磁碟機根目錄</th>\n      <th>檔案名稱</th>\n    </tr>\n    <tr>\n      <th>組別</th>\n      <th></th>\n      <th></th>\n    </tr>\n  </thead>\n  <tbody>\n    <tr>\n      <th>1</th>\n      <td>Z:\\8分鐘搞懂理財知識_重新整理過</td>\n      <td>2015-08-25_2152_技術分析教學_快速搞懂RSI技術指標.mp4</td>\n    </tr>\n    <tr>\n      <th>2</th>\n      <td>Z:\\8分鐘搞懂理財知識_重新整理過</td>\n      <td>2015-09-07_1622_理財觀念_快速搞懂期貨是什麼（下）.mp4</td>\n    </tr>\n    <tr>\n      <th>3</th>\n      <td>Z:\\8分鐘搞懂理財知識_重新整理過</td>\n      <td>2015-09-14_1513_技術分析教學_均線的進階應用：均線扣抵.mp4</td>\n    </tr>\n    <tr>\n      <th>4</th>\n      <td>Z:\\8分鐘搞懂理財知識_重新整理過</td>\n      <td>2015-10-19_2003_技術分析教學_什麼是「缺口」，教你抓出K線變化所傳遞的訊號.mp4</td>\n    </tr>\n    <tr>\n      <th>5</th>\n      <td>Z:\\8分鐘搞懂理財知識_重新整理過</td>\n      <td>2015-11-09_1922_理財觀念_正確的殖息率概念.mp4</td>\n    </tr>\n    <tr>\n      <th>...</th>\n      <td>...</td>\n      <td>...</td>\n    </tr>\n    <tr>\n      <th>219</th>\n      <td>Z:\\8分鐘搞懂理財知識_重新整理過</td>\n      <td>2020-10-08_1602_理財觀念_企業償債能力的指標：「流動比」與「速動比」.mp4</td>\n    </tr>\n    <tr>\n      <th>220</th>\n      <td>Z:\\8分鐘搞懂理財知識_重新整理過</td>\n      <td>2020-10-27_1527_理財觀念_市值與市值營收比的正確應用觀念.mp4</td>\n    </tr>\n    <tr>\n      <th>221</th>\n      <td>Z:\\8分鐘搞懂理財知識_重新整理過</td>\n      <td>2020-11-05_1842_理財觀念_除權息的基本概念.mp4</td>\n    </tr>\n    <tr>\n      <th>222</th>\n      <td>Z:\\8分鐘搞懂理財知識_重新整理過</td>\n      <td>2020-12-14_1753_理財觀念_除權息的應用概念.mp4</td>\n    </tr>\n    <tr>\n      <th>223</th>\n      <td>Z:\\8分鐘搞懂理財知識_重新整理過</td>\n      <td>2020-12-29_1656_理財觀念_關於零股交易新制，你不可不知的6件事.mp4</td>\n    </tr>\n  </tbody>\n</table>\n<p>140 rows × 2 columns</p>\n</div>"
     },
     "execution_count": 108,
     "metadata": {},
     "output_type": "execute_result"
    }
   ],
   "source": [
    "folder_1"
   ],
   "metadata": {
    "collapsed": false,
    "pycharm": {
     "name": "#%%\n"
    }
   }
  },
  {
   "cell_type": "code",
   "execution_count": 111,
   "outputs": [
    {
     "data": {
      "text/plain": "Empty DataFrame\nColumns: [磁碟機根目錄, 檔案名稱]\nIndex: []",
      "text/html": "<div>\n<style scoped>\n    .dataframe tbody tr th:only-of-type {\n        vertical-align: middle;\n    }\n\n    .dataframe tbody tr th {\n        vertical-align: top;\n    }\n\n    .dataframe thead th {\n        text-align: right;\n    }\n</style>\n<table border=\"1\" class=\"dataframe\">\n  <thead>\n    <tr style=\"text-align: right;\">\n      <th></th>\n      <th>磁碟機根目錄</th>\n      <th>檔案名稱</th>\n    </tr>\n  </thead>\n  <tbody>\n  </tbody>\n</table>\n</div>"
     },
     "execution_count": 111,
     "metadata": {},
     "output_type": "execute_result"
    }
   ],
   "source": [
    "folder_0.merge(folder_1)"
   ],
   "metadata": {
    "collapsed": false,
    "pycharm": {
     "name": "#%%\n"
    }
   }
  },
  {
   "cell_type": "code",
   "execution_count": 91,
   "outputs": [
    {
     "ename": "ValueError",
     "evalue": "Can only compare identically-labeled Series objects",
     "output_type": "error",
     "traceback": [
      "\u001B[1;31m---------------------------------------------------------------------------\u001B[0m",
      "\u001B[1;31mValueError\u001B[0m                                Traceback (most recent call last)",
      "\u001B[1;32m~\\AppData\\Local\\Temp/ipykernel_27016/3146023552.py\u001B[0m in \u001B[0;36m<module>\u001B[1;34m\u001B[0m\n\u001B[1;32m----> 1\u001B[1;33m \u001B[1;33m(\u001B[0m\u001B[0mdf\u001B[0m\u001B[1;33m.\u001B[0m\u001B[0mloc\u001B[0m\u001B[1;33m[\u001B[0m\u001B[0mfolder_lists\u001B[0m\u001B[1;33m[\u001B[0m\u001B[1;36m0\u001B[0m\u001B[1;33m]\u001B[0m\u001B[1;33m]\u001B[0m\u001B[1;33m[\u001B[0m\u001B[1;34m'檔案名稱'\u001B[0m\u001B[1;33m]\u001B[0m \u001B[1;33m==\u001B[0m \u001B[0mdf\u001B[0m\u001B[1;33m.\u001B[0m\u001B[0mloc\u001B[0m\u001B[1;33m[\u001B[0m\u001B[0mfolder_lists\u001B[0m\u001B[1;33m[\u001B[0m\u001B[1;36m1\u001B[0m\u001B[1;33m]\u001B[0m\u001B[1;33m]\u001B[0m\u001B[1;33m[\u001B[0m\u001B[1;34m'檔案名稱'\u001B[0m\u001B[1;33m]\u001B[0m\u001B[1;33m)\u001B[0m\u001B[1;33m.\u001B[0m\u001B[0mall\u001B[0m\u001B[1;33m(\u001B[0m\u001B[1;33m)\u001B[0m\u001B[1;33m\u001B[0m\u001B[1;33m\u001B[0m\u001B[0m\n\u001B[0m",
      "\u001B[1;32mc:\\users\\alvinlin\\appdata\\local\\programs\\python\\python37\\lib\\site-packages\\pandas\\core\\ops\\common.py\u001B[0m in \u001B[0;36mnew_method\u001B[1;34m(self, other)\u001B[0m\n\u001B[0;32m     67\u001B[0m         \u001B[0mother\u001B[0m \u001B[1;33m=\u001B[0m \u001B[0mitem_from_zerodim\u001B[0m\u001B[1;33m(\u001B[0m\u001B[0mother\u001B[0m\u001B[1;33m)\u001B[0m\u001B[1;33m\u001B[0m\u001B[1;33m\u001B[0m\u001B[0m\n\u001B[0;32m     68\u001B[0m \u001B[1;33m\u001B[0m\u001B[0m\n\u001B[1;32m---> 69\u001B[1;33m         \u001B[1;32mreturn\u001B[0m \u001B[0mmethod\u001B[0m\u001B[1;33m(\u001B[0m\u001B[0mself\u001B[0m\u001B[1;33m,\u001B[0m \u001B[0mother\u001B[0m\u001B[1;33m)\u001B[0m\u001B[1;33m\u001B[0m\u001B[1;33m\u001B[0m\u001B[0m\n\u001B[0m\u001B[0;32m     70\u001B[0m \u001B[1;33m\u001B[0m\u001B[0m\n\u001B[0;32m     71\u001B[0m     \u001B[1;32mreturn\u001B[0m \u001B[0mnew_method\u001B[0m\u001B[1;33m\u001B[0m\u001B[1;33m\u001B[0m\u001B[0m\n",
      "\u001B[1;32mc:\\users\\alvinlin\\appdata\\local\\programs\\python\\python37\\lib\\site-packages\\pandas\\core\\arraylike.py\u001B[0m in \u001B[0;36m__eq__\u001B[1;34m(self, other)\u001B[0m\n\u001B[0;32m     30\u001B[0m     \u001B[1;33m@\u001B[0m\u001B[0munpack_zerodim_and_defer\u001B[0m\u001B[1;33m(\u001B[0m\u001B[1;34m\"__eq__\"\u001B[0m\u001B[1;33m)\u001B[0m\u001B[1;33m\u001B[0m\u001B[1;33m\u001B[0m\u001B[0m\n\u001B[0;32m     31\u001B[0m     \u001B[1;32mdef\u001B[0m \u001B[0m__eq__\u001B[0m\u001B[1;33m(\u001B[0m\u001B[0mself\u001B[0m\u001B[1;33m,\u001B[0m \u001B[0mother\u001B[0m\u001B[1;33m)\u001B[0m\u001B[1;33m:\u001B[0m\u001B[1;33m\u001B[0m\u001B[1;33m\u001B[0m\u001B[0m\n\u001B[1;32m---> 32\u001B[1;33m         \u001B[1;32mreturn\u001B[0m \u001B[0mself\u001B[0m\u001B[1;33m.\u001B[0m\u001B[0m_cmp_method\u001B[0m\u001B[1;33m(\u001B[0m\u001B[0mother\u001B[0m\u001B[1;33m,\u001B[0m \u001B[0moperator\u001B[0m\u001B[1;33m.\u001B[0m\u001B[0meq\u001B[0m\u001B[1;33m)\u001B[0m\u001B[1;33m\u001B[0m\u001B[1;33m\u001B[0m\u001B[0m\n\u001B[0m\u001B[0;32m     33\u001B[0m \u001B[1;33m\u001B[0m\u001B[0m\n\u001B[0;32m     34\u001B[0m     \u001B[1;33m@\u001B[0m\u001B[0munpack_zerodim_and_defer\u001B[0m\u001B[1;33m(\u001B[0m\u001B[1;34m\"__ne__\"\u001B[0m\u001B[1;33m)\u001B[0m\u001B[1;33m\u001B[0m\u001B[1;33m\u001B[0m\u001B[0m\n",
      "\u001B[1;32mc:\\users\\alvinlin\\appdata\\local\\programs\\python\\python37\\lib\\site-packages\\pandas\\core\\series.py\u001B[0m in \u001B[0;36m_cmp_method\u001B[1;34m(self, other, op)\u001B[0m\n\u001B[0;32m   5494\u001B[0m \u001B[1;33m\u001B[0m\u001B[0m\n\u001B[0;32m   5495\u001B[0m         \u001B[1;32mif\u001B[0m \u001B[0misinstance\u001B[0m\u001B[1;33m(\u001B[0m\u001B[0mother\u001B[0m\u001B[1;33m,\u001B[0m \u001B[0mSeries\u001B[0m\u001B[1;33m)\u001B[0m \u001B[1;32mand\u001B[0m \u001B[1;32mnot\u001B[0m \u001B[0mself\u001B[0m\u001B[1;33m.\u001B[0m\u001B[0m_indexed_same\u001B[0m\u001B[1;33m(\u001B[0m\u001B[0mother\u001B[0m\u001B[1;33m)\u001B[0m\u001B[1;33m:\u001B[0m\u001B[1;33m\u001B[0m\u001B[1;33m\u001B[0m\u001B[0m\n\u001B[1;32m-> 5496\u001B[1;33m             \u001B[1;32mraise\u001B[0m \u001B[0mValueError\u001B[0m\u001B[1;33m(\u001B[0m\u001B[1;34m\"Can only compare identically-labeled Series objects\"\u001B[0m\u001B[1;33m)\u001B[0m\u001B[1;33m\u001B[0m\u001B[1;33m\u001B[0m\u001B[0m\n\u001B[0m\u001B[0;32m   5497\u001B[0m \u001B[1;33m\u001B[0m\u001B[0m\n\u001B[0;32m   5498\u001B[0m         \u001B[0mlvalues\u001B[0m \u001B[1;33m=\u001B[0m \u001B[0mself\u001B[0m\u001B[1;33m.\u001B[0m\u001B[0m_values\u001B[0m\u001B[1;33m\u001B[0m\u001B[1;33m\u001B[0m\u001B[0m\n",
      "\u001B[1;31mValueError\u001B[0m: Can only compare identically-labeled Series objects"
     ]
    }
   ],
   "source": [
    "(df.loc[folder_lists[0]]['檔案名稱'] == df.loc[folder_lists[1]]['檔案名稱']).all()"
   ],
   "metadata": {
    "collapsed": false,
    "pycharm": {
     "name": "#%%\n"
    }
   }
  },
  {
   "cell_type": "code",
   "execution_count": 77,
   "outputs": [],
   "source": [
    "df.to_csv('df_index.csv', encoding='utf-8-sig')"
   ],
   "metadata": {
    "collapsed": false,
    "pycharm": {
     "name": "#%%\n"
    }
   }
  },
  {
   "cell_type": "code",
   "execution_count": 63,
   "outputs": [
    {
     "data": {
      "text/plain": "                                   組別  檔案類型 磁碟機  \\\n磁碟機根目錄                                            \nZ:\\8分鐘搞懂理財知識_新手教室 Youtube 投資影片教學    1  .mp4  Z:   \nZ:\\8分鐘搞懂理財知識_新手教室 Youtube 投資影片教學    2  .mp4  Z:   \nZ:\\8分鐘搞懂理財知識_新手教室 Youtube 投資影片教學    3  .mp4  Z:   \nZ:\\8分鐘搞懂理財知識_新手教室 Youtube 投資影片教學    4  .mp4  Z:   \nZ:\\8分鐘搞懂理財知識_新手教室 Youtube 投資影片教學    5  .mp4  Z:   \n...                               ...   ...  ..   \nZ:\\8分鐘搞懂理財知識_新手教室 Youtube 投資影片教學  149  .mp4  Z:   \nZ:\\8分鐘搞懂理財知識_新手教室 Youtube 投資影片教學  150  .mp4  Z:   \nZ:\\8分鐘搞懂理財知識_新手教室 Youtube 投資影片教學  151  .mp4  Z:   \nZ:\\8分鐘搞懂理財知識_新手教室 Youtube 投資影片教學  152  .mp4  Z:   \nZ:\\8分鐘搞懂理財知識_新手教室 Youtube 投資影片教學  153  .mp4  Z:   \n\n                                                            根目錄 子目錄  \\\n磁碟機根目錄                                                                \nZ:\\8分鐘搞懂理財知識_新手教室 Youtube 投資影片教學  8分鐘搞懂理財知識_新手教室 Youtube 投資影片教學       \nZ:\\8分鐘搞懂理財知識_新手教室 Youtube 投資影片教學  8分鐘搞懂理財知識_新手教室 Youtube 投資影片教學       \nZ:\\8分鐘搞懂理財知識_新手教室 Youtube 投資影片教學  8分鐘搞懂理財知識_新手教室 Youtube 投資影片教學       \nZ:\\8分鐘搞懂理財知識_新手教室 Youtube 投資影片教學  8分鐘搞懂理財知識_新手教室 Youtube 投資影片教學       \nZ:\\8分鐘搞懂理財知識_新手教室 Youtube 投資影片教學  8分鐘搞懂理財知識_新手教室 Youtube 投資影片教學       \n...                                                         ...  ..   \nZ:\\8分鐘搞懂理財知識_新手教室 Youtube 投資影片教學  8分鐘搞懂理財知識_新手教室 Youtube 投資影片教學       \nZ:\\8分鐘搞懂理財知識_新手教室 Youtube 投資影片教學  8分鐘搞懂理財知識_新手教室 Youtube 投資影片教學       \nZ:\\8分鐘搞懂理財知識_新手教室 Youtube 投資影片教學  8分鐘搞懂理財知識_新手教室 Youtube 投資影片教學       \nZ:\\8分鐘搞懂理財知識_新手教室 Youtube 投資影片教學  8分鐘搞懂理財知識_新手教室 Youtube 投資影片教學       \nZ:\\8分鐘搞懂理財知識_新手教室 Youtube 投資影片教學  8分鐘搞懂理財知識_新手教室 Youtube 投資影片教學       \n\n                                                          檔案資料夾  \\\n磁碟機根目錄                                                            \nZ:\\8分鐘搞懂理財知識_新手教室 Youtube 投資影片教學  8分鐘搞懂理財知識_新手教室 Youtube 投資影片教學   \nZ:\\8分鐘搞懂理財知識_新手教室 Youtube 投資影片教學  8分鐘搞懂理財知識_新手教室 Youtube 投資影片教學   \nZ:\\8分鐘搞懂理財知識_新手教室 Youtube 投資影片教學  8分鐘搞懂理財知識_新手教室 Youtube 投資影片教學   \nZ:\\8分鐘搞懂理財知識_新手教室 Youtube 投資影片教學  8分鐘搞懂理財知識_新手教室 Youtube 投資影片教學   \nZ:\\8分鐘搞懂理財知識_新手教室 Youtube 投資影片教學  8分鐘搞懂理財知識_新手教室 Youtube 投資影片教學   \n...                                                         ...   \nZ:\\8分鐘搞懂理財知識_新手教室 Youtube 投資影片教學  8分鐘搞懂理財知識_新手教室 Youtube 投資影片教學   \nZ:\\8分鐘搞懂理財知識_新手教室 Youtube 投資影片教學  8分鐘搞懂理財知識_新手教室 Youtube 投資影片教學   \nZ:\\8分鐘搞懂理財知識_新手教室 Youtube 投資影片教學  8分鐘搞懂理財知識_新手教室 Youtube 投資影片教學   \nZ:\\8分鐘搞懂理財知識_新手教室 Youtube 投資影片教學  8分鐘搞懂理財知識_新手教室 Youtube 投資影片教學   \nZ:\\8分鐘搞懂理財知識_新手教室 Youtube 投資影片教學  8分鐘搞懂理財知識_新手教室 Youtube 投資影片教學   \n\n                                                                              檔案名稱  \\\n磁碟機根目錄                                                                               \nZ:\\8分鐘搞懂理財知識_新手教室 Youtube 投資影片教學                8分鐘搞懂技術分析：RSI的重要價值-WUwaMVSCDYY.mp4   \nZ:\\8分鐘搞懂理財知識_新手教室 Youtube 投資影片教學               8分鐘搞懂理財知識：期貨新手教室（下）-K7ETmfHiw3M.mp4   \nZ:\\8分鐘搞懂理財知識_新手教室 Youtube 投資影片教學                    8分鐘搞懂技術分析：均線扣抵-2VKhGSE3gRM.mp4   \nZ:\\8分鐘搞懂理財知識_新手教室 Youtube 投資影片教學  8分鐘搞懂技術分析：什麼是「缺口」，教你抓出K線變化所傳遞的訊號-HTSbeSb-gRM.mp4   \nZ:\\8分鐘搞懂理財知識_新手教室 Youtube 投資影片教學            8分鐘搞懂理財觀念：正確的殖息(殖利)率概念-W7Y2rXu4EeQ.mp4   \n...                                                                            ...   \nZ:\\8分鐘搞懂理財知識_新手教室 Youtube 投資影片教學           認識葛蘭碧八大法則︱《3分鐘投資技巧》甘木小編-jBYAuvV9qRs.mp4   \nZ:\\8分鐘搞懂理財知識_新手教室 Youtube 投資影片教學        進階ETF— 陸股ETF︱《3分鐘投資技巧》甘木小編--Z08nUunG6A.mp4   \nZ:\\8分鐘搞懂理財知識_新手教室 Youtube 投資影片教學  關於零股交易新制，你不可不知的6件事︱《3分鐘投資技巧》甘木小編-3MShipOPZnU.mp4   \nZ:\\8分鐘搞懂理財知識_新手教室 Youtube 投資影片教學            除權息的基本概念︱《3分鐘投資技巧》甘木小編-JseLyFRYGL0.mp4   \nZ:\\8分鐘搞懂理財知識_新手教室 Youtube 投資影片教學            除權息的應用概念︱《3分鐘投資技巧》甘木小編-E0yml_or9hM.mp4   \n\n                                                                 路徑        大小  \\\n磁碟機根目錄                                                                          \nZ:\\8分鐘搞懂理財知識_新手教室 Youtube 投資影片教學  Z:\\8分鐘搞懂理財知識_新手教室 Youtube 投資影片教學\\  25612876   \nZ:\\8分鐘搞懂理財知識_新手教室 Youtube 投資影片教學  Z:\\8分鐘搞懂理財知識_新手教室 Youtube 投資影片教學\\  30304434   \nZ:\\8分鐘搞懂理財知識_新手教室 Youtube 投資影片教學  Z:\\8分鐘搞懂理財知識_新手教室 Youtube 投資影片教學\\  22989551   \nZ:\\8分鐘搞懂理財知識_新手教室 Youtube 投資影片教學  Z:\\8分鐘搞懂理財知識_新手教室 Youtube 投資影片教學\\  24669692   \nZ:\\8分鐘搞懂理財知識_新手教室 Youtube 投資影片教學  Z:\\8分鐘搞懂理財知識_新手教室 Youtube 投資影片教學\\  17973136   \n...                                                             ...       ...   \nZ:\\8分鐘搞懂理財知識_新手教室 Youtube 投資影片教學  Z:\\8分鐘搞懂理財知識_新手教室 Youtube 投資影片教學\\  22879809   \nZ:\\8分鐘搞懂理財知識_新手教室 Youtube 投資影片教學  Z:\\8分鐘搞懂理財知識_新手教室 Youtube 投資影片教學\\  18111045   \nZ:\\8分鐘搞懂理財知識_新手教室 Youtube 投資影片教學  Z:\\8分鐘搞懂理財知識_新手教室 Youtube 投資影片教學\\  22960232   \nZ:\\8分鐘搞懂理財知識_新手教室 Youtube 投資影片教學  Z:\\8分鐘搞懂理財知識_新手教室 Youtube 投資影片教學\\  33604243   \nZ:\\8分鐘搞懂理財知識_新手教室 Youtube 投資影片教學  Z:\\8分鐘搞懂理財知識_新手教室 Youtube 投資影片教學\\  24997907   \n\n                                                   新增日期  \\\n磁碟機根目錄                                                    \nZ:\\8分鐘搞懂理財知識_新手教室 Youtube 投資影片教學  2021/5/10 下午 05:08:28   \nZ:\\8分鐘搞懂理財知識_新手教室 Youtube 投資影片教學  2021/5/10 下午 05:09:37   \nZ:\\8分鐘搞懂理財知識_新手教室 Youtube 投資影片教學  2021/5/10 下午 05:08:34   \nZ:\\8分鐘搞懂理財知識_新手教室 Youtube 投資影片教學  2021/5/10 下午 05:08:31   \nZ:\\8分鐘搞懂理財知識_新手教室 Youtube 投資影片教學  2021/5/10 下午 05:10:17   \n...                                                 ...   \nZ:\\8分鐘搞懂理財知識_新手教室 Youtube 投資影片教學  2021/5/10 下午 05:14:37   \nZ:\\8分鐘搞懂理財知識_新手教室 Youtube 投資影片教學  2021/5/10 下午 05:14:45   \nZ:\\8分鐘搞懂理財知識_新手教室 Youtube 投資影片教學  2021/5/10 下午 05:14:48   \nZ:\\8分鐘搞懂理財知識_新手教室 Youtube 投資影片教學  2021/5/10 下午 05:14:52   \nZ:\\8分鐘搞懂理財知識_新手教室 Youtube 投資影片教學  2021/5/10 下午 05:14:56   \n\n                                                    修改日期  \n磁碟機根目錄                                                    \nZ:\\8分鐘搞懂理財知識_新手教室 Youtube 投資影片教學  2018/11/14 下午 02:12:09  \nZ:\\8分鐘搞懂理財知識_新手教室 Youtube 投資影片教學    2015/9/9 下午 12:31:30  \nZ:\\8分鐘搞懂理財知識_新手教室 Youtube 投資影片教學   2018/11/1 上午 12:32:34  \nZ:\\8分鐘搞懂理財知識_新手教室 Youtube 投資影片教學  2015/10/22 下午 05:48:04  \nZ:\\8分鐘搞懂理財知識_新手教室 Youtube 投資影片教學   2015/11/9 下午 03:51:44  \n...                                                  ...  \nZ:\\8分鐘搞懂理財知識_新手教室 Youtube 投資影片教學  2020/12/11 上午 03:00:38  \nZ:\\8分鐘搞懂理財知識_新手教室 Youtube 投資影片教學  2018/11/26 下午 05:25:41  \nZ:\\8分鐘搞懂理財知識_新手教室 Youtube 投資影片教學  2020/12/29 下午 03:40:09  \nZ:\\8分鐘搞懂理財知識_新手教室 Youtube 投資影片教學   2020/11/5 下午 06:28:58  \nZ:\\8分鐘搞懂理財知識_新手教室 Youtube 投資影片教學  2020/12/14 下午 05:36:55  \n\n[153 rows x 11 columns]",
      "text/html": "<div>\n<style scoped>\n    .dataframe tbody tr th:only-of-type {\n        vertical-align: middle;\n    }\n\n    .dataframe tbody tr th {\n        vertical-align: top;\n    }\n\n    .dataframe thead th {\n        text-align: right;\n    }\n</style>\n<table border=\"1\" class=\"dataframe\">\n  <thead>\n    <tr style=\"text-align: right;\">\n      <th></th>\n      <th>組別</th>\n      <th>檔案類型</th>\n      <th>磁碟機</th>\n      <th>根目錄</th>\n      <th>子目錄</th>\n      <th>檔案資料夾</th>\n      <th>檔案名稱</th>\n      <th>路徑</th>\n      <th>大小</th>\n      <th>新增日期</th>\n      <th>修改日期</th>\n    </tr>\n    <tr>\n      <th>磁碟機根目錄</th>\n      <th></th>\n      <th></th>\n      <th></th>\n      <th></th>\n      <th></th>\n      <th></th>\n      <th></th>\n      <th></th>\n      <th></th>\n      <th></th>\n      <th></th>\n    </tr>\n  </thead>\n  <tbody>\n    <tr>\n      <th>Z:\\8分鐘搞懂理財知識_新手教室 Youtube 投資影片教學</th>\n      <td>1</td>\n      <td>.mp4</td>\n      <td>Z:</td>\n      <td>8分鐘搞懂理財知識_新手教室 Youtube 投資影片教學</td>\n      <td></td>\n      <td>8分鐘搞懂理財知識_新手教室 Youtube 投資影片教學</td>\n      <td>8分鐘搞懂技術分析：RSI的重要價值-WUwaMVSCDYY.mp4</td>\n      <td>Z:\\8分鐘搞懂理財知識_新手教室 Youtube 投資影片教學\\</td>\n      <td>25612876</td>\n      <td>2021/5/10 下午 05:08:28</td>\n      <td>2018/11/14 下午 02:12:09</td>\n    </tr>\n    <tr>\n      <th>Z:\\8分鐘搞懂理財知識_新手教室 Youtube 投資影片教學</th>\n      <td>2</td>\n      <td>.mp4</td>\n      <td>Z:</td>\n      <td>8分鐘搞懂理財知識_新手教室 Youtube 投資影片教學</td>\n      <td></td>\n      <td>8分鐘搞懂理財知識_新手教室 Youtube 投資影片教學</td>\n      <td>8分鐘搞懂理財知識：期貨新手教室（下）-K7ETmfHiw3M.mp4</td>\n      <td>Z:\\8分鐘搞懂理財知識_新手教室 Youtube 投資影片教學\\</td>\n      <td>30304434</td>\n      <td>2021/5/10 下午 05:09:37</td>\n      <td>2015/9/9 下午 12:31:30</td>\n    </tr>\n    <tr>\n      <th>Z:\\8分鐘搞懂理財知識_新手教室 Youtube 投資影片教學</th>\n      <td>3</td>\n      <td>.mp4</td>\n      <td>Z:</td>\n      <td>8分鐘搞懂理財知識_新手教室 Youtube 投資影片教學</td>\n      <td></td>\n      <td>8分鐘搞懂理財知識_新手教室 Youtube 投資影片教學</td>\n      <td>8分鐘搞懂技術分析：均線扣抵-2VKhGSE3gRM.mp4</td>\n      <td>Z:\\8分鐘搞懂理財知識_新手教室 Youtube 投資影片教學\\</td>\n      <td>22989551</td>\n      <td>2021/5/10 下午 05:08:34</td>\n      <td>2018/11/1 上午 12:32:34</td>\n    </tr>\n    <tr>\n      <th>Z:\\8分鐘搞懂理財知識_新手教室 Youtube 投資影片教學</th>\n      <td>4</td>\n      <td>.mp4</td>\n      <td>Z:</td>\n      <td>8分鐘搞懂理財知識_新手教室 Youtube 投資影片教學</td>\n      <td></td>\n      <td>8分鐘搞懂理財知識_新手教室 Youtube 投資影片教學</td>\n      <td>8分鐘搞懂技術分析：什麼是「缺口」，教你抓出K線變化所傳遞的訊號-HTSbeSb-gRM.mp4</td>\n      <td>Z:\\8分鐘搞懂理財知識_新手教室 Youtube 投資影片教學\\</td>\n      <td>24669692</td>\n      <td>2021/5/10 下午 05:08:31</td>\n      <td>2015/10/22 下午 05:48:04</td>\n    </tr>\n    <tr>\n      <th>Z:\\8分鐘搞懂理財知識_新手教室 Youtube 投資影片教學</th>\n      <td>5</td>\n      <td>.mp4</td>\n      <td>Z:</td>\n      <td>8分鐘搞懂理財知識_新手教室 Youtube 投資影片教學</td>\n      <td></td>\n      <td>8分鐘搞懂理財知識_新手教室 Youtube 投資影片教學</td>\n      <td>8分鐘搞懂理財觀念：正確的殖息(殖利)率概念-W7Y2rXu4EeQ.mp4</td>\n      <td>Z:\\8分鐘搞懂理財知識_新手教室 Youtube 投資影片教學\\</td>\n      <td>17973136</td>\n      <td>2021/5/10 下午 05:10:17</td>\n      <td>2015/11/9 下午 03:51:44</td>\n    </tr>\n    <tr>\n      <th>...</th>\n      <td>...</td>\n      <td>...</td>\n      <td>...</td>\n      <td>...</td>\n      <td>...</td>\n      <td>...</td>\n      <td>...</td>\n      <td>...</td>\n      <td>...</td>\n      <td>...</td>\n      <td>...</td>\n    </tr>\n    <tr>\n      <th>Z:\\8分鐘搞懂理財知識_新手教室 Youtube 投資影片教學</th>\n      <td>149</td>\n      <td>.mp4</td>\n      <td>Z:</td>\n      <td>8分鐘搞懂理財知識_新手教室 Youtube 投資影片教學</td>\n      <td></td>\n      <td>8分鐘搞懂理財知識_新手教室 Youtube 投資影片教學</td>\n      <td>認識葛蘭碧八大法則︱《3分鐘投資技巧》甘木小編-jBYAuvV9qRs.mp4</td>\n      <td>Z:\\8分鐘搞懂理財知識_新手教室 Youtube 投資影片教學\\</td>\n      <td>22879809</td>\n      <td>2021/5/10 下午 05:14:37</td>\n      <td>2020/12/11 上午 03:00:38</td>\n    </tr>\n    <tr>\n      <th>Z:\\8分鐘搞懂理財知識_新手教室 Youtube 投資影片教學</th>\n      <td>150</td>\n      <td>.mp4</td>\n      <td>Z:</td>\n      <td>8分鐘搞懂理財知識_新手教室 Youtube 投資影片教學</td>\n      <td></td>\n      <td>8分鐘搞懂理財知識_新手教室 Youtube 投資影片教學</td>\n      <td>進階ETF— 陸股ETF︱《3分鐘投資技巧》甘木小編--Z08nUunG6A.mp4</td>\n      <td>Z:\\8分鐘搞懂理財知識_新手教室 Youtube 投資影片教學\\</td>\n      <td>18111045</td>\n      <td>2021/5/10 下午 05:14:45</td>\n      <td>2018/11/26 下午 05:25:41</td>\n    </tr>\n    <tr>\n      <th>Z:\\8分鐘搞懂理財知識_新手教室 Youtube 投資影片教學</th>\n      <td>151</td>\n      <td>.mp4</td>\n      <td>Z:</td>\n      <td>8分鐘搞懂理財知識_新手教室 Youtube 投資影片教學</td>\n      <td></td>\n      <td>8分鐘搞懂理財知識_新手教室 Youtube 投資影片教學</td>\n      <td>關於零股交易新制，你不可不知的6件事︱《3分鐘投資技巧》甘木小編-3MShipOPZnU.mp4</td>\n      <td>Z:\\8分鐘搞懂理財知識_新手教室 Youtube 投資影片教學\\</td>\n      <td>22960232</td>\n      <td>2021/5/10 下午 05:14:48</td>\n      <td>2020/12/29 下午 03:40:09</td>\n    </tr>\n    <tr>\n      <th>Z:\\8分鐘搞懂理財知識_新手教室 Youtube 投資影片教學</th>\n      <td>152</td>\n      <td>.mp4</td>\n      <td>Z:</td>\n      <td>8分鐘搞懂理財知識_新手教室 Youtube 投資影片教學</td>\n      <td></td>\n      <td>8分鐘搞懂理財知識_新手教室 Youtube 投資影片教學</td>\n      <td>除權息的基本概念︱《3分鐘投資技巧》甘木小編-JseLyFRYGL0.mp4</td>\n      <td>Z:\\8分鐘搞懂理財知識_新手教室 Youtube 投資影片教學\\</td>\n      <td>33604243</td>\n      <td>2021/5/10 下午 05:14:52</td>\n      <td>2020/11/5 下午 06:28:58</td>\n    </tr>\n    <tr>\n      <th>Z:\\8分鐘搞懂理財知識_新手教室 Youtube 投資影片教學</th>\n      <td>153</td>\n      <td>.mp4</td>\n      <td>Z:</td>\n      <td>8分鐘搞懂理財知識_新手教室 Youtube 投資影片教學</td>\n      <td></td>\n      <td>8分鐘搞懂理財知識_新手教室 Youtube 投資影片教學</td>\n      <td>除權息的應用概念︱《3分鐘投資技巧》甘木小編-E0yml_or9hM.mp4</td>\n      <td>Z:\\8分鐘搞懂理財知識_新手教室 Youtube 投資影片教學\\</td>\n      <td>24997907</td>\n      <td>2021/5/10 下午 05:14:56</td>\n      <td>2020/12/14 下午 05:36:55</td>\n    </tr>\n  </tbody>\n</table>\n<p>153 rows × 11 columns</p>\n</div>"
     },
     "execution_count": 63,
     "metadata": {},
     "output_type": "execute_result"
    }
   ],
   "source": [
    "df.loc['Z:\\8分鐘搞懂理財知識_新手教室 Youtube 投資影片教學']"
   ],
   "metadata": {
    "collapsed": false,
    "pycharm": {
     "name": "#%%\n"
    }
   }
  },
  {
   "cell_type": "code",
   "execution_count": 65,
   "outputs": [],
   "source": [
    "unique_root_folders = df.index.unique()"
   ],
   "metadata": {
    "collapsed": false,
    "pycharm": {
     "name": "#%%\n"
    }
   }
  },
  {
   "cell_type": "code",
   "execution_count": 66,
   "outputs": [],
   "source": [
    "root_folder = unique_root_folders[0]"
   ],
   "metadata": {
    "collapsed": false,
    "pycharm": {
     "name": "#%%\n"
    }
   }
  },
  {
   "cell_type": "code",
   "execution_count": 67,
   "outputs": [],
   "source": [
    "folder_df = df.loc[root_folder]"
   ],
   "metadata": {
    "collapsed": false,
    "pycharm": {
     "name": "#%%\n"
    }
   }
  },
  {
   "cell_type": "code",
   "execution_count": 68,
   "outputs": [
    {
     "data": {
      "text/plain": "                                   組別  檔案類型 磁碟機  \\\n磁碟機根目錄                                            \nZ:\\8分鐘搞懂理財知識_新手教室 Youtube 投資影片教學    1  .mp4  Z:   \nZ:\\8分鐘搞懂理財知識_新手教室 Youtube 投資影片教學    2  .mp4  Z:   \nZ:\\8分鐘搞懂理財知識_新手教室 Youtube 投資影片教學    3  .mp4  Z:   \nZ:\\8分鐘搞懂理財知識_新手教室 Youtube 投資影片教學    4  .mp4  Z:   \nZ:\\8分鐘搞懂理財知識_新手教室 Youtube 投資影片教學    5  .mp4  Z:   \n...                               ...   ...  ..   \nZ:\\8分鐘搞懂理財知識_新手教室 Youtube 投資影片教學  149  .mp4  Z:   \nZ:\\8分鐘搞懂理財知識_新手教室 Youtube 投資影片教學  150  .mp4  Z:   \nZ:\\8分鐘搞懂理財知識_新手教室 Youtube 投資影片教學  151  .mp4  Z:   \nZ:\\8分鐘搞懂理財知識_新手教室 Youtube 投資影片教學  152  .mp4  Z:   \nZ:\\8分鐘搞懂理財知識_新手教室 Youtube 投資影片教學  153  .mp4  Z:   \n\n                                                            根目錄 子目錄  \\\n磁碟機根目錄                                                                \nZ:\\8分鐘搞懂理財知識_新手教室 Youtube 投資影片教學  8分鐘搞懂理財知識_新手教室 Youtube 投資影片教學       \nZ:\\8分鐘搞懂理財知識_新手教室 Youtube 投資影片教學  8分鐘搞懂理財知識_新手教室 Youtube 投資影片教學       \nZ:\\8分鐘搞懂理財知識_新手教室 Youtube 投資影片教學  8分鐘搞懂理財知識_新手教室 Youtube 投資影片教學       \nZ:\\8分鐘搞懂理財知識_新手教室 Youtube 投資影片教學  8分鐘搞懂理財知識_新手教室 Youtube 投資影片教學       \nZ:\\8分鐘搞懂理財知識_新手教室 Youtube 投資影片教學  8分鐘搞懂理財知識_新手教室 Youtube 投資影片教學       \n...                                                         ...  ..   \nZ:\\8分鐘搞懂理財知識_新手教室 Youtube 投資影片教學  8分鐘搞懂理財知識_新手教室 Youtube 投資影片教學       \nZ:\\8分鐘搞懂理財知識_新手教室 Youtube 投資影片教學  8分鐘搞懂理財知識_新手教室 Youtube 投資影片教學       \nZ:\\8分鐘搞懂理財知識_新手教室 Youtube 投資影片教學  8分鐘搞懂理財知識_新手教室 Youtube 投資影片教學       \nZ:\\8分鐘搞懂理財知識_新手教室 Youtube 投資影片教學  8分鐘搞懂理財知識_新手教室 Youtube 投資影片教學       \nZ:\\8分鐘搞懂理財知識_新手教室 Youtube 投資影片教學  8分鐘搞懂理財知識_新手教室 Youtube 投資影片教學       \n\n                                                          檔案資料夾  \\\n磁碟機根目錄                                                            \nZ:\\8分鐘搞懂理財知識_新手教室 Youtube 投資影片教學  8分鐘搞懂理財知識_新手教室 Youtube 投資影片教學   \nZ:\\8分鐘搞懂理財知識_新手教室 Youtube 投資影片教學  8分鐘搞懂理財知識_新手教室 Youtube 投資影片教學   \nZ:\\8分鐘搞懂理財知識_新手教室 Youtube 投資影片教學  8分鐘搞懂理財知識_新手教室 Youtube 投資影片教學   \nZ:\\8分鐘搞懂理財知識_新手教室 Youtube 投資影片教學  8分鐘搞懂理財知識_新手教室 Youtube 投資影片教學   \nZ:\\8分鐘搞懂理財知識_新手教室 Youtube 投資影片教學  8分鐘搞懂理財知識_新手教室 Youtube 投資影片教學   \n...                                                         ...   \nZ:\\8分鐘搞懂理財知識_新手教室 Youtube 投資影片教學  8分鐘搞懂理財知識_新手教室 Youtube 投資影片教學   \nZ:\\8分鐘搞懂理財知識_新手教室 Youtube 投資影片教學  8分鐘搞懂理財知識_新手教室 Youtube 投資影片教學   \nZ:\\8分鐘搞懂理財知識_新手教室 Youtube 投資影片教學  8分鐘搞懂理財知識_新手教室 Youtube 投資影片教學   \nZ:\\8分鐘搞懂理財知識_新手教室 Youtube 投資影片教學  8分鐘搞懂理財知識_新手教室 Youtube 投資影片教學   \nZ:\\8分鐘搞懂理財知識_新手教室 Youtube 投資影片教學  8分鐘搞懂理財知識_新手教室 Youtube 投資影片教學   \n\n                                                                              檔案名稱  \\\n磁碟機根目錄                                                                               \nZ:\\8分鐘搞懂理財知識_新手教室 Youtube 投資影片教學                8分鐘搞懂技術分析：RSI的重要價值-WUwaMVSCDYY.mp4   \nZ:\\8分鐘搞懂理財知識_新手教室 Youtube 投資影片教學               8分鐘搞懂理財知識：期貨新手教室（下）-K7ETmfHiw3M.mp4   \nZ:\\8分鐘搞懂理財知識_新手教室 Youtube 投資影片教學                    8分鐘搞懂技術分析：均線扣抵-2VKhGSE3gRM.mp4   \nZ:\\8分鐘搞懂理財知識_新手教室 Youtube 投資影片教學  8分鐘搞懂技術分析：什麼是「缺口」，教你抓出K線變化所傳遞的訊號-HTSbeSb-gRM.mp4   \nZ:\\8分鐘搞懂理財知識_新手教室 Youtube 投資影片教學            8分鐘搞懂理財觀念：正確的殖息(殖利)率概念-W7Y2rXu4EeQ.mp4   \n...                                                                            ...   \nZ:\\8分鐘搞懂理財知識_新手教室 Youtube 投資影片教學           認識葛蘭碧八大法則︱《3分鐘投資技巧》甘木小編-jBYAuvV9qRs.mp4   \nZ:\\8分鐘搞懂理財知識_新手教室 Youtube 投資影片教學        進階ETF— 陸股ETF︱《3分鐘投資技巧》甘木小編--Z08nUunG6A.mp4   \nZ:\\8分鐘搞懂理財知識_新手教室 Youtube 投資影片教學  關於零股交易新制，你不可不知的6件事︱《3分鐘投資技巧》甘木小編-3MShipOPZnU.mp4   \nZ:\\8分鐘搞懂理財知識_新手教室 Youtube 投資影片教學            除權息的基本概念︱《3分鐘投資技巧》甘木小編-JseLyFRYGL0.mp4   \nZ:\\8分鐘搞懂理財知識_新手教室 Youtube 投資影片教學            除權息的應用概念︱《3分鐘投資技巧》甘木小編-E0yml_or9hM.mp4   \n\n                                                                 路徑        大小  \\\n磁碟機根目錄                                                                          \nZ:\\8分鐘搞懂理財知識_新手教室 Youtube 投資影片教學  Z:\\8分鐘搞懂理財知識_新手教室 Youtube 投資影片教學\\  25612876   \nZ:\\8分鐘搞懂理財知識_新手教室 Youtube 投資影片教學  Z:\\8分鐘搞懂理財知識_新手教室 Youtube 投資影片教學\\  30304434   \nZ:\\8分鐘搞懂理財知識_新手教室 Youtube 投資影片教學  Z:\\8分鐘搞懂理財知識_新手教室 Youtube 投資影片教學\\  22989551   \nZ:\\8分鐘搞懂理財知識_新手教室 Youtube 投資影片教學  Z:\\8分鐘搞懂理財知識_新手教室 Youtube 投資影片教學\\  24669692   \nZ:\\8分鐘搞懂理財知識_新手教室 Youtube 投資影片教學  Z:\\8分鐘搞懂理財知識_新手教室 Youtube 投資影片教學\\  17973136   \n...                                                             ...       ...   \nZ:\\8分鐘搞懂理財知識_新手教室 Youtube 投資影片教學  Z:\\8分鐘搞懂理財知識_新手教室 Youtube 投資影片教學\\  22879809   \nZ:\\8分鐘搞懂理財知識_新手教室 Youtube 投資影片教學  Z:\\8分鐘搞懂理財知識_新手教室 Youtube 投資影片教學\\  18111045   \nZ:\\8分鐘搞懂理財知識_新手教室 Youtube 投資影片教學  Z:\\8分鐘搞懂理財知識_新手教室 Youtube 投資影片教學\\  22960232   \nZ:\\8分鐘搞懂理財知識_新手教室 Youtube 投資影片教學  Z:\\8分鐘搞懂理財知識_新手教室 Youtube 投資影片教學\\  33604243   \nZ:\\8分鐘搞懂理財知識_新手教室 Youtube 投資影片教學  Z:\\8分鐘搞懂理財知識_新手教室 Youtube 投資影片教學\\  24997907   \n\n                                                   新增日期  \\\n磁碟機根目錄                                                    \nZ:\\8分鐘搞懂理財知識_新手教室 Youtube 投資影片教學  2021/5/10 下午 05:08:28   \nZ:\\8分鐘搞懂理財知識_新手教室 Youtube 投資影片教學  2021/5/10 下午 05:09:37   \nZ:\\8分鐘搞懂理財知識_新手教室 Youtube 投資影片教學  2021/5/10 下午 05:08:34   \nZ:\\8分鐘搞懂理財知識_新手教室 Youtube 投資影片教學  2021/5/10 下午 05:08:31   \nZ:\\8分鐘搞懂理財知識_新手教室 Youtube 投資影片教學  2021/5/10 下午 05:10:17   \n...                                                 ...   \nZ:\\8分鐘搞懂理財知識_新手教室 Youtube 投資影片教學  2021/5/10 下午 05:14:37   \nZ:\\8分鐘搞懂理財知識_新手教室 Youtube 投資影片教學  2021/5/10 下午 05:14:45   \nZ:\\8分鐘搞懂理財知識_新手教室 Youtube 投資影片教學  2021/5/10 下午 05:14:48   \nZ:\\8分鐘搞懂理財知識_新手教室 Youtube 投資影片教學  2021/5/10 下午 05:14:52   \nZ:\\8分鐘搞懂理財知識_新手教室 Youtube 投資影片教學  2021/5/10 下午 05:14:56   \n\n                                                    修改日期  \n磁碟機根目錄                                                    \nZ:\\8分鐘搞懂理財知識_新手教室 Youtube 投資影片教學  2018/11/14 下午 02:12:09  \nZ:\\8分鐘搞懂理財知識_新手教室 Youtube 投資影片教學    2015/9/9 下午 12:31:30  \nZ:\\8分鐘搞懂理財知識_新手教室 Youtube 投資影片教學   2018/11/1 上午 12:32:34  \nZ:\\8分鐘搞懂理財知識_新手教室 Youtube 投資影片教學  2015/10/22 下午 05:48:04  \nZ:\\8分鐘搞懂理財知識_新手教室 Youtube 投資影片教學   2015/11/9 下午 03:51:44  \n...                                                  ...  \nZ:\\8分鐘搞懂理財知識_新手教室 Youtube 投資影片教學  2020/12/11 上午 03:00:38  \nZ:\\8分鐘搞懂理財知識_新手教室 Youtube 投資影片教學  2018/11/26 下午 05:25:41  \nZ:\\8分鐘搞懂理財知識_新手教室 Youtube 投資影片教學  2020/12/29 下午 03:40:09  \nZ:\\8分鐘搞懂理財知識_新手教室 Youtube 投資影片教學   2020/11/5 下午 06:28:58  \nZ:\\8分鐘搞懂理財知識_新手教室 Youtube 投資影片教學  2020/12/14 下午 05:36:55  \n\n[153 rows x 11 columns]",
      "text/html": "<div>\n<style scoped>\n    .dataframe tbody tr th:only-of-type {\n        vertical-align: middle;\n    }\n\n    .dataframe tbody tr th {\n        vertical-align: top;\n    }\n\n    .dataframe thead th {\n        text-align: right;\n    }\n</style>\n<table border=\"1\" class=\"dataframe\">\n  <thead>\n    <tr style=\"text-align: right;\">\n      <th></th>\n      <th>組別</th>\n      <th>檔案類型</th>\n      <th>磁碟機</th>\n      <th>根目錄</th>\n      <th>子目錄</th>\n      <th>檔案資料夾</th>\n      <th>檔案名稱</th>\n      <th>路徑</th>\n      <th>大小</th>\n      <th>新增日期</th>\n      <th>修改日期</th>\n    </tr>\n    <tr>\n      <th>磁碟機根目錄</th>\n      <th></th>\n      <th></th>\n      <th></th>\n      <th></th>\n      <th></th>\n      <th></th>\n      <th></th>\n      <th></th>\n      <th></th>\n      <th></th>\n      <th></th>\n    </tr>\n  </thead>\n  <tbody>\n    <tr>\n      <th>Z:\\8分鐘搞懂理財知識_新手教室 Youtube 投資影片教學</th>\n      <td>1</td>\n      <td>.mp4</td>\n      <td>Z:</td>\n      <td>8分鐘搞懂理財知識_新手教室 Youtube 投資影片教學</td>\n      <td></td>\n      <td>8分鐘搞懂理財知識_新手教室 Youtube 投資影片教學</td>\n      <td>8分鐘搞懂技術分析：RSI的重要價值-WUwaMVSCDYY.mp4</td>\n      <td>Z:\\8分鐘搞懂理財知識_新手教室 Youtube 投資影片教學\\</td>\n      <td>25612876</td>\n      <td>2021/5/10 下午 05:08:28</td>\n      <td>2018/11/14 下午 02:12:09</td>\n    </tr>\n    <tr>\n      <th>Z:\\8分鐘搞懂理財知識_新手教室 Youtube 投資影片教學</th>\n      <td>2</td>\n      <td>.mp4</td>\n      <td>Z:</td>\n      <td>8分鐘搞懂理財知識_新手教室 Youtube 投資影片教學</td>\n      <td></td>\n      <td>8分鐘搞懂理財知識_新手教室 Youtube 投資影片教學</td>\n      <td>8分鐘搞懂理財知識：期貨新手教室（下）-K7ETmfHiw3M.mp4</td>\n      <td>Z:\\8分鐘搞懂理財知識_新手教室 Youtube 投資影片教學\\</td>\n      <td>30304434</td>\n      <td>2021/5/10 下午 05:09:37</td>\n      <td>2015/9/9 下午 12:31:30</td>\n    </tr>\n    <tr>\n      <th>Z:\\8分鐘搞懂理財知識_新手教室 Youtube 投資影片教學</th>\n      <td>3</td>\n      <td>.mp4</td>\n      <td>Z:</td>\n      <td>8分鐘搞懂理財知識_新手教室 Youtube 投資影片教學</td>\n      <td></td>\n      <td>8分鐘搞懂理財知識_新手教室 Youtube 投資影片教學</td>\n      <td>8分鐘搞懂技術分析：均線扣抵-2VKhGSE3gRM.mp4</td>\n      <td>Z:\\8分鐘搞懂理財知識_新手教室 Youtube 投資影片教學\\</td>\n      <td>22989551</td>\n      <td>2021/5/10 下午 05:08:34</td>\n      <td>2018/11/1 上午 12:32:34</td>\n    </tr>\n    <tr>\n      <th>Z:\\8分鐘搞懂理財知識_新手教室 Youtube 投資影片教學</th>\n      <td>4</td>\n      <td>.mp4</td>\n      <td>Z:</td>\n      <td>8分鐘搞懂理財知識_新手教室 Youtube 投資影片教學</td>\n      <td></td>\n      <td>8分鐘搞懂理財知識_新手教室 Youtube 投資影片教學</td>\n      <td>8分鐘搞懂技術分析：什麼是「缺口」，教你抓出K線變化所傳遞的訊號-HTSbeSb-gRM.mp4</td>\n      <td>Z:\\8分鐘搞懂理財知識_新手教室 Youtube 投資影片教學\\</td>\n      <td>24669692</td>\n      <td>2021/5/10 下午 05:08:31</td>\n      <td>2015/10/22 下午 05:48:04</td>\n    </tr>\n    <tr>\n      <th>Z:\\8分鐘搞懂理財知識_新手教室 Youtube 投資影片教學</th>\n      <td>5</td>\n      <td>.mp4</td>\n      <td>Z:</td>\n      <td>8分鐘搞懂理財知識_新手教室 Youtube 投資影片教學</td>\n      <td></td>\n      <td>8分鐘搞懂理財知識_新手教室 Youtube 投資影片教學</td>\n      <td>8分鐘搞懂理財觀念：正確的殖息(殖利)率概念-W7Y2rXu4EeQ.mp4</td>\n      <td>Z:\\8分鐘搞懂理財知識_新手教室 Youtube 投資影片教學\\</td>\n      <td>17973136</td>\n      <td>2021/5/10 下午 05:10:17</td>\n      <td>2015/11/9 下午 03:51:44</td>\n    </tr>\n    <tr>\n      <th>...</th>\n      <td>...</td>\n      <td>...</td>\n      <td>...</td>\n      <td>...</td>\n      <td>...</td>\n      <td>...</td>\n      <td>...</td>\n      <td>...</td>\n      <td>...</td>\n      <td>...</td>\n      <td>...</td>\n    </tr>\n    <tr>\n      <th>Z:\\8分鐘搞懂理財知識_新手教室 Youtube 投資影片教學</th>\n      <td>149</td>\n      <td>.mp4</td>\n      <td>Z:</td>\n      <td>8分鐘搞懂理財知識_新手教室 Youtube 投資影片教學</td>\n      <td></td>\n      <td>8分鐘搞懂理財知識_新手教室 Youtube 投資影片教學</td>\n      <td>認識葛蘭碧八大法則︱《3分鐘投資技巧》甘木小編-jBYAuvV9qRs.mp4</td>\n      <td>Z:\\8分鐘搞懂理財知識_新手教室 Youtube 投資影片教學\\</td>\n      <td>22879809</td>\n      <td>2021/5/10 下午 05:14:37</td>\n      <td>2020/12/11 上午 03:00:38</td>\n    </tr>\n    <tr>\n      <th>Z:\\8分鐘搞懂理財知識_新手教室 Youtube 投資影片教學</th>\n      <td>150</td>\n      <td>.mp4</td>\n      <td>Z:</td>\n      <td>8分鐘搞懂理財知識_新手教室 Youtube 投資影片教學</td>\n      <td></td>\n      <td>8分鐘搞懂理財知識_新手教室 Youtube 投資影片教學</td>\n      <td>進階ETF— 陸股ETF︱《3分鐘投資技巧》甘木小編--Z08nUunG6A.mp4</td>\n      <td>Z:\\8分鐘搞懂理財知識_新手教室 Youtube 投資影片教學\\</td>\n      <td>18111045</td>\n      <td>2021/5/10 下午 05:14:45</td>\n      <td>2018/11/26 下午 05:25:41</td>\n    </tr>\n    <tr>\n      <th>Z:\\8分鐘搞懂理財知識_新手教室 Youtube 投資影片教學</th>\n      <td>151</td>\n      <td>.mp4</td>\n      <td>Z:</td>\n      <td>8分鐘搞懂理財知識_新手教室 Youtube 投資影片教學</td>\n      <td></td>\n      <td>8分鐘搞懂理財知識_新手教室 Youtube 投資影片教學</td>\n      <td>關於零股交易新制，你不可不知的6件事︱《3分鐘投資技巧》甘木小編-3MShipOPZnU.mp4</td>\n      <td>Z:\\8分鐘搞懂理財知識_新手教室 Youtube 投資影片教學\\</td>\n      <td>22960232</td>\n      <td>2021/5/10 下午 05:14:48</td>\n      <td>2020/12/29 下午 03:40:09</td>\n    </tr>\n    <tr>\n      <th>Z:\\8分鐘搞懂理財知識_新手教室 Youtube 投資影片教學</th>\n      <td>152</td>\n      <td>.mp4</td>\n      <td>Z:</td>\n      <td>8分鐘搞懂理財知識_新手教室 Youtube 投資影片教學</td>\n      <td></td>\n      <td>8分鐘搞懂理財知識_新手教室 Youtube 投資影片教學</td>\n      <td>除權息的基本概念︱《3分鐘投資技巧》甘木小編-JseLyFRYGL0.mp4</td>\n      <td>Z:\\8分鐘搞懂理財知識_新手教室 Youtube 投資影片教學\\</td>\n      <td>33604243</td>\n      <td>2021/5/10 下午 05:14:52</td>\n      <td>2020/11/5 下午 06:28:58</td>\n    </tr>\n    <tr>\n      <th>Z:\\8分鐘搞懂理財知識_新手教室 Youtube 投資影片教學</th>\n      <td>153</td>\n      <td>.mp4</td>\n      <td>Z:</td>\n      <td>8分鐘搞懂理財知識_新手教室 Youtube 投資影片教學</td>\n      <td></td>\n      <td>8分鐘搞懂理財知識_新手教室 Youtube 投資影片教學</td>\n      <td>除權息的應用概念︱《3分鐘投資技巧》甘木小編-E0yml_or9hM.mp4</td>\n      <td>Z:\\8分鐘搞懂理財知識_新手教室 Youtube 投資影片教學\\</td>\n      <td>24997907</td>\n      <td>2021/5/10 下午 05:14:56</td>\n      <td>2020/12/14 下午 05:36:55</td>\n    </tr>\n  </tbody>\n</table>\n<p>153 rows × 11 columns</p>\n</div>"
     },
     "execution_count": 68,
     "metadata": {},
     "output_type": "execute_result"
    }
   ],
   "source": [
    "folder_df"
   ],
   "metadata": {
    "collapsed": false,
    "pycharm": {
     "name": "#%%\n"
    }
   }
  },
  {
   "cell_type": "code",
   "execution_count": 69,
   "outputs": [],
   "source": [
    "folder_teams = folder_df['組別'].to_list()"
   ],
   "metadata": {
    "collapsed": false,
    "pycharm": {
     "name": "#%%\n"
    }
   }
  },
  {
   "cell_type": "code",
   "execution_count": 73,
   "outputs": [],
   "source": [
    "import json\n",
    "with open('unique_root_folders.json', 'w', encoding='utf-8-sig') as f:\n",
    "    json.dump(unique_root_folders.to_list(), f, ensure_ascii=False, indent=4)"
   ],
   "metadata": {
    "collapsed": false,
    "pycharm": {
     "name": "#%%\n"
    }
   }
  },
  {
   "cell_type": "code",
   "execution_count": 71,
   "outputs": [
    {
     "data": {
      "text/plain": "pandas.core.indexes.base.Index"
     },
     "execution_count": 71,
     "metadata": {},
     "output_type": "execute_result"
    }
   ],
   "source": [
    "unique_root_folders.to_list()"
   ],
   "metadata": {
    "collapsed": false,
    "pycharm": {
     "name": "#%%\n"
    }
   }
  },
  {
   "cell_type": "code",
   "execution_count": 75,
   "outputs": [
    {
     "name": "stdout",
     "output_type": "stream",
     "text": [
      "0 Z8分鐘搞懂理財知識_新手教室 Youtube 投資影片教學\n",
      "1 Z8分鐘搞懂理財知識_重新整理過\n",
      "2 ZYoutube 投資影片教學\n",
      "3 D8分鐘搞懂理財知識\n",
      "4 D彭彭的課程\n",
      "5 Z\n",
      "6 EAPComputerScience\n",
      "7 DAP ComputerScience 電腦概論\n",
      "8 Z新增書籍文件\n",
      "9 DAdvanced Analytics with Spark Patterns for Learning from Data at Scale\n",
      "10 Z資訊書籍文件\n",
      "11 DAndroid App 開發之鑰 使用 Java Android Studio_1013_30102015\n",
      "12 DCI Postman Jenkins Github 介面測試自動化極緻應用 一路整合\n",
      "13 DClever Programmer\n",
      "14 DCyber_Security 圖解資訊安全與個資保護 網路時代人人要懂的自保術\n",
      "15 DDSM6 開發者文件_Developer_Guide\n",
      "16 DNAS Synoloyg 文件\n",
      "17 DDevOps 三十六計\n",
      "18 DDocker 入門與實戰\n",
      "19 DGit 完整學會 Git GitHub Git Server 的 24 堂課\n",
      "20 DGithub 創辦人親自指導你精通 Git\n",
      "21 DKubernetes IT 進階修煉  Kubernetes 容器雲全方位應用\n",
      "22 DLinux の繪本 快速上手 Linux 的九堂課\n",
      "23 DMAME Games\n",
      "24 DPyInvest\n",
      "25 DPyMuPDF_fitz 英文117版官方使用手冊\n",
      "26 ZPython Youtube 李宏毅 HungLi Lee機器學習 Machine Learning\n",
      "27 DPython Youtube 李宏毅 HungLi Lee 機器學習 Machine Learning\n",
      "28 ZPython Youtube 林軒田 HsuanTien Lin 機器學習基石 Maching Learning \n",
      "29 DPython Youtube 林軒田 HsuanTien Lin 機器學習基石 Maching Learning \n",
      "30 DPython 程式交易 30 天新手入門\n",
      "31 DPythonGUIProgrammingACompleteReferenceGuide\n",
      "32 DSketchUp Pro Certified 原廠中文教材 適用20142018版本\n",
      "33 DTibame_緯育\n",
      "34 DUbuntu19 完全自學手冊 桌面 系統與網路應用全攻略\n",
      "35 DVisual Studio Code 小輕快跨平台 王的編輯器 Visual Studio Code 聖經\n",
      "36 DWireshark 實戰演練與網路封包分析寶典\n",
      "37 ZXscript入門篇\n",
      "38 D_XQ XScript 量化交易平台\n",
      "39 D_eBooks 管理資訊系統\n",
      "40 Eongoing_projects\n",
      "41 D_eBooks 電子書 其他資訊書籍\n",
      "42 D_eBooks 電子書 AI  BigData\n",
      "43 D_eBooks 電子書 Python\n",
      "44 EfChartPython6\n",
      "45 D_githubs 下載\n",
      "46 Ebokeh\n",
      "47 Eguest3\n",
      "48 EPyPortfolioOpt\n",
      "49 EScrapy_myProxy\n",
      "50 Etwse_selenium_scrapy\n",
      "51 Etwstock\n",
      "52 EuptodatePttforCodeMan\n",
      "53 Edevelopment_projs\n",
      "54 ELineBot_typlawsLambda_additional\n",
      "55 Emongodb_cloud\n",
      "56 Etwse_selenium_scrapyv1\n",
      "57 D_eBooks 電子書 Flask\n",
      "58 E_SlackBots\n",
      "59 E下載\n",
      "60 E下載資料夾\n",
      "61 EPython_LineBot_Examples\n",
      "62 Edeveloping_env\n",
      "63 Eprevious_projects\n",
      "64 D_eBooks 電子書 Django\n",
      "65 D_eBooks 電子書 JavaJSHTMLCSSRWDNode\n",
      "66 ELINE_appDev_ref\n",
      "67 Eaclouddl\n",
      "68 EJavaExamples\n",
      "69 D_eBooks 電子書 Excel  VBA\n",
      "70 E_outlookProfile\n",
      "71 Z財經股期文件\n",
      "72 D_元大證券_API_b2bapi_user_docs\n",
      "73 D_eBooks 電子書 C  VB\n",
      "74 D_eBooks 電子書 財經股票\n",
      "75 D_群益證券_ API_skcom_Captial\n",
      "76 D_eLearning 影音電子書\n",
      "77 D_eBooks 電子書 LINE聊天機器人\n",
      "78 D_eBooks 電子書 PHP\n",
      "79 E下載的資料夾\n",
      "80 D_eBooks 電子書 Adobe\n",
      "81 D_eBooks 電子書 C  C\n",
      "82 EfChartExamples2\n",
      "83 D_eBooks 電子書 Clouds AWS GCP Azure\n",
      "84 D_下載的文件待歸類\n",
      "85 D_eBooks 電子書 Google  GO\n",
      "86 Dlinebotsdkjavamaster\n",
      "87 EFBoriginalcoastclothing\n",
      "88 Etemporary files\n",
      "89 D_eBooks 電子書 iOS  MacOS\n",
      "90 D_eBooks 電子書 統計\n",
      "91 DpTT開發文章\n",
      "92 D作者 tmdla 自製期貨交易軟體 hanyang0721\n",
      "93 D台大 Python 課程\n",
      "94 Emhaung_homework_v2\n",
      "95 D壓縮的檔案集\n",
      "96 D夯翻鼠_股市 FQ_NEW\n",
      "97 Z巴菲特班講稿音檔MP3作者洪瑞泰Mike桑20201225T044341Z001\n",
      "98 D巴菲特班講稿音檔MP3作者洪瑞泰Mike桑20201225T044341Z001\n",
      "99 D案例解析 超高效心智圖法入門 輕鬆學會用心智圖作學習筆記 工作管理 提升記憶和創意發想\n",
      "100 D盈再表\n",
      "101 D網路概論的十六堂精選課程 行動通訊x物聯網x大數據x雲端運算x人工智慧\n",
      "102 D網路課程\n",
      "103 D莫烦Python\n",
      "104 D電腦網路與通訊概論上奇第一版\n",
      "105 E桌面\n",
      "106 Emhaung_homework\n",
      "107 ErealEstate\n",
      "108 ELineBot_typlawsLambda\n",
      "109 E擷取的畫面\n",
      "110 EData\n",
      "111 ZcSharp Project by 玲奈\n",
      "112 Etkinterhtml\n"
     ]
    }
   ],
   "source": [
    "import re\n",
    "target = 'E:/.developing_env/duplicated_files/by_folder/'\n",
    "for counter, folder in enumerate(unique_root_folders):\n",
    "    folder_df = df.loc[folder]\n",
    "    folder_name = ''.join(re.findall('[\\u4e00-\\u9fff]+|\\w+|\\s|^[<>:/\\|?*\"]+', folder))\n",
    "    folder_df.to_csv(os.path.join(target, folder_name+'.csv'), encoding='utf-8-sig')\n",
    "    print(counter, folder_name)"
   ],
   "metadata": {
    "collapsed": false,
    "pycharm": {
     "name": "#%%\n"
    }
   }
  },
  {
   "cell_type": "code",
   "execution_count": 76,
   "outputs": [
    {
     "data": {
      "text/plain": "113"
     },
     "execution_count": 76,
     "metadata": {},
     "output_type": "execute_result"
    }
   ],
   "source": [
    "len(unique_root_folders)"
   ],
   "metadata": {
    "collapsed": false,
    "pycharm": {
     "name": "#%%\n"
    }
   }
  },
  {
   "cell_type": "code",
   "execution_count": null,
   "outputs": [],
   "source": [],
   "metadata": {
    "collapsed": false,
    "pycharm": {
     "name": "#%%\n"
    }
   }
  }
 ],
 "metadata": {
  "kernelspec": {
   "display_name": "Python 3",
   "language": "python",
   "name": "python3"
  },
  "language_info": {
   "codemirror_mode": {
    "name": "ipython",
    "version": 3
   },
   "file_extension": ".py",
   "mimetype": "text/x-python",
   "name": "python",
   "nbconvert_exporter": "python",
   "pygments_lexer": "ipython3",
   "version": "3.7.9"
  }
 },
 "nbformat": 4,
 "nbformat_minor": 0
}