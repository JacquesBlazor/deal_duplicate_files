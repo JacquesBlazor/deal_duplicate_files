{
 "cells": [
  {
   "cell_type": "code",
   "execution_count": 1,
   "metadata": {
    "collapsed": false,
    "pycharm": {
     "name": "#%%\n"
    }
   },
   "outputs": [],
   "source": [
    "import os\n",
    "import pickle\n",
    "import pandas as pd"
   ]
  },
  {
   "cell_type": "code",
   "execution_count": 2,
   "outputs": [],
   "source": [
    "df = pd.read_csv('df_index.csv')"
   ],
   "metadata": {
    "collapsed": false,
    "pycharm": {
     "name": "#%%\n"
    }
   }
  },
  {
   "cell_type": "code",
   "execution_count": 3,
   "outputs": [
    {
     "data": {
      "text/plain": "                                  磁碟機根目錄      組別      檔案類型 磁碟機  \\\n0       Z:\\8分鐘搞懂理財知識_新手教室 Youtube 投資影片教學       1      .mp4  Z:   \n1                     Z:\\8分鐘搞懂理財知識_重新整理過       1      .mp4  Z:   \n2                      Z:\\Youtube 投資影片教學       1      .mp4  Z:   \n3                           D:\\8分鐘搞懂理財知識       1      .mp4  D:   \n4                           D:\\8分鐘搞懂理財知識       1      .mp4  D:   \n...                                  ...     ...       ...  ..   \n468164                         Z:\\資訊書籍文件  167210    .props  Z:   \n468165                         Z:\\資訊書籍文件  167210    .props  Z:   \n468166                         Z:\\資訊書籍文件  167210    .props  Z:   \n468167                         Z:\\資訊書籍文件  167211  .strings  Z:   \n468168                         Z:\\資訊書籍文件  167211  .strings  Z:   \n\n                                  根目錄  \\\n0       8分鐘搞懂理財知識_新手教室 Youtube 投資影片教學   \n1                     8分鐘搞懂理財知識_重新整理過   \n2                      Youtube 投資影片教學   \n3                           8分鐘搞懂理財知識   \n4                           8分鐘搞懂理財知識   \n...                               ...   \n468164                         資訊書籍文件   \n468165                         資訊書籍文件   \n468166                         資訊書籍文件   \n468167                         資訊書籍文件   \n468168                         資訊書籍文件   \n\n                                                      子目錄  \\\n0                                                     NaN   \n1                                                     NaN   \n2                                                     NaN   \n3                     _8分鐘搞懂理財知識_原來的 新手教室 Youtube 投資影片教學\\   \n4                              _8分鐘搞懂理財知識_整理的 Youtube 影片\\   \n...                                                   ...   \n468164  Visual C# 一次就懂 ASP.NET MVC5.X 網站開發 Web 應用的經典實務...   \n468165  Visual C# 一次就懂 ASP.NET MVC5.X 網站開發 Web 應用的經典實務...   \n468166  Visual C# 一次就懂 ASP.NET MVC5.X 網站開發 Web 應用的經典實務...   \n468167  iOS 13 程式設計實戰 Swift 5.1SwiftUI 框架 快速上手的開發技巧 20...   \n468168  iOS 13 程式設計實戰 Swift 5.1SwiftUI 框架 快速上手的開發技巧 20...   \n\n                                     檔案資料夾  \\\n0            8分鐘搞懂理財知識_新手教室 Youtube 投資影片教學   \n1                          8分鐘搞懂理財知識_重新整理過   \n2                           Youtube 投資影片教學   \n3       _8分鐘搞懂理財知識_原來的 新手教室 Youtube 投資影片教學   \n4                _8分鐘搞懂理財知識_整理的 Youtube 影片   \n...                                    ...   \n468164                               net46   \n468165                               net45   \n468166                               net46   \n468167                       zh-Hant.lproj   \n468168                       zh-Hant.lproj   \n\n                                                     檔案名稱  \\\n0                      8分鐘搞懂技術分析：RSI的重要價值-WUwaMVSCDYY.mp4   \n1                  2015-08-25_2152_技術分析教學_快速搞懂RSI技術指標.mp4   \n2                      8分鐘搞懂技術分析：RSI的重要價值-WUwaMVSCDYY.mp4   \n3                      8分鐘搞懂技術分析：RSI的重要價值-WUwaMVSCDYY.mp4   \n4                  2015-08-25_2152_技術分析教學_快速搞懂RSI技術指標.mp4   \n...                                                   ...   \n468164  Microsoft.CodeDom.Providers.DotNetCompilerPlat...   \n468165  Microsoft.CodeDom.Providers.DotNetCompilerPlat...   \n468166  Microsoft.CodeDom.Providers.DotNetCompilerPlat...   \n468167                               LaunchScreen.strings   \n468168                               LaunchScreen.strings   \n\n                                                       路徑        大小  \\\n0                       Z:\\8分鐘搞懂理財知識_新手教室 Youtube 投資影片教學\\  25612876   \n1                                     Z:\\8分鐘搞懂理財知識_重新整理過\\  25612876   \n2                                      Z:\\Youtube 投資影片教學\\  25612876   \n3        D:\\8分鐘搞懂理財知識\\_8分鐘搞懂理財知識_原來的 新手教室 Youtube 投資影片教學\\  25612876   \n4                 D:\\8分鐘搞懂理財知識\\_8分鐘搞懂理財知識_整理的 Youtube 影片\\  25612876   \n...                                                   ...       ...   \n468164  Z:\\資訊書籍文件\\Visual C# 一次就懂 ASP.NET MVC5.X 網站開發 W...      5530   \n468165  Z:\\資訊書籍文件\\Visual C# 一次就懂 ASP.NET MVC5.X 網站開發 W...      5530   \n468166  Z:\\資訊書籍文件\\Visual C# 一次就懂 ASP.NET MVC5.X 網站開發 W...      5530   \n468167  Z:\\資訊書籍文件\\iOS 13 程式設計實戰 Swift 5.1SwiftUI 框架 快速...         1   \n468168  Z:\\資訊書籍文件\\iOS 13 程式設計實戰 Swift 5.1SwiftUI 框架 快速...         1   \n\n                         新增日期                    修改日期  \n0       2021/5/10 下午 05:08:28  2018/11/14 下午 02:12:09  \n1       2021/5/11 上午 03:06:53   2021/5/11 上午 02:58:44  \n2       2021/5/10 下午 04:04:52  2018/11/14 下午 02:12:09  \n3       2021/8/18 上午 02:37:16  2018/11/14 下午 02:12:09  \n4       2021/8/18 上午 02:38:06   2021/5/11 上午 02:58:44  \n...                       ...                     ...  \n468164   2020/3/7 下午 08:06:24   2018/5/24 上午 05:38:22  \n468165   2020/3/7 下午 08:09:52   2018/5/24 上午 05:38:22  \n468166   2020/3/7 下午 08:09:53   2018/5/24 上午 05:38:22  \n468167  2020/2/10 上午 07:58:08   2019/7/31 上午 07:20:26  \n468168  2020/2/10 上午 07:58:08   2019/7/31 上午 07:20:24  \n\n[468169 rows x 12 columns]",
      "text/html": "<div>\n<style scoped>\n    .dataframe tbody tr th:only-of-type {\n        vertical-align: middle;\n    }\n\n    .dataframe tbody tr th {\n        vertical-align: top;\n    }\n\n    .dataframe thead th {\n        text-align: right;\n    }\n</style>\n<table border=\"1\" class=\"dataframe\">\n  <thead>\n    <tr style=\"text-align: right;\">\n      <th></th>\n      <th>磁碟機根目錄</th>\n      <th>組別</th>\n      <th>檔案類型</th>\n      <th>磁碟機</th>\n      <th>根目錄</th>\n      <th>子目錄</th>\n      <th>檔案資料夾</th>\n      <th>檔案名稱</th>\n      <th>路徑</th>\n      <th>大小</th>\n      <th>新增日期</th>\n      <th>修改日期</th>\n    </tr>\n  </thead>\n  <tbody>\n    <tr>\n      <th>0</th>\n      <td>Z:\\8分鐘搞懂理財知識_新手教室 Youtube 投資影片教學</td>\n      <td>1</td>\n      <td>.mp4</td>\n      <td>Z:</td>\n      <td>8分鐘搞懂理財知識_新手教室 Youtube 投資影片教學</td>\n      <td>NaN</td>\n      <td>8分鐘搞懂理財知識_新手教室 Youtube 投資影片教學</td>\n      <td>8分鐘搞懂技術分析：RSI的重要價值-WUwaMVSCDYY.mp4</td>\n      <td>Z:\\8分鐘搞懂理財知識_新手教室 Youtube 投資影片教學\\</td>\n      <td>25612876</td>\n      <td>2021/5/10 下午 05:08:28</td>\n      <td>2018/11/14 下午 02:12:09</td>\n    </tr>\n    <tr>\n      <th>1</th>\n      <td>Z:\\8分鐘搞懂理財知識_重新整理過</td>\n      <td>1</td>\n      <td>.mp4</td>\n      <td>Z:</td>\n      <td>8分鐘搞懂理財知識_重新整理過</td>\n      <td>NaN</td>\n      <td>8分鐘搞懂理財知識_重新整理過</td>\n      <td>2015-08-25_2152_技術分析教學_快速搞懂RSI技術指標.mp4</td>\n      <td>Z:\\8分鐘搞懂理財知識_重新整理過\\</td>\n      <td>25612876</td>\n      <td>2021/5/11 上午 03:06:53</td>\n      <td>2021/5/11 上午 02:58:44</td>\n    </tr>\n    <tr>\n      <th>2</th>\n      <td>Z:\\Youtube 投資影片教學</td>\n      <td>1</td>\n      <td>.mp4</td>\n      <td>Z:</td>\n      <td>Youtube 投資影片教學</td>\n      <td>NaN</td>\n      <td>Youtube 投資影片教學</td>\n      <td>8分鐘搞懂技術分析：RSI的重要價值-WUwaMVSCDYY.mp4</td>\n      <td>Z:\\Youtube 投資影片教學\\</td>\n      <td>25612876</td>\n      <td>2021/5/10 下午 04:04:52</td>\n      <td>2018/11/14 下午 02:12:09</td>\n    </tr>\n    <tr>\n      <th>3</th>\n      <td>D:\\8分鐘搞懂理財知識</td>\n      <td>1</td>\n      <td>.mp4</td>\n      <td>D:</td>\n      <td>8分鐘搞懂理財知識</td>\n      <td>_8分鐘搞懂理財知識_原來的 新手教室 Youtube 投資影片教學\\</td>\n      <td>_8分鐘搞懂理財知識_原來的 新手教室 Youtube 投資影片教學</td>\n      <td>8分鐘搞懂技術分析：RSI的重要價值-WUwaMVSCDYY.mp4</td>\n      <td>D:\\8分鐘搞懂理財知識\\_8分鐘搞懂理財知識_原來的 新手教室 Youtube 投資影片教學\\</td>\n      <td>25612876</td>\n      <td>2021/8/18 上午 02:37:16</td>\n      <td>2018/11/14 下午 02:12:09</td>\n    </tr>\n    <tr>\n      <th>4</th>\n      <td>D:\\8分鐘搞懂理財知識</td>\n      <td>1</td>\n      <td>.mp4</td>\n      <td>D:</td>\n      <td>8分鐘搞懂理財知識</td>\n      <td>_8分鐘搞懂理財知識_整理的 Youtube 影片\\</td>\n      <td>_8分鐘搞懂理財知識_整理的 Youtube 影片</td>\n      <td>2015-08-25_2152_技術分析教學_快速搞懂RSI技術指標.mp4</td>\n      <td>D:\\8分鐘搞懂理財知識\\_8分鐘搞懂理財知識_整理的 Youtube 影片\\</td>\n      <td>25612876</td>\n      <td>2021/8/18 上午 02:38:06</td>\n      <td>2021/5/11 上午 02:58:44</td>\n    </tr>\n    <tr>\n      <th>...</th>\n      <td>...</td>\n      <td>...</td>\n      <td>...</td>\n      <td>...</td>\n      <td>...</td>\n      <td>...</td>\n      <td>...</td>\n      <td>...</td>\n      <td>...</td>\n      <td>...</td>\n      <td>...</td>\n      <td>...</td>\n    </tr>\n    <tr>\n      <th>468164</th>\n      <td>Z:\\資訊書籍文件</td>\n      <td>167210</td>\n      <td>.props</td>\n      <td>Z:</td>\n      <td>資訊書籍文件</td>\n      <td>Visual C# 一次就懂 ASP.NET MVC5.X 網站開發 Web 應用的經典實務...</td>\n      <td>net46</td>\n      <td>Microsoft.CodeDom.Providers.DotNetCompilerPlat...</td>\n      <td>Z:\\資訊書籍文件\\Visual C# 一次就懂 ASP.NET MVC5.X 網站開發 W...</td>\n      <td>5530</td>\n      <td>2020/3/7 下午 08:06:24</td>\n      <td>2018/5/24 上午 05:38:22</td>\n    </tr>\n    <tr>\n      <th>468165</th>\n      <td>Z:\\資訊書籍文件</td>\n      <td>167210</td>\n      <td>.props</td>\n      <td>Z:</td>\n      <td>資訊書籍文件</td>\n      <td>Visual C# 一次就懂 ASP.NET MVC5.X 網站開發 Web 應用的經典實務...</td>\n      <td>net45</td>\n      <td>Microsoft.CodeDom.Providers.DotNetCompilerPlat...</td>\n      <td>Z:\\資訊書籍文件\\Visual C# 一次就懂 ASP.NET MVC5.X 網站開發 W...</td>\n      <td>5530</td>\n      <td>2020/3/7 下午 08:09:52</td>\n      <td>2018/5/24 上午 05:38:22</td>\n    </tr>\n    <tr>\n      <th>468166</th>\n      <td>Z:\\資訊書籍文件</td>\n      <td>167210</td>\n      <td>.props</td>\n      <td>Z:</td>\n      <td>資訊書籍文件</td>\n      <td>Visual C# 一次就懂 ASP.NET MVC5.X 網站開發 Web 應用的經典實務...</td>\n      <td>net46</td>\n      <td>Microsoft.CodeDom.Providers.DotNetCompilerPlat...</td>\n      <td>Z:\\資訊書籍文件\\Visual C# 一次就懂 ASP.NET MVC5.X 網站開發 W...</td>\n      <td>5530</td>\n      <td>2020/3/7 下午 08:09:53</td>\n      <td>2018/5/24 上午 05:38:22</td>\n    </tr>\n    <tr>\n      <th>468167</th>\n      <td>Z:\\資訊書籍文件</td>\n      <td>167211</td>\n      <td>.strings</td>\n      <td>Z:</td>\n      <td>資訊書籍文件</td>\n      <td>iOS 13 程式設計實戰 Swift 5.1SwiftUI 框架 快速上手的開發技巧 20...</td>\n      <td>zh-Hant.lproj</td>\n      <td>LaunchScreen.strings</td>\n      <td>Z:\\資訊書籍文件\\iOS 13 程式設計實戰 Swift 5.1SwiftUI 框架 快速...</td>\n      <td>1</td>\n      <td>2020/2/10 上午 07:58:08</td>\n      <td>2019/7/31 上午 07:20:26</td>\n    </tr>\n    <tr>\n      <th>468168</th>\n      <td>Z:\\資訊書籍文件</td>\n      <td>167211</td>\n      <td>.strings</td>\n      <td>Z:</td>\n      <td>資訊書籍文件</td>\n      <td>iOS 13 程式設計實戰 Swift 5.1SwiftUI 框架 快速上手的開發技巧 20...</td>\n      <td>zh-Hant.lproj</td>\n      <td>LaunchScreen.strings</td>\n      <td>Z:\\資訊書籍文件\\iOS 13 程式設計實戰 Swift 5.1SwiftUI 框架 快速...</td>\n      <td>1</td>\n      <td>2020/2/10 上午 07:58:08</td>\n      <td>2019/7/31 上午 07:20:24</td>\n    </tr>\n  </tbody>\n</table>\n<p>468169 rows × 12 columns</p>\n</div>"
     },
     "execution_count": 3,
     "metadata": {},
     "output_type": "execute_result"
    }
   ],
   "source": [
    "df"
   ],
   "metadata": {
    "collapsed": false,
    "pycharm": {
     "name": "#%%\n"
    }
   }
  },
  {
   "cell_type": "code",
   "execution_count": 87,
   "outputs": [
    {
     "data": {
      "text/plain": "225"
     },
     "execution_count": 87,
     "metadata": {},
     "output_type": "execute_result"
    }
   ],
   "source": [
    "eval_group_id = df['組別'].iloc[0]\n",
    "eval_group_id"
   ],
   "metadata": {
    "collapsed": false,
    "pycharm": {
     "name": "#%%\n"
    }
   }
  },
  {
   "cell_type": "code",
   "execution_count": 88,
   "outputs": [
    {
     "data": {
      "text/plain": "                         磁碟機根目錄   組別  檔案類型 磁碟機                      根目錄  \\\n885        E:\\APComputerScience  225  .mp4  E:        APComputerScience   \n886  D:\\AP ComputerScience 電腦概論  225  .mp4  D:  AP ComputerScience 電腦概論   \n887                   Z:\\新增書籍文件  225  .mp4  Z:                   新增書籍文件   \n\n                         子目錄                    檔案資料夾  \\\n885                      NaN        APComputerScience   \n886                      NaN  AP ComputerScience 電腦概論   \n887  下載書籍\\APComputerScience\\        APComputerScience   \n\n                                                  檔案名稱  \\\n885  AP Computer Science A Office Hours 10.3.2020-4...   \n886                            AP Computer Science.mp4   \n887  AP Computer Science A Office Hours 10.3.2020-4...   \n\n                                    路徑         大小                   新增日期  \\\n885              E:\\APComputerScience\\  119586737  2021/8/18 上午 01:07:16   \n886        D:\\AP ComputerScience 電腦概論\\  119586737  2021/8/18 上午 02:35:49   \n887  Z:\\新增書籍文件\\下載書籍\\APComputerScience\\  119586737  2021/1/21 上午 02:42:42   \n\n                      修改日期  \n885  2021/1/19 下午 04:49:15  \n886  2021/1/19 下午 04:49:15  \n887  2021/1/19 下午 04:49:15  ",
      "text/html": "<div>\n<style scoped>\n    .dataframe tbody tr th:only-of-type {\n        vertical-align: middle;\n    }\n\n    .dataframe tbody tr th {\n        vertical-align: top;\n    }\n\n    .dataframe thead th {\n        text-align: right;\n    }\n</style>\n<table border=\"1\" class=\"dataframe\">\n  <thead>\n    <tr style=\"text-align: right;\">\n      <th></th>\n      <th>磁碟機根目錄</th>\n      <th>組別</th>\n      <th>檔案類型</th>\n      <th>磁碟機</th>\n      <th>根目錄</th>\n      <th>子目錄</th>\n      <th>檔案資料夾</th>\n      <th>檔案名稱</th>\n      <th>路徑</th>\n      <th>大小</th>\n      <th>新增日期</th>\n      <th>修改日期</th>\n    </tr>\n  </thead>\n  <tbody>\n    <tr>\n      <th>885</th>\n      <td>E:\\APComputerScience</td>\n      <td>225</td>\n      <td>.mp4</td>\n      <td>E:</td>\n      <td>APComputerScience</td>\n      <td>NaN</td>\n      <td>APComputerScience</td>\n      <td>AP Computer Science A Office Hours 10.3.2020-4...</td>\n      <td>E:\\APComputerScience\\</td>\n      <td>119586737</td>\n      <td>2021/8/18 上午 01:07:16</td>\n      <td>2021/1/19 下午 04:49:15</td>\n    </tr>\n    <tr>\n      <th>886</th>\n      <td>D:\\AP ComputerScience 電腦概論</td>\n      <td>225</td>\n      <td>.mp4</td>\n      <td>D:</td>\n      <td>AP ComputerScience 電腦概論</td>\n      <td>NaN</td>\n      <td>AP ComputerScience 電腦概論</td>\n      <td>AP Computer Science.mp4</td>\n      <td>D:\\AP ComputerScience 電腦概論\\</td>\n      <td>119586737</td>\n      <td>2021/8/18 上午 02:35:49</td>\n      <td>2021/1/19 下午 04:49:15</td>\n    </tr>\n    <tr>\n      <th>887</th>\n      <td>Z:\\新增書籍文件</td>\n      <td>225</td>\n      <td>.mp4</td>\n      <td>Z:</td>\n      <td>新增書籍文件</td>\n      <td>下載書籍\\APComputerScience\\</td>\n      <td>APComputerScience</td>\n      <td>AP Computer Science A Office Hours 10.3.2020-4...</td>\n      <td>Z:\\新增書籍文件\\下載書籍\\APComputerScience\\</td>\n      <td>119586737</td>\n      <td>2021/1/21 上午 02:42:42</td>\n      <td>2021/1/19 下午 04:49:15</td>\n    </tr>\n  </tbody>\n</table>\n</div>"
     },
     "execution_count": 88,
     "metadata": {},
     "output_type": "execute_result"
    }
   ],
   "source": [
    "df[df['組別'] == eval_group_id]"
   ],
   "metadata": {
    "collapsed": false,
    "pycharm": {
     "name": "#%%\n"
    }
   }
  },
  {
   "cell_type": "code",
   "execution_count": 89,
   "outputs": [
    {
     "data": {
      "text/plain": "array(['E:\\\\APComputerScience\\\\', 'D:\\\\AP ComputerScience 電腦概論\\\\',\n       'Z:\\\\新增書籍文件\\\\下載書籍\\\\APComputerScience\\\\'], dtype=object)"
     },
     "execution_count": 89,
     "metadata": {},
     "output_type": "execute_result"
    }
   ],
   "source": [
    "path_list = df[df['組別'] == eval_group_id]['路徑'].unique()\n",
    "path_list"
   ],
   "metadata": {
    "collapsed": false,
    "pycharm": {
     "name": "#%%\n"
    }
   }
  },
  {
   "cell_type": "code",
   "execution_count": 90,
   "outputs": [
    {
     "data": {
      "text/plain": "                                   磁碟機根目錄  組別  檔案類型  磁碟機  根目錄  子目錄  檔案資料夾  \\\n路徑                                                                          \nD:\\AP ComputerScience 電腦概論\\             1   1     1    1    1    0      1   \nE:\\APComputerScience\\                  45  45    45   45   45    0     45   \nZ:\\新增書籍文件\\下載書籍\\APComputerScience\\      43  43    43   43   43   43     43   \n\n                                   檔案名稱  大小  新增日期  修改日期  \n路徑                                                       \nD:\\AP ComputerScience 電腦概論\\           1   1     1     1  \nE:\\APComputerScience\\                45  45    45    45  \nZ:\\新增書籍文件\\下載書籍\\APComputerScience\\    43  43    43    43  ",
      "text/html": "<div>\n<style scoped>\n    .dataframe tbody tr th:only-of-type {\n        vertical-align: middle;\n    }\n\n    .dataframe tbody tr th {\n        vertical-align: top;\n    }\n\n    .dataframe thead th {\n        text-align: right;\n    }\n</style>\n<table border=\"1\" class=\"dataframe\">\n  <thead>\n    <tr style=\"text-align: right;\">\n      <th></th>\n      <th>磁碟機根目錄</th>\n      <th>組別</th>\n      <th>檔案類型</th>\n      <th>磁碟機</th>\n      <th>根目錄</th>\n      <th>子目錄</th>\n      <th>檔案資料夾</th>\n      <th>檔案名稱</th>\n      <th>大小</th>\n      <th>新增日期</th>\n      <th>修改日期</th>\n    </tr>\n    <tr>\n      <th>路徑</th>\n      <th></th>\n      <th></th>\n      <th></th>\n      <th></th>\n      <th></th>\n      <th></th>\n      <th></th>\n      <th></th>\n      <th></th>\n      <th></th>\n      <th></th>\n    </tr>\n  </thead>\n  <tbody>\n    <tr>\n      <th>D:\\AP ComputerScience 電腦概論\\</th>\n      <td>1</td>\n      <td>1</td>\n      <td>1</td>\n      <td>1</td>\n      <td>1</td>\n      <td>0</td>\n      <td>1</td>\n      <td>1</td>\n      <td>1</td>\n      <td>1</td>\n      <td>1</td>\n    </tr>\n    <tr>\n      <th>E:\\APComputerScience\\</th>\n      <td>45</td>\n      <td>45</td>\n      <td>45</td>\n      <td>45</td>\n      <td>45</td>\n      <td>0</td>\n      <td>45</td>\n      <td>45</td>\n      <td>45</td>\n      <td>45</td>\n      <td>45</td>\n    </tr>\n    <tr>\n      <th>Z:\\新增書籍文件\\下載書籍\\APComputerScience\\</th>\n      <td>43</td>\n      <td>43</td>\n      <td>43</td>\n      <td>43</td>\n      <td>43</td>\n      <td>43</td>\n      <td>43</td>\n      <td>43</td>\n      <td>43</td>\n      <td>43</td>\n      <td>43</td>\n    </tr>\n  </tbody>\n</table>\n</div>"
     },
     "execution_count": 90,
     "metadata": {},
     "output_type": "execute_result"
    }
   ],
   "source": [
    "path_groups = df[df['路徑'].isin(path_list) == True].groupby('路徑')\n",
    "path_groups.count()"
   ],
   "metadata": {
    "collapsed": false,
    "pycharm": {
     "name": "#%%\n"
    }
   }
  },
  {
   "cell_type": "code",
   "execution_count": 93,
   "outputs": [
    {
     "name": "stdout",
     "output_type": "stream",
     "text": [
      "D:\\AP ComputerScience 電腦概論\\\n",
      "E:\\APComputerScience\\\n",
      "Z:\\新增書籍文件\\下載書籍\\APComputerScience\\\n"
     ]
    }
   ],
   "source": [
    "reshape_frame = pd.DataFrame()\n",
    "for path_name, path_frame in path_groups:\n",
    "    print(path_name)\n",
    "    reshape_frame = pd.concat([reshape_frame, path_frame])"
   ],
   "metadata": {
    "collapsed": false,
    "pycharm": {
     "name": "#%%\n"
    }
   }
  },
  {
   "cell_type": "code",
   "execution_count": 98,
   "outputs": [
    {
     "data": {
      "text/plain": "                          磁碟機根目錄    組別   檔案類型 磁碟機                      根目錄  \\\n886   D:\\AP ComputerScience 電腦概論   225   .mp4  D:  AP ComputerScience 電腦概論   \n885         E:\\APComputerScience   225   .mp4  E:        APComputerScience   \n888         E:\\APComputerScience   226  .html  E:        APComputerScience   \n890         E:\\APComputerScience   227  .html  E:        APComputerScience   \n894         E:\\APComputerScience   228  .html  E:        APComputerScience   \n...                          ...   ...    ...  ..                      ...   \n3404                   Z:\\新增書籍文件  1052   .zip  Z:                   新增書籍文件   \n3409                   Z:\\新增書籍文件  1053   .zip  Z:                   新增書籍文件   \n3414                   Z:\\新增書籍文件  1054   .zip  Z:                   新增書籍文件   \n3419                   Z:\\新增書籍文件  1055   .zip  Z:                   新增書籍文件   \n3424                   Z:\\新增書籍文件  1056   .zip  Z:                   新增書籍文件   \n\n                          子目錄                    檔案資料夾  \\\n886                       NaN  AP ComputerScience 電腦概論   \n885                       NaN        APComputerScience   \n888                       NaN        APComputerScience   \n890                       NaN        APComputerScience   \n894                       NaN        APComputerScience   \n...                       ...                      ...   \n3404  下載書籍\\APComputerScience\\        APComputerScience   \n3409  下載書籍\\APComputerScience\\        APComputerScience   \n3414  下載書籍\\APComputerScience\\        APComputerScience   \n3419  下載書籍\\APComputerScience\\        APComputerScience   \n3424  下載書籍\\APComputerScience\\        APComputerScience   \n\n                                                   檔案名稱  \\\n886                             AP Computer Science.mp4   \n885   AP Computer Science A Office Hours 10.3.2020-4...   \n888                    2020超新版計算機概論：邁向資訊新世代(全工科適用).html   \n890             AP CS A Java Course — AP CSAwesome.html   \n894   AP Computer Science A - Materials (Semester 1)...   \n...                                                 ...   \n3404                                           Grid.zip   \n3409                                  LargestObject.zip   \n3414                                     Sierpinski.zip   \n3419                          SpriteLab_Challenging.zip   \n3424                                   TankShooting.zip   \n\n                                     路徑         大小                   新增日期  \\\n886         D:\\AP ComputerScience 電腦概論\\  119586737  2021/8/18 上午 02:35:49   \n885               E:\\APComputerScience\\  119586737  2021/8/18 上午 01:07:16   \n888               E:\\APComputerScience\\     369890  2021/8/18 上午 01:07:16   \n890               E:\\APComputerScience\\     875386  2021/8/18 上午 01:07:22   \n894               E:\\APComputerScience\\      15190  2021/8/18 上午 01:07:16   \n...                                 ...        ...                    ...   \n3404  Z:\\新增書籍文件\\下載書籍\\APComputerScience\\       2705  2021/1/21 上午 02:43:09   \n3409  Z:\\新增書籍文件\\下載書籍\\APComputerScience\\       2595  2021/1/21 上午 02:43:12   \n3414  Z:\\新增書籍文件\\下載書籍\\APComputerScience\\       1046  2021/1/21 上午 02:43:14   \n3419  Z:\\新增書籍文件\\下載書籍\\APComputerScience\\      12605  2021/1/21 上午 02:43:14   \n3424  Z:\\新增書籍文件\\下載書籍\\APComputerScience\\      26190  2021/1/21 上午 02:43:15   \n\n                       修改日期  \n886   2021/1/19 下午 04:49:15  \n885   2021/1/19 下午 04:49:15  \n888   2021/1/28 下午 05:42:50  \n890   2021/1/19 下午 11:51:08  \n894   2021/1/19 下午 11:06:48  \n...                     ...  \n3404  2021/1/19 下午 11:25:59  \n3409  2021/1/19 下午 11:25:15  \n3414  2021/1/19 下午 11:26:31  \n3419  2021/1/19 下午 11:24:47  \n3424  2021/1/19 下午 11:25:41  \n\n[89 rows x 12 columns]",
      "text/html": "<div>\n<style scoped>\n    .dataframe tbody tr th:only-of-type {\n        vertical-align: middle;\n    }\n\n    .dataframe tbody tr th {\n        vertical-align: top;\n    }\n\n    .dataframe thead th {\n        text-align: right;\n    }\n</style>\n<table border=\"1\" class=\"dataframe\">\n  <thead>\n    <tr style=\"text-align: right;\">\n      <th></th>\n      <th>磁碟機根目錄</th>\n      <th>組別</th>\n      <th>檔案類型</th>\n      <th>磁碟機</th>\n      <th>根目錄</th>\n      <th>子目錄</th>\n      <th>檔案資料夾</th>\n      <th>檔案名稱</th>\n      <th>路徑</th>\n      <th>大小</th>\n      <th>新增日期</th>\n      <th>修改日期</th>\n    </tr>\n  </thead>\n  <tbody>\n    <tr>\n      <th>886</th>\n      <td>D:\\AP ComputerScience 電腦概論</td>\n      <td>225</td>\n      <td>.mp4</td>\n      <td>D:</td>\n      <td>AP ComputerScience 電腦概論</td>\n      <td>NaN</td>\n      <td>AP ComputerScience 電腦概論</td>\n      <td>AP Computer Science.mp4</td>\n      <td>D:\\AP ComputerScience 電腦概論\\</td>\n      <td>119586737</td>\n      <td>2021/8/18 上午 02:35:49</td>\n      <td>2021/1/19 下午 04:49:15</td>\n    </tr>\n    <tr>\n      <th>885</th>\n      <td>E:\\APComputerScience</td>\n      <td>225</td>\n      <td>.mp4</td>\n      <td>E:</td>\n      <td>APComputerScience</td>\n      <td>NaN</td>\n      <td>APComputerScience</td>\n      <td>AP Computer Science A Office Hours 10.3.2020-4...</td>\n      <td>E:\\APComputerScience\\</td>\n      <td>119586737</td>\n      <td>2021/8/18 上午 01:07:16</td>\n      <td>2021/1/19 下午 04:49:15</td>\n    </tr>\n    <tr>\n      <th>888</th>\n      <td>E:\\APComputerScience</td>\n      <td>226</td>\n      <td>.html</td>\n      <td>E:</td>\n      <td>APComputerScience</td>\n      <td>NaN</td>\n      <td>APComputerScience</td>\n      <td>2020超新版計算機概論：邁向資訊新世代(全工科適用).html</td>\n      <td>E:\\APComputerScience\\</td>\n      <td>369890</td>\n      <td>2021/8/18 上午 01:07:16</td>\n      <td>2021/1/28 下午 05:42:50</td>\n    </tr>\n    <tr>\n      <th>890</th>\n      <td>E:\\APComputerScience</td>\n      <td>227</td>\n      <td>.html</td>\n      <td>E:</td>\n      <td>APComputerScience</td>\n      <td>NaN</td>\n      <td>APComputerScience</td>\n      <td>AP CS A Java Course — AP CSAwesome.html</td>\n      <td>E:\\APComputerScience\\</td>\n      <td>875386</td>\n      <td>2021/8/18 上午 01:07:22</td>\n      <td>2021/1/19 下午 11:51:08</td>\n    </tr>\n    <tr>\n      <th>894</th>\n      <td>E:\\APComputerScience</td>\n      <td>228</td>\n      <td>.html</td>\n      <td>E:</td>\n      <td>APComputerScience</td>\n      <td>NaN</td>\n      <td>APComputerScience</td>\n      <td>AP Computer Science A - Materials (Semester 1)...</td>\n      <td>E:\\APComputerScience\\</td>\n      <td>15190</td>\n      <td>2021/8/18 上午 01:07:16</td>\n      <td>2021/1/19 下午 11:06:48</td>\n    </tr>\n    <tr>\n      <th>...</th>\n      <td>...</td>\n      <td>...</td>\n      <td>...</td>\n      <td>...</td>\n      <td>...</td>\n      <td>...</td>\n      <td>...</td>\n      <td>...</td>\n      <td>...</td>\n      <td>...</td>\n      <td>...</td>\n      <td>...</td>\n    </tr>\n    <tr>\n      <th>3404</th>\n      <td>Z:\\新增書籍文件</td>\n      <td>1052</td>\n      <td>.zip</td>\n      <td>Z:</td>\n      <td>新增書籍文件</td>\n      <td>下載書籍\\APComputerScience\\</td>\n      <td>APComputerScience</td>\n      <td>Grid.zip</td>\n      <td>Z:\\新增書籍文件\\下載書籍\\APComputerScience\\</td>\n      <td>2705</td>\n      <td>2021/1/21 上午 02:43:09</td>\n      <td>2021/1/19 下午 11:25:59</td>\n    </tr>\n    <tr>\n      <th>3409</th>\n      <td>Z:\\新增書籍文件</td>\n      <td>1053</td>\n      <td>.zip</td>\n      <td>Z:</td>\n      <td>新增書籍文件</td>\n      <td>下載書籍\\APComputerScience\\</td>\n      <td>APComputerScience</td>\n      <td>LargestObject.zip</td>\n      <td>Z:\\新增書籍文件\\下載書籍\\APComputerScience\\</td>\n      <td>2595</td>\n      <td>2021/1/21 上午 02:43:12</td>\n      <td>2021/1/19 下午 11:25:15</td>\n    </tr>\n    <tr>\n      <th>3414</th>\n      <td>Z:\\新增書籍文件</td>\n      <td>1054</td>\n      <td>.zip</td>\n      <td>Z:</td>\n      <td>新增書籍文件</td>\n      <td>下載書籍\\APComputerScience\\</td>\n      <td>APComputerScience</td>\n      <td>Sierpinski.zip</td>\n      <td>Z:\\新增書籍文件\\下載書籍\\APComputerScience\\</td>\n      <td>1046</td>\n      <td>2021/1/21 上午 02:43:14</td>\n      <td>2021/1/19 下午 11:26:31</td>\n    </tr>\n    <tr>\n      <th>3419</th>\n      <td>Z:\\新增書籍文件</td>\n      <td>1055</td>\n      <td>.zip</td>\n      <td>Z:</td>\n      <td>新增書籍文件</td>\n      <td>下載書籍\\APComputerScience\\</td>\n      <td>APComputerScience</td>\n      <td>SpriteLab_Challenging.zip</td>\n      <td>Z:\\新增書籍文件\\下載書籍\\APComputerScience\\</td>\n      <td>12605</td>\n      <td>2021/1/21 上午 02:43:14</td>\n      <td>2021/1/19 下午 11:24:47</td>\n    </tr>\n    <tr>\n      <th>3424</th>\n      <td>Z:\\新增書籍文件</td>\n      <td>1056</td>\n      <td>.zip</td>\n      <td>Z:</td>\n      <td>新增書籍文件</td>\n      <td>下載書籍\\APComputerScience\\</td>\n      <td>APComputerScience</td>\n      <td>TankShooting.zip</td>\n      <td>Z:\\新增書籍文件\\下載書籍\\APComputerScience\\</td>\n      <td>26190</td>\n      <td>2021/1/21 上午 02:43:15</td>\n      <td>2021/1/19 下午 11:25:41</td>\n    </tr>\n  </tbody>\n</table>\n<p>89 rows × 12 columns</p>\n</div>"
     },
     "execution_count": 98,
     "metadata": {},
     "output_type": "execute_result"
    }
   ],
   "source": [
    "reshape_frame.sort_values(['路徑', '組別'], inplace=True) # .to_csv('reshape_frame.csv', encoding='utf-8-sig')\n",
    "reshape_frame"
   ],
   "metadata": {
    "collapsed": false,
    "pycharm": {
     "name": "#%%\n"
    }
   }
  },
  {
   "cell_type": "code",
   "execution_count": 99,
   "outputs": [],
   "source": [
    "group_numbers = reshape_frame['組別'].unique()"
   ],
   "metadata": {
    "collapsed": false,
    "pycharm": {
     "name": "#%%\n"
    }
   }
  },
  {
   "cell_type": "code",
   "execution_count": 100,
   "outputs": [
    {
     "data": {
      "text/plain": "                            磁碟機根目錄      組別   檔案類型 磁碟機  \\\n886     D:\\AP ComputerScience 電腦概論     225   .mp4  D:   \n885           E:\\APComputerScience     225   .mp4  E:   \n887                      Z:\\新增書籍文件     225   .mp4  Z:   \n889     D:\\AP ComputerScience 電腦概論     226  .html  D:   \n888           E:\\APComputerScience     226  .html  E:   \n...                            ...     ...    ...  ..   \n3425                     Z:\\新增書籍文件    1056   .zip  Z:   \n330589       E:\\.development_projs  113752   .pdf  E:   \n330590        E:\\APComputerScience  113752   .pdf  E:   \n330592       D:\\_eBooks 電子書 Python  113752   .pdf  D:   \n330591                   Z:\\資訊書籍文件  113752   .pdf  Z:   \n\n                            根目錄                          子目錄  \\\n886     AP ComputerScience 電腦概論                          NaN   \n885           APComputerScience                          NaN   \n887                      新增書籍文件      下載書籍\\APComputerScience\\   \n889     AP ComputerScience 電腦概論                       htmls\\   \n888           APComputerScience                          NaN   \n...                         ...                          ...   \n3425                     新增書籍文件  下載書籍\\APComputerScience\\pdf\\   \n330589       .development_projs                          NaN   \n330590        APComputerScience                          NaN   \n330592       _eBooks 電子書 Python       Python 免費電子書 包含推薦系統實踐\\   \n330591                   資訊書籍文件       Python 免費電子書 包含推薦系統實踐\\   \n\n                          檔案資料夾  \\\n886     AP ComputerScience 電腦概論   \n885           APComputerScience   \n887           APComputerScience   \n889                       htmls   \n888           APComputerScience   \n...                         ...   \n3425                        pdf   \n330589       .development_projs   \n330590        APComputerScience   \n330592    Python 免費電子書 包含推薦系統實踐   \n330591    Python 免費電子書 包含推薦系統實踐   \n\n                                                     檔案名稱  \\\n886                               AP Computer Science.mp4   \n885     AP Computer Science A Office Hours 10.3.2020-4...   \n887     AP Computer Science A Office Hours 10.3.2020-4...   \n889                      2020超新版計算機概論：邁向資訊新世代(全工科適用).html   \n888                      2020超新版計算機概論：邁向資訊新世代(全工科適用).html   \n...                                                   ...   \n3425                                     TankShooting.zip   \n330589                                         Python.pdf   \n330590                       [图灵图书].编程小白的第一本Python入门书.pdf   \n330592                       [图灵图书].编程小白的第一本Python入门书.pdf   \n330591                       [图灵图书].编程小白的第一本Python入门书.pdf   \n\n                                                  路徑         大小  \\\n886                      D:\\AP ComputerScience 電腦概論\\  119586737   \n885                            E:\\APComputerScience\\  119586737   \n887                Z:\\新增書籍文件\\下載書籍\\APComputerScience\\  119586737   \n889                D:\\AP ComputerScience 電腦概論\\htmls\\     369890   \n888                            E:\\APComputerScience\\     369890   \n...                                              ...        ...   \n3425           Z:\\新增書籍文件\\下載書籍\\APComputerScience\\pdf\\      26190   \n330589                        E:\\.development_projs\\   41030057   \n330590                         E:\\APComputerScience\\   41030057   \n330592  D:\\_eBooks 電子書 Python\\Python 免費電子書 包含推薦系統實踐\\   41030057   \n330591              Z:\\資訊書籍文件\\Python 免費電子書 包含推薦系統實踐\\   41030057   \n\n                         新增日期                   修改日期  \n886     2021/8/18 上午 02:35:49  2021/1/19 下午 04:49:15  \n885     2021/8/18 上午 01:07:16  2021/1/19 下午 04:49:15  \n887     2021/1/21 上午 02:42:42  2021/1/19 下午 04:49:15  \n889     2021/2/10 下午 06:08:34  2021/1/28 下午 05:42:50  \n888     2021/8/18 上午 01:07:16  2021/1/28 下午 05:42:50  \n...                       ...                    ...  \n3425    2021/1/21 上午 02:45:43  2021/1/19 下午 11:53:43  \n330589  2021/8/18 上午 01:08:33  2020/4/18 下午 11:07:11  \n330590  2021/8/18 上午 01:07:33  2020/4/18 下午 11:07:11  \n330592  2021/8/18 上午 02:29:01  2020/4/18 下午 11:07:11  \n330591  2020/4/18 下午 11:07:03  2020/4/18 下午 11:07:11  \n\n[175 rows x 12 columns]",
      "text/html": "<div>\n<style scoped>\n    .dataframe tbody tr th:only-of-type {\n        vertical-align: middle;\n    }\n\n    .dataframe tbody tr th {\n        vertical-align: top;\n    }\n\n    .dataframe thead th {\n        text-align: right;\n    }\n</style>\n<table border=\"1\" class=\"dataframe\">\n  <thead>\n    <tr style=\"text-align: right;\">\n      <th></th>\n      <th>磁碟機根目錄</th>\n      <th>組別</th>\n      <th>檔案類型</th>\n      <th>磁碟機</th>\n      <th>根目錄</th>\n      <th>子目錄</th>\n      <th>檔案資料夾</th>\n      <th>檔案名稱</th>\n      <th>路徑</th>\n      <th>大小</th>\n      <th>新增日期</th>\n      <th>修改日期</th>\n    </tr>\n  </thead>\n  <tbody>\n    <tr>\n      <th>886</th>\n      <td>D:\\AP ComputerScience 電腦概論</td>\n      <td>225</td>\n      <td>.mp4</td>\n      <td>D:</td>\n      <td>AP ComputerScience 電腦概論</td>\n      <td>NaN</td>\n      <td>AP ComputerScience 電腦概論</td>\n      <td>AP Computer Science.mp4</td>\n      <td>D:\\AP ComputerScience 電腦概論\\</td>\n      <td>119586737</td>\n      <td>2021/8/18 上午 02:35:49</td>\n      <td>2021/1/19 下午 04:49:15</td>\n    </tr>\n    <tr>\n      <th>885</th>\n      <td>E:\\APComputerScience</td>\n      <td>225</td>\n      <td>.mp4</td>\n      <td>E:</td>\n      <td>APComputerScience</td>\n      <td>NaN</td>\n      <td>APComputerScience</td>\n      <td>AP Computer Science A Office Hours 10.3.2020-4...</td>\n      <td>E:\\APComputerScience\\</td>\n      <td>119586737</td>\n      <td>2021/8/18 上午 01:07:16</td>\n      <td>2021/1/19 下午 04:49:15</td>\n    </tr>\n    <tr>\n      <th>887</th>\n      <td>Z:\\新增書籍文件</td>\n      <td>225</td>\n      <td>.mp4</td>\n      <td>Z:</td>\n      <td>新增書籍文件</td>\n      <td>下載書籍\\APComputerScience\\</td>\n      <td>APComputerScience</td>\n      <td>AP Computer Science A Office Hours 10.3.2020-4...</td>\n      <td>Z:\\新增書籍文件\\下載書籍\\APComputerScience\\</td>\n      <td>119586737</td>\n      <td>2021/1/21 上午 02:42:42</td>\n      <td>2021/1/19 下午 04:49:15</td>\n    </tr>\n    <tr>\n      <th>889</th>\n      <td>D:\\AP ComputerScience 電腦概論</td>\n      <td>226</td>\n      <td>.html</td>\n      <td>D:</td>\n      <td>AP ComputerScience 電腦概論</td>\n      <td>htmls\\</td>\n      <td>htmls</td>\n      <td>2020超新版計算機概論：邁向資訊新世代(全工科適用).html</td>\n      <td>D:\\AP ComputerScience 電腦概論\\htmls\\</td>\n      <td>369890</td>\n      <td>2021/2/10 下午 06:08:34</td>\n      <td>2021/1/28 下午 05:42:50</td>\n    </tr>\n    <tr>\n      <th>888</th>\n      <td>E:\\APComputerScience</td>\n      <td>226</td>\n      <td>.html</td>\n      <td>E:</td>\n      <td>APComputerScience</td>\n      <td>NaN</td>\n      <td>APComputerScience</td>\n      <td>2020超新版計算機概論：邁向資訊新世代(全工科適用).html</td>\n      <td>E:\\APComputerScience\\</td>\n      <td>369890</td>\n      <td>2021/8/18 上午 01:07:16</td>\n      <td>2021/1/28 下午 05:42:50</td>\n    </tr>\n    <tr>\n      <th>...</th>\n      <td>...</td>\n      <td>...</td>\n      <td>...</td>\n      <td>...</td>\n      <td>...</td>\n      <td>...</td>\n      <td>...</td>\n      <td>...</td>\n      <td>...</td>\n      <td>...</td>\n      <td>...</td>\n      <td>...</td>\n    </tr>\n    <tr>\n      <th>3425</th>\n      <td>Z:\\新增書籍文件</td>\n      <td>1056</td>\n      <td>.zip</td>\n      <td>Z:</td>\n      <td>新增書籍文件</td>\n      <td>下載書籍\\APComputerScience\\pdf\\</td>\n      <td>pdf</td>\n      <td>TankShooting.zip</td>\n      <td>Z:\\新增書籍文件\\下載書籍\\APComputerScience\\pdf\\</td>\n      <td>26190</td>\n      <td>2021/1/21 上午 02:45:43</td>\n      <td>2021/1/19 下午 11:53:43</td>\n    </tr>\n    <tr>\n      <th>330589</th>\n      <td>E:\\.development_projs</td>\n      <td>113752</td>\n      <td>.pdf</td>\n      <td>E:</td>\n      <td>.development_projs</td>\n      <td>NaN</td>\n      <td>.development_projs</td>\n      <td>Python.pdf</td>\n      <td>E:\\.development_projs\\</td>\n      <td>41030057</td>\n      <td>2021/8/18 上午 01:08:33</td>\n      <td>2020/4/18 下午 11:07:11</td>\n    </tr>\n    <tr>\n      <th>330590</th>\n      <td>E:\\APComputerScience</td>\n      <td>113752</td>\n      <td>.pdf</td>\n      <td>E:</td>\n      <td>APComputerScience</td>\n      <td>NaN</td>\n      <td>APComputerScience</td>\n      <td>[图灵图书].编程小白的第一本Python入门书.pdf</td>\n      <td>E:\\APComputerScience\\</td>\n      <td>41030057</td>\n      <td>2021/8/18 上午 01:07:33</td>\n      <td>2020/4/18 下午 11:07:11</td>\n    </tr>\n    <tr>\n      <th>330592</th>\n      <td>D:\\_eBooks 電子書 Python</td>\n      <td>113752</td>\n      <td>.pdf</td>\n      <td>D:</td>\n      <td>_eBooks 電子書 Python</td>\n      <td>Python 免費電子書 包含推薦系統實踐\\</td>\n      <td>Python 免費電子書 包含推薦系統實踐</td>\n      <td>[图灵图书].编程小白的第一本Python入门书.pdf</td>\n      <td>D:\\_eBooks 電子書 Python\\Python 免費電子書 包含推薦系統實踐\\</td>\n      <td>41030057</td>\n      <td>2021/8/18 上午 02:29:01</td>\n      <td>2020/4/18 下午 11:07:11</td>\n    </tr>\n    <tr>\n      <th>330591</th>\n      <td>Z:\\資訊書籍文件</td>\n      <td>113752</td>\n      <td>.pdf</td>\n      <td>Z:</td>\n      <td>資訊書籍文件</td>\n      <td>Python 免費電子書 包含推薦系統實踐\\</td>\n      <td>Python 免費電子書 包含推薦系統實踐</td>\n      <td>[图灵图书].编程小白的第一本Python入门书.pdf</td>\n      <td>Z:\\資訊書籍文件\\Python 免費電子書 包含推薦系統實踐\\</td>\n      <td>41030057</td>\n      <td>2020/4/18 下午 11:07:03</td>\n      <td>2020/4/18 下午 11:07:11</td>\n    </tr>\n  </tbody>\n</table>\n<p>175 rows × 12 columns</p>\n</div>"
     },
     "execution_count": 100,
     "metadata": {},
     "output_type": "execute_result"
    }
   ],
   "source": [
    "df[df['組別'].isin(group_numbers) == True].sort_values(['組別','根目錄'])"
   ],
   "metadata": {
    "collapsed": false,
    "pycharm": {
     "name": "#%%\n"
    }
   }
  },
  {
   "cell_type": "code",
   "execution_count": 101,
   "outputs": [
    {
     "data": {
      "text/plain": "Int64Index([   885,    886,    887,    888,    889,    890,    891,    892,\n               893,    894,\n            ...\n              3420,   3421,   3422,   3423,   3424,   3425, 330589, 330590,\n            330591, 330592],\n           dtype='int64', length=175)"
     },
     "execution_count": 101,
     "metadata": {},
     "output_type": "execute_result"
    }
   ],
   "source": [
    "drop_indexes = df[df['組別'].isin(group_numbers) == True].index\n",
    "drop_indexes"
   ],
   "metadata": {
    "collapsed": false,
    "pycharm": {
     "name": "#%%\n"
    }
   }
  },
  {
   "cell_type": "code",
   "execution_count": 102,
   "outputs": [
    {
     "data": {
      "text/plain": "                            磁碟機根目錄      組別      檔案類型 磁碟機  \\\n946           E:\\APComputerScience     241     .html  E:   \n947     D:\\AP ComputerScience 電腦概論     241     .html  D:   \n948                      Z:\\新增書籍文件     241     .html  Z:   \n949           E:\\APComputerScience     242     .html  E:   \n950     D:\\AP ComputerScience 電腦概論     242     .html  D:   \n...                            ...     ...       ...  ..   \n468164                   Z:\\資訊書籍文件  167210    .props  Z:   \n468165                   Z:\\資訊書籍文件  167210    .props  Z:   \n468166                   Z:\\資訊書籍文件  167210    .props  Z:   \n468167                   Z:\\資訊書籍文件  167211  .strings  Z:   \n468168                   Z:\\資訊書籍文件  167211  .strings  Z:   \n\n                            根目錄  \\\n946           APComputerScience   \n947     AP ComputerScience 電腦概論   \n948                      新增書籍文件   \n949           APComputerScience   \n950     AP ComputerScience 電腦概論   \n...                         ...   \n468164                   資訊書籍文件   \n468165                   資訊書籍文件   \n468166                   資訊書籍文件   \n468167                   資訊書籍文件   \n468168                   資訊書籍文件   \n\n                                                      子目錄  \\\n946          APComputerScienceA,7thEdition(PDFDrive)_all\\   \n947                                                htmls\\   \n948     下載書籍\\APComputerScience\\APComputerScienceA,7thE...   \n949          APComputerScienceA7thEdition(PDFDrive)_html\\   \n950                                                htmls\\   \n...                                                   ...   \n468164  Visual C# 一次就懂 ASP.NET MVC5.X 網站開發 Web 應用的經典實務...   \n468165  Visual C# 一次就懂 ASP.NET MVC5.X 網站開發 Web 應用的經典實務...   \n468166  Visual C# 一次就懂 ASP.NET MVC5.X 網站開發 Web 應用的經典實務...   \n468167  iOS 13 程式設計實戰 Swift 5.1SwiftUI 框架 快速上手的開發技巧 20...   \n468168  iOS 13 程式設計實戰 Swift 5.1SwiftUI 框架 快速上手的開發技巧 20...   \n\n                                              檔案資料夾  \\\n946     APComputerScienceA,7thEdition(PDFDrive)_all   \n947                                           htmls   \n948     APComputerScienceA,7thEdition(PDFDrive)_all   \n949     APComputerScienceA7thEdition(PDFDrive)_html   \n950                                           htmls   \n...                                             ...   \n468164                                        net46   \n468165                                        net45   \n468166                                        net46   \n468167                                zh-Hant.lproj   \n468168                                zh-Hant.lproj   \n\n                                                     檔案名稱  \\\n946          APComputerScienceA,7thEdition(PDFDrive).html   \n947          APComputerScienceA,7thEdition(PDFDrive).html   \n948          APComputerScienceA,7thEdition(PDFDrive).html   \n949         APComputerScienceA,7thEdition(PDFDrive)0.html   \n950         APComputerScienceA,7thEdition(PDFDrive)0.html   \n...                                                   ...   \n468164  Microsoft.CodeDom.Providers.DotNetCompilerPlat...   \n468165  Microsoft.CodeDom.Providers.DotNetCompilerPlat...   \n468166  Microsoft.CodeDom.Providers.DotNetCompilerPlat...   \n468167                               LaunchScreen.strings   \n468168                               LaunchScreen.strings   \n\n                                                       路徑        大小  \\\n946     E:\\APComputerScience\\APComputerScienceA,7thEdi...  24159992   \n947                     D:\\AP ComputerScience 電腦概論\\htmls\\  24159992   \n948     Z:\\新增書籍文件\\下載書籍\\APComputerScience\\APComputerSci...  24159992   \n949     E:\\APComputerScience\\APComputerScienceA7thEdit...   8471833   \n950                     D:\\AP ComputerScience 電腦概論\\htmls\\   8471833   \n...                                                   ...       ...   \n468164  Z:\\資訊書籍文件\\Visual C# 一次就懂 ASP.NET MVC5.X 網站開發 W...      5530   \n468165  Z:\\資訊書籍文件\\Visual C# 一次就懂 ASP.NET MVC5.X 網站開發 W...      5530   \n468166  Z:\\資訊書籍文件\\Visual C# 一次就懂 ASP.NET MVC5.X 網站開發 W...      5530   \n468167  Z:\\資訊書籍文件\\iOS 13 程式設計實戰 Swift 5.1SwiftUI 框架 快速...         1   \n468168  Z:\\資訊書籍文件\\iOS 13 程式設計實戰 Swift 5.1SwiftUI 框架 快速...         1   \n\n                         新增日期                   修改日期  \n946     2021/8/18 上午 01:07:38  2021/1/20 下午 01:47:19  \n947     2021/8/18 上午 02:35:57  2021/1/20 下午 01:47:19  \n948     2021/1/21 上午 02:43:54  2021/1/20 下午 01:47:19  \n949     2021/8/18 上午 01:07:39  2021/1/20 下午 01:13:37  \n950     2021/8/18 上午 02:35:58  2021/1/20 下午 01:13:37  \n...                       ...                    ...  \n468164   2020/3/7 下午 08:06:24  2018/5/24 上午 05:38:22  \n468165   2020/3/7 下午 08:09:52  2018/5/24 上午 05:38:22  \n468166   2020/3/7 下午 08:09:53  2018/5/24 上午 05:38:22  \n468167  2020/2/10 上午 07:58:08  2019/7/31 上午 07:20:26  \n468168  2020/2/10 上午 07:58:08  2019/7/31 上午 07:20:24  \n\n[467109 rows x 12 columns]",
      "text/html": "<div>\n<style scoped>\n    .dataframe tbody tr th:only-of-type {\n        vertical-align: middle;\n    }\n\n    .dataframe tbody tr th {\n        vertical-align: top;\n    }\n\n    .dataframe thead th {\n        text-align: right;\n    }\n</style>\n<table border=\"1\" class=\"dataframe\">\n  <thead>\n    <tr style=\"text-align: right;\">\n      <th></th>\n      <th>磁碟機根目錄</th>\n      <th>組別</th>\n      <th>檔案類型</th>\n      <th>磁碟機</th>\n      <th>根目錄</th>\n      <th>子目錄</th>\n      <th>檔案資料夾</th>\n      <th>檔案名稱</th>\n      <th>路徑</th>\n      <th>大小</th>\n      <th>新增日期</th>\n      <th>修改日期</th>\n    </tr>\n  </thead>\n  <tbody>\n    <tr>\n      <th>946</th>\n      <td>E:\\APComputerScience</td>\n      <td>241</td>\n      <td>.html</td>\n      <td>E:</td>\n      <td>APComputerScience</td>\n      <td>APComputerScienceA,7thEdition(PDFDrive)_all\\</td>\n      <td>APComputerScienceA,7thEdition(PDFDrive)_all</td>\n      <td>APComputerScienceA,7thEdition(PDFDrive).html</td>\n      <td>E:\\APComputerScience\\APComputerScienceA,7thEdi...</td>\n      <td>24159992</td>\n      <td>2021/8/18 上午 01:07:38</td>\n      <td>2021/1/20 下午 01:47:19</td>\n    </tr>\n    <tr>\n      <th>947</th>\n      <td>D:\\AP ComputerScience 電腦概論</td>\n      <td>241</td>\n      <td>.html</td>\n      <td>D:</td>\n      <td>AP ComputerScience 電腦概論</td>\n      <td>htmls\\</td>\n      <td>htmls</td>\n      <td>APComputerScienceA,7thEdition(PDFDrive).html</td>\n      <td>D:\\AP ComputerScience 電腦概論\\htmls\\</td>\n      <td>24159992</td>\n      <td>2021/8/18 上午 02:35:57</td>\n      <td>2021/1/20 下午 01:47:19</td>\n    </tr>\n    <tr>\n      <th>948</th>\n      <td>Z:\\新增書籍文件</td>\n      <td>241</td>\n      <td>.html</td>\n      <td>Z:</td>\n      <td>新增書籍文件</td>\n      <td>下載書籍\\APComputerScience\\APComputerScienceA,7thE...</td>\n      <td>APComputerScienceA,7thEdition(PDFDrive)_all</td>\n      <td>APComputerScienceA,7thEdition(PDFDrive).html</td>\n      <td>Z:\\新增書籍文件\\下載書籍\\APComputerScience\\APComputerSci...</td>\n      <td>24159992</td>\n      <td>2021/1/21 上午 02:43:54</td>\n      <td>2021/1/20 下午 01:47:19</td>\n    </tr>\n    <tr>\n      <th>949</th>\n      <td>E:\\APComputerScience</td>\n      <td>242</td>\n      <td>.html</td>\n      <td>E:</td>\n      <td>APComputerScience</td>\n      <td>APComputerScienceA7thEdition(PDFDrive)_html\\</td>\n      <td>APComputerScienceA7thEdition(PDFDrive)_html</td>\n      <td>APComputerScienceA,7thEdition(PDFDrive)0.html</td>\n      <td>E:\\APComputerScience\\APComputerScienceA7thEdit...</td>\n      <td>8471833</td>\n      <td>2021/8/18 上午 01:07:39</td>\n      <td>2021/1/20 下午 01:13:37</td>\n    </tr>\n    <tr>\n      <th>950</th>\n      <td>D:\\AP ComputerScience 電腦概論</td>\n      <td>242</td>\n      <td>.html</td>\n      <td>D:</td>\n      <td>AP ComputerScience 電腦概論</td>\n      <td>htmls\\</td>\n      <td>htmls</td>\n      <td>APComputerScienceA,7thEdition(PDFDrive)0.html</td>\n      <td>D:\\AP ComputerScience 電腦概論\\htmls\\</td>\n      <td>8471833</td>\n      <td>2021/8/18 上午 02:35:58</td>\n      <td>2021/1/20 下午 01:13:37</td>\n    </tr>\n    <tr>\n      <th>...</th>\n      <td>...</td>\n      <td>...</td>\n      <td>...</td>\n      <td>...</td>\n      <td>...</td>\n      <td>...</td>\n      <td>...</td>\n      <td>...</td>\n      <td>...</td>\n      <td>...</td>\n      <td>...</td>\n      <td>...</td>\n    </tr>\n    <tr>\n      <th>468164</th>\n      <td>Z:\\資訊書籍文件</td>\n      <td>167210</td>\n      <td>.props</td>\n      <td>Z:</td>\n      <td>資訊書籍文件</td>\n      <td>Visual C# 一次就懂 ASP.NET MVC5.X 網站開發 Web 應用的經典實務...</td>\n      <td>net46</td>\n      <td>Microsoft.CodeDom.Providers.DotNetCompilerPlat...</td>\n      <td>Z:\\資訊書籍文件\\Visual C# 一次就懂 ASP.NET MVC5.X 網站開發 W...</td>\n      <td>5530</td>\n      <td>2020/3/7 下午 08:06:24</td>\n      <td>2018/5/24 上午 05:38:22</td>\n    </tr>\n    <tr>\n      <th>468165</th>\n      <td>Z:\\資訊書籍文件</td>\n      <td>167210</td>\n      <td>.props</td>\n      <td>Z:</td>\n      <td>資訊書籍文件</td>\n      <td>Visual C# 一次就懂 ASP.NET MVC5.X 網站開發 Web 應用的經典實務...</td>\n      <td>net45</td>\n      <td>Microsoft.CodeDom.Providers.DotNetCompilerPlat...</td>\n      <td>Z:\\資訊書籍文件\\Visual C# 一次就懂 ASP.NET MVC5.X 網站開發 W...</td>\n      <td>5530</td>\n      <td>2020/3/7 下午 08:09:52</td>\n      <td>2018/5/24 上午 05:38:22</td>\n    </tr>\n    <tr>\n      <th>468166</th>\n      <td>Z:\\資訊書籍文件</td>\n      <td>167210</td>\n      <td>.props</td>\n      <td>Z:</td>\n      <td>資訊書籍文件</td>\n      <td>Visual C# 一次就懂 ASP.NET MVC5.X 網站開發 Web 應用的經典實務...</td>\n      <td>net46</td>\n      <td>Microsoft.CodeDom.Providers.DotNetCompilerPlat...</td>\n      <td>Z:\\資訊書籍文件\\Visual C# 一次就懂 ASP.NET MVC5.X 網站開發 W...</td>\n      <td>5530</td>\n      <td>2020/3/7 下午 08:09:53</td>\n      <td>2018/5/24 上午 05:38:22</td>\n    </tr>\n    <tr>\n      <th>468167</th>\n      <td>Z:\\資訊書籍文件</td>\n      <td>167211</td>\n      <td>.strings</td>\n      <td>Z:</td>\n      <td>資訊書籍文件</td>\n      <td>iOS 13 程式設計實戰 Swift 5.1SwiftUI 框架 快速上手的開發技巧 20...</td>\n      <td>zh-Hant.lproj</td>\n      <td>LaunchScreen.strings</td>\n      <td>Z:\\資訊書籍文件\\iOS 13 程式設計實戰 Swift 5.1SwiftUI 框架 快速...</td>\n      <td>1</td>\n      <td>2020/2/10 上午 07:58:08</td>\n      <td>2019/7/31 上午 07:20:26</td>\n    </tr>\n    <tr>\n      <th>468168</th>\n      <td>Z:\\資訊書籍文件</td>\n      <td>167211</td>\n      <td>.strings</td>\n      <td>Z:</td>\n      <td>資訊書籍文件</td>\n      <td>iOS 13 程式設計實戰 Swift 5.1SwiftUI 框架 快速上手的開發技巧 20...</td>\n      <td>zh-Hant.lproj</td>\n      <td>LaunchScreen.strings</td>\n      <td>Z:\\資訊書籍文件\\iOS 13 程式設計實戰 Swift 5.1SwiftUI 框架 快速...</td>\n      <td>1</td>\n      <td>2020/2/10 上午 07:58:08</td>\n      <td>2019/7/31 上午 07:20:24</td>\n    </tr>\n  </tbody>\n</table>\n<p>467109 rows × 12 columns</p>\n</div>"
     },
     "execution_count": 102,
     "metadata": {},
     "output_type": "execute_result"
    }
   ],
   "source": [
    "df.drop(drop_indexes, inplace=True)\n",
    "df"
   ],
   "metadata": {
    "collapsed": false,
    "pycharm": {
     "name": "#%%\n"
    }
   }
  },
  {
   "cell_type": "code",
   "execution_count": null,
   "outputs": [],
   "source": [],
   "metadata": {
    "collapsed": false,
    "pycharm": {
     "name": "#%%\n"
    }
   }
  }
 ],
 "metadata": {
  "kernelspec": {
   "display_name": "Python 3",
   "language": "python",
   "name": "python3"
  },
  "language_info": {
   "codemirror_mode": {
    "name": "ipython",
    "version": 3
   },
   "file_extension": ".py",
   "mimetype": "text/x-python",
   "name": "python",
   "nbconvert_exporter": "python",
   "pygments_lexer": "ipython3",
   "version": "3.7.9"
  }
 },
 "nbformat": 4,
 "nbformat_minor": 0
}