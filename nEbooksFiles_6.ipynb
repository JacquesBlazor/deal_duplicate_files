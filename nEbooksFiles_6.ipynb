{
 "cells": [
  {
   "cell_type": "code",
   "execution_count": 1,
   "metadata": {
    "collapsed": false,
    "pycharm": {
     "name": "#%%\n"
    }
   },
   "outputs": [],
   "source": [
    "import os\n",
    "import pickle\n",
    "import pandas as pd"
   ]
  },
  {
   "cell_type": "code",
   "execution_count": 2,
   "outputs": [],
   "source": [
    "df = pd.read_csv('df_index.csv')"
   ],
   "metadata": {
    "collapsed": false,
    "pycharm": {
     "name": "#%%\n"
    }
   }
  },
  {
   "cell_type": "code",
   "execution_count": 3,
   "outputs": [
    {
     "data": {
      "text/plain": "                                  磁碟機根目錄      組別      檔案類型 磁碟機  \\\n0       Z:\\8分鐘搞懂理財知識_新手教室 Youtube 投資影片教學       1      .mp4  Z:   \n1                     Z:\\8分鐘搞懂理財知識_重新整理過       1      .mp4  Z:   \n2                      Z:\\Youtube 投資影片教學       1      .mp4  Z:   \n3                           D:\\8分鐘搞懂理財知識       1      .mp4  D:   \n4                           D:\\8分鐘搞懂理財知識       1      .mp4  D:   \n...                                  ...     ...       ...  ..   \n468164                         Z:\\資訊書籍文件  167210    .props  Z:   \n468165                         Z:\\資訊書籍文件  167210    .props  Z:   \n468166                         Z:\\資訊書籍文件  167210    .props  Z:   \n468167                         Z:\\資訊書籍文件  167211  .strings  Z:   \n468168                         Z:\\資訊書籍文件  167211  .strings  Z:   \n\n                                  根目錄  \\\n0       8分鐘搞懂理財知識_新手教室 Youtube 投資影片教學   \n1                     8分鐘搞懂理財知識_重新整理過   \n2                      Youtube 投資影片教學   \n3                           8分鐘搞懂理財知識   \n4                           8分鐘搞懂理財知識   \n...                               ...   \n468164                         資訊書籍文件   \n468165                         資訊書籍文件   \n468166                         資訊書籍文件   \n468167                         資訊書籍文件   \n468168                         資訊書籍文件   \n\n                                                      子目錄  \\\n0                                                     NaN   \n1                                                     NaN   \n2                                                     NaN   \n3                     _8分鐘搞懂理財知識_原來的 新手教室 Youtube 投資影片教學\\   \n4                              _8分鐘搞懂理財知識_整理的 Youtube 影片\\   \n...                                                   ...   \n468164  Visual C# 一次就懂 ASP.NET MVC5.X 網站開發 Web 應用的經典實務...   \n468165  Visual C# 一次就懂 ASP.NET MVC5.X 網站開發 Web 應用的經典實務...   \n468166  Visual C# 一次就懂 ASP.NET MVC5.X 網站開發 Web 應用的經典實務...   \n468167  iOS 13 程式設計實戰 Swift 5.1SwiftUI 框架 快速上手的開發技巧 20...   \n468168  iOS 13 程式設計實戰 Swift 5.1SwiftUI 框架 快速上手的開發技巧 20...   \n\n                                     檔案資料夾  \\\n0            8分鐘搞懂理財知識_新手教室 Youtube 投資影片教學   \n1                          8分鐘搞懂理財知識_重新整理過   \n2                           Youtube 投資影片教學   \n3       _8分鐘搞懂理財知識_原來的 新手教室 Youtube 投資影片教學   \n4                _8分鐘搞懂理財知識_整理的 Youtube 影片   \n...                                    ...   \n468164                               net46   \n468165                               net45   \n468166                               net46   \n468167                       zh-Hant.lproj   \n468168                       zh-Hant.lproj   \n\n                                                     檔案名稱  \\\n0                      8分鐘搞懂技術分析：RSI的重要價值-WUwaMVSCDYY.mp4   \n1                  2015-08-25_2152_技術分析教學_快速搞懂RSI技術指標.mp4   \n2                      8分鐘搞懂技術分析：RSI的重要價值-WUwaMVSCDYY.mp4   \n3                      8分鐘搞懂技術分析：RSI的重要價值-WUwaMVSCDYY.mp4   \n4                  2015-08-25_2152_技術分析教學_快速搞懂RSI技術指標.mp4   \n...                                                   ...   \n468164  Microsoft.CodeDom.Providers.DotNetCompilerPlat...   \n468165  Microsoft.CodeDom.Providers.DotNetCompilerPlat...   \n468166  Microsoft.CodeDom.Providers.DotNetCompilerPlat...   \n468167                               LaunchScreen.strings   \n468168                               LaunchScreen.strings   \n\n                                                       路徑        大小  \\\n0                       Z:\\8分鐘搞懂理財知識_新手教室 Youtube 投資影片教學\\  25612876   \n1                                     Z:\\8分鐘搞懂理財知識_重新整理過\\  25612876   \n2                                      Z:\\Youtube 投資影片教學\\  25612876   \n3        D:\\8分鐘搞懂理財知識\\_8分鐘搞懂理財知識_原來的 新手教室 Youtube 投資影片教學\\  25612876   \n4                 D:\\8分鐘搞懂理財知識\\_8分鐘搞懂理財知識_整理的 Youtube 影片\\  25612876   \n...                                                   ...       ...   \n468164  Z:\\資訊書籍文件\\Visual C# 一次就懂 ASP.NET MVC5.X 網站開發 W...      5530   \n468165  Z:\\資訊書籍文件\\Visual C# 一次就懂 ASP.NET MVC5.X 網站開發 W...      5530   \n468166  Z:\\資訊書籍文件\\Visual C# 一次就懂 ASP.NET MVC5.X 網站開發 W...      5530   \n468167  Z:\\資訊書籍文件\\iOS 13 程式設計實戰 Swift 5.1SwiftUI 框架 快速...         1   \n468168  Z:\\資訊書籍文件\\iOS 13 程式設計實戰 Swift 5.1SwiftUI 框架 快速...         1   \n\n                         新增日期                    修改日期  \n0       2021/5/10 下午 05:08:28  2018/11/14 下午 02:12:09  \n1       2021/5/11 上午 03:06:53   2021/5/11 上午 02:58:44  \n2       2021/5/10 下午 04:04:52  2018/11/14 下午 02:12:09  \n3       2021/8/18 上午 02:37:16  2018/11/14 下午 02:12:09  \n4       2021/8/18 上午 02:38:06   2021/5/11 上午 02:58:44  \n...                       ...                     ...  \n468164   2020/3/7 下午 08:06:24   2018/5/24 上午 05:38:22  \n468165   2020/3/7 下午 08:09:52   2018/5/24 上午 05:38:22  \n468166   2020/3/7 下午 08:09:53   2018/5/24 上午 05:38:22  \n468167  2020/2/10 上午 07:58:08   2019/7/31 上午 07:20:26  \n468168  2020/2/10 上午 07:58:08   2019/7/31 上午 07:20:24  \n\n[468169 rows x 12 columns]",
      "text/html": "<div>\n<style scoped>\n    .dataframe tbody tr th:only-of-type {\n        vertical-align: middle;\n    }\n\n    .dataframe tbody tr th {\n        vertical-align: top;\n    }\n\n    .dataframe thead th {\n        text-align: right;\n    }\n</style>\n<table border=\"1\" class=\"dataframe\">\n  <thead>\n    <tr style=\"text-align: right;\">\n      <th></th>\n      <th>磁碟機根目錄</th>\n      <th>組別</th>\n      <th>檔案類型</th>\n      <th>磁碟機</th>\n      <th>根目錄</th>\n      <th>子目錄</th>\n      <th>檔案資料夾</th>\n      <th>檔案名稱</th>\n      <th>路徑</th>\n      <th>大小</th>\n      <th>新增日期</th>\n      <th>修改日期</th>\n    </tr>\n  </thead>\n  <tbody>\n    <tr>\n      <th>0</th>\n      <td>Z:\\8分鐘搞懂理財知識_新手教室 Youtube 投資影片教學</td>\n      <td>1</td>\n      <td>.mp4</td>\n      <td>Z:</td>\n      <td>8分鐘搞懂理財知識_新手教室 Youtube 投資影片教學</td>\n      <td>NaN</td>\n      <td>8分鐘搞懂理財知識_新手教室 Youtube 投資影片教學</td>\n      <td>8分鐘搞懂技術分析：RSI的重要價值-WUwaMVSCDYY.mp4</td>\n      <td>Z:\\8分鐘搞懂理財知識_新手教室 Youtube 投資影片教學\\</td>\n      <td>25612876</td>\n      <td>2021/5/10 下午 05:08:28</td>\n      <td>2018/11/14 下午 02:12:09</td>\n    </tr>\n    <tr>\n      <th>1</th>\n      <td>Z:\\8分鐘搞懂理財知識_重新整理過</td>\n      <td>1</td>\n      <td>.mp4</td>\n      <td>Z:</td>\n      <td>8分鐘搞懂理財知識_重新整理過</td>\n      <td>NaN</td>\n      <td>8分鐘搞懂理財知識_重新整理過</td>\n      <td>2015-08-25_2152_技術分析教學_快速搞懂RSI技術指標.mp4</td>\n      <td>Z:\\8分鐘搞懂理財知識_重新整理過\\</td>\n      <td>25612876</td>\n      <td>2021/5/11 上午 03:06:53</td>\n      <td>2021/5/11 上午 02:58:44</td>\n    </tr>\n    <tr>\n      <th>2</th>\n      <td>Z:\\Youtube 投資影片教學</td>\n      <td>1</td>\n      <td>.mp4</td>\n      <td>Z:</td>\n      <td>Youtube 投資影片教學</td>\n      <td>NaN</td>\n      <td>Youtube 投資影片教學</td>\n      <td>8分鐘搞懂技術分析：RSI的重要價值-WUwaMVSCDYY.mp4</td>\n      <td>Z:\\Youtube 投資影片教學\\</td>\n      <td>25612876</td>\n      <td>2021/5/10 下午 04:04:52</td>\n      <td>2018/11/14 下午 02:12:09</td>\n    </tr>\n    <tr>\n      <th>3</th>\n      <td>D:\\8分鐘搞懂理財知識</td>\n      <td>1</td>\n      <td>.mp4</td>\n      <td>D:</td>\n      <td>8分鐘搞懂理財知識</td>\n      <td>_8分鐘搞懂理財知識_原來的 新手教室 Youtube 投資影片教學\\</td>\n      <td>_8分鐘搞懂理財知識_原來的 新手教室 Youtube 投資影片教學</td>\n      <td>8分鐘搞懂技術分析：RSI的重要價值-WUwaMVSCDYY.mp4</td>\n      <td>D:\\8分鐘搞懂理財知識\\_8分鐘搞懂理財知識_原來的 新手教室 Youtube 投資影片教學\\</td>\n      <td>25612876</td>\n      <td>2021/8/18 上午 02:37:16</td>\n      <td>2018/11/14 下午 02:12:09</td>\n    </tr>\n    <tr>\n      <th>4</th>\n      <td>D:\\8分鐘搞懂理財知識</td>\n      <td>1</td>\n      <td>.mp4</td>\n      <td>D:</td>\n      <td>8分鐘搞懂理財知識</td>\n      <td>_8分鐘搞懂理財知識_整理的 Youtube 影片\\</td>\n      <td>_8分鐘搞懂理財知識_整理的 Youtube 影片</td>\n      <td>2015-08-25_2152_技術分析教學_快速搞懂RSI技術指標.mp4</td>\n      <td>D:\\8分鐘搞懂理財知識\\_8分鐘搞懂理財知識_整理的 Youtube 影片\\</td>\n      <td>25612876</td>\n      <td>2021/8/18 上午 02:38:06</td>\n      <td>2021/5/11 上午 02:58:44</td>\n    </tr>\n    <tr>\n      <th>...</th>\n      <td>...</td>\n      <td>...</td>\n      <td>...</td>\n      <td>...</td>\n      <td>...</td>\n      <td>...</td>\n      <td>...</td>\n      <td>...</td>\n      <td>...</td>\n      <td>...</td>\n      <td>...</td>\n      <td>...</td>\n    </tr>\n    <tr>\n      <th>468164</th>\n      <td>Z:\\資訊書籍文件</td>\n      <td>167210</td>\n      <td>.props</td>\n      <td>Z:</td>\n      <td>資訊書籍文件</td>\n      <td>Visual C# 一次就懂 ASP.NET MVC5.X 網站開發 Web 應用的經典實務...</td>\n      <td>net46</td>\n      <td>Microsoft.CodeDom.Providers.DotNetCompilerPlat...</td>\n      <td>Z:\\資訊書籍文件\\Visual C# 一次就懂 ASP.NET MVC5.X 網站開發 W...</td>\n      <td>5530</td>\n      <td>2020/3/7 下午 08:06:24</td>\n      <td>2018/5/24 上午 05:38:22</td>\n    </tr>\n    <tr>\n      <th>468165</th>\n      <td>Z:\\資訊書籍文件</td>\n      <td>167210</td>\n      <td>.props</td>\n      <td>Z:</td>\n      <td>資訊書籍文件</td>\n      <td>Visual C# 一次就懂 ASP.NET MVC5.X 網站開發 Web 應用的經典實務...</td>\n      <td>net45</td>\n      <td>Microsoft.CodeDom.Providers.DotNetCompilerPlat...</td>\n      <td>Z:\\資訊書籍文件\\Visual C# 一次就懂 ASP.NET MVC5.X 網站開發 W...</td>\n      <td>5530</td>\n      <td>2020/3/7 下午 08:09:52</td>\n      <td>2018/5/24 上午 05:38:22</td>\n    </tr>\n    <tr>\n      <th>468166</th>\n      <td>Z:\\資訊書籍文件</td>\n      <td>167210</td>\n      <td>.props</td>\n      <td>Z:</td>\n      <td>資訊書籍文件</td>\n      <td>Visual C# 一次就懂 ASP.NET MVC5.X 網站開發 Web 應用的經典實務...</td>\n      <td>net46</td>\n      <td>Microsoft.CodeDom.Providers.DotNetCompilerPlat...</td>\n      <td>Z:\\資訊書籍文件\\Visual C# 一次就懂 ASP.NET MVC5.X 網站開發 W...</td>\n      <td>5530</td>\n      <td>2020/3/7 下午 08:09:53</td>\n      <td>2018/5/24 上午 05:38:22</td>\n    </tr>\n    <tr>\n      <th>468167</th>\n      <td>Z:\\資訊書籍文件</td>\n      <td>167211</td>\n      <td>.strings</td>\n      <td>Z:</td>\n      <td>資訊書籍文件</td>\n      <td>iOS 13 程式設計實戰 Swift 5.1SwiftUI 框架 快速上手的開發技巧 20...</td>\n      <td>zh-Hant.lproj</td>\n      <td>LaunchScreen.strings</td>\n      <td>Z:\\資訊書籍文件\\iOS 13 程式設計實戰 Swift 5.1SwiftUI 框架 快速...</td>\n      <td>1</td>\n      <td>2020/2/10 上午 07:58:08</td>\n      <td>2019/7/31 上午 07:20:26</td>\n    </tr>\n    <tr>\n      <th>468168</th>\n      <td>Z:\\資訊書籍文件</td>\n      <td>167211</td>\n      <td>.strings</td>\n      <td>Z:</td>\n      <td>資訊書籍文件</td>\n      <td>iOS 13 程式設計實戰 Swift 5.1SwiftUI 框架 快速上手的開發技巧 20...</td>\n      <td>zh-Hant.lproj</td>\n      <td>LaunchScreen.strings</td>\n      <td>Z:\\資訊書籍文件\\iOS 13 程式設計實戰 Swift 5.1SwiftUI 框架 快速...</td>\n      <td>1</td>\n      <td>2020/2/10 上午 07:58:08</td>\n      <td>2019/7/31 上午 07:20:24</td>\n    </tr>\n  </tbody>\n</table>\n<p>468169 rows × 12 columns</p>\n</div>"
     },
     "execution_count": 3,
     "metadata": {},
     "output_type": "execute_result"
    }
   ],
   "source": [
    "df"
   ],
   "metadata": {
    "collapsed": false,
    "pycharm": {
     "name": "#%%\n"
    }
   }
  },
  {
   "cell_type": "code",
   "execution_count": 4,
   "outputs": [],
   "source": [
    "reshape_frame = pd.DataFrame()"
   ],
   "metadata": {
    "collapsed": false,
    "pycharm": {
     "name": "#%%\n"
    }
   }
  },
  {
   "cell_type": "code",
   "execution_count": 5,
   "outputs": [
    {
     "data": {
      "text/plain": "1"
     },
     "execution_count": 5,
     "metadata": {},
     "output_type": "execute_result"
    }
   ],
   "source": [
    "eval_group_id = df['組別'].iloc[0]\n",
    "eval_group_id"
   ],
   "metadata": {
    "collapsed": false,
    "pycharm": {
     "name": "#%%\n"
    }
   }
  },
  {
   "cell_type": "code",
   "execution_count": 7,
   "outputs": [
    {
     "data": {
      "text/plain": "           磁碟機根目錄      組別      檔案類型 磁碟機     根目錄  \\\n468167  Z:\\資訊書籍文件  167211  .strings  Z:  資訊書籍文件   \n468168  Z:\\資訊書籍文件  167211  .strings  Z:  資訊書籍文件   \n\n                                                      子目錄          檔案資料夾  \\\n468167  iOS 13 程式設計實戰 Swift 5.1SwiftUI 框架 快速上手的開發技巧 20...  zh-Hant.lproj   \n468168  iOS 13 程式設計實戰 Swift 5.1SwiftUI 框架 快速上手的開發技巧 20...  zh-Hant.lproj   \n\n                        檔案名稱  \\\n468167  LaunchScreen.strings   \n468168  LaunchScreen.strings   \n\n                                                       路徑  大小  \\\n468167  Z:\\資訊書籍文件\\iOS 13 程式設計實戰 Swift 5.1SwiftUI 框架 快速...   1   \n468168  Z:\\資訊書籍文件\\iOS 13 程式設計實戰 Swift 5.1SwiftUI 框架 快速...   1   \n\n                         新增日期                   修改日期  \n468167  2020/2/10 上午 07:58:08  2019/7/31 上午 07:20:26  \n468168  2020/2/10 上午 07:58:08  2019/7/31 上午 07:20:24  ",
      "text/html": "<div>\n<style scoped>\n    .dataframe tbody tr th:only-of-type {\n        vertical-align: middle;\n    }\n\n    .dataframe tbody tr th {\n        vertical-align: top;\n    }\n\n    .dataframe thead th {\n        text-align: right;\n    }\n</style>\n<table border=\"1\" class=\"dataframe\">\n  <thead>\n    <tr style=\"text-align: right;\">\n      <th></th>\n      <th>磁碟機根目錄</th>\n      <th>組別</th>\n      <th>檔案類型</th>\n      <th>磁碟機</th>\n      <th>根目錄</th>\n      <th>子目錄</th>\n      <th>檔案資料夾</th>\n      <th>檔案名稱</th>\n      <th>路徑</th>\n      <th>大小</th>\n      <th>新增日期</th>\n      <th>修改日期</th>\n    </tr>\n  </thead>\n  <tbody>\n    <tr>\n      <th>468167</th>\n      <td>Z:\\資訊書籍文件</td>\n      <td>167211</td>\n      <td>.strings</td>\n      <td>Z:</td>\n      <td>資訊書籍文件</td>\n      <td>iOS 13 程式設計實戰 Swift 5.1SwiftUI 框架 快速上手的開發技巧 20...</td>\n      <td>zh-Hant.lproj</td>\n      <td>LaunchScreen.strings</td>\n      <td>Z:\\資訊書籍文件\\iOS 13 程式設計實戰 Swift 5.1SwiftUI 框架 快速...</td>\n      <td>1</td>\n      <td>2020/2/10 上午 07:58:08</td>\n      <td>2019/7/31 上午 07:20:26</td>\n    </tr>\n    <tr>\n      <th>468168</th>\n      <td>Z:\\資訊書籍文件</td>\n      <td>167211</td>\n      <td>.strings</td>\n      <td>Z:</td>\n      <td>資訊書籍文件</td>\n      <td>iOS 13 程式設計實戰 Swift 5.1SwiftUI 框架 快速上手的開發技巧 20...</td>\n      <td>zh-Hant.lproj</td>\n      <td>LaunchScreen.strings</td>\n      <td>Z:\\資訊書籍文件\\iOS 13 程式設計實戰 Swift 5.1SwiftUI 框架 快速...</td>\n      <td>1</td>\n      <td>2020/2/10 上午 07:58:08</td>\n      <td>2019/7/31 上午 07:20:24</td>\n    </tr>\n  </tbody>\n</table>\n</div>"
     },
     "execution_count": 7,
     "metadata": {},
     "output_type": "execute_result"
    }
   ],
   "source": [
    "df[df['組別'] == eval_group_id]"
   ],
   "metadata": {
    "collapsed": false,
    "pycharm": {
     "name": "#%%\n"
    }
   }
  },
  {
   "cell_type": "code",
   "execution_count": 37,
   "outputs": [
    {
     "data": {
      "text/plain": "           磁碟機根目錄      組別   檔案類型 磁碟機     根目錄  \\\n467403  Z:\\資訊書籍文件  166852  .html  Z:  資訊書籍文件   \n467404  Z:\\資訊書籍文件  166852  .html  Z:  資訊書籍文件   \n\n                                                      子目錄 檔案資料夾         檔案名稱  \\\n467403  Python 網路爬蟲 大數據擷取 清洗 儲存與分析 王者歸來\\Python 網路爬蟲 大數...   ch3  myhtml.html   \n467404  Python 網路爬蟲 大數據擷取 清洗 儲存與分析 王者歸來\\Python 網路爬蟲 大數...   ch5  myhtml.html   \n\n                                                       路徑   大小  \\\n467403  Z:\\資訊書籍文件\\Python 網路爬蟲 大數據擷取 清洗 儲存與分析 王者歸來\\Pyth...  902   \n467404  Z:\\資訊書籍文件\\Python 網路爬蟲 大數據擷取 清洗 儲存與分析 王者歸來\\Pyth...  902   \n\n                         新增日期                   修改日期  \n467403  2019/11/7 下午 11:45:48  2019/9/12 上午 03:40:16  \n467404  2019/11/7 下午 11:45:48  2019/9/12 上午 03:40:16  ",
      "text/html": "<div>\n<style scoped>\n    .dataframe tbody tr th:only-of-type {\n        vertical-align: middle;\n    }\n\n    .dataframe tbody tr th {\n        vertical-align: top;\n    }\n\n    .dataframe thead th {\n        text-align: right;\n    }\n</style>\n<table border=\"1\" class=\"dataframe\">\n  <thead>\n    <tr style=\"text-align: right;\">\n      <th></th>\n      <th>磁碟機根目錄</th>\n      <th>組別</th>\n      <th>檔案類型</th>\n      <th>磁碟機</th>\n      <th>根目錄</th>\n      <th>子目錄</th>\n      <th>檔案資料夾</th>\n      <th>檔案名稱</th>\n      <th>路徑</th>\n      <th>大小</th>\n      <th>新增日期</th>\n      <th>修改日期</th>\n    </tr>\n  </thead>\n  <tbody>\n    <tr>\n      <th>467403</th>\n      <td>Z:\\資訊書籍文件</td>\n      <td>166852</td>\n      <td>.html</td>\n      <td>Z:</td>\n      <td>資訊書籍文件</td>\n      <td>Python 網路爬蟲 大數據擷取 清洗 儲存與分析 王者歸來\\Python 網路爬蟲 大數...</td>\n      <td>ch3</td>\n      <td>myhtml.html</td>\n      <td>Z:\\資訊書籍文件\\Python 網路爬蟲 大數據擷取 清洗 儲存與分析 王者歸來\\Pyth...</td>\n      <td>902</td>\n      <td>2019/11/7 下午 11:45:48</td>\n      <td>2019/9/12 上午 03:40:16</td>\n    </tr>\n    <tr>\n      <th>467404</th>\n      <td>Z:\\資訊書籍文件</td>\n      <td>166852</td>\n      <td>.html</td>\n      <td>Z:</td>\n      <td>資訊書籍文件</td>\n      <td>Python 網路爬蟲 大數據擷取 清洗 儲存與分析 王者歸來\\Python 網路爬蟲 大數...</td>\n      <td>ch5</td>\n      <td>myhtml.html</td>\n      <td>Z:\\資訊書籍文件\\Python 網路爬蟲 大數據擷取 清洗 儲存與分析 王者歸來\\Pyth...</td>\n      <td>902</td>\n      <td>2019/11/7 下午 11:45:48</td>\n      <td>2019/9/12 上午 03:40:16</td>\n    </tr>\n  </tbody>\n</table>\n</div>"
     },
     "execution_count": 37,
     "metadata": {},
     "output_type": "execute_result"
    }
   ],
   "source": [
    "df[df['組別'] == eval_group_id-1]"
   ],
   "metadata": {
    "collapsed": false,
    "pycharm": {
     "name": "#%%\n"
    }
   }
  },
  {
   "cell_type": "code",
   "execution_count": 36,
   "outputs": [
    {
     "data": {
      "text/plain": "           磁碟機根目錄      組別      檔案類型 磁碟機     根目錄  \\\n467405  Z:\\資訊書籍文件  166853       .py  Z:  資訊書籍文件   \n467406  Z:\\資訊書籍文件  166853       .py  Z:  資訊書籍文件   \n467407  Z:\\資訊書籍文件  166854       .py  Z:  資訊書籍文件   \n467408  Z:\\資訊書籍文件  166854       .py  Z:  資訊書籍文件   \n467409  Z:\\資訊書籍文件  166855        .R  Z:  資訊書籍文件   \n...           ...     ...       ...  ..     ...   \n468164  Z:\\資訊書籍文件  167210    .props  Z:  資訊書籍文件   \n468165  Z:\\資訊書籍文件  167210    .props  Z:  資訊書籍文件   \n468166  Z:\\資訊書籍文件  167210    .props  Z:  資訊書籍文件   \n468167  Z:\\資訊書籍文件  167211  .strings  Z:  資訊書籍文件   \n468168  Z:\\資訊書籍文件  167211  .strings  Z:  資訊書籍文件   \n\n                                                      子目錄  \\\n467405  Python 進擊的資料科學 Python 與 R 的應用實作\\Python 進擊的資料科學...   \n467406  Python 進擊的資料科學 Python 與 R 的應用實作\\Python 進擊的資料科學...   \n467407  Python 進擊的資料科學 Python 與 R 的應用實作\\Python 進擊的資料科學...   \n467408  Python 進擊的資料科學 Python 與 R 的應用實作\\Python 進擊的資料科學...   \n467409  Python 進擊的資料科學 Python 與 R 的應用實作\\Python 進擊的資料科學...   \n...                                                   ...   \n468164  Visual C# 一次就懂 ASP.NET MVC5.X 網站開發 Web 應用的經典實務...   \n468165  Visual C# 一次就懂 ASP.NET MVC5.X 網站開發 Web 應用的經典實務...   \n468166  Visual C# 一次就懂 ASP.NET MVC5.X 網站開發 Web 應用的經典實務...   \n468167  iOS 13 程式設計實戰 Swift 5.1SwiftUI 框架 快速上手的開發技巧 20...   \n468168  iOS 13 程式設計實戰 Swift 5.1SwiftUI 框架 快速上手的開發技巧 20...   \n\n                                       檔案資料夾  \\\n467405                       dsia_demo_codes   \n467406  Python 進擊的資料科學 Python 與 R 的應用實作_書附範例   \n467407                       dsia_demo_codes   \n467408  Python 進擊的資料科學 Python 與 R 的應用實作_書附範例   \n467409                       dsia_demo_codes   \n...                                      ...   \n468164                                 net46   \n468165                                 net45   \n468166                                 net46   \n468167                         zh-Hant.lproj   \n468168                         zh-Hant.lproj   \n\n                                                     檔案名稱  \\\n467405                                          ch0201.py   \n467406                                          ch0201.py   \n467407                                          ch0202.py   \n467408                                          ch0202.py   \n467409                                           ch0203.R   \n...                                                   ...   \n468164  Microsoft.CodeDom.Providers.DotNetCompilerPlat...   \n468165  Microsoft.CodeDom.Providers.DotNetCompilerPlat...   \n468166  Microsoft.CodeDom.Providers.DotNetCompilerPlat...   \n468167                               LaunchScreen.strings   \n468168                               LaunchScreen.strings   \n\n                                                       路徑    大小  \\\n467405  Z:\\資訊書籍文件\\Python 進擊的資料科學 Python 與 R 的應用實作\\Pyth...   178   \n467406  Z:\\資訊書籍文件\\Python 進擊的資料科學 Python 與 R 的應用實作\\Pyth...   178   \n467407  Z:\\資訊書籍文件\\Python 進擊的資料科學 Python 與 R 的應用實作\\Pyth...   284   \n467408  Z:\\資訊書籍文件\\Python 進擊的資料科學 Python 與 R 的應用實作\\Pyth...   284   \n467409  Z:\\資訊書籍文件\\Python 進擊的資料科學 Python 與 R 的應用實作\\Pyth...   159   \n...                                                   ...   ...   \n468164  Z:\\資訊書籍文件\\Visual C# 一次就懂 ASP.NET MVC5.X 網站開發 W...  5530   \n468165  Z:\\資訊書籍文件\\Visual C# 一次就懂 ASP.NET MVC5.X 網站開發 W...  5530   \n468166  Z:\\資訊書籍文件\\Visual C# 一次就懂 ASP.NET MVC5.X 網站開發 W...  5530   \n468167  Z:\\資訊書籍文件\\iOS 13 程式設計實戰 Swift 5.1SwiftUI 框架 快速...     1   \n468168  Z:\\資訊書籍文件\\iOS 13 程式設計實戰 Swift 5.1SwiftUI 框架 快速...     1   \n\n                         新增日期                   修改日期  \n467405   2020/2/1 上午 12:06:34   2019/7/1 上午 10:45:24  \n467406  2020/3/20 上午 10:11:45   2019/7/1 上午 10:45:24  \n467407   2020/2/1 上午 12:06:34   2019/7/1 上午 10:45:22  \n467408  2020/3/20 上午 10:11:45   2019/7/1 上午 10:45:22  \n467409   2020/2/1 上午 12:06:34   2019/7/1 上午 10:45:24  \n...                       ...                    ...  \n468164   2020/3/7 下午 08:06:24  2018/5/24 上午 05:38:22  \n468165   2020/3/7 下午 08:09:52  2018/5/24 上午 05:38:22  \n468166   2020/3/7 下午 08:09:53  2018/5/24 上午 05:38:22  \n468167  2020/2/10 上午 07:58:08  2019/7/31 上午 07:20:26  \n468168  2020/2/10 上午 07:58:08  2019/7/31 上午 07:20:24  \n\n[764 rows x 12 columns]",
      "text/html": "<div>\n<style scoped>\n    .dataframe tbody tr th:only-of-type {\n        vertical-align: middle;\n    }\n\n    .dataframe tbody tr th {\n        vertical-align: top;\n    }\n\n    .dataframe thead th {\n        text-align: right;\n    }\n</style>\n<table border=\"1\" class=\"dataframe\">\n  <thead>\n    <tr style=\"text-align: right;\">\n      <th></th>\n      <th>磁碟機根目錄</th>\n      <th>組別</th>\n      <th>檔案類型</th>\n      <th>磁碟機</th>\n      <th>根目錄</th>\n      <th>子目錄</th>\n      <th>檔案資料夾</th>\n      <th>檔案名稱</th>\n      <th>路徑</th>\n      <th>大小</th>\n      <th>新增日期</th>\n      <th>修改日期</th>\n    </tr>\n  </thead>\n  <tbody>\n    <tr>\n      <th>467405</th>\n      <td>Z:\\資訊書籍文件</td>\n      <td>166853</td>\n      <td>.py</td>\n      <td>Z:</td>\n      <td>資訊書籍文件</td>\n      <td>Python 進擊的資料科學 Python 與 R 的應用實作\\Python 進擊的資料科學...</td>\n      <td>dsia_demo_codes</td>\n      <td>ch0201.py</td>\n      <td>Z:\\資訊書籍文件\\Python 進擊的資料科學 Python 與 R 的應用實作\\Pyth...</td>\n      <td>178</td>\n      <td>2020/2/1 上午 12:06:34</td>\n      <td>2019/7/1 上午 10:45:24</td>\n    </tr>\n    <tr>\n      <th>467406</th>\n      <td>Z:\\資訊書籍文件</td>\n      <td>166853</td>\n      <td>.py</td>\n      <td>Z:</td>\n      <td>資訊書籍文件</td>\n      <td>Python 進擊的資料科學 Python 與 R 的應用實作\\Python 進擊的資料科學...</td>\n      <td>Python 進擊的資料科學 Python 與 R 的應用實作_書附範例</td>\n      <td>ch0201.py</td>\n      <td>Z:\\資訊書籍文件\\Python 進擊的資料科學 Python 與 R 的應用實作\\Pyth...</td>\n      <td>178</td>\n      <td>2020/3/20 上午 10:11:45</td>\n      <td>2019/7/1 上午 10:45:24</td>\n    </tr>\n    <tr>\n      <th>467407</th>\n      <td>Z:\\資訊書籍文件</td>\n      <td>166854</td>\n      <td>.py</td>\n      <td>Z:</td>\n      <td>資訊書籍文件</td>\n      <td>Python 進擊的資料科學 Python 與 R 的應用實作\\Python 進擊的資料科學...</td>\n      <td>dsia_demo_codes</td>\n      <td>ch0202.py</td>\n      <td>Z:\\資訊書籍文件\\Python 進擊的資料科學 Python 與 R 的應用實作\\Pyth...</td>\n      <td>284</td>\n      <td>2020/2/1 上午 12:06:34</td>\n      <td>2019/7/1 上午 10:45:22</td>\n    </tr>\n    <tr>\n      <th>467408</th>\n      <td>Z:\\資訊書籍文件</td>\n      <td>166854</td>\n      <td>.py</td>\n      <td>Z:</td>\n      <td>資訊書籍文件</td>\n      <td>Python 進擊的資料科學 Python 與 R 的應用實作\\Python 進擊的資料科學...</td>\n      <td>Python 進擊的資料科學 Python 與 R 的應用實作_書附範例</td>\n      <td>ch0202.py</td>\n      <td>Z:\\資訊書籍文件\\Python 進擊的資料科學 Python 與 R 的應用實作\\Pyth...</td>\n      <td>284</td>\n      <td>2020/3/20 上午 10:11:45</td>\n      <td>2019/7/1 上午 10:45:22</td>\n    </tr>\n    <tr>\n      <th>467409</th>\n      <td>Z:\\資訊書籍文件</td>\n      <td>166855</td>\n      <td>.R</td>\n      <td>Z:</td>\n      <td>資訊書籍文件</td>\n      <td>Python 進擊的資料科學 Python 與 R 的應用實作\\Python 進擊的資料科學...</td>\n      <td>dsia_demo_codes</td>\n      <td>ch0203.R</td>\n      <td>Z:\\資訊書籍文件\\Python 進擊的資料科學 Python 與 R 的應用實作\\Pyth...</td>\n      <td>159</td>\n      <td>2020/2/1 上午 12:06:34</td>\n      <td>2019/7/1 上午 10:45:24</td>\n    </tr>\n    <tr>\n      <th>...</th>\n      <td>...</td>\n      <td>...</td>\n      <td>...</td>\n      <td>...</td>\n      <td>...</td>\n      <td>...</td>\n      <td>...</td>\n      <td>...</td>\n      <td>...</td>\n      <td>...</td>\n      <td>...</td>\n      <td>...</td>\n    </tr>\n    <tr>\n      <th>468164</th>\n      <td>Z:\\資訊書籍文件</td>\n      <td>167210</td>\n      <td>.props</td>\n      <td>Z:</td>\n      <td>資訊書籍文件</td>\n      <td>Visual C# 一次就懂 ASP.NET MVC5.X 網站開發 Web 應用的經典實務...</td>\n      <td>net46</td>\n      <td>Microsoft.CodeDom.Providers.DotNetCompilerPlat...</td>\n      <td>Z:\\資訊書籍文件\\Visual C# 一次就懂 ASP.NET MVC5.X 網站開發 W...</td>\n      <td>5530</td>\n      <td>2020/3/7 下午 08:06:24</td>\n      <td>2018/5/24 上午 05:38:22</td>\n    </tr>\n    <tr>\n      <th>468165</th>\n      <td>Z:\\資訊書籍文件</td>\n      <td>167210</td>\n      <td>.props</td>\n      <td>Z:</td>\n      <td>資訊書籍文件</td>\n      <td>Visual C# 一次就懂 ASP.NET MVC5.X 網站開發 Web 應用的經典實務...</td>\n      <td>net45</td>\n      <td>Microsoft.CodeDom.Providers.DotNetCompilerPlat...</td>\n      <td>Z:\\資訊書籍文件\\Visual C# 一次就懂 ASP.NET MVC5.X 網站開發 W...</td>\n      <td>5530</td>\n      <td>2020/3/7 下午 08:09:52</td>\n      <td>2018/5/24 上午 05:38:22</td>\n    </tr>\n    <tr>\n      <th>468166</th>\n      <td>Z:\\資訊書籍文件</td>\n      <td>167210</td>\n      <td>.props</td>\n      <td>Z:</td>\n      <td>資訊書籍文件</td>\n      <td>Visual C# 一次就懂 ASP.NET MVC5.X 網站開發 Web 應用的經典實務...</td>\n      <td>net46</td>\n      <td>Microsoft.CodeDom.Providers.DotNetCompilerPlat...</td>\n      <td>Z:\\資訊書籍文件\\Visual C# 一次就懂 ASP.NET MVC5.X 網站開發 W...</td>\n      <td>5530</td>\n      <td>2020/3/7 下午 08:09:53</td>\n      <td>2018/5/24 上午 05:38:22</td>\n    </tr>\n    <tr>\n      <th>468167</th>\n      <td>Z:\\資訊書籍文件</td>\n      <td>167211</td>\n      <td>.strings</td>\n      <td>Z:</td>\n      <td>資訊書籍文件</td>\n      <td>iOS 13 程式設計實戰 Swift 5.1SwiftUI 框架 快速上手的開發技巧 20...</td>\n      <td>zh-Hant.lproj</td>\n      <td>LaunchScreen.strings</td>\n      <td>Z:\\資訊書籍文件\\iOS 13 程式設計實戰 Swift 5.1SwiftUI 框架 快速...</td>\n      <td>1</td>\n      <td>2020/2/10 上午 07:58:08</td>\n      <td>2019/7/31 上午 07:20:26</td>\n    </tr>\n    <tr>\n      <th>468168</th>\n      <td>Z:\\資訊書籍文件</td>\n      <td>167211</td>\n      <td>.strings</td>\n      <td>Z:</td>\n      <td>資訊書籍文件</td>\n      <td>iOS 13 程式設計實戰 Swift 5.1SwiftUI 框架 快速上手的開發技巧 20...</td>\n      <td>zh-Hant.lproj</td>\n      <td>LaunchScreen.strings</td>\n      <td>Z:\\資訊書籍文件\\iOS 13 程式設計實戰 Swift 5.1SwiftUI 框架 快速...</td>\n      <td>1</td>\n      <td>2020/2/10 上午 07:58:08</td>\n      <td>2019/7/31 上午 07:20:24</td>\n    </tr>\n  </tbody>\n</table>\n<p>764 rows × 12 columns</p>\n</div>"
     },
     "execution_count": 36,
     "metadata": {},
     "output_type": "execute_result"
    }
   ],
   "source": [
    "df.loc[467405:]"
   ],
   "metadata": {
    "collapsed": false,
    "pycharm": {
     "name": "#%%\n"
    }
   }
  },
  {
   "cell_type": "code",
   "execution_count": 8,
   "outputs": [
    {
     "data": {
      "text/plain": "['D:\\\\Clever Programmer']"
     },
     "execution_count": 8,
     "metadata": {},
     "output_type": "execute_result"
    }
   ],
   "source": [
    "root_folder_list = list(df[df['組別'] == eval_group_id]['磁碟機根目錄'].unique())\n",
    "root_folder_list"
   ],
   "metadata": {
    "collapsed": false,
    "pycharm": {
     "name": "#%%\n"
    }
   }
  },
  {
   "cell_type": "code",
   "execution_count": 9,
   "outputs": [
    {
     "data": {
      "text/plain": "array(['D:\\\\Clever Programmer\\\\Ask Qazi\\\\10_Why Being Faster Will Make You More Money(20170731)\\\\',\n       'D:\\\\Clever Programmer\\\\Best Videos\\\\224_Why Being Faster Will Make You More Money(20170731)\\\\',\n       'D:\\\\Clever Programmer\\\\Latest Videos\\\\246_Why Being Faster Will Make You More Money(20170731)\\\\'],\n      dtype=object)"
     },
     "execution_count": 9,
     "metadata": {},
     "output_type": "execute_result"
    }
   ],
   "source": [
    "path_list = df[df['組別'] == eval_group_id]['路徑'].unique()\n",
    "path_list"
   ],
   "metadata": {
    "collapsed": false,
    "pycharm": {
     "name": "#%%\n"
    }
   }
  },
  {
   "cell_type": "code",
   "execution_count": 10,
   "outputs": [
    {
     "data": {
      "text/plain": "                                                    磁碟機根目錄  組別  檔案類型  磁碟機  \\\n路徑                                                                          \nD:\\Clever Programmer\\Ask Qazi\\10_Why Being Fast...       2   2     2    2   \nD:\\Clever Programmer\\Best Videos\\224_Why Being ...       2   2     2    2   \nD:\\Clever Programmer\\Latest Videos\\246_Why Bein...       2   2     2    2   \n\n                                                    根目錄  子目錄  檔案資料夾  檔案名稱  大小  \\\n路徑                                                                              \nD:\\Clever Programmer\\Ask Qazi\\10_Why Being Fast...    2    2      2     2   2   \nD:\\Clever Programmer\\Best Videos\\224_Why Being ...    2    2      2     2   2   \nD:\\Clever Programmer\\Latest Videos\\246_Why Bein...    2    2      2     2   2   \n\n                                                    新增日期  修改日期  \n路徑                                                              \nD:\\Clever Programmer\\Ask Qazi\\10_Why Being Fast...     2     2  \nD:\\Clever Programmer\\Best Videos\\224_Why Being ...     2     2  \nD:\\Clever Programmer\\Latest Videos\\246_Why Bein...     2     2  ",
      "text/html": "<div>\n<style scoped>\n    .dataframe tbody tr th:only-of-type {\n        vertical-align: middle;\n    }\n\n    .dataframe tbody tr th {\n        vertical-align: top;\n    }\n\n    .dataframe thead th {\n        text-align: right;\n    }\n</style>\n<table border=\"1\" class=\"dataframe\">\n  <thead>\n    <tr style=\"text-align: right;\">\n      <th></th>\n      <th>磁碟機根目錄</th>\n      <th>組別</th>\n      <th>檔案類型</th>\n      <th>磁碟機</th>\n      <th>根目錄</th>\n      <th>子目錄</th>\n      <th>檔案資料夾</th>\n      <th>檔案名稱</th>\n      <th>大小</th>\n      <th>新增日期</th>\n      <th>修改日期</th>\n    </tr>\n    <tr>\n      <th>路徑</th>\n      <th></th>\n      <th></th>\n      <th></th>\n      <th></th>\n      <th></th>\n      <th></th>\n      <th></th>\n      <th></th>\n      <th></th>\n      <th></th>\n      <th></th>\n    </tr>\n  </thead>\n  <tbody>\n    <tr>\n      <th>D:\\Clever Programmer\\Ask Qazi\\10_Why Being Faster Will Make You More Money(20170731)\\</th>\n      <td>2</td>\n      <td>2</td>\n      <td>2</td>\n      <td>2</td>\n      <td>2</td>\n      <td>2</td>\n      <td>2</td>\n      <td>2</td>\n      <td>2</td>\n      <td>2</td>\n      <td>2</td>\n    </tr>\n    <tr>\n      <th>D:\\Clever Programmer\\Best Videos\\224_Why Being Faster Will Make You More Money(20170731)\\</th>\n      <td>2</td>\n      <td>2</td>\n      <td>2</td>\n      <td>2</td>\n      <td>2</td>\n      <td>2</td>\n      <td>2</td>\n      <td>2</td>\n      <td>2</td>\n      <td>2</td>\n      <td>2</td>\n    </tr>\n    <tr>\n      <th>D:\\Clever Programmer\\Latest Videos\\246_Why Being Faster Will Make You More Money(20170731)\\</th>\n      <td>2</td>\n      <td>2</td>\n      <td>2</td>\n      <td>2</td>\n      <td>2</td>\n      <td>2</td>\n      <td>2</td>\n      <td>2</td>\n      <td>2</td>\n      <td>2</td>\n      <td>2</td>\n    </tr>\n  </tbody>\n</table>\n</div>"
     },
     "execution_count": 10,
     "metadata": {},
     "output_type": "execute_result"
    }
   ],
   "source": [
    "path_groups = df[df['路徑'].isin(path_list) == True].groupby('路徑')\n",
    "path_groups.count()"
   ],
   "metadata": {
    "collapsed": false,
    "pycharm": {
     "name": "#%%\n"
    }
   }
  },
  {
   "cell_type": "code",
   "execution_count": 11,
   "outputs": [
    {
     "name": "stdout",
     "output_type": "stream",
     "text": [
      "D:\\Clever Programmer\\Ask Qazi\\10_Why Being Faster Will Make You More Money(20170731)\\\n",
      "D:\\Clever Programmer\\Best Videos\\224_Why Being Faster Will Make You More Money(20170731)\\\n",
      "D:\\Clever Programmer\\Latest Videos\\246_Why Being Faster Will Make You More Money(20170731)\\\n"
     ]
    }
   ],
   "source": [
    "for path_name, path_frame in path_groups:\n",
    "    print(path_name)\n",
    "    reshape_frame = pd.concat([reshape_frame, path_frame])"
   ],
   "metadata": {
    "collapsed": false,
    "pycharm": {
     "name": "#%%\n"
    }
   }
  },
  {
   "cell_type": "code",
   "execution_count": 12,
   "outputs": [
    {
     "data": {
      "text/plain": "                    磁碟機根目錄    組別  檔案類型 磁碟機                根目錄  \\\n3852  D:\\Clever Programmer  1270  .mp4  D:  Clever Programmer   \n3855  D:\\Clever Programmer  1271  .txt  D:  Clever Programmer   \n3853  D:\\Clever Programmer  1270  .mp4  D:  Clever Programmer   \n3856  D:\\Clever Programmer  1271  .txt  D:  Clever Programmer   \n3854  D:\\Clever Programmer  1270  .mp4  D:  Clever Programmer   \n3857  D:\\Clever Programmer  1271  .txt  D:  Clever Programmer   \n\n                                                    子目錄  \\\n3852  Ask Qazi\\10_Why Being Faster Will Make You Mor...   \n3855  Ask Qazi\\10_Why Being Faster Will Make You Mor...   \n3853  Best Videos\\224_Why Being Faster Will Make You...   \n3856  Best Videos\\224_Why Being Faster Will Make You...   \n3854  Latest Videos\\246_Why Being Faster Will Make Y...   \n3857  Latest Videos\\246_Why Being Faster Will Make Y...   \n\n                                                  檔案資料夾  \\\n3852  10_Why Being Faster Will Make You More Money(2...   \n3855  10_Why Being Faster Will Make You More Money(2...   \n3853  224_Why Being Faster Will Make You More Money(...   \n3856  224_Why Being Faster Will Make You More Money(...   \n3854  246_Why Being Faster Will Make You More Money(...   \n3857  246_Why Being Faster Will Make You More Money(...   \n\n                                                   檔案名稱  \\\n3852  10_Why Being Faster Will Make You More Money(2...   \n3855  10_Why Being Faster Will Make You More Money(2...   \n3853  224_Why Being Faster Will Make You More Money(...   \n3856  224_Why Being Faster Will Make You More Money(...   \n3854  246_Why Being Faster Will Make You More Money(...   \n3857  246_Why Being Faster Will Make You More Money(...   \n\n                                                     路徑        大小  \\\n3852  D:\\Clever Programmer\\Ask Qazi\\10_Why Being Fas...  74317758   \n3855  D:\\Clever Programmer\\Ask Qazi\\10_Why Being Fas...       890   \n3853  D:\\Clever Programmer\\Best Videos\\224_Why Being...  74317758   \n3856  D:\\Clever Programmer\\Best Videos\\224_Why Being...       890   \n3854  D:\\Clever Programmer\\Latest Videos\\246_Why Bei...  74317758   \n3857  D:\\Clever Programmer\\Latest Videos\\246_Why Bei...       890   \n\n                        新增日期                    修改日期  \n3852  2021/12/22 下午 01:39:00    2017/8/2 下午 03:20:35  \n3855  2021/12/22 下午 01:38:59  2021/12/22 下午 01:38:59  \n3853  2021/12/22 下午 02:49:31    2017/8/2 下午 03:20:35  \n3856  2021/12/22 下午 02:49:21  2021/12/22 下午 02:49:21  \n3854  2021/12/22 下午 01:49:20    2017/8/2 下午 03:20:35  \n3857  2021/12/22 下午 01:49:15  2021/12/22 下午 01:49:15  ",
      "text/html": "<div>\n<style scoped>\n    .dataframe tbody tr th:only-of-type {\n        vertical-align: middle;\n    }\n\n    .dataframe tbody tr th {\n        vertical-align: top;\n    }\n\n    .dataframe thead th {\n        text-align: right;\n    }\n</style>\n<table border=\"1\" class=\"dataframe\">\n  <thead>\n    <tr style=\"text-align: right;\">\n      <th></th>\n      <th>磁碟機根目錄</th>\n      <th>組別</th>\n      <th>檔案類型</th>\n      <th>磁碟機</th>\n      <th>根目錄</th>\n      <th>子目錄</th>\n      <th>檔案資料夾</th>\n      <th>檔案名稱</th>\n      <th>路徑</th>\n      <th>大小</th>\n      <th>新增日期</th>\n      <th>修改日期</th>\n    </tr>\n  </thead>\n  <tbody>\n    <tr>\n      <th>3852</th>\n      <td>D:\\Clever Programmer</td>\n      <td>1270</td>\n      <td>.mp4</td>\n      <td>D:</td>\n      <td>Clever Programmer</td>\n      <td>Ask Qazi\\10_Why Being Faster Will Make You Mor...</td>\n      <td>10_Why Being Faster Will Make You More Money(2...</td>\n      <td>10_Why Being Faster Will Make You More Money(2...</td>\n      <td>D:\\Clever Programmer\\Ask Qazi\\10_Why Being Fas...</td>\n      <td>74317758</td>\n      <td>2021/12/22 下午 01:39:00</td>\n      <td>2017/8/2 下午 03:20:35</td>\n    </tr>\n    <tr>\n      <th>3855</th>\n      <td>D:\\Clever Programmer</td>\n      <td>1271</td>\n      <td>.txt</td>\n      <td>D:</td>\n      <td>Clever Programmer</td>\n      <td>Ask Qazi\\10_Why Being Faster Will Make You Mor...</td>\n      <td>10_Why Being Faster Will Make You More Money(2...</td>\n      <td>10_Why Being Faster Will Make You More Money(2...</td>\n      <td>D:\\Clever Programmer\\Ask Qazi\\10_Why Being Fas...</td>\n      <td>890</td>\n      <td>2021/12/22 下午 01:38:59</td>\n      <td>2021/12/22 下午 01:38:59</td>\n    </tr>\n    <tr>\n      <th>3853</th>\n      <td>D:\\Clever Programmer</td>\n      <td>1270</td>\n      <td>.mp4</td>\n      <td>D:</td>\n      <td>Clever Programmer</td>\n      <td>Best Videos\\224_Why Being Faster Will Make You...</td>\n      <td>224_Why Being Faster Will Make You More Money(...</td>\n      <td>224_Why Being Faster Will Make You More Money(...</td>\n      <td>D:\\Clever Programmer\\Best Videos\\224_Why Being...</td>\n      <td>74317758</td>\n      <td>2021/12/22 下午 02:49:31</td>\n      <td>2017/8/2 下午 03:20:35</td>\n    </tr>\n    <tr>\n      <th>3856</th>\n      <td>D:\\Clever Programmer</td>\n      <td>1271</td>\n      <td>.txt</td>\n      <td>D:</td>\n      <td>Clever Programmer</td>\n      <td>Best Videos\\224_Why Being Faster Will Make You...</td>\n      <td>224_Why Being Faster Will Make You More Money(...</td>\n      <td>224_Why Being Faster Will Make You More Money(...</td>\n      <td>D:\\Clever Programmer\\Best Videos\\224_Why Being...</td>\n      <td>890</td>\n      <td>2021/12/22 下午 02:49:21</td>\n      <td>2021/12/22 下午 02:49:21</td>\n    </tr>\n    <tr>\n      <th>3854</th>\n      <td>D:\\Clever Programmer</td>\n      <td>1270</td>\n      <td>.mp4</td>\n      <td>D:</td>\n      <td>Clever Programmer</td>\n      <td>Latest Videos\\246_Why Being Faster Will Make Y...</td>\n      <td>246_Why Being Faster Will Make You More Money(...</td>\n      <td>246_Why Being Faster Will Make You More Money(...</td>\n      <td>D:\\Clever Programmer\\Latest Videos\\246_Why Bei...</td>\n      <td>74317758</td>\n      <td>2021/12/22 下午 01:49:20</td>\n      <td>2017/8/2 下午 03:20:35</td>\n    </tr>\n    <tr>\n      <th>3857</th>\n      <td>D:\\Clever Programmer</td>\n      <td>1271</td>\n      <td>.txt</td>\n      <td>D:</td>\n      <td>Clever Programmer</td>\n      <td>Latest Videos\\246_Why Being Faster Will Make Y...</td>\n      <td>246_Why Being Faster Will Make You More Money(...</td>\n      <td>246_Why Being Faster Will Make You More Money(...</td>\n      <td>D:\\Clever Programmer\\Latest Videos\\246_Why Bei...</td>\n      <td>890</td>\n      <td>2021/12/22 下午 01:49:15</td>\n      <td>2021/12/22 下午 01:49:15</td>\n    </tr>\n  </tbody>\n</table>\n</div>"
     },
     "execution_count": 12,
     "metadata": {},
     "output_type": "execute_result"
    }
   ],
   "source": [
    "reshape_frame.sort_values(['路徑', '組別'], inplace=True) # .to_csv('reshape_frame.csv', encoding='utf-8-sig')\n",
    "reshape_frame"
   ],
   "metadata": {
    "collapsed": false,
    "pycharm": {
     "name": "#%%\n"
    }
   }
  },
  {
   "cell_type": "code",
   "execution_count": 13,
   "outputs": [],
   "source": [
    "group_numbers = reshape_frame['組別'].unique()"
   ],
   "metadata": {
    "collapsed": false,
    "pycharm": {
     "name": "#%%\n"
    }
   }
  },
  {
   "cell_type": "code",
   "execution_count": 14,
   "outputs": [
    {
     "data": {
      "text/plain": "                    磁碟機根目錄    組別  檔案類型 磁碟機                根目錄  \\\n3852  D:\\Clever Programmer  1270  .mp4  D:  Clever Programmer   \n3853  D:\\Clever Programmer  1270  .mp4  D:  Clever Programmer   \n3854  D:\\Clever Programmer  1270  .mp4  D:  Clever Programmer   \n3855  D:\\Clever Programmer  1271  .txt  D:  Clever Programmer   \n3856  D:\\Clever Programmer  1271  .txt  D:  Clever Programmer   \n3857  D:\\Clever Programmer  1271  .txt  D:  Clever Programmer   \n\n                                                    子目錄  \\\n3852  Ask Qazi\\10_Why Being Faster Will Make You Mor...   \n3853  Best Videos\\224_Why Being Faster Will Make You...   \n3854  Latest Videos\\246_Why Being Faster Will Make Y...   \n3855  Ask Qazi\\10_Why Being Faster Will Make You Mor...   \n3856  Best Videos\\224_Why Being Faster Will Make You...   \n3857  Latest Videos\\246_Why Being Faster Will Make Y...   \n\n                                                  檔案資料夾  \\\n3852  10_Why Being Faster Will Make You More Money(2...   \n3853  224_Why Being Faster Will Make You More Money(...   \n3854  246_Why Being Faster Will Make You More Money(...   \n3855  10_Why Being Faster Will Make You More Money(2...   \n3856  224_Why Being Faster Will Make You More Money(...   \n3857  246_Why Being Faster Will Make You More Money(...   \n\n                                                   檔案名稱  \\\n3852  10_Why Being Faster Will Make You More Money(2...   \n3853  224_Why Being Faster Will Make You More Money(...   \n3854  246_Why Being Faster Will Make You More Money(...   \n3855  10_Why Being Faster Will Make You More Money(2...   \n3856  224_Why Being Faster Will Make You More Money(...   \n3857  246_Why Being Faster Will Make You More Money(...   \n\n                                                     路徑        大小  \\\n3852  D:\\Clever Programmer\\Ask Qazi\\10_Why Being Fas...  74317758   \n3853  D:\\Clever Programmer\\Best Videos\\224_Why Being...  74317758   \n3854  D:\\Clever Programmer\\Latest Videos\\246_Why Bei...  74317758   \n3855  D:\\Clever Programmer\\Ask Qazi\\10_Why Being Fas...       890   \n3856  D:\\Clever Programmer\\Best Videos\\224_Why Being...       890   \n3857  D:\\Clever Programmer\\Latest Videos\\246_Why Bei...       890   \n\n                        新增日期                    修改日期  \n3852  2021/12/22 下午 01:39:00    2017/8/2 下午 03:20:35  \n3853  2021/12/22 下午 02:49:31    2017/8/2 下午 03:20:35  \n3854  2021/12/22 下午 01:49:20    2017/8/2 下午 03:20:35  \n3855  2021/12/22 下午 01:38:59  2021/12/22 下午 01:38:59  \n3856  2021/12/22 下午 02:49:21  2021/12/22 下午 02:49:21  \n3857  2021/12/22 下午 01:49:15  2021/12/22 下午 01:49:15  ",
      "text/html": "<div>\n<style scoped>\n    .dataframe tbody tr th:only-of-type {\n        vertical-align: middle;\n    }\n\n    .dataframe tbody tr th {\n        vertical-align: top;\n    }\n\n    .dataframe thead th {\n        text-align: right;\n    }\n</style>\n<table border=\"1\" class=\"dataframe\">\n  <thead>\n    <tr style=\"text-align: right;\">\n      <th></th>\n      <th>磁碟機根目錄</th>\n      <th>組別</th>\n      <th>檔案類型</th>\n      <th>磁碟機</th>\n      <th>根目錄</th>\n      <th>子目錄</th>\n      <th>檔案資料夾</th>\n      <th>檔案名稱</th>\n      <th>路徑</th>\n      <th>大小</th>\n      <th>新增日期</th>\n      <th>修改日期</th>\n    </tr>\n  </thead>\n  <tbody>\n    <tr>\n      <th>3852</th>\n      <td>D:\\Clever Programmer</td>\n      <td>1270</td>\n      <td>.mp4</td>\n      <td>D:</td>\n      <td>Clever Programmer</td>\n      <td>Ask Qazi\\10_Why Being Faster Will Make You Mor...</td>\n      <td>10_Why Being Faster Will Make You More Money(2...</td>\n      <td>10_Why Being Faster Will Make You More Money(2...</td>\n      <td>D:\\Clever Programmer\\Ask Qazi\\10_Why Being Fas...</td>\n      <td>74317758</td>\n      <td>2021/12/22 下午 01:39:00</td>\n      <td>2017/8/2 下午 03:20:35</td>\n    </tr>\n    <tr>\n      <th>3853</th>\n      <td>D:\\Clever Programmer</td>\n      <td>1270</td>\n      <td>.mp4</td>\n      <td>D:</td>\n      <td>Clever Programmer</td>\n      <td>Best Videos\\224_Why Being Faster Will Make You...</td>\n      <td>224_Why Being Faster Will Make You More Money(...</td>\n      <td>224_Why Being Faster Will Make You More Money(...</td>\n      <td>D:\\Clever Programmer\\Best Videos\\224_Why Being...</td>\n      <td>74317758</td>\n      <td>2021/12/22 下午 02:49:31</td>\n      <td>2017/8/2 下午 03:20:35</td>\n    </tr>\n    <tr>\n      <th>3854</th>\n      <td>D:\\Clever Programmer</td>\n      <td>1270</td>\n      <td>.mp4</td>\n      <td>D:</td>\n      <td>Clever Programmer</td>\n      <td>Latest Videos\\246_Why Being Faster Will Make Y...</td>\n      <td>246_Why Being Faster Will Make You More Money(...</td>\n      <td>246_Why Being Faster Will Make You More Money(...</td>\n      <td>D:\\Clever Programmer\\Latest Videos\\246_Why Bei...</td>\n      <td>74317758</td>\n      <td>2021/12/22 下午 01:49:20</td>\n      <td>2017/8/2 下午 03:20:35</td>\n    </tr>\n    <tr>\n      <th>3855</th>\n      <td>D:\\Clever Programmer</td>\n      <td>1271</td>\n      <td>.txt</td>\n      <td>D:</td>\n      <td>Clever Programmer</td>\n      <td>Ask Qazi\\10_Why Being Faster Will Make You Mor...</td>\n      <td>10_Why Being Faster Will Make You More Money(2...</td>\n      <td>10_Why Being Faster Will Make You More Money(2...</td>\n      <td>D:\\Clever Programmer\\Ask Qazi\\10_Why Being Fas...</td>\n      <td>890</td>\n      <td>2021/12/22 下午 01:38:59</td>\n      <td>2021/12/22 下午 01:38:59</td>\n    </tr>\n    <tr>\n      <th>3856</th>\n      <td>D:\\Clever Programmer</td>\n      <td>1271</td>\n      <td>.txt</td>\n      <td>D:</td>\n      <td>Clever Programmer</td>\n      <td>Best Videos\\224_Why Being Faster Will Make You...</td>\n      <td>224_Why Being Faster Will Make You More Money(...</td>\n      <td>224_Why Being Faster Will Make You More Money(...</td>\n      <td>D:\\Clever Programmer\\Best Videos\\224_Why Being...</td>\n      <td>890</td>\n      <td>2021/12/22 下午 02:49:21</td>\n      <td>2021/12/22 下午 02:49:21</td>\n    </tr>\n    <tr>\n      <th>3857</th>\n      <td>D:\\Clever Programmer</td>\n      <td>1271</td>\n      <td>.txt</td>\n      <td>D:</td>\n      <td>Clever Programmer</td>\n      <td>Latest Videos\\246_Why Being Faster Will Make Y...</td>\n      <td>246_Why Being Faster Will Make You More Money(...</td>\n      <td>246_Why Being Faster Will Make You More Money(...</td>\n      <td>D:\\Clever Programmer\\Latest Videos\\246_Why Bei...</td>\n      <td>890</td>\n      <td>2021/12/22 下午 01:49:15</td>\n      <td>2021/12/22 下午 01:49:15</td>\n    </tr>\n  </tbody>\n</table>\n</div>"
     },
     "execution_count": 14,
     "metadata": {},
     "output_type": "execute_result"
    }
   ],
   "source": [
    "df[df['組別'].isin(group_numbers) == True].sort_values(['組別','根目錄'])"
   ],
   "metadata": {
    "collapsed": false,
    "pycharm": {
     "name": "#%%\n"
    }
   }
  },
  {
   "cell_type": "code",
   "execution_count": 15,
   "outputs": [
    {
     "data": {
      "text/plain": "Int64Index([3852, 3853, 3854, 3855, 3856, 3857], dtype='int64')"
     },
     "execution_count": 15,
     "metadata": {},
     "output_type": "execute_result"
    }
   ],
   "source": [
    "drop_indexes = df[df['組別'].isin(group_numbers) == True].index\n",
    "drop_indexes"
   ],
   "metadata": {
    "collapsed": false,
    "pycharm": {
     "name": "#%%\n"
    }
   }
  },
  {
   "cell_type": "code",
   "execution_count": 16,
   "outputs": [
    {
     "data": {
      "text/plain": "                                  磁碟機根目錄      組別      檔案類型 磁碟機  \\\n0       Z:\\8分鐘搞懂理財知識_新手教室 Youtube 投資影片教學       1      .mp4  Z:   \n1                     Z:\\8分鐘搞懂理財知識_重新整理過       1      .mp4  Z:   \n2                      Z:\\Youtube 投資影片教學       1      .mp4  Z:   \n3                           D:\\8分鐘搞懂理財知識       1      .mp4  D:   \n4                           D:\\8分鐘搞懂理財知識       1      .mp4  D:   \n...                                  ...     ...       ...  ..   \n468164                         Z:\\資訊書籍文件  167210    .props  Z:   \n468165                         Z:\\資訊書籍文件  167210    .props  Z:   \n468166                         Z:\\資訊書籍文件  167210    .props  Z:   \n468167                         Z:\\資訊書籍文件  167211  .strings  Z:   \n468168                         Z:\\資訊書籍文件  167211  .strings  Z:   \n\n                                  根目錄  \\\n0       8分鐘搞懂理財知識_新手教室 Youtube 投資影片教學   \n1                     8分鐘搞懂理財知識_重新整理過   \n2                      Youtube 投資影片教學   \n3                           8分鐘搞懂理財知識   \n4                           8分鐘搞懂理財知識   \n...                               ...   \n468164                         資訊書籍文件   \n468165                         資訊書籍文件   \n468166                         資訊書籍文件   \n468167                         資訊書籍文件   \n468168                         資訊書籍文件   \n\n                                                      子目錄  \\\n0                                                     NaN   \n1                                                     NaN   \n2                                                     NaN   \n3                     _8分鐘搞懂理財知識_原來的 新手教室 Youtube 投資影片教學\\   \n4                              _8分鐘搞懂理財知識_整理的 Youtube 影片\\   \n...                                                   ...   \n468164  Visual C# 一次就懂 ASP.NET MVC5.X 網站開發 Web 應用的經典實務...   \n468165  Visual C# 一次就懂 ASP.NET MVC5.X 網站開發 Web 應用的經典實務...   \n468166  Visual C# 一次就懂 ASP.NET MVC5.X 網站開發 Web 應用的經典實務...   \n468167  iOS 13 程式設計實戰 Swift 5.1SwiftUI 框架 快速上手的開發技巧 20...   \n468168  iOS 13 程式設計實戰 Swift 5.1SwiftUI 框架 快速上手的開發技巧 20...   \n\n                                     檔案資料夾  \\\n0            8分鐘搞懂理財知識_新手教室 Youtube 投資影片教學   \n1                          8分鐘搞懂理財知識_重新整理過   \n2                           Youtube 投資影片教學   \n3       _8分鐘搞懂理財知識_原來的 新手教室 Youtube 投資影片教學   \n4                _8分鐘搞懂理財知識_整理的 Youtube 影片   \n...                                    ...   \n468164                               net46   \n468165                               net45   \n468166                               net46   \n468167                       zh-Hant.lproj   \n468168                       zh-Hant.lproj   \n\n                                                     檔案名稱  \\\n0                      8分鐘搞懂技術分析：RSI的重要價值-WUwaMVSCDYY.mp4   \n1                  2015-08-25_2152_技術分析教學_快速搞懂RSI技術指標.mp4   \n2                      8分鐘搞懂技術分析：RSI的重要價值-WUwaMVSCDYY.mp4   \n3                      8分鐘搞懂技術分析：RSI的重要價值-WUwaMVSCDYY.mp4   \n4                  2015-08-25_2152_技術分析教學_快速搞懂RSI技術指標.mp4   \n...                                                   ...   \n468164  Microsoft.CodeDom.Providers.DotNetCompilerPlat...   \n468165  Microsoft.CodeDom.Providers.DotNetCompilerPlat...   \n468166  Microsoft.CodeDom.Providers.DotNetCompilerPlat...   \n468167                               LaunchScreen.strings   \n468168                               LaunchScreen.strings   \n\n                                                       路徑        大小  \\\n0                       Z:\\8分鐘搞懂理財知識_新手教室 Youtube 投資影片教學\\  25612876   \n1                                     Z:\\8分鐘搞懂理財知識_重新整理過\\  25612876   \n2                                      Z:\\Youtube 投資影片教學\\  25612876   \n3        D:\\8分鐘搞懂理財知識\\_8分鐘搞懂理財知識_原來的 新手教室 Youtube 投資影片教學\\  25612876   \n4                 D:\\8分鐘搞懂理財知識\\_8分鐘搞懂理財知識_整理的 Youtube 影片\\  25612876   \n...                                                   ...       ...   \n468164  Z:\\資訊書籍文件\\Visual C# 一次就懂 ASP.NET MVC5.X 網站開發 W...      5530   \n468165  Z:\\資訊書籍文件\\Visual C# 一次就懂 ASP.NET MVC5.X 網站開發 W...      5530   \n468166  Z:\\資訊書籍文件\\Visual C# 一次就懂 ASP.NET MVC5.X 網站開發 W...      5530   \n468167  Z:\\資訊書籍文件\\iOS 13 程式設計實戰 Swift 5.1SwiftUI 框架 快速...         1   \n468168  Z:\\資訊書籍文件\\iOS 13 程式設計實戰 Swift 5.1SwiftUI 框架 快速...         1   \n\n                         新增日期                    修改日期  \n0       2021/5/10 下午 05:08:28  2018/11/14 下午 02:12:09  \n1       2021/5/11 上午 03:06:53   2021/5/11 上午 02:58:44  \n2       2021/5/10 下午 04:04:52  2018/11/14 下午 02:12:09  \n3       2021/8/18 上午 02:37:16  2018/11/14 下午 02:12:09  \n4       2021/8/18 上午 02:38:06   2021/5/11 上午 02:58:44  \n...                       ...                     ...  \n468164   2020/3/7 下午 08:06:24   2018/5/24 上午 05:38:22  \n468165   2020/3/7 下午 08:09:52   2018/5/24 上午 05:38:22  \n468166   2020/3/7 下午 08:09:53   2018/5/24 上午 05:38:22  \n468167  2020/2/10 上午 07:58:08   2019/7/31 上午 07:20:26  \n468168  2020/2/10 上午 07:58:08   2019/7/31 上午 07:20:24  \n\n[468163 rows x 12 columns]",
      "text/html": "<div>\n<style scoped>\n    .dataframe tbody tr th:only-of-type {\n        vertical-align: middle;\n    }\n\n    .dataframe tbody tr th {\n        vertical-align: top;\n    }\n\n    .dataframe thead th {\n        text-align: right;\n    }\n</style>\n<table border=\"1\" class=\"dataframe\">\n  <thead>\n    <tr style=\"text-align: right;\">\n      <th></th>\n      <th>磁碟機根目錄</th>\n      <th>組別</th>\n      <th>檔案類型</th>\n      <th>磁碟機</th>\n      <th>根目錄</th>\n      <th>子目錄</th>\n      <th>檔案資料夾</th>\n      <th>檔案名稱</th>\n      <th>路徑</th>\n      <th>大小</th>\n      <th>新增日期</th>\n      <th>修改日期</th>\n    </tr>\n  </thead>\n  <tbody>\n    <tr>\n      <th>0</th>\n      <td>Z:\\8分鐘搞懂理財知識_新手教室 Youtube 投資影片教學</td>\n      <td>1</td>\n      <td>.mp4</td>\n      <td>Z:</td>\n      <td>8分鐘搞懂理財知識_新手教室 Youtube 投資影片教學</td>\n      <td>NaN</td>\n      <td>8分鐘搞懂理財知識_新手教室 Youtube 投資影片教學</td>\n      <td>8分鐘搞懂技術分析：RSI的重要價值-WUwaMVSCDYY.mp4</td>\n      <td>Z:\\8分鐘搞懂理財知識_新手教室 Youtube 投資影片教學\\</td>\n      <td>25612876</td>\n      <td>2021/5/10 下午 05:08:28</td>\n      <td>2018/11/14 下午 02:12:09</td>\n    </tr>\n    <tr>\n      <th>1</th>\n      <td>Z:\\8分鐘搞懂理財知識_重新整理過</td>\n      <td>1</td>\n      <td>.mp4</td>\n      <td>Z:</td>\n      <td>8分鐘搞懂理財知識_重新整理過</td>\n      <td>NaN</td>\n      <td>8分鐘搞懂理財知識_重新整理過</td>\n      <td>2015-08-25_2152_技術分析教學_快速搞懂RSI技術指標.mp4</td>\n      <td>Z:\\8分鐘搞懂理財知識_重新整理過\\</td>\n      <td>25612876</td>\n      <td>2021/5/11 上午 03:06:53</td>\n      <td>2021/5/11 上午 02:58:44</td>\n    </tr>\n    <tr>\n      <th>2</th>\n      <td>Z:\\Youtube 投資影片教學</td>\n      <td>1</td>\n      <td>.mp4</td>\n      <td>Z:</td>\n      <td>Youtube 投資影片教學</td>\n      <td>NaN</td>\n      <td>Youtube 投資影片教學</td>\n      <td>8分鐘搞懂技術分析：RSI的重要價值-WUwaMVSCDYY.mp4</td>\n      <td>Z:\\Youtube 投資影片教學\\</td>\n      <td>25612876</td>\n      <td>2021/5/10 下午 04:04:52</td>\n      <td>2018/11/14 下午 02:12:09</td>\n    </tr>\n    <tr>\n      <th>3</th>\n      <td>D:\\8分鐘搞懂理財知識</td>\n      <td>1</td>\n      <td>.mp4</td>\n      <td>D:</td>\n      <td>8分鐘搞懂理財知識</td>\n      <td>_8分鐘搞懂理財知識_原來的 新手教室 Youtube 投資影片教學\\</td>\n      <td>_8分鐘搞懂理財知識_原來的 新手教室 Youtube 投資影片教學</td>\n      <td>8分鐘搞懂技術分析：RSI的重要價值-WUwaMVSCDYY.mp4</td>\n      <td>D:\\8分鐘搞懂理財知識\\_8分鐘搞懂理財知識_原來的 新手教室 Youtube 投資影片教學\\</td>\n      <td>25612876</td>\n      <td>2021/8/18 上午 02:37:16</td>\n      <td>2018/11/14 下午 02:12:09</td>\n    </tr>\n    <tr>\n      <th>4</th>\n      <td>D:\\8分鐘搞懂理財知識</td>\n      <td>1</td>\n      <td>.mp4</td>\n      <td>D:</td>\n      <td>8分鐘搞懂理財知識</td>\n      <td>_8分鐘搞懂理財知識_整理的 Youtube 影片\\</td>\n      <td>_8分鐘搞懂理財知識_整理的 Youtube 影片</td>\n      <td>2015-08-25_2152_技術分析教學_快速搞懂RSI技術指標.mp4</td>\n      <td>D:\\8分鐘搞懂理財知識\\_8分鐘搞懂理財知識_整理的 Youtube 影片\\</td>\n      <td>25612876</td>\n      <td>2021/8/18 上午 02:38:06</td>\n      <td>2021/5/11 上午 02:58:44</td>\n    </tr>\n    <tr>\n      <th>...</th>\n      <td>...</td>\n      <td>...</td>\n      <td>...</td>\n      <td>...</td>\n      <td>...</td>\n      <td>...</td>\n      <td>...</td>\n      <td>...</td>\n      <td>...</td>\n      <td>...</td>\n      <td>...</td>\n      <td>...</td>\n    </tr>\n    <tr>\n      <th>468164</th>\n      <td>Z:\\資訊書籍文件</td>\n      <td>167210</td>\n      <td>.props</td>\n      <td>Z:</td>\n      <td>資訊書籍文件</td>\n      <td>Visual C# 一次就懂 ASP.NET MVC5.X 網站開發 Web 應用的經典實務...</td>\n      <td>net46</td>\n      <td>Microsoft.CodeDom.Providers.DotNetCompilerPlat...</td>\n      <td>Z:\\資訊書籍文件\\Visual C# 一次就懂 ASP.NET MVC5.X 網站開發 W...</td>\n      <td>5530</td>\n      <td>2020/3/7 下午 08:06:24</td>\n      <td>2018/5/24 上午 05:38:22</td>\n    </tr>\n    <tr>\n      <th>468165</th>\n      <td>Z:\\資訊書籍文件</td>\n      <td>167210</td>\n      <td>.props</td>\n      <td>Z:</td>\n      <td>資訊書籍文件</td>\n      <td>Visual C# 一次就懂 ASP.NET MVC5.X 網站開發 Web 應用的經典實務...</td>\n      <td>net45</td>\n      <td>Microsoft.CodeDom.Providers.DotNetCompilerPlat...</td>\n      <td>Z:\\資訊書籍文件\\Visual C# 一次就懂 ASP.NET MVC5.X 網站開發 W...</td>\n      <td>5530</td>\n      <td>2020/3/7 下午 08:09:52</td>\n      <td>2018/5/24 上午 05:38:22</td>\n    </tr>\n    <tr>\n      <th>468166</th>\n      <td>Z:\\資訊書籍文件</td>\n      <td>167210</td>\n      <td>.props</td>\n      <td>Z:</td>\n      <td>資訊書籍文件</td>\n      <td>Visual C# 一次就懂 ASP.NET MVC5.X 網站開發 Web 應用的經典實務...</td>\n      <td>net46</td>\n      <td>Microsoft.CodeDom.Providers.DotNetCompilerPlat...</td>\n      <td>Z:\\資訊書籍文件\\Visual C# 一次就懂 ASP.NET MVC5.X 網站開發 W...</td>\n      <td>5530</td>\n      <td>2020/3/7 下午 08:09:53</td>\n      <td>2018/5/24 上午 05:38:22</td>\n    </tr>\n    <tr>\n      <th>468167</th>\n      <td>Z:\\資訊書籍文件</td>\n      <td>167211</td>\n      <td>.strings</td>\n      <td>Z:</td>\n      <td>資訊書籍文件</td>\n      <td>iOS 13 程式設計實戰 Swift 5.1SwiftUI 框架 快速上手的開發技巧 20...</td>\n      <td>zh-Hant.lproj</td>\n      <td>LaunchScreen.strings</td>\n      <td>Z:\\資訊書籍文件\\iOS 13 程式設計實戰 Swift 5.1SwiftUI 框架 快速...</td>\n      <td>1</td>\n      <td>2020/2/10 上午 07:58:08</td>\n      <td>2019/7/31 上午 07:20:26</td>\n    </tr>\n    <tr>\n      <th>468168</th>\n      <td>Z:\\資訊書籍文件</td>\n      <td>167211</td>\n      <td>.strings</td>\n      <td>Z:</td>\n      <td>資訊書籍文件</td>\n      <td>iOS 13 程式設計實戰 Swift 5.1SwiftUI 框架 快速上手的開發技巧 20...</td>\n      <td>zh-Hant.lproj</td>\n      <td>LaunchScreen.strings</td>\n      <td>Z:\\資訊書籍文件\\iOS 13 程式設計實戰 Swift 5.1SwiftUI 框架 快速...</td>\n      <td>1</td>\n      <td>2020/2/10 上午 07:58:08</td>\n      <td>2019/7/31 上午 07:20:24</td>\n    </tr>\n  </tbody>\n</table>\n<p>468163 rows × 12 columns</p>\n</div>"
     },
     "execution_count": 16,
     "metadata": {},
     "output_type": "execute_result"
    }
   ],
   "source": [
    "df.drop(drop_indexes, inplace=True)\n",
    "df"
   ],
   "metadata": {
    "collapsed": false,
    "pycharm": {
     "name": "#%%\n"
    }
   }
  },
  {
   "cell_type": "code",
   "execution_count": 17,
   "outputs": [],
   "source": [
    "pre_group_id = eval_group_id\n",
    "pre_path_list = path_list\n",
    "eval_group_id = df['組別'].loc[3858]"
   ],
   "metadata": {
    "collapsed": false,
    "pycharm": {
     "name": "#%%\n"
    }
   }
  },
  {
   "cell_type": "code",
   "execution_count": 18,
   "outputs": [
    {
     "data": {
      "text/plain": "1272"
     },
     "execution_count": 18,
     "metadata": {},
     "output_type": "execute_result"
    }
   ],
   "source": [
    "eval_group_id"
   ],
   "metadata": {
    "collapsed": false,
    "pycharm": {
     "name": "#%%\n"
    }
   }
  },
  {
   "cell_type": "code",
   "execution_count": 19,
   "outputs": [
    {
     "data": {
      "text/plain": "                    磁碟機根目錄    組別  檔案類型 磁碟機                根目錄  \\\n3858  D:\\Clever Programmer  1272  .mp4  D:  Clever Programmer   \n3859  D:\\Clever Programmer  1272  .mp4  D:  Clever Programmer   \n\n                                                    子目錄  \\\n3858  Ask Qazi\\11_Successful People vs Lazy People O...   \n3859  Latest Videos\\245_Successful People vs Lazy Pe...   \n\n                                                  檔案資料夾  \\\n3858  11_Successful People vs Lazy People Overcome P...   \n3859  245_Successful People vs Lazy People Overcome ...   \n\n                                                   檔案名稱  \\\n3858  11_Successful People vs Lazy People Overcome P...   \n3859  245_Successful People vs Lazy People Overcome ...   \n\n                                                     路徑        大小  \\\n3858  D:\\Clever Programmer\\Ask Qazi\\11_Successful Pe...  95071478   \n3859  D:\\Clever Programmer\\Latest Videos\\245_Success...  95071478   \n\n                        新增日期                  修改日期  \n3858  2021/12/22 下午 01:39:01  2017/8/8 下午 08:19:23  \n3859  2021/12/22 下午 01:49:15  2017/8/8 下午 08:19:23  ",
      "text/html": "<div>\n<style scoped>\n    .dataframe tbody tr th:only-of-type {\n        vertical-align: middle;\n    }\n\n    .dataframe tbody tr th {\n        vertical-align: top;\n    }\n\n    .dataframe thead th {\n        text-align: right;\n    }\n</style>\n<table border=\"1\" class=\"dataframe\">\n  <thead>\n    <tr style=\"text-align: right;\">\n      <th></th>\n      <th>磁碟機根目錄</th>\n      <th>組別</th>\n      <th>檔案類型</th>\n      <th>磁碟機</th>\n      <th>根目錄</th>\n      <th>子目錄</th>\n      <th>檔案資料夾</th>\n      <th>檔案名稱</th>\n      <th>路徑</th>\n      <th>大小</th>\n      <th>新增日期</th>\n      <th>修改日期</th>\n    </tr>\n  </thead>\n  <tbody>\n    <tr>\n      <th>3858</th>\n      <td>D:\\Clever Programmer</td>\n      <td>1272</td>\n      <td>.mp4</td>\n      <td>D:</td>\n      <td>Clever Programmer</td>\n      <td>Ask Qazi\\11_Successful People vs Lazy People O...</td>\n      <td>11_Successful People vs Lazy People Overcome P...</td>\n      <td>11_Successful People vs Lazy People Overcome P...</td>\n      <td>D:\\Clever Programmer\\Ask Qazi\\11_Successful Pe...</td>\n      <td>95071478</td>\n      <td>2021/12/22 下午 01:39:01</td>\n      <td>2017/8/8 下午 08:19:23</td>\n    </tr>\n    <tr>\n      <th>3859</th>\n      <td>D:\\Clever Programmer</td>\n      <td>1272</td>\n      <td>.mp4</td>\n      <td>D:</td>\n      <td>Clever Programmer</td>\n      <td>Latest Videos\\245_Successful People vs Lazy Pe...</td>\n      <td>245_Successful People vs Lazy People Overcome ...</td>\n      <td>245_Successful People vs Lazy People Overcome ...</td>\n      <td>D:\\Clever Programmer\\Latest Videos\\245_Success...</td>\n      <td>95071478</td>\n      <td>2021/12/22 下午 01:49:15</td>\n      <td>2017/8/8 下午 08:19:23</td>\n    </tr>\n  </tbody>\n</table>\n</div>"
     },
     "execution_count": 19,
     "metadata": {},
     "output_type": "execute_result"
    }
   ],
   "source": [
    "df[df['組別'] == eval_group_id]"
   ],
   "metadata": {
    "collapsed": false,
    "pycharm": {
     "name": "#%%\n"
    }
   }
  },
  {
   "cell_type": "code",
   "execution_count": 27,
   "outputs": [
    {
     "data": {
      "text/plain": "True"
     },
     "execution_count": 27,
     "metadata": {},
     "output_type": "execute_result"
    }
   ],
   "source": [
    "if (df[df['組別'] == eval_group_id]['磁碟機根目錄'].isin(root_folder_list) == True).any():"
   ],
   "metadata": {
    "collapsed": false,
    "pycharm": {
     "name": "#%%\n"
    }
   }
  },
  {
   "cell_type": "code",
   "execution_count": 24,
   "outputs": [
    {
     "data": {
      "text/plain": "array(['D:\\\\Clever Programmer\\\\Ask Qazi\\\\10_Why Being Faster Will Make You More Money(20170731)\\\\',\n       'D:\\\\Clever Programmer\\\\Best Videos\\\\224_Why Being Faster Will Make You More Money(20170731)\\\\',\n       'D:\\\\Clever Programmer\\\\Latest Videos\\\\246_Why Being Faster Will Make You More Money(20170731)\\\\'],\n      dtype=object)"
     },
     "execution_count": 24,
     "metadata": {},
     "output_type": "execute_result"
    }
   ],
   "source": [
    "\n",
    "path_list"
   ],
   "metadata": {
    "collapsed": false,
    "pycharm": {
     "name": "#%%\n"
    }
   }
  },
  {
   "cell_type": "code",
   "execution_count": null,
   "outputs": [],
   "source": [],
   "metadata": {
    "collapsed": false,
    "pycharm": {
     "name": "#%%\n"
    }
   }
  }
 ],
 "metadata": {
  "kernelspec": {
   "display_name": "Python 3",
   "language": "python",
   "name": "python3"
  },
  "language_info": {
   "codemirror_mode": {
    "name": "ipython",
    "version": 3
   },
   "file_extension": ".py",
   "mimetype": "text/x-python",
   "name": "python",
   "nbconvert_exporter": "python",
   "pygments_lexer": "ipython3",
   "version": "3.7.9"
  }
 },
 "nbformat": 4,
 "nbformat_minor": 0
}