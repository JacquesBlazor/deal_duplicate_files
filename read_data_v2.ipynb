{
 "cells": [
  {
   "cell_type": "code",
   "execution_count": 10,
   "metadata": {
    "collapsed": true
   },
   "outputs": [],
   "source": [
    "from tkinter import *\n",
    "from tkinter.ttk import *\n",
    "import pandas as pd\n",
    "import numpy as np\n",
    "import os"
   ]
  },
  {
   "cell_type": "code",
   "execution_count": 30,
   "outputs": [],
   "source": [
    "folder_tree = {}\n",
    "tree_path = {}\n",
    "path_file_name = {}\n",
    "folders = {}\n",
    "counts = {}"
   ],
   "metadata": {
    "collapsed": false,
    "pycharm": {
     "name": "#%%\n"
    }
   }
  },
  {
   "cell_type": "code",
   "execution_count": 31,
   "outputs": [],
   "source": [
    "# === 顯示選擇的檔案 ===\n",
    "def is_unique(column):\n",
    "    value = column.to_numpy()\n",
    "    return (value[0] == value).all()"
   ],
   "metadata": {
    "collapsed": false,
    "pycharm": {
     "name": "#%%\n"
    }
   }
  },
  {
   "cell_type": "code",
   "execution_count": 32,
   "outputs": [],
   "source": [
    "# === 顯示選擇的檔案 ===\n",
    "def clear_widget():\n",
    "    for child in dataframe_tree.get_children():\n",
    "        dataframe_tree.delete(child)\n",
    "    for child in details_paned_frame.winfo_children():\n",
    "        child.destroy()\n",
    "    for child in dataframe_paned_frame.winfo_children():\n",
    "        child.destroy()"
   ],
   "metadata": {
    "collapsed": false,
    "pycharm": {
     "name": "#%%\n"
    }
   }
  },
  {
   "cell_type": "code",
   "execution_count": 58,
   "outputs": [],
   "source": [
    "eval_dataframes = pd.DataFrame()\n",
    "all_frames = {}\n",
    "for name, frame in eval_groupby:\n",
    "    all_frames[name] = frame"
   ],
   "metadata": {
    "collapsed": false,
    "pycharm": {
     "name": "#%%\n"
    }
   }
  },
  {
   "cell_type": "code",
   "execution_count": 63,
   "outputs": [],
   "source": [
    "names = [name for name in all_frames.keys()]"
   ],
   "metadata": {
    "collapsed": false,
    "pycharm": {
     "name": "#%%\n"
    }
   }
  },
  {
   "cell_type": "code",
   "execution_count": 92,
   "outputs": [
    {
     "data": {
      "text/plain": "True"
     },
     "execution_count": 92,
     "metadata": {},
     "output_type": "execute_result"
    }
   ],
   "source": [
    "(all_frames[names[0]][['組別', '檔案類型', '檔案資料夾', '檔案名稱', '大小', '修改日期']].reset_index(drop=True) == all_frames[names[1]][['組別', '檔案類型', '檔案資料夾', '檔案名稱', '大小', '修改日期']].reset_index(drop=True)).any(axis=None)"
   ],
   "metadata": {
    "collapsed": false,
    "pycharm": {
     "name": "#%%\n"
    }
   }
  },
  {
   "cell_type": "code",
   "execution_count": null,
   "outputs": [],
   "source": [
    "(all_frames[names[0]]['檔案類型'].to_numpy() == all_frames[names[1]]['檔案類型'].to_numpy()).all()"
   ],
   "metadata": {
    "collapsed": false,
    "pycharm": {
     "name": "#%%\n"
    }
   }
  },
  {
   "cell_type": "code",
   "execution_count": null,
   "outputs": [],
   "source": [
    "(all_frames[names[0]]['大小'].to_numpy() == all_frames[names[1]]['大小'].to_numpy()).all()"
   ],
   "metadata": {
    "collapsed": false,
    "pycharm": {
     "name": "#%%\n"
    }
   }
  },
  {
   "cell_type": "code",
   "execution_count": null,
   "outputs": [],
   "source": [
    "(all_frames[names[0]]['修改日期'].to_numpy() == all_frames[names[1]]['修改日期'].to_numpy()).all()"
   ],
   "metadata": {
    "collapsed": false,
    "pycharm": {
     "name": "#%%\n"
    }
   }
  },
  {
   "cell_type": "code",
   "execution_count": null,
   "outputs": [],
   "source": [
    "(all_frames[names[0]]['新增日期'].to_numpy() == all_frames[names[1]]['新增日期'].to_numpy()).all()"
   ],
   "metadata": {
    "collapsed": false,
    "pycharm": {
     "name": "#%%\n"
    }
   }
  },
  {
   "cell_type": "code",
   "execution_count": null,
   "outputs": [],
   "source": [
    "(all_frames[names[0]]['檔案資料夾'].to_numpy() == all_frames[names[1]]['檔案資料夾'].to_numpy()).all()"
   ],
   "metadata": {
    "collapsed": false,
    "pycharm": {
     "name": "#%%\n"
    }
   }
  },
  {
   "cell_type": "code",
   "execution_count": null,
   "outputs": [],
   "source": [
    "(all_frames[names[0]]['組別'].to_numpy() == all_frames[names[1]]['組別'].to_numpy()).all()"
   ],
   "metadata": {
    "collapsed": false,
    "pycharm": {
     "name": "#%%\n"
    }
   }
  },
  {
   "cell_type": "code",
   "execution_count": null,
   "outputs": [],
   "source": [
    "all_frames[names[1]]"
   ],
   "metadata": {
    "collapsed": false,
    "pycharm": {
     "name": "#%%\n"
    }
   }
  },
  {
   "cell_type": "code",
   "execution_count": null,
   "outputs": [],
   "source": [
    "all_frames[names[0]]"
   ],
   "metadata": {
    "collapsed": false,
    "pycharm": {
     "name": "#%%\n"
    }
   }
  },
  {
   "cell_type": "code",
   "execution_count": null,
   "outputs": [],
   "source": [
    "eval_groupby.count()"
   ],
   "metadata": {
    "collapsed": false,
    "pycharm": {
     "name": "#%%\n"
    }
   }
  },
  {
   "cell_type": "code",
   "execution_count": 56,
   "outputs": [],
   "source": [
    "eval_groupby = eval_frame.groupby('路徑')"
   ],
   "metadata": {
    "collapsed": false,
    "pycharm": {
     "name": "#%%\n"
    }
   }
  },
  {
   "cell_type": "code",
   "execution_count": 53,
   "outputs": [],
   "source": [
    "eval_frame = folders[folder_names[5]].sort_values(['路徑', '檔案名稱']).set_index('路徑')"
   ],
   "metadata": {
    "collapsed": false,
    "pycharm": {
     "name": "#%%\n"
    }
   }
  },
  {
   "cell_type": "code",
   "execution_count": 45,
   "outputs": [
    {
     "data": {
      "text/plain": "                           磁碟機根目錄    組別  檔案類型 磁碟機                        根目錄  \\\n596  D:\\Linux の繪本 快速上手 Linux 的九堂課  2760  .rar  D:  Linux の繪本 快速上手 Linux 的九堂課   \n597                     Z:\\新增書籍文件  2760  .rar  Z:                     新增書籍文件   \n\n                                 子目錄                      檔案資料夾  \\\n596                              NaN  Linux の繪本 快速上手 Linux 的九堂課   \n597  資訊書籍\\Linux の繪本 快速上手 Linux 的九堂課\\  Linux の繪本 快速上手 Linux 的九堂課   \n\n                                  檔案名稱  \\\n596  Linux の繪本 快速上手 Linux 的九堂課_書掃描.rar   \n597  Linux の繪本 快速上手 Linux 的九堂課_書掃描.rar   \n\n                                            路徑        大小  \\\n596              D:\\Linux の繪本 快速上手 Linux 的九堂課\\  80977766   \n597  Z:\\新增書籍文件\\資訊書籍\\Linux の繪本 快速上手 Linux 的九堂課\\  80977766   \n\n                      新增日期                   修改日期  \n596  2021/9/16 下午 06:20:10  2021/9/16 下午 06:20:13  \n597  2021/9/16 下午 06:21:10  2021/9/16 下午 06:20:13  ",
      "text/html": "<div>\n<style scoped>\n    .dataframe tbody tr th:only-of-type {\n        vertical-align: middle;\n    }\n\n    .dataframe tbody tr th {\n        vertical-align: top;\n    }\n\n    .dataframe thead th {\n        text-align: right;\n    }\n</style>\n<table border=\"1\" class=\"dataframe\">\n  <thead>\n    <tr style=\"text-align: right;\">\n      <th></th>\n      <th>磁碟機根目錄</th>\n      <th>組別</th>\n      <th>檔案類型</th>\n      <th>磁碟機</th>\n      <th>根目錄</th>\n      <th>子目錄</th>\n      <th>檔案資料夾</th>\n      <th>檔案名稱</th>\n      <th>路徑</th>\n      <th>大小</th>\n      <th>新增日期</th>\n      <th>修改日期</th>\n    </tr>\n  </thead>\n  <tbody>\n    <tr>\n      <th>596</th>\n      <td>D:\\Linux の繪本 快速上手 Linux 的九堂課</td>\n      <td>2760</td>\n      <td>.rar</td>\n      <td>D:</td>\n      <td>Linux の繪本 快速上手 Linux 的九堂課</td>\n      <td>NaN</td>\n      <td>Linux の繪本 快速上手 Linux 的九堂課</td>\n      <td>Linux の繪本 快速上手 Linux 的九堂課_書掃描.rar</td>\n      <td>D:\\Linux の繪本 快速上手 Linux 的九堂課\\</td>\n      <td>80977766</td>\n      <td>2021/9/16 下午 06:20:10</td>\n      <td>2021/9/16 下午 06:20:13</td>\n    </tr>\n    <tr>\n      <th>597</th>\n      <td>Z:\\新增書籍文件</td>\n      <td>2760</td>\n      <td>.rar</td>\n      <td>Z:</td>\n      <td>新增書籍文件</td>\n      <td>資訊書籍\\Linux の繪本 快速上手 Linux 的九堂課\\</td>\n      <td>Linux の繪本 快速上手 Linux 的九堂課</td>\n      <td>Linux の繪本 快速上手 Linux 的九堂課_書掃描.rar</td>\n      <td>Z:\\新增書籍文件\\資訊書籍\\Linux の繪本 快速上手 Linux 的九堂課\\</td>\n      <td>80977766</td>\n      <td>2021/9/16 下午 06:21:10</td>\n      <td>2021/9/16 下午 06:20:13</td>\n    </tr>\n  </tbody>\n</table>\n</div>"
     },
     "execution_count": 45,
     "metadata": {},
     "output_type": "execute_result"
    }
   ],
   "source": [
    "folders[folder_names[4]]"
   ],
   "metadata": {
    "collapsed": false,
    "pycharm": {
     "name": "#%%\n"
    }
   }
  },
  {
   "cell_type": "code",
   "execution_count": 44,
   "outputs": [
    {
     "data": {
      "text/plain": "                                         磁碟機根目錄    組別  檔案類型 磁碟機  \\\n580  D:\\Kubernetes IT 進階修煉  Kubernetes 容器雲全方位應用  2752  .iso  D:   \n581                                   Z:\\新增書籍文件  2752  .iso  Z:   \n\n                                         根目錄  \\\n580  Kubernetes IT 進階修煉  Kubernetes 容器雲全方位應用   \n581                                   新增書籍文件   \n\n                                               子目錄  \\\n580                                            NaN   \n581  資訊書籍\\Kubernetes IT 進階修煉  Kubernetes 容器雲全方位應用\\   \n\n                                       檔案資料夾  \\\n580  Kubernetes IT 進階修煉  Kubernetes 容器雲全方位應用   \n581  Kubernetes IT 進階修煉  Kubernetes 容器雲全方位應用   \n\n                                     檔案名稱  \\\n580  IT 進階修煉  Kubernetes 容器雲全方位應用_書目錄.iso   \n581  IT 進階修煉  Kubernetes 容器雲全方位應用_書目錄.iso   \n\n                                                    路徑       大小  \\\n580        D:\\Kubernetes IT 進階修煉  Kubernetes 容器雲全方位應用\\  6776832   \n581  Z:\\新增書籍文件\\資訊書籍\\Kubernetes IT 進階修煉  Kubernetes ...  6776832   \n\n                       新增日期                    修改日期  \n580   2021/8/18 上午 02:35:35  2020/12/13 下午 03:31:18  \n581  2020/12/13 下午 03:33:02  2020/12/13 下午 03:31:18  ",
      "text/html": "<div>\n<style scoped>\n    .dataframe tbody tr th:only-of-type {\n        vertical-align: middle;\n    }\n\n    .dataframe tbody tr th {\n        vertical-align: top;\n    }\n\n    .dataframe thead th {\n        text-align: right;\n    }\n</style>\n<table border=\"1\" class=\"dataframe\">\n  <thead>\n    <tr style=\"text-align: right;\">\n      <th></th>\n      <th>磁碟機根目錄</th>\n      <th>組別</th>\n      <th>檔案類型</th>\n      <th>磁碟機</th>\n      <th>根目錄</th>\n      <th>子目錄</th>\n      <th>檔案資料夾</th>\n      <th>檔案名稱</th>\n      <th>路徑</th>\n      <th>大小</th>\n      <th>新增日期</th>\n      <th>修改日期</th>\n    </tr>\n  </thead>\n  <tbody>\n    <tr>\n      <th>580</th>\n      <td>D:\\Kubernetes IT 進階修煉  Kubernetes 容器雲全方位應用</td>\n      <td>2752</td>\n      <td>.iso</td>\n      <td>D:</td>\n      <td>Kubernetes IT 進階修煉  Kubernetes 容器雲全方位應用</td>\n      <td>NaN</td>\n      <td>Kubernetes IT 進階修煉  Kubernetes 容器雲全方位應用</td>\n      <td>IT 進階修煉  Kubernetes 容器雲全方位應用_書目錄.iso</td>\n      <td>D:\\Kubernetes IT 進階修煉  Kubernetes 容器雲全方位應用\\</td>\n      <td>6776832</td>\n      <td>2021/8/18 上午 02:35:35</td>\n      <td>2020/12/13 下午 03:31:18</td>\n    </tr>\n    <tr>\n      <th>581</th>\n      <td>Z:\\新增書籍文件</td>\n      <td>2752</td>\n      <td>.iso</td>\n      <td>Z:</td>\n      <td>新增書籍文件</td>\n      <td>資訊書籍\\Kubernetes IT 進階修煉  Kubernetes 容器雲全方位應用\\</td>\n      <td>Kubernetes IT 進階修煉  Kubernetes 容器雲全方位應用</td>\n      <td>IT 進階修煉  Kubernetes 容器雲全方位應用_書目錄.iso</td>\n      <td>Z:\\新增書籍文件\\資訊書籍\\Kubernetes IT 進階修煉  Kubernetes ...</td>\n      <td>6776832</td>\n      <td>2020/12/13 下午 03:33:02</td>\n      <td>2020/12/13 下午 03:31:18</td>\n    </tr>\n  </tbody>\n</table>\n</div>"
     },
     "execution_count": 44,
     "metadata": {},
     "output_type": "execute_result"
    }
   ],
   "source": [
    "folders[folder_names[3]]"
   ],
   "metadata": {
    "collapsed": false,
    "pycharm": {
     "name": "#%%\n"
    }
   }
  },
  {
   "cell_type": "code",
   "execution_count": 42,
   "outputs": [
    {
     "data": {
      "text/plain": "                                         磁碟機根目錄    組別  檔案類型 磁碟機  \\\n582  D:\\Kubernetes IT 進階修煉  Kubernetes 容器雲全方位應用  2753  .jpg  D:   \n583                                   Z:\\新增書籍文件  2753  .jpg  Z:   \n584  D:\\Kubernetes IT 進階修煉  Kubernetes 容器雲全方位應用  2754  .jpg  D:   \n585                                   Z:\\新增書籍文件  2754  .jpg  Z:   \n586  D:\\Kubernetes IT 進階修煉  Kubernetes 容器雲全方位應用  2755  .jpg  D:   \n587                                   Z:\\新增書籍文件  2755  .jpg  Z:   \n588  D:\\Kubernetes IT 進階修煉  Kubernetes 容器雲全方位應用  2756  .jpg  D:   \n589                                   Z:\\新增書籍文件  2756  .jpg  Z:   \n590  D:\\Kubernetes IT 進階修煉  Kubernetes 容器雲全方位應用  2757  .jpg  D:   \n591                                   Z:\\新增書籍文件  2757  .jpg  Z:   \n592  D:\\Kubernetes IT 進階修煉  Kubernetes 容器雲全方位應用  2758  .jpg  D:   \n593                                   Z:\\新增書籍文件  2758  .jpg  Z:   \n594  D:\\Kubernetes IT 進階修煉  Kubernetes 容器雲全方位應用  2759  .jpg  D:   \n595                                   Z:\\新增書籍文件  2759  .jpg  Z:   \n\n                                         根目錄  \\\n582  Kubernetes IT 進階修煉  Kubernetes 容器雲全方位應用   \n583                                   新增書籍文件   \n584  Kubernetes IT 進階修煉  Kubernetes 容器雲全方位應用   \n585                                   新增書籍文件   \n586  Kubernetes IT 進階修煉  Kubernetes 容器雲全方位應用   \n587                                   新增書籍文件   \n588  Kubernetes IT 進階修煉  Kubernetes 容器雲全方位應用   \n589                                   新增書籍文件   \n590  Kubernetes IT 進階修煉  Kubernetes 容器雲全方位應用   \n591                                   新增書籍文件   \n592  Kubernetes IT 進階修煉  Kubernetes 容器雲全方位應用   \n593                                   新增書籍文件   \n594  Kubernetes IT 進階修煉  Kubernetes 容器雲全方位應用   \n595                                   新增書籍文件   \n\n                                                   子目錄  \\\n582                  IT 進階修煉  Kubernetes 容器雲全方位應用_書目錄\\   \n583  資訊書籍\\Kubernetes IT 進階修煉  Kubernetes 容器雲全方位應用\\I...   \n584                  IT 進階修煉  Kubernetes 容器雲全方位應用_書目錄\\   \n585  資訊書籍\\Kubernetes IT 進階修煉  Kubernetes 容器雲全方位應用\\I...   \n586                  IT 進階修煉  Kubernetes 容器雲全方位應用_書目錄\\   \n587  資訊書籍\\Kubernetes IT 進階修煉  Kubernetes 容器雲全方位應用\\I...   \n588                  IT 進階修煉  Kubernetes 容器雲全方位應用_書目錄\\   \n589  資訊書籍\\Kubernetes IT 進階修煉  Kubernetes 容器雲全方位應用\\I...   \n590                  IT 進階修煉  Kubernetes 容器雲全方位應用_書目錄\\   \n591  資訊書籍\\Kubernetes IT 進階修煉  Kubernetes 容器雲全方位應用\\I...   \n592                  IT 進階修煉  Kubernetes 容器雲全方位應用_書目錄\\   \n593  資訊書籍\\Kubernetes IT 進階修煉  Kubernetes 容器雲全方位應用\\I...   \n594                  IT 進階修煉  Kubernetes 容器雲全方位應用_書目錄\\   \n595  資訊書籍\\Kubernetes IT 進階修煉  Kubernetes 容器雲全方位應用\\I...   \n\n                                檔案資料夾          檔案名稱  \\\n582  IT 進階修煉  Kubernetes 容器雲全方位應用_書目錄  usb-0000.jpg   \n583  IT 進階修煉  Kubernetes 容器雲全方位應用_書目錄  usb-0000.jpg   \n584  IT 進階修煉  Kubernetes 容器雲全方位應用_書目錄  usb-0001.jpg   \n585  IT 進階修煉  Kubernetes 容器雲全方位應用_書目錄  usb-0001.jpg   \n586  IT 進階修煉  Kubernetes 容器雲全方位應用_書目錄  usb-0002.jpg   \n587  IT 進階修煉  Kubernetes 容器雲全方位應用_書目錄  usb-0002.jpg   \n588  IT 進階修煉  Kubernetes 容器雲全方位應用_書目錄  usb-0003.jpg   \n589  IT 進階修煉  Kubernetes 容器雲全方位應用_書目錄  usb-0003.jpg   \n590  IT 進階修煉  Kubernetes 容器雲全方位應用_書目錄  usb-0004.jpg   \n591  IT 進階修煉  Kubernetes 容器雲全方位應用_書目錄  usb-0004.jpg   \n592  IT 進階修煉  Kubernetes 容器雲全方位應用_書目錄  usb-0005.jpg   \n593  IT 進階修煉  Kubernetes 容器雲全方位應用_書目錄  usb-0005.jpg   \n594  IT 進階修煉  Kubernetes 容器雲全方位應用_書目錄  usb-0006.jpg   \n595  IT 進階修煉  Kubernetes 容器雲全方位應用_書目錄  usb-0006.jpg   \n\n                                                    路徑       大小  \\\n582  D:\\Kubernetes IT 進階修煉  Kubernetes 容器雲全方位應用\\IT ...   749185   \n583  Z:\\新增書籍文件\\資訊書籍\\Kubernetes IT 進階修煉  Kubernetes ...   749185   \n584  D:\\Kubernetes IT 進階修煉  Kubernetes 容器雲全方位應用\\IT ...  1268095   \n585  Z:\\新增書籍文件\\資訊書籍\\Kubernetes IT 進階修煉  Kubernetes ...  1268095   \n586  D:\\Kubernetes IT 進階修煉  Kubernetes 容器雲全方位應用\\IT ...  1386163   \n587  Z:\\新增書籍文件\\資訊書籍\\Kubernetes IT 進階修煉  Kubernetes ...  1386163   \n588  D:\\Kubernetes IT 進階修煉  Kubernetes 容器雲全方位應用\\IT ...   807683   \n589  Z:\\新增書籍文件\\資訊書籍\\Kubernetes IT 進階修煉  Kubernetes ...   807683   \n590  D:\\Kubernetes IT 進階修煉  Kubernetes 容器雲全方位應用\\IT ...   758627   \n591  Z:\\新增書籍文件\\資訊書籍\\Kubernetes IT 進階修煉  Kubernetes ...   758627   \n592  D:\\Kubernetes IT 進階修煉  Kubernetes 容器雲全方位應用\\IT ...   774223   \n593  Z:\\新增書籍文件\\資訊書籍\\Kubernetes IT 進階修煉  Kubernetes ...   774223   \n594  D:\\Kubernetes IT 進階修煉  Kubernetes 容器雲全方位應用\\IT ...   974811   \n595  Z:\\新增書籍文件\\資訊書籍\\Kubernetes IT 進階修煉  Kubernetes ...   974811   \n\n                       新增日期                    修改日期  \n582   2021/8/18 上午 02:35:35  2020/12/13 下午 03:30:22  \n583  2020/12/13 下午 03:33:03  2020/12/13 下午 03:30:22  \n584   2021/8/18 上午 02:35:36  2020/12/13 下午 03:30:24  \n585  2020/12/13 下午 03:33:04  2020/12/13 下午 03:30:24  \n586   2021/8/18 上午 02:35:36  2020/12/13 下午 03:30:24  \n587  2020/12/13 下午 03:33:04  2020/12/13 下午 03:30:24  \n588   2021/8/18 上午 02:35:36  2020/12/13 下午 03:30:24  \n589  2020/12/13 下午 03:33:04  2020/12/13 下午 03:30:24  \n590   2021/8/18 上午 02:35:36  2020/12/13 下午 03:30:24  \n591  2020/12/13 下午 03:33:04  2020/12/13 下午 03:30:24  \n592   2021/8/18 上午 02:35:36  2020/12/13 下午 03:30:24  \n593  2020/12/13 下午 03:33:04  2020/12/13 下午 03:30:24  \n594   2021/8/18 上午 02:35:36  2020/12/13 下午 03:30:22  \n595  2020/12/13 下午 03:33:04  2020/12/13 下午 03:30:22  ",
      "text/html": "<div>\n<style scoped>\n    .dataframe tbody tr th:only-of-type {\n        vertical-align: middle;\n    }\n\n    .dataframe tbody tr th {\n        vertical-align: top;\n    }\n\n    .dataframe thead th {\n        text-align: right;\n    }\n</style>\n<table border=\"1\" class=\"dataframe\">\n  <thead>\n    <tr style=\"text-align: right;\">\n      <th></th>\n      <th>磁碟機根目錄</th>\n      <th>組別</th>\n      <th>檔案類型</th>\n      <th>磁碟機</th>\n      <th>根目錄</th>\n      <th>子目錄</th>\n      <th>檔案資料夾</th>\n      <th>檔案名稱</th>\n      <th>路徑</th>\n      <th>大小</th>\n      <th>新增日期</th>\n      <th>修改日期</th>\n    </tr>\n  </thead>\n  <tbody>\n    <tr>\n      <th>582</th>\n      <td>D:\\Kubernetes IT 進階修煉  Kubernetes 容器雲全方位應用</td>\n      <td>2753</td>\n      <td>.jpg</td>\n      <td>D:</td>\n      <td>Kubernetes IT 進階修煉  Kubernetes 容器雲全方位應用</td>\n      <td>IT 進階修煉  Kubernetes 容器雲全方位應用_書目錄\\</td>\n      <td>IT 進階修煉  Kubernetes 容器雲全方位應用_書目錄</td>\n      <td>usb-0000.jpg</td>\n      <td>D:\\Kubernetes IT 進階修煉  Kubernetes 容器雲全方位應用\\IT ...</td>\n      <td>749185</td>\n      <td>2021/8/18 上午 02:35:35</td>\n      <td>2020/12/13 下午 03:30:22</td>\n    </tr>\n    <tr>\n      <th>583</th>\n      <td>Z:\\新增書籍文件</td>\n      <td>2753</td>\n      <td>.jpg</td>\n      <td>Z:</td>\n      <td>新增書籍文件</td>\n      <td>資訊書籍\\Kubernetes IT 進階修煉  Kubernetes 容器雲全方位應用\\I...</td>\n      <td>IT 進階修煉  Kubernetes 容器雲全方位應用_書目錄</td>\n      <td>usb-0000.jpg</td>\n      <td>Z:\\新增書籍文件\\資訊書籍\\Kubernetes IT 進階修煉  Kubernetes ...</td>\n      <td>749185</td>\n      <td>2020/12/13 下午 03:33:03</td>\n      <td>2020/12/13 下午 03:30:22</td>\n    </tr>\n    <tr>\n      <th>584</th>\n      <td>D:\\Kubernetes IT 進階修煉  Kubernetes 容器雲全方位應用</td>\n      <td>2754</td>\n      <td>.jpg</td>\n      <td>D:</td>\n      <td>Kubernetes IT 進階修煉  Kubernetes 容器雲全方位應用</td>\n      <td>IT 進階修煉  Kubernetes 容器雲全方位應用_書目錄\\</td>\n      <td>IT 進階修煉  Kubernetes 容器雲全方位應用_書目錄</td>\n      <td>usb-0001.jpg</td>\n      <td>D:\\Kubernetes IT 進階修煉  Kubernetes 容器雲全方位應用\\IT ...</td>\n      <td>1268095</td>\n      <td>2021/8/18 上午 02:35:36</td>\n      <td>2020/12/13 下午 03:30:24</td>\n    </tr>\n    <tr>\n      <th>585</th>\n      <td>Z:\\新增書籍文件</td>\n      <td>2754</td>\n      <td>.jpg</td>\n      <td>Z:</td>\n      <td>新增書籍文件</td>\n      <td>資訊書籍\\Kubernetes IT 進階修煉  Kubernetes 容器雲全方位應用\\I...</td>\n      <td>IT 進階修煉  Kubernetes 容器雲全方位應用_書目錄</td>\n      <td>usb-0001.jpg</td>\n      <td>Z:\\新增書籍文件\\資訊書籍\\Kubernetes IT 進階修煉  Kubernetes ...</td>\n      <td>1268095</td>\n      <td>2020/12/13 下午 03:33:04</td>\n      <td>2020/12/13 下午 03:30:24</td>\n    </tr>\n    <tr>\n      <th>586</th>\n      <td>D:\\Kubernetes IT 進階修煉  Kubernetes 容器雲全方位應用</td>\n      <td>2755</td>\n      <td>.jpg</td>\n      <td>D:</td>\n      <td>Kubernetes IT 進階修煉  Kubernetes 容器雲全方位應用</td>\n      <td>IT 進階修煉  Kubernetes 容器雲全方位應用_書目錄\\</td>\n      <td>IT 進階修煉  Kubernetes 容器雲全方位應用_書目錄</td>\n      <td>usb-0002.jpg</td>\n      <td>D:\\Kubernetes IT 進階修煉  Kubernetes 容器雲全方位應用\\IT ...</td>\n      <td>1386163</td>\n      <td>2021/8/18 上午 02:35:36</td>\n      <td>2020/12/13 下午 03:30:24</td>\n    </tr>\n    <tr>\n      <th>587</th>\n      <td>Z:\\新增書籍文件</td>\n      <td>2755</td>\n      <td>.jpg</td>\n      <td>Z:</td>\n      <td>新增書籍文件</td>\n      <td>資訊書籍\\Kubernetes IT 進階修煉  Kubernetes 容器雲全方位應用\\I...</td>\n      <td>IT 進階修煉  Kubernetes 容器雲全方位應用_書目錄</td>\n      <td>usb-0002.jpg</td>\n      <td>Z:\\新增書籍文件\\資訊書籍\\Kubernetes IT 進階修煉  Kubernetes ...</td>\n      <td>1386163</td>\n      <td>2020/12/13 下午 03:33:04</td>\n      <td>2020/12/13 下午 03:30:24</td>\n    </tr>\n    <tr>\n      <th>588</th>\n      <td>D:\\Kubernetes IT 進階修煉  Kubernetes 容器雲全方位應用</td>\n      <td>2756</td>\n      <td>.jpg</td>\n      <td>D:</td>\n      <td>Kubernetes IT 進階修煉  Kubernetes 容器雲全方位應用</td>\n      <td>IT 進階修煉  Kubernetes 容器雲全方位應用_書目錄\\</td>\n      <td>IT 進階修煉  Kubernetes 容器雲全方位應用_書目錄</td>\n      <td>usb-0003.jpg</td>\n      <td>D:\\Kubernetes IT 進階修煉  Kubernetes 容器雲全方位應用\\IT ...</td>\n      <td>807683</td>\n      <td>2021/8/18 上午 02:35:36</td>\n      <td>2020/12/13 下午 03:30:24</td>\n    </tr>\n    <tr>\n      <th>589</th>\n      <td>Z:\\新增書籍文件</td>\n      <td>2756</td>\n      <td>.jpg</td>\n      <td>Z:</td>\n      <td>新增書籍文件</td>\n      <td>資訊書籍\\Kubernetes IT 進階修煉  Kubernetes 容器雲全方位應用\\I...</td>\n      <td>IT 進階修煉  Kubernetes 容器雲全方位應用_書目錄</td>\n      <td>usb-0003.jpg</td>\n      <td>Z:\\新增書籍文件\\資訊書籍\\Kubernetes IT 進階修煉  Kubernetes ...</td>\n      <td>807683</td>\n      <td>2020/12/13 下午 03:33:04</td>\n      <td>2020/12/13 下午 03:30:24</td>\n    </tr>\n    <tr>\n      <th>590</th>\n      <td>D:\\Kubernetes IT 進階修煉  Kubernetes 容器雲全方位應用</td>\n      <td>2757</td>\n      <td>.jpg</td>\n      <td>D:</td>\n      <td>Kubernetes IT 進階修煉  Kubernetes 容器雲全方位應用</td>\n      <td>IT 進階修煉  Kubernetes 容器雲全方位應用_書目錄\\</td>\n      <td>IT 進階修煉  Kubernetes 容器雲全方位應用_書目錄</td>\n      <td>usb-0004.jpg</td>\n      <td>D:\\Kubernetes IT 進階修煉  Kubernetes 容器雲全方位應用\\IT ...</td>\n      <td>758627</td>\n      <td>2021/8/18 上午 02:35:36</td>\n      <td>2020/12/13 下午 03:30:24</td>\n    </tr>\n    <tr>\n      <th>591</th>\n      <td>Z:\\新增書籍文件</td>\n      <td>2757</td>\n      <td>.jpg</td>\n      <td>Z:</td>\n      <td>新增書籍文件</td>\n      <td>資訊書籍\\Kubernetes IT 進階修煉  Kubernetes 容器雲全方位應用\\I...</td>\n      <td>IT 進階修煉  Kubernetes 容器雲全方位應用_書目錄</td>\n      <td>usb-0004.jpg</td>\n      <td>Z:\\新增書籍文件\\資訊書籍\\Kubernetes IT 進階修煉  Kubernetes ...</td>\n      <td>758627</td>\n      <td>2020/12/13 下午 03:33:04</td>\n      <td>2020/12/13 下午 03:30:24</td>\n    </tr>\n    <tr>\n      <th>592</th>\n      <td>D:\\Kubernetes IT 進階修煉  Kubernetes 容器雲全方位應用</td>\n      <td>2758</td>\n      <td>.jpg</td>\n      <td>D:</td>\n      <td>Kubernetes IT 進階修煉  Kubernetes 容器雲全方位應用</td>\n      <td>IT 進階修煉  Kubernetes 容器雲全方位應用_書目錄\\</td>\n      <td>IT 進階修煉  Kubernetes 容器雲全方位應用_書目錄</td>\n      <td>usb-0005.jpg</td>\n      <td>D:\\Kubernetes IT 進階修煉  Kubernetes 容器雲全方位應用\\IT ...</td>\n      <td>774223</td>\n      <td>2021/8/18 上午 02:35:36</td>\n      <td>2020/12/13 下午 03:30:24</td>\n    </tr>\n    <tr>\n      <th>593</th>\n      <td>Z:\\新增書籍文件</td>\n      <td>2758</td>\n      <td>.jpg</td>\n      <td>Z:</td>\n      <td>新增書籍文件</td>\n      <td>資訊書籍\\Kubernetes IT 進階修煉  Kubernetes 容器雲全方位應用\\I...</td>\n      <td>IT 進階修煉  Kubernetes 容器雲全方位應用_書目錄</td>\n      <td>usb-0005.jpg</td>\n      <td>Z:\\新增書籍文件\\資訊書籍\\Kubernetes IT 進階修煉  Kubernetes ...</td>\n      <td>774223</td>\n      <td>2020/12/13 下午 03:33:04</td>\n      <td>2020/12/13 下午 03:30:24</td>\n    </tr>\n    <tr>\n      <th>594</th>\n      <td>D:\\Kubernetes IT 進階修煉  Kubernetes 容器雲全方位應用</td>\n      <td>2759</td>\n      <td>.jpg</td>\n      <td>D:</td>\n      <td>Kubernetes IT 進階修煉  Kubernetes 容器雲全方位應用</td>\n      <td>IT 進階修煉  Kubernetes 容器雲全方位應用_書目錄\\</td>\n      <td>IT 進階修煉  Kubernetes 容器雲全方位應用_書目錄</td>\n      <td>usb-0006.jpg</td>\n      <td>D:\\Kubernetes IT 進階修煉  Kubernetes 容器雲全方位應用\\IT ...</td>\n      <td>974811</td>\n      <td>2021/8/18 上午 02:35:36</td>\n      <td>2020/12/13 下午 03:30:22</td>\n    </tr>\n    <tr>\n      <th>595</th>\n      <td>Z:\\新增書籍文件</td>\n      <td>2759</td>\n      <td>.jpg</td>\n      <td>Z:</td>\n      <td>新增書籍文件</td>\n      <td>資訊書籍\\Kubernetes IT 進階修煉  Kubernetes 容器雲全方位應用\\I...</td>\n      <td>IT 進階修煉  Kubernetes 容器雲全方位應用_書目錄</td>\n      <td>usb-0006.jpg</td>\n      <td>Z:\\新增書籍文件\\資訊書籍\\Kubernetes IT 進階修煉  Kubernetes ...</td>\n      <td>974811</td>\n      <td>2020/12/13 下午 03:33:04</td>\n      <td>2020/12/13 下午 03:30:22</td>\n    </tr>\n  </tbody>\n</table>\n</div>"
     },
     "execution_count": 42,
     "metadata": {},
     "output_type": "execute_result"
    }
   ],
   "source": [
    "folders[folder_names[2]]"
   ],
   "metadata": {
    "collapsed": false,
    "pycharm": {
     "name": "#%%\n"
    }
   }
  },
  {
   "cell_type": "code",
   "execution_count": 41,
   "outputs": [
    {
     "data": {
      "text/plain": "                       磁碟機根目錄    組別  檔案類型 磁碟機                    根目錄  \\\n4    D:\\Github 創辦人親自指導你精通 Git  2465  .png  D:  Github 創辦人親自指導你精通 Git   \n5                   Z:\\新增書籍文件  2465  .png  Z:                 新增書籍文件   \n6    D:\\Github 創辦人親自指導你精通 Git  2466  .png  D:  Github 創辦人親自指導你精通 Git   \n7                   Z:\\新增書籍文件  2466  .png  Z:                 新增書籍文件   \n8    D:\\Github 創辦人親自指導你精通 Git  2467  .png  D:  Github 創辦人親自指導你精通 Git   \n..                        ...   ...   ...  ..                    ...   \n575                 Z:\\新增書籍文件  2749  .png  Z:                 新增書籍文件   \n576  D:\\Github 創辦人親自指導你精通 Git  2750  .png  D:  Github 創辦人親自指導你精通 Git   \n577                 Z:\\新增書籍文件  2750  .png  Z:                 新增書籍文件   \n578  D:\\Github 創辦人親自指導你精通 Git  2751  .png  D:  Github 創辦人親自指導你精通 Git   \n579                 Z:\\新增書籍文件  2751  .png  Z:                 新增書籍文件   \n\n                                                   子目錄  \\\n4                           Github 創辦人親自指導你精通 Git_書擷圖\\   \n5    資訊書籍\\Github 創辦人親自指導你精通 Git\\Github 創辦人親自指導你精通 G...   \n6                           Github 創辦人親自指導你精通 Git_書擷圖\\   \n7    資訊書籍\\Github 創辦人親自指導你精通 Git\\Github 創辦人親自指導你精通 G...   \n8                           Github 創辦人親自指導你精通 Git_書擷圖\\   \n..                                                 ...   \n575  資訊書籍\\Github 創辦人親自指導你精通 Git\\Github 創辦人親自指導你精通 G...   \n576                         Github 創辦人親自指導你精通 Git_書擷圖\\   \n577  資訊書籍\\Github 創辦人親自指導你精通 Git\\Github 創辦人親自指導你精通 G...   \n578                         Github 創辦人親自指導你精通 Git_書擷圖\\   \n579  資訊書籍\\Github 創辦人親自指導你精通 Git\\Github 創辦人親自指導你精通 G...   \n\n                         檔案資料夾           檔案名稱  \\\n4    Github 創辦人親自指導你精通 Git_書擷圖  image0000.png   \n5    Github 創辦人親自指導你精通 Git_書擷圖  image0000.png   \n6    Github 創辦人親自指導你精通 Git_書擷圖  image0001.png   \n7    Github 創辦人親自指導你精通 Git_書擷圖  image0001.png   \n8    Github 創辦人親自指導你精通 Git_書擷圖  image0002.png   \n..                         ...            ...   \n575  Github 創辦人親自指導你精通 Git_書擷圖  image0287.png   \n576  Github 創辦人親自指導你精通 Git_書擷圖  image0288.png   \n577  Github 創辦人親自指導你精通 Git_書擷圖  image0288.png   \n578  Github 創辦人親自指導你精通 Git_書擷圖  image0289.png   \n579  Github 創辦人親自指導你精通 Git_書擷圖  image0289.png   \n\n                                                    路徑      大小  \\\n4    D:\\Github 創辦人親自指導你精通 Git\\Github 創辦人親自指導你精通 Git...  387584   \n5    Z:\\新增書籍文件\\資訊書籍\\Github 創辦人親自指導你精通 Git\\Github 創辦...  387584   \n6    D:\\Github 創辦人親自指導你精通 Git\\Github 創辦人親自指導你精通 Git...  125646   \n7    Z:\\新增書籍文件\\資訊書籍\\Github 創辦人親自指導你精通 Git\\Github 創辦...  125646   \n8    D:\\Github 創辦人親自指導你精通 Git\\Github 創辦人親自指導你精通 Git...  769854   \n..                                                 ...     ...   \n575  Z:\\新增書籍文件\\資訊書籍\\Github 創辦人親自指導你精通 Git\\Github 創辦...  313492   \n576  D:\\Github 創辦人親自指導你精通 Git\\Github 創辦人親自指導你精通 Git...  178189   \n577  Z:\\新增書籍文件\\資訊書籍\\Github 創辦人親自指導你精通 Git\\Github 創辦...  178189   \n578  D:\\Github 創辦人親自指導你精通 Git\\Github 創辦人親自指導你精通 Git...  369049   \n579  Z:\\新增書籍文件\\資訊書籍\\Github 創辦人親自指導你精通 Git\\Github 創辦...  369049   \n\n                      新增日期                   修改日期  \n4    2021/8/18 上午 02:35:33  2021/6/17 上午 11:45:41  \n5    2021/6/17 上午 11:58:15  2021/6/17 上午 11:45:41  \n6    2021/8/18 上午 02:35:33  2021/6/17 上午 11:45:44  \n7    2021/6/17 上午 11:58:15  2021/6/17 上午 11:45:44  \n8    2021/8/18 上午 02:35:33  2021/6/17 上午 11:45:46  \n..                     ...                    ...  \n575  2021/6/17 上午 11:59:12  2021/6/17 上午 11:54:03  \n576  2021/8/18 上午 02:35:35  2021/6/17 上午 11:54:04  \n577  2021/6/17 上午 11:59:12  2021/6/17 上午 11:54:04  \n578  2021/8/18 上午 02:35:35  2021/6/17 上午 11:54:10  \n579  2021/6/17 上午 11:59:12  2021/6/17 上午 11:54:10  \n\n[576 rows x 12 columns]",
      "text/html": "<div>\n<style scoped>\n    .dataframe tbody tr th:only-of-type {\n        vertical-align: middle;\n    }\n\n    .dataframe tbody tr th {\n        vertical-align: top;\n    }\n\n    .dataframe thead th {\n        text-align: right;\n    }\n</style>\n<table border=\"1\" class=\"dataframe\">\n  <thead>\n    <tr style=\"text-align: right;\">\n      <th></th>\n      <th>磁碟機根目錄</th>\n      <th>組別</th>\n      <th>檔案類型</th>\n      <th>磁碟機</th>\n      <th>根目錄</th>\n      <th>子目錄</th>\n      <th>檔案資料夾</th>\n      <th>檔案名稱</th>\n      <th>路徑</th>\n      <th>大小</th>\n      <th>新增日期</th>\n      <th>修改日期</th>\n    </tr>\n  </thead>\n  <tbody>\n    <tr>\n      <th>4</th>\n      <td>D:\\Github 創辦人親自指導你精通 Git</td>\n      <td>2465</td>\n      <td>.png</td>\n      <td>D:</td>\n      <td>Github 創辦人親自指導你精通 Git</td>\n      <td>Github 創辦人親自指導你精通 Git_書擷圖\\</td>\n      <td>Github 創辦人親自指導你精通 Git_書擷圖</td>\n      <td>image0000.png</td>\n      <td>D:\\Github 創辦人親自指導你精通 Git\\Github 創辦人親自指導你精通 Git...</td>\n      <td>387584</td>\n      <td>2021/8/18 上午 02:35:33</td>\n      <td>2021/6/17 上午 11:45:41</td>\n    </tr>\n    <tr>\n      <th>5</th>\n      <td>Z:\\新增書籍文件</td>\n      <td>2465</td>\n      <td>.png</td>\n      <td>Z:</td>\n      <td>新增書籍文件</td>\n      <td>資訊書籍\\Github 創辦人親自指導你精通 Git\\Github 創辦人親自指導你精通 G...</td>\n      <td>Github 創辦人親自指導你精通 Git_書擷圖</td>\n      <td>image0000.png</td>\n      <td>Z:\\新增書籍文件\\資訊書籍\\Github 創辦人親自指導你精通 Git\\Github 創辦...</td>\n      <td>387584</td>\n      <td>2021/6/17 上午 11:58:15</td>\n      <td>2021/6/17 上午 11:45:41</td>\n    </tr>\n    <tr>\n      <th>6</th>\n      <td>D:\\Github 創辦人親自指導你精通 Git</td>\n      <td>2466</td>\n      <td>.png</td>\n      <td>D:</td>\n      <td>Github 創辦人親自指導你精通 Git</td>\n      <td>Github 創辦人親自指導你精通 Git_書擷圖\\</td>\n      <td>Github 創辦人親自指導你精通 Git_書擷圖</td>\n      <td>image0001.png</td>\n      <td>D:\\Github 創辦人親自指導你精通 Git\\Github 創辦人親自指導你精通 Git...</td>\n      <td>125646</td>\n      <td>2021/8/18 上午 02:35:33</td>\n      <td>2021/6/17 上午 11:45:44</td>\n    </tr>\n    <tr>\n      <th>7</th>\n      <td>Z:\\新增書籍文件</td>\n      <td>2466</td>\n      <td>.png</td>\n      <td>Z:</td>\n      <td>新增書籍文件</td>\n      <td>資訊書籍\\Github 創辦人親自指導你精通 Git\\Github 創辦人親自指導你精通 G...</td>\n      <td>Github 創辦人親自指導你精通 Git_書擷圖</td>\n      <td>image0001.png</td>\n      <td>Z:\\新增書籍文件\\資訊書籍\\Github 創辦人親自指導你精通 Git\\Github 創辦...</td>\n      <td>125646</td>\n      <td>2021/6/17 上午 11:58:15</td>\n      <td>2021/6/17 上午 11:45:44</td>\n    </tr>\n    <tr>\n      <th>8</th>\n      <td>D:\\Github 創辦人親自指導你精通 Git</td>\n      <td>2467</td>\n      <td>.png</td>\n      <td>D:</td>\n      <td>Github 創辦人親自指導你精通 Git</td>\n      <td>Github 創辦人親自指導你精通 Git_書擷圖\\</td>\n      <td>Github 創辦人親自指導你精通 Git_書擷圖</td>\n      <td>image0002.png</td>\n      <td>D:\\Github 創辦人親自指導你精通 Git\\Github 創辦人親自指導你精通 Git...</td>\n      <td>769854</td>\n      <td>2021/8/18 上午 02:35:33</td>\n      <td>2021/6/17 上午 11:45:46</td>\n    </tr>\n    <tr>\n      <th>...</th>\n      <td>...</td>\n      <td>...</td>\n      <td>...</td>\n      <td>...</td>\n      <td>...</td>\n      <td>...</td>\n      <td>...</td>\n      <td>...</td>\n      <td>...</td>\n      <td>...</td>\n      <td>...</td>\n      <td>...</td>\n    </tr>\n    <tr>\n      <th>575</th>\n      <td>Z:\\新增書籍文件</td>\n      <td>2749</td>\n      <td>.png</td>\n      <td>Z:</td>\n      <td>新增書籍文件</td>\n      <td>資訊書籍\\Github 創辦人親自指導你精通 Git\\Github 創辦人親自指導你精通 G...</td>\n      <td>Github 創辦人親自指導你精通 Git_書擷圖</td>\n      <td>image0287.png</td>\n      <td>Z:\\新增書籍文件\\資訊書籍\\Github 創辦人親自指導你精通 Git\\Github 創辦...</td>\n      <td>313492</td>\n      <td>2021/6/17 上午 11:59:12</td>\n      <td>2021/6/17 上午 11:54:03</td>\n    </tr>\n    <tr>\n      <th>576</th>\n      <td>D:\\Github 創辦人親自指導你精通 Git</td>\n      <td>2750</td>\n      <td>.png</td>\n      <td>D:</td>\n      <td>Github 創辦人親自指導你精通 Git</td>\n      <td>Github 創辦人親自指導你精通 Git_書擷圖\\</td>\n      <td>Github 創辦人親自指導你精通 Git_書擷圖</td>\n      <td>image0288.png</td>\n      <td>D:\\Github 創辦人親自指導你精通 Git\\Github 創辦人親自指導你精通 Git...</td>\n      <td>178189</td>\n      <td>2021/8/18 上午 02:35:35</td>\n      <td>2021/6/17 上午 11:54:04</td>\n    </tr>\n    <tr>\n      <th>577</th>\n      <td>Z:\\新增書籍文件</td>\n      <td>2750</td>\n      <td>.png</td>\n      <td>Z:</td>\n      <td>新增書籍文件</td>\n      <td>資訊書籍\\Github 創辦人親自指導你精通 Git\\Github 創辦人親自指導你精通 G...</td>\n      <td>Github 創辦人親自指導你精通 Git_書擷圖</td>\n      <td>image0288.png</td>\n      <td>Z:\\新增書籍文件\\資訊書籍\\Github 創辦人親自指導你精通 Git\\Github 創辦...</td>\n      <td>178189</td>\n      <td>2021/6/17 上午 11:59:12</td>\n      <td>2021/6/17 上午 11:54:04</td>\n    </tr>\n    <tr>\n      <th>578</th>\n      <td>D:\\Github 創辦人親自指導你精通 Git</td>\n      <td>2751</td>\n      <td>.png</td>\n      <td>D:</td>\n      <td>Github 創辦人親自指導你精通 Git</td>\n      <td>Github 創辦人親自指導你精通 Git_書擷圖\\</td>\n      <td>Github 創辦人親自指導你精通 Git_書擷圖</td>\n      <td>image0289.png</td>\n      <td>D:\\Github 創辦人親自指導你精通 Git\\Github 創辦人親自指導你精通 Git...</td>\n      <td>369049</td>\n      <td>2021/8/18 上午 02:35:35</td>\n      <td>2021/6/17 上午 11:54:10</td>\n    </tr>\n    <tr>\n      <th>579</th>\n      <td>Z:\\新增書籍文件</td>\n      <td>2751</td>\n      <td>.png</td>\n      <td>Z:</td>\n      <td>新增書籍文件</td>\n      <td>資訊書籍\\Github 創辦人親自指導你精通 Git\\Github 創辦人親自指導你精通 G...</td>\n      <td>Github 創辦人親自指導你精通 Git_書擷圖</td>\n      <td>image0289.png</td>\n      <td>Z:\\新增書籍文件\\資訊書籍\\Github 創辦人親自指導你精通 Git\\Github 創辦...</td>\n      <td>369049</td>\n      <td>2021/6/17 上午 11:59:12</td>\n      <td>2021/6/17 上午 11:54:10</td>\n    </tr>\n  </tbody>\n</table>\n<p>576 rows × 12 columns</p>\n</div>"
     },
     "execution_count": 41,
     "metadata": {},
     "output_type": "execute_result"
    }
   ],
   "source": [
    "folders[folder_names[1]]"
   ],
   "metadata": {
    "collapsed": false,
    "pycharm": {
     "name": "#%%\n"
    }
   }
  },
  {
   "cell_type": "code",
   "execution_count": 43,
   "outputs": [
    {
     "data": {
      "text/plain": "                     磁碟機根目錄    組別  檔案類型 磁碟機                    根目錄  \\\n0  D:\\Github 創辦人親自指導你精通 Git  2463  .iso  D:  Github 創辦人親自指導你精通 Git   \n1                 Z:\\新增書籍文件  2463  .iso  Z:                 新增書籍文件   \n2  D:\\Github 創辦人親自指導你精通 Git  2464  .rar  D:  Github 創辦人親自指導你精通 Git   \n3                 Z:\\新增書籍文件  2464  .rar  Z:                 新增書籍文件   \n\n                           子目錄                  檔案資料夾  \\\n0                          NaN  Github 創辦人親自指導你精通 Git   \n1  資訊書籍\\Github 創辦人親自指導你精通 Git\\  Github 創辦人親自指導你精通 Git   \n2                          NaN  Github 創辦人親自指導你精通 Git   \n3  資訊書籍\\Github 創辦人親自指導你精通 Git\\  Github 創辦人親自指導你精通 Git   \n\n                            檔案名稱                                     路徑  \\\n0  Github 創辦人親自指導你精通 Git_書擷圖.iso              D:\\Github 創辦人親自指導你精通 Git\\   \n1  Github 創辦人親自指導你精通 Git_書擷圖.iso  Z:\\新增書籍文件\\資訊書籍\\Github 創辦人親自指導你精通 Git\\   \n2  Github 創辦人親自指導你精通 Git_書擷圖.rar              D:\\Github 創辦人親自指導你精通 Git\\   \n3  Github 創辦人親自指導你精通 Git_書擷圖.rar  Z:\\新增書籍文件\\資訊書籍\\Github 創辦人親自指導你精通 Git\\   \n\n          大小                   新增日期                   修改日期  \n0  175841280  2021/8/18 上午 02:35:28  2021/6/17 上午 11:57:02  \n1  175841280  2021/6/17 上午 11:57:44  2021/6/17 上午 11:57:02  \n2  171940877  2021/8/18 上午 02:35:30  2021/6/17 上午 11:57:13  \n3  171940877  2021/6/17 上午 11:58:00  2021/6/17 上午 11:57:13  ",
      "text/html": "<div>\n<style scoped>\n    .dataframe tbody tr th:only-of-type {\n        vertical-align: middle;\n    }\n\n    .dataframe tbody tr th {\n        vertical-align: top;\n    }\n\n    .dataframe thead th {\n        text-align: right;\n    }\n</style>\n<table border=\"1\" class=\"dataframe\">\n  <thead>\n    <tr style=\"text-align: right;\">\n      <th></th>\n      <th>磁碟機根目錄</th>\n      <th>組別</th>\n      <th>檔案類型</th>\n      <th>磁碟機</th>\n      <th>根目錄</th>\n      <th>子目錄</th>\n      <th>檔案資料夾</th>\n      <th>檔案名稱</th>\n      <th>路徑</th>\n      <th>大小</th>\n      <th>新增日期</th>\n      <th>修改日期</th>\n    </tr>\n  </thead>\n  <tbody>\n    <tr>\n      <th>0</th>\n      <td>D:\\Github 創辦人親自指導你精通 Git</td>\n      <td>2463</td>\n      <td>.iso</td>\n      <td>D:</td>\n      <td>Github 創辦人親自指導你精通 Git</td>\n      <td>NaN</td>\n      <td>Github 創辦人親自指導你精通 Git</td>\n      <td>Github 創辦人親自指導你精通 Git_書擷圖.iso</td>\n      <td>D:\\Github 創辦人親自指導你精通 Git\\</td>\n      <td>175841280</td>\n      <td>2021/8/18 上午 02:35:28</td>\n      <td>2021/6/17 上午 11:57:02</td>\n    </tr>\n    <tr>\n      <th>1</th>\n      <td>Z:\\新增書籍文件</td>\n      <td>2463</td>\n      <td>.iso</td>\n      <td>Z:</td>\n      <td>新增書籍文件</td>\n      <td>資訊書籍\\Github 創辦人親自指導你精通 Git\\</td>\n      <td>Github 創辦人親自指導你精通 Git</td>\n      <td>Github 創辦人親自指導你精通 Git_書擷圖.iso</td>\n      <td>Z:\\新增書籍文件\\資訊書籍\\Github 創辦人親自指導你精通 Git\\</td>\n      <td>175841280</td>\n      <td>2021/6/17 上午 11:57:44</td>\n      <td>2021/6/17 上午 11:57:02</td>\n    </tr>\n    <tr>\n      <th>2</th>\n      <td>D:\\Github 創辦人親自指導你精通 Git</td>\n      <td>2464</td>\n      <td>.rar</td>\n      <td>D:</td>\n      <td>Github 創辦人親自指導你精通 Git</td>\n      <td>NaN</td>\n      <td>Github 創辦人親自指導你精通 Git</td>\n      <td>Github 創辦人親自指導你精通 Git_書擷圖.rar</td>\n      <td>D:\\Github 創辦人親自指導你精通 Git\\</td>\n      <td>171940877</td>\n      <td>2021/8/18 上午 02:35:30</td>\n      <td>2021/6/17 上午 11:57:13</td>\n    </tr>\n    <tr>\n      <th>3</th>\n      <td>Z:\\新增書籍文件</td>\n      <td>2464</td>\n      <td>.rar</td>\n      <td>Z:</td>\n      <td>新增書籍文件</td>\n      <td>資訊書籍\\Github 創辦人親自指導你精通 Git\\</td>\n      <td>Github 創辦人親自指導你精通 Git</td>\n      <td>Github 創辦人親自指導你精通 Git_書擷圖.rar</td>\n      <td>Z:\\新增書籍文件\\資訊書籍\\Github 創辦人親自指導你精通 Git\\</td>\n      <td>171940877</td>\n      <td>2021/6/17 上午 11:58:00</td>\n      <td>2021/6/17 上午 11:57:13</td>\n    </tr>\n  </tbody>\n</table>\n</div>"
     },
     "execution_count": 43,
     "metadata": {},
     "output_type": "execute_result"
    }
   ],
   "source": [
    "folders[folder_names[0]]"
   ],
   "metadata": {
    "collapsed": false,
    "pycharm": {
     "name": "#%%\n"
    }
   }
  },
  {
   "cell_type": "code",
   "execution_count": 40,
   "outputs": [
    {
     "data": {
      "text/plain": "                     磁碟機根目錄    組別  檔案類型 磁碟機                    根目錄  \\\n0  D:\\Github 創辦人親自指導你精通 Git  2463  .iso  D:  Github 創辦人親自指導你精通 Git   \n1                 Z:\\新增書籍文件  2463  .iso  Z:                 新增書籍文件   \n2  D:\\Github 創辦人親自指導你精通 Git  2464  .rar  D:  Github 創辦人親自指導你精通 Git   \n3                 Z:\\新增書籍文件  2464  .rar  Z:                 新增書籍文件   \n\n                           子目錄                  檔案資料夾  \\\n0                          NaN  Github 創辦人親自指導你精通 Git   \n1  資訊書籍\\Github 創辦人親自指導你精通 Git\\  Github 創辦人親自指導你精通 Git   \n2                          NaN  Github 創辦人親自指導你精通 Git   \n3  資訊書籍\\Github 創辦人親自指導你精通 Git\\  Github 創辦人親自指導你精通 Git   \n\n                            檔案名稱                                     路徑  \\\n0  Github 創辦人親自指導你精通 Git_書擷圖.iso              D:\\Github 創辦人親自指導你精通 Git\\   \n1  Github 創辦人親自指導你精通 Git_書擷圖.iso  Z:\\新增書籍文件\\資訊書籍\\Github 創辦人親自指導你精通 Git\\   \n2  Github 創辦人親自指導你精通 Git_書擷圖.rar              D:\\Github 創辦人親自指導你精通 Git\\   \n3  Github 創辦人親自指導你精通 Git_書擷圖.rar  Z:\\新增書籍文件\\資訊書籍\\Github 創辦人親自指導你精通 Git\\   \n\n          大小                   新增日期                   修改日期  \n0  175841280  2021/8/18 上午 02:35:28  2021/6/17 上午 11:57:02  \n1  175841280  2021/6/17 上午 11:57:44  2021/6/17 上午 11:57:02  \n2  171940877  2021/8/18 上午 02:35:30  2021/6/17 上午 11:57:13  \n3  171940877  2021/6/17 上午 11:58:00  2021/6/17 上午 11:57:13  ",
      "text/html": "<div>\n<style scoped>\n    .dataframe tbody tr th:only-of-type {\n        vertical-align: middle;\n    }\n\n    .dataframe tbody tr th {\n        vertical-align: top;\n    }\n\n    .dataframe thead th {\n        text-align: right;\n    }\n</style>\n<table border=\"1\" class=\"dataframe\">\n  <thead>\n    <tr style=\"text-align: right;\">\n      <th></th>\n      <th>磁碟機根目錄</th>\n      <th>組別</th>\n      <th>檔案類型</th>\n      <th>磁碟機</th>\n      <th>根目錄</th>\n      <th>子目錄</th>\n      <th>檔案資料夾</th>\n      <th>檔案名稱</th>\n      <th>路徑</th>\n      <th>大小</th>\n      <th>新增日期</th>\n      <th>修改日期</th>\n    </tr>\n  </thead>\n  <tbody>\n    <tr>\n      <th>0</th>\n      <td>D:\\Github 創辦人親自指導你精通 Git</td>\n      <td>2463</td>\n      <td>.iso</td>\n      <td>D:</td>\n      <td>Github 創辦人親自指導你精通 Git</td>\n      <td>NaN</td>\n      <td>Github 創辦人親自指導你精通 Git</td>\n      <td>Github 創辦人親自指導你精通 Git_書擷圖.iso</td>\n      <td>D:\\Github 創辦人親自指導你精通 Git\\</td>\n      <td>175841280</td>\n      <td>2021/8/18 上午 02:35:28</td>\n      <td>2021/6/17 上午 11:57:02</td>\n    </tr>\n    <tr>\n      <th>1</th>\n      <td>Z:\\新增書籍文件</td>\n      <td>2463</td>\n      <td>.iso</td>\n      <td>Z:</td>\n      <td>新增書籍文件</td>\n      <td>資訊書籍\\Github 創辦人親自指導你精通 Git\\</td>\n      <td>Github 創辦人親自指導你精通 Git</td>\n      <td>Github 創辦人親自指導你精通 Git_書擷圖.iso</td>\n      <td>Z:\\新增書籍文件\\資訊書籍\\Github 創辦人親自指導你精通 Git\\</td>\n      <td>175841280</td>\n      <td>2021/6/17 上午 11:57:44</td>\n      <td>2021/6/17 上午 11:57:02</td>\n    </tr>\n    <tr>\n      <th>2</th>\n      <td>D:\\Github 創辦人親自指導你精通 Git</td>\n      <td>2464</td>\n      <td>.rar</td>\n      <td>D:</td>\n      <td>Github 創辦人親自指導你精通 Git</td>\n      <td>NaN</td>\n      <td>Github 創辦人親自指導你精通 Git</td>\n      <td>Github 創辦人親自指導你精通 Git_書擷圖.rar</td>\n      <td>D:\\Github 創辦人親自指導你精通 Git\\</td>\n      <td>171940877</td>\n      <td>2021/8/18 上午 02:35:30</td>\n      <td>2021/6/17 上午 11:57:13</td>\n    </tr>\n    <tr>\n      <th>3</th>\n      <td>Z:\\新增書籍文件</td>\n      <td>2464</td>\n      <td>.rar</td>\n      <td>Z:</td>\n      <td>新增書籍文件</td>\n      <td>資訊書籍\\Github 創辦人親自指導你精通 Git\\</td>\n      <td>Github 創辦人親自指導你精通 Git</td>\n      <td>Github 創辦人親自指導你精通 Git_書擷圖.rar</td>\n      <td>Z:\\新增書籍文件\\資訊書籍\\Github 創辦人親自指導你精通 Git\\</td>\n      <td>171940877</td>\n      <td>2021/6/17 上午 11:58:00</td>\n      <td>2021/6/17 上午 11:57:13</td>\n    </tr>\n  </tbody>\n</table>\n</div>"
     },
     "execution_count": 40,
     "metadata": {},
     "output_type": "execute_result"
    }
   ],
   "source": [
    "folders[folder_names[0]]"
   ],
   "metadata": {
    "collapsed": false,
    "pycharm": {
     "name": "#%%\n"
    }
   }
  },
  {
   "cell_type": "code",
   "execution_count": 35,
   "outputs": [],
   "source": [
    "group_by_path = f'E:/.developing_env/duplicated_files/group_by/'\n",
    "group_by_lists = os.listdir(group_by_path)"
   ],
   "metadata": {
    "collapsed": false,
    "pycharm": {
     "name": "#%%\n"
    }
   }
  },
  {
   "cell_type": "code",
   "execution_count": 36,
   "outputs": [],
   "source": [
    "# === 主畫面 root 設定 ===\n",
    "root = Tk()\n",
    "root.title('%s | %s' % ('分析系統', '艾爾文軟體作品'))\n",
    "# ==== 建立 Notebook =========================================================================\n",
    "tabBoxes = Notebook(root)\n",
    "# 建立第1標籤頁 tabBoxFilter\n",
    "tabBoxFilter = Frame()\n",
    "tabBoxes.add(tabBoxFilter, text='檔案清單')\n",
    "# 定位 tabBoxes\n",
    "tabBoxes.pack(padx=10, pady=10, fill=BOTH, expand=True)\n",
    "# ===<第一階>===================================================================================================\n",
    "# ==== 建立 <第一階> 水平兩個垂直並排 的 PanedWindow(鑲嵌視窗) 物件 ====\n",
    "paned_two_windows = PanedWindow(tabBoxFilter, orient=HORIZONTAL)\n",
    "paned_two_windows.pack(padx=10, pady=10, fill=BOTH, expand=True)\n",
    "# = 在水平 <第一階> 的 <右邊> 建立 < LabelFrame(標籤框架) >\n",
    "list_of_folder_files = LabelFrame(paned_two_windows, text='顯示所有的檔案清單')\n",
    "paned_two_windows.add(list_of_folder_files, weight=8)\n",
    "# = 在水平 <第一階> 的 <左邊> 建立 < LabelFrame(標籤框架) >\n",
    "duplicate_file_lists = LabelFrame(paned_two_windows, text='依點選的檔案篩選要留下來的檔案')\n",
    "paned_two_windows.add(duplicate_file_lists, weight=92)\n",
    "# == 在水平 <第一階> 的 <左邊> 的窗格放入 = Listbox(清單區塊並為清單建立捲軸) =\n",
    "file_lists_scrollbar = Scrollbar(list_of_folder_files)\n",
    "file_lists_scrollbar.pack(side=RIGHT, fill=BOTH, expand=True)\n",
    "# 篩選的檔案 ??\n",
    "selected_file = Listbox(list_of_folder_files, selectmode=SINGLE, yscrollcommand=file_lists_scrollbar.set)\n",
    "selected_file.bind('<<ListboxSelect>>', list_box_selected)\n",
    "selected_file.pack(padx=10, pady=5, fill=BOTH, expand=True)\n",
    "selected_file.delete(0, END)\n",
    "for each_file in group_by_lists:\n",
    "    selected_file.insert(END, f'{each_file}')\n",
    "# 篩選的檔案\n",
    "file_lists_scrollbar.config(command=selected_file.yview)"
   ],
   "metadata": {
    "collapsed": false,
    "pycharm": {
     "name": "#%%\n"
    }
   }
  },
  {
   "cell_type": "code",
   "execution_count": 37,
   "outputs": [],
   "source": [
    "# ===<第二階>===================================================================================================\n",
    "# == 在 <右邊> 的 LabelFrame 建立 <第二階> 垂直兩個並排的 PanedWindow(鑲嵌視窗) 物件\n",
    "paned_selected_file = PanedWindow(duplicate_file_lists, orient=VERTICAL)\n",
    "paned_selected_file.pack(fill=BOTH, expand=True)\n",
    "# == 在垂直 <第二階> 的 <上面> 建立 < LabelFrame(標籤框架) > 12%\n",
    "file_information = LabelFrame(paned_selected_file, text='選定的檔案')\n",
    "paned_selected_file.add(file_information, weight=1)\n",
    "# == 顯示選定的檔案\n",
    "display_file_var = StringVar()\n",
    "display_file_var.set('')\n",
    "display_file_label = Label(file_information, textvariable=display_file_var)\n",
    "display_file_label.pack(fill=BOTH, expand=True)\n",
    "# == 顯示選定的檔案的索引\n",
    "clear_widget_button = Button(file_information, text='清除視窗顯示的內容') #, command=clear_widget)\n",
    "clear_widget_button.pack(padx=10, pady=10)\n",
    "# == 顯示選定的檔案的索引\n",
    "del_file_type_button = Button(file_information, text='已完成從左側清單中移除') #, command=delete_file_type)\n",
    "del_file_type_button.pack(padx=10, pady=10)\n",
    "# == 在垂直 <第二階> 的 <上面> 建立 < LabelFrame(標籤框架) > 66%\n",
    "file_dataframe = LabelFrame(paned_selected_file, text='檔案裡的資料框')\n",
    "paned_selected_file.add(file_dataframe, weight=2)\n",
    "# == 顯示選定的檔案的索引\n",
    "dataframe_tree = Treeview(file_dataframe, columns=('磁碟機根目錄', '組別', '檔案類型', '磁碟機', '根目錄', '子目錄', '檔案資料夾', '檔案名稱', '路徑', '大小', '新增日期', '修改日期'))\n",
    "dataframe_tree.bind('<<TreeviewSelect>>') #, dataframe_select)\n",
    "dataframe_tree.pack(fill=BOTH)\n",
    "# == 顯示選定的檔案的 DataFrame 內容\n",
    "dataframe_information = LabelFrame(paned_selected_file, text='選定的項目')\n",
    "paned_selected_file.add(dataframe_information, weight=2)\n",
    "# == 顯示選定的檔案的 DataFrame 內容\n",
    "dataframe_paned_frame = PanedWindow(dataframe_information, orient=HORIZONTAL)\n",
    "dataframe_paned_frame.pack(fill=BOTH)\n",
    "# ===<第二階>===================================================================================================\n",
    "# == 在垂直 <第二階> 的 <下面> 建立 < LabelFrame(標籤框架) > 22%\n",
    "file_details_frame = LabelFrame(paned_selected_file, text='點選的檔案的細節')\n",
    "paned_selected_file.add(file_details_frame, weight=5)\n",
    "# ===<第三階|上>==================================================================================================\n",
    "# === 在 <左邊的上面的左邊> 的 LabelFrame 建立 <第三階> 水平兩個並排 <選擇股票> 與 <選擇日期> 的 PanedWindow(鑲嵌視窗) 物件\n",
    "details_paned_frame = PanedWindow(file_details_frame, orient=HORIZONTAL)\n",
    "details_paned_frame.pack(fill=BOTH, expand=True)\n",
    "# === 主畫面開始執行 ===\n",
    "root.mainloop()"
   ],
   "metadata": {
    "collapsed": false,
    "pycharm": {
     "name": "#%%\n"
    }
   }
  },
  {
   "cell_type": "code",
   "execution_count": null,
   "outputs": [],
   "source": [],
   "metadata": {
    "collapsed": false,
    "pycharm": {
     "name": "#%%\n"
    }
   }
  },
  {
   "cell_type": "code",
   "execution_count": 86,
   "outputs": [
    {
     "data": {
      "text/plain": "                          組別  檔案類型  磁碟機  根目錄  子目錄  檔案資料夾  檔案名稱  路徑  大小  新增日期  \\\n磁碟機根目錄                                                                         \nD:\\Github 創辦人親自指導你精通 Git   2     2    2    2    0      2     2   2   2     2   \nZ:\\新增書籍文件                  2     2    2    2    2      2     2   2   2     2   \n\n                          修改日期  \n磁碟機根目錄                          \nD:\\Github 創辦人親自指導你精通 Git     2  \nZ:\\新增書籍文件                    2  ",
      "text/html": "<div>\n<style scoped>\n    .dataframe tbody tr th:only-of-type {\n        vertical-align: middle;\n    }\n\n    .dataframe tbody tr th {\n        vertical-align: top;\n    }\n\n    .dataframe thead th {\n        text-align: right;\n    }\n</style>\n<table border=\"1\" class=\"dataframe\">\n  <thead>\n    <tr style=\"text-align: right;\">\n      <th></th>\n      <th>組別</th>\n      <th>檔案類型</th>\n      <th>磁碟機</th>\n      <th>根目錄</th>\n      <th>子目錄</th>\n      <th>檔案資料夾</th>\n      <th>檔案名稱</th>\n      <th>路徑</th>\n      <th>大小</th>\n      <th>新增日期</th>\n      <th>修改日期</th>\n    </tr>\n    <tr>\n      <th>磁碟機根目錄</th>\n      <th></th>\n      <th></th>\n      <th></th>\n      <th></th>\n      <th></th>\n      <th></th>\n      <th></th>\n      <th></th>\n      <th></th>\n      <th></th>\n      <th></th>\n    </tr>\n  </thead>\n  <tbody>\n    <tr>\n      <th>D:\\Github 創辦人親自指導你精通 Git</th>\n      <td>2</td>\n      <td>2</td>\n      <td>2</td>\n      <td>2</td>\n      <td>0</td>\n      <td>2</td>\n      <td>2</td>\n      <td>2</td>\n      <td>2</td>\n      <td>2</td>\n      <td>2</td>\n    </tr>\n    <tr>\n      <th>Z:\\新增書籍文件</th>\n      <td>2</td>\n      <td>2</td>\n      <td>2</td>\n      <td>2</td>\n      <td>2</td>\n      <td>2</td>\n      <td>2</td>\n      <td>2</td>\n      <td>2</td>\n      <td>2</td>\n      <td>2</td>\n    </tr>\n  </tbody>\n</table>\n</div>"
     },
     "execution_count": 86,
     "metadata": {},
     "output_type": "execute_result"
    }
   ],
   "source": [
    "counts[folder_names[0]]"
   ],
   "metadata": {
    "collapsed": false,
    "pycharm": {
     "name": "#%%\n"
    }
   }
  },
  {
   "cell_type": "code",
   "execution_count": 85,
   "outputs": [
    {
     "data": {
      "text/plain": "                     磁碟機根目錄    組別  檔案類型 磁碟機                    根目錄  \\\n0  D:\\Github 創辦人親自指導你精通 Git  2463  .iso  D:  Github 創辦人親自指導你精通 Git   \n1                 Z:\\新增書籍文件  2463  .iso  Z:                 新增書籍文件   \n2  D:\\Github 創辦人親自指導你精通 Git  2464  .rar  D:  Github 創辦人親自指導你精通 Git   \n3                 Z:\\新增書籍文件  2464  .rar  Z:                 新增書籍文件   \n\n                           子目錄                  檔案資料夾  \\\n0                          NaN  Github 創辦人親自指導你精通 Git   \n1  資訊書籍\\Github 創辦人親自指導你精通 Git\\  Github 創辦人親自指導你精通 Git   \n2                          NaN  Github 創辦人親自指導你精通 Git   \n3  資訊書籍\\Github 創辦人親自指導你精通 Git\\  Github 創辦人親自指導你精通 Git   \n\n                            檔案名稱                                     路徑  \\\n0  Github 創辦人親自指導你精通 Git_書擷圖.iso              D:\\Github 創辦人親自指導你精通 Git\\   \n1  Github 創辦人親自指導你精通 Git_書擷圖.iso  Z:\\新增書籍文件\\資訊書籍\\Github 創辦人親自指導你精通 Git\\   \n2  Github 創辦人親自指導你精通 Git_書擷圖.rar              D:\\Github 創辦人親自指導你精通 Git\\   \n3  Github 創辦人親自指導你精通 Git_書擷圖.rar  Z:\\新增書籍文件\\資訊書籍\\Github 創辦人親自指導你精通 Git\\   \n\n          大小                   新增日期                   修改日期  \n0  175841280  2021/8/18 上午 02:35:28  2021/6/17 上午 11:57:02  \n1  175841280  2021/6/17 上午 11:57:44  2021/6/17 上午 11:57:02  \n2  171940877  2021/8/18 上午 02:35:30  2021/6/17 上午 11:57:13  \n3  171940877  2021/6/17 上午 11:58:00  2021/6/17 上午 11:57:13  ",
      "text/html": "<div>\n<style scoped>\n    .dataframe tbody tr th:only-of-type {\n        vertical-align: middle;\n    }\n\n    .dataframe tbody tr th {\n        vertical-align: top;\n    }\n\n    .dataframe thead th {\n        text-align: right;\n    }\n</style>\n<table border=\"1\" class=\"dataframe\">\n  <thead>\n    <tr style=\"text-align: right;\">\n      <th></th>\n      <th>磁碟機根目錄</th>\n      <th>組別</th>\n      <th>檔案類型</th>\n      <th>磁碟機</th>\n      <th>根目錄</th>\n      <th>子目錄</th>\n      <th>檔案資料夾</th>\n      <th>檔案名稱</th>\n      <th>路徑</th>\n      <th>大小</th>\n      <th>新增日期</th>\n      <th>修改日期</th>\n    </tr>\n  </thead>\n  <tbody>\n    <tr>\n      <th>0</th>\n      <td>D:\\Github 創辦人親自指導你精通 Git</td>\n      <td>2463</td>\n      <td>.iso</td>\n      <td>D:</td>\n      <td>Github 創辦人親自指導你精通 Git</td>\n      <td>NaN</td>\n      <td>Github 創辦人親自指導你精通 Git</td>\n      <td>Github 創辦人親自指導你精通 Git_書擷圖.iso</td>\n      <td>D:\\Github 創辦人親自指導你精通 Git\\</td>\n      <td>175841280</td>\n      <td>2021/8/18 上午 02:35:28</td>\n      <td>2021/6/17 上午 11:57:02</td>\n    </tr>\n    <tr>\n      <th>1</th>\n      <td>Z:\\新增書籍文件</td>\n      <td>2463</td>\n      <td>.iso</td>\n      <td>Z:</td>\n      <td>新增書籍文件</td>\n      <td>資訊書籍\\Github 創辦人親自指導你精通 Git\\</td>\n      <td>Github 創辦人親自指導你精通 Git</td>\n      <td>Github 創辦人親自指導你精通 Git_書擷圖.iso</td>\n      <td>Z:\\新增書籍文件\\資訊書籍\\Github 創辦人親自指導你精通 Git\\</td>\n      <td>175841280</td>\n      <td>2021/6/17 上午 11:57:44</td>\n      <td>2021/6/17 上午 11:57:02</td>\n    </tr>\n    <tr>\n      <th>2</th>\n      <td>D:\\Github 創辦人親自指導你精通 Git</td>\n      <td>2464</td>\n      <td>.rar</td>\n      <td>D:</td>\n      <td>Github 創辦人親自指導你精通 Git</td>\n      <td>NaN</td>\n      <td>Github 創辦人親自指導你精通 Git</td>\n      <td>Github 創辦人親自指導你精通 Git_書擷圖.rar</td>\n      <td>D:\\Github 創辦人親自指導你精通 Git\\</td>\n      <td>171940877</td>\n      <td>2021/8/18 上午 02:35:30</td>\n      <td>2021/6/17 上午 11:57:13</td>\n    </tr>\n    <tr>\n      <th>3</th>\n      <td>Z:\\新增書籍文件</td>\n      <td>2464</td>\n      <td>.rar</td>\n      <td>Z:</td>\n      <td>新增書籍文件</td>\n      <td>資訊書籍\\Github 創辦人親自指導你精通 Git\\</td>\n      <td>Github 創辦人親自指導你精通 Git</td>\n      <td>Github 創辦人親自指導你精通 Git_書擷圖.rar</td>\n      <td>Z:\\新增書籍文件\\資訊書籍\\Github 創辦人親自指導你精通 Git\\</td>\n      <td>171940877</td>\n      <td>2021/6/17 上午 11:58:00</td>\n      <td>2021/6/17 上午 11:57:13</td>\n    </tr>\n  </tbody>\n</table>\n</div>"
     },
     "execution_count": 85,
     "metadata": {},
     "output_type": "execute_result"
    }
   ],
   "source": [
    "folders[folder_names[0]]"
   ],
   "metadata": {
    "collapsed": false,
    "pycharm": {
     "name": "#%%\n"
    }
   }
  },
  {
   "cell_type": "code",
   "execution_count": 92,
   "outputs": [],
   "source": [
    "for path in folders[folder_names[0]]['路徑'].unique():\n",
    "    os.startfile(path)"
   ],
   "metadata": {
    "collapsed": false,
    "pycharm": {
     "name": "#%%\n"
    }
   }
  },
  {
   "cell_type": "code",
   "execution_count": null,
   "outputs": [],
   "source": [],
   "metadata": {
    "collapsed": false,
    "pycharm": {
     "name": "#%%\n"
    }
   }
  }
 ],
 "metadata": {
  "kernelspec": {
   "display_name": "Python 3",
   "language": "python",
   "name": "python3"
  },
  "language_info": {
   "codemirror_mode": {
    "name": "ipython",
    "version": 2
   },
   "file_extension": ".py",
   "mimetype": "text/x-python",
   "name": "python",
   "nbconvert_exporter": "python",
   "pygments_lexer": "ipython2",
   "version": "2.7.6"
  }
 },
 "nbformat": 4,
 "nbformat_minor": 0
}