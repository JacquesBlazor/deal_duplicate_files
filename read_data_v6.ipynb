{
 "cells": [
  {
   "cell_type": "code",
   "execution_count": 1,
   "metadata": {
    "collapsed": true
   },
   "outputs": [],
   "source": [
    "import pandas as pd\n",
    "import csv\n",
    "import os\n",
    "import re"
   ]
  },
  {
   "cell_type": "code",
   "execution_count": null,
   "outputs": [],
   "source": [
    "filter_columns = {\n",
    "    'left_only': ['組別_', '檔案類型_', '檔案資料夾_', '大小_', '修改日期_'],\n",
    "    'right_only': ['組別_', '檔案類型_', '檔案資料夾_', '大小_', '修改日期_'],\n",
    "}"
   ],
   "metadata": {
    "collapsed": false,
    "pycharm": {
     "name": "#%%\n"
    }
   }
  },
  {
   "cell_type": "code",
   "execution_count": null,
   "outputs": [],
   "source": [
    "df = pd.read_csv('df_index.csv')"
   ],
   "metadata": {
    "collapsed": false,
    "pycharm": {
     "name": "#%%\n"
    }
   }
  },
  {
   "cell_type": "code",
   "execution_count": null,
   "outputs": [],
   "source": [
    "df"
   ],
   "metadata": {
    "collapsed": false,
    "pycharm": {
     "name": "#%%\n"
    }
   }
  },
  {
   "cell_type": "code",
   "execution_count": 8,
   "outputs": [
    {
     "data": {
      "text/plain": "                                         檔案資料夾  \\\n結果                                               \n1                                      artwork   \n2                                          cfg   \n3                                       chains   \n4                                       chains   \n5                                     crt-geom   \n...                                        ...   \n21600                                     下載書籍   \n21601                          不再聽不懂 圖解網站建置與開發   \n21602  讓響應式 (RWD) 網頁設計變簡單 Bootstrap 開發速成 (第二版)   \n21603                                      資料庫   \n21604                                      資料庫   \n\n                                                    來源路徑  \\\n結果                                                         \n1                                 D:\\MAME Games\\artwork\\   \n2                                     D:\\MAME Games\\cfg\\   \n3                     D:\\MAME Games\\artwork\\bgfx\\chains\\   \n4                     D:\\MAME Games\\artwork\\bgfx\\chains\\   \n5       D:\\MAME Games\\bgfx\\shaders\\dx11\\chains\\crt-geom\\   \n...                                                  ...   \n21600                                 D:\\_下載的文件待歸類\\下載書籍\\   \n21601  D:\\_eBooks 電子書 Java+JS+HTML+CSS+RWD+Node\\不再聽不懂...   \n21602  D:\\_eBooks 電子書 Java+JS+HTML+CSS+RWD+Node\\讓響應式 ...   \n21603  D:\\_eBooks 電子書 Java+JS+HTML+CSS+RWD+Node\\Java ...   \n21604  D:\\_eBooks 電子書 Java+JS+HTML+CSS+RWD+Node\\Java ...   \n\n                                                    比較路徑  次數  來源長度  比較長度  \n結果                                                                        \n1                 D:\\MAME Games\\mame0238b_64bit\\artwork\\   1    16    17  \n2                     D:\\MAME Games\\mame0238b_64bit\\cfg\\   1     1     3  \n3                             D:\\MAME Games\\bgfx\\chains\\   1     3     2  \n4             D:\\MAME Games\\mame0238b_64bit\\bgfx\\chains\\   3     3     2  \n5      D:\\MAME Games\\mame0238b_64bit\\bgfx\\shaders\\dx1...   6     2     3  \n...                                                  ...  ..   ...   ...  \n21600                                    Z:\\新增書籍文件\\下載書籍\\   1     2     5  \n21601                    Z:\\新增書籍文件\\資訊書籍\\不再聽不懂 圖解網站建置與開發\\   1     3     2  \n21602  Z:\\新增書籍文件\\資訊書籍\\讓響應式 (RWD) 網頁設計變簡單 Bootstrap 開發...   1     4     3  \n21603  D:\\_eBooks 電子書 Java+JS+HTML+CSS+RWD+Node\\Java ...   3     1     2  \n21604  Z:\\資訊書籍文件\\Java  王者歸來 Struts2+Spring+Hibernate框...   7     1     2  \n\n[21604 rows x 6 columns]",
      "text/html": "<div>\n<style scoped>\n    .dataframe tbody tr th:only-of-type {\n        vertical-align: middle;\n    }\n\n    .dataframe tbody tr th {\n        vertical-align: top;\n    }\n\n    .dataframe thead th {\n        text-align: right;\n    }\n</style>\n<table border=\"1\" class=\"dataframe\">\n  <thead>\n    <tr style=\"text-align: right;\">\n      <th></th>\n      <th>檔案資料夾</th>\n      <th>來源路徑</th>\n      <th>比較路徑</th>\n      <th>次數</th>\n      <th>來源長度</th>\n      <th>比較長度</th>\n    </tr>\n    <tr>\n      <th>結果</th>\n      <th></th>\n      <th></th>\n      <th></th>\n      <th></th>\n      <th></th>\n      <th></th>\n    </tr>\n  </thead>\n  <tbody>\n    <tr>\n      <th>1</th>\n      <td>artwork</td>\n      <td>D:\\MAME Games\\artwork\\</td>\n      <td>D:\\MAME Games\\mame0238b_64bit\\artwork\\</td>\n      <td>1</td>\n      <td>16</td>\n      <td>17</td>\n    </tr>\n    <tr>\n      <th>2</th>\n      <td>cfg</td>\n      <td>D:\\MAME Games\\cfg\\</td>\n      <td>D:\\MAME Games\\mame0238b_64bit\\cfg\\</td>\n      <td>1</td>\n      <td>1</td>\n      <td>3</td>\n    </tr>\n    <tr>\n      <th>3</th>\n      <td>chains</td>\n      <td>D:\\MAME Games\\artwork\\bgfx\\chains\\</td>\n      <td>D:\\MAME Games\\bgfx\\chains\\</td>\n      <td>1</td>\n      <td>3</td>\n      <td>2</td>\n    </tr>\n    <tr>\n      <th>4</th>\n      <td>chains</td>\n      <td>D:\\MAME Games\\artwork\\bgfx\\chains\\</td>\n      <td>D:\\MAME Games\\mame0238b_64bit\\bgfx\\chains\\</td>\n      <td>3</td>\n      <td>3</td>\n      <td>2</td>\n    </tr>\n    <tr>\n      <th>5</th>\n      <td>crt-geom</td>\n      <td>D:\\MAME Games\\bgfx\\shaders\\dx11\\chains\\crt-geom\\</td>\n      <td>D:\\MAME Games\\mame0238b_64bit\\bgfx\\shaders\\dx1...</td>\n      <td>6</td>\n      <td>2</td>\n      <td>3</td>\n    </tr>\n    <tr>\n      <th>...</th>\n      <td>...</td>\n      <td>...</td>\n      <td>...</td>\n      <td>...</td>\n      <td>...</td>\n      <td>...</td>\n    </tr>\n    <tr>\n      <th>21600</th>\n      <td>下載書籍</td>\n      <td>D:\\_下載的文件待歸類\\下載書籍\\</td>\n      <td>Z:\\新增書籍文件\\下載書籍\\</td>\n      <td>1</td>\n      <td>2</td>\n      <td>5</td>\n    </tr>\n    <tr>\n      <th>21601</th>\n      <td>不再聽不懂 圖解網站建置與開發</td>\n      <td>D:\\_eBooks 電子書 Java+JS+HTML+CSS+RWD+Node\\不再聽不懂...</td>\n      <td>Z:\\新增書籍文件\\資訊書籍\\不再聽不懂 圖解網站建置與開發\\</td>\n      <td>1</td>\n      <td>3</td>\n      <td>2</td>\n    </tr>\n    <tr>\n      <th>21602</th>\n      <td>讓響應式 (RWD) 網頁設計變簡單 Bootstrap 開發速成 (第二版)</td>\n      <td>D:\\_eBooks 電子書 Java+JS+HTML+CSS+RWD+Node\\讓響應式 ...</td>\n      <td>Z:\\新增書籍文件\\資訊書籍\\讓響應式 (RWD) 網頁設計變簡單 Bootstrap 開發...</td>\n      <td>1</td>\n      <td>4</td>\n      <td>3</td>\n    </tr>\n    <tr>\n      <th>21603</th>\n      <td>資料庫</td>\n      <td>D:\\_eBooks 電子書 Java+JS+HTML+CSS+RWD+Node\\Java ...</td>\n      <td>D:\\_eBooks 電子書 Java+JS+HTML+CSS+RWD+Node\\Java ...</td>\n      <td>3</td>\n      <td>1</td>\n      <td>2</td>\n    </tr>\n    <tr>\n      <th>21604</th>\n      <td>資料庫</td>\n      <td>D:\\_eBooks 電子書 Java+JS+HTML+CSS+RWD+Node\\Java ...</td>\n      <td>Z:\\資訊書籍文件\\Java  王者歸來 Struts2+Spring+Hibernate框...</td>\n      <td>7</td>\n      <td>1</td>\n      <td>2</td>\n    </tr>\n  </tbody>\n</table>\n<p>21604 rows × 6 columns</p>\n</div>"
     },
     "execution_count": 8,
     "metadata": {},
     "output_type": "execute_result"
    }
   ],
   "source": [
    "log_df = pd.read_csv('E:/.developing_env/duplicated_files/group_by/.backup_comp/log_different.csv')\n",
    "log_df.drop(['備註', 'Unnamed: 0'], axis=1, inplace=True)\n",
    "log_df.set_index('結果', drop=True, inplace=True)\n",
    "log_df"
   ],
   "metadata": {
    "collapsed": false,
    "pycharm": {
     "name": "#%%\n"
    }
   }
  },
  {
   "cell_type": "code",
   "execution_count": 15,
   "outputs": [
    {
     "data": {
      "text/plain": "             磁碟機根目錄    組別  檔案類型 磁碟機         根目錄       子目錄    檔案資料夾  \\\n7265  D:\\MAME Games  2870   .md  D:  MAME Games  artwork\\  artwork   \n7267  D:\\MAME Games  2871  .png  D:  MAME Games  artwork\\  artwork   \n7269  D:\\MAME Games  2872  .png  D:  MAME Games  artwork\\  artwork   \n7271  D:\\MAME Games  2873  .png  D:  MAME Games  artwork\\  artwork   \n7273  D:\\MAME Games  2874  .png  D:  MAME Games  artwork\\  artwork   \n7275  D:\\MAME Games  2875  .png  D:  MAME Games  artwork\\  artwork   \n7277  D:\\MAME Games  2876  .png  D:  MAME Games  artwork\\  artwork   \n7279  D:\\MAME Games  2877  .png  D:  MAME Games  artwork\\  artwork   \n7281  D:\\MAME Games  2878  .txt  D:  MAME Games  artwork\\  artwork   \n7284  D:\\MAME Games  2879  .png  D:  MAME Games  artwork\\  artwork   \n7286  D:\\MAME Games  2880  .png  D:  MAME Games  artwork\\  artwork   \n7288  D:\\MAME Games  2881  .png  D:  MAME Games  artwork\\  artwork   \n7290  D:\\MAME Games  2882  .png  D:  MAME Games  artwork\\  artwork   \n7292  D:\\MAME Games  2883  .png  D:  MAME Games  artwork\\  artwork   \n7294  D:\\MAME Games  2884  .png  D:  MAME Games  artwork\\  artwork   \n7296  D:\\MAME Games  2885  .png  D:  MAME Games  artwork\\  artwork   \n\n                           檔案名稱                      路徑     大小  \\\n7265                  README.md  D:\\MAME Games\\artwork\\    217   \n7267        aperture-grille.png  D:\\MAME Games\\artwork\\  19734   \n7269               aperture.png  D:\\MAME Games\\artwork\\    271   \n7271          aperture1x2rb.png  D:\\MAME Games\\artwork\\    172   \n7273          aperture1x3rb.png  D:\\MAME Games\\artwork\\    175   \n7275          aperture2x4bg.png  D:\\MAME Games\\artwork\\    176   \n7277          aperture2x4rb.png  D:\\MAME Games\\artwork\\    171   \n7279            aperture4x6.png  D:\\MAME Games\\artwork\\    224   \n7281                    dir.txt  D:\\MAME Games\\artwork\\     26   \n7284  monochrome-chessboard.png  D:\\MAME Games\\artwork\\  23358   \n7286      monochrome-matrix.png  D:\\MAME Games\\artwork\\  33047   \n7288              scanlines.png  D:\\MAME Games\\artwork\\    296   \n7290            shadow-mask.png  D:\\MAME Games\\artwork\\  20397   \n7292      slot-mask-aligned.png  D:\\MAME Games\\artwork\\  26638   \n7294              slot-mask.png  D:\\MAME Games\\artwork\\  19768   \n7296                  white.png  D:\\MAME Games\\artwork\\    122   \n\n                        新增日期                   修改日期  \n7265  2021/12/18 下午 05:23:43  2020/5/19 上午 11:11:59  \n7267  2021/12/18 下午 05:23:42  2020/5/19 上午 11:11:59  \n7269  2021/12/18 下午 05:23:42  2020/5/19 上午 11:11:59  \n7271  2021/12/18 下午 05:23:42  2020/5/19 上午 11:11:59  \n7273  2021/12/18 下午 05:23:42  2020/5/19 上午 11:11:59  \n7275  2021/12/18 下午 05:23:42  2020/5/19 上午 11:11:59  \n7277  2021/12/18 下午 05:23:42  2020/5/19 上午 11:11:59  \n7279  2021/12/18 下午 05:23:42  2020/5/19 上午 11:11:59  \n7281  2021/12/18 下午 05:23:42  2020/5/19 上午 11:11:59  \n7284  2021/12/18 下午 05:23:42  2020/5/19 上午 11:11:59  \n7286  2021/12/18 下午 05:23:42  2020/5/19 上午 11:11:59  \n7288  2021/12/18 下午 05:23:43  2020/5/19 上午 11:11:59  \n7290  2021/12/18 下午 05:23:43  2020/5/19 上午 11:11:59  \n7292  2021/12/18 下午 05:23:43  2020/5/19 上午 11:11:59  \n7294  2021/12/18 下午 05:23:43  2020/5/19 上午 11:11:59  \n7296  2021/12/18 下午 05:23:43  2020/5/19 上午 11:11:59  ",
      "text/html": "<div>\n<style scoped>\n    .dataframe tbody tr th:only-of-type {\n        vertical-align: middle;\n    }\n\n    .dataframe tbody tr th {\n        vertical-align: top;\n    }\n\n    .dataframe thead th {\n        text-align: right;\n    }\n</style>\n<table border=\"1\" class=\"dataframe\">\n  <thead>\n    <tr style=\"text-align: right;\">\n      <th></th>\n      <th>磁碟機根目錄</th>\n      <th>組別</th>\n      <th>檔案類型</th>\n      <th>磁碟機</th>\n      <th>根目錄</th>\n      <th>子目錄</th>\n      <th>檔案資料夾</th>\n      <th>檔案名稱</th>\n      <th>路徑</th>\n      <th>大小</th>\n      <th>新增日期</th>\n      <th>修改日期</th>\n    </tr>\n  </thead>\n  <tbody>\n    <tr>\n      <th>7265</th>\n      <td>D:\\MAME Games</td>\n      <td>2870</td>\n      <td>.md</td>\n      <td>D:</td>\n      <td>MAME Games</td>\n      <td>artwork\\</td>\n      <td>artwork</td>\n      <td>README.md</td>\n      <td>D:\\MAME Games\\artwork\\</td>\n      <td>217</td>\n      <td>2021/12/18 下午 05:23:43</td>\n      <td>2020/5/19 上午 11:11:59</td>\n    </tr>\n    <tr>\n      <th>7267</th>\n      <td>D:\\MAME Games</td>\n      <td>2871</td>\n      <td>.png</td>\n      <td>D:</td>\n      <td>MAME Games</td>\n      <td>artwork\\</td>\n      <td>artwork</td>\n      <td>aperture-grille.png</td>\n      <td>D:\\MAME Games\\artwork\\</td>\n      <td>19734</td>\n      <td>2021/12/18 下午 05:23:42</td>\n      <td>2020/5/19 上午 11:11:59</td>\n    </tr>\n    <tr>\n      <th>7269</th>\n      <td>D:\\MAME Games</td>\n      <td>2872</td>\n      <td>.png</td>\n      <td>D:</td>\n      <td>MAME Games</td>\n      <td>artwork\\</td>\n      <td>artwork</td>\n      <td>aperture.png</td>\n      <td>D:\\MAME Games\\artwork\\</td>\n      <td>271</td>\n      <td>2021/12/18 下午 05:23:42</td>\n      <td>2020/5/19 上午 11:11:59</td>\n    </tr>\n    <tr>\n      <th>7271</th>\n      <td>D:\\MAME Games</td>\n      <td>2873</td>\n      <td>.png</td>\n      <td>D:</td>\n      <td>MAME Games</td>\n      <td>artwork\\</td>\n      <td>artwork</td>\n      <td>aperture1x2rb.png</td>\n      <td>D:\\MAME Games\\artwork\\</td>\n      <td>172</td>\n      <td>2021/12/18 下午 05:23:42</td>\n      <td>2020/5/19 上午 11:11:59</td>\n    </tr>\n    <tr>\n      <th>7273</th>\n      <td>D:\\MAME Games</td>\n      <td>2874</td>\n      <td>.png</td>\n      <td>D:</td>\n      <td>MAME Games</td>\n      <td>artwork\\</td>\n      <td>artwork</td>\n      <td>aperture1x3rb.png</td>\n      <td>D:\\MAME Games\\artwork\\</td>\n      <td>175</td>\n      <td>2021/12/18 下午 05:23:42</td>\n      <td>2020/5/19 上午 11:11:59</td>\n    </tr>\n    <tr>\n      <th>7275</th>\n      <td>D:\\MAME Games</td>\n      <td>2875</td>\n      <td>.png</td>\n      <td>D:</td>\n      <td>MAME Games</td>\n      <td>artwork\\</td>\n      <td>artwork</td>\n      <td>aperture2x4bg.png</td>\n      <td>D:\\MAME Games\\artwork\\</td>\n      <td>176</td>\n      <td>2021/12/18 下午 05:23:42</td>\n      <td>2020/5/19 上午 11:11:59</td>\n    </tr>\n    <tr>\n      <th>7277</th>\n      <td>D:\\MAME Games</td>\n      <td>2876</td>\n      <td>.png</td>\n      <td>D:</td>\n      <td>MAME Games</td>\n      <td>artwork\\</td>\n      <td>artwork</td>\n      <td>aperture2x4rb.png</td>\n      <td>D:\\MAME Games\\artwork\\</td>\n      <td>171</td>\n      <td>2021/12/18 下午 05:23:42</td>\n      <td>2020/5/19 上午 11:11:59</td>\n    </tr>\n    <tr>\n      <th>7279</th>\n      <td>D:\\MAME Games</td>\n      <td>2877</td>\n      <td>.png</td>\n      <td>D:</td>\n      <td>MAME Games</td>\n      <td>artwork\\</td>\n      <td>artwork</td>\n      <td>aperture4x6.png</td>\n      <td>D:\\MAME Games\\artwork\\</td>\n      <td>224</td>\n      <td>2021/12/18 下午 05:23:42</td>\n      <td>2020/5/19 上午 11:11:59</td>\n    </tr>\n    <tr>\n      <th>7281</th>\n      <td>D:\\MAME Games</td>\n      <td>2878</td>\n      <td>.txt</td>\n      <td>D:</td>\n      <td>MAME Games</td>\n      <td>artwork\\</td>\n      <td>artwork</td>\n      <td>dir.txt</td>\n      <td>D:\\MAME Games\\artwork\\</td>\n      <td>26</td>\n      <td>2021/12/18 下午 05:23:42</td>\n      <td>2020/5/19 上午 11:11:59</td>\n    </tr>\n    <tr>\n      <th>7284</th>\n      <td>D:\\MAME Games</td>\n      <td>2879</td>\n      <td>.png</td>\n      <td>D:</td>\n      <td>MAME Games</td>\n      <td>artwork\\</td>\n      <td>artwork</td>\n      <td>monochrome-chessboard.png</td>\n      <td>D:\\MAME Games\\artwork\\</td>\n      <td>23358</td>\n      <td>2021/12/18 下午 05:23:42</td>\n      <td>2020/5/19 上午 11:11:59</td>\n    </tr>\n    <tr>\n      <th>7286</th>\n      <td>D:\\MAME Games</td>\n      <td>2880</td>\n      <td>.png</td>\n      <td>D:</td>\n      <td>MAME Games</td>\n      <td>artwork\\</td>\n      <td>artwork</td>\n      <td>monochrome-matrix.png</td>\n      <td>D:\\MAME Games\\artwork\\</td>\n      <td>33047</td>\n      <td>2021/12/18 下午 05:23:42</td>\n      <td>2020/5/19 上午 11:11:59</td>\n    </tr>\n    <tr>\n      <th>7288</th>\n      <td>D:\\MAME Games</td>\n      <td>2881</td>\n      <td>.png</td>\n      <td>D:</td>\n      <td>MAME Games</td>\n      <td>artwork\\</td>\n      <td>artwork</td>\n      <td>scanlines.png</td>\n      <td>D:\\MAME Games\\artwork\\</td>\n      <td>296</td>\n      <td>2021/12/18 下午 05:23:43</td>\n      <td>2020/5/19 上午 11:11:59</td>\n    </tr>\n    <tr>\n      <th>7290</th>\n      <td>D:\\MAME Games</td>\n      <td>2882</td>\n      <td>.png</td>\n      <td>D:</td>\n      <td>MAME Games</td>\n      <td>artwork\\</td>\n      <td>artwork</td>\n      <td>shadow-mask.png</td>\n      <td>D:\\MAME Games\\artwork\\</td>\n      <td>20397</td>\n      <td>2021/12/18 下午 05:23:43</td>\n      <td>2020/5/19 上午 11:11:59</td>\n    </tr>\n    <tr>\n      <th>7292</th>\n      <td>D:\\MAME Games</td>\n      <td>2883</td>\n      <td>.png</td>\n      <td>D:</td>\n      <td>MAME Games</td>\n      <td>artwork\\</td>\n      <td>artwork</td>\n      <td>slot-mask-aligned.png</td>\n      <td>D:\\MAME Games\\artwork\\</td>\n      <td>26638</td>\n      <td>2021/12/18 下午 05:23:43</td>\n      <td>2020/5/19 上午 11:11:59</td>\n    </tr>\n    <tr>\n      <th>7294</th>\n      <td>D:\\MAME Games</td>\n      <td>2884</td>\n      <td>.png</td>\n      <td>D:</td>\n      <td>MAME Games</td>\n      <td>artwork\\</td>\n      <td>artwork</td>\n      <td>slot-mask.png</td>\n      <td>D:\\MAME Games\\artwork\\</td>\n      <td>19768</td>\n      <td>2021/12/18 下午 05:23:43</td>\n      <td>2020/5/19 上午 11:11:59</td>\n    </tr>\n    <tr>\n      <th>7296</th>\n      <td>D:\\MAME Games</td>\n      <td>2885</td>\n      <td>.png</td>\n      <td>D:</td>\n      <td>MAME Games</td>\n      <td>artwork\\</td>\n      <td>artwork</td>\n      <td>white.png</td>\n      <td>D:\\MAME Games\\artwork\\</td>\n      <td>122</td>\n      <td>2021/12/18 下午 05:23:43</td>\n      <td>2020/5/19 上午 11:11:59</td>\n    </tr>\n  </tbody>\n</table>\n</div>"
     },
     "execution_count": 15,
     "metadata": {},
     "output_type": "execute_result"
    }
   ],
   "source": [
    "source_df_gby = df.groupby('路徑').get_group(log_df.loc[1]['來源路徑'])\n",
    "source_df_gby"
   ],
   "metadata": {
    "collapsed": false,
    "pycharm": {
     "name": "#%%\n"
    }
   }
  },
  {
   "cell_type": "code",
   "execution_count": 14,
   "outputs": [
    {
     "data": {
      "text/plain": "             磁碟機根目錄    組別  檔案類型 磁碟機         根目錄                       子目錄  \\\n7266  D:\\MAME Games  2870   .md  D:  MAME Games  mame0238b_64bit\\artwork\\   \n7268  D:\\MAME Games  2871  .png  D:  MAME Games  mame0238b_64bit\\artwork\\   \n7270  D:\\MAME Games  2872  .png  D:  MAME Games  mame0238b_64bit\\artwork\\   \n7272  D:\\MAME Games  2873  .png  D:  MAME Games  mame0238b_64bit\\artwork\\   \n7274  D:\\MAME Games  2874  .png  D:  MAME Games  mame0238b_64bit\\artwork\\   \n7276  D:\\MAME Games  2875  .png  D:  MAME Games  mame0238b_64bit\\artwork\\   \n7278  D:\\MAME Games  2876  .png  D:  MAME Games  mame0238b_64bit\\artwork\\   \n7280  D:\\MAME Games  2877  .png  D:  MAME Games  mame0238b_64bit\\artwork\\   \n7282  D:\\MAME Games  2878  .txt  D:  MAME Games  mame0238b_64bit\\artwork\\   \n7283  D:\\MAME Games  2878  .txt  D:  MAME Games  mame0238b_64bit\\artwork\\   \n7285  D:\\MAME Games  2879  .png  D:  MAME Games  mame0238b_64bit\\artwork\\   \n7287  D:\\MAME Games  2880  .png  D:  MAME Games  mame0238b_64bit\\artwork\\   \n7289  D:\\MAME Games  2881  .png  D:  MAME Games  mame0238b_64bit\\artwork\\   \n7291  D:\\MAME Games  2882  .png  D:  MAME Games  mame0238b_64bit\\artwork\\   \n7293  D:\\MAME Games  2883  .png  D:  MAME Games  mame0238b_64bit\\artwork\\   \n7295  D:\\MAME Games  2884  .png  D:  MAME Games  mame0238b_64bit\\artwork\\   \n7297  D:\\MAME Games  2885  .png  D:  MAME Games  mame0238b_64bit\\artwork\\   \n\n        檔案資料夾                       檔案名稱  \\\n7266  artwork                  README.md   \n7268  artwork        aperture-grille.png   \n7270  artwork               aperture.png   \n7272  artwork          aperture1x2rb.png   \n7274  artwork          aperture1x3rb.png   \n7276  artwork          aperture2x4bg.png   \n7278  artwork          aperture2x4rb.png   \n7280  artwork            aperture4x6.png   \n7282  artwork                dir (2).txt   \n7283  artwork                    dir.txt   \n7285  artwork  monochrome-chessboard.png   \n7287  artwork      monochrome-matrix.png   \n7289  artwork              scanlines.png   \n7291  artwork            shadow-mask.png   \n7293  artwork      slot-mask-aligned.png   \n7295  artwork              slot-mask.png   \n7297  artwork                  white.png   \n\n                                          路徑     大小                    新增日期  \\\n7266  D:\\MAME Games\\mame0238b_64bit\\artwork\\    217  2021/12/18 下午 05:46:34   \n7268  D:\\MAME Games\\mame0238b_64bit\\artwork\\  19734  2021/12/18 下午 05:46:34   \n7270  D:\\MAME Games\\mame0238b_64bit\\artwork\\    271  2021/12/18 下午 05:46:34   \n7272  D:\\MAME Games\\mame0238b_64bit\\artwork\\    172  2021/12/18 下午 05:46:34   \n7274  D:\\MAME Games\\mame0238b_64bit\\artwork\\    175  2021/12/18 下午 05:46:34   \n7276  D:\\MAME Games\\mame0238b_64bit\\artwork\\    176  2021/12/18 下午 05:46:34   \n7278  D:\\MAME Games\\mame0238b_64bit\\artwork\\    171  2021/12/18 下午 05:46:34   \n7280  D:\\MAME Games\\mame0238b_64bit\\artwork\\    224  2021/12/18 下午 05:46:34   \n7282  D:\\MAME Games\\mame0238b_64bit\\artwork\\     26  2021/12/18 下午 05:24:21   \n7283  D:\\MAME Games\\mame0238b_64bit\\artwork\\     26  2021/12/18 下午 05:46:34   \n7285  D:\\MAME Games\\mame0238b_64bit\\artwork\\  23358  2021/12/18 下午 05:46:34   \n7287  D:\\MAME Games\\mame0238b_64bit\\artwork\\  33047  2021/12/18 下午 05:46:34   \n7289  D:\\MAME Games\\mame0238b_64bit\\artwork\\    296  2021/12/18 下午 05:46:34   \n7291  D:\\MAME Games\\mame0238b_64bit\\artwork\\  20397  2021/12/18 下午 05:46:34   \n7293  D:\\MAME Games\\mame0238b_64bit\\artwork\\  26638  2021/12/18 下午 05:46:34   \n7295  D:\\MAME Games\\mame0238b_64bit\\artwork\\  19768  2021/12/18 下午 05:46:34   \n7297  D:\\MAME Games\\mame0238b_64bit\\artwork\\    122  2021/12/18 下午 05:46:34   \n\n                        修改日期  \n7266  2021/11/24 上午 03:40:53  \n7268  2021/11/24 上午 03:40:53  \n7270  2021/11/24 上午 03:40:53  \n7272  2021/11/24 上午 03:40:53  \n7274  2021/11/24 上午 03:40:53  \n7276  2021/11/24 上午 03:40:53  \n7278  2021/11/24 上午 03:40:53  \n7280  2021/11/24 上午 03:40:53  \n7282   1998/10/4 上午 02:20:58  \n7283  2021/11/24 上午 03:40:53  \n7285  2021/11/24 上午 03:40:53  \n7287  2021/11/24 上午 03:40:53  \n7289  2021/11/24 上午 03:40:53  \n7291  2021/11/24 上午 03:40:53  \n7293  2021/11/24 上午 03:40:53  \n7295  2021/11/24 上午 03:40:53  \n7297  2021/11/24 上午 03:40:53  ",
      "text/html": "<div>\n<style scoped>\n    .dataframe tbody tr th:only-of-type {\n        vertical-align: middle;\n    }\n\n    .dataframe tbody tr th {\n        vertical-align: top;\n    }\n\n    .dataframe thead th {\n        text-align: right;\n    }\n</style>\n<table border=\"1\" class=\"dataframe\">\n  <thead>\n    <tr style=\"text-align: right;\">\n      <th></th>\n      <th>磁碟機根目錄</th>\n      <th>組別</th>\n      <th>檔案類型</th>\n      <th>磁碟機</th>\n      <th>根目錄</th>\n      <th>子目錄</th>\n      <th>檔案資料夾</th>\n      <th>檔案名稱</th>\n      <th>路徑</th>\n      <th>大小</th>\n      <th>新增日期</th>\n      <th>修改日期</th>\n    </tr>\n  </thead>\n  <tbody>\n    <tr>\n      <th>7266</th>\n      <td>D:\\MAME Games</td>\n      <td>2870</td>\n      <td>.md</td>\n      <td>D:</td>\n      <td>MAME Games</td>\n      <td>mame0238b_64bit\\artwork\\</td>\n      <td>artwork</td>\n      <td>README.md</td>\n      <td>D:\\MAME Games\\mame0238b_64bit\\artwork\\</td>\n      <td>217</td>\n      <td>2021/12/18 下午 05:46:34</td>\n      <td>2021/11/24 上午 03:40:53</td>\n    </tr>\n    <tr>\n      <th>7268</th>\n      <td>D:\\MAME Games</td>\n      <td>2871</td>\n      <td>.png</td>\n      <td>D:</td>\n      <td>MAME Games</td>\n      <td>mame0238b_64bit\\artwork\\</td>\n      <td>artwork</td>\n      <td>aperture-grille.png</td>\n      <td>D:\\MAME Games\\mame0238b_64bit\\artwork\\</td>\n      <td>19734</td>\n      <td>2021/12/18 下午 05:46:34</td>\n      <td>2021/11/24 上午 03:40:53</td>\n    </tr>\n    <tr>\n      <th>7270</th>\n      <td>D:\\MAME Games</td>\n      <td>2872</td>\n      <td>.png</td>\n      <td>D:</td>\n      <td>MAME Games</td>\n      <td>mame0238b_64bit\\artwork\\</td>\n      <td>artwork</td>\n      <td>aperture.png</td>\n      <td>D:\\MAME Games\\mame0238b_64bit\\artwork\\</td>\n      <td>271</td>\n      <td>2021/12/18 下午 05:46:34</td>\n      <td>2021/11/24 上午 03:40:53</td>\n    </tr>\n    <tr>\n      <th>7272</th>\n      <td>D:\\MAME Games</td>\n      <td>2873</td>\n      <td>.png</td>\n      <td>D:</td>\n      <td>MAME Games</td>\n      <td>mame0238b_64bit\\artwork\\</td>\n      <td>artwork</td>\n      <td>aperture1x2rb.png</td>\n      <td>D:\\MAME Games\\mame0238b_64bit\\artwork\\</td>\n      <td>172</td>\n      <td>2021/12/18 下午 05:46:34</td>\n      <td>2021/11/24 上午 03:40:53</td>\n    </tr>\n    <tr>\n      <th>7274</th>\n      <td>D:\\MAME Games</td>\n      <td>2874</td>\n      <td>.png</td>\n      <td>D:</td>\n      <td>MAME Games</td>\n      <td>mame0238b_64bit\\artwork\\</td>\n      <td>artwork</td>\n      <td>aperture1x3rb.png</td>\n      <td>D:\\MAME Games\\mame0238b_64bit\\artwork\\</td>\n      <td>175</td>\n      <td>2021/12/18 下午 05:46:34</td>\n      <td>2021/11/24 上午 03:40:53</td>\n    </tr>\n    <tr>\n      <th>7276</th>\n      <td>D:\\MAME Games</td>\n      <td>2875</td>\n      <td>.png</td>\n      <td>D:</td>\n      <td>MAME Games</td>\n      <td>mame0238b_64bit\\artwork\\</td>\n      <td>artwork</td>\n      <td>aperture2x4bg.png</td>\n      <td>D:\\MAME Games\\mame0238b_64bit\\artwork\\</td>\n      <td>176</td>\n      <td>2021/12/18 下午 05:46:34</td>\n      <td>2021/11/24 上午 03:40:53</td>\n    </tr>\n    <tr>\n      <th>7278</th>\n      <td>D:\\MAME Games</td>\n      <td>2876</td>\n      <td>.png</td>\n      <td>D:</td>\n      <td>MAME Games</td>\n      <td>mame0238b_64bit\\artwork\\</td>\n      <td>artwork</td>\n      <td>aperture2x4rb.png</td>\n      <td>D:\\MAME Games\\mame0238b_64bit\\artwork\\</td>\n      <td>171</td>\n      <td>2021/12/18 下午 05:46:34</td>\n      <td>2021/11/24 上午 03:40:53</td>\n    </tr>\n    <tr>\n      <th>7280</th>\n      <td>D:\\MAME Games</td>\n      <td>2877</td>\n      <td>.png</td>\n      <td>D:</td>\n      <td>MAME Games</td>\n      <td>mame0238b_64bit\\artwork\\</td>\n      <td>artwork</td>\n      <td>aperture4x6.png</td>\n      <td>D:\\MAME Games\\mame0238b_64bit\\artwork\\</td>\n      <td>224</td>\n      <td>2021/12/18 下午 05:46:34</td>\n      <td>2021/11/24 上午 03:40:53</td>\n    </tr>\n    <tr>\n      <th>7282</th>\n      <td>D:\\MAME Games</td>\n      <td>2878</td>\n      <td>.txt</td>\n      <td>D:</td>\n      <td>MAME Games</td>\n      <td>mame0238b_64bit\\artwork\\</td>\n      <td>artwork</td>\n      <td>dir (2).txt</td>\n      <td>D:\\MAME Games\\mame0238b_64bit\\artwork\\</td>\n      <td>26</td>\n      <td>2021/12/18 下午 05:24:21</td>\n      <td>1998/10/4 上午 02:20:58</td>\n    </tr>\n    <tr>\n      <th>7283</th>\n      <td>D:\\MAME Games</td>\n      <td>2878</td>\n      <td>.txt</td>\n      <td>D:</td>\n      <td>MAME Games</td>\n      <td>mame0238b_64bit\\artwork\\</td>\n      <td>artwork</td>\n      <td>dir.txt</td>\n      <td>D:\\MAME Games\\mame0238b_64bit\\artwork\\</td>\n      <td>26</td>\n      <td>2021/12/18 下午 05:46:34</td>\n      <td>2021/11/24 上午 03:40:53</td>\n    </tr>\n    <tr>\n      <th>7285</th>\n      <td>D:\\MAME Games</td>\n      <td>2879</td>\n      <td>.png</td>\n      <td>D:</td>\n      <td>MAME Games</td>\n      <td>mame0238b_64bit\\artwork\\</td>\n      <td>artwork</td>\n      <td>monochrome-chessboard.png</td>\n      <td>D:\\MAME Games\\mame0238b_64bit\\artwork\\</td>\n      <td>23358</td>\n      <td>2021/12/18 下午 05:46:34</td>\n      <td>2021/11/24 上午 03:40:53</td>\n    </tr>\n    <tr>\n      <th>7287</th>\n      <td>D:\\MAME Games</td>\n      <td>2880</td>\n      <td>.png</td>\n      <td>D:</td>\n      <td>MAME Games</td>\n      <td>mame0238b_64bit\\artwork\\</td>\n      <td>artwork</td>\n      <td>monochrome-matrix.png</td>\n      <td>D:\\MAME Games\\mame0238b_64bit\\artwork\\</td>\n      <td>33047</td>\n      <td>2021/12/18 下午 05:46:34</td>\n      <td>2021/11/24 上午 03:40:53</td>\n    </tr>\n    <tr>\n      <th>7289</th>\n      <td>D:\\MAME Games</td>\n      <td>2881</td>\n      <td>.png</td>\n      <td>D:</td>\n      <td>MAME Games</td>\n      <td>mame0238b_64bit\\artwork\\</td>\n      <td>artwork</td>\n      <td>scanlines.png</td>\n      <td>D:\\MAME Games\\mame0238b_64bit\\artwork\\</td>\n      <td>296</td>\n      <td>2021/12/18 下午 05:46:34</td>\n      <td>2021/11/24 上午 03:40:53</td>\n    </tr>\n    <tr>\n      <th>7291</th>\n      <td>D:\\MAME Games</td>\n      <td>2882</td>\n      <td>.png</td>\n      <td>D:</td>\n      <td>MAME Games</td>\n      <td>mame0238b_64bit\\artwork\\</td>\n      <td>artwork</td>\n      <td>shadow-mask.png</td>\n      <td>D:\\MAME Games\\mame0238b_64bit\\artwork\\</td>\n      <td>20397</td>\n      <td>2021/12/18 下午 05:46:34</td>\n      <td>2021/11/24 上午 03:40:53</td>\n    </tr>\n    <tr>\n      <th>7293</th>\n      <td>D:\\MAME Games</td>\n      <td>2883</td>\n      <td>.png</td>\n      <td>D:</td>\n      <td>MAME Games</td>\n      <td>mame0238b_64bit\\artwork\\</td>\n      <td>artwork</td>\n      <td>slot-mask-aligned.png</td>\n      <td>D:\\MAME Games\\mame0238b_64bit\\artwork\\</td>\n      <td>26638</td>\n      <td>2021/12/18 下午 05:46:34</td>\n      <td>2021/11/24 上午 03:40:53</td>\n    </tr>\n    <tr>\n      <th>7295</th>\n      <td>D:\\MAME Games</td>\n      <td>2884</td>\n      <td>.png</td>\n      <td>D:</td>\n      <td>MAME Games</td>\n      <td>mame0238b_64bit\\artwork\\</td>\n      <td>artwork</td>\n      <td>slot-mask.png</td>\n      <td>D:\\MAME Games\\mame0238b_64bit\\artwork\\</td>\n      <td>19768</td>\n      <td>2021/12/18 下午 05:46:34</td>\n      <td>2021/11/24 上午 03:40:53</td>\n    </tr>\n    <tr>\n      <th>7297</th>\n      <td>D:\\MAME Games</td>\n      <td>2885</td>\n      <td>.png</td>\n      <td>D:</td>\n      <td>MAME Games</td>\n      <td>mame0238b_64bit\\artwork\\</td>\n      <td>artwork</td>\n      <td>white.png</td>\n      <td>D:\\MAME Games\\mame0238b_64bit\\artwork\\</td>\n      <td>122</td>\n      <td>2021/12/18 下午 05:46:34</td>\n      <td>2021/11/24 上午 03:40:53</td>\n    </tr>\n  </tbody>\n</table>\n</div>"
     },
     "execution_count": 14,
     "metadata": {},
     "output_type": "execute_result"
    }
   ],
   "source": [
    "target_df_gby = df.groupby('路徑').get_group(log_df.loc[1]['比較路徑'])\n",
    "target_df_gby"
   ],
   "metadata": {
    "collapsed": false,
    "pycharm": {
     "name": "#%%\n"
    }
   }
  },
  {
   "cell_type": "code",
   "execution_count": 55,
   "outputs": [
    {
     "data": {
      "text/plain": "             索引號  組別  檔案類型  檔案資料夾  大小  修改日期   組別_ 檔案類型_   檔案資料夾_  大小_  \\\n檔案名稱                                                                    \ndir (2).txt   16 NaN   NaN    NaN NaN   NaN  2878  .txt  artwork   26   \n\n                             修改日期_      _merge  \n檔案名稱                                            \ndir (2).txt  1998/10/4 上午 02:20:58  right_only  ",
      "text/html": "<div>\n<style scoped>\n    .dataframe tbody tr th:only-of-type {\n        vertical-align: middle;\n    }\n\n    .dataframe tbody tr th {\n        vertical-align: top;\n    }\n\n    .dataframe thead th {\n        text-align: right;\n    }\n</style>\n<table border=\"1\" class=\"dataframe\">\n  <thead>\n    <tr style=\"text-align: right;\">\n      <th></th>\n      <th>索引號</th>\n      <th>組別</th>\n      <th>檔案類型</th>\n      <th>檔案資料夾</th>\n      <th>大小</th>\n      <th>修改日期</th>\n      <th>組別_</th>\n      <th>檔案類型_</th>\n      <th>檔案資料夾_</th>\n      <th>大小_</th>\n      <th>修改日期_</th>\n      <th>_merge</th>\n    </tr>\n    <tr>\n      <th>檔案名稱</th>\n      <th></th>\n      <th></th>\n      <th></th>\n      <th></th>\n      <th></th>\n      <th></th>\n      <th></th>\n      <th></th>\n      <th></th>\n      <th></th>\n      <th></th>\n      <th></th>\n    </tr>\n  </thead>\n  <tbody>\n    <tr>\n      <th>dir (2).txt</th>\n      <td>16</td>\n      <td>NaN</td>\n      <td>NaN</td>\n      <td>NaN</td>\n      <td>NaN</td>\n      <td>NaN</td>\n      <td>2878</td>\n      <td>.txt</td>\n      <td>artwork</td>\n      <td>26</td>\n      <td>1998/10/4 上午 02:20:58</td>\n      <td>right_only</td>\n    </tr>\n  </tbody>\n</table>\n</div>"
     },
     "execution_count": 55,
     "metadata": {},
     "output_type": "execute_result"
    }
   ],
   "source": [
    "compare_result = pd.read_csv('E:/.developing_env/duplicated_files/group_by/compare_result/1.csv')\n",
    "compare_result.rename(columns={'Unnamed: 0':'索引號'}, inplace=True)\n",
    "compare_result.set_index('檔案名稱', inplace=True)\n",
    "group_compare = compare_result.groupby('_merge')\n",
    "compare_result"
   ],
   "metadata": {
    "collapsed": false,
    "pycharm": {
     "name": "#%%\n"
    }
   }
  },
  {
   "cell_type": "code",
   "execution_count": 57,
   "outputs": [
    {
     "data": {
      "text/plain": "              組別_ 檔案類型_   檔案資料夾_  大小_                  修改日期_\n檔案名稱                                                        \ndir (2).txt  2878  .txt  artwork   26  1998/10/4 上午 02:20:58",
      "text/html": "<div>\n<style scoped>\n    .dataframe tbody tr th:only-of-type {\n        vertical-align: middle;\n    }\n\n    .dataframe tbody tr th {\n        vertical-align: top;\n    }\n\n    .dataframe thead th {\n        text-align: right;\n    }\n</style>\n<table border=\"1\" class=\"dataframe\">\n  <thead>\n    <tr style=\"text-align: right;\">\n      <th></th>\n      <th>組別_</th>\n      <th>檔案類型_</th>\n      <th>檔案資料夾_</th>\n      <th>大小_</th>\n      <th>修改日期_</th>\n    </tr>\n    <tr>\n      <th>檔案名稱</th>\n      <th></th>\n      <th></th>\n      <th></th>\n      <th></th>\n      <th></th>\n    </tr>\n  </thead>\n  <tbody>\n    <tr>\n      <th>dir (2).txt</th>\n      <td>2878</td>\n      <td>.txt</td>\n      <td>artwork</td>\n      <td>26</td>\n      <td>1998/10/4 上午 02:20:58</td>\n    </tr>\n  </tbody>\n</table>\n</div>"
     },
     "execution_count": 57,
     "metadata": {},
     "output_type": "execute_result"
    }
   ],
   "source": [
    "for filter_name in group_compare.groups.keys():\n",
    "    get_frame = group_compare.get_group(filter_name)[filter_columns[filter_name]]\n",
    "get_frame"
   ],
   "metadata": {
    "collapsed": false,
    "pycharm": {
     "name": "#%%\n"
    }
   }
  },
  {
   "cell_type": "code",
   "execution_count": 58,
   "outputs": [
    {
     "data": {
      "text/plain": "Index(['組別_', '檔案類型_', '檔案資料夾_', '大小_', '修改日期_'], dtype='object')"
     },
     "execution_count": 58,
     "metadata": {},
     "output_type": "execute_result"
    }
   ],
   "source": [
    "get_frame.columns"
   ],
   "metadata": {
    "collapsed": false,
    "pycharm": {
     "name": "#%%\n"
    }
   }
  },
  {
   "cell_type": "code",
   "execution_count": 60,
   "outputs": [],
   "source": [
    "get_frame.columns = [column.rstrip('_') for column in get_frame.columns]"
   ],
   "metadata": {
    "collapsed": false,
    "pycharm": {
     "name": "#%%\n"
    }
   }
  },
  {
   "cell_type": "code",
   "execution_count": 61,
   "outputs": [
    {
     "data": {
      "text/plain": "               組別  檔案類型    檔案資料夾  大小                   修改日期\n檔案名稱                                                       \ndir (2).txt  2878  .txt  artwork  26  1998/10/4 上午 02:20:58",
      "text/html": "<div>\n<style scoped>\n    .dataframe tbody tr th:only-of-type {\n        vertical-align: middle;\n    }\n\n    .dataframe tbody tr th {\n        vertical-align: top;\n    }\n\n    .dataframe thead th {\n        text-align: right;\n    }\n</style>\n<table border=\"1\" class=\"dataframe\">\n  <thead>\n    <tr style=\"text-align: right;\">\n      <th></th>\n      <th>組別</th>\n      <th>檔案類型</th>\n      <th>檔案資料夾</th>\n      <th>大小</th>\n      <th>修改日期</th>\n    </tr>\n    <tr>\n      <th>檔案名稱</th>\n      <th></th>\n      <th></th>\n      <th></th>\n      <th></th>\n      <th></th>\n    </tr>\n  </thead>\n  <tbody>\n    <tr>\n      <th>dir (2).txt</th>\n      <td>2878</td>\n      <td>.txt</td>\n      <td>artwork</td>\n      <td>26</td>\n      <td>1998/10/4 上午 02:20:58</td>\n    </tr>\n  </tbody>\n</table>\n</div>"
     },
     "execution_count": 61,
     "metadata": {},
     "output_type": "execute_result"
    }
   ],
   "source": [
    "get_frame"
   ],
   "metadata": {
    "collapsed": false,
    "pycharm": {
     "name": "#%%\n"
    }
   }
  },
  {
   "cell_type": "code",
   "execution_count": 67,
   "outputs": [
    {
     "data": {
      "text/plain": "2878"
     },
     "execution_count": 67,
     "metadata": {},
     "output_type": "execute_result"
    }
   ],
   "source": [],
   "metadata": {
    "collapsed": false,
    "pycharm": {
     "name": "#%%\n"
    }
   }
  },
  {
   "cell_type": "code",
   "execution_count": 70,
   "outputs": [],
   "source": [
    "isolated_frame = df[df['組別'] == list(set((get_frame['組別'].unique())))[0]].set_index('組別').copy()"
   ],
   "metadata": {
    "collapsed": false,
    "pycharm": {
     "name": "#%%\n"
    }
   }
  },
  {
   "cell_type": "code",
   "execution_count": 71,
   "outputs": [
    {
     "data": {
      "text/plain": "             磁碟機根目錄  檔案類型 磁碟機         根目錄                       子目錄    檔案資料夾  \\\n組別                                                                             \n2878  D:\\MAME Games  .txt  D:  MAME Games                  artwork\\  artwork   \n2878  D:\\MAME Games  .txt  D:  MAME Games  mame0238b_64bit\\artwork\\  artwork   \n2878  D:\\MAME Games  .txt  D:  MAME Games  mame0238b_64bit\\artwork\\  artwork   \n\n             檔案名稱                                      路徑  大小  \\\n組別                                                              \n2878      dir.txt                  D:\\MAME Games\\artwork\\  26   \n2878  dir (2).txt  D:\\MAME Games\\mame0238b_64bit\\artwork\\  26   \n2878      dir.txt  D:\\MAME Games\\mame0238b_64bit\\artwork\\  26   \n\n                        新增日期                    修改日期  \n組別                                                    \n2878  2021/12/18 下午 05:23:42   2020/5/19 上午 11:11:59  \n2878  2021/12/18 下午 05:24:21   1998/10/4 上午 02:20:58  \n2878  2021/12/18 下午 05:46:34  2021/11/24 上午 03:40:53  ",
      "text/html": "<div>\n<style scoped>\n    .dataframe tbody tr th:only-of-type {\n        vertical-align: middle;\n    }\n\n    .dataframe tbody tr th {\n        vertical-align: top;\n    }\n\n    .dataframe thead th {\n        text-align: right;\n    }\n</style>\n<table border=\"1\" class=\"dataframe\">\n  <thead>\n    <tr style=\"text-align: right;\">\n      <th></th>\n      <th>磁碟機根目錄</th>\n      <th>檔案類型</th>\n      <th>磁碟機</th>\n      <th>根目錄</th>\n      <th>子目錄</th>\n      <th>檔案資料夾</th>\n      <th>檔案名稱</th>\n      <th>路徑</th>\n      <th>大小</th>\n      <th>新增日期</th>\n      <th>修改日期</th>\n    </tr>\n    <tr>\n      <th>組別</th>\n      <th></th>\n      <th></th>\n      <th></th>\n      <th></th>\n      <th></th>\n      <th></th>\n      <th></th>\n      <th></th>\n      <th></th>\n      <th></th>\n      <th></th>\n    </tr>\n  </thead>\n  <tbody>\n    <tr>\n      <th>2878</th>\n      <td>D:\\MAME Games</td>\n      <td>.txt</td>\n      <td>D:</td>\n      <td>MAME Games</td>\n      <td>artwork\\</td>\n      <td>artwork</td>\n      <td>dir.txt</td>\n      <td>D:\\MAME Games\\artwork\\</td>\n      <td>26</td>\n      <td>2021/12/18 下午 05:23:42</td>\n      <td>2020/5/19 上午 11:11:59</td>\n    </tr>\n    <tr>\n      <th>2878</th>\n      <td>D:\\MAME Games</td>\n      <td>.txt</td>\n      <td>D:</td>\n      <td>MAME Games</td>\n      <td>mame0238b_64bit\\artwork\\</td>\n      <td>artwork</td>\n      <td>dir (2).txt</td>\n      <td>D:\\MAME Games\\mame0238b_64bit\\artwork\\</td>\n      <td>26</td>\n      <td>2021/12/18 下午 05:24:21</td>\n      <td>1998/10/4 上午 02:20:58</td>\n    </tr>\n    <tr>\n      <th>2878</th>\n      <td>D:\\MAME Games</td>\n      <td>.txt</td>\n      <td>D:</td>\n      <td>MAME Games</td>\n      <td>mame0238b_64bit\\artwork\\</td>\n      <td>artwork</td>\n      <td>dir.txt</td>\n      <td>D:\\MAME Games\\mame0238b_64bit\\artwork\\</td>\n      <td>26</td>\n      <td>2021/12/18 下午 05:46:34</td>\n      <td>2021/11/24 上午 03:40:53</td>\n    </tr>\n  </tbody>\n</table>\n</div>"
     },
     "execution_count": 71,
     "metadata": {},
     "output_type": "execute_result"
    }
   ],
   "source": [
    "isolated_frame"
   ],
   "metadata": {
    "collapsed": false,
    "pycharm": {
     "name": "#%%\n"
    }
   }
  },
  {
   "cell_type": "code",
   "execution_count": 72,
   "outputs": [],
   "source": [
    "rename_columns = {\n",
    "    'left_only': '來源路徑',\n",
    "    'right_only': '比較路徑',\n",
    "}"
   ],
   "metadata": {
    "collapsed": false,
    "pycharm": {
     "name": "#%%\n"
    }
   }
  },
  {
   "cell_type": "code",
   "execution_count": 74,
   "outputs": [
    {
     "data": {
      "text/plain": "'比較路徑'"
     },
     "execution_count": 74,
     "metadata": {},
     "output_type": "execute_result"
    }
   ],
   "source": [
    "rename_columns[filter_name]"
   ],
   "metadata": {
    "collapsed": false,
    "pycharm": {
     "name": "#%%\n"
    }
   }
  },
  {
   "cell_type": "code",
   "execution_count": null,
   "outputs": [],
   "source": [
    "rename_columns[]"
   ],
   "metadata": {
    "collapsed": false,
    "pycharm": {
     "name": "#%%\n"
    }
   }
  },
  {
   "cell_type": "code",
   "execution_count": 75,
   "outputs": [],
   "source": [
    "isolated_frame['來源路徑'] = log_df.loc[1]['來源路徑']"
   ],
   "metadata": {
    "collapsed": false,
    "pycharm": {
     "name": "#%%\n"
    }
   }
  },
  {
   "cell_type": "code",
   "execution_count": 76,
   "outputs": [],
   "source": [
    "isolated_frame['比較路徑'] = log_df.loc[1]['比較路徑']"
   ],
   "metadata": {
    "collapsed": false,
    "pycharm": {
     "name": "#%%\n"
    }
   }
  },
  {
   "cell_type": "code",
   "execution_count": 87,
   "outputs": [],
   "source": [
    "isolated_frame['差異檔案'] = ','.join(get_frame.index.to_list())"
   ],
   "metadata": {
    "collapsed": false,
    "pycharm": {
     "name": "#%%\n"
    }
   }
  },
  {
   "cell_type": "code",
   "execution_count": 88,
   "outputs": [
    {
     "data": {
      "text/plain": "             磁碟機根目錄  檔案類型 磁碟機         根目錄                       子目錄    檔案資料夾  \\\n組別                                                                             \n2878  D:\\MAME Games  .txt  D:  MAME Games                  artwork\\  artwork   \n2878  D:\\MAME Games  .txt  D:  MAME Games  mame0238b_64bit\\artwork\\  artwork   \n2878  D:\\MAME Games  .txt  D:  MAME Games  mame0238b_64bit\\artwork\\  artwork   \n\n             檔案名稱                                      路徑  大小  \\\n組別                                                              \n2878      dir.txt                  D:\\MAME Games\\artwork\\  26   \n2878  dir (2).txt  D:\\MAME Games\\mame0238b_64bit\\artwork\\  26   \n2878      dir.txt  D:\\MAME Games\\mame0238b_64bit\\artwork\\  26   \n\n                        新增日期                    修改日期                    來源路徑  \\\n組別                                                                             \n2878  2021/12/18 下午 05:23:42   2020/5/19 上午 11:11:59  D:\\MAME Games\\artwork\\   \n2878  2021/12/18 下午 05:24:21   1998/10/4 上午 02:20:58  D:\\MAME Games\\artwork\\   \n2878  2021/12/18 下午 05:46:34  2021/11/24 上午 03:40:53  D:\\MAME Games\\artwork\\   \n\n                                        比較路徑         差異檔案  \n組別                                                         \n2878  D:\\MAME Games\\mame0238b_64bit\\artwork\\  dir (2).txt  \n2878  D:\\MAME Games\\mame0238b_64bit\\artwork\\  dir (2).txt  \n2878  D:\\MAME Games\\mame0238b_64bit\\artwork\\  dir (2).txt  ",
      "text/html": "<div>\n<style scoped>\n    .dataframe tbody tr th:only-of-type {\n        vertical-align: middle;\n    }\n\n    .dataframe tbody tr th {\n        vertical-align: top;\n    }\n\n    .dataframe thead th {\n        text-align: right;\n    }\n</style>\n<table border=\"1\" class=\"dataframe\">\n  <thead>\n    <tr style=\"text-align: right;\">\n      <th></th>\n      <th>磁碟機根目錄</th>\n      <th>檔案類型</th>\n      <th>磁碟機</th>\n      <th>根目錄</th>\n      <th>子目錄</th>\n      <th>檔案資料夾</th>\n      <th>檔案名稱</th>\n      <th>路徑</th>\n      <th>大小</th>\n      <th>新增日期</th>\n      <th>修改日期</th>\n      <th>來源路徑</th>\n      <th>比較路徑</th>\n      <th>差異檔案</th>\n    </tr>\n    <tr>\n      <th>組別</th>\n      <th></th>\n      <th></th>\n      <th></th>\n      <th></th>\n      <th></th>\n      <th></th>\n      <th></th>\n      <th></th>\n      <th></th>\n      <th></th>\n      <th></th>\n      <th></th>\n      <th></th>\n      <th></th>\n    </tr>\n  </thead>\n  <tbody>\n    <tr>\n      <th>2878</th>\n      <td>D:\\MAME Games</td>\n      <td>.txt</td>\n      <td>D:</td>\n      <td>MAME Games</td>\n      <td>artwork\\</td>\n      <td>artwork</td>\n      <td>dir.txt</td>\n      <td>D:\\MAME Games\\artwork\\</td>\n      <td>26</td>\n      <td>2021/12/18 下午 05:23:42</td>\n      <td>2020/5/19 上午 11:11:59</td>\n      <td>D:\\MAME Games\\artwork\\</td>\n      <td>D:\\MAME Games\\mame0238b_64bit\\artwork\\</td>\n      <td>dir (2).txt</td>\n    </tr>\n    <tr>\n      <th>2878</th>\n      <td>D:\\MAME Games</td>\n      <td>.txt</td>\n      <td>D:</td>\n      <td>MAME Games</td>\n      <td>mame0238b_64bit\\artwork\\</td>\n      <td>artwork</td>\n      <td>dir (2).txt</td>\n      <td>D:\\MAME Games\\mame0238b_64bit\\artwork\\</td>\n      <td>26</td>\n      <td>2021/12/18 下午 05:24:21</td>\n      <td>1998/10/4 上午 02:20:58</td>\n      <td>D:\\MAME Games\\artwork\\</td>\n      <td>D:\\MAME Games\\mame0238b_64bit\\artwork\\</td>\n      <td>dir (2).txt</td>\n    </tr>\n    <tr>\n      <th>2878</th>\n      <td>D:\\MAME Games</td>\n      <td>.txt</td>\n      <td>D:</td>\n      <td>MAME Games</td>\n      <td>mame0238b_64bit\\artwork\\</td>\n      <td>artwork</td>\n      <td>dir.txt</td>\n      <td>D:\\MAME Games\\mame0238b_64bit\\artwork\\</td>\n      <td>26</td>\n      <td>2021/12/18 下午 05:46:34</td>\n      <td>2021/11/24 上午 03:40:53</td>\n      <td>D:\\MAME Games\\artwork\\</td>\n      <td>D:\\MAME Games\\mame0238b_64bit\\artwork\\</td>\n      <td>dir (2).txt</td>\n    </tr>\n  </tbody>\n</table>\n</div>"
     },
     "execution_count": 88,
     "metadata": {},
     "output_type": "execute_result"
    }
   ],
   "source": [
    "isolated_frame"
   ],
   "metadata": {
    "collapsed": false,
    "pycharm": {
     "name": "#%%\n"
    }
   }
  },
  {
   "cell_type": "code",
   "execution_count": 86,
   "outputs": [
    {
     "data": {
      "text/plain": "'dir (2).txt'"
     },
     "execution_count": 86,
     "metadata": {},
     "output_type": "execute_result"
    }
   ],
   "source": [
    "','.join(get_frame.index.to_list())"
   ],
   "metadata": {
    "collapsed": false,
    "pycharm": {
     "name": "#%%\n"
    }
   }
  },
  {
   "cell_type": "code",
   "execution_count": 93,
   "outputs": [
    {
     "data": {
      "text/plain": "檔案名稱\ndir (2).txt    16\nName: 索引號, dtype: int64"
     },
     "execution_count": 93,
     "metadata": {},
     "output_type": "execute_result"
    }
   ],
   "source": [
    "compare_result['索引號']"
   ],
   "metadata": {
    "collapsed": false,
    "pycharm": {
     "name": "#%%\n"
    }
   }
  },
  {
   "cell_type": "code",
   "execution_count": 92,
   "outputs": [
    {
     "data": {
      "text/plain": "             索引號  組別  檔案類型  檔案資料夾  大小  修改日期   組別_ 檔案類型_   檔案資料夾_  大小_  \\\n檔案名稱                                                                    \ndir (2).txt   16 NaN   NaN    NaN NaN   NaN  2878  .txt  artwork   26   \n\n                             修改日期_      _merge  \n檔案名稱                                            \ndir (2).txt  1998/10/4 上午 02:20:58  right_only  ",
      "text/html": "<div>\n<style scoped>\n    .dataframe tbody tr th:only-of-type {\n        vertical-align: middle;\n    }\n\n    .dataframe tbody tr th {\n        vertical-align: top;\n    }\n\n    .dataframe thead th {\n        text-align: right;\n    }\n</style>\n<table border=\"1\" class=\"dataframe\">\n  <thead>\n    <tr style=\"text-align: right;\">\n      <th></th>\n      <th>索引號</th>\n      <th>組別</th>\n      <th>檔案類型</th>\n      <th>檔案資料夾</th>\n      <th>大小</th>\n      <th>修改日期</th>\n      <th>組別_</th>\n      <th>檔案類型_</th>\n      <th>檔案資料夾_</th>\n      <th>大小_</th>\n      <th>修改日期_</th>\n      <th>_merge</th>\n    </tr>\n    <tr>\n      <th>檔案名稱</th>\n      <th></th>\n      <th></th>\n      <th></th>\n      <th></th>\n      <th></th>\n      <th></th>\n      <th></th>\n      <th></th>\n      <th></th>\n      <th></th>\n      <th></th>\n      <th></th>\n    </tr>\n  </thead>\n  <tbody>\n    <tr>\n      <th>dir (2).txt</th>\n      <td>16</td>\n      <td>NaN</td>\n      <td>NaN</td>\n      <td>NaN</td>\n      <td>NaN</td>\n      <td>NaN</td>\n      <td>2878</td>\n      <td>.txt</td>\n      <td>artwork</td>\n      <td>26</td>\n      <td>1998/10/4 上午 02:20:58</td>\n      <td>right_only</td>\n    </tr>\n  </tbody>\n</table>\n</div>"
     },
     "execution_count": 92,
     "metadata": {},
     "output_type": "execute_result"
    }
   ],
   "source": [
    "compare_result"
   ],
   "metadata": {
    "collapsed": false,
    "pycharm": {
     "name": "#%%\n"
    }
   }
  },
  {
   "cell_type": "code",
   "execution_count": null,
   "outputs": [],
   "source": [],
   "metadata": {
    "collapsed": false,
    "pycharm": {
     "name": "#%%\n"
    }
   }
  }
 ],
 "metadata": {
  "kernelspec": {
   "display_name": "Python 3",
   "language": "python",
   "name": "python3"
  },
  "language_info": {
   "codemirror_mode": {
    "name": "ipython",
    "version": 2
   },
   "file_extension": ".py",
   "mimetype": "text/x-python",
   "name": "python",
   "nbconvert_exporter": "python",
   "pygments_lexer": "ipython2",
   "version": "2.7.6"
  }
 },
 "nbformat": 4,
 "nbformat_minor": 0
}