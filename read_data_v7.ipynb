{
 "cells": [
  {
   "cell_type": "code",
   "execution_count": 1,
   "metadata": {
    "collapsed": true
   },
   "outputs": [],
   "source": [
    "import pandas as pd\n",
    "import csv\n",
    "import os\n",
    "import re"
   ]
  },
  {
   "cell_type": "code",
   "execution_count": 2,
   "outputs": [],
   "source": [
    "filter_columns = {\n",
    "    'left_only': ['組別_', '檔案類型_', '檔案資料夾_', '大小_', '修改日期_'],\n",
    "    'right_only': ['組別_', '檔案類型_', '檔案資料夾_', '大小_', '修改日期_'],\n",
    "}"
   ],
   "metadata": {
    "collapsed": false,
    "pycharm": {
     "name": "#%%\n"
    }
   }
  },
  {
   "cell_type": "code",
   "execution_count": 3,
   "outputs": [],
   "source": [
    "rename_columns = {\n",
    "    'left_only': '來源路徑',\n",
    "    'right_only': '比較路徑',\n",
    "}"
   ],
   "metadata": {
    "collapsed": false,
    "pycharm": {
     "name": "#%%\n"
    }
   }
  },
  {
   "cell_type": "code",
   "execution_count": 4,
   "outputs": [
    {
     "data": {
      "text/plain": "                                         檔案資料夾  \\\n結果                                               \n1                                      artwork   \n2                                          cfg   \n3                                       chains   \n4                                       chains   \n5                                     crt-geom   \n...                                        ...   \n21600                                     下載書籍   \n21601                          不再聽不懂 圖解網站建置與開發   \n21602  讓響應式 (RWD) 網頁設計變簡單 Bootstrap 開發速成 (第二版)   \n21603                                      資料庫   \n21604                                      資料庫   \n\n                                                    來源路徑  \\\n結果                                                         \n1                                 D:\\MAME Games\\artwork\\   \n2                                     D:\\MAME Games\\cfg\\   \n3                     D:\\MAME Games\\artwork\\bgfx\\chains\\   \n4                     D:\\MAME Games\\artwork\\bgfx\\chains\\   \n5       D:\\MAME Games\\bgfx\\shaders\\dx11\\chains\\crt-geom\\   \n...                                                  ...   \n21600                                 D:\\_下載的文件待歸類\\下載書籍\\   \n21601  D:\\_eBooks 電子書 Java+JS+HTML+CSS+RWD+Node\\不再聽不懂...   \n21602  D:\\_eBooks 電子書 Java+JS+HTML+CSS+RWD+Node\\讓響應式 ...   \n21603  D:\\_eBooks 電子書 Java+JS+HTML+CSS+RWD+Node\\Java ...   \n21604  D:\\_eBooks 電子書 Java+JS+HTML+CSS+RWD+Node\\Java ...   \n\n                                                    比較路徑  次數  來源長度  比較長度  \n結果                                                                        \n1                 D:\\MAME Games\\mame0238b_64bit\\artwork\\   1    16    17  \n2                     D:\\MAME Games\\mame0238b_64bit\\cfg\\   1     1     3  \n3                             D:\\MAME Games\\bgfx\\chains\\   1     3     2  \n4             D:\\MAME Games\\mame0238b_64bit\\bgfx\\chains\\   3     3     2  \n5      D:\\MAME Games\\mame0238b_64bit\\bgfx\\shaders\\dx1...   6     2     3  \n...                                                  ...  ..   ...   ...  \n21600                                    Z:\\新增書籍文件\\下載書籍\\   1     2     5  \n21601                    Z:\\新增書籍文件\\資訊書籍\\不再聽不懂 圖解網站建置與開發\\   1     3     2  \n21602  Z:\\新增書籍文件\\資訊書籍\\讓響應式 (RWD) 網頁設計變簡單 Bootstrap 開發...   1     4     3  \n21603  D:\\_eBooks 電子書 Java+JS+HTML+CSS+RWD+Node\\Java ...   3     1     2  \n21604  Z:\\資訊書籍文件\\Java  王者歸來 Struts2+Spring+Hibernate框...   7     1     2  \n\n[21604 rows x 6 columns]",
      "text/html": "<div>\n<style scoped>\n    .dataframe tbody tr th:only-of-type {\n        vertical-align: middle;\n    }\n\n    .dataframe tbody tr th {\n        vertical-align: top;\n    }\n\n    .dataframe thead th {\n        text-align: right;\n    }\n</style>\n<table border=\"1\" class=\"dataframe\">\n  <thead>\n    <tr style=\"text-align: right;\">\n      <th></th>\n      <th>檔案資料夾</th>\n      <th>來源路徑</th>\n      <th>比較路徑</th>\n      <th>次數</th>\n      <th>來源長度</th>\n      <th>比較長度</th>\n    </tr>\n    <tr>\n      <th>結果</th>\n      <th></th>\n      <th></th>\n      <th></th>\n      <th></th>\n      <th></th>\n      <th></th>\n    </tr>\n  </thead>\n  <tbody>\n    <tr>\n      <th>1</th>\n      <td>artwork</td>\n      <td>D:\\MAME Games\\artwork\\</td>\n      <td>D:\\MAME Games\\mame0238b_64bit\\artwork\\</td>\n      <td>1</td>\n      <td>16</td>\n      <td>17</td>\n    </tr>\n    <tr>\n      <th>2</th>\n      <td>cfg</td>\n      <td>D:\\MAME Games\\cfg\\</td>\n      <td>D:\\MAME Games\\mame0238b_64bit\\cfg\\</td>\n      <td>1</td>\n      <td>1</td>\n      <td>3</td>\n    </tr>\n    <tr>\n      <th>3</th>\n      <td>chains</td>\n      <td>D:\\MAME Games\\artwork\\bgfx\\chains\\</td>\n      <td>D:\\MAME Games\\bgfx\\chains\\</td>\n      <td>1</td>\n      <td>3</td>\n      <td>2</td>\n    </tr>\n    <tr>\n      <th>4</th>\n      <td>chains</td>\n      <td>D:\\MAME Games\\artwork\\bgfx\\chains\\</td>\n      <td>D:\\MAME Games\\mame0238b_64bit\\bgfx\\chains\\</td>\n      <td>3</td>\n      <td>3</td>\n      <td>2</td>\n    </tr>\n    <tr>\n      <th>5</th>\n      <td>crt-geom</td>\n      <td>D:\\MAME Games\\bgfx\\shaders\\dx11\\chains\\crt-geom\\</td>\n      <td>D:\\MAME Games\\mame0238b_64bit\\bgfx\\shaders\\dx1...</td>\n      <td>6</td>\n      <td>2</td>\n      <td>3</td>\n    </tr>\n    <tr>\n      <th>...</th>\n      <td>...</td>\n      <td>...</td>\n      <td>...</td>\n      <td>...</td>\n      <td>...</td>\n      <td>...</td>\n    </tr>\n    <tr>\n      <th>21600</th>\n      <td>下載書籍</td>\n      <td>D:\\_下載的文件待歸類\\下載書籍\\</td>\n      <td>Z:\\新增書籍文件\\下載書籍\\</td>\n      <td>1</td>\n      <td>2</td>\n      <td>5</td>\n    </tr>\n    <tr>\n      <th>21601</th>\n      <td>不再聽不懂 圖解網站建置與開發</td>\n      <td>D:\\_eBooks 電子書 Java+JS+HTML+CSS+RWD+Node\\不再聽不懂...</td>\n      <td>Z:\\新增書籍文件\\資訊書籍\\不再聽不懂 圖解網站建置與開發\\</td>\n      <td>1</td>\n      <td>3</td>\n      <td>2</td>\n    </tr>\n    <tr>\n      <th>21602</th>\n      <td>讓響應式 (RWD) 網頁設計變簡單 Bootstrap 開發速成 (第二版)</td>\n      <td>D:\\_eBooks 電子書 Java+JS+HTML+CSS+RWD+Node\\讓響應式 ...</td>\n      <td>Z:\\新增書籍文件\\資訊書籍\\讓響應式 (RWD) 網頁設計變簡單 Bootstrap 開發...</td>\n      <td>1</td>\n      <td>4</td>\n      <td>3</td>\n    </tr>\n    <tr>\n      <th>21603</th>\n      <td>資料庫</td>\n      <td>D:\\_eBooks 電子書 Java+JS+HTML+CSS+RWD+Node\\Java ...</td>\n      <td>D:\\_eBooks 電子書 Java+JS+HTML+CSS+RWD+Node\\Java ...</td>\n      <td>3</td>\n      <td>1</td>\n      <td>2</td>\n    </tr>\n    <tr>\n      <th>21604</th>\n      <td>資料庫</td>\n      <td>D:\\_eBooks 電子書 Java+JS+HTML+CSS+RWD+Node\\Java ...</td>\n      <td>Z:\\資訊書籍文件\\Java  王者歸來 Struts2+Spring+Hibernate框...</td>\n      <td>7</td>\n      <td>1</td>\n      <td>2</td>\n    </tr>\n  </tbody>\n</table>\n<p>21604 rows × 6 columns</p>\n</div>"
     },
     "execution_count": 4,
     "metadata": {},
     "output_type": "execute_result"
    }
   ],
   "source": [
    "log_df = pd.read_csv('E:/.developing_env/duplicated_files/group_by/.backup_comp/log_different.csv')\n",
    "log_df.drop(['備註', 'Unnamed: 0'], axis=1, inplace=True)\n",
    "log_df.set_index('結果', drop=True, inplace=True)\n",
    "log_df"
   ],
   "metadata": {
    "collapsed": false,
    "pycharm": {
     "name": "#%%\n"
    }
   }
  },
  {
   "cell_type": "code",
   "execution_count": 5,
   "outputs": [
    {
     "data": {
      "text/plain": "                                  磁碟機根目錄      組別      檔案類型 磁碟機  \\\n0       Z:\\8分鐘搞懂理財知識_新手教室 Youtube 投資影片教學       1      .mp4  Z:   \n1                     Z:\\8分鐘搞懂理財知識_重新整理過       1      .mp4  Z:   \n2                      Z:\\Youtube 投資影片教學       1      .mp4  Z:   \n3                           D:\\8分鐘搞懂理財知識       1      .mp4  D:   \n4                           D:\\8分鐘搞懂理財知識       1      .mp4  D:   \n...                                  ...     ...       ...  ..   \n468164                         Z:\\資訊書籍文件  167210    .props  Z:   \n468165                         Z:\\資訊書籍文件  167210    .props  Z:   \n468166                         Z:\\資訊書籍文件  167210    .props  Z:   \n468167                         Z:\\資訊書籍文件  167211  .strings  Z:   \n468168                         Z:\\資訊書籍文件  167211  .strings  Z:   \n\n                                  根目錄  \\\n0       8分鐘搞懂理財知識_新手教室 Youtube 投資影片教學   \n1                     8分鐘搞懂理財知識_重新整理過   \n2                      Youtube 投資影片教學   \n3                           8分鐘搞懂理財知識   \n4                           8分鐘搞懂理財知識   \n...                               ...   \n468164                         資訊書籍文件   \n468165                         資訊書籍文件   \n468166                         資訊書籍文件   \n468167                         資訊書籍文件   \n468168                         資訊書籍文件   \n\n                                                      子目錄  \\\n0                                                     NaN   \n1                                                     NaN   \n2                                                     NaN   \n3                     _8分鐘搞懂理財知識_原來的 新手教室 Youtube 投資影片教學\\   \n4                              _8分鐘搞懂理財知識_整理的 Youtube 影片\\   \n...                                                   ...   \n468164  Visual C# 一次就懂 ASP.NET MVC5.X 網站開發 Web 應用的經典實務...   \n468165  Visual C# 一次就懂 ASP.NET MVC5.X 網站開發 Web 應用的經典實務...   \n468166  Visual C# 一次就懂 ASP.NET MVC5.X 網站開發 Web 應用的經典實務...   \n468167  iOS 13 程式設計實戰 Swift 5.1SwiftUI 框架 快速上手的開發技巧 20...   \n468168  iOS 13 程式設計實戰 Swift 5.1SwiftUI 框架 快速上手的開發技巧 20...   \n\n                                     檔案資料夾  \\\n0            8分鐘搞懂理財知識_新手教室 Youtube 投資影片教學   \n1                          8分鐘搞懂理財知識_重新整理過   \n2                           Youtube 投資影片教學   \n3       _8分鐘搞懂理財知識_原來的 新手教室 Youtube 投資影片教學   \n4                _8分鐘搞懂理財知識_整理的 Youtube 影片   \n...                                    ...   \n468164                               net46   \n468165                               net45   \n468166                               net46   \n468167                       zh-Hant.lproj   \n468168                       zh-Hant.lproj   \n\n                                                     檔案名稱  \\\n0                      8分鐘搞懂技術分析：RSI的重要價值-WUwaMVSCDYY.mp4   \n1                  2015-08-25_2152_技術分析教學_快速搞懂RSI技術指標.mp4   \n2                      8分鐘搞懂技術分析：RSI的重要價值-WUwaMVSCDYY.mp4   \n3                      8分鐘搞懂技術分析：RSI的重要價值-WUwaMVSCDYY.mp4   \n4                  2015-08-25_2152_技術分析教學_快速搞懂RSI技術指標.mp4   \n...                                                   ...   \n468164  Microsoft.CodeDom.Providers.DotNetCompilerPlat...   \n468165  Microsoft.CodeDom.Providers.DotNetCompilerPlat...   \n468166  Microsoft.CodeDom.Providers.DotNetCompilerPlat...   \n468167                               LaunchScreen.strings   \n468168                               LaunchScreen.strings   \n\n                                                       路徑        大小  \\\n0                       Z:\\8分鐘搞懂理財知識_新手教室 Youtube 投資影片教學\\  25612876   \n1                                     Z:\\8分鐘搞懂理財知識_重新整理過\\  25612876   \n2                                      Z:\\Youtube 投資影片教學\\  25612876   \n3        D:\\8分鐘搞懂理財知識\\_8分鐘搞懂理財知識_原來的 新手教室 Youtube 投資影片教學\\  25612876   \n4                 D:\\8分鐘搞懂理財知識\\_8分鐘搞懂理財知識_整理的 Youtube 影片\\  25612876   \n...                                                   ...       ...   \n468164  Z:\\資訊書籍文件\\Visual C# 一次就懂 ASP.NET MVC5.X 網站開發 W...      5530   \n468165  Z:\\資訊書籍文件\\Visual C# 一次就懂 ASP.NET MVC5.X 網站開發 W...      5530   \n468166  Z:\\資訊書籍文件\\Visual C# 一次就懂 ASP.NET MVC5.X 網站開發 W...      5530   \n468167  Z:\\資訊書籍文件\\iOS 13 程式設計實戰 Swift 5.1SwiftUI 框架 快速...         1   \n468168  Z:\\資訊書籍文件\\iOS 13 程式設計實戰 Swift 5.1SwiftUI 框架 快速...         1   \n\n                         新增日期                    修改日期  \n0       2021/5/10 下午 05:08:28  2018/11/14 下午 02:12:09  \n1       2021/5/11 上午 03:06:53   2021/5/11 上午 02:58:44  \n2       2021/5/10 下午 04:04:52  2018/11/14 下午 02:12:09  \n3       2021/8/18 上午 02:37:16  2018/11/14 下午 02:12:09  \n4       2021/8/18 上午 02:38:06   2021/5/11 上午 02:58:44  \n...                       ...                     ...  \n468164   2020/3/7 下午 08:06:24   2018/5/24 上午 05:38:22  \n468165   2020/3/7 下午 08:09:52   2018/5/24 上午 05:38:22  \n468166   2020/3/7 下午 08:09:53   2018/5/24 上午 05:38:22  \n468167  2020/2/10 上午 07:58:08   2019/7/31 上午 07:20:26  \n468168  2020/2/10 上午 07:58:08   2019/7/31 上午 07:20:24  \n\n[468169 rows x 12 columns]",
      "text/html": "<div>\n<style scoped>\n    .dataframe tbody tr th:only-of-type {\n        vertical-align: middle;\n    }\n\n    .dataframe tbody tr th {\n        vertical-align: top;\n    }\n\n    .dataframe thead th {\n        text-align: right;\n    }\n</style>\n<table border=\"1\" class=\"dataframe\">\n  <thead>\n    <tr style=\"text-align: right;\">\n      <th></th>\n      <th>磁碟機根目錄</th>\n      <th>組別</th>\n      <th>檔案類型</th>\n      <th>磁碟機</th>\n      <th>根目錄</th>\n      <th>子目錄</th>\n      <th>檔案資料夾</th>\n      <th>檔案名稱</th>\n      <th>路徑</th>\n      <th>大小</th>\n      <th>新增日期</th>\n      <th>修改日期</th>\n    </tr>\n  </thead>\n  <tbody>\n    <tr>\n      <th>0</th>\n      <td>Z:\\8分鐘搞懂理財知識_新手教室 Youtube 投資影片教學</td>\n      <td>1</td>\n      <td>.mp4</td>\n      <td>Z:</td>\n      <td>8分鐘搞懂理財知識_新手教室 Youtube 投資影片教學</td>\n      <td>NaN</td>\n      <td>8分鐘搞懂理財知識_新手教室 Youtube 投資影片教學</td>\n      <td>8分鐘搞懂技術分析：RSI的重要價值-WUwaMVSCDYY.mp4</td>\n      <td>Z:\\8分鐘搞懂理財知識_新手教室 Youtube 投資影片教學\\</td>\n      <td>25612876</td>\n      <td>2021/5/10 下午 05:08:28</td>\n      <td>2018/11/14 下午 02:12:09</td>\n    </tr>\n    <tr>\n      <th>1</th>\n      <td>Z:\\8分鐘搞懂理財知識_重新整理過</td>\n      <td>1</td>\n      <td>.mp4</td>\n      <td>Z:</td>\n      <td>8分鐘搞懂理財知識_重新整理過</td>\n      <td>NaN</td>\n      <td>8分鐘搞懂理財知識_重新整理過</td>\n      <td>2015-08-25_2152_技術分析教學_快速搞懂RSI技術指標.mp4</td>\n      <td>Z:\\8分鐘搞懂理財知識_重新整理過\\</td>\n      <td>25612876</td>\n      <td>2021/5/11 上午 03:06:53</td>\n      <td>2021/5/11 上午 02:58:44</td>\n    </tr>\n    <tr>\n      <th>2</th>\n      <td>Z:\\Youtube 投資影片教學</td>\n      <td>1</td>\n      <td>.mp4</td>\n      <td>Z:</td>\n      <td>Youtube 投資影片教學</td>\n      <td>NaN</td>\n      <td>Youtube 投資影片教學</td>\n      <td>8分鐘搞懂技術分析：RSI的重要價值-WUwaMVSCDYY.mp4</td>\n      <td>Z:\\Youtube 投資影片教學\\</td>\n      <td>25612876</td>\n      <td>2021/5/10 下午 04:04:52</td>\n      <td>2018/11/14 下午 02:12:09</td>\n    </tr>\n    <tr>\n      <th>3</th>\n      <td>D:\\8分鐘搞懂理財知識</td>\n      <td>1</td>\n      <td>.mp4</td>\n      <td>D:</td>\n      <td>8分鐘搞懂理財知識</td>\n      <td>_8分鐘搞懂理財知識_原來的 新手教室 Youtube 投資影片教學\\</td>\n      <td>_8分鐘搞懂理財知識_原來的 新手教室 Youtube 投資影片教學</td>\n      <td>8分鐘搞懂技術分析：RSI的重要價值-WUwaMVSCDYY.mp4</td>\n      <td>D:\\8分鐘搞懂理財知識\\_8分鐘搞懂理財知識_原來的 新手教室 Youtube 投資影片教學\\</td>\n      <td>25612876</td>\n      <td>2021/8/18 上午 02:37:16</td>\n      <td>2018/11/14 下午 02:12:09</td>\n    </tr>\n    <tr>\n      <th>4</th>\n      <td>D:\\8分鐘搞懂理財知識</td>\n      <td>1</td>\n      <td>.mp4</td>\n      <td>D:</td>\n      <td>8分鐘搞懂理財知識</td>\n      <td>_8分鐘搞懂理財知識_整理的 Youtube 影片\\</td>\n      <td>_8分鐘搞懂理財知識_整理的 Youtube 影片</td>\n      <td>2015-08-25_2152_技術分析教學_快速搞懂RSI技術指標.mp4</td>\n      <td>D:\\8分鐘搞懂理財知識\\_8分鐘搞懂理財知識_整理的 Youtube 影片\\</td>\n      <td>25612876</td>\n      <td>2021/8/18 上午 02:38:06</td>\n      <td>2021/5/11 上午 02:58:44</td>\n    </tr>\n    <tr>\n      <th>...</th>\n      <td>...</td>\n      <td>...</td>\n      <td>...</td>\n      <td>...</td>\n      <td>...</td>\n      <td>...</td>\n      <td>...</td>\n      <td>...</td>\n      <td>...</td>\n      <td>...</td>\n      <td>...</td>\n      <td>...</td>\n    </tr>\n    <tr>\n      <th>468164</th>\n      <td>Z:\\資訊書籍文件</td>\n      <td>167210</td>\n      <td>.props</td>\n      <td>Z:</td>\n      <td>資訊書籍文件</td>\n      <td>Visual C# 一次就懂 ASP.NET MVC5.X 網站開發 Web 應用的經典實務...</td>\n      <td>net46</td>\n      <td>Microsoft.CodeDom.Providers.DotNetCompilerPlat...</td>\n      <td>Z:\\資訊書籍文件\\Visual C# 一次就懂 ASP.NET MVC5.X 網站開發 W...</td>\n      <td>5530</td>\n      <td>2020/3/7 下午 08:06:24</td>\n      <td>2018/5/24 上午 05:38:22</td>\n    </tr>\n    <tr>\n      <th>468165</th>\n      <td>Z:\\資訊書籍文件</td>\n      <td>167210</td>\n      <td>.props</td>\n      <td>Z:</td>\n      <td>資訊書籍文件</td>\n      <td>Visual C# 一次就懂 ASP.NET MVC5.X 網站開發 Web 應用的經典實務...</td>\n      <td>net45</td>\n      <td>Microsoft.CodeDom.Providers.DotNetCompilerPlat...</td>\n      <td>Z:\\資訊書籍文件\\Visual C# 一次就懂 ASP.NET MVC5.X 網站開發 W...</td>\n      <td>5530</td>\n      <td>2020/3/7 下午 08:09:52</td>\n      <td>2018/5/24 上午 05:38:22</td>\n    </tr>\n    <tr>\n      <th>468166</th>\n      <td>Z:\\資訊書籍文件</td>\n      <td>167210</td>\n      <td>.props</td>\n      <td>Z:</td>\n      <td>資訊書籍文件</td>\n      <td>Visual C# 一次就懂 ASP.NET MVC5.X 網站開發 Web 應用的經典實務...</td>\n      <td>net46</td>\n      <td>Microsoft.CodeDom.Providers.DotNetCompilerPlat...</td>\n      <td>Z:\\資訊書籍文件\\Visual C# 一次就懂 ASP.NET MVC5.X 網站開發 W...</td>\n      <td>5530</td>\n      <td>2020/3/7 下午 08:09:53</td>\n      <td>2018/5/24 上午 05:38:22</td>\n    </tr>\n    <tr>\n      <th>468167</th>\n      <td>Z:\\資訊書籍文件</td>\n      <td>167211</td>\n      <td>.strings</td>\n      <td>Z:</td>\n      <td>資訊書籍文件</td>\n      <td>iOS 13 程式設計實戰 Swift 5.1SwiftUI 框架 快速上手的開發技巧 20...</td>\n      <td>zh-Hant.lproj</td>\n      <td>LaunchScreen.strings</td>\n      <td>Z:\\資訊書籍文件\\iOS 13 程式設計實戰 Swift 5.1SwiftUI 框架 快速...</td>\n      <td>1</td>\n      <td>2020/2/10 上午 07:58:08</td>\n      <td>2019/7/31 上午 07:20:26</td>\n    </tr>\n    <tr>\n      <th>468168</th>\n      <td>Z:\\資訊書籍文件</td>\n      <td>167211</td>\n      <td>.strings</td>\n      <td>Z:</td>\n      <td>資訊書籍文件</td>\n      <td>iOS 13 程式設計實戰 Swift 5.1SwiftUI 框架 快速上手的開發技巧 20...</td>\n      <td>zh-Hant.lproj</td>\n      <td>LaunchScreen.strings</td>\n      <td>Z:\\資訊書籍文件\\iOS 13 程式設計實戰 Swift 5.1SwiftUI 框架 快速...</td>\n      <td>1</td>\n      <td>2020/2/10 上午 07:58:08</td>\n      <td>2019/7/31 上午 07:20:24</td>\n    </tr>\n  </tbody>\n</table>\n<p>468169 rows × 12 columns</p>\n</div>"
     },
     "execution_count": 5,
     "metadata": {},
     "output_type": "execute_result"
    }
   ],
   "source": [
    "df = pd.read_csv('df_index.csv')\n",
    "df"
   ],
   "metadata": {
    "collapsed": false,
    "pycharm": {
     "name": "#%%\n"
    }
   }
  },
  {
   "cell_type": "code",
   "execution_count": 6,
   "outputs": [
    {
     "ename": "KeyboardInterrupt",
     "evalue": "",
     "output_type": "error",
     "traceback": [
      "\u001B[1;31m---------------------------------------------------------------------------\u001B[0m",
      "\u001B[1;31mKeyboardInterrupt\u001B[0m                         Traceback (most recent call last)",
      "\u001B[1;32m~\\AppData\\Local\\Temp/ipykernel_26164/919856046.py\u001B[0m in \u001B[0;36m<module>\u001B[1;34m\u001B[0m\n\u001B[0;32m     14\u001B[0m             \u001B[0misolated_frame\u001B[0m\u001B[1;33m[\u001B[0m\u001B[1;34m'差異路徑'\u001B[0m\u001B[1;33m]\u001B[0m \u001B[1;33m=\u001B[0m \u001B[0mrename_columns\u001B[0m\u001B[1;33m[\u001B[0m\u001B[0mfilter_name\u001B[0m\u001B[1;33m]\u001B[0m\u001B[1;33m\u001B[0m\u001B[1;33m\u001B[0m\u001B[0m\n\u001B[0;32m     15\u001B[0m             \u001B[0misolated_frame\u001B[0m\u001B[1;33m[\u001B[0m\u001B[1;34m'差異檔案'\u001B[0m\u001B[1;33m]\u001B[0m \u001B[1;33m=\u001B[0m \u001B[1;34m','\u001B[0m\u001B[1;33m.\u001B[0m\u001B[0mjoin\u001B[0m\u001B[1;33m(\u001B[0m\u001B[0mget_frame\u001B[0m\u001B[1;33m.\u001B[0m\u001B[0mindex\u001B[0m\u001B[1;33m.\u001B[0m\u001B[0mto_list\u001B[0m\u001B[1;33m(\u001B[0m\u001B[1;33m)\u001B[0m\u001B[1;33m)\u001B[0m\u001B[1;33m\u001B[0m\u001B[1;33m\u001B[0m\u001B[0m\n\u001B[1;32m---> 16\u001B[1;33m             \u001B[0mconsolidated_df\u001B[0m \u001B[1;33m=\u001B[0m \u001B[0mpd\u001B[0m\u001B[1;33m.\u001B[0m\u001B[0mconcat\u001B[0m\u001B[1;33m(\u001B[0m\u001B[1;33m[\u001B[0m\u001B[0mconsolidated_df\u001B[0m\u001B[1;33m,\u001B[0m \u001B[0misolated_frame\u001B[0m\u001B[1;33m]\u001B[0m\u001B[1;33m)\u001B[0m\u001B[1;33m\u001B[0m\u001B[1;33m\u001B[0m\u001B[0m\n\u001B[0m",
      "\u001B[1;31mKeyboardInterrupt\u001B[0m: "
     ]
    }
   ],
   "source": [
    "consolidated_df = pd.DataFrame()\n",
    "for index, row in log_df.iterrows():\n",
    "    compare_result = pd.read_csv(f'E:/.developing_env/duplicated_files/group_by/compare_result/{index}.csv')\n",
    "    compare_result.rename(columns={'Unnamed: 0':'索引號'}, inplace=True)\n",
    "    compare_result.set_index('檔案名稱', inplace=True)\n",
    "    group_compare = compare_result.groupby('_merge')\n",
    "    for filter_name in group_compare.groups.keys():\n",
    "        get_frame = group_compare.get_group(filter_name)[filter_columns[filter_name]]\n",
    "        get_frame.columns = [column.rstrip('_') for column in get_frame.columns]\n",
    "        for group in list(set((get_frame['組別'].unique()))):\n",
    "            isolated_frame = df[df['組別'] == group].set_index('組別').copy()\n",
    "            isolated_frame['來源路徑'] = log_df.loc[index]['來源路徑']\n",
    "            isolated_frame['比較路徑'] = log_df.loc[index]['比較路徑']\n",
    "            isolated_frame['差異路徑'] = rename_columns[filter_name]\n",
    "            isolated_frame['差異檔案'] = ','.join(get_frame.index.to_list())\n",
    "            consolidated_df = pd.concat([consolidated_df, isolated_frame])"
   ],
   "metadata": {
    "collapsed": false,
    "pycharm": {
     "name": "#%%\n"
    }
   }
  },
  {
   "cell_type": "code",
   "execution_count": 8,
   "outputs": [
    {
     "data": {
      "text/plain": "Empty DataFrame\nColumns: [磁碟機根目錄, 檔案類型, 磁碟機, 根目錄, 子目錄, 檔案資料夾, 檔案名稱, 路徑, 大小, 新增日期, 修改日期, 來源路徑, 比較路徑, 差異路徑, 差異檔案]\nIndex: []",
      "text/html": "<div>\n<style scoped>\n    .dataframe tbody tr th:only-of-type {\n        vertical-align: middle;\n    }\n\n    .dataframe tbody tr th {\n        vertical-align: top;\n    }\n\n    .dataframe thead th {\n        text-align: right;\n    }\n</style>\n<table border=\"1\" class=\"dataframe\">\n  <thead>\n    <tr style=\"text-align: right;\">\n      <th></th>\n      <th>磁碟機根目錄</th>\n      <th>檔案類型</th>\n      <th>磁碟機</th>\n      <th>根目錄</th>\n      <th>子目錄</th>\n      <th>檔案資料夾</th>\n      <th>檔案名稱</th>\n      <th>路徑</th>\n      <th>大小</th>\n      <th>新增日期</th>\n      <th>修改日期</th>\n      <th>來源路徑</th>\n      <th>比較路徑</th>\n      <th>差異路徑</th>\n      <th>差異檔案</th>\n    </tr>\n    <tr>\n      <th>組別</th>\n      <th></th>\n      <th></th>\n      <th></th>\n      <th></th>\n      <th></th>\n      <th></th>\n      <th></th>\n      <th></th>\n      <th></th>\n      <th></th>\n      <th></th>\n      <th></th>\n      <th></th>\n      <th></th>\n      <th></th>\n    </tr>\n  </thead>\n  <tbody>\n  </tbody>\n</table>\n</div>"
     },
     "execution_count": 8,
     "metadata": {},
     "output_type": "execute_result"
    }
   ],
   "source": [
    "consolidated_df[consolidated_df['差異路徑']!='比較路徑']"
   ],
   "metadata": {
    "collapsed": false,
    "pycharm": {
     "name": "#%%\n"
    }
   }
  },
  {
   "cell_type": "code",
   "execution_count": 9,
   "outputs": [
    {
     "data": {
      "text/plain": "                           磁碟機根目錄  檔案類型 磁碟機                       根目錄  \\\n組別                                                                      \n2878                D:\\MAME Games  .txt  D:                MAME Games   \n2878                D:\\MAME Games  .txt  D:                MAME Games   \n2878                D:\\MAME Games  .txt  D:                MAME Games   \n3531                D:\\MAME Games  .cfg  D:                MAME Games   \n3531                D:\\MAME Games  .cfg  D:                MAME Games   \n...                           ...   ...  ..                       ...   \n6678  D:\\_eBooks 電子書 AI & BigData  .mat  D:  _eBooks 電子書 AI & BigData   \n6679         E:\\.ongoing_projects  .mat  E:         .ongoing_projects   \n6679  D:\\_eBooks 電子書 AI & BigData  .mat  D:  _eBooks 電子書 AI & BigData   \n6680         E:\\.ongoing_projects  .txt  E:         .ongoing_projects   \n6680  D:\\_eBooks 電子書 AI & BigData  .txt  D:  _eBooks 電子書 AI & BigData   \n\n                                                    子目錄    檔案資料夾  \\\n組別                                                                 \n2878                                           artwork\\  artwork   \n2878                           mame0238b_64bit\\artwork\\  artwork   \n2878                           mame0238b_64bit\\artwork\\  artwork   \n3531                               mame0238b_64bit\\cfg\\      cfg   \n3531                               mame0238b_64bit\\cfg\\      cfg   \n...                                                 ...      ...   \n6678  AI + 大數據 用 Python 玩轉金融遊戲的量化交易\\AI + 大數據 用 Pytho...     data   \n6679  flask_stock\\financial_report_parser\\venv\\Lib\\s...     data   \n6679  AI + 大數據 用 Python 玩轉金融遊戲的量化交易\\AI + 大數據 用 Pytho...     data   \n6680  flask_stock\\financial_report_parser\\venv\\Lib\\s...     data   \n6680  AI + 大數據 用 Python 玩轉金融遊戲的量化交易\\AI + 大數據 用 Pytho...     data   \n\n                             檔案名稱  \\\n組別                                  \n2878                      dir.txt   \n2878                  dir (2).txt   \n2878                      dir.txt   \n3531                    dkong.cfg   \n3531                  dkongjr.cfg   \n...                           ...   \n6678  corrupted_zlib_checksum.mat   \n6679      corrupted_zlib_data.mat   \n6679      corrupted_zlib_data.mat   \n6680            japanese_utf8.txt   \n6680            japanese_utf8.txt   \n\n                                                     路徑    大小  \\\n組別                                                              \n2878                             D:\\MAME Games\\artwork\\    26   \n2878             D:\\MAME Games\\mame0238b_64bit\\artwork\\    26   \n2878             D:\\MAME Games\\mame0238b_64bit\\artwork\\    26   \n3531                 D:\\MAME Games\\mame0238b_64bit\\cfg\\  1416   \n3531                 D:\\MAME Games\\mame0238b_64bit\\cfg\\  1416   \n...                                                 ...   ...   \n6678  D:\\_eBooks 電子書 AI & BigData\\AI + 大數據 用 Python ...   276   \n6679  E:\\.ongoing_projects\\flask_stock\\financial_rep...  3451   \n6679  D:\\_eBooks 電子書 AI & BigData\\AI + 大數據 用 Python ...  3451   \n6680  E:\\.ongoing_projects\\flask_stock\\financial_rep...   270   \n6680  D:\\_eBooks 電子書 AI & BigData\\AI + 大數據 用 Python ...   270   \n\n                        新增日期                    修改日期  \\\n組別                                                     \n2878  2021/12/18 下午 05:23:42   2020/5/19 上午 11:11:59   \n2878  2021/12/18 下午 05:24:21   1998/10/4 上午 02:20:58   \n2878  2021/12/18 下午 05:46:34  2021/11/24 上午 03:40:53   \n3531  2021/12/18 下午 05:24:21  2021/12/19 下午 05:39:17   \n3531  2021/12/18 下午 05:24:21   2014/2/11 下午 03:35:02   \n...                      ...                     ...   \n6678   2021/8/18 上午 01:13:30   2016/8/26 上午 03:09:32   \n6679   2021/8/18 上午 01:17:35    2021/7/3 下午 07:50:34   \n6679   2021/8/18 上午 01:13:30   2016/8/26 上午 03:09:32   \n6680   2021/8/18 上午 01:17:35    2021/7/3 下午 07:50:34   \n6680   2021/8/18 上午 01:13:30   2016/8/26 上午 03:09:32   \n\n                                                   來源路徑  \\\n組別                                                        \n2878                             D:\\MAME Games\\artwork\\   \n2878                             D:\\MAME Games\\artwork\\   \n2878                             D:\\MAME Games\\artwork\\   \n3531                                 D:\\MAME Games\\cfg\\   \n3531                                 D:\\MAME Games\\cfg\\   \n...                                                 ...   \n6678  D:\\_eBooks 電子書 AI & BigData\\AI + 大數據 用 Python ...   \n6679  D:\\_eBooks 電子書 AI & BigData\\AI + 大數據 用 Python ...   \n6679  D:\\_eBooks 電子書 AI & BigData\\AI + 大數據 用 Python ...   \n6680  D:\\_eBooks 電子書 AI & BigData\\AI + 大數據 用 Python ...   \n6680  D:\\_eBooks 電子書 AI & BigData\\AI + 大數據 用 Python ...   \n\n                                                   比較路徑  差異路徑  \\\n組別                                                              \n2878             D:\\MAME Games\\mame0238b_64bit\\artwork\\  比較路徑   \n2878             D:\\MAME Games\\mame0238b_64bit\\artwork\\  比較路徑   \n2878             D:\\MAME Games\\mame0238b_64bit\\artwork\\  比較路徑   \n3531                 D:\\MAME Games\\mame0238b_64bit\\cfg\\  比較路徑   \n3531                 D:\\MAME Games\\mame0238b_64bit\\cfg\\  比較路徑   \n...                                                 ...   ...   \n6678  E:\\.ongoing_projects\\flask_stock\\financial_rep...  比較路徑   \n6679  E:\\.ongoing_projects\\flask_stock\\financial_rep...  比較路徑   \n6679  E:\\.ongoing_projects\\flask_stock\\financial_rep...  比較路徑   \n6680  E:\\.ongoing_projects\\flask_stock\\financial_rep...  比較路徑   \n6680  E:\\.ongoing_projects\\flask_stock\\financial_rep...  比較路徑   \n\n                                                   差異檔案  \n組別                                                       \n2878                                        dir (2).txt  \n2878                                        dir (2).txt  \n2878                                        dir (2).txt  \n3531                              dkong.cfg,dkongjr.cfg  \n3531                              dkong.cfg,dkongjr.cfg  \n...                                                 ...  \n6678  bad_miuint32.mat,bad_miutf8_array_name.mat,big...  \n6679  bad_miuint32.mat,bad_miutf8_array_name.mat,big...  \n6679  bad_miuint32.mat,bad_miutf8_array_name.mat,big...  \n6680  bad_miuint32.mat,bad_miutf8_array_name.mat,big...  \n6680  bad_miuint32.mat,bad_miutf8_array_name.mat,big...  \n\n[2191821 rows x 15 columns]",
      "text/html": "<div>\n<style scoped>\n    .dataframe tbody tr th:only-of-type {\n        vertical-align: middle;\n    }\n\n    .dataframe tbody tr th {\n        vertical-align: top;\n    }\n\n    .dataframe thead th {\n        text-align: right;\n    }\n</style>\n<table border=\"1\" class=\"dataframe\">\n  <thead>\n    <tr style=\"text-align: right;\">\n      <th></th>\n      <th>磁碟機根目錄</th>\n      <th>檔案類型</th>\n      <th>磁碟機</th>\n      <th>根目錄</th>\n      <th>子目錄</th>\n      <th>檔案資料夾</th>\n      <th>檔案名稱</th>\n      <th>路徑</th>\n      <th>大小</th>\n      <th>新增日期</th>\n      <th>修改日期</th>\n      <th>來源路徑</th>\n      <th>比較路徑</th>\n      <th>差異路徑</th>\n      <th>差異檔案</th>\n    </tr>\n    <tr>\n      <th>組別</th>\n      <th></th>\n      <th></th>\n      <th></th>\n      <th></th>\n      <th></th>\n      <th></th>\n      <th></th>\n      <th></th>\n      <th></th>\n      <th></th>\n      <th></th>\n      <th></th>\n      <th></th>\n      <th></th>\n      <th></th>\n    </tr>\n  </thead>\n  <tbody>\n    <tr>\n      <th>2878</th>\n      <td>D:\\MAME Games</td>\n      <td>.txt</td>\n      <td>D:</td>\n      <td>MAME Games</td>\n      <td>artwork\\</td>\n      <td>artwork</td>\n      <td>dir.txt</td>\n      <td>D:\\MAME Games\\artwork\\</td>\n      <td>26</td>\n      <td>2021/12/18 下午 05:23:42</td>\n      <td>2020/5/19 上午 11:11:59</td>\n      <td>D:\\MAME Games\\artwork\\</td>\n      <td>D:\\MAME Games\\mame0238b_64bit\\artwork\\</td>\n      <td>比較路徑</td>\n      <td>dir (2).txt</td>\n    </tr>\n    <tr>\n      <th>2878</th>\n      <td>D:\\MAME Games</td>\n      <td>.txt</td>\n      <td>D:</td>\n      <td>MAME Games</td>\n      <td>mame0238b_64bit\\artwork\\</td>\n      <td>artwork</td>\n      <td>dir (2).txt</td>\n      <td>D:\\MAME Games\\mame0238b_64bit\\artwork\\</td>\n      <td>26</td>\n      <td>2021/12/18 下午 05:24:21</td>\n      <td>1998/10/4 上午 02:20:58</td>\n      <td>D:\\MAME Games\\artwork\\</td>\n      <td>D:\\MAME Games\\mame0238b_64bit\\artwork\\</td>\n      <td>比較路徑</td>\n      <td>dir (2).txt</td>\n    </tr>\n    <tr>\n      <th>2878</th>\n      <td>D:\\MAME Games</td>\n      <td>.txt</td>\n      <td>D:</td>\n      <td>MAME Games</td>\n      <td>mame0238b_64bit\\artwork\\</td>\n      <td>artwork</td>\n      <td>dir.txt</td>\n      <td>D:\\MAME Games\\mame0238b_64bit\\artwork\\</td>\n      <td>26</td>\n      <td>2021/12/18 下午 05:46:34</td>\n      <td>2021/11/24 上午 03:40:53</td>\n      <td>D:\\MAME Games\\artwork\\</td>\n      <td>D:\\MAME Games\\mame0238b_64bit\\artwork\\</td>\n      <td>比較路徑</td>\n      <td>dir (2).txt</td>\n    </tr>\n    <tr>\n      <th>3531</th>\n      <td>D:\\MAME Games</td>\n      <td>.cfg</td>\n      <td>D:</td>\n      <td>MAME Games</td>\n      <td>mame0238b_64bit\\cfg\\</td>\n      <td>cfg</td>\n      <td>dkong.cfg</td>\n      <td>D:\\MAME Games\\mame0238b_64bit\\cfg\\</td>\n      <td>1416</td>\n      <td>2021/12/18 下午 05:24:21</td>\n      <td>2021/12/19 下午 05:39:17</td>\n      <td>D:\\MAME Games\\cfg\\</td>\n      <td>D:\\MAME Games\\mame0238b_64bit\\cfg\\</td>\n      <td>比較路徑</td>\n      <td>dkong.cfg,dkongjr.cfg</td>\n    </tr>\n    <tr>\n      <th>3531</th>\n      <td>D:\\MAME Games</td>\n      <td>.cfg</td>\n      <td>D:</td>\n      <td>MAME Games</td>\n      <td>mame0238b_64bit\\cfg\\</td>\n      <td>cfg</td>\n      <td>dkongjr.cfg</td>\n      <td>D:\\MAME Games\\mame0238b_64bit\\cfg\\</td>\n      <td>1416</td>\n      <td>2021/12/18 下午 05:24:21</td>\n      <td>2014/2/11 下午 03:35:02</td>\n      <td>D:\\MAME Games\\cfg\\</td>\n      <td>D:\\MAME Games\\mame0238b_64bit\\cfg\\</td>\n      <td>比較路徑</td>\n      <td>dkong.cfg,dkongjr.cfg</td>\n    </tr>\n    <tr>\n      <th>...</th>\n      <td>...</td>\n      <td>...</td>\n      <td>...</td>\n      <td>...</td>\n      <td>...</td>\n      <td>...</td>\n      <td>...</td>\n      <td>...</td>\n      <td>...</td>\n      <td>...</td>\n      <td>...</td>\n      <td>...</td>\n      <td>...</td>\n      <td>...</td>\n      <td>...</td>\n    </tr>\n    <tr>\n      <th>6678</th>\n      <td>D:\\_eBooks 電子書 AI &amp; BigData</td>\n      <td>.mat</td>\n      <td>D:</td>\n      <td>_eBooks 電子書 AI &amp; BigData</td>\n      <td>AI + 大數據 用 Python 玩轉金融遊戲的量化交易\\AI + 大數據 用 Pytho...</td>\n      <td>data</td>\n      <td>corrupted_zlib_checksum.mat</td>\n      <td>D:\\_eBooks 電子書 AI &amp; BigData\\AI + 大數據 用 Python ...</td>\n      <td>276</td>\n      <td>2021/8/18 上午 01:13:30</td>\n      <td>2016/8/26 上午 03:09:32</td>\n      <td>D:\\_eBooks 電子書 AI &amp; BigData\\AI + 大數據 用 Python ...</td>\n      <td>E:\\.ongoing_projects\\flask_stock\\financial_rep...</td>\n      <td>比較路徑</td>\n      <td>bad_miuint32.mat,bad_miutf8_array_name.mat,big...</td>\n    </tr>\n    <tr>\n      <th>6679</th>\n      <td>E:\\.ongoing_projects</td>\n      <td>.mat</td>\n      <td>E:</td>\n      <td>.ongoing_projects</td>\n      <td>flask_stock\\financial_report_parser\\venv\\Lib\\s...</td>\n      <td>data</td>\n      <td>corrupted_zlib_data.mat</td>\n      <td>E:\\.ongoing_projects\\flask_stock\\financial_rep...</td>\n      <td>3451</td>\n      <td>2021/8/18 上午 01:17:35</td>\n      <td>2021/7/3 下午 07:50:34</td>\n      <td>D:\\_eBooks 電子書 AI &amp; BigData\\AI + 大數據 用 Python ...</td>\n      <td>E:\\.ongoing_projects\\flask_stock\\financial_rep...</td>\n      <td>比較路徑</td>\n      <td>bad_miuint32.mat,bad_miutf8_array_name.mat,big...</td>\n    </tr>\n    <tr>\n      <th>6679</th>\n      <td>D:\\_eBooks 電子書 AI &amp; BigData</td>\n      <td>.mat</td>\n      <td>D:</td>\n      <td>_eBooks 電子書 AI &amp; BigData</td>\n      <td>AI + 大數據 用 Python 玩轉金融遊戲的量化交易\\AI + 大數據 用 Pytho...</td>\n      <td>data</td>\n      <td>corrupted_zlib_data.mat</td>\n      <td>D:\\_eBooks 電子書 AI &amp; BigData\\AI + 大數據 用 Python ...</td>\n      <td>3451</td>\n      <td>2021/8/18 上午 01:13:30</td>\n      <td>2016/8/26 上午 03:09:32</td>\n      <td>D:\\_eBooks 電子書 AI &amp; BigData\\AI + 大數據 用 Python ...</td>\n      <td>E:\\.ongoing_projects\\flask_stock\\financial_rep...</td>\n      <td>比較路徑</td>\n      <td>bad_miuint32.mat,bad_miutf8_array_name.mat,big...</td>\n    </tr>\n    <tr>\n      <th>6680</th>\n      <td>E:\\.ongoing_projects</td>\n      <td>.txt</td>\n      <td>E:</td>\n      <td>.ongoing_projects</td>\n      <td>flask_stock\\financial_report_parser\\venv\\Lib\\s...</td>\n      <td>data</td>\n      <td>japanese_utf8.txt</td>\n      <td>E:\\.ongoing_projects\\flask_stock\\financial_rep...</td>\n      <td>270</td>\n      <td>2021/8/18 上午 01:17:35</td>\n      <td>2021/7/3 下午 07:50:34</td>\n      <td>D:\\_eBooks 電子書 AI &amp; BigData\\AI + 大數據 用 Python ...</td>\n      <td>E:\\.ongoing_projects\\flask_stock\\financial_rep...</td>\n      <td>比較路徑</td>\n      <td>bad_miuint32.mat,bad_miutf8_array_name.mat,big...</td>\n    </tr>\n    <tr>\n      <th>6680</th>\n      <td>D:\\_eBooks 電子書 AI &amp; BigData</td>\n      <td>.txt</td>\n      <td>D:</td>\n      <td>_eBooks 電子書 AI &amp; BigData</td>\n      <td>AI + 大數據 用 Python 玩轉金融遊戲的量化交易\\AI + 大數據 用 Pytho...</td>\n      <td>data</td>\n      <td>japanese_utf8.txt</td>\n      <td>D:\\_eBooks 電子書 AI &amp; BigData\\AI + 大數據 用 Python ...</td>\n      <td>270</td>\n      <td>2021/8/18 上午 01:13:30</td>\n      <td>2016/8/26 上午 03:09:32</td>\n      <td>D:\\_eBooks 電子書 AI &amp; BigData\\AI + 大數據 用 Python ...</td>\n      <td>E:\\.ongoing_projects\\flask_stock\\financial_rep...</td>\n      <td>比較路徑</td>\n      <td>bad_miuint32.mat,bad_miutf8_array_name.mat,big...</td>\n    </tr>\n  </tbody>\n</table>\n<p>2191821 rows × 15 columns</p>\n</div>"
     },
     "execution_count": 9,
     "metadata": {},
     "output_type": "execute_result"
    }
   ],
   "source": [
    "consolidated_df"
   ],
   "metadata": {
    "collapsed": false,
    "pycharm": {
     "name": "#%%\n"
    }
   }
  },
  {
   "cell_type": "code",
   "execution_count": 10,
   "outputs": [
    {
     "data": {
      "text/plain": "4191"
     },
     "execution_count": 10,
     "metadata": {},
     "output_type": "execute_result"
    }
   ],
   "source": [
    "index"
   ],
   "metadata": {
    "collapsed": false,
    "pycharm": {
     "name": "#%%\n"
    }
   }
  },
  {
   "cell_type": "code",
   "execution_count": 11,
   "outputs": [],
   "source": [
    "consolidated_df.to_csv('consolidated_df.csv', encoding='utf-8-sig')"
   ],
   "metadata": {
    "collapsed": false,
    "pycharm": {
     "name": "#%%\n"
    }
   }
  },
  {
   "cell_type": "code",
   "execution_count": null,
   "outputs": [],
   "source": [],
   "metadata": {
    "collapsed": false,
    "pycharm": {
     "name": "#%%\n"
    }
   }
  }
 ],
 "metadata": {
  "kernelspec": {
   "display_name": "Python 3",
   "language": "python",
   "name": "python3"
  },
  "language_info": {
   "codemirror_mode": {
    "name": "ipython",
    "version": 2
   },
   "file_extension": ".py",
   "mimetype": "text/x-python",
   "name": "python",
   "nbconvert_exporter": "python",
   "pygments_lexer": "ipython2",
   "version": "2.7.6"
  }
 },
 "nbformat": 4,
 "nbformat_minor": 0
}