{
 "cells": [
  {
   "cell_type": "code",
   "execution_count": 1,
   "metadata": {
    "collapsed": true
   },
   "outputs": [],
   "source": [
    "import pandas as pd\n",
    "import csv\n",
    "import os\n",
    "import re"
   ]
  },
  {
   "cell_type": "code",
   "execution_count": 2,
   "outputs": [],
   "source": [
    "filter_columns = {\n",
    "    'left_only': ['組別', '檔案類型', '檔案資料夾', '大小', '修改日期'],\n",
    "    'right_only': ['組別_', '檔案類型_', '檔案資料夾_', '大小_', '修改日期_'],\n",
    "}"
   ],
   "metadata": {
    "collapsed": false,
    "pycharm": {
     "name": "#%%\n"
    }
   }
  },
  {
   "cell_type": "code",
   "execution_count": 3,
   "outputs": [],
   "source": [
    "rename_columns = {\n",
    "    'left_only': '來源路徑',\n",
    "    'right_only': '比較路徑',\n",
    "}"
   ],
   "metadata": {
    "collapsed": false,
    "pycharm": {
     "name": "#%%\n"
    }
   }
  },
  {
   "cell_type": "code",
   "execution_count": 4,
   "outputs": [
    {
     "data": {
      "text/plain": "                                         檔案資料夾  \\\n結果                                               \n1                                      artwork   \n2                                          cfg   \n3                                       chains   \n4                                       chains   \n5                                     crt-geom   \n...                                        ...   \n21600                                     下載書籍   \n21601                          不再聽不懂 圖解網站建置與開發   \n21602  讓響應式 (RWD) 網頁設計變簡單 Bootstrap 開發速成 (第二版)   \n21603                                      資料庫   \n21604                                      資料庫   \n\n                                                    來源路徑  \\\n結果                                                         \n1                                 D:\\MAME Games\\artwork\\   \n2                                     D:\\MAME Games\\cfg\\   \n3                     D:\\MAME Games\\artwork\\bgfx\\chains\\   \n4                     D:\\MAME Games\\artwork\\bgfx\\chains\\   \n5       D:\\MAME Games\\bgfx\\shaders\\dx11\\chains\\crt-geom\\   \n...                                                  ...   \n21600                                 D:\\_下載的文件待歸類\\下載書籍\\   \n21601  D:\\_eBooks 電子書 Java+JS+HTML+CSS+RWD+Node\\不再聽不懂...   \n21602  D:\\_eBooks 電子書 Java+JS+HTML+CSS+RWD+Node\\讓響應式 ...   \n21603  D:\\_eBooks 電子書 Java+JS+HTML+CSS+RWD+Node\\Java ...   \n21604  D:\\_eBooks 電子書 Java+JS+HTML+CSS+RWD+Node\\Java ...   \n\n                                                    比較路徑  次數  來源長度  比較長度  \n結果                                                                        \n1                 D:\\MAME Games\\mame0238b_64bit\\artwork\\   1    16    17  \n2                     D:\\MAME Games\\mame0238b_64bit\\cfg\\   1     1     3  \n3                             D:\\MAME Games\\bgfx\\chains\\   1     3     2  \n4             D:\\MAME Games\\mame0238b_64bit\\bgfx\\chains\\   3     3     2  \n5      D:\\MAME Games\\mame0238b_64bit\\bgfx\\shaders\\dx1...   6     2     3  \n...                                                  ...  ..   ...   ...  \n21600                                    Z:\\新增書籍文件\\下載書籍\\   1     2     5  \n21601                    Z:\\新增書籍文件\\資訊書籍\\不再聽不懂 圖解網站建置與開發\\   1     3     2  \n21602  Z:\\新增書籍文件\\資訊書籍\\讓響應式 (RWD) 網頁設計變簡單 Bootstrap 開發...   1     4     3  \n21603  D:\\_eBooks 電子書 Java+JS+HTML+CSS+RWD+Node\\Java ...   3     1     2  \n21604  Z:\\資訊書籍文件\\Java  王者歸來 Struts2+Spring+Hibernate框...   7     1     2  \n\n[21604 rows x 6 columns]",
      "text/html": "<div>\n<style scoped>\n    .dataframe tbody tr th:only-of-type {\n        vertical-align: middle;\n    }\n\n    .dataframe tbody tr th {\n        vertical-align: top;\n    }\n\n    .dataframe thead th {\n        text-align: right;\n    }\n</style>\n<table border=\"1\" class=\"dataframe\">\n  <thead>\n    <tr style=\"text-align: right;\">\n      <th></th>\n      <th>檔案資料夾</th>\n      <th>來源路徑</th>\n      <th>比較路徑</th>\n      <th>次數</th>\n      <th>來源長度</th>\n      <th>比較長度</th>\n    </tr>\n    <tr>\n      <th>結果</th>\n      <th></th>\n      <th></th>\n      <th></th>\n      <th></th>\n      <th></th>\n      <th></th>\n    </tr>\n  </thead>\n  <tbody>\n    <tr>\n      <th>1</th>\n      <td>artwork</td>\n      <td>D:\\MAME Games\\artwork\\</td>\n      <td>D:\\MAME Games\\mame0238b_64bit\\artwork\\</td>\n      <td>1</td>\n      <td>16</td>\n      <td>17</td>\n    </tr>\n    <tr>\n      <th>2</th>\n      <td>cfg</td>\n      <td>D:\\MAME Games\\cfg\\</td>\n      <td>D:\\MAME Games\\mame0238b_64bit\\cfg\\</td>\n      <td>1</td>\n      <td>1</td>\n      <td>3</td>\n    </tr>\n    <tr>\n      <th>3</th>\n      <td>chains</td>\n      <td>D:\\MAME Games\\artwork\\bgfx\\chains\\</td>\n      <td>D:\\MAME Games\\bgfx\\chains\\</td>\n      <td>1</td>\n      <td>3</td>\n      <td>2</td>\n    </tr>\n    <tr>\n      <th>4</th>\n      <td>chains</td>\n      <td>D:\\MAME Games\\artwork\\bgfx\\chains\\</td>\n      <td>D:\\MAME Games\\mame0238b_64bit\\bgfx\\chains\\</td>\n      <td>3</td>\n      <td>3</td>\n      <td>2</td>\n    </tr>\n    <tr>\n      <th>5</th>\n      <td>crt-geom</td>\n      <td>D:\\MAME Games\\bgfx\\shaders\\dx11\\chains\\crt-geom\\</td>\n      <td>D:\\MAME Games\\mame0238b_64bit\\bgfx\\shaders\\dx1...</td>\n      <td>6</td>\n      <td>2</td>\n      <td>3</td>\n    </tr>\n    <tr>\n      <th>...</th>\n      <td>...</td>\n      <td>...</td>\n      <td>...</td>\n      <td>...</td>\n      <td>...</td>\n      <td>...</td>\n    </tr>\n    <tr>\n      <th>21600</th>\n      <td>下載書籍</td>\n      <td>D:\\_下載的文件待歸類\\下載書籍\\</td>\n      <td>Z:\\新增書籍文件\\下載書籍\\</td>\n      <td>1</td>\n      <td>2</td>\n      <td>5</td>\n    </tr>\n    <tr>\n      <th>21601</th>\n      <td>不再聽不懂 圖解網站建置與開發</td>\n      <td>D:\\_eBooks 電子書 Java+JS+HTML+CSS+RWD+Node\\不再聽不懂...</td>\n      <td>Z:\\新增書籍文件\\資訊書籍\\不再聽不懂 圖解網站建置與開發\\</td>\n      <td>1</td>\n      <td>3</td>\n      <td>2</td>\n    </tr>\n    <tr>\n      <th>21602</th>\n      <td>讓響應式 (RWD) 網頁設計變簡單 Bootstrap 開發速成 (第二版)</td>\n      <td>D:\\_eBooks 電子書 Java+JS+HTML+CSS+RWD+Node\\讓響應式 ...</td>\n      <td>Z:\\新增書籍文件\\資訊書籍\\讓響應式 (RWD) 網頁設計變簡單 Bootstrap 開發...</td>\n      <td>1</td>\n      <td>4</td>\n      <td>3</td>\n    </tr>\n    <tr>\n      <th>21603</th>\n      <td>資料庫</td>\n      <td>D:\\_eBooks 電子書 Java+JS+HTML+CSS+RWD+Node\\Java ...</td>\n      <td>D:\\_eBooks 電子書 Java+JS+HTML+CSS+RWD+Node\\Java ...</td>\n      <td>3</td>\n      <td>1</td>\n      <td>2</td>\n    </tr>\n    <tr>\n      <th>21604</th>\n      <td>資料庫</td>\n      <td>D:\\_eBooks 電子書 Java+JS+HTML+CSS+RWD+Node\\Java ...</td>\n      <td>Z:\\資訊書籍文件\\Java  王者歸來 Struts2+Spring+Hibernate框...</td>\n      <td>7</td>\n      <td>1</td>\n      <td>2</td>\n    </tr>\n  </tbody>\n</table>\n<p>21604 rows × 6 columns</p>\n</div>"
     },
     "execution_count": 4,
     "metadata": {},
     "output_type": "execute_result"
    }
   ],
   "source": [
    "log_df = pd.read_csv('E:/.developing_env/duplicated_files/group_by/.backup_comp/log_different.csv')\n",
    "log_df.drop(['備註', 'Unnamed: 0'], axis=1, inplace=True)\n",
    "log_df.set_index('結果', drop=True, inplace=True)\n",
    "log_df"
   ],
   "metadata": {
    "collapsed": false,
    "pycharm": {
     "name": "#%%\n"
    }
   }
  },
  {
   "cell_type": "code",
   "execution_count": 5,
   "outputs": [],
   "source": [
    "consolidated_df = pd.DataFrame()"
   ],
   "metadata": {
    "collapsed": false,
    "pycharm": {
     "name": "#%%\n"
    }
   }
  },
  {
   "cell_type": "code",
   "execution_count": 6,
   "outputs": [
    {
     "name": "stdout",
     "output_type": "stream",
     "text": [
      "28\n"
     ]
    }
   ],
   "source": [
    "for index, row in log_df.iterrows():\n",
    "    if index == 28:\n",
    "        print(index)\n",
    "        break"
   ],
   "metadata": {
    "collapsed": false,
    "pycharm": {
     "name": "#%%\n"
    }
   }
  },
  {
   "cell_type": "code",
   "execution_count": 7,
   "outputs": [],
   "source": [
    "left = row.to_frame().transpose().reset_index(drop=True)"
   ],
   "metadata": {
    "collapsed": false,
    "pycharm": {
     "name": "#%%\n"
    }
   }
  },
  {
   "cell_type": "code",
   "execution_count": 8,
   "outputs": [
    {
     "data": {
      "text/plain": "  檔案資料夾                              來源路徑  \\\n0  hlsl  D:\\MAME Games\\bgfx\\effects\\hlsl\\   \n\n                                            比較路徑 次數 來源長度 比較長度  \n0  D:\\MAME Games\\bgfx\\shaders\\spirv\\chains\\hlsl\\  6    2   10  ",
      "text/html": "<div>\n<style scoped>\n    .dataframe tbody tr th:only-of-type {\n        vertical-align: middle;\n    }\n\n    .dataframe tbody tr th {\n        vertical-align: top;\n    }\n\n    .dataframe thead th {\n        text-align: right;\n    }\n</style>\n<table border=\"1\" class=\"dataframe\">\n  <thead>\n    <tr style=\"text-align: right;\">\n      <th></th>\n      <th>檔案資料夾</th>\n      <th>來源路徑</th>\n      <th>比較路徑</th>\n      <th>次數</th>\n      <th>來源長度</th>\n      <th>比較長度</th>\n    </tr>\n  </thead>\n  <tbody>\n    <tr>\n      <th>0</th>\n      <td>hlsl</td>\n      <td>D:\\MAME Games\\bgfx\\effects\\hlsl\\</td>\n      <td>D:\\MAME Games\\bgfx\\shaders\\spirv\\chains\\hlsl\\</td>\n      <td>6</td>\n      <td>2</td>\n      <td>10</td>\n    </tr>\n  </tbody>\n</table>\n</div>"
     },
     "execution_count": 8,
     "metadata": {},
     "output_type": "execute_result"
    }
   ],
   "source": [
    "left"
   ],
   "metadata": {
    "collapsed": false,
    "pycharm": {
     "name": "#%%\n"
    }
   }
  },
  {
   "cell_type": "code",
   "execution_count": 17,
   "outputs": [],
   "source": [
    "import numpy as np"
   ],
   "metadata": {
    "collapsed": false,
    "pycharm": {
     "name": "#%%\n"
    }
   }
  },
  {
   "cell_type": "code",
   "execution_count": 22,
   "outputs": [],
   "source": [
    "compare_result = pd.read_csv(f'E:/.developing_env/duplicated_files/group_by/compare_result/{index}.csv', dtype={'組別': 'Int64', '檔案類型': str, '檔案資料夾': str, '檔案名稱': str, '大小': 'Int64', '修改日期': str, '組別_': 'Int64', '檔案類型_': str, '檔案資料夾_': str, '大小_': 'Int64', '修改日期_': str, '_merge': str})"
   ],
   "metadata": {
    "collapsed": false,
    "pycharm": {
     "name": "#%%\n"
    }
   }
  },
  {
   "cell_type": "code",
   "execution_count": 23,
   "outputs": [
    {
     "data": {
      "text/plain": "    Unnamed: 0    組別   檔案類型 檔案資料夾                檔案名稱    大小  \\\n0            0  2893    .md  hlsl           README.md   207   \n1            1  2894  .json  hlsl           post.json  2521   \n2            2  <NA>    NaN   NaN       vs_chroma.bin  <NA>   \n3            3  <NA>    NaN   NaN        vs_color.bin  <NA>   \n4            4  <NA>    NaN   NaN      vs_defocus.bin  <NA>   \n5            5  <NA>    NaN   NaN   vs_distortion.bin  <NA>   \n6            6  <NA>    NaN   NaN  vs_ntsc_decode.bin  <NA>   \n7            7  <NA>    NaN   NaN  vs_ntsc_encode.bin  <NA>   \n8            8  <NA>    NaN   NaN     vs_phosphor.bin  <NA>   \n9            9  <NA>    NaN   NaN         vs_post.bin  <NA>   \n10          10  <NA>    NaN   NaN     vs_prescale.bin  <NA>   \n11          11  <NA>    NaN   NaN     vs_scanline.bin  <NA>   \n\n                     修改日期   組別_ 檔案類型_ 檔案資料夾_   大小_                  修改日期_  \\\n0   2020/5/19 上午 11:12:00  <NA>   NaN    NaN  <NA>                    NaN   \n1   2020/5/19 上午 11:12:00  <NA>   NaN    NaN  <NA>                    NaN   \n2                     NaN  2970  .bin   hlsl  1305  2020/5/19 上午 11:12:05   \n3                     NaN  2970  .bin   hlsl  1305  2020/5/19 上午 11:12:05   \n4                     NaN  2970  .bin   hlsl  1305  2020/5/19 上午 11:12:05   \n5                     NaN  2970  .bin   hlsl  1305  2020/5/19 上午 11:12:05   \n6                     NaN  2970  .bin   hlsl  1305  2020/5/19 上午 11:12:05   \n7                     NaN  2970  .bin   hlsl  1305  2020/5/19 上午 11:12:05   \n8                     NaN  2970  .bin   hlsl  1305  2020/5/19 上午 11:12:05   \n9                     NaN  2970  .bin   hlsl  1305  2020/5/19 上午 11:12:05   \n10                    NaN  2970  .bin   hlsl  1305  2020/5/19 上午 11:12:05   \n11                    NaN  2970  .bin   hlsl  1305  2020/5/19 上午 11:12:05   \n\n        _merge  \n0    left_only  \n1    left_only  \n2   right_only  \n3   right_only  \n4   right_only  \n5   right_only  \n6   right_only  \n7   right_only  \n8   right_only  \n9   right_only  \n10  right_only  \n11  right_only  ",
      "text/html": "<div>\n<style scoped>\n    .dataframe tbody tr th:only-of-type {\n        vertical-align: middle;\n    }\n\n    .dataframe tbody tr th {\n        vertical-align: top;\n    }\n\n    .dataframe thead th {\n        text-align: right;\n    }\n</style>\n<table border=\"1\" class=\"dataframe\">\n  <thead>\n    <tr style=\"text-align: right;\">\n      <th></th>\n      <th>Unnamed: 0</th>\n      <th>組別</th>\n      <th>檔案類型</th>\n      <th>檔案資料夾</th>\n      <th>檔案名稱</th>\n      <th>大小</th>\n      <th>修改日期</th>\n      <th>組別_</th>\n      <th>檔案類型_</th>\n      <th>檔案資料夾_</th>\n      <th>大小_</th>\n      <th>修改日期_</th>\n      <th>_merge</th>\n    </tr>\n  </thead>\n  <tbody>\n    <tr>\n      <th>0</th>\n      <td>0</td>\n      <td>2893</td>\n      <td>.md</td>\n      <td>hlsl</td>\n      <td>README.md</td>\n      <td>207</td>\n      <td>2020/5/19 上午 11:12:00</td>\n      <td>&lt;NA&gt;</td>\n      <td>NaN</td>\n      <td>NaN</td>\n      <td>&lt;NA&gt;</td>\n      <td>NaN</td>\n      <td>left_only</td>\n    </tr>\n    <tr>\n      <th>1</th>\n      <td>1</td>\n      <td>2894</td>\n      <td>.json</td>\n      <td>hlsl</td>\n      <td>post.json</td>\n      <td>2521</td>\n      <td>2020/5/19 上午 11:12:00</td>\n      <td>&lt;NA&gt;</td>\n      <td>NaN</td>\n      <td>NaN</td>\n      <td>&lt;NA&gt;</td>\n      <td>NaN</td>\n      <td>left_only</td>\n    </tr>\n    <tr>\n      <th>2</th>\n      <td>2</td>\n      <td>&lt;NA&gt;</td>\n      <td>NaN</td>\n      <td>NaN</td>\n      <td>vs_chroma.bin</td>\n      <td>&lt;NA&gt;</td>\n      <td>NaN</td>\n      <td>2970</td>\n      <td>.bin</td>\n      <td>hlsl</td>\n      <td>1305</td>\n      <td>2020/5/19 上午 11:12:05</td>\n      <td>right_only</td>\n    </tr>\n    <tr>\n      <th>3</th>\n      <td>3</td>\n      <td>&lt;NA&gt;</td>\n      <td>NaN</td>\n      <td>NaN</td>\n      <td>vs_color.bin</td>\n      <td>&lt;NA&gt;</td>\n      <td>NaN</td>\n      <td>2970</td>\n      <td>.bin</td>\n      <td>hlsl</td>\n      <td>1305</td>\n      <td>2020/5/19 上午 11:12:05</td>\n      <td>right_only</td>\n    </tr>\n    <tr>\n      <th>4</th>\n      <td>4</td>\n      <td>&lt;NA&gt;</td>\n      <td>NaN</td>\n      <td>NaN</td>\n      <td>vs_defocus.bin</td>\n      <td>&lt;NA&gt;</td>\n      <td>NaN</td>\n      <td>2970</td>\n      <td>.bin</td>\n      <td>hlsl</td>\n      <td>1305</td>\n      <td>2020/5/19 上午 11:12:05</td>\n      <td>right_only</td>\n    </tr>\n    <tr>\n      <th>5</th>\n      <td>5</td>\n      <td>&lt;NA&gt;</td>\n      <td>NaN</td>\n      <td>NaN</td>\n      <td>vs_distortion.bin</td>\n      <td>&lt;NA&gt;</td>\n      <td>NaN</td>\n      <td>2970</td>\n      <td>.bin</td>\n      <td>hlsl</td>\n      <td>1305</td>\n      <td>2020/5/19 上午 11:12:05</td>\n      <td>right_only</td>\n    </tr>\n    <tr>\n      <th>6</th>\n      <td>6</td>\n      <td>&lt;NA&gt;</td>\n      <td>NaN</td>\n      <td>NaN</td>\n      <td>vs_ntsc_decode.bin</td>\n      <td>&lt;NA&gt;</td>\n      <td>NaN</td>\n      <td>2970</td>\n      <td>.bin</td>\n      <td>hlsl</td>\n      <td>1305</td>\n      <td>2020/5/19 上午 11:12:05</td>\n      <td>right_only</td>\n    </tr>\n    <tr>\n      <th>7</th>\n      <td>7</td>\n      <td>&lt;NA&gt;</td>\n      <td>NaN</td>\n      <td>NaN</td>\n      <td>vs_ntsc_encode.bin</td>\n      <td>&lt;NA&gt;</td>\n      <td>NaN</td>\n      <td>2970</td>\n      <td>.bin</td>\n      <td>hlsl</td>\n      <td>1305</td>\n      <td>2020/5/19 上午 11:12:05</td>\n      <td>right_only</td>\n    </tr>\n    <tr>\n      <th>8</th>\n      <td>8</td>\n      <td>&lt;NA&gt;</td>\n      <td>NaN</td>\n      <td>NaN</td>\n      <td>vs_phosphor.bin</td>\n      <td>&lt;NA&gt;</td>\n      <td>NaN</td>\n      <td>2970</td>\n      <td>.bin</td>\n      <td>hlsl</td>\n      <td>1305</td>\n      <td>2020/5/19 上午 11:12:05</td>\n      <td>right_only</td>\n    </tr>\n    <tr>\n      <th>9</th>\n      <td>9</td>\n      <td>&lt;NA&gt;</td>\n      <td>NaN</td>\n      <td>NaN</td>\n      <td>vs_post.bin</td>\n      <td>&lt;NA&gt;</td>\n      <td>NaN</td>\n      <td>2970</td>\n      <td>.bin</td>\n      <td>hlsl</td>\n      <td>1305</td>\n      <td>2020/5/19 上午 11:12:05</td>\n      <td>right_only</td>\n    </tr>\n    <tr>\n      <th>10</th>\n      <td>10</td>\n      <td>&lt;NA&gt;</td>\n      <td>NaN</td>\n      <td>NaN</td>\n      <td>vs_prescale.bin</td>\n      <td>&lt;NA&gt;</td>\n      <td>NaN</td>\n      <td>2970</td>\n      <td>.bin</td>\n      <td>hlsl</td>\n      <td>1305</td>\n      <td>2020/5/19 上午 11:12:05</td>\n      <td>right_only</td>\n    </tr>\n    <tr>\n      <th>11</th>\n      <td>11</td>\n      <td>&lt;NA&gt;</td>\n      <td>NaN</td>\n      <td>NaN</td>\n      <td>vs_scanline.bin</td>\n      <td>&lt;NA&gt;</td>\n      <td>NaN</td>\n      <td>2970</td>\n      <td>.bin</td>\n      <td>hlsl</td>\n      <td>1305</td>\n      <td>2020/5/19 上午 11:12:05</td>\n      <td>right_only</td>\n    </tr>\n  </tbody>\n</table>\n</div>"
     },
     "execution_count": 23,
     "metadata": {},
     "output_type": "execute_result"
    }
   ],
   "source": [
    "compare_result"
   ],
   "metadata": {
    "collapsed": false,
    "pycharm": {
     "name": "#%%\n"
    }
   }
  },
  {
   "cell_type": "code",
   "execution_count": 24,
   "outputs": [],
   "source": [
    "compare_result.rename(columns={'Unnamed: 0':'索引號'}, inplace=True)"
   ],
   "metadata": {
    "collapsed": false,
    "pycharm": {
     "name": "#%%\n"
    }
   }
  },
  {
   "cell_type": "code",
   "execution_count": 33,
   "outputs": [],
   "source": [
    "compare_result.set_index('檔案名稱', inplace=True)"
   ],
   "metadata": {
    "collapsed": false,
    "pycharm": {
     "name": "#%%\n"
    }
   }
  },
  {
   "cell_type": "code",
   "execution_count": 34,
   "outputs": [
    {
     "data": {
      "text/plain": "                    索引號      組別   檔案類型 檔案資料夾      大小                   修改日期  \\\n檔案名稱                                                                          \nREADME.md             0  2893.0    .md  hlsl   207.0  2020/5/19 上午 11:12:00   \npost.json             1  2894.0  .json  hlsl  2521.0  2020/5/19 上午 11:12:00   \nvs_chroma.bin         2     NaN    NaN   NaN     NaN                    NaN   \nvs_color.bin          3     NaN    NaN   NaN     NaN                    NaN   \nvs_defocus.bin        4     NaN    NaN   NaN     NaN                    NaN   \nvs_distortion.bin     5     NaN    NaN   NaN     NaN                    NaN   \nvs_ntsc_decode.bin    6     NaN    NaN   NaN     NaN                    NaN   \nvs_ntsc_encode.bin    7     NaN    NaN   NaN     NaN                    NaN   \nvs_phosphor.bin       8     NaN    NaN   NaN     NaN                    NaN   \nvs_post.bin           9     NaN    NaN   NaN     NaN                    NaN   \nvs_prescale.bin      10     NaN    NaN   NaN     NaN                    NaN   \nvs_scanline.bin      11     NaN    NaN   NaN     NaN                    NaN   \n\n                       組別_ 檔案類型_ 檔案資料夾_     大小_                  修改日期_  \\\n檔案名稱                                                                     \nREADME.md              NaN   NaN    NaN     NaN                    NaN   \npost.json              NaN   NaN    NaN     NaN                    NaN   \nvs_chroma.bin       2970.0  .bin   hlsl  1305.0  2020/5/19 上午 11:12:05   \nvs_color.bin        2970.0  .bin   hlsl  1305.0  2020/5/19 上午 11:12:05   \nvs_defocus.bin      2970.0  .bin   hlsl  1305.0  2020/5/19 上午 11:12:05   \nvs_distortion.bin   2970.0  .bin   hlsl  1305.0  2020/5/19 上午 11:12:05   \nvs_ntsc_decode.bin  2970.0  .bin   hlsl  1305.0  2020/5/19 上午 11:12:05   \nvs_ntsc_encode.bin  2970.0  .bin   hlsl  1305.0  2020/5/19 上午 11:12:05   \nvs_phosphor.bin     2970.0  .bin   hlsl  1305.0  2020/5/19 上午 11:12:05   \nvs_post.bin         2970.0  .bin   hlsl  1305.0  2020/5/19 上午 11:12:05   \nvs_prescale.bin     2970.0  .bin   hlsl  1305.0  2020/5/19 上午 11:12:05   \nvs_scanline.bin     2970.0  .bin   hlsl  1305.0  2020/5/19 上午 11:12:05   \n\n                        _merge  \n檔案名稱                            \nREADME.md            left_only  \npost.json            left_only  \nvs_chroma.bin       right_only  \nvs_color.bin        right_only  \nvs_defocus.bin      right_only  \nvs_distortion.bin   right_only  \nvs_ntsc_decode.bin  right_only  \nvs_ntsc_encode.bin  right_only  \nvs_phosphor.bin     right_only  \nvs_post.bin         right_only  \nvs_prescale.bin     right_only  \nvs_scanline.bin     right_only  ",
      "text/html": "<div>\n<style scoped>\n    .dataframe tbody tr th:only-of-type {\n        vertical-align: middle;\n    }\n\n    .dataframe tbody tr th {\n        vertical-align: top;\n    }\n\n    .dataframe thead th {\n        text-align: right;\n    }\n</style>\n<table border=\"1\" class=\"dataframe\">\n  <thead>\n    <tr style=\"text-align: right;\">\n      <th></th>\n      <th>索引號</th>\n      <th>組別</th>\n      <th>檔案類型</th>\n      <th>檔案資料夾</th>\n      <th>大小</th>\n      <th>修改日期</th>\n      <th>組別_</th>\n      <th>檔案類型_</th>\n      <th>檔案資料夾_</th>\n      <th>大小_</th>\n      <th>修改日期_</th>\n      <th>_merge</th>\n    </tr>\n    <tr>\n      <th>檔案名稱</th>\n      <th></th>\n      <th></th>\n      <th></th>\n      <th></th>\n      <th></th>\n      <th></th>\n      <th></th>\n      <th></th>\n      <th></th>\n      <th></th>\n      <th></th>\n      <th></th>\n    </tr>\n  </thead>\n  <tbody>\n    <tr>\n      <th>README.md</th>\n      <td>0</td>\n      <td>2893.0</td>\n      <td>.md</td>\n      <td>hlsl</td>\n      <td>207.0</td>\n      <td>2020/5/19 上午 11:12:00</td>\n      <td>NaN</td>\n      <td>NaN</td>\n      <td>NaN</td>\n      <td>NaN</td>\n      <td>NaN</td>\n      <td>left_only</td>\n    </tr>\n    <tr>\n      <th>post.json</th>\n      <td>1</td>\n      <td>2894.0</td>\n      <td>.json</td>\n      <td>hlsl</td>\n      <td>2521.0</td>\n      <td>2020/5/19 上午 11:12:00</td>\n      <td>NaN</td>\n      <td>NaN</td>\n      <td>NaN</td>\n      <td>NaN</td>\n      <td>NaN</td>\n      <td>left_only</td>\n    </tr>\n    <tr>\n      <th>vs_chroma.bin</th>\n      <td>2</td>\n      <td>NaN</td>\n      <td>NaN</td>\n      <td>NaN</td>\n      <td>NaN</td>\n      <td>NaN</td>\n      <td>2970.0</td>\n      <td>.bin</td>\n      <td>hlsl</td>\n      <td>1305.0</td>\n      <td>2020/5/19 上午 11:12:05</td>\n      <td>right_only</td>\n    </tr>\n    <tr>\n      <th>vs_color.bin</th>\n      <td>3</td>\n      <td>NaN</td>\n      <td>NaN</td>\n      <td>NaN</td>\n      <td>NaN</td>\n      <td>NaN</td>\n      <td>2970.0</td>\n      <td>.bin</td>\n      <td>hlsl</td>\n      <td>1305.0</td>\n      <td>2020/5/19 上午 11:12:05</td>\n      <td>right_only</td>\n    </tr>\n    <tr>\n      <th>vs_defocus.bin</th>\n      <td>4</td>\n      <td>NaN</td>\n      <td>NaN</td>\n      <td>NaN</td>\n      <td>NaN</td>\n      <td>NaN</td>\n      <td>2970.0</td>\n      <td>.bin</td>\n      <td>hlsl</td>\n      <td>1305.0</td>\n      <td>2020/5/19 上午 11:12:05</td>\n      <td>right_only</td>\n    </tr>\n    <tr>\n      <th>vs_distortion.bin</th>\n      <td>5</td>\n      <td>NaN</td>\n      <td>NaN</td>\n      <td>NaN</td>\n      <td>NaN</td>\n      <td>NaN</td>\n      <td>2970.0</td>\n      <td>.bin</td>\n      <td>hlsl</td>\n      <td>1305.0</td>\n      <td>2020/5/19 上午 11:12:05</td>\n      <td>right_only</td>\n    </tr>\n    <tr>\n      <th>vs_ntsc_decode.bin</th>\n      <td>6</td>\n      <td>NaN</td>\n      <td>NaN</td>\n      <td>NaN</td>\n      <td>NaN</td>\n      <td>NaN</td>\n      <td>2970.0</td>\n      <td>.bin</td>\n      <td>hlsl</td>\n      <td>1305.0</td>\n      <td>2020/5/19 上午 11:12:05</td>\n      <td>right_only</td>\n    </tr>\n    <tr>\n      <th>vs_ntsc_encode.bin</th>\n      <td>7</td>\n      <td>NaN</td>\n      <td>NaN</td>\n      <td>NaN</td>\n      <td>NaN</td>\n      <td>NaN</td>\n      <td>2970.0</td>\n      <td>.bin</td>\n      <td>hlsl</td>\n      <td>1305.0</td>\n      <td>2020/5/19 上午 11:12:05</td>\n      <td>right_only</td>\n    </tr>\n    <tr>\n      <th>vs_phosphor.bin</th>\n      <td>8</td>\n      <td>NaN</td>\n      <td>NaN</td>\n      <td>NaN</td>\n      <td>NaN</td>\n      <td>NaN</td>\n      <td>2970.0</td>\n      <td>.bin</td>\n      <td>hlsl</td>\n      <td>1305.0</td>\n      <td>2020/5/19 上午 11:12:05</td>\n      <td>right_only</td>\n    </tr>\n    <tr>\n      <th>vs_post.bin</th>\n      <td>9</td>\n      <td>NaN</td>\n      <td>NaN</td>\n      <td>NaN</td>\n      <td>NaN</td>\n      <td>NaN</td>\n      <td>2970.0</td>\n      <td>.bin</td>\n      <td>hlsl</td>\n      <td>1305.0</td>\n      <td>2020/5/19 上午 11:12:05</td>\n      <td>right_only</td>\n    </tr>\n    <tr>\n      <th>vs_prescale.bin</th>\n      <td>10</td>\n      <td>NaN</td>\n      <td>NaN</td>\n      <td>NaN</td>\n      <td>NaN</td>\n      <td>NaN</td>\n      <td>2970.0</td>\n      <td>.bin</td>\n      <td>hlsl</td>\n      <td>1305.0</td>\n      <td>2020/5/19 上午 11:12:05</td>\n      <td>right_only</td>\n    </tr>\n    <tr>\n      <th>vs_scanline.bin</th>\n      <td>11</td>\n      <td>NaN</td>\n      <td>NaN</td>\n      <td>NaN</td>\n      <td>NaN</td>\n      <td>NaN</td>\n      <td>2970.0</td>\n      <td>.bin</td>\n      <td>hlsl</td>\n      <td>1305.0</td>\n      <td>2020/5/19 上午 11:12:05</td>\n      <td>right_only</td>\n    </tr>\n  </tbody>\n</table>\n</div>"
     },
     "execution_count": 34,
     "metadata": {},
     "output_type": "execute_result"
    }
   ],
   "source": [
    "compare_result"
   ],
   "metadata": {
    "collapsed": false,
    "pycharm": {
     "name": "#%%\n"
    }
   }
  },
  {
   "cell_type": "code",
   "execution_count": 35,
   "outputs": [],
   "source": [
    "group_compare = compare_result.groupby('_merge')"
   ],
   "metadata": {
    "collapsed": false,
    "pycharm": {
     "name": "#%%\n"
    }
   }
  },
  {
   "cell_type": "code",
   "execution_count": 36,
   "outputs": [],
   "source": [
    "filter_group = iter(group_compare.groups.keys())"
   ],
   "metadata": {
    "collapsed": false,
    "pycharm": {
     "name": "#%%\n"
    }
   }
  },
  {
   "cell_type": "code",
   "execution_count": 37,
   "outputs": [],
   "source": [
    "filter_name = next(filter_group)"
   ],
   "metadata": {
    "collapsed": false,
    "pycharm": {
     "name": "#%%\n"
    }
   }
  },
  {
   "cell_type": "code",
   "execution_count": 38,
   "outputs": [
    {
     "data": {
      "text/plain": "'left_only'"
     },
     "execution_count": 38,
     "metadata": {},
     "output_type": "execute_result"
    }
   ],
   "source": [
    "filter_name"
   ],
   "metadata": {
    "collapsed": false,
    "pycharm": {
     "name": "#%%\n"
    }
   }
  },
  {
   "cell_type": "code",
   "execution_count": 39,
   "outputs": [],
   "source": [
    "get_frame = group_compare.get_group(filter_name)[filter_columns[filter_name]]"
   ],
   "metadata": {
    "collapsed": false,
    "pycharm": {
     "name": "#%%\n"
    }
   }
  },
  {
   "cell_type": "code",
   "execution_count": 40,
   "outputs": [
    {
     "data": {
      "text/plain": "               組別   檔案類型 檔案資料夾      大小                   修改日期\n檔案名稱                                                         \nREADME.md  2893.0    .md  hlsl   207.0  2020/5/19 上午 11:12:00\npost.json  2894.0  .json  hlsl  2521.0  2020/5/19 上午 11:12:00",
      "text/html": "<div>\n<style scoped>\n    .dataframe tbody tr th:only-of-type {\n        vertical-align: middle;\n    }\n\n    .dataframe tbody tr th {\n        vertical-align: top;\n    }\n\n    .dataframe thead th {\n        text-align: right;\n    }\n</style>\n<table border=\"1\" class=\"dataframe\">\n  <thead>\n    <tr style=\"text-align: right;\">\n      <th></th>\n      <th>組別</th>\n      <th>檔案類型</th>\n      <th>檔案資料夾</th>\n      <th>大小</th>\n      <th>修改日期</th>\n    </tr>\n    <tr>\n      <th>檔案名稱</th>\n      <th></th>\n      <th></th>\n      <th></th>\n      <th></th>\n      <th></th>\n    </tr>\n  </thead>\n  <tbody>\n    <tr>\n      <th>README.md</th>\n      <td>2893.0</td>\n      <td>.md</td>\n      <td>hlsl</td>\n      <td>207.0</td>\n      <td>2020/5/19 上午 11:12:00</td>\n    </tr>\n    <tr>\n      <th>post.json</th>\n      <td>2894.0</td>\n      <td>.json</td>\n      <td>hlsl</td>\n      <td>2521.0</td>\n      <td>2020/5/19 上午 11:12:00</td>\n    </tr>\n  </tbody>\n</table>\n</div>"
     },
     "execution_count": 40,
     "metadata": {},
     "output_type": "execute_result"
    }
   ],
   "source": [
    "get_frame"
   ],
   "metadata": {
    "collapsed": false,
    "pycharm": {
     "name": "#%%\n"
    }
   }
  },
  {
   "cell_type": "code",
   "execution_count": 41,
   "outputs": [],
   "source": [
    "get_frame.columns = [column.rstrip('_') for column in get_frame.columns]"
   ],
   "metadata": {
    "collapsed": false,
    "pycharm": {
     "name": "#%%\n"
    }
   }
  },
  {
   "cell_type": "code",
   "execution_count": 42,
   "outputs": [
    {
     "data": {
      "text/plain": "               組別   檔案類型 檔案資料夾      大小                   修改日期\n檔案名稱                                                         \nREADME.md  2893.0    .md  hlsl   207.0  2020/5/19 上午 11:12:00\npost.json  2894.0  .json  hlsl  2521.0  2020/5/19 上午 11:12:00",
      "text/html": "<div>\n<style scoped>\n    .dataframe tbody tr th:only-of-type {\n        vertical-align: middle;\n    }\n\n    .dataframe tbody tr th {\n        vertical-align: top;\n    }\n\n    .dataframe thead th {\n        text-align: right;\n    }\n</style>\n<table border=\"1\" class=\"dataframe\">\n  <thead>\n    <tr style=\"text-align: right;\">\n      <th></th>\n      <th>組別</th>\n      <th>檔案類型</th>\n      <th>檔案資料夾</th>\n      <th>大小</th>\n      <th>修改日期</th>\n    </tr>\n    <tr>\n      <th>檔案名稱</th>\n      <th></th>\n      <th></th>\n      <th></th>\n      <th></th>\n      <th></th>\n    </tr>\n  </thead>\n  <tbody>\n    <tr>\n      <th>README.md</th>\n      <td>2893.0</td>\n      <td>.md</td>\n      <td>hlsl</td>\n      <td>207.0</td>\n      <td>2020/5/19 上午 11:12:00</td>\n    </tr>\n    <tr>\n      <th>post.json</th>\n      <td>2894.0</td>\n      <td>.json</td>\n      <td>hlsl</td>\n      <td>2521.0</td>\n      <td>2020/5/19 上午 11:12:00</td>\n    </tr>\n  </tbody>\n</table>\n</div>"
     },
     "execution_count": 42,
     "metadata": {},
     "output_type": "execute_result"
    }
   ],
   "source": [
    "get_frame"
   ],
   "metadata": {
    "collapsed": false,
    "pycharm": {
     "name": "#%%\n"
    }
   }
  },
  {
   "cell_type": "code",
   "execution_count": 43,
   "outputs": [],
   "source": [
    "get_frame['差異路徑'] = rename_columns[filter_name]"
   ],
   "metadata": {
    "collapsed": false,
    "pycharm": {
     "name": "#%%\n"
    }
   }
  },
  {
   "cell_type": "code",
   "execution_count": 44,
   "outputs": [
    {
     "data": {
      "text/plain": "               組別   檔案類型 檔案資料夾      大小                   修改日期  差異路徑\n檔案名稱                                                               \nREADME.md  2893.0    .md  hlsl   207.0  2020/5/19 上午 11:12:00  來源路徑\npost.json  2894.0  .json  hlsl  2521.0  2020/5/19 上午 11:12:00  來源路徑",
      "text/html": "<div>\n<style scoped>\n    .dataframe tbody tr th:only-of-type {\n        vertical-align: middle;\n    }\n\n    .dataframe tbody tr th {\n        vertical-align: top;\n    }\n\n    .dataframe thead th {\n        text-align: right;\n    }\n</style>\n<table border=\"1\" class=\"dataframe\">\n  <thead>\n    <tr style=\"text-align: right;\">\n      <th></th>\n      <th>組別</th>\n      <th>檔案類型</th>\n      <th>檔案資料夾</th>\n      <th>大小</th>\n      <th>修改日期</th>\n      <th>差異路徑</th>\n    </tr>\n    <tr>\n      <th>檔案名稱</th>\n      <th></th>\n      <th></th>\n      <th></th>\n      <th></th>\n      <th></th>\n      <th></th>\n    </tr>\n  </thead>\n  <tbody>\n    <tr>\n      <th>README.md</th>\n      <td>2893.0</td>\n      <td>.md</td>\n      <td>hlsl</td>\n      <td>207.0</td>\n      <td>2020/5/19 上午 11:12:00</td>\n      <td>來源路徑</td>\n    </tr>\n    <tr>\n      <th>post.json</th>\n      <td>2894.0</td>\n      <td>.json</td>\n      <td>hlsl</td>\n      <td>2521.0</td>\n      <td>2020/5/19 上午 11:12:00</td>\n      <td>來源路徑</td>\n    </tr>\n  </tbody>\n</table>\n</div>"
     },
     "execution_count": 44,
     "metadata": {},
     "output_type": "execute_result"
    }
   ],
   "source": [
    "get_frame"
   ],
   "metadata": {
    "collapsed": false,
    "pycharm": {
     "name": "#%%\n"
    }
   }
  },
  {
   "cell_type": "code",
   "execution_count": 45,
   "outputs": [],
   "source": [
    "teamed = get_frame.groupby('組別')"
   ],
   "metadata": {
    "collapsed": false,
    "pycharm": {
     "name": "#%%\n"
    }
   }
  },
  {
   "cell_type": "code",
   "execution_count": 46,
   "outputs": [],
   "source": [
    "group_teamed = iter(teamed)"
   ],
   "metadata": {
    "collapsed": false,
    "pycharm": {
     "name": "#%%\n"
    }
   }
  },
  {
   "cell_type": "code",
   "execution_count": 47,
   "outputs": [
    {
     "data": {
      "text/plain": "<generator object BaseGrouper.get_iterator at 0x000001EE96B5D548>"
     },
     "execution_count": 47,
     "metadata": {},
     "output_type": "execute_result"
    }
   ],
   "source": [
    "group_teamed"
   ],
   "metadata": {
    "collapsed": false,
    "pycharm": {
     "name": "#%%\n"
    }
   }
  },
  {
   "cell_type": "code",
   "execution_count": 48,
   "outputs": [],
   "source": [
    "team_num, team_frame = next(group_teamed)"
   ],
   "metadata": {
    "collapsed": false,
    "pycharm": {
     "name": "#%%\n"
    }
   }
  },
  {
   "cell_type": "code",
   "execution_count": 49,
   "outputs": [
    {
     "data": {
      "text/plain": "2893.0"
     },
     "execution_count": 49,
     "metadata": {},
     "output_type": "execute_result"
    }
   ],
   "source": [
    "team_num"
   ],
   "metadata": {
    "collapsed": false,
    "pycharm": {
     "name": "#%%\n"
    }
   }
  },
  {
   "cell_type": "code",
   "execution_count": 50,
   "outputs": [
    {
     "data": {
      "text/plain": "               組別 檔案類型 檔案資料夾     大小                   修改日期  差異路徑\n檔案名稱                                                            \nREADME.md  2893.0  .md  hlsl  207.0  2020/5/19 上午 11:12:00  來源路徑",
      "text/html": "<div>\n<style scoped>\n    .dataframe tbody tr th:only-of-type {\n        vertical-align: middle;\n    }\n\n    .dataframe tbody tr th {\n        vertical-align: top;\n    }\n\n    .dataframe thead th {\n        text-align: right;\n    }\n</style>\n<table border=\"1\" class=\"dataframe\">\n  <thead>\n    <tr style=\"text-align: right;\">\n      <th></th>\n      <th>組別</th>\n      <th>檔案類型</th>\n      <th>檔案資料夾</th>\n      <th>大小</th>\n      <th>修改日期</th>\n      <th>差異路徑</th>\n    </tr>\n    <tr>\n      <th>檔案名稱</th>\n      <th></th>\n      <th></th>\n      <th></th>\n      <th></th>\n      <th></th>\n      <th></th>\n    </tr>\n  </thead>\n  <tbody>\n    <tr>\n      <th>README.md</th>\n      <td>2893.0</td>\n      <td>.md</td>\n      <td>hlsl</td>\n      <td>207.0</td>\n      <td>2020/5/19 上午 11:12:00</td>\n      <td>來源路徑</td>\n    </tr>\n  </tbody>\n</table>\n</div>"
     },
     "execution_count": 50,
     "metadata": {},
     "output_type": "execute_result"
    }
   ],
   "source": [
    "team_frame"
   ],
   "metadata": {
    "collapsed": false,
    "pycharm": {
     "name": "#%%\n"
    }
   }
  },
  {
   "cell_type": "code",
   "execution_count": 51,
   "outputs": [],
   "source": [
    "team_frame.reset_index(inplace=True)"
   ],
   "metadata": {
    "collapsed": false,
    "pycharm": {
     "name": "#%%\n"
    }
   }
  },
  {
   "cell_type": "code",
   "execution_count": 52,
   "outputs": [
    {
     "data": {
      "text/plain": "        檔案名稱      組別 檔案類型 檔案資料夾     大小                   修改日期  差異路徑\n0  README.md  2893.0  .md  hlsl  207.0  2020/5/19 上午 11:12:00  來源路徑",
      "text/html": "<div>\n<style scoped>\n    .dataframe tbody tr th:only-of-type {\n        vertical-align: middle;\n    }\n\n    .dataframe tbody tr th {\n        vertical-align: top;\n    }\n\n    .dataframe thead th {\n        text-align: right;\n    }\n</style>\n<table border=\"1\" class=\"dataframe\">\n  <thead>\n    <tr style=\"text-align: right;\">\n      <th></th>\n      <th>檔案名稱</th>\n      <th>組別</th>\n      <th>檔案類型</th>\n      <th>檔案資料夾</th>\n      <th>大小</th>\n      <th>修改日期</th>\n      <th>差異路徑</th>\n    </tr>\n  </thead>\n  <tbody>\n    <tr>\n      <th>0</th>\n      <td>README.md</td>\n      <td>2893.0</td>\n      <td>.md</td>\n      <td>hlsl</td>\n      <td>207.0</td>\n      <td>2020/5/19 上午 11:12:00</td>\n      <td>來源路徑</td>\n    </tr>\n  </tbody>\n</table>\n</div>"
     },
     "execution_count": 52,
     "metadata": {},
     "output_type": "execute_result"
    }
   ],
   "source": [
    "team_frame"
   ],
   "metadata": {
    "collapsed": false,
    "pycharm": {
     "name": "#%%\n"
    }
   }
  },
  {
   "cell_type": "code",
   "execution_count": 111,
   "outputs": [
    {
     "data": {
      "text/plain": "     檔案資料夾                    來源路徑                                    比較路徑 次數  \\\n0  artwork  D:\\MAME Games\\artwork\\  D:\\MAME Games\\mame0238b_64bit\\artwork\\  1   \n\n  來源長度 比較長度  \n0   16   17  ",
      "text/html": "<div>\n<style scoped>\n    .dataframe tbody tr th:only-of-type {\n        vertical-align: middle;\n    }\n\n    .dataframe tbody tr th {\n        vertical-align: top;\n    }\n\n    .dataframe thead th {\n        text-align: right;\n    }\n</style>\n<table border=\"1\" class=\"dataframe\">\n  <thead>\n    <tr style=\"text-align: right;\">\n      <th></th>\n      <th>檔案資料夾</th>\n      <th>來源路徑</th>\n      <th>比較路徑</th>\n      <th>次數</th>\n      <th>來源長度</th>\n      <th>比較長度</th>\n    </tr>\n  </thead>\n  <tbody>\n    <tr>\n      <th>0</th>\n      <td>artwork</td>\n      <td>D:\\MAME Games\\artwork\\</td>\n      <td>D:\\MAME Games\\mame0238b_64bit\\artwork\\</td>\n      <td>1</td>\n      <td>16</td>\n      <td>17</td>\n    </tr>\n  </tbody>\n</table>\n</div>"
     },
     "execution_count": 111,
     "metadata": {},
     "output_type": "execute_result"
    }
   ],
   "source": [
    "left"
   ],
   "metadata": {
    "collapsed": false,
    "pycharm": {
     "name": "#%%\n"
    }
   }
  },
  {
   "cell_type": "code",
   "execution_count": 112,
   "outputs": [],
   "source": [
    "right = team_frame"
   ],
   "metadata": {
    "collapsed": false,
    "pycharm": {
     "name": "#%%\n"
    }
   }
  },
  {
   "cell_type": "code",
   "execution_count": 113,
   "outputs": [
    {
     "data": {
      "text/plain": "          檔案名稱    組別  檔案類型    檔案資料夾  大小                   修改日期  差異路徑\n0  dir (2).txt  2878  .txt  artwork  26  1998/10/4 上午 02:20:58  比較路徑",
      "text/html": "<div>\n<style scoped>\n    .dataframe tbody tr th:only-of-type {\n        vertical-align: middle;\n    }\n\n    .dataframe tbody tr th {\n        vertical-align: top;\n    }\n\n    .dataframe thead th {\n        text-align: right;\n    }\n</style>\n<table border=\"1\" class=\"dataframe\">\n  <thead>\n    <tr style=\"text-align: right;\">\n      <th></th>\n      <th>檔案名稱</th>\n      <th>組別</th>\n      <th>檔案類型</th>\n      <th>檔案資料夾</th>\n      <th>大小</th>\n      <th>修改日期</th>\n      <th>差異路徑</th>\n    </tr>\n  </thead>\n  <tbody>\n    <tr>\n      <th>0</th>\n      <td>dir (2).txt</td>\n      <td>2878</td>\n      <td>.txt</td>\n      <td>artwork</td>\n      <td>26</td>\n      <td>1998/10/4 上午 02:20:58</td>\n      <td>比較路徑</td>\n    </tr>\n  </tbody>\n</table>\n</div>"
     },
     "execution_count": 113,
     "metadata": {},
     "output_type": "execute_result"
    }
   ],
   "source": [
    "right"
   ],
   "metadata": {
    "collapsed": false,
    "pycharm": {
     "name": "#%%\n"
    }
   }
  },
  {
   "cell_type": "code",
   "execution_count": 114,
   "outputs": [],
   "source": [
    "isolated_team = left.merge(right, on='檔案資料夾')"
   ],
   "metadata": {
    "collapsed": false,
    "pycharm": {
     "name": "#%%\n"
    }
   }
  },
  {
   "cell_type": "code",
   "execution_count": 115,
   "outputs": [
    {
     "data": {
      "text/plain": "     檔案資料夾                    來源路徑                                    比較路徑 次數  \\\n0  artwork  D:\\MAME Games\\artwork\\  D:\\MAME Games\\mame0238b_64bit\\artwork\\  1   \n\n  來源長度 比較長度         檔案名稱    組別  檔案類型  大小                   修改日期  差異路徑  \n0   16   17  dir (2).txt  2878  .txt  26  1998/10/4 上午 02:20:58  比較路徑  ",
      "text/html": "<div>\n<style scoped>\n    .dataframe tbody tr th:only-of-type {\n        vertical-align: middle;\n    }\n\n    .dataframe tbody tr th {\n        vertical-align: top;\n    }\n\n    .dataframe thead th {\n        text-align: right;\n    }\n</style>\n<table border=\"1\" class=\"dataframe\">\n  <thead>\n    <tr style=\"text-align: right;\">\n      <th></th>\n      <th>檔案資料夾</th>\n      <th>來源路徑</th>\n      <th>比較路徑</th>\n      <th>次數</th>\n      <th>來源長度</th>\n      <th>比較長度</th>\n      <th>檔案名稱</th>\n      <th>組別</th>\n      <th>檔案類型</th>\n      <th>大小</th>\n      <th>修改日期</th>\n      <th>差異路徑</th>\n    </tr>\n  </thead>\n  <tbody>\n    <tr>\n      <th>0</th>\n      <td>artwork</td>\n      <td>D:\\MAME Games\\artwork\\</td>\n      <td>D:\\MAME Games\\mame0238b_64bit\\artwork\\</td>\n      <td>1</td>\n      <td>16</td>\n      <td>17</td>\n      <td>dir (2).txt</td>\n      <td>2878</td>\n      <td>.txt</td>\n      <td>26</td>\n      <td>1998/10/4 上午 02:20:58</td>\n      <td>比較路徑</td>\n    </tr>\n  </tbody>\n</table>\n</div>"
     },
     "execution_count": 115,
     "metadata": {},
     "output_type": "execute_result"
    }
   ],
   "source": [
    "isolated_team"
   ],
   "metadata": {
    "collapsed": false,
    "pycharm": {
     "name": "#%%\n"
    }
   }
  },
  {
   "cell_type": "code",
   "execution_count": 117,
   "outputs": [],
   "source": [
    "consolidated_df = pd.concat([consolidated_df, isolated_team])"
   ],
   "metadata": {
    "collapsed": false,
    "pycharm": {
     "name": "#%%\n"
    }
   }
  },
  {
   "cell_type": "code",
   "execution_count": 118,
   "outputs": [
    {
     "data": {
      "text/plain": "     檔案資料夾                    來源路徑                                    比較路徑 次數  \\\n0  artwork  D:\\MAME Games\\artwork\\  D:\\MAME Games\\mame0238b_64bit\\artwork\\  1   \n\n  來源長度 比較長度         檔案名稱    組別  檔案類型  大小                   修改日期  差異路徑  \n0   16   17  dir (2).txt  2878  .txt  26  1998/10/4 上午 02:20:58  比較路徑  ",
      "text/html": "<div>\n<style scoped>\n    .dataframe tbody tr th:only-of-type {\n        vertical-align: middle;\n    }\n\n    .dataframe tbody tr th {\n        vertical-align: top;\n    }\n\n    .dataframe thead th {\n        text-align: right;\n    }\n</style>\n<table border=\"1\" class=\"dataframe\">\n  <thead>\n    <tr style=\"text-align: right;\">\n      <th></th>\n      <th>檔案資料夾</th>\n      <th>來源路徑</th>\n      <th>比較路徑</th>\n      <th>次數</th>\n      <th>來源長度</th>\n      <th>比較長度</th>\n      <th>檔案名稱</th>\n      <th>組別</th>\n      <th>檔案類型</th>\n      <th>大小</th>\n      <th>修改日期</th>\n      <th>差異路徑</th>\n    </tr>\n  </thead>\n  <tbody>\n    <tr>\n      <th>0</th>\n      <td>artwork</td>\n      <td>D:\\MAME Games\\artwork\\</td>\n      <td>D:\\MAME Games\\mame0238b_64bit\\artwork\\</td>\n      <td>1</td>\n      <td>16</td>\n      <td>17</td>\n      <td>dir (2).txt</td>\n      <td>2878</td>\n      <td>.txt</td>\n      <td>26</td>\n      <td>1998/10/4 上午 02:20:58</td>\n      <td>比較路徑</td>\n    </tr>\n  </tbody>\n</table>\n</div>"
     },
     "execution_count": 118,
     "metadata": {},
     "output_type": "execute_result"
    }
   ],
   "source": [
    "consolidated_df"
   ],
   "metadata": {
    "collapsed": false,
    "pycharm": {
     "name": "#%%\n"
    }
   }
  },
  {
   "cell_type": "code",
   "execution_count": null,
   "outputs": [],
   "source": [],
   "metadata": {
    "collapsed": false,
    "pycharm": {
     "name": "#%%\n"
    }
   }
  }
 ],
 "metadata": {
  "kernelspec": {
   "display_name": "Python 3",
   "language": "python",
   "name": "python3"
  },
  "language_info": {
   "codemirror_mode": {
    "name": "ipython",
    "version": 2
   },
   "file_extension": ".py",
   "mimetype": "text/x-python",
   "name": "python",
   "nbconvert_exporter": "python",
   "pygments_lexer": "ipython2",
   "version": "2.7.6"
  }
 },
 "nbformat": 4,
 "nbformat_minor": 0
}