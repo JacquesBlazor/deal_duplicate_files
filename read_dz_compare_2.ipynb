{
 "cells": [
  {
   "cell_type": "code",
   "execution_count": 1,
   "metadata": {
    "collapsed": false,
    "pycharm": {
     "name": "#%%\n"
    }
   },
   "outputs": [],
   "source": [
    "import os\n",
    "import json\n",
    "import pickle\n",
    "import pandas as pd"
   ]
  },
  {
   "cell_type": "code",
   "execution_count": 3,
   "outputs": [
    {
     "data": {
      "text/plain": "           檔案類型                                  檔案名稱  \\\n0          .txt                           dirlist.txt   \n1          .txt                       description.txt   \n2          .txt                       description.txt   \n3          .txt                       description.txt   \n4          .txt                       description.txt   \n...         ...                                   ...   \n335517  .addins                   nunit.bundle.addins   \n335518  .addins                   nunit.bundle.addins   \n335519    .DSRX                       雲端策略中心(舊版).DSRX   \n335520  .vspscc     YuantaOneAPI_TestAP.csproj.vspscc   \n335521  .readme  作者 tmdla 自製期貨交易軟體 hanyang0721.readme   \n\n                                                 檔案資料夾  \\\n0                                                   D:   \n1                 2015-07-06_1256_理財觀念_投資權證 你必須知道的四大優點   \n2       2015-07-16_1124_技術分析教學_以MACD辨識買賣時機_簡單又可靠的技術面指標   \n3             2015-08-10_1327_理財觀念_搞懂不同規模企業的獲利比較基準：EPS   \n4               2015-08-19_1241_理財觀念_明牌是好康道相報，還是挖洞給你跳？   \n...                                                ...   \n335517                                           net20   \n335518                                           net35   \n335519                                      Xscript入門篇   \n335520                                YuantaAPI_TestAP   \n335521                   作者 tmdla 自製期貨交易軟體 hanyang0721   \n\n                                                       路徑  \\\n0                                                     D:\\   \n1       D:\\8分鐘搞懂理財知識\\_8分鐘搞懂理財知識_整理的影片by資料夾\\2015-07-06_...   \n2       D:\\8分鐘搞懂理財知識\\_8分鐘搞懂理財知識_整理的影片by資料夾\\2015-07-16_...   \n3       D:\\8分鐘搞懂理財知識\\_8分鐘搞懂理財知識_整理的影片by資料夾\\2015-08-10_...   \n4       D:\\8分鐘搞懂理財知識\\_8分鐘搞懂理財知識_整理的影片by資料夾\\2015-08-19_...   \n...                                                   ...   \n335517  D:\\_githubs 下載\\selenium\\third_party\\dotnet\\nun...   \n335518  D:\\_githubs 下載\\selenium\\third_party\\dotnet\\nun...   \n335519                  D:\\_XQ XScript 量化交易平台\\Xscript入門篇\\   \n335520  D:\\_元大證券_API_b2bapi_user_docs\\YuantaOneAPI_Use...   \n335521                  D:\\作者 tmdla 自製期貨交易軟體 hanyang0721\\   \n\n                                                     完整路徑  \n0                                          D:\\dirlist.txt  \n1       D:\\8分鐘搞懂理財知識\\_8分鐘搞懂理財知識_整理的影片by資料夾\\2015-07-06_...  \n2       D:\\8分鐘搞懂理財知識\\_8分鐘搞懂理財知識_整理的影片by資料夾\\2015-07-16_...  \n3       D:\\8分鐘搞懂理財知識\\_8分鐘搞懂理財知識_整理的影片by資料夾\\2015-08-10_...  \n4       D:\\8分鐘搞懂理財知識\\_8分鐘搞懂理財知識_整理的影片by資料夾\\2015-08-19_...  \n...                                                   ...  \n335517  D:\\_githubs 下載\\selenium\\third_party\\dotnet\\nun...  \n335518  D:\\_githubs 下載\\selenium\\third_party\\dotnet\\nun...  \n335519   D:\\_XQ XScript 量化交易平台\\Xscript入門篇\\雲端策略中心(舊版).DSRX  \n335520  D:\\_元大證券_API_b2bapi_user_docs\\YuantaOneAPI_Use...  \n335521  D:\\作者 tmdla 自製期貨交易軟體 hanyang0721\\作者 tmdla 自製期貨...  \n\n[335522 rows x 5 columns]",
      "text/html": "<div>\n<style scoped>\n    .dataframe tbody tr th:only-of-type {\n        vertical-align: middle;\n    }\n\n    .dataframe tbody tr th {\n        vertical-align: top;\n    }\n\n    .dataframe thead th {\n        text-align: right;\n    }\n</style>\n<table border=\"1\" class=\"dataframe\">\n  <thead>\n    <tr style=\"text-align: right;\">\n      <th></th>\n      <th>檔案類型</th>\n      <th>檔案名稱</th>\n      <th>檔案資料夾</th>\n      <th>路徑</th>\n      <th>完整路徑</th>\n    </tr>\n  </thead>\n  <tbody>\n    <tr>\n      <th>0</th>\n      <td>.txt</td>\n      <td>dirlist.txt</td>\n      <td>D:</td>\n      <td>D:\\</td>\n      <td>D:\\dirlist.txt</td>\n    </tr>\n    <tr>\n      <th>1</th>\n      <td>.txt</td>\n      <td>description.txt</td>\n      <td>2015-07-06_1256_理財觀念_投資權證 你必須知道的四大優點</td>\n      <td>D:\\8分鐘搞懂理財知識\\_8分鐘搞懂理財知識_整理的影片by資料夾\\2015-07-06_...</td>\n      <td>D:\\8分鐘搞懂理財知識\\_8分鐘搞懂理財知識_整理的影片by資料夾\\2015-07-06_...</td>\n    </tr>\n    <tr>\n      <th>2</th>\n      <td>.txt</td>\n      <td>description.txt</td>\n      <td>2015-07-16_1124_技術分析教學_以MACD辨識買賣時機_簡單又可靠的技術面指標</td>\n      <td>D:\\8分鐘搞懂理財知識\\_8分鐘搞懂理財知識_整理的影片by資料夾\\2015-07-16_...</td>\n      <td>D:\\8分鐘搞懂理財知識\\_8分鐘搞懂理財知識_整理的影片by資料夾\\2015-07-16_...</td>\n    </tr>\n    <tr>\n      <th>3</th>\n      <td>.txt</td>\n      <td>description.txt</td>\n      <td>2015-08-10_1327_理財觀念_搞懂不同規模企業的獲利比較基準：EPS</td>\n      <td>D:\\8分鐘搞懂理財知識\\_8分鐘搞懂理財知識_整理的影片by資料夾\\2015-08-10_...</td>\n      <td>D:\\8分鐘搞懂理財知識\\_8分鐘搞懂理財知識_整理的影片by資料夾\\2015-08-10_...</td>\n    </tr>\n    <tr>\n      <th>4</th>\n      <td>.txt</td>\n      <td>description.txt</td>\n      <td>2015-08-19_1241_理財觀念_明牌是好康道相報，還是挖洞給你跳？</td>\n      <td>D:\\8分鐘搞懂理財知識\\_8分鐘搞懂理財知識_整理的影片by資料夾\\2015-08-19_...</td>\n      <td>D:\\8分鐘搞懂理財知識\\_8分鐘搞懂理財知識_整理的影片by資料夾\\2015-08-19_...</td>\n    </tr>\n    <tr>\n      <th>...</th>\n      <td>...</td>\n      <td>...</td>\n      <td>...</td>\n      <td>...</td>\n      <td>...</td>\n    </tr>\n    <tr>\n      <th>335517</th>\n      <td>.addins</td>\n      <td>nunit.bundle.addins</td>\n      <td>net20</td>\n      <td>D:\\_githubs 下載\\selenium\\third_party\\dotnet\\nun...</td>\n      <td>D:\\_githubs 下載\\selenium\\third_party\\dotnet\\nun...</td>\n    </tr>\n    <tr>\n      <th>335518</th>\n      <td>.addins</td>\n      <td>nunit.bundle.addins</td>\n      <td>net35</td>\n      <td>D:\\_githubs 下載\\selenium\\third_party\\dotnet\\nun...</td>\n      <td>D:\\_githubs 下載\\selenium\\third_party\\dotnet\\nun...</td>\n    </tr>\n    <tr>\n      <th>335519</th>\n      <td>.DSRX</td>\n      <td>雲端策略中心(舊版).DSRX</td>\n      <td>Xscript入門篇</td>\n      <td>D:\\_XQ XScript 量化交易平台\\Xscript入門篇\\</td>\n      <td>D:\\_XQ XScript 量化交易平台\\Xscript入門篇\\雲端策略中心(舊版).DSRX</td>\n    </tr>\n    <tr>\n      <th>335520</th>\n      <td>.vspscc</td>\n      <td>YuantaOneAPI_TestAP.csproj.vspscc</td>\n      <td>YuantaAPI_TestAP</td>\n      <td>D:\\_元大證券_API_b2bapi_user_docs\\YuantaOneAPI_Use...</td>\n      <td>D:\\_元大證券_API_b2bapi_user_docs\\YuantaOneAPI_Use...</td>\n    </tr>\n    <tr>\n      <th>335521</th>\n      <td>.readme</td>\n      <td>作者 tmdla 自製期貨交易軟體 hanyang0721.readme</td>\n      <td>作者 tmdla 自製期貨交易軟體 hanyang0721</td>\n      <td>D:\\作者 tmdla 自製期貨交易軟體 hanyang0721\\</td>\n      <td>D:\\作者 tmdla 自製期貨交易軟體 hanyang0721\\作者 tmdla 自製期貨...</td>\n    </tr>\n  </tbody>\n</table>\n<p>335522 rows × 5 columns</p>\n</div>"
     },
     "execution_count": 3,
     "metadata": {},
     "output_type": "execute_result"
    }
   ],
   "source": [
    "dfd = pd.read_csv('./compare_dz/.comp_backup/d_drive_file_list.csv')\n",
    "dfd.drop(['Unnamed: 0'], axis=1, inplace=True)\n",
    "dfd"
   ],
   "metadata": {
    "collapsed": false,
    "pycharm": {
     "name": "#%%\n"
    }
   }
  },
  {
   "cell_type": "code",
   "execution_count": 4,
   "outputs": [
    {
     "data": {
      "text/plain": "                                                     完整路徑    檔案類型  \\\n0                                            Z:\\.DS_Store  .empty   \n1                                   Z:\\.AppleDB\\db_errlog  .empty   \n2                                        Z:\\.AppleDB\\lock  .empty   \n3       Z:\\新增書籍文件\\網路課程\\HTML5 跨平台程式開發 HTML CSS JavaScri...  .empty   \n4       Z:\\新增書籍文件\\網路課程\\HTML5 跨平台程式開發 HTML CSS JavaScri...  .empty   \n...                                                   ...     ...   \n178981  Z:\\資訊書籍文件\\Visual C# 新觀念 Microsoft Visual C# 程式...    .fpp   \n178982  Z:\\資訊書籍文件\\Visual C# 新觀念 Microsoft Visual C# 程式...    .fpp   \n178983  Z:\\資訊書籍文件\\Visual C# 新觀念 Microsoft Visual C# 程式...    .fpp   \n178984  Z:\\資訊書籍文件\\超實用業務 總管 人資的辦公室 WORD 必備 50 招省時技\\超實用業...   .dotx   \n178985  Z:\\資訊書籍文件\\超實用業務 總管 人資的辦公室 WORD 必備 50 招省時技\\超實用業...   .dotx   \n\n                       檔案名稱  \\\n0           .DS_Store.empty   \n1           db_errlog.empty   \n2                lock.empty   \n3          .gitignore.empty   \n4           .jshintrc.empty   \n...                     ...   \n178981          Ch8_5_1.fpp   \n178982          Ch8_5_2.fpp   \n178983         Ch8_5_2a.fpp   \n178984     Ch04 公司專用信箋.dotx   \n178985  Ch06 公司專用信箋範本檔.dotx   \n\n                                                       路徑     檔案資料夾  \n0                                                     Z:\\        Z:  \n1                                            Z:\\.AppleDB\\  .AppleDB  \n2                                            Z:\\.AppleDB\\  .AppleDB  \n3       Z:\\新增書籍文件\\網路課程\\HTML5 跨平台程式開發 HTML CSS JavaScri...   android  \n4       Z:\\新增書籍文件\\網路課程\\HTML5 跨平台程式開發 HTML CSS JavaScri...   cordova  \n...                                                   ...       ...  \n178981  Z:\\資訊書籍文件\\Visual C# 新觀念 Microsoft Visual C# 程式...      Ch08  \n178982  Z:\\資訊書籍文件\\Visual C# 新觀念 Microsoft Visual C# 程式...      Ch08  \n178983  Z:\\資訊書籍文件\\Visual C# 新觀念 Microsoft Visual C# 程式...      Ch08  \n178984  Z:\\資訊書籍文件\\超實用業務 總管 人資的辦公室 WORD 必備 50 招省時技\\超實用業...    PART 1  \n178985  Z:\\資訊書籍文件\\超實用業務 總管 人資的辦公室 WORD 必備 50 招省時技\\超實用業...    PART 1  \n\n[178986 rows x 5 columns]",
      "text/html": "<div>\n<style scoped>\n    .dataframe tbody tr th:only-of-type {\n        vertical-align: middle;\n    }\n\n    .dataframe tbody tr th {\n        vertical-align: top;\n    }\n\n    .dataframe thead th {\n        text-align: right;\n    }\n</style>\n<table border=\"1\" class=\"dataframe\">\n  <thead>\n    <tr style=\"text-align: right;\">\n      <th></th>\n      <th>完整路徑</th>\n      <th>檔案類型</th>\n      <th>檔案名稱</th>\n      <th>路徑</th>\n      <th>檔案資料夾</th>\n    </tr>\n  </thead>\n  <tbody>\n    <tr>\n      <th>0</th>\n      <td>Z:\\.DS_Store</td>\n      <td>.empty</td>\n      <td>.DS_Store.empty</td>\n      <td>Z:\\</td>\n      <td>Z:</td>\n    </tr>\n    <tr>\n      <th>1</th>\n      <td>Z:\\.AppleDB\\db_errlog</td>\n      <td>.empty</td>\n      <td>db_errlog.empty</td>\n      <td>Z:\\.AppleDB\\</td>\n      <td>.AppleDB</td>\n    </tr>\n    <tr>\n      <th>2</th>\n      <td>Z:\\.AppleDB\\lock</td>\n      <td>.empty</td>\n      <td>lock.empty</td>\n      <td>Z:\\.AppleDB\\</td>\n      <td>.AppleDB</td>\n    </tr>\n    <tr>\n      <th>3</th>\n      <td>Z:\\新增書籍文件\\網路課程\\HTML5 跨平台程式開發 HTML CSS JavaScri...</td>\n      <td>.empty</td>\n      <td>.gitignore.empty</td>\n      <td>Z:\\新增書籍文件\\網路課程\\HTML5 跨平台程式開發 HTML CSS JavaScri...</td>\n      <td>android</td>\n    </tr>\n    <tr>\n      <th>4</th>\n      <td>Z:\\新增書籍文件\\網路課程\\HTML5 跨平台程式開發 HTML CSS JavaScri...</td>\n      <td>.empty</td>\n      <td>.jshintrc.empty</td>\n      <td>Z:\\新增書籍文件\\網路課程\\HTML5 跨平台程式開發 HTML CSS JavaScri...</td>\n      <td>cordova</td>\n    </tr>\n    <tr>\n      <th>...</th>\n      <td>...</td>\n      <td>...</td>\n      <td>...</td>\n      <td>...</td>\n      <td>...</td>\n    </tr>\n    <tr>\n      <th>178981</th>\n      <td>Z:\\資訊書籍文件\\Visual C# 新觀念 Microsoft Visual C# 程式...</td>\n      <td>.fpp</td>\n      <td>Ch8_5_1.fpp</td>\n      <td>Z:\\資訊書籍文件\\Visual C# 新觀念 Microsoft Visual C# 程式...</td>\n      <td>Ch08</td>\n    </tr>\n    <tr>\n      <th>178982</th>\n      <td>Z:\\資訊書籍文件\\Visual C# 新觀念 Microsoft Visual C# 程式...</td>\n      <td>.fpp</td>\n      <td>Ch8_5_2.fpp</td>\n      <td>Z:\\資訊書籍文件\\Visual C# 新觀念 Microsoft Visual C# 程式...</td>\n      <td>Ch08</td>\n    </tr>\n    <tr>\n      <th>178983</th>\n      <td>Z:\\資訊書籍文件\\Visual C# 新觀念 Microsoft Visual C# 程式...</td>\n      <td>.fpp</td>\n      <td>Ch8_5_2a.fpp</td>\n      <td>Z:\\資訊書籍文件\\Visual C# 新觀念 Microsoft Visual C# 程式...</td>\n      <td>Ch08</td>\n    </tr>\n    <tr>\n      <th>178984</th>\n      <td>Z:\\資訊書籍文件\\超實用業務 總管 人資的辦公室 WORD 必備 50 招省時技\\超實用業...</td>\n      <td>.dotx</td>\n      <td>Ch04 公司專用信箋.dotx</td>\n      <td>Z:\\資訊書籍文件\\超實用業務 總管 人資的辦公室 WORD 必備 50 招省時技\\超實用業...</td>\n      <td>PART 1</td>\n    </tr>\n    <tr>\n      <th>178985</th>\n      <td>Z:\\資訊書籍文件\\超實用業務 總管 人資的辦公室 WORD 必備 50 招省時技\\超實用業...</td>\n      <td>.dotx</td>\n      <td>Ch06 公司專用信箋範本檔.dotx</td>\n      <td>Z:\\資訊書籍文件\\超實用業務 總管 人資的辦公室 WORD 必備 50 招省時技\\超實用業...</td>\n      <td>PART 1</td>\n    </tr>\n  </tbody>\n</table>\n<p>178986 rows × 5 columns</p>\n</div>"
     },
     "execution_count": 4,
     "metadata": {},
     "output_type": "execute_result"
    }
   ],
   "source": [
    "dfz = pd.read_csv('./compare_dz/.comp_backup/z_drive_file_list.csv')\n",
    "dfz.drop(['Unnamed: 0'], axis=1, inplace=True)\n",
    "dfz"
   ],
   "metadata": {
    "collapsed": false,
    "pycharm": {
     "name": "#%%\n"
    }
   }
  },
  {
   "cell_type": "code",
   "execution_count": 5,
   "outputs": [],
   "source": [
    "d_by_folder = dfd.groupby('檔案資料夾')"
   ],
   "metadata": {
    "collapsed": false,
    "pycharm": {
     "name": "#%%\n"
    }
   }
  },
  {
   "cell_type": "code",
   "execution_count": 6,
   "outputs": [
    {
     "data": {
      "text/plain": "12000"
     },
     "execution_count": 6,
     "metadata": {},
     "output_type": "execute_result"
    }
   ],
   "source": [
    "d_by_folder.ngroups"
   ],
   "metadata": {
    "collapsed": false,
    "pycharm": {
     "name": "#%%\n"
    }
   }
  },
  {
   "cell_type": "code",
   "execution_count": 8,
   "outputs": [],
   "source": [
    "d_count = d_by_folder.count()"
   ],
   "metadata": {
    "collapsed": false,
    "pycharm": {
     "name": "#%%\n"
    }
   }
  },
  {
   "cell_type": "code",
   "execution_count": 9,
   "outputs": [
    {
     "data": {
      "text/plain": "                             檔案類型  檔案名稱   路徑  完整路徑\n檔案資料夾                                             \n.AppleDouble                    2     2    2     2\n.Thumbnails                    10    10   10    10\n.bin                           61    61   61    61\n.bundle                         2     2    2     2\n.circleci                       1     1    1     1\n...                           ...   ...  ...   ...\n駭客退散 站長 網管一定要知道的網站漏洞診斷術_書擷圖   163   163  163   163\n體驗手冊與資安白皮書                      4     4    4     4\n高手叫我不要教的 H 模型 兩個指標 百倍獲利         4     4    4     4\n高手叫我不要教的 H 模型 兩個指標 百倍獲利_書掃描   159   159  159   159\n高雄.imageset                     2     2    2     2\n\n[12000 rows x 4 columns]",
      "text/html": "<div>\n<style scoped>\n    .dataframe tbody tr th:only-of-type {\n        vertical-align: middle;\n    }\n\n    .dataframe tbody tr th {\n        vertical-align: top;\n    }\n\n    .dataframe thead th {\n        text-align: right;\n    }\n</style>\n<table border=\"1\" class=\"dataframe\">\n  <thead>\n    <tr style=\"text-align: right;\">\n      <th></th>\n      <th>檔案類型</th>\n      <th>檔案名稱</th>\n      <th>路徑</th>\n      <th>完整路徑</th>\n    </tr>\n    <tr>\n      <th>檔案資料夾</th>\n      <th></th>\n      <th></th>\n      <th></th>\n      <th></th>\n    </tr>\n  </thead>\n  <tbody>\n    <tr>\n      <th>.AppleDouble</th>\n      <td>2</td>\n      <td>2</td>\n      <td>2</td>\n      <td>2</td>\n    </tr>\n    <tr>\n      <th>.Thumbnails</th>\n      <td>10</td>\n      <td>10</td>\n      <td>10</td>\n      <td>10</td>\n    </tr>\n    <tr>\n      <th>.bin</th>\n      <td>61</td>\n      <td>61</td>\n      <td>61</td>\n      <td>61</td>\n    </tr>\n    <tr>\n      <th>.bundle</th>\n      <td>2</td>\n      <td>2</td>\n      <td>2</td>\n      <td>2</td>\n    </tr>\n    <tr>\n      <th>.circleci</th>\n      <td>1</td>\n      <td>1</td>\n      <td>1</td>\n      <td>1</td>\n    </tr>\n    <tr>\n      <th>...</th>\n      <td>...</td>\n      <td>...</td>\n      <td>...</td>\n      <td>...</td>\n    </tr>\n    <tr>\n      <th>駭客退散 站長 網管一定要知道的網站漏洞診斷術_書擷圖</th>\n      <td>163</td>\n      <td>163</td>\n      <td>163</td>\n      <td>163</td>\n    </tr>\n    <tr>\n      <th>體驗手冊與資安白皮書</th>\n      <td>4</td>\n      <td>4</td>\n      <td>4</td>\n      <td>4</td>\n    </tr>\n    <tr>\n      <th>高手叫我不要教的 H 模型 兩個指標 百倍獲利</th>\n      <td>4</td>\n      <td>4</td>\n      <td>4</td>\n      <td>4</td>\n    </tr>\n    <tr>\n      <th>高手叫我不要教的 H 模型 兩個指標 百倍獲利_書掃描</th>\n      <td>159</td>\n      <td>159</td>\n      <td>159</td>\n      <td>159</td>\n    </tr>\n    <tr>\n      <th>高雄.imageset</th>\n      <td>2</td>\n      <td>2</td>\n      <td>2</td>\n      <td>2</td>\n    </tr>\n  </tbody>\n</table>\n<p>12000 rows × 4 columns</p>\n</div>"
     },
     "execution_count": 9,
     "metadata": {},
     "output_type": "execute_result"
    }
   ],
   "source": [
    "d_count"
   ],
   "metadata": {
    "collapsed": false,
    "pycharm": {
     "name": "#%%\n"
    }
   }
  },
  {
   "cell_type": "code",
   "execution_count": 10,
   "outputs": [],
   "source": [
    "z_by_folder = dfz.groupby('檔案資料夾')"
   ],
   "metadata": {
    "collapsed": false,
    "pycharm": {
     "name": "#%%\n"
    }
   }
  },
  {
   "cell_type": "code",
   "execution_count": 11,
   "outputs": [
    {
     "data": {
      "text/plain": "5530"
     },
     "execution_count": 11,
     "metadata": {},
     "output_type": "execute_result"
    }
   ],
   "source": [
    "z_by_folder.ngroups"
   ],
   "metadata": {
    "collapsed": false,
    "pycharm": {
     "name": "#%%\n"
    }
   }
  },
  {
   "cell_type": "code",
   "execution_count": 13,
   "outputs": [],
   "source": [
    "z_count = z_by_folder.count()"
   ],
   "metadata": {
    "collapsed": false,
    "pycharm": {
     "name": "#%%\n"
    }
   }
  },
  {
   "cell_type": "code",
   "execution_count": 14,
   "outputs": [
    {
     "data": {
      "text/plain": "                             完整路徑  檔案類型  檔案名稱   路徑\n檔案資料夾                                             \n.AppleDB                        4     4     4    4\n.AppleDouble                    2     2     2    2\n.bundle                         2     2     2    2\n.config                         2     2     2    2\n.git                           65    65    65   65\n...                           ...   ...   ...  ...\n駭客退散 站長 網管一定要知道的網站漏洞診斷術_書擷圖   164   164   164  164\n體驗手冊與資安白皮書                      4     4     4    4\n高手叫我不要教的 H 模型 兩個指標 百倍獲利         4     4     4    4\n高手叫我不要教的 H 模型 兩個指標 百倍獲利_書掃描   159   159   159  159\n高雄.imageset                     2     2     2    2\n\n[5530 rows x 4 columns]",
      "text/html": "<div>\n<style scoped>\n    .dataframe tbody tr th:only-of-type {\n        vertical-align: middle;\n    }\n\n    .dataframe tbody tr th {\n        vertical-align: top;\n    }\n\n    .dataframe thead th {\n        text-align: right;\n    }\n</style>\n<table border=\"1\" class=\"dataframe\">\n  <thead>\n    <tr style=\"text-align: right;\">\n      <th></th>\n      <th>完整路徑</th>\n      <th>檔案類型</th>\n      <th>檔案名稱</th>\n      <th>路徑</th>\n    </tr>\n    <tr>\n      <th>檔案資料夾</th>\n      <th></th>\n      <th></th>\n      <th></th>\n      <th></th>\n    </tr>\n  </thead>\n  <tbody>\n    <tr>\n      <th>.AppleDB</th>\n      <td>4</td>\n      <td>4</td>\n      <td>4</td>\n      <td>4</td>\n    </tr>\n    <tr>\n      <th>.AppleDouble</th>\n      <td>2</td>\n      <td>2</td>\n      <td>2</td>\n      <td>2</td>\n    </tr>\n    <tr>\n      <th>.bundle</th>\n      <td>2</td>\n      <td>2</td>\n      <td>2</td>\n      <td>2</td>\n    </tr>\n    <tr>\n      <th>.config</th>\n      <td>2</td>\n      <td>2</td>\n      <td>2</td>\n      <td>2</td>\n    </tr>\n    <tr>\n      <th>.git</th>\n      <td>65</td>\n      <td>65</td>\n      <td>65</td>\n      <td>65</td>\n    </tr>\n    <tr>\n      <th>...</th>\n      <td>...</td>\n      <td>...</td>\n      <td>...</td>\n      <td>...</td>\n    </tr>\n    <tr>\n      <th>駭客退散 站長 網管一定要知道的網站漏洞診斷術_書擷圖</th>\n      <td>164</td>\n      <td>164</td>\n      <td>164</td>\n      <td>164</td>\n    </tr>\n    <tr>\n      <th>體驗手冊與資安白皮書</th>\n      <td>4</td>\n      <td>4</td>\n      <td>4</td>\n      <td>4</td>\n    </tr>\n    <tr>\n      <th>高手叫我不要教的 H 模型 兩個指標 百倍獲利</th>\n      <td>4</td>\n      <td>4</td>\n      <td>4</td>\n      <td>4</td>\n    </tr>\n    <tr>\n      <th>高手叫我不要教的 H 模型 兩個指標 百倍獲利_書掃描</th>\n      <td>159</td>\n      <td>159</td>\n      <td>159</td>\n      <td>159</td>\n    </tr>\n    <tr>\n      <th>高雄.imageset</th>\n      <td>2</td>\n      <td>2</td>\n      <td>2</td>\n      <td>2</td>\n    </tr>\n  </tbody>\n</table>\n<p>5530 rows × 4 columns</p>\n</div>"
     },
     "execution_count": 14,
     "metadata": {},
     "output_type": "execute_result"
    }
   ],
   "source": [
    "z_count"
   ],
   "metadata": {
    "collapsed": false,
    "pycharm": {
     "name": "#%%\n"
    }
   }
  },
  {
   "cell_type": "code",
   "execution_count": 15,
   "outputs": [],
   "source": [
    "d_count.reset_index(inplace=True)"
   ],
   "metadata": {
    "collapsed": false,
    "pycharm": {
     "name": "#%%\n"
    }
   }
  },
  {
   "cell_type": "code",
   "execution_count": 16,
   "outputs": [],
   "source": [
    "z_count.reset_index(inplace=True)"
   ],
   "metadata": {
    "collapsed": false,
    "pycharm": {
     "name": "#%%\n"
    }
   }
  },
  {
   "cell_type": "code",
   "execution_count": 17,
   "outputs": [
    {
     "data": {
      "text/plain": "                            檔案資料夾  完整路徑  檔案類型  檔案名稱   路徑\n0                        .AppleDB     4     4     4    4\n1                    .AppleDouble     2     2     2    2\n2                         .bundle     2     2     2    2\n3                         .config     2     2     2    2\n4                            .git    65    65    65   65\n...                           ...   ...   ...   ...  ...\n5525  駭客退散 站長 網管一定要知道的網站漏洞診斷術_書擷圖   164   164   164  164\n5526                   體驗手冊與資安白皮書     4     4     4    4\n5527      高手叫我不要教的 H 模型 兩個指標 百倍獲利     4     4     4    4\n5528  高手叫我不要教的 H 模型 兩個指標 百倍獲利_書掃描   159   159   159  159\n5529                  高雄.imageset     2     2     2    2\n\n[5530 rows x 5 columns]",
      "text/html": "<div>\n<style scoped>\n    .dataframe tbody tr th:only-of-type {\n        vertical-align: middle;\n    }\n\n    .dataframe tbody tr th {\n        vertical-align: top;\n    }\n\n    .dataframe thead th {\n        text-align: right;\n    }\n</style>\n<table border=\"1\" class=\"dataframe\">\n  <thead>\n    <tr style=\"text-align: right;\">\n      <th></th>\n      <th>檔案資料夾</th>\n      <th>完整路徑</th>\n      <th>檔案類型</th>\n      <th>檔案名稱</th>\n      <th>路徑</th>\n    </tr>\n  </thead>\n  <tbody>\n    <tr>\n      <th>0</th>\n      <td>.AppleDB</td>\n      <td>4</td>\n      <td>4</td>\n      <td>4</td>\n      <td>4</td>\n    </tr>\n    <tr>\n      <th>1</th>\n      <td>.AppleDouble</td>\n      <td>2</td>\n      <td>2</td>\n      <td>2</td>\n      <td>2</td>\n    </tr>\n    <tr>\n      <th>2</th>\n      <td>.bundle</td>\n      <td>2</td>\n      <td>2</td>\n      <td>2</td>\n      <td>2</td>\n    </tr>\n    <tr>\n      <th>3</th>\n      <td>.config</td>\n      <td>2</td>\n      <td>2</td>\n      <td>2</td>\n      <td>2</td>\n    </tr>\n    <tr>\n      <th>4</th>\n      <td>.git</td>\n      <td>65</td>\n      <td>65</td>\n      <td>65</td>\n      <td>65</td>\n    </tr>\n    <tr>\n      <th>...</th>\n      <td>...</td>\n      <td>...</td>\n      <td>...</td>\n      <td>...</td>\n      <td>...</td>\n    </tr>\n    <tr>\n      <th>5525</th>\n      <td>駭客退散 站長 網管一定要知道的網站漏洞診斷術_書擷圖</td>\n      <td>164</td>\n      <td>164</td>\n      <td>164</td>\n      <td>164</td>\n    </tr>\n    <tr>\n      <th>5526</th>\n      <td>體驗手冊與資安白皮書</td>\n      <td>4</td>\n      <td>4</td>\n      <td>4</td>\n      <td>4</td>\n    </tr>\n    <tr>\n      <th>5527</th>\n      <td>高手叫我不要教的 H 模型 兩個指標 百倍獲利</td>\n      <td>4</td>\n      <td>4</td>\n      <td>4</td>\n      <td>4</td>\n    </tr>\n    <tr>\n      <th>5528</th>\n      <td>高手叫我不要教的 H 模型 兩個指標 百倍獲利_書掃描</td>\n      <td>159</td>\n      <td>159</td>\n      <td>159</td>\n      <td>159</td>\n    </tr>\n    <tr>\n      <th>5529</th>\n      <td>高雄.imageset</td>\n      <td>2</td>\n      <td>2</td>\n      <td>2</td>\n      <td>2</td>\n    </tr>\n  </tbody>\n</table>\n<p>5530 rows × 5 columns</p>\n</div>"
     },
     "execution_count": 17,
     "metadata": {},
     "output_type": "execute_result"
    }
   ],
   "source": [
    "z_count"
   ],
   "metadata": {
    "collapsed": false,
    "pycharm": {
     "name": "#%%\n"
    }
   }
  },
  {
   "cell_type": "code",
   "execution_count": 18,
   "outputs": [
    {
     "data": {
      "text/plain": "                             檔案資料夾  檔案類型  檔案名稱   路徑  完整路徑\n0                     .AppleDouble     2     2    2     2\n1                      .Thumbnails    10    10   10    10\n2                             .bin    61    61   61    61\n3                          .bundle     2     2    2     2\n4                        .circleci     1     1    1     1\n...                            ...   ...   ...  ...   ...\n11995  駭客退散 站長 網管一定要知道的網站漏洞診斷術_書擷圖   163   163  163   163\n11996                   體驗手冊與資安白皮書     4     4    4     4\n11997      高手叫我不要教的 H 模型 兩個指標 百倍獲利     4     4    4     4\n11998  高手叫我不要教的 H 模型 兩個指標 百倍獲利_書掃描   159   159  159   159\n11999                  高雄.imageset     2     2    2     2\n\n[12000 rows x 5 columns]",
      "text/html": "<div>\n<style scoped>\n    .dataframe tbody tr th:only-of-type {\n        vertical-align: middle;\n    }\n\n    .dataframe tbody tr th {\n        vertical-align: top;\n    }\n\n    .dataframe thead th {\n        text-align: right;\n    }\n</style>\n<table border=\"1\" class=\"dataframe\">\n  <thead>\n    <tr style=\"text-align: right;\">\n      <th></th>\n      <th>檔案資料夾</th>\n      <th>檔案類型</th>\n      <th>檔案名稱</th>\n      <th>路徑</th>\n      <th>完整路徑</th>\n    </tr>\n  </thead>\n  <tbody>\n    <tr>\n      <th>0</th>\n      <td>.AppleDouble</td>\n      <td>2</td>\n      <td>2</td>\n      <td>2</td>\n      <td>2</td>\n    </tr>\n    <tr>\n      <th>1</th>\n      <td>.Thumbnails</td>\n      <td>10</td>\n      <td>10</td>\n      <td>10</td>\n      <td>10</td>\n    </tr>\n    <tr>\n      <th>2</th>\n      <td>.bin</td>\n      <td>61</td>\n      <td>61</td>\n      <td>61</td>\n      <td>61</td>\n    </tr>\n    <tr>\n      <th>3</th>\n      <td>.bundle</td>\n      <td>2</td>\n      <td>2</td>\n      <td>2</td>\n      <td>2</td>\n    </tr>\n    <tr>\n      <th>4</th>\n      <td>.circleci</td>\n      <td>1</td>\n      <td>1</td>\n      <td>1</td>\n      <td>1</td>\n    </tr>\n    <tr>\n      <th>...</th>\n      <td>...</td>\n      <td>...</td>\n      <td>...</td>\n      <td>...</td>\n      <td>...</td>\n    </tr>\n    <tr>\n      <th>11995</th>\n      <td>駭客退散 站長 網管一定要知道的網站漏洞診斷術_書擷圖</td>\n      <td>163</td>\n      <td>163</td>\n      <td>163</td>\n      <td>163</td>\n    </tr>\n    <tr>\n      <th>11996</th>\n      <td>體驗手冊與資安白皮書</td>\n      <td>4</td>\n      <td>4</td>\n      <td>4</td>\n      <td>4</td>\n    </tr>\n    <tr>\n      <th>11997</th>\n      <td>高手叫我不要教的 H 模型 兩個指標 百倍獲利</td>\n      <td>4</td>\n      <td>4</td>\n      <td>4</td>\n      <td>4</td>\n    </tr>\n    <tr>\n      <th>11998</th>\n      <td>高手叫我不要教的 H 模型 兩個指標 百倍獲利_書掃描</td>\n      <td>159</td>\n      <td>159</td>\n      <td>159</td>\n      <td>159</td>\n    </tr>\n    <tr>\n      <th>11999</th>\n      <td>高雄.imageset</td>\n      <td>2</td>\n      <td>2</td>\n      <td>2</td>\n      <td>2</td>\n    </tr>\n  </tbody>\n</table>\n<p>12000 rows × 5 columns</p>\n</div>"
     },
     "execution_count": 18,
     "metadata": {},
     "output_type": "execute_result"
    }
   ],
   "source": [
    "d_count"
   ],
   "metadata": {
    "collapsed": false,
    "pycharm": {
     "name": "#%%\n"
    }
   }
  },
  {
   "cell_type": "code",
   "execution_count": 19,
   "outputs": [
    {
     "data": {
      "text/plain": "Index(['檔案資料夾', '完整路徑', '檔案類型', '檔案名稱', '路徑'], dtype='object')"
     },
     "execution_count": 19,
     "metadata": {},
     "output_type": "execute_result"
    }
   ],
   "source": [
    "z_count.columns"
   ],
   "metadata": {
    "collapsed": false,
    "pycharm": {
     "name": "#%%\n"
    }
   }
  },
  {
   "cell_type": "code",
   "execution_count": 28,
   "outputs": [
    {
     "data": {
      "text/plain": "                            檔案資料夾  檔案類型  檔案名稱   路徑  完整路徑\n0                        .AppleDB     4     4    4     4\n1                    .AppleDouble     2     2    2     2\n2                         .bundle     2     2    2     2\n3                         .config     2     2    2     2\n4                            .git    65    65   65    65\n...                           ...   ...   ...  ...   ...\n5525  駭客退散 站長 網管一定要知道的網站漏洞診斷術_書擷圖   164   164  164   164\n5526                   體驗手冊與資安白皮書     4     4    4     4\n5527      高手叫我不要教的 H 模型 兩個指標 百倍獲利     4     4    4     4\n5528  高手叫我不要教的 H 模型 兩個指標 百倍獲利_書掃描   159   159  159   159\n5529                  高雄.imageset     2     2    2     2\n\n[5530 rows x 5 columns]",
      "text/html": "<div>\n<style scoped>\n    .dataframe tbody tr th:only-of-type {\n        vertical-align: middle;\n    }\n\n    .dataframe tbody tr th {\n        vertical-align: top;\n    }\n\n    .dataframe thead th {\n        text-align: right;\n    }\n</style>\n<table border=\"1\" class=\"dataframe\">\n  <thead>\n    <tr style=\"text-align: right;\">\n      <th></th>\n      <th>檔案資料夾</th>\n      <th>檔案類型</th>\n      <th>檔案名稱</th>\n      <th>路徑</th>\n      <th>完整路徑</th>\n    </tr>\n  </thead>\n  <tbody>\n    <tr>\n      <th>0</th>\n      <td>.AppleDB</td>\n      <td>4</td>\n      <td>4</td>\n      <td>4</td>\n      <td>4</td>\n    </tr>\n    <tr>\n      <th>1</th>\n      <td>.AppleDouble</td>\n      <td>2</td>\n      <td>2</td>\n      <td>2</td>\n      <td>2</td>\n    </tr>\n    <tr>\n      <th>2</th>\n      <td>.bundle</td>\n      <td>2</td>\n      <td>2</td>\n      <td>2</td>\n      <td>2</td>\n    </tr>\n    <tr>\n      <th>3</th>\n      <td>.config</td>\n      <td>2</td>\n      <td>2</td>\n      <td>2</td>\n      <td>2</td>\n    </tr>\n    <tr>\n      <th>4</th>\n      <td>.git</td>\n      <td>65</td>\n      <td>65</td>\n      <td>65</td>\n      <td>65</td>\n    </tr>\n    <tr>\n      <th>...</th>\n      <td>...</td>\n      <td>...</td>\n      <td>...</td>\n      <td>...</td>\n      <td>...</td>\n    </tr>\n    <tr>\n      <th>5525</th>\n      <td>駭客退散 站長 網管一定要知道的網站漏洞診斷術_書擷圖</td>\n      <td>164</td>\n      <td>164</td>\n      <td>164</td>\n      <td>164</td>\n    </tr>\n    <tr>\n      <th>5526</th>\n      <td>體驗手冊與資安白皮書</td>\n      <td>4</td>\n      <td>4</td>\n      <td>4</td>\n      <td>4</td>\n    </tr>\n    <tr>\n      <th>5527</th>\n      <td>高手叫我不要教的 H 模型 兩個指標 百倍獲利</td>\n      <td>4</td>\n      <td>4</td>\n      <td>4</td>\n      <td>4</td>\n    </tr>\n    <tr>\n      <th>5528</th>\n      <td>高手叫我不要教的 H 模型 兩個指標 百倍獲利_書掃描</td>\n      <td>159</td>\n      <td>159</td>\n      <td>159</td>\n      <td>159</td>\n    </tr>\n    <tr>\n      <th>5529</th>\n      <td>高雄.imageset</td>\n      <td>2</td>\n      <td>2</td>\n      <td>2</td>\n      <td>2</td>\n    </tr>\n  </tbody>\n</table>\n<p>5530 rows × 5 columns</p>\n</div>"
     },
     "execution_count": 28,
     "metadata": {},
     "output_type": "execute_result"
    }
   ],
   "source": [
    "z_count"
   ],
   "metadata": {
    "collapsed": false,
    "pycharm": {
     "name": "#%%\n"
    }
   }
  },
  {
   "cell_type": "code",
   "execution_count": 20,
   "outputs": [],
   "source": [
    "z_count = z_count[['檔案資料夾', '檔案類型', '檔案名稱', '路徑', '完整路徑']]"
   ],
   "metadata": {
    "collapsed": false,
    "pycharm": {
     "name": "#%%\n"
    }
   }
  },
  {
   "cell_type": "code",
   "execution_count": 21,
   "outputs": [],
   "source": [
    "difference = d_count.merge(z_count, on='檔案資料夾', how='outer', suffixes=['', '_'], indicator=True).loc[lambda x : x['_merge']!='both']"
   ],
   "metadata": {
    "collapsed": false,
    "pycharm": {
     "name": "#%%\n"
    }
   }
  },
  {
   "cell_type": "code",
   "execution_count": 22,
   "outputs": [
    {
     "data": {
      "text/plain": "                                檔案資料夾  檔案類型  檔案名稱    路徑  完整路徑  檔案類型_  檔案名稱_  \\\n1                         .Thumbnails  10.0  10.0  10.0  10.0    NaN    NaN   \n2                                .bin  61.0  61.0  61.0  61.0    NaN    NaN   \n4                           .circleci   1.0   1.0   1.0   1.0    NaN    NaN   \n5                                .doc  36.0  36.0  36.0  36.0    NaN    NaN   \n7                             .github  11.0  11.0  11.0  11.0    NaN    NaN   \n...                               ...   ...   ...   ...   ...    ...    ...   \n12577                           資料搜集術   NaN   NaN   NaN   NaN    1.0    1.0   \n12578                            資訊書籍   NaN   NaN   NaN   NaN   50.0   50.0   \n12579                          資訊書籍文件   NaN   NaN   NaN   NaN    7.0    7.0   \n12580                            進階範例   NaN   NaN   NaN   NaN    7.0    7.0   \n12581  達人必學 Python 3.x 程式設計-最新版_書摘要掃描   NaN   NaN   NaN   NaN   70.0   70.0   \n\n        路徑_  完整路徑_      _merge  \n1       NaN    NaN   left_only  \n2       NaN    NaN   left_only  \n4       NaN    NaN   left_only  \n5       NaN    NaN   left_only  \n7       NaN    NaN   left_only  \n...     ...    ...         ...  \n12577   1.0    1.0  right_only  \n12578  50.0   50.0  right_only  \n12579   7.0    7.0  right_only  \n12580   7.0    7.0  right_only  \n12581  70.0   70.0  right_only  \n\n[7634 rows x 10 columns]",
      "text/html": "<div>\n<style scoped>\n    .dataframe tbody tr th:only-of-type {\n        vertical-align: middle;\n    }\n\n    .dataframe tbody tr th {\n        vertical-align: top;\n    }\n\n    .dataframe thead th {\n        text-align: right;\n    }\n</style>\n<table border=\"1\" class=\"dataframe\">\n  <thead>\n    <tr style=\"text-align: right;\">\n      <th></th>\n      <th>檔案資料夾</th>\n      <th>檔案類型</th>\n      <th>檔案名稱</th>\n      <th>路徑</th>\n      <th>完整路徑</th>\n      <th>檔案類型_</th>\n      <th>檔案名稱_</th>\n      <th>路徑_</th>\n      <th>完整路徑_</th>\n      <th>_merge</th>\n    </tr>\n  </thead>\n  <tbody>\n    <tr>\n      <th>1</th>\n      <td>.Thumbnails</td>\n      <td>10.0</td>\n      <td>10.0</td>\n      <td>10.0</td>\n      <td>10.0</td>\n      <td>NaN</td>\n      <td>NaN</td>\n      <td>NaN</td>\n      <td>NaN</td>\n      <td>left_only</td>\n    </tr>\n    <tr>\n      <th>2</th>\n      <td>.bin</td>\n      <td>61.0</td>\n      <td>61.0</td>\n      <td>61.0</td>\n      <td>61.0</td>\n      <td>NaN</td>\n      <td>NaN</td>\n      <td>NaN</td>\n      <td>NaN</td>\n      <td>left_only</td>\n    </tr>\n    <tr>\n      <th>4</th>\n      <td>.circleci</td>\n      <td>1.0</td>\n      <td>1.0</td>\n      <td>1.0</td>\n      <td>1.0</td>\n      <td>NaN</td>\n      <td>NaN</td>\n      <td>NaN</td>\n      <td>NaN</td>\n      <td>left_only</td>\n    </tr>\n    <tr>\n      <th>5</th>\n      <td>.doc</td>\n      <td>36.0</td>\n      <td>36.0</td>\n      <td>36.0</td>\n      <td>36.0</td>\n      <td>NaN</td>\n      <td>NaN</td>\n      <td>NaN</td>\n      <td>NaN</td>\n      <td>left_only</td>\n    </tr>\n    <tr>\n      <th>7</th>\n      <td>.github</td>\n      <td>11.0</td>\n      <td>11.0</td>\n      <td>11.0</td>\n      <td>11.0</td>\n      <td>NaN</td>\n      <td>NaN</td>\n      <td>NaN</td>\n      <td>NaN</td>\n      <td>left_only</td>\n    </tr>\n    <tr>\n      <th>...</th>\n      <td>...</td>\n      <td>...</td>\n      <td>...</td>\n      <td>...</td>\n      <td>...</td>\n      <td>...</td>\n      <td>...</td>\n      <td>...</td>\n      <td>...</td>\n      <td>...</td>\n    </tr>\n    <tr>\n      <th>12577</th>\n      <td>資料搜集術</td>\n      <td>NaN</td>\n      <td>NaN</td>\n      <td>NaN</td>\n      <td>NaN</td>\n      <td>1.0</td>\n      <td>1.0</td>\n      <td>1.0</td>\n      <td>1.0</td>\n      <td>right_only</td>\n    </tr>\n    <tr>\n      <th>12578</th>\n      <td>資訊書籍</td>\n      <td>NaN</td>\n      <td>NaN</td>\n      <td>NaN</td>\n      <td>NaN</td>\n      <td>50.0</td>\n      <td>50.0</td>\n      <td>50.0</td>\n      <td>50.0</td>\n      <td>right_only</td>\n    </tr>\n    <tr>\n      <th>12579</th>\n      <td>資訊書籍文件</td>\n      <td>NaN</td>\n      <td>NaN</td>\n      <td>NaN</td>\n      <td>NaN</td>\n      <td>7.0</td>\n      <td>7.0</td>\n      <td>7.0</td>\n      <td>7.0</td>\n      <td>right_only</td>\n    </tr>\n    <tr>\n      <th>12580</th>\n      <td>進階範例</td>\n      <td>NaN</td>\n      <td>NaN</td>\n      <td>NaN</td>\n      <td>NaN</td>\n      <td>7.0</td>\n      <td>7.0</td>\n      <td>7.0</td>\n      <td>7.0</td>\n      <td>right_only</td>\n    </tr>\n    <tr>\n      <th>12581</th>\n      <td>達人必學 Python 3.x 程式設計-最新版_書摘要掃描</td>\n      <td>NaN</td>\n      <td>NaN</td>\n      <td>NaN</td>\n      <td>NaN</td>\n      <td>70.0</td>\n      <td>70.0</td>\n      <td>70.0</td>\n      <td>70.0</td>\n      <td>right_only</td>\n    </tr>\n  </tbody>\n</table>\n<p>7634 rows × 10 columns</p>\n</div>"
     },
     "execution_count": 22,
     "metadata": {},
     "output_type": "execute_result"
    }
   ],
   "source": [
    "difference"
   ],
   "metadata": {
    "collapsed": false,
    "pycharm": {
     "name": "#%%\n"
    }
   }
  },
  {
   "cell_type": "code",
   "execution_count": 23,
   "outputs": [],
   "source": [
    "filter_columns = {\n",
    "    'left_only': ['組別', '檔案類型', '檔案資料夾', '大小', '修改日期'],\n",
    "    'right_only': ['組別_', '檔案類型_', '檔案資料夾_', '大小_', '修改日期_'],\n",
    "}\n",
    "rename_columns = {\n",
    "    'left_only': '來源路徑',\n",
    "    'right_only': '比較路徑',\n",
    "}"
   ],
   "metadata": {
    "collapsed": false,
    "pycharm": {
     "name": "#%%\n"
    }
   }
  },
  {
   "cell_type": "code",
   "execution_count": 24,
   "outputs": [
    {
     "name": "stdout",
     "output_type": "stream",
     "text": [
      "1\n"
     ]
    }
   ],
   "source": [
    "for index, row in difference.iterrows():\n",
    "    print(index)\n",
    "    break"
   ],
   "metadata": {
    "collapsed": false,
    "pycharm": {
     "name": "#%%\n"
    }
   }
  },
  {
   "cell_type": "code",
   "execution_count": 25,
   "outputs": [
    {
     "data": {
      "text/plain": "         檔案資料夾  檔案類型  檔案名稱    路徑  完整路徑 檔案類型_ 檔案名稱_  路徑_ 完整路徑_     _merge\n0  .Thumbnails  10.0  10.0  10.0  10.0   NaN   NaN  NaN   NaN  left_only",
      "text/html": "<div>\n<style scoped>\n    .dataframe tbody tr th:only-of-type {\n        vertical-align: middle;\n    }\n\n    .dataframe tbody tr th {\n        vertical-align: top;\n    }\n\n    .dataframe thead th {\n        text-align: right;\n    }\n</style>\n<table border=\"1\" class=\"dataframe\">\n  <thead>\n    <tr style=\"text-align: right;\">\n      <th></th>\n      <th>檔案資料夾</th>\n      <th>檔案類型</th>\n      <th>檔案名稱</th>\n      <th>路徑</th>\n      <th>完整路徑</th>\n      <th>檔案類型_</th>\n      <th>檔案名稱_</th>\n      <th>路徑_</th>\n      <th>完整路徑_</th>\n      <th>_merge</th>\n    </tr>\n  </thead>\n  <tbody>\n    <tr>\n      <th>0</th>\n      <td>.Thumbnails</td>\n      <td>10.0</td>\n      <td>10.0</td>\n      <td>10.0</td>\n      <td>10.0</td>\n      <td>NaN</td>\n      <td>NaN</td>\n      <td>NaN</td>\n      <td>NaN</td>\n      <td>left_only</td>\n    </tr>\n  </tbody>\n</table>\n</div>"
     },
     "execution_count": 25,
     "metadata": {},
     "output_type": "execute_result"
    }
   ],
   "source": [
    "left = row.to_frame().transpose().reset_index(drop=True)\n",
    "left"
   ],
   "metadata": {
    "collapsed": false,
    "pycharm": {
     "name": "#%%\n"
    }
   }
  },
  {
   "cell_type": "code",
   "execution_count": 33,
   "outputs": [
    {
     "data": {
      "text/plain": "'.Thumbnails'"
     },
     "execution_count": 33,
     "metadata": {},
     "output_type": "execute_result"
    }
   ],
   "source": [
    "left.iloc[0]['檔案資料夾']"
   ],
   "metadata": {
    "collapsed": false,
    "pycharm": {
     "name": "#%%\n"
    }
   }
  },
  {
   "cell_type": "code",
   "execution_count": 37,
   "outputs": [
    {
     "data": {
      "text/plain": "'left_only'"
     },
     "execution_count": 37,
     "metadata": {},
     "output_type": "execute_result"
    }
   ],
   "source": [
    "filter = left.iloc[0]['_merge']\n",
    "filter"
   ],
   "metadata": {
    "collapsed": false,
    "pycharm": {
     "name": "#%%\n"
    }
   }
  },
  {
   "cell_type": "code",
   "execution_count": 38,
   "outputs": [
    {
     "data": {
      "text/plain": "        檔案類型                     檔案名稱        檔案資料夾  \\\n100294  .jpg            Anthurium.jpg  .Thumbnails   \n100295  .jpg     Bird Of Paradise.jpg  .Thumbnails   \n100296  .jpg             Daffodil.jpg  .Thumbnails   \n100297  .jpg        Gloriosa Lily.jpg  .Thumbnails   \n100298  .jpg  Phalaenopsis Orchid.jpg  .Thumbnails   \n100299  .jpg               Protea.jpg  .Thumbnails   \n100300  .jpg          Stephanotis.jpg  .Thumbnails   \n100301  .jpg            Sunflower.jpg  .Thumbnails   \n100302  .jpg                Tulip.jpg  .Thumbnails   \n231767   .db                Thumbs.db  .Thumbnails   \n\n                                                       路徑  \\\n100294  D:\\_eBooks 電子書 Excel + VBA\\Excel VBA 工作效率UP！Ex...   \n100295  D:\\_eBooks 電子書 Excel + VBA\\Excel VBA 工作效率UP！Ex...   \n100296  D:\\_eBooks 電子書 Excel + VBA\\Excel VBA 工作效率UP！Ex...   \n100297  D:\\_eBooks 電子書 Excel + VBA\\Excel VBA 工作效率UP！Ex...   \n100298  D:\\_eBooks 電子書 Excel + VBA\\Excel VBA 工作效率UP！Ex...   \n100299  D:\\_eBooks 電子書 Excel + VBA\\Excel VBA 工作效率UP！Ex...   \n100300  D:\\_eBooks 電子書 Excel + VBA\\Excel VBA 工作效率UP！Ex...   \n100301  D:\\_eBooks 電子書 Excel + VBA\\Excel VBA 工作效率UP！Ex...   \n100302  D:\\_eBooks 電子書 Excel + VBA\\Excel VBA 工作效率UP！Ex...   \n231767  D:\\_eBooks 電子書 Excel + VBA\\Excel VBA 工作效率UP！Ex...   \n\n                                                     完整路徑  \n100294  D:\\_eBooks 電子書 Excel + VBA\\Excel VBA 工作效率UP！Ex...  \n100295  D:\\_eBooks 電子書 Excel + VBA\\Excel VBA 工作效率UP！Ex...  \n100296  D:\\_eBooks 電子書 Excel + VBA\\Excel VBA 工作效率UP！Ex...  \n100297  D:\\_eBooks 電子書 Excel + VBA\\Excel VBA 工作效率UP！Ex...  \n100298  D:\\_eBooks 電子書 Excel + VBA\\Excel VBA 工作效率UP！Ex...  \n100299  D:\\_eBooks 電子書 Excel + VBA\\Excel VBA 工作效率UP！Ex...  \n100300  D:\\_eBooks 電子書 Excel + VBA\\Excel VBA 工作效率UP！Ex...  \n100301  D:\\_eBooks 電子書 Excel + VBA\\Excel VBA 工作效率UP！Ex...  \n100302  D:\\_eBooks 電子書 Excel + VBA\\Excel VBA 工作效率UP！Ex...  \n231767  D:\\_eBooks 電子書 Excel + VBA\\Excel VBA 工作效率UP！Ex...  ",
      "text/html": "<div>\n<style scoped>\n    .dataframe tbody tr th:only-of-type {\n        vertical-align: middle;\n    }\n\n    .dataframe tbody tr th {\n        vertical-align: top;\n    }\n\n    .dataframe thead th {\n        text-align: right;\n    }\n</style>\n<table border=\"1\" class=\"dataframe\">\n  <thead>\n    <tr style=\"text-align: right;\">\n      <th></th>\n      <th>檔案類型</th>\n      <th>檔案名稱</th>\n      <th>檔案資料夾</th>\n      <th>路徑</th>\n      <th>完整路徑</th>\n    </tr>\n  </thead>\n  <tbody>\n    <tr>\n      <th>100294</th>\n      <td>.jpg</td>\n      <td>Anthurium.jpg</td>\n      <td>.Thumbnails</td>\n      <td>D:\\_eBooks 電子書 Excel + VBA\\Excel VBA 工作效率UP！Ex...</td>\n      <td>D:\\_eBooks 電子書 Excel + VBA\\Excel VBA 工作效率UP！Ex...</td>\n    </tr>\n    <tr>\n      <th>100295</th>\n      <td>.jpg</td>\n      <td>Bird Of Paradise.jpg</td>\n      <td>.Thumbnails</td>\n      <td>D:\\_eBooks 電子書 Excel + VBA\\Excel VBA 工作效率UP！Ex...</td>\n      <td>D:\\_eBooks 電子書 Excel + VBA\\Excel VBA 工作效率UP！Ex...</td>\n    </tr>\n    <tr>\n      <th>100296</th>\n      <td>.jpg</td>\n      <td>Daffodil.jpg</td>\n      <td>.Thumbnails</td>\n      <td>D:\\_eBooks 電子書 Excel + VBA\\Excel VBA 工作效率UP！Ex...</td>\n      <td>D:\\_eBooks 電子書 Excel + VBA\\Excel VBA 工作效率UP！Ex...</td>\n    </tr>\n    <tr>\n      <th>100297</th>\n      <td>.jpg</td>\n      <td>Gloriosa Lily.jpg</td>\n      <td>.Thumbnails</td>\n      <td>D:\\_eBooks 電子書 Excel + VBA\\Excel VBA 工作效率UP！Ex...</td>\n      <td>D:\\_eBooks 電子書 Excel + VBA\\Excel VBA 工作效率UP！Ex...</td>\n    </tr>\n    <tr>\n      <th>100298</th>\n      <td>.jpg</td>\n      <td>Phalaenopsis Orchid.jpg</td>\n      <td>.Thumbnails</td>\n      <td>D:\\_eBooks 電子書 Excel + VBA\\Excel VBA 工作效率UP！Ex...</td>\n      <td>D:\\_eBooks 電子書 Excel + VBA\\Excel VBA 工作效率UP！Ex...</td>\n    </tr>\n    <tr>\n      <th>100299</th>\n      <td>.jpg</td>\n      <td>Protea.jpg</td>\n      <td>.Thumbnails</td>\n      <td>D:\\_eBooks 電子書 Excel + VBA\\Excel VBA 工作效率UP！Ex...</td>\n      <td>D:\\_eBooks 電子書 Excel + VBA\\Excel VBA 工作效率UP！Ex...</td>\n    </tr>\n    <tr>\n      <th>100300</th>\n      <td>.jpg</td>\n      <td>Stephanotis.jpg</td>\n      <td>.Thumbnails</td>\n      <td>D:\\_eBooks 電子書 Excel + VBA\\Excel VBA 工作效率UP！Ex...</td>\n      <td>D:\\_eBooks 電子書 Excel + VBA\\Excel VBA 工作效率UP！Ex...</td>\n    </tr>\n    <tr>\n      <th>100301</th>\n      <td>.jpg</td>\n      <td>Sunflower.jpg</td>\n      <td>.Thumbnails</td>\n      <td>D:\\_eBooks 電子書 Excel + VBA\\Excel VBA 工作效率UP！Ex...</td>\n      <td>D:\\_eBooks 電子書 Excel + VBA\\Excel VBA 工作效率UP！Ex...</td>\n    </tr>\n    <tr>\n      <th>100302</th>\n      <td>.jpg</td>\n      <td>Tulip.jpg</td>\n      <td>.Thumbnails</td>\n      <td>D:\\_eBooks 電子書 Excel + VBA\\Excel VBA 工作效率UP！Ex...</td>\n      <td>D:\\_eBooks 電子書 Excel + VBA\\Excel VBA 工作效率UP！Ex...</td>\n    </tr>\n    <tr>\n      <th>231767</th>\n      <td>.db</td>\n      <td>Thumbs.db</td>\n      <td>.Thumbnails</td>\n      <td>D:\\_eBooks 電子書 Excel + VBA\\Excel VBA 工作效率UP！Ex...</td>\n      <td>D:\\_eBooks 電子書 Excel + VBA\\Excel VBA 工作效率UP！Ex...</td>\n    </tr>\n  </tbody>\n</table>\n</div>"
     },
     "execution_count": 38,
     "metadata": {},
     "output_type": "execute_result"
    }
   ],
   "source": [
    "if filter == 'left_only':\n",
    "    get_frame = d_by_folder.get_group(left.iloc[0]['檔案資料夾'])\n",
    "elif filter == 'right_only':\n",
    "    get_frame = z_by_folder.get_group(left.iloc[0]['檔案資料夾'])\n",
    "else:\n",
    "    get_dframe = None\n",
    "get_dframe"
   ],
   "metadata": {
    "collapsed": false,
    "pycharm": {
     "name": "#%%\n"
    }
   }
  },
  {
   "cell_type": "code",
   "execution_count": 39,
   "outputs": [
    {
     "name": "stderr",
     "output_type": "stream",
     "text": [
      "c:\\users\\alvinlin\\appdata\\local\\programs\\python\\python37\\lib\\site-packages\\ipykernel_launcher.py:1: SettingWithCopyWarning: \n",
      "A value is trying to be set on a copy of a slice from a DataFrame.\n",
      "Try using .loc[row_indexer,col_indexer] = value instead\n",
      "\n",
      "See the caveats in the documentation: https://pandas.pydata.org/pandas-docs/stable/user_guide/indexing.html#returning-a-view-versus-a-copy\n",
      "  \"\"\"Entry point for launching an IPython kernel.\n"
     ]
    },
    {
     "data": {
      "text/plain": "        檔案類型                     檔案名稱        檔案資料夾  \\\n100294  .jpg            Anthurium.jpg  .Thumbnails   \n100295  .jpg     Bird Of Paradise.jpg  .Thumbnails   \n100296  .jpg             Daffodil.jpg  .Thumbnails   \n100297  .jpg        Gloriosa Lily.jpg  .Thumbnails   \n100298  .jpg  Phalaenopsis Orchid.jpg  .Thumbnails   \n100299  .jpg               Protea.jpg  .Thumbnails   \n100300  .jpg          Stephanotis.jpg  .Thumbnails   \n100301  .jpg            Sunflower.jpg  .Thumbnails   \n100302  .jpg                Tulip.jpg  .Thumbnails   \n231767   .db                Thumbs.db  .Thumbnails   \n\n                                                       路徑  \\\n100294  D:\\_eBooks 電子書 Excel + VBA\\Excel VBA 工作效率UP！Ex...   \n100295  D:\\_eBooks 電子書 Excel + VBA\\Excel VBA 工作效率UP！Ex...   \n100296  D:\\_eBooks 電子書 Excel + VBA\\Excel VBA 工作效率UP！Ex...   \n100297  D:\\_eBooks 電子書 Excel + VBA\\Excel VBA 工作效率UP！Ex...   \n100298  D:\\_eBooks 電子書 Excel + VBA\\Excel VBA 工作效率UP！Ex...   \n100299  D:\\_eBooks 電子書 Excel + VBA\\Excel VBA 工作效率UP！Ex...   \n100300  D:\\_eBooks 電子書 Excel + VBA\\Excel VBA 工作效率UP！Ex...   \n100301  D:\\_eBooks 電子書 Excel + VBA\\Excel VBA 工作效率UP！Ex...   \n100302  D:\\_eBooks 電子書 Excel + VBA\\Excel VBA 工作效率UP！Ex...   \n231767  D:\\_eBooks 電子書 Excel + VBA\\Excel VBA 工作效率UP！Ex...   \n\n                                                     完整路徑  索引  \n100294  D:\\_eBooks 電子書 Excel + VBA\\Excel VBA 工作效率UP！Ex...   1  \n100295  D:\\_eBooks 電子書 Excel + VBA\\Excel VBA 工作效率UP！Ex...   1  \n100296  D:\\_eBooks 電子書 Excel + VBA\\Excel VBA 工作效率UP！Ex...   1  \n100297  D:\\_eBooks 電子書 Excel + VBA\\Excel VBA 工作效率UP！Ex...   1  \n100298  D:\\_eBooks 電子書 Excel + VBA\\Excel VBA 工作效率UP！Ex...   1  \n100299  D:\\_eBooks 電子書 Excel + VBA\\Excel VBA 工作效率UP！Ex...   1  \n100300  D:\\_eBooks 電子書 Excel + VBA\\Excel VBA 工作效率UP！Ex...   1  \n100301  D:\\_eBooks 電子書 Excel + VBA\\Excel VBA 工作效率UP！Ex...   1  \n100302  D:\\_eBooks 電子書 Excel + VBA\\Excel VBA 工作效率UP！Ex...   1  \n231767  D:\\_eBooks 電子書 Excel + VBA\\Excel VBA 工作效率UP！Ex...   1  ",
      "text/html": "<div>\n<style scoped>\n    .dataframe tbody tr th:only-of-type {\n        vertical-align: middle;\n    }\n\n    .dataframe tbody tr th {\n        vertical-align: top;\n    }\n\n    .dataframe thead th {\n        text-align: right;\n    }\n</style>\n<table border=\"1\" class=\"dataframe\">\n  <thead>\n    <tr style=\"text-align: right;\">\n      <th></th>\n      <th>檔案類型</th>\n      <th>檔案名稱</th>\n      <th>檔案資料夾</th>\n      <th>路徑</th>\n      <th>完整路徑</th>\n      <th>索引</th>\n    </tr>\n  </thead>\n  <tbody>\n    <tr>\n      <th>100294</th>\n      <td>.jpg</td>\n      <td>Anthurium.jpg</td>\n      <td>.Thumbnails</td>\n      <td>D:\\_eBooks 電子書 Excel + VBA\\Excel VBA 工作效率UP！Ex...</td>\n      <td>D:\\_eBooks 電子書 Excel + VBA\\Excel VBA 工作效率UP！Ex...</td>\n      <td>1</td>\n    </tr>\n    <tr>\n      <th>100295</th>\n      <td>.jpg</td>\n      <td>Bird Of Paradise.jpg</td>\n      <td>.Thumbnails</td>\n      <td>D:\\_eBooks 電子書 Excel + VBA\\Excel VBA 工作效率UP！Ex...</td>\n      <td>D:\\_eBooks 電子書 Excel + VBA\\Excel VBA 工作效率UP！Ex...</td>\n      <td>1</td>\n    </tr>\n    <tr>\n      <th>100296</th>\n      <td>.jpg</td>\n      <td>Daffodil.jpg</td>\n      <td>.Thumbnails</td>\n      <td>D:\\_eBooks 電子書 Excel + VBA\\Excel VBA 工作效率UP！Ex...</td>\n      <td>D:\\_eBooks 電子書 Excel + VBA\\Excel VBA 工作效率UP！Ex...</td>\n      <td>1</td>\n    </tr>\n    <tr>\n      <th>100297</th>\n      <td>.jpg</td>\n      <td>Gloriosa Lily.jpg</td>\n      <td>.Thumbnails</td>\n      <td>D:\\_eBooks 電子書 Excel + VBA\\Excel VBA 工作效率UP！Ex...</td>\n      <td>D:\\_eBooks 電子書 Excel + VBA\\Excel VBA 工作效率UP！Ex...</td>\n      <td>1</td>\n    </tr>\n    <tr>\n      <th>100298</th>\n      <td>.jpg</td>\n      <td>Phalaenopsis Orchid.jpg</td>\n      <td>.Thumbnails</td>\n      <td>D:\\_eBooks 電子書 Excel + VBA\\Excel VBA 工作效率UP！Ex...</td>\n      <td>D:\\_eBooks 電子書 Excel + VBA\\Excel VBA 工作效率UP！Ex...</td>\n      <td>1</td>\n    </tr>\n    <tr>\n      <th>100299</th>\n      <td>.jpg</td>\n      <td>Protea.jpg</td>\n      <td>.Thumbnails</td>\n      <td>D:\\_eBooks 電子書 Excel + VBA\\Excel VBA 工作效率UP！Ex...</td>\n      <td>D:\\_eBooks 電子書 Excel + VBA\\Excel VBA 工作效率UP！Ex...</td>\n      <td>1</td>\n    </tr>\n    <tr>\n      <th>100300</th>\n      <td>.jpg</td>\n      <td>Stephanotis.jpg</td>\n      <td>.Thumbnails</td>\n      <td>D:\\_eBooks 電子書 Excel + VBA\\Excel VBA 工作效率UP！Ex...</td>\n      <td>D:\\_eBooks 電子書 Excel + VBA\\Excel VBA 工作效率UP！Ex...</td>\n      <td>1</td>\n    </tr>\n    <tr>\n      <th>100301</th>\n      <td>.jpg</td>\n      <td>Sunflower.jpg</td>\n      <td>.Thumbnails</td>\n      <td>D:\\_eBooks 電子書 Excel + VBA\\Excel VBA 工作效率UP！Ex...</td>\n      <td>D:\\_eBooks 電子書 Excel + VBA\\Excel VBA 工作效率UP！Ex...</td>\n      <td>1</td>\n    </tr>\n    <tr>\n      <th>100302</th>\n      <td>.jpg</td>\n      <td>Tulip.jpg</td>\n      <td>.Thumbnails</td>\n      <td>D:\\_eBooks 電子書 Excel + VBA\\Excel VBA 工作效率UP！Ex...</td>\n      <td>D:\\_eBooks 電子書 Excel + VBA\\Excel VBA 工作效率UP！Ex...</td>\n      <td>1</td>\n    </tr>\n    <tr>\n      <th>231767</th>\n      <td>.db</td>\n      <td>Thumbs.db</td>\n      <td>.Thumbnails</td>\n      <td>D:\\_eBooks 電子書 Excel + VBA\\Excel VBA 工作效率UP！Ex...</td>\n      <td>D:\\_eBooks 電子書 Excel + VBA\\Excel VBA 工作效率UP！Ex...</td>\n      <td>1</td>\n    </tr>\n  </tbody>\n</table>\n</div>"
     },
     "execution_count": 39,
     "metadata": {},
     "output_type": "execute_result"
    }
   ],
   "source": [
    "get_dframe['索引'] = index\n",
    "get_dframe"
   ],
   "metadata": {
    "collapsed": false,
    "pycharm": {
     "name": "#%%\n"
    }
   }
  },
  {
   "cell_type": "code",
   "execution_count": 40,
   "outputs": [
    {
     "data": {
      "text/plain": "    檔案類型                     檔案名稱        檔案資料夾  \\\n索引                                               \n1   .jpg            Anthurium.jpg  .Thumbnails   \n1   .jpg     Bird Of Paradise.jpg  .Thumbnails   \n1   .jpg             Daffodil.jpg  .Thumbnails   \n1   .jpg        Gloriosa Lily.jpg  .Thumbnails   \n1   .jpg  Phalaenopsis Orchid.jpg  .Thumbnails   \n1   .jpg               Protea.jpg  .Thumbnails   \n1   .jpg          Stephanotis.jpg  .Thumbnails   \n1   .jpg            Sunflower.jpg  .Thumbnails   \n1   .jpg                Tulip.jpg  .Thumbnails   \n1    .db                Thumbs.db  .Thumbnails   \n\n                                                   路徑  \\\n索引                                                      \n1   D:\\_eBooks 電子書 Excel + VBA\\Excel VBA 工作效率UP！Ex...   \n1   D:\\_eBooks 電子書 Excel + VBA\\Excel VBA 工作效率UP！Ex...   \n1   D:\\_eBooks 電子書 Excel + VBA\\Excel VBA 工作效率UP！Ex...   \n1   D:\\_eBooks 電子書 Excel + VBA\\Excel VBA 工作效率UP！Ex...   \n1   D:\\_eBooks 電子書 Excel + VBA\\Excel VBA 工作效率UP！Ex...   \n1   D:\\_eBooks 電子書 Excel + VBA\\Excel VBA 工作效率UP！Ex...   \n1   D:\\_eBooks 電子書 Excel + VBA\\Excel VBA 工作效率UP！Ex...   \n1   D:\\_eBooks 電子書 Excel + VBA\\Excel VBA 工作效率UP！Ex...   \n1   D:\\_eBooks 電子書 Excel + VBA\\Excel VBA 工作效率UP！Ex...   \n1   D:\\_eBooks 電子書 Excel + VBA\\Excel VBA 工作效率UP！Ex...   \n\n                                                 完整路徑  \n索引                                                     \n1   D:\\_eBooks 電子書 Excel + VBA\\Excel VBA 工作效率UP！Ex...  \n1   D:\\_eBooks 電子書 Excel + VBA\\Excel VBA 工作效率UP！Ex...  \n1   D:\\_eBooks 電子書 Excel + VBA\\Excel VBA 工作效率UP！Ex...  \n1   D:\\_eBooks 電子書 Excel + VBA\\Excel VBA 工作效率UP！Ex...  \n1   D:\\_eBooks 電子書 Excel + VBA\\Excel VBA 工作效率UP！Ex...  \n1   D:\\_eBooks 電子書 Excel + VBA\\Excel VBA 工作效率UP！Ex...  \n1   D:\\_eBooks 電子書 Excel + VBA\\Excel VBA 工作效率UP！Ex...  \n1   D:\\_eBooks 電子書 Excel + VBA\\Excel VBA 工作效率UP！Ex...  \n1   D:\\_eBooks 電子書 Excel + VBA\\Excel VBA 工作效率UP！Ex...  \n1   D:\\_eBooks 電子書 Excel + VBA\\Excel VBA 工作效率UP！Ex...  ",
      "text/html": "<div>\n<style scoped>\n    .dataframe tbody tr th:only-of-type {\n        vertical-align: middle;\n    }\n\n    .dataframe tbody tr th {\n        vertical-align: top;\n    }\n\n    .dataframe thead th {\n        text-align: right;\n    }\n</style>\n<table border=\"1\" class=\"dataframe\">\n  <thead>\n    <tr style=\"text-align: right;\">\n      <th></th>\n      <th>檔案類型</th>\n      <th>檔案名稱</th>\n      <th>檔案資料夾</th>\n      <th>路徑</th>\n      <th>完整路徑</th>\n    </tr>\n    <tr>\n      <th>索引</th>\n      <th></th>\n      <th></th>\n      <th></th>\n      <th></th>\n      <th></th>\n    </tr>\n  </thead>\n  <tbody>\n    <tr>\n      <th>1</th>\n      <td>.jpg</td>\n      <td>Anthurium.jpg</td>\n      <td>.Thumbnails</td>\n      <td>D:\\_eBooks 電子書 Excel + VBA\\Excel VBA 工作效率UP！Ex...</td>\n      <td>D:\\_eBooks 電子書 Excel + VBA\\Excel VBA 工作效率UP！Ex...</td>\n    </tr>\n    <tr>\n      <th>1</th>\n      <td>.jpg</td>\n      <td>Bird Of Paradise.jpg</td>\n      <td>.Thumbnails</td>\n      <td>D:\\_eBooks 電子書 Excel + VBA\\Excel VBA 工作效率UP！Ex...</td>\n      <td>D:\\_eBooks 電子書 Excel + VBA\\Excel VBA 工作效率UP！Ex...</td>\n    </tr>\n    <tr>\n      <th>1</th>\n      <td>.jpg</td>\n      <td>Daffodil.jpg</td>\n      <td>.Thumbnails</td>\n      <td>D:\\_eBooks 電子書 Excel + VBA\\Excel VBA 工作效率UP！Ex...</td>\n      <td>D:\\_eBooks 電子書 Excel + VBA\\Excel VBA 工作效率UP！Ex...</td>\n    </tr>\n    <tr>\n      <th>1</th>\n      <td>.jpg</td>\n      <td>Gloriosa Lily.jpg</td>\n      <td>.Thumbnails</td>\n      <td>D:\\_eBooks 電子書 Excel + VBA\\Excel VBA 工作效率UP！Ex...</td>\n      <td>D:\\_eBooks 電子書 Excel + VBA\\Excel VBA 工作效率UP！Ex...</td>\n    </tr>\n    <tr>\n      <th>1</th>\n      <td>.jpg</td>\n      <td>Phalaenopsis Orchid.jpg</td>\n      <td>.Thumbnails</td>\n      <td>D:\\_eBooks 電子書 Excel + VBA\\Excel VBA 工作效率UP！Ex...</td>\n      <td>D:\\_eBooks 電子書 Excel + VBA\\Excel VBA 工作效率UP！Ex...</td>\n    </tr>\n    <tr>\n      <th>1</th>\n      <td>.jpg</td>\n      <td>Protea.jpg</td>\n      <td>.Thumbnails</td>\n      <td>D:\\_eBooks 電子書 Excel + VBA\\Excel VBA 工作效率UP！Ex...</td>\n      <td>D:\\_eBooks 電子書 Excel + VBA\\Excel VBA 工作效率UP！Ex...</td>\n    </tr>\n    <tr>\n      <th>1</th>\n      <td>.jpg</td>\n      <td>Stephanotis.jpg</td>\n      <td>.Thumbnails</td>\n      <td>D:\\_eBooks 電子書 Excel + VBA\\Excel VBA 工作效率UP！Ex...</td>\n      <td>D:\\_eBooks 電子書 Excel + VBA\\Excel VBA 工作效率UP！Ex...</td>\n    </tr>\n    <tr>\n      <th>1</th>\n      <td>.jpg</td>\n      <td>Sunflower.jpg</td>\n      <td>.Thumbnails</td>\n      <td>D:\\_eBooks 電子書 Excel + VBA\\Excel VBA 工作效率UP！Ex...</td>\n      <td>D:\\_eBooks 電子書 Excel + VBA\\Excel VBA 工作效率UP！Ex...</td>\n    </tr>\n    <tr>\n      <th>1</th>\n      <td>.jpg</td>\n      <td>Tulip.jpg</td>\n      <td>.Thumbnails</td>\n      <td>D:\\_eBooks 電子書 Excel + VBA\\Excel VBA 工作效率UP！Ex...</td>\n      <td>D:\\_eBooks 電子書 Excel + VBA\\Excel VBA 工作效率UP！Ex...</td>\n    </tr>\n    <tr>\n      <th>1</th>\n      <td>.db</td>\n      <td>Thumbs.db</td>\n      <td>.Thumbnails</td>\n      <td>D:\\_eBooks 電子書 Excel + VBA\\Excel VBA 工作效率UP！Ex...</td>\n      <td>D:\\_eBooks 電子書 Excel + VBA\\Excel VBA 工作效率UP！Ex...</td>\n    </tr>\n  </tbody>\n</table>\n</div>"
     },
     "execution_count": 40,
     "metadata": {},
     "output_type": "execute_result"
    }
   ],
   "source": [
    "get_dframe.set_index('索引', drop=True, inplace=True)\n",
    "get_dframe"
   ],
   "metadata": {
    "collapsed": false,
    "pycharm": {
     "name": "#%%\n"
    }
   }
  },
  {
   "cell_type": "code",
   "execution_count": null,
   "outputs": [],
   "source": [],
   "metadata": {
    "collapsed": false,
    "pycharm": {
     "name": "#%%\n"
    }
   }
  }
 ],
 "metadata": {
  "kernelspec": {
   "display_name": "Python 3",
   "language": "python",
   "name": "python3"
  },
  "language_info": {
   "codemirror_mode": {
    "name": "ipython",
    "version": 3
   },
   "file_extension": ".py",
   "mimetype": "text/x-python",
   "name": "python",
   "nbconvert_exporter": "python",
   "pygments_lexer": "ipython3",
   "version": "3.7.9"
  }
 },
 "nbformat": 4,
 "nbformat_minor": 0
}