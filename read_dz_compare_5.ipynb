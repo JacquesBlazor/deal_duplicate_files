{
 "cells": [
  {
   "cell_type": "code",
   "execution_count": 1,
   "metadata": {
    "collapsed": false,
    "pycharm": {
     "name": "#%%\n"
    }
   },
   "outputs": [],
   "source": [
    "import os\n",
    "import pandas as pd"
   ]
  },
  {
   "cell_type": "code",
   "execution_count": 2,
   "outputs": [],
   "source": [
    "dfd = pd.read_csv('./compare_dz/.comp_backup/d_drive_file_list.csv')\n",
    "dfd.drop(['Unnamed: 0'], axis=1, inplace=True)\n",
    "dfd = dfd[['檔案資料夾', '檔案名稱', '完整路徑', '檔案類型', '路徑']]"
   ],
   "metadata": {
    "collapsed": false,
    "pycharm": {
     "name": "#%%\n"
    }
   }
  },
  {
   "cell_type": "code",
   "execution_count": 3,
   "outputs": [],
   "source": [
    "dfz = pd.read_csv('./compare_dz/.comp_backup/z_drive_file_list.csv')\n",
    "dfz.drop(['Unnamed: 0'], axis=1, inplace=True)\n",
    "dfz = dfz[['檔案資料夾', '檔案名稱', '完整路徑', '檔案類型', '路徑']]"
   ],
   "metadata": {
    "collapsed": false,
    "pycharm": {
     "name": "#%%\n"
    }
   }
  },
  {
   "cell_type": "code",
   "execution_count": 4,
   "outputs": [],
   "source": [
    "check_str = '建立對話式體驗'"
   ],
   "metadata": {
    "collapsed": false,
    "pycharm": {
     "name": "#%%\n"
    }
   }
  },
  {
   "cell_type": "code",
   "execution_count": 5,
   "outputs": [
    {
     "name": "stdout",
     "output_type": "stream",
     "text": [
      "path 無法開啟:  Z:\\資訊書籍文件\\AI bot 設計聊天機器人 建立對話式體驗\\\n"
     ]
    }
   ],
   "source": [
    "if dfz[dfz['完整路徑'].str.contains(check_str)].any:\n",
    "    path_lists = list(dfz[dfz['完整路徑'].str.contains(check_str)]['路徑'].unique())\n",
    "    path_lists.sort()\n",
    "    path_lists = [p for p in path_lists if (not '-' in p and not '_' in p)]\n",
    "    if not path_lists:\n",
    "        print('沒有找到!')\n",
    "    else:\n",
    "        for count, path in enumerate(path_lists):\n",
    "            try:\n",
    "                if count < 3:\n",
    "                    os.startfile(path)\n",
    "            except Exception as e:\n",
    "                print('path 無法開啟: ', path)\n",
    "                continue\n",
    "            print('path:', path)"
   ],
   "metadata": {
    "collapsed": false,
    "pycharm": {
     "name": "#%%\n"
    }
   }
  },
  {
   "cell_type": "code",
   "execution_count": 6,
   "outputs": [
    {
     "name": "stdout",
     "output_type": "stream",
     "text": [
      "path: D:\\_eBooks 電子書 AI & BigData\\AI bot 設計聊天機器人 建立對話式體驗\\\n",
      "path: D:\\_eBooks 電子書 LINE+聊天機器人\\\n"
     ]
    }
   ],
   "source": [
    "if dfd[dfd['完整路徑'].str.contains(check_str)].any:\n",
    "    path_lists = list(dfd[dfd['完整路徑'].str.contains(check_str)]['路徑'].unique())\n",
    "    path_lists.sort()\n",
    "    path_lists = [p for p in path_lists if (not '-' in p[4:] and not '_' in p[4:])]\n",
    "    if not path_lists:\n",
    "        print('沒有找到!')\n",
    "    else:\n",
    "        for count, path in enumerate(path_lists):\n",
    "            try:\n",
    "                if count < 3:\n",
    "                    os.startfile(path)\n",
    "            except Exception as e:\n",
    "                print('path 無法開啟: ', path)\n",
    "                continue\n",
    "            print('path:', path)"
   ],
   "metadata": {
    "collapsed": false,
    "pycharm": {
     "name": "#%%\n"
    }
   }
  },
  {
   "cell_type": "code",
   "execution_count": null,
   "outputs": [],
   "source": [],
   "metadata": {
    "collapsed": false,
    "pycharm": {
     "name": "#%%\n"
    }
   }
  }
 ],
 "metadata": {
  "kernelspec": {
   "display_name": "Python 3",
   "language": "python",
   "name": "python3"
  },
  "language_info": {
   "codemirror_mode": {
    "name": "ipython",
    "version": 3
   },
   "file_extension": ".py",
   "mimetype": "text/x-python",
   "name": "python",
   "nbconvert_exporter": "python",
   "pygments_lexer": "ipython3",
   "version": "3.7.9"
  }
 },
 "nbformat": 4,
 "nbformat_minor": 0
}